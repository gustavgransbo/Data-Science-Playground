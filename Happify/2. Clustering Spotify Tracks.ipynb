{
 "cells": [
  {
   "cell_type": "markdown",
   "metadata": {},
   "source": [
    "# Introduction\n",
    "In `1. Exploring Spotify Track Data` I fetched Spotify track data using their Web API and did some exploratory data analysis. \n",
    "The tracks are fetched from two of my Daily mixes, one with American hiphop and one with Swedish pop.\n",
    "\n",
    "In this notebook I intend to try out some clustering methods!"
   ]
  },
  {
   "cell_type": "markdown",
   "metadata": {},
   "source": [
    "# Load the data"
   ]
  },
  {
   "cell_type": "code",
   "execution_count": 237,
   "metadata": {
    "collapsed": true
   },
   "outputs": [],
   "source": [
    "import pandas as pd\n",
    "import numpy as np\n",
    "import matplotlib.pyplot as plt\n",
    "import seaborn as sns\n",
    "sns.set()\n",
    "%matplotlib inline"
   ]
  },
  {
   "cell_type": "code",
   "execution_count": 65,
   "metadata": {
    "collapsed": true
   },
   "outputs": [],
   "source": [
    "track_feature_df = pd.read_pickle('track_audio_features.pkl')"
   ]
  },
  {
   "cell_type": "code",
   "execution_count": 66,
   "metadata": {},
   "outputs": [
    {
     "data": {
      "text/html": [
       "<div>\n",
       "<style>\n",
       "    .dataframe thead tr:only-child th {\n",
       "        text-align: right;\n",
       "    }\n",
       "\n",
       "    .dataframe thead th {\n",
       "        text-align: left;\n",
       "    }\n",
       "\n",
       "    .dataframe tbody tr th {\n",
       "        vertical-align: top;\n",
       "    }\n",
       "</style>\n",
       "<table border=\"1\" class=\"dataframe\">\n",
       "  <thead>\n",
       "    <tr style=\"text-align: right;\">\n",
       "      <th></th>\n",
       "      <th>album</th>\n",
       "      <th>artists</th>\n",
       "      <th>name</th>\n",
       "      <th>playlist</th>\n",
       "      <th>acousticness</th>\n",
       "      <th>danceability</th>\n",
       "      <th>duration_ms</th>\n",
       "      <th>energy</th>\n",
       "      <th>instrumentalness</th>\n",
       "      <th>key</th>\n",
       "      <th>liveness</th>\n",
       "      <th>loudness</th>\n",
       "      <th>mode</th>\n",
       "      <th>speechiness</th>\n",
       "      <th>tempo</th>\n",
       "      <th>time_signature</th>\n",
       "      <th>uri</th>\n",
       "      <th>valence</th>\n",
       "    </tr>\n",
       "  </thead>\n",
       "  <tbody>\n",
       "    <tr>\n",
       "      <th>0</th>\n",
       "      <td>Snart Skiner Poseidon</td>\n",
       "      <td>[Joel Alme]</td>\n",
       "      <td>Snart Skiner Poseidon</td>\n",
       "      <td>Swedish Pop</td>\n",
       "      <td>0.828000</td>\n",
       "      <td>0.253</td>\n",
       "      <td>178978</td>\n",
       "      <td>0.482</td>\n",
       "      <td>0.000004</td>\n",
       "      <td>D</td>\n",
       "      <td>0.1530</td>\n",
       "      <td>-5.220</td>\n",
       "      <td>Major</td>\n",
       "      <td>0.0306</td>\n",
       "      <td>140.507</td>\n",
       "      <td>3</td>\n",
       "      <td>spotify:track:2eljaMe4nUwA2vqdzVV8FX</td>\n",
       "      <td>0.3490</td>\n",
       "    </tr>\n",
       "    <tr>\n",
       "      <th>1</th>\n",
       "      <td>Svart, vitt och allt däremellan</td>\n",
       "      <td>[Daniel Adams-Ray]</td>\n",
       "      <td>Vitt</td>\n",
       "      <td>Swedish Pop</td>\n",
       "      <td>0.485000</td>\n",
       "      <td>0.561</td>\n",
       "      <td>280653</td>\n",
       "      <td>0.666</td>\n",
       "      <td>0.004750</td>\n",
       "      <td>G</td>\n",
       "      <td>0.1270</td>\n",
       "      <td>-7.879</td>\n",
       "      <td>Major</td>\n",
       "      <td>0.0376</td>\n",
       "      <td>109.981</td>\n",
       "      <td>4</td>\n",
       "      <td>spotify:track:41L7xlhy4S63YFzBhJOlNU</td>\n",
       "      <td>0.3540</td>\n",
       "    </tr>\n",
       "    <tr>\n",
       "      <th>2</th>\n",
       "      <td>Kom hem som nån annan</td>\n",
       "      <td>[Emil Jensen]</td>\n",
       "      <td>Längs hörnen</td>\n",
       "      <td>Swedish Pop</td>\n",
       "      <td>0.853000</td>\n",
       "      <td>0.400</td>\n",
       "      <td>260600</td>\n",
       "      <td>0.371</td>\n",
       "      <td>0.000686</td>\n",
       "      <td>C</td>\n",
       "      <td>0.3280</td>\n",
       "      <td>-11.405</td>\n",
       "      <td>Minor</td>\n",
       "      <td>0.0387</td>\n",
       "      <td>157.795</td>\n",
       "      <td>4</td>\n",
       "      <td>spotify:track:2Q8yH8RdEMLR56z9seHTjT</td>\n",
       "      <td>0.0899</td>\n",
       "    </tr>\n",
       "    <tr>\n",
       "      <th>3</th>\n",
       "      <td>Pantamera</td>\n",
       "      <td>[Familjen]</td>\n",
       "      <td>Pantamera</td>\n",
       "      <td>Swedish Pop</td>\n",
       "      <td>0.000836</td>\n",
       "      <td>0.674</td>\n",
       "      <td>135000</td>\n",
       "      <td>0.865</td>\n",
       "      <td>0.002720</td>\n",
       "      <td>C</td>\n",
       "      <td>0.1650</td>\n",
       "      <td>-6.496</td>\n",
       "      <td>Major</td>\n",
       "      <td>0.0464</td>\n",
       "      <td>128.046</td>\n",
       "      <td>4</td>\n",
       "      <td>spotify:track:7I6yrk52OAtrGhjFhNhtrt</td>\n",
       "      <td>0.8260</td>\n",
       "    </tr>\n",
       "    <tr>\n",
       "      <th>4</th>\n",
       "      <td>...And Then There Was Timo</td>\n",
       "      <td>[Timo Räisänen]</td>\n",
       "      <td>Creep</td>\n",
       "      <td>Swedish Pop</td>\n",
       "      <td>0.475000</td>\n",
       "      <td>0.351</td>\n",
       "      <td>194400</td>\n",
       "      <td>0.328</td>\n",
       "      <td>0.000000</td>\n",
       "      <td>G</td>\n",
       "      <td>0.0963</td>\n",
       "      <td>-7.606</td>\n",
       "      <td>Major</td>\n",
       "      <td>0.0335</td>\n",
       "      <td>104.426</td>\n",
       "      <td>1</td>\n",
       "      <td>spotify:track:4mdnleRe8GwP81gGWjolU6</td>\n",
       "      <td>0.0742</td>\n",
       "    </tr>\n",
       "  </tbody>\n",
       "</table>\n",
       "</div>"
      ],
      "text/plain": [
       "                             album             artists                   name  \\\n",
       "0            Snart Skiner Poseidon         [Joel Alme]  Snart Skiner Poseidon   \n",
       "1  Svart, vitt och allt däremellan  [Daniel Adams-Ray]                   Vitt   \n",
       "2            Kom hem som nån annan       [Emil Jensen]           Längs hörnen   \n",
       "3                        Pantamera          [Familjen]              Pantamera   \n",
       "4       ...And Then There Was Timo     [Timo Räisänen]                  Creep   \n",
       "\n",
       "      playlist  acousticness  danceability  duration_ms  energy  \\\n",
       "0  Swedish Pop      0.828000         0.253       178978   0.482   \n",
       "1  Swedish Pop      0.485000         0.561       280653   0.666   \n",
       "2  Swedish Pop      0.853000         0.400       260600   0.371   \n",
       "3  Swedish Pop      0.000836         0.674       135000   0.865   \n",
       "4  Swedish Pop      0.475000         0.351       194400   0.328   \n",
       "\n",
       "   instrumentalness key  liveness  loudness   mode  speechiness    tempo  \\\n",
       "0          0.000004   D    0.1530    -5.220  Major       0.0306  140.507   \n",
       "1          0.004750   G    0.1270    -7.879  Major       0.0376  109.981   \n",
       "2          0.000686   C    0.3280   -11.405  Minor       0.0387  157.795   \n",
       "3          0.002720   C    0.1650    -6.496  Major       0.0464  128.046   \n",
       "4          0.000000   G    0.0963    -7.606  Major       0.0335  104.426   \n",
       "\n",
       "   time_signature                                   uri  valence  \n",
       "0               3  spotify:track:2eljaMe4nUwA2vqdzVV8FX   0.3490  \n",
       "1               4  spotify:track:41L7xlhy4S63YFzBhJOlNU   0.3540  \n",
       "2               4  spotify:track:2Q8yH8RdEMLR56z9seHTjT   0.0899  \n",
       "3               4  spotify:track:7I6yrk52OAtrGhjFhNhtrt   0.8260  \n",
       "4               1  spotify:track:4mdnleRe8GwP81gGWjolU6   0.0742  "
      ]
     },
     "execution_count": 66,
     "metadata": {},
     "output_type": "execute_result"
    }
   ],
   "source": [
    "track_feature_df.head()"
   ]
  },
  {
   "cell_type": "markdown",
   "metadata": {},
   "source": [
    "# K-Means\n",
    "Let's start out with the basics.\n",
    "\n",
    "K-means crates K clusters based on distance in the feature space. \n",
    "This makes it important to normalise all features.\n",
    "Otherwise distances in one dimension will tend to be larger than another, making that dimension more influential.\n",
    "\n",
    "Also, categorical variables can't be used.\n",
    "This leaves me with three choices:<br><br>\n",
    "**Treat the categoricals as ordinals and normalize their range**<br>\n",
    "This has the major drawback of causing the distance between categoricals to vary depending on the new arbitrary order.\n",
    "Take the categrical `Key` for example.\n",
    "As mentioned in `1. Exploring Spotify Track Data` I don't want `C` to be treated as less than `G`, and I don't want `G` to be closer to `F` than `C`.\n",
    "It is true that the keys are ordered, but I do not think this order is meaningful valuable when analysing a track.\n",
    "<br><br>\n",
    "** One-hot encode the categoricals** <br>\n",
    "This would increase the number of dimensions by a lot, but most of these new dimensions would be 0. \n",
    "With the limited size of my data set, 95 track, the increase in number of dimensions wont be a problem in terms of added computational complexity.\n",
    "The real problem is in the discreteness of the one-hot encoded features.\n",
    "They are wither 0 or 1.\n",
    "When meassuring the distance between two points, they either share the same categorical or they do not.\n",
    "In the former case the  distance in that dimension will be 0, the very minimum, in the latter it is 1, the very maximum.\n",
    "I think this will make the categorical variables much to influential.\n",
    "<br><br>\n",
    "As a toy example, consider using only two features, Key and Valence.\n",
    "Lets measure the distance among three songs:\n",
    "* Song 1\n",
    "    * Key: C\n",
    "    * Valence: 0.9\n",
    "* Song 2\n",
    "    * Key: G\n",
    "    * Valence: 0.95\n",
    "* Song 3\n",
    "    * Key: G\n",
    "    * Valence: 0.1\n",
    "\n",
    "The pariwise distances among the songs would be calculated as:\n",
    "    \n",
    "|        | Song 1 | Song 2 | Song 3 |\n",
    "|--------|--------|--------|--------|\n",
    "| Song 1 |    0   |$$\\sqrt{1 + 0.05^2}$$|$$\\sqrt{1 + 0.8^2}$$|\n",
    "| Song 2 |$$\\sqrt{1 + 0.05^2}$$|   0    |$$\\sqrt{0 + 0.85^2}$$|\n",
    "| Song 3 |$$\\sqrt{1 + 0.8^2}$$|$$\\sqrt{0 + 0.85^2}$$|   0    |\n",
    "\n",
    "To me it would seem that Song 1 and Song 2 should be seens as more close, as they are very close in Valence, but the categorical key feature is dominating the distance calculation.\n",
    "Maybe this problem could be worked around by not setting the categoricals as [0, 1], but rather [0, x] with x as some smaller value, perhaps the mean value of all other features?\n",
    "<br><br>\n",
    "** Drop the categoricals** <br>\n",
    "Bam, the easy solution.\n",
    "The drawback is of course that I throw away information."
   ]
  },
  {
   "cell_type": "markdown",
   "metadata": {},
   "source": [
    "### Normalising the quantitative features"
   ]
  },
  {
   "cell_type": "code",
   "execution_count": 67,
   "metadata": {
    "collapsed": true
   },
   "outputs": [],
   "source": [
    "def minmax_scale(vec):\n",
    "    max_val = vec.max()\n",
    "    min_val = vec.min()\n",
    "    \n",
    "    return (vec - min_val) / (max_val - min_val)"
   ]
  },
  {
   "cell_type": "code",
   "execution_count": 68,
   "metadata": {
    "collapsed": true
   },
   "outputs": [],
   "source": [
    "quantitative_features = ['acousticness', 'danceability', 'energy', 'instrumentalness', 'liveness', 'speechiness', 'valence', 'loudness', 'tempo', 'duration_ms']"
   ]
  },
  {
   "cell_type": "code",
   "execution_count": 69,
   "metadata": {
    "collapsed": true
   },
   "outputs": [],
   "source": [
    "normalised_df = track_feature_df.copy()\n",
    "for col in quantitative_features:\n",
    "    normalised_df[col] = minmax_scale(normalised_df[col])"
   ]
  },
  {
   "cell_type": "code",
   "execution_count": 70,
   "metadata": {},
   "outputs": [
    {
     "data": {
      "text/html": [
       "<div>\n",
       "<style>\n",
       "    .dataframe thead tr:only-child th {\n",
       "        text-align: right;\n",
       "    }\n",
       "\n",
       "    .dataframe thead th {\n",
       "        text-align: left;\n",
       "    }\n",
       "\n",
       "    .dataframe tbody tr th {\n",
       "        vertical-align: top;\n",
       "    }\n",
       "</style>\n",
       "<table border=\"1\" class=\"dataframe\">\n",
       "  <thead>\n",
       "    <tr style=\"text-align: right;\">\n",
       "      <th></th>\n",
       "      <th>album</th>\n",
       "      <th>artists</th>\n",
       "      <th>name</th>\n",
       "      <th>playlist</th>\n",
       "      <th>acousticness</th>\n",
       "      <th>danceability</th>\n",
       "      <th>duration_ms</th>\n",
       "      <th>energy</th>\n",
       "      <th>instrumentalness</th>\n",
       "      <th>key</th>\n",
       "      <th>liveness</th>\n",
       "      <th>loudness</th>\n",
       "      <th>mode</th>\n",
       "      <th>speechiness</th>\n",
       "      <th>tempo</th>\n",
       "      <th>time_signature</th>\n",
       "      <th>uri</th>\n",
       "      <th>valence</th>\n",
       "    </tr>\n",
       "  </thead>\n",
       "  <tbody>\n",
       "    <tr>\n",
       "      <th>0</th>\n",
       "      <td>Snart Skiner Poseidon</td>\n",
       "      <td>[Joel Alme]</td>\n",
       "      <td>Snart Skiner Poseidon</td>\n",
       "      <td>Swedish Pop</td>\n",
       "      <td>0.843174</td>\n",
       "      <td>0.169607</td>\n",
       "      <td>0.35181</td>\n",
       "      <td>0.450055</td>\n",
       "      <td>0.000005</td>\n",
       "      <td>D</td>\n",
       "      <td>0.113516</td>\n",
       "      <td>0.837496</td>\n",
       "      <td>Major</td>\n",
       "      <td>0.009584</td>\n",
       "      <td>0.548811</td>\n",
       "      <td>3</td>\n",
       "      <td>spotify:track:2eljaMe4nUwA2vqdzVV8FX</td>\n",
       "      <td>0.328002</td>\n",
       "    </tr>\n",
       "  </tbody>\n",
       "</table>\n",
       "</div>"
      ],
      "text/plain": [
       "                   album      artists                   name     playlist  \\\n",
       "0  Snart Skiner Poseidon  [Joel Alme]  Snart Skiner Poseidon  Swedish Pop   \n",
       "\n",
       "   acousticness  danceability  duration_ms    energy  instrumentalness key  \\\n",
       "0      0.843174      0.169607      0.35181  0.450055          0.000005   D   \n",
       "\n",
       "   liveness  loudness   mode  speechiness     tempo  time_signature  \\\n",
       "0  0.113516  0.837496  Major     0.009584  0.548811               3   \n",
       "\n",
       "                                    uri   valence  \n",
       "0  spotify:track:2eljaMe4nUwA2vqdzVV8FX  0.328002  "
      ]
     },
     "execution_count": 70,
     "metadata": {},
     "output_type": "execute_result"
    }
   ],
   "source": [
    "normalised_df.head(1)"
   ]
  },
  {
   "cell_type": "markdown",
   "metadata": {},
   "source": [
    "## Dropping the categoricals\n",
    "I will start of with the simplest solution. I will just drop the categoricals."
   ]
  },
  {
   "cell_type": "code",
   "execution_count": 71,
   "metadata": {
    "collapsed": true
   },
   "outputs": [],
   "source": [
    "from sklearn.cluster import KMeans"
   ]
  },
  {
   "cell_type": "code",
   "execution_count": 72,
   "metadata": {},
   "outputs": [],
   "source": [
    "kmeans = KMeans(2)"
   ]
  },
  {
   "cell_type": "code",
   "execution_count": 73,
   "metadata": {
    "collapsed": true
   },
   "outputs": [],
   "source": [
    "X, y = normalised_df[quantitative_features].values, normalised_df[['name', 'playlist']]"
   ]
  },
  {
   "cell_type": "code",
   "execution_count": 74,
   "metadata": {},
   "outputs": [
    {
     "data": {
      "text/plain": [
       "KMeans(algorithm='auto', copy_x=True, init='k-means++', max_iter=300,\n",
       "    n_clusters=2, n_init=10, n_jobs=1, precompute_distances='auto',\n",
       "    random_state=None, tol=0.0001, verbose=0)"
      ]
     },
     "execution_count": 74,
     "metadata": {},
     "output_type": "execute_result"
    }
   ],
   "source": [
    "kmeans.fit(X)"
   ]
  },
  {
   "cell_type": "markdown",
   "metadata": {},
   "source": [
    "Let's see what the clusters look like!"
   ]
  },
  {
   "cell_type": "code",
   "execution_count": 75,
   "metadata": {
    "collapsed": true
   },
   "outputs": [],
   "source": [
    "clustered_df = normalised_df.copy()\n",
    "clustered_df['cluster'] = kmeans.labels_"
   ]
  },
  {
   "cell_type": "code",
   "execution_count": 76,
   "metadata": {},
   "outputs": [
    {
     "data": {
      "text/plain": [
       "<matplotlib.text.Text at 0x2802a78c550>"
      ]
     },
     "execution_count": 76,
     "metadata": {},
     "output_type": "execute_result"
    },
    {
     "data": {
      "image/png": "[encoded data removed]",
      "text/plain": [
       "<matplotlib.figure.Figure at 0x2802a75d4a8>"
      ]
     },
     "metadata": {},
     "output_type": "display_data"
    }
   ],
   "source": [
    "f, ax = plt.subplots(2, 1, figsize=(16,9))\n",
    "\n",
    "sns.countplot(x='cluster', data = clustered_df,  ax=ax[0])\n",
    "ax[0].set_title('Numer of tracks in the two clusters')\n",
    "\n",
    "sns.countplot(x='cluster', hue = 'playlist',data=clustered_df, ax=ax[1])\n",
    "ax[0].set_title('Tracks from each playlist in the two clusters')"
   ]
  },
  {
   "cell_type": "markdown",
   "metadata": {},
   "source": [
    "The first cluster is much larger than the second. Also the clusters have a pretty even distribution of tracks from both playlist.\n",
    "\n",
    "Maybe the clusters have some meaning, but they differ a lot from the clusters created by Spotify."
   ]
  },
  {
   "cell_type": "markdown",
   "metadata": {},
   "source": [
    "Let's also have a look at the box plots of the quantitative features."
   ]
  },
  {
   "cell_type": "code",
   "execution_count": 77,
   "metadata": {},
   "outputs": [
    {
     "data": {
      "text/plain": [
       "<matplotlib.text.Text at 0x2802ba93208>"
      ]
     },
     "execution_count": 77,
     "metadata": {},
     "output_type": "execute_result"
    },
    {
     "data": {
      "image/png": "[encoded data removed]",
      "text/plain": [
       "<matplotlib.figure.Figure at 0x2802a845080>"
      ]
     },
     "metadata": {},
     "output_type": "display_data"
    }
   ],
   "source": [
    "df = clustered_df.melt(id_vars = 'cluster', value_vars=quantitative_features)\n",
    "\n",
    "f, ax = plt.subplots(figsize=(16,9))\n",
    "sns.boxplot(x = 'variable', y='value', hue = 'cluster', data = df, ax=ax)\n",
    "ax.set_title('Boxplot of various normalised audio features')"
   ]
  },
  {
   "cell_type": "markdown",
   "metadata": {},
   "source": [
    "For acousticness, energy and valence the quartiles do not overlap at all between the two groups, for loudness they barely overlap.\n",
    "Acoustincess is almost linearly separable between the two groups, only a couple of outliers from cluster 0 appear in the range of cluster 1.\n",
    "\n",
    "It seems to me that some features have more influence on the clustering than others. \n",
    "This could be caused by a couple of factors, for example:\n",
    "* I did normalization using MinMax scaling which can be heavily influenced by outliers.\n",
    "* K-Means has not information about what features are useful, and has no possibility to adapt to labels as it is an unsupervised method. I must provide it with the features that I think are important for it to produce results that I deem meaningfull.\n",
    "\n",
    "Let's try to adress my second point by only using the factors that I would like to cluster the songs with."
   ]
  },
  {
   "cell_type": "markdown",
   "metadata": {},
   "source": [
    "## Dropping more features\n",
    "Let's try to get clusters that I would find useful!\n",
    "\n",
    "Let's say I want a happy and energetic playlist, clustering with `Energy` and `Valence` might be a good idea! \n",
    "As I am doing clustering I also need to think about what other clusters should appear, lets try K=3 and see if I can get clusters representing the following groups of tracks:\n",
    "* Happy and energetic tracks\n",
    "* Tracks that are neither happy nor energetic\n",
    "* Tracks somewher inbetween"
   ]
  },
  {
   "cell_type": "code",
   "execution_count": 78,
   "metadata": {
    "collapsed": true
   },
   "outputs": [],
   "source": [
    "X = quantitative_df[['energy', 'valence']].values"
   ]
  },
  {
   "cell_type": "code",
   "execution_count": 79,
   "metadata": {},
   "outputs": [],
   "source": [
    "kmeans = KMeans(3)"
   ]
  },
  {
   "cell_type": "code",
   "execution_count": 80,
   "metadata": {},
   "outputs": [
    {
     "data": {
      "text/plain": [
       "KMeans(algorithm='auto', copy_x=True, init='k-means++', max_iter=300,\n",
       "    n_clusters=3, n_init=10, n_jobs=1, precompute_distances='auto',\n",
       "    random_state=None, tol=0.0001, verbose=0)"
      ]
     },
     "execution_count": 80,
     "metadata": {},
     "output_type": "execute_result"
    }
   ],
   "source": [
    "kmeans.fit(X)"
   ]
  },
  {
   "cell_type": "code",
   "execution_count": 81,
   "metadata": {
    "collapsed": true
   },
   "outputs": [],
   "source": [
    "clustered_df = normalised_df.copy()\n",
    "clustered_df['cluster'] = kmeans.labels_"
   ]
  },
  {
   "cell_type": "code",
   "execution_count": 82,
   "metadata": {},
   "outputs": [
    {
     "data": {
      "text/plain": [
       "<matplotlib.text.Text at 0x2802c4e2780>"
      ]
     },
     "execution_count": 82,
     "metadata": {},
     "output_type": "execute_result"
    },
    {
     "data": {
      "image/png": "[encoded data removed]",
      "text/plain": [
       "<matplotlib.figure.Figure at 0x2802bd262b0>"
      ]
     },
     "metadata": {},
     "output_type": "display_data"
    }
   ],
   "source": [
    "g = sns.lmplot(x='energy', y='valence', hue = 'cluster', data=clustered_df, fit_reg=False)\n",
    "g.ax.set_title('Clustering spotify tracks based on energy and valence')"
   ]
  },
  {
   "cell_type": "markdown",
   "metadata": {},
   "source": [
    "This is actually pretty cool! \n",
    "\n",
    "Separating tracks into different playlists is not easy as drawing lines between them typically feels very arbitrary. KMeans helped me draw these lines. To evaluate, lets have a look at the tracks in cluster 2."
   ]
  },
  {
   "cell_type": "code",
   "execution_count": 92,
   "metadata": {},
   "outputs": [
    {
     "data": {
      "text/html": [
       "<div>\n",
       "<style>\n",
       "    .dataframe thead tr:only-child th {\n",
       "        text-align: right;\n",
       "    }\n",
       "\n",
       "    .dataframe thead th {\n",
       "        text-align: left;\n",
       "    }\n",
       "\n",
       "    .dataframe tbody tr th {\n",
       "        vertical-align: top;\n",
       "    }\n",
       "</style>\n",
       "<table border=\"1\" class=\"dataframe\">\n",
       "  <thead>\n",
       "    <tr style=\"text-align: right;\">\n",
       "      <th></th>\n",
       "      <th>album</th>\n",
       "      <th>artists</th>\n",
       "      <th>name</th>\n",
       "      <th>playlist</th>\n",
       "      <th>acousticness</th>\n",
       "      <th>danceability</th>\n",
       "      <th>duration_ms</th>\n",
       "      <th>energy</th>\n",
       "      <th>instrumentalness</th>\n",
       "      <th>key</th>\n",
       "      <th>liveness</th>\n",
       "      <th>loudness</th>\n",
       "      <th>mode</th>\n",
       "      <th>speechiness</th>\n",
       "      <th>tempo</th>\n",
       "      <th>time_signature</th>\n",
       "      <th>uri</th>\n",
       "      <th>valence</th>\n",
       "      <th>cluster</th>\n",
       "    </tr>\n",
       "  </thead>\n",
       "  <tbody>\n",
       "    <tr>\n",
       "      <th>3</th>\n",
       "      <td>Pantamera</td>\n",
       "      <td>[Familjen]</td>\n",
       "      <td>Pantamera</td>\n",
       "      <td>Swedish Pop</td>\n",
       "      <td>0.000831</td>\n",
       "      <td>0.740841</td>\n",
       "      <td>0.212996</td>\n",
       "      <td>0.870472</td>\n",
       "      <td>0.003067</td>\n",
       "      <td>C</td>\n",
       "      <td>0.127331</td>\n",
       "      <td>0.762339</td>\n",
       "      <td>Major</td>\n",
       "      <td>0.037114</td>\n",
       "      <td>0.456626</td>\n",
       "      <td>4</td>\n",
       "      <td>spotify:track:7I6yrk52OAtrGhjFhNhtrt</td>\n",
       "      <td>0.897350</td>\n",
       "      <td>2</td>\n",
       "    </tr>\n",
       "    <tr>\n",
       "      <th>6</th>\n",
       "      <td>Det kommer aldrig va över för mig</td>\n",
       "      <td>[Håkan Hellström]</td>\n",
       "      <td>Du kan gå din egen väg</td>\n",
       "      <td>Swedish Pop</td>\n",
       "      <td>0.217907</td>\n",
       "      <td>0.781547</td>\n",
       "      <td>0.541685</td>\n",
       "      <td>0.754116</td>\n",
       "      <td>0.001623</td>\n",
       "      <td>A</td>\n",
       "      <td>0.039028</td>\n",
       "      <td>0.757333</td>\n",
       "      <td>Major</td>\n",
       "      <td>0.091131</td>\n",
       "      <td>0.545216</td>\n",
       "      <td>4</td>\n",
       "      <td>spotify:track:5TXBaxrLfOasUdn36cRQPN</td>\n",
       "      <td>0.881833</td>\n",
       "      <td>2</td>\n",
       "    </tr>\n",
       "    <tr>\n",
       "      <th>7</th>\n",
       "      <td>The Storm</td>\n",
       "      <td>[HOFFMAESTRO]</td>\n",
       "      <td>The Storm</td>\n",
       "      <td>Swedish Pop</td>\n",
       "      <td>0.040408</td>\n",
       "      <td>0.538670</td>\n",
       "      <td>0.586087</td>\n",
       "      <td>0.828760</td>\n",
       "      <td>0.003033</td>\n",
       "      <td>F</td>\n",
       "      <td>0.031200</td>\n",
       "      <td>0.820827</td>\n",
       "      <td>Minor</td>\n",
       "      <td>0.111692</td>\n",
       "      <td>0.656561</td>\n",
       "      <td>4</td>\n",
       "      <td>spotify:track:6EJOWpdxctI8JIvmvEcE9Y</td>\n",
       "      <td>0.822153</td>\n",
       "      <td>2</td>\n",
       "    </tr>\n",
       "    <tr>\n",
       "      <th>11</th>\n",
       "      <td>Från där jag ropar</td>\n",
       "      <td>[Hästpojken]</td>\n",
       "      <td>Jag ser solen i dig (Men den ser inte mig)</td>\n",
       "      <td>Swedish Pop</td>\n",
       "      <td>0.000507</td>\n",
       "      <td>0.470828</td>\n",
       "      <td>0.414756</td>\n",
       "      <td>0.788145</td>\n",
       "      <td>0.000000</td>\n",
       "      <td>A</td>\n",
       "      <td>0.198711</td>\n",
       "      <td>0.745200</td>\n",
       "      <td>Major</td>\n",
       "      <td>0.014288</td>\n",
       "      <td>0.321756</td>\n",
       "      <td>4</td>\n",
       "      <td>spotify:track:6GKqsWnDfpkgFrftChVHcw</td>\n",
       "      <td>0.820960</td>\n",
       "      <td>2</td>\n",
       "    </tr>\n",
       "    <tr>\n",
       "      <th>13</th>\n",
       "      <td>Country</td>\n",
       "      <td>[Den svenska björnstammen]</td>\n",
       "      <td>Hallå Livet</td>\n",
       "      <td>Swedish Pop</td>\n",
       "      <td>0.838082</td>\n",
       "      <td>0.852103</td>\n",
       "      <td>0.265393</td>\n",
       "      <td>0.467618</td>\n",
       "      <td>0.000791</td>\n",
       "      <td>E</td>\n",
       "      <td>0.059406</td>\n",
       "      <td>0.612263</td>\n",
       "      <td>Minor</td>\n",
       "      <td>0.015508</td>\n",
       "      <td>0.434233</td>\n",
       "      <td>4</td>\n",
       "      <td>spotify:track:4yQZFoU9aPXj9ycOyz1AIF</td>\n",
       "      <td>0.736214</td>\n",
       "      <td>2</td>\n",
       "    </tr>\n",
       "    <tr>\n",
       "      <th>17</th>\n",
       "      <td>Låter som miljarder</td>\n",
       "      <td>[bob hund]</td>\n",
       "      <td>Darrande varulvshänder</td>\n",
       "      <td>Swedish Pop</td>\n",
       "      <td>0.361494</td>\n",
       "      <td>0.895522</td>\n",
       "      <td>0.223561</td>\n",
       "      <td>0.599341</td>\n",
       "      <td>0.320180</td>\n",
       "      <td>G</td>\n",
       "      <td>0.012088</td>\n",
       "      <td>0.681941</td>\n",
       "      <td>Major</td>\n",
       "      <td>0.053842</td>\n",
       "      <td>0.419001</td>\n",
       "      <td>5</td>\n",
       "      <td>spotify:track:4afUP39D8Dlast8vdvRKrw</td>\n",
       "      <td>0.977322</td>\n",
       "      <td>2</td>\n",
       "    </tr>\n",
       "    <tr>\n",
       "      <th>21</th>\n",
       "      <td>Pusselbitar</td>\n",
       "      <td>[Timbuktu]</td>\n",
       "      <td>Allt grönt</td>\n",
       "      <td>Swedish Pop</td>\n",
       "      <td>0.107925</td>\n",
       "      <td>0.932157</td>\n",
       "      <td>0.582552</td>\n",
       "      <td>0.605928</td>\n",
       "      <td>0.000000</td>\n",
       "      <td>Bb</td>\n",
       "      <td>0.061708</td>\n",
       "      <td>0.537519</td>\n",
       "      <td>Minor</td>\n",
       "      <td>0.091479</td>\n",
       "      <td>0.478258</td>\n",
       "      <td>4</td>\n",
       "      <td>spotify:track:12jHYDhSTWMcOOqwSxnx01</td>\n",
       "      <td>0.883027</td>\n",
       "      <td>2</td>\n",
       "    </tr>\n",
       "    <tr>\n",
       "      <th>27</th>\n",
       "      <td>Satan i gatan (Bonus Version)</td>\n",
       "      <td>[Veronica Maggio]</td>\n",
       "      <td>Vi kommer alltid ha Paris</td>\n",
       "      <td>Swedish Pop</td>\n",
       "      <td>0.059248</td>\n",
       "      <td>0.686567</td>\n",
       "      <td>0.281766</td>\n",
       "      <td>0.819978</td>\n",
       "      <td>0.000449</td>\n",
       "      <td>F</td>\n",
       "      <td>0.536035</td>\n",
       "      <td>0.848510</td>\n",
       "      <td>Minor</td>\n",
       "      <td>0.019864</td>\n",
       "      <td>0.153003</td>\n",
       "      <td>4</td>\n",
       "      <td>spotify:track:3woptHfuKkrFvTqmCS9Mn7</td>\n",
       "      <td>0.755312</td>\n",
       "      <td>2</td>\n",
       "    </tr>\n",
       "    <tr>\n",
       "      <th>28</th>\n",
       "      <td>Evas story</td>\n",
       "      <td>[Doktor Kosmos]</td>\n",
       "      <td>Doktor Knark Is Back In The Town</td>\n",
       "      <td>Swedish Pop</td>\n",
       "      <td>0.336035</td>\n",
       "      <td>0.736771</td>\n",
       "      <td>0.273600</td>\n",
       "      <td>0.890231</td>\n",
       "      <td>0.002649</td>\n",
       "      <td>C</td>\n",
       "      <td>0.276997</td>\n",
       "      <td>0.903817</td>\n",
       "      <td>Major</td>\n",
       "      <td>0.024046</td>\n",
       "      <td>0.539771</td>\n",
       "      <td>4</td>\n",
       "      <td>spotify:track:4oyFAJrZqKgECcZe2euA5m</td>\n",
       "      <td>0.941513</td>\n",
       "      <td>2</td>\n",
       "    </tr>\n",
       "    <tr>\n",
       "      <th>33</th>\n",
       "      <td>...Och Stora Havet</td>\n",
       "      <td>[Jakob Hellman]</td>\n",
       "      <td>Tåg - 1998 Digital Remaster</td>\n",
       "      <td>Swedish Pop</td>\n",
       "      <td>0.070348</td>\n",
       "      <td>0.681140</td>\n",
       "      <td>0.404065</td>\n",
       "      <td>0.974753</td>\n",
       "      <td>0.000000</td>\n",
       "      <td>B</td>\n",
       "      <td>0.172231</td>\n",
       "      <td>0.731299</td>\n",
       "      <td>Major</td>\n",
       "      <td>0.014462</td>\n",
       "      <td>0.476882</td>\n",
       "      <td>4</td>\n",
       "      <td>spotify:track:4U8QAiTjj3cfmrXfflbcNo</td>\n",
       "      <td>0.772022</td>\n",
       "      <td>2</td>\n",
       "    </tr>\n",
       "    <tr>\n",
       "      <th>37</th>\n",
       "      <td>Jag rear ut min själ</td>\n",
       "      <td>[bob hund]</td>\n",
       "      <td>Tralala lilla molntuss, kom hit ska du få en puss</td>\n",
       "      <td>Swedish Pop</td>\n",
       "      <td>0.091631</td>\n",
       "      <td>0.331072</td>\n",
       "      <td>0.442659</td>\n",
       "      <td>0.946213</td>\n",
       "      <td>0.000050</td>\n",
       "      <td>G</td>\n",
       "      <td>0.367948</td>\n",
       "      <td>0.900518</td>\n",
       "      <td>Major</td>\n",
       "      <td>0.061509</td>\n",
       "      <td>0.601358</td>\n",
       "      <td>4</td>\n",
       "      <td>spotify:track:1Y5hLt3uWM1jZWE4Rzm90E</td>\n",
       "      <td>0.705180</td>\n",
       "      <td>2</td>\n",
       "    </tr>\n",
       "    <tr>\n",
       "      <th>39</th>\n",
       "      <td>Lille Napoleon</td>\n",
       "      <td>[Kristian Anttila]</td>\n",
       "      <td>Smutser</td>\n",
       "      <td>Swedish Pop</td>\n",
       "      <td>0.000256</td>\n",
       "      <td>0.461330</td>\n",
       "      <td>0.481293</td>\n",
       "      <td>0.866081</td>\n",
       "      <td>0.000002</td>\n",
       "      <td>G#</td>\n",
       "      <td>0.139995</td>\n",
       "      <td>0.867122</td>\n",
       "      <td>Major</td>\n",
       "      <td>0.055759</td>\n",
       "      <td>0.418934</td>\n",
       "      <td>4</td>\n",
       "      <td>spotify:track:6kLKWa9skOR4s4gSVKcXMB</td>\n",
       "      <td>0.707567</td>\n",
       "      <td>2</td>\n",
       "    </tr>\n",
       "    <tr>\n",
       "      <th>41</th>\n",
       "      <td>Vapnet</td>\n",
       "      <td>[Vapnet]</td>\n",
       "      <td>Kalla mig</td>\n",
       "      <td>Swedish Pop</td>\n",
       "      <td>0.237255</td>\n",
       "      <td>0.704206</td>\n",
       "      <td>0.668154</td>\n",
       "      <td>0.664105</td>\n",
       "      <td>0.000038</td>\n",
       "      <td>D</td>\n",
       "      <td>0.000000</td>\n",
       "      <td>0.749440</td>\n",
       "      <td>Major</td>\n",
       "      <td>0.004705</td>\n",
       "      <td>0.396866</td>\n",
       "      <td>4</td>\n",
       "      <td>spotify:track:2nGgvKTQd3NwhWrsVVVC5n</td>\n",
       "      <td>1.000000</td>\n",
       "      <td>2</td>\n",
       "    </tr>\n",
       "    <tr>\n",
       "      <th>42</th>\n",
       "      <td>...Och Stora Havet</td>\n",
       "      <td>[Jakob Hellman]</td>\n",
       "      <td>Hon Har Ett Sätt - 1998 Digital Remaster</td>\n",
       "      <td>Swedish Pop</td>\n",
       "      <td>0.105888</td>\n",
       "      <td>0.755767</td>\n",
       "      <td>0.419680</td>\n",
       "      <td>0.715697</td>\n",
       "      <td>0.000000</td>\n",
       "      <td>G</td>\n",
       "      <td>0.046627</td>\n",
       "      <td>0.630640</td>\n",
       "      <td>Major</td>\n",
       "      <td>0.002265</td>\n",
       "      <td>0.388115</td>\n",
       "      <td>4</td>\n",
       "      <td>spotify:track:1nrvksAMsxoiEbUkQyxOXo</td>\n",
       "      <td>0.927190</td>\n",
       "      <td>2</td>\n",
       "    </tr>\n",
       "    <tr>\n",
       "      <th>47</th>\n",
       "      <td>Take Me To Your Leader</td>\n",
       "      <td>[King Geedorah, Mr Fantastik]</td>\n",
       "      <td>Anti-Matter</td>\n",
       "      <td>American Hiphop</td>\n",
       "      <td>0.397137</td>\n",
       "      <td>1.000000</td>\n",
       "      <td>0.440092</td>\n",
       "      <td>0.746432</td>\n",
       "      <td>0.000090</td>\n",
       "      <td>C</td>\n",
       "      <td>0.059406</td>\n",
       "      <td>1.000000</td>\n",
       "      <td>Major</td>\n",
       "      <td>0.430214</td>\n",
       "      <td>0.214945</td>\n",
       "      <td>4</td>\n",
       "      <td>spotify:track:4kVxStqN7DeoZje5aidAn3</td>\n",
       "      <td>0.855574</td>\n",
       "      <td>2</td>\n",
       "    </tr>\n",
       "    <tr>\n",
       "      <th>51</th>\n",
       "      <td>Labcabincalifornia</td>\n",
       "      <td>[The Pharcyde]</td>\n",
       "      <td>Runnin'</td>\n",
       "      <td>American Hiphop</td>\n",
       "      <td>0.030632</td>\n",
       "      <td>0.852103</td>\n",
       "      <td>0.722025</td>\n",
       "      <td>0.778266</td>\n",
       "      <td>0.002435</td>\n",
       "      <td>Bb</td>\n",
       "      <td>0.309233</td>\n",
       "      <td>0.662151</td>\n",
       "      <td>Minor</td>\n",
       "      <td>0.247256</td>\n",
       "      <td>0.205631</td>\n",
       "      <td>4</td>\n",
       "      <td>spotify:track:5f1RQ9Xq2iS2JUx9eowJov</td>\n",
       "      <td>0.915254</td>\n",
       "      <td>2</td>\n",
       "    </tr>\n",
       "    <tr>\n",
       "      <th>58</th>\n",
       "      <td>Train of Thought: Lost Lyrics, Rare Releases &amp;...</td>\n",
       "      <td>[Talib Kweli]</td>\n",
       "      <td>2000 Seasons</td>\n",
       "      <td>American Hiphop</td>\n",
       "      <td>0.151714</td>\n",
       "      <td>0.867028</td>\n",
       "      <td>0.585670</td>\n",
       "      <td>0.724479</td>\n",
       "      <td>0.000000</td>\n",
       "      <td>Bb</td>\n",
       "      <td>1.000000</td>\n",
       "      <td>0.891860</td>\n",
       "      <td>Minor</td>\n",
       "      <td>0.574839</td>\n",
       "      <td>0.198159</td>\n",
       "      <td>4</td>\n",
       "      <td>spotify:track:0uCIPyaPjArUBR1dyGiRfs</td>\n",
       "      <td>0.917641</td>\n",
       "      <td>2</td>\n",
       "    </tr>\n",
       "    <tr>\n",
       "      <th>59</th>\n",
       "      <td>Yancey Boys</td>\n",
       "      <td>[Illa J, Debi Nova]</td>\n",
       "      <td>Sounds Like Love</td>\n",
       "      <td>American Hiphop</td>\n",
       "      <td>0.655798</td>\n",
       "      <td>0.807327</td>\n",
       "      <td>0.434635</td>\n",
       "      <td>0.667398</td>\n",
       "      <td>0.000000</td>\n",
       "      <td>Bb</td>\n",
       "      <td>0.202164</td>\n",
       "      <td>0.853870</td>\n",
       "      <td>Minor</td>\n",
       "      <td>0.424987</td>\n",
       "      <td>0.174760</td>\n",
       "      <td>4</td>\n",
       "      <td>spotify:track:42SoWrrncUjW7BXZutONZA</td>\n",
       "      <td>0.768441</td>\n",
       "      <td>2</td>\n",
       "    </tr>\n",
       "    <tr>\n",
       "      <th>62</th>\n",
       "      <td>Atrocity Exhibition</td>\n",
       "      <td>[Danny Brown, Kendrick Lamar, Ab-Soul, Earl Sw...</td>\n",
       "      <td>Really Doe</td>\n",
       "      <td>American Hiphop</td>\n",
       "      <td>0.042445</td>\n",
       "      <td>0.765265</td>\n",
       "      <td>0.795150</td>\n",
       "      <td>1.000000</td>\n",
       "      <td>0.000000</td>\n",
       "      <td>C#</td>\n",
       "      <td>0.179139</td>\n",
       "      <td>0.940629</td>\n",
       "      <td>Major</td>\n",
       "      <td>0.461579</td>\n",
       "      <td>0.071537</td>\n",
       "      <td>4</td>\n",
       "      <td>spotify:track:6dHatCnuOb1TdBIeJTK3Y0</td>\n",
       "      <td>0.856768</td>\n",
       "      <td>2</td>\n",
       "    </tr>\n",
       "    <tr>\n",
       "      <th>63</th>\n",
       "      <td>Madvillainy</td>\n",
       "      <td>[Madvillain]</td>\n",
       "      <td>Bistro</td>\n",
       "      <td>American Hiphop</td>\n",
       "      <td>0.458238</td>\n",
       "      <td>0.343284</td>\n",
       "      <td>0.000000</td>\n",
       "      <td>0.570801</td>\n",
       "      <td>0.000000</td>\n",
       "      <td>G</td>\n",
       "      <td>0.552153</td>\n",
       "      <td>0.504182</td>\n",
       "      <td>Major</td>\n",
       "      <td>0.459836</td>\n",
       "      <td>0.137985</td>\n",
       "      <td>1</td>\n",
       "      <td>spotify:track:685wafKZSIbPoZeuzDvcWs</td>\n",
       "      <td>0.714729</td>\n",
       "      <td>2</td>\n",
       "    </tr>\n",
       "    <tr>\n",
       "      <th>66</th>\n",
       "      <td>Follow Me Home</td>\n",
       "      <td>[Jay Rock, Kendrick Lamar]</td>\n",
       "      <td>Hood Gone Love It (feat. Kendrick Lamar)</td>\n",
       "      <td>American Hiphop</td>\n",
       "      <td>0.089493</td>\n",
       "      <td>0.654003</td>\n",
       "      <td>0.561678</td>\n",
       "      <td>0.860593</td>\n",
       "      <td>0.000000</td>\n",
       "      <td>B</td>\n",
       "      <td>0.270090</td>\n",
       "      <td>0.910885</td>\n",
       "      <td>Major</td>\n",
       "      <td>0.522565</td>\n",
       "      <td>0.188261</td>\n",
       "      <td>4</td>\n",
       "      <td>spotify:track:6i6cWTCYBOKEdJnWjzm2yk</td>\n",
       "      <td>0.711148</td>\n",
       "      <td>2</td>\n",
       "    </tr>\n",
       "    <tr>\n",
       "      <th>68</th>\n",
       "      <td>Midnight Marauders</td>\n",
       "      <td>[A Tribe Called Quest]</td>\n",
       "      <td>Clap Your Hands</td>\n",
       "      <td>American Hiphop</td>\n",
       "      <td>0.133384</td>\n",
       "      <td>0.948440</td>\n",
       "      <td>0.407095</td>\n",
       "      <td>0.771679</td>\n",
       "      <td>0.003743</td>\n",
       "      <td>Bb</td>\n",
       "      <td>0.236703</td>\n",
       "      <td>0.673990</td>\n",
       "      <td>Minor</td>\n",
       "      <td>0.318697</td>\n",
       "      <td>0.197834</td>\n",
       "      <td>4</td>\n",
       "      <td>spotify:track:3GRBtVv3gbDwu3e0nkTP74</td>\n",
       "      <td>0.828121</td>\n",
       "      <td>2</td>\n",
       "    </tr>\n",
       "    <tr>\n",
       "      <th>75</th>\n",
       "      <td>B4.DA.$$</td>\n",
       "      <td>[Joey Bada$$]</td>\n",
       "      <td>Like Me (feat. BJ The Chicago Kid)</td>\n",
       "      <td>American Hiphop</td>\n",
       "      <td>0.543779</td>\n",
       "      <td>0.818182</td>\n",
       "      <td>0.627695</td>\n",
       "      <td>0.700329</td>\n",
       "      <td>0.000000</td>\n",
       "      <td>C</td>\n",
       "      <td>0.066314</td>\n",
       "      <td>0.850630</td>\n",
       "      <td>Minor</td>\n",
       "      <td>0.461579</td>\n",
       "      <td>0.181766</td>\n",
       "      <td>4</td>\n",
       "      <td>spotify:track:7c5EpKbPpL86QVaP8yla8e</td>\n",
       "      <td>0.814992</td>\n",
       "      <td>2</td>\n",
       "    </tr>\n",
       "    <tr>\n",
       "      <th>76</th>\n",
       "      <td>Champion Sound</td>\n",
       "      <td>[Jaylib, Madlib, J Dilla]</td>\n",
       "      <td>The Red</td>\n",
       "      <td>American Hiphop</td>\n",
       "      <td>0.064747</td>\n",
       "      <td>0.563094</td>\n",
       "      <td>0.424815</td>\n",
       "      <td>0.682766</td>\n",
       "      <td>0.000028</td>\n",
       "      <td>C#</td>\n",
       "      <td>0.518766</td>\n",
       "      <td>0.712864</td>\n",
       "      <td>Minor</td>\n",
       "      <td>0.492943</td>\n",
       "      <td>0.850556</td>\n",
       "      <td>4</td>\n",
       "      <td>spotify:track:0WNqXbK6UYqNCeIgZHIuFW</td>\n",
       "      <td>0.661017</td>\n",
       "      <td>2</td>\n",
       "    </tr>\n",
       "    <tr>\n",
       "      <th>77</th>\n",
       "      <td>The Sun's Tirade</td>\n",
       "      <td>[Isaiah Rashad]</td>\n",
       "      <td>Free Lunch</td>\n",
       "      <td>American Hiphop</td>\n",
       "      <td>0.227072</td>\n",
       "      <td>1.000000</td>\n",
       "      <td>0.393005</td>\n",
       "      <td>0.439078</td>\n",
       "      <td>0.000061</td>\n",
       "      <td>B</td>\n",
       "      <td>0.062860</td>\n",
       "      <td>0.711509</td>\n",
       "      <td>Minor</td>\n",
       "      <td>0.369228</td>\n",
       "      <td>0.471163</td>\n",
       "      <td>4</td>\n",
       "      <td>spotify:track:5FX89IUKm9QJT9ymrmyK4k</td>\n",
       "      <td>0.917641</td>\n",
       "      <td>2</td>\n",
       "    </tr>\n",
       "    <tr>\n",
       "      <th>81</th>\n",
       "      <td>Petestrumentals - 10th Anniversary Expanded &amp; ...</td>\n",
       "      <td>[Pete Rock]</td>\n",
       "      <td>A Little Soul</td>\n",
       "      <td>American Hiphop</td>\n",
       "      <td>0.009939</td>\n",
       "      <td>0.808684</td>\n",
       "      <td>0.863853</td>\n",
       "      <td>0.597146</td>\n",
       "      <td>1.000000</td>\n",
       "      <td>Bb</td>\n",
       "      <td>0.268939</td>\n",
       "      <td>0.686594</td>\n",
       "      <td>Minor</td>\n",
       "      <td>0.095661</td>\n",
       "      <td>0.852390</td>\n",
       "      <td>4</td>\n",
       "      <td>spotify:track:014S84Cgs1uGmWOIW6V9U9</td>\n",
       "      <td>0.760086</td>\n",
       "      <td>2</td>\n",
       "    </tr>\n",
       "    <tr>\n",
       "      <th>85</th>\n",
       "      <td>Future Development</td>\n",
       "      <td>[Del The Funky Homosapien]</td>\n",
       "      <td>Corner Story</td>\n",
       "      <td>American Hiphop</td>\n",
       "      <td>0.154769</td>\n",
       "      <td>0.998643</td>\n",
       "      <td>0.553472</td>\n",
       "      <td>0.785950</td>\n",
       "      <td>0.000144</td>\n",
       "      <td>B</td>\n",
       "      <td>0.029358</td>\n",
       "      <td>0.758217</td>\n",
       "      <td>Minor</td>\n",
       "      <td>0.477261</td>\n",
       "      <td>0.159935</td>\n",
       "      <td>4</td>\n",
       "      <td>spotify:track:6O4zEx1kzm32mXlUIOthSw</td>\n",
       "      <td>0.980902</td>\n",
       "      <td>2</td>\n",
       "    </tr>\n",
       "    <tr>\n",
       "      <th>86</th>\n",
       "      <td>Madvillainy</td>\n",
       "      <td>[Madvillain]</td>\n",
       "      <td>Accordion</td>\n",
       "      <td>American Hiphop</td>\n",
       "      <td>0.024726</td>\n",
       "      <td>0.610583</td>\n",
       "      <td>0.162029</td>\n",
       "      <td>0.613611</td>\n",
       "      <td>0.000000</td>\n",
       "      <td>A</td>\n",
       "      <td>0.013930</td>\n",
       "      <td>0.761044</td>\n",
       "      <td>Minor</td>\n",
       "      <td>0.494685</td>\n",
       "      <td>0.222010</td>\n",
       "      <td>4</td>\n",
       "      <td>spotify:track:5jAvbp8kEnRPToi4Bzcvzt</td>\n",
       "      <td>0.766054</td>\n",
       "      <td>2</td>\n",
       "    </tr>\n",
       "    <tr>\n",
       "      <th>87</th>\n",
       "      <td>The Ecstatic</td>\n",
       "      <td>[Mos Def]</td>\n",
       "      <td>Revelations</td>\n",
       "      <td>American Hiphop</td>\n",
       "      <td>0.854376</td>\n",
       "      <td>0.641791</td>\n",
       "      <td>0.177013</td>\n",
       "      <td>0.647640</td>\n",
       "      <td>0.001443</td>\n",
       "      <td>Eb</td>\n",
       "      <td>0.339166</td>\n",
       "      <td>0.770585</td>\n",
       "      <td>Major</td>\n",
       "      <td>0.350061</td>\n",
       "      <td>0.194431</td>\n",
       "      <td>4</td>\n",
       "      <td>spotify:track:2h36x9m5QyPB1G8J1SbU0z</td>\n",
       "      <td>0.758892</td>\n",
       "      <td>2</td>\n",
       "    </tr>\n",
       "    <tr>\n",
       "      <th>88</th>\n",
       "      <td>Pineapple Now-Laters</td>\n",
       "      <td>[BJ The Chicago Kid]</td>\n",
       "      <td>His Pain</td>\n",
       "      <td>American Hiphop</td>\n",
       "      <td>0.887981</td>\n",
       "      <td>0.432836</td>\n",
       "      <td>0.825345</td>\n",
       "      <td>0.384193</td>\n",
       "      <td>0.000006</td>\n",
       "      <td>C#</td>\n",
       "      <td>0.054801</td>\n",
       "      <td>0.492579</td>\n",
       "      <td>Minor</td>\n",
       "      <td>0.247256</td>\n",
       "      <td>0.735149</td>\n",
       "      <td>4</td>\n",
       "      <td>spotify:track:2uujJLrRplaQMkEx8CybZ8</td>\n",
       "      <td>0.830508</td>\n",
       "      <td>2</td>\n",
       "    </tr>\n",
       "    <tr>\n",
       "      <th>89</th>\n",
       "      <td>In The Beginning: Before The Heavens</td>\n",
       "      <td>[Blu &amp; Exile]</td>\n",
       "      <td>Party Of Two</td>\n",
       "      <td>American Hiphop</td>\n",
       "      <td>0.042751</td>\n",
       "      <td>0.928087</td>\n",
       "      <td>0.413730</td>\n",
       "      <td>0.598244</td>\n",
       "      <td>0.000000</td>\n",
       "      <td>B</td>\n",
       "      <td>0.191803</td>\n",
       "      <td>0.923843</td>\n",
       "      <td>Minor</td>\n",
       "      <td>0.426729</td>\n",
       "      <td>0.212082</td>\n",
       "      <td>4</td>\n",
       "      <td>spotify:track:4xQqSxEGkh4iDGQ4NWuNgW</td>\n",
       "      <td>0.953450</td>\n",
       "      <td>2</td>\n",
       "    </tr>\n",
       "    <tr>\n",
       "      <th>92</th>\n",
       "      <td>Blue Chips 7000</td>\n",
       "      <td>[Action Bronson, Rick Ross]</td>\n",
       "      <td>9-24-7000 (feat. Rick Ross)</td>\n",
       "      <td>American Hiphop</td>\n",
       "      <td>0.178191</td>\n",
       "      <td>0.529172</td>\n",
       "      <td>0.448555</td>\n",
       "      <td>0.605928</td>\n",
       "      <td>0.000000</td>\n",
       "      <td>B</td>\n",
       "      <td>0.402487</td>\n",
       "      <td>0.653905</td>\n",
       "      <td>Major</td>\n",
       "      <td>0.585294</td>\n",
       "      <td>0.000000</td>\n",
       "      <td>4</td>\n",
       "      <td>spotify:track:0wASQ9xMN5CR5K7TdYCDbd</td>\n",
       "      <td>0.731439</td>\n",
       "      <td>2</td>\n",
       "    </tr>\n",
       "  </tbody>\n",
       "</table>\n",
       "</div>"
      ],
      "text/plain": [
       "                                                album  \\\n",
       "3                                           Pantamera   \n",
       "6                   Det kommer aldrig va över för mig   \n",
       "7                                           The Storm   \n",
       "11                                 Från där jag ropar   \n",
       "13                                            Country   \n",
       "17                                Låter som miljarder   \n",
       "21                                        Pusselbitar   \n",
       "27                      Satan i gatan (Bonus Version)   \n",
       "28                                         Evas story   \n",
       "33                                 ...Och Stora Havet   \n",
       "37                               Jag rear ut min själ   \n",
       "39                                     Lille Napoleon   \n",
       "41                                             Vapnet   \n",
       "42                                 ...Och Stora Havet   \n",
       "47                             Take Me To Your Leader   \n",
       "51                                 Labcabincalifornia   \n",
       "58  Train of Thought: Lost Lyrics, Rare Releases &...   \n",
       "59                                        Yancey Boys   \n",
       "62                                Atrocity Exhibition   \n",
       "63                                        Madvillainy   \n",
       "66                                     Follow Me Home   \n",
       "68                                 Midnight Marauders   \n",
       "75                                           B4.DA.$$   \n",
       "76                                     Champion Sound   \n",
       "77                                   The Sun's Tirade   \n",
       "81  Petestrumentals - 10th Anniversary Expanded & ...   \n",
       "85                                 Future Development   \n",
       "86                                        Madvillainy   \n",
       "87                                       The Ecstatic   \n",
       "88                               Pineapple Now-Laters   \n",
       "89               In The Beginning: Before The Heavens   \n",
       "92                                    Blue Chips 7000   \n",
       "\n",
       "                                              artists  \\\n",
       "3                                          [Familjen]   \n",
       "6                                   [Håkan Hellström]   \n",
       "7                                       [HOFFMAESTRO]   \n",
       "11                                       [Hästpojken]   \n",
       "13                         [Den svenska björnstammen]   \n",
       "17                                         [bob hund]   \n",
       "21                                         [Timbuktu]   \n",
       "27                                  [Veronica Maggio]   \n",
       "28                                    [Doktor Kosmos]   \n",
       "33                                    [Jakob Hellman]   \n",
       "37                                         [bob hund]   \n",
       "39                                 [Kristian Anttila]   \n",
       "41                                           [Vapnet]   \n",
       "42                                    [Jakob Hellman]   \n",
       "47                      [King Geedorah, Mr Fantastik]   \n",
       "51                                     [The Pharcyde]   \n",
       "58                                      [Talib Kweli]   \n",
       "59                                [Illa J, Debi Nova]   \n",
       "62  [Danny Brown, Kendrick Lamar, Ab-Soul, Earl Sw...   \n",
       "63                                       [Madvillain]   \n",
       "66                         [Jay Rock, Kendrick Lamar]   \n",
       "68                             [A Tribe Called Quest]   \n",
       "75                                      [Joey Bada$$]   \n",
       "76                          [Jaylib, Madlib, J Dilla]   \n",
       "77                                    [Isaiah Rashad]   \n",
       "81                                        [Pete Rock]   \n",
       "85                         [Del The Funky Homosapien]   \n",
       "86                                       [Madvillain]   \n",
       "87                                          [Mos Def]   \n",
       "88                               [BJ The Chicago Kid]   \n",
       "89                                      [Blu & Exile]   \n",
       "92                        [Action Bronson, Rick Ross]   \n",
       "\n",
       "                                                 name         playlist  \\\n",
       "3                                           Pantamera      Swedish Pop   \n",
       "6                              Du kan gå din egen väg      Swedish Pop   \n",
       "7                                           The Storm      Swedish Pop   \n",
       "11         Jag ser solen i dig (Men den ser inte mig)      Swedish Pop   \n",
       "13                                        Hallå Livet      Swedish Pop   \n",
       "17                             Darrande varulvshänder      Swedish Pop   \n",
       "21                                         Allt grönt      Swedish Pop   \n",
       "27                          Vi kommer alltid ha Paris      Swedish Pop   \n",
       "28                   Doktor Knark Is Back In The Town      Swedish Pop   \n",
       "33                        Tåg - 1998 Digital Remaster      Swedish Pop   \n",
       "37  Tralala lilla molntuss, kom hit ska du få en puss      Swedish Pop   \n",
       "39                                            Smutser      Swedish Pop   \n",
       "41                                          Kalla mig      Swedish Pop   \n",
       "42           Hon Har Ett Sätt - 1998 Digital Remaster      Swedish Pop   \n",
       "47                                        Anti-Matter  American Hiphop   \n",
       "51                                            Runnin'  American Hiphop   \n",
       "58                                       2000 Seasons  American Hiphop   \n",
       "59                                   Sounds Like Love  American Hiphop   \n",
       "62                                         Really Doe  American Hiphop   \n",
       "63                                             Bistro  American Hiphop   \n",
       "66           Hood Gone Love It (feat. Kendrick Lamar)  American Hiphop   \n",
       "68                                    Clap Your Hands  American Hiphop   \n",
       "75                 Like Me (feat. BJ The Chicago Kid)  American Hiphop   \n",
       "76                                            The Red  American Hiphop   \n",
       "77                                         Free Lunch  American Hiphop   \n",
       "81                                      A Little Soul  American Hiphop   \n",
       "85                                       Corner Story  American Hiphop   \n",
       "86                                          Accordion  American Hiphop   \n",
       "87                                        Revelations  American Hiphop   \n",
       "88                                           His Pain  American Hiphop   \n",
       "89                                       Party Of Two  American Hiphop   \n",
       "92                        9-24-7000 (feat. Rick Ross)  American Hiphop   \n",
       "\n",
       "    acousticness  danceability  duration_ms    energy  instrumentalness key  \\\n",
       "3       0.000831      0.740841     0.212996  0.870472          0.003067   C   \n",
       "6       0.217907      0.781547     0.541685  0.754116          0.001623   A   \n",
       "7       0.040408      0.538670     0.586087  0.828760          0.003033   F   \n",
       "11      0.000507      0.470828     0.414756  0.788145          0.000000   A   \n",
       "13      0.838082      0.852103     0.265393  0.467618          0.000791   E   \n",
       "17      0.361494      0.895522     0.223561  0.599341          0.320180   G   \n",
       "21      0.107925      0.932157     0.582552  0.605928          0.000000  Bb   \n",
       "27      0.059248      0.686567     0.281766  0.819978          0.000449   F   \n",
       "28      0.336035      0.736771     0.273600  0.890231          0.002649   C   \n",
       "33      0.070348      0.681140     0.404065  0.974753          0.000000   B   \n",
       "37      0.091631      0.331072     0.442659  0.946213          0.000050   G   \n",
       "39      0.000256      0.461330     0.481293  0.866081          0.000002  G#   \n",
       "41      0.237255      0.704206     0.668154  0.664105          0.000038   D   \n",
       "42      0.105888      0.755767     0.419680  0.715697          0.000000   G   \n",
       "47      0.397137      1.000000     0.440092  0.746432          0.000090   C   \n",
       "51      0.030632      0.852103     0.722025  0.778266          0.002435  Bb   \n",
       "58      0.151714      0.867028     0.585670  0.724479          0.000000  Bb   \n",
       "59      0.655798      0.807327     0.434635  0.667398          0.000000  Bb   \n",
       "62      0.042445      0.765265     0.795150  1.000000          0.000000  C#   \n",
       "63      0.458238      0.343284     0.000000  0.570801          0.000000   G   \n",
       "66      0.089493      0.654003     0.561678  0.860593          0.000000   B   \n",
       "68      0.133384      0.948440     0.407095  0.771679          0.003743  Bb   \n",
       "75      0.543779      0.818182     0.627695  0.700329          0.000000   C   \n",
       "76      0.064747      0.563094     0.424815  0.682766          0.000028  C#   \n",
       "77      0.227072      1.000000     0.393005  0.439078          0.000061   B   \n",
       "81      0.009939      0.808684     0.863853  0.597146          1.000000  Bb   \n",
       "85      0.154769      0.998643     0.553472  0.785950          0.000144   B   \n",
       "86      0.024726      0.610583     0.162029  0.613611          0.000000   A   \n",
       "87      0.854376      0.641791     0.177013  0.647640          0.001443  Eb   \n",
       "88      0.887981      0.432836     0.825345  0.384193          0.000006  C#   \n",
       "89      0.042751      0.928087     0.413730  0.598244          0.000000   B   \n",
       "92      0.178191      0.529172     0.448555  0.605928          0.000000   B   \n",
       "\n",
       "    liveness  loudness   mode  speechiness     tempo  time_signature  \\\n",
       "3   0.127331  0.762339  Major     0.037114  0.456626               4   \n",
       "6   0.039028  0.757333  Major     0.091131  0.545216               4   \n",
       "7   0.031200  0.820827  Minor     0.111692  0.656561               4   \n",
       "11  0.198711  0.745200  Major     0.014288  0.321756               4   \n",
       "13  0.059406  0.612263  Minor     0.015508  0.434233               4   \n",
       "17  0.012088  0.681941  Major     0.053842  0.419001               5   \n",
       "21  0.061708  0.537519  Minor     0.091479  0.478258               4   \n",
       "27  0.536035  0.848510  Minor     0.019864  0.153003               4   \n",
       "28  0.276997  0.903817  Major     0.024046  0.539771               4   \n",
       "33  0.172231  0.731299  Major     0.014462  0.476882               4   \n",
       "37  0.367948  0.900518  Major     0.061509  0.601358               4   \n",
       "39  0.139995  0.867122  Major     0.055759  0.418934               4   \n",
       "41  0.000000  0.749440  Major     0.004705  0.396866               4   \n",
       "42  0.046627  0.630640  Major     0.002265  0.388115               4   \n",
       "47  0.059406  1.000000  Major     0.430214  0.214945               4   \n",
       "51  0.309233  0.662151  Minor     0.247256  0.205631               4   \n",
       "58  1.000000  0.891860  Minor     0.574839  0.198159               4   \n",
       "59  0.202164  0.853870  Minor     0.424987  0.174760               4   \n",
       "62  0.179139  0.940629  Major     0.461579  0.071537               4   \n",
       "63  0.552153  0.504182  Major     0.459836  0.137985               1   \n",
       "66  0.270090  0.910885  Major     0.522565  0.188261               4   \n",
       "68  0.236703  0.673990  Minor     0.318697  0.197834               4   \n",
       "75  0.066314  0.850630  Minor     0.461579  0.181766               4   \n",
       "76  0.518766  0.712864  Minor     0.492943  0.850556               4   \n",
       "77  0.062860  0.711509  Minor     0.369228  0.471163               4   \n",
       "81  0.268939  0.686594  Minor     0.095661  0.852390               4   \n",
       "85  0.029358  0.758217  Minor     0.477261  0.159935               4   \n",
       "86  0.013930  0.761044  Minor     0.494685  0.222010               4   \n",
       "87  0.339166  0.770585  Major     0.350061  0.194431               4   \n",
       "88  0.054801  0.492579  Minor     0.247256  0.735149               4   \n",
       "89  0.191803  0.923843  Minor     0.426729  0.212082               4   \n",
       "92  0.402487  0.653905  Major     0.585294  0.000000               4   \n",
       "\n",
       "                                     uri   valence  cluster  \n",
       "3   spotify:track:7I6yrk52OAtrGhjFhNhtrt  0.897350        2  \n",
       "6   spotify:track:5TXBaxrLfOasUdn36cRQPN  0.881833        2  \n",
       "7   spotify:track:6EJOWpdxctI8JIvmvEcE9Y  0.822153        2  \n",
       "11  spotify:track:6GKqsWnDfpkgFrftChVHcw  0.820960        2  \n",
       "13  spotify:track:4yQZFoU9aPXj9ycOyz1AIF  0.736214        2  \n",
       "17  spotify:track:4afUP39D8Dlast8vdvRKrw  0.977322        2  \n",
       "21  spotify:track:12jHYDhSTWMcOOqwSxnx01  0.883027        2  \n",
       "27  spotify:track:3woptHfuKkrFvTqmCS9Mn7  0.755312        2  \n",
       "28  spotify:track:4oyFAJrZqKgECcZe2euA5m  0.941513        2  \n",
       "33  spotify:track:4U8QAiTjj3cfmrXfflbcNo  0.772022        2  \n",
       "37  spotify:track:1Y5hLt3uWM1jZWE4Rzm90E  0.705180        2  \n",
       "39  spotify:track:6kLKWa9skOR4s4gSVKcXMB  0.707567        2  \n",
       "41  spotify:track:2nGgvKTQd3NwhWrsVVVC5n  1.000000        2  \n",
       "42  spotify:track:1nrvksAMsxoiEbUkQyxOXo  0.927190        2  \n",
       "47  spotify:track:4kVxStqN7DeoZje5aidAn3  0.855574        2  \n",
       "51  spotify:track:5f1RQ9Xq2iS2JUx9eowJov  0.915254        2  \n",
       "58  spotify:track:0uCIPyaPjArUBR1dyGiRfs  0.917641        2  \n",
       "59  spotify:track:42SoWrrncUjW7BXZutONZA  0.768441        2  \n",
       "62  spotify:track:6dHatCnuOb1TdBIeJTK3Y0  0.856768        2  \n",
       "63  spotify:track:685wafKZSIbPoZeuzDvcWs  0.714729        2  \n",
       "66  spotify:track:6i6cWTCYBOKEdJnWjzm2yk  0.711148        2  \n",
       "68  spotify:track:3GRBtVv3gbDwu3e0nkTP74  0.828121        2  \n",
       "75  spotify:track:7c5EpKbPpL86QVaP8yla8e  0.814992        2  \n",
       "76  spotify:track:0WNqXbK6UYqNCeIgZHIuFW  0.661017        2  \n",
       "77  spotify:track:5FX89IUKm9QJT9ymrmyK4k  0.917641        2  \n",
       "81  spotify:track:014S84Cgs1uGmWOIW6V9U9  0.760086        2  \n",
       "85  spotify:track:6O4zEx1kzm32mXlUIOthSw  0.980902        2  \n",
       "86  spotify:track:5jAvbp8kEnRPToi4Bzcvzt  0.766054        2  \n",
       "87  spotify:track:2h36x9m5QyPB1G8J1SbU0z  0.758892        2  \n",
       "88  spotify:track:2uujJLrRplaQMkEx8CybZ8  0.830508        2  \n",
       "89  spotify:track:4xQqSxEGkh4iDGQ4NWuNgW  0.953450        2  \n",
       "92  spotify:track:0wASQ9xMN5CR5K7TdYCDbd  0.731439        2  "
      ]
     },
     "execution_count": 92,
     "metadata": {},
     "output_type": "execute_result"
    }
   ],
   "source": [
    "clustered_df[clustered_df['cluster'] == 2]"
   ]
  },
  {
   "cell_type": "markdown",
   "metadata": {},
   "source": [
    "Looks pretty good, I recognize many of the songs as being both happy and energetic.\n",
    "\n",
    "Of course these clusters do not take music genre in to account at all, so the schizophrenic nature of my data set leads to a playlist with both Hiphop and Pop. But sometimes this could be exactly what I want! A complete mix of songs I like, with the condition that they should have a certain mood!\n",
    "\n",
    "In this case a simpler solution might have achieved similar results though. \n",
    "For example, if I just want happy and energetic tracks I could also have used a filter like \"choose tracks above valence x and energy y\".\n",
    "\n",
    "Anyway, lets save this playlist so I can listen to it on Spotify!"
   ]
  },
  {
   "cell_type": "code",
   "execution_count": 85,
   "metadata": {
    "collapsed": true
   },
   "outputs": [],
   "source": [
    "import happify"
   ]
  },
  {
   "cell_type": "code",
   "execution_count": 90,
   "metadata": {},
   "outputs": [
    {
     "data": {
      "text/plain": [
       "<module 'happify' from 'C:\\\\Users\\\\Gustav\\\\Data Science\\\\Happify\\\\happify.py'>"
      ]
     },
     "execution_count": 90,
     "metadata": {},
     "output_type": "execute_result"
    }
   ],
   "source": [
    "import imp\n",
    "imp.reload(happify)"
   ]
  },
  {
   "cell_type": "code",
   "execution_count": null,
   "metadata": {
    "collapsed": true
   },
   "outputs": [],
   "source": [
    "access_token = happify.authorize()"
   ]
  },
  {
   "cell_type": "code",
   "execution_count": 87,
   "metadata": {
    "collapsed": true
   },
   "outputs": [],
   "source": [
    "user_id = happify.get_user_id(access_token)"
   ]
  },
  {
   "cell_type": "code",
   "execution_count": 93,
   "metadata": {},
   "outputs": [],
   "source": [
    "track_uris = list(clustered_df[clustered_df['cluster'] == 2]['uri'])\n",
    "playlist_id = happify.create_playlist(access_token, user_id, \"KMeans - Happy and Energetic\")\n",
    "r = happify.add_tracks_to_playlist(access_token, playlist_id, user_id, track_uris = track_uris)"
   ]
  },
  {
   "cell_type": "markdown",
   "metadata": {},
   "source": [
    "**Lesson learned:** I think just mindlessly applying any clustering method to all features will result in clusters that I won't find very meaningful. An unsupervised method has no way of knowing what clusters I will find meaningful, so I must do careful feature engineering to ensure I get meaningful results."
   ]
  },
  {
   "cell_type": "markdown",
   "metadata": {},
   "source": [
    "# Finding meanigful features\n",
    "Before trying any other clustering methods I want to find a useful set of features.\n",
    "\n",
    "A method I have used a lot previously is PCA. \n",
    "PCA considers features with high variance more important. \n",
    "This might not be what I want when clustering, for example, I am not particularly interested in the duration of tracks but for all I know it could have high variance.\n",
    "\n",
    "Let's try to achieve clustering similar to the playlist labels by doing dimensionality reduction using Linear Discriminant Analysis (LDA). \n",
    "This should give higher weight to features that separate the two playlist."
   ]
  },
  {
   "cell_type": "code",
   "execution_count": 96,
   "metadata": {},
   "outputs": [],
   "source": [
    "from sklearn.discriminant_analysis import LinearDiscriminantAnalysis as LDA"
   ]
  },
  {
   "cell_type": "code",
   "execution_count": 118,
   "metadata": {},
   "outputs": [],
   "source": [
    "lda = LDA()"
   ]
  },
  {
   "cell_type": "code",
   "execution_count": 119,
   "metadata": {
    "collapsed": true
   },
   "outputs": [],
   "source": [
    "X, y = normalised_df[quantitative_features].values, normalised_df['playlist']"
   ]
  },
  {
   "cell_type": "code",
   "execution_count": 120,
   "metadata": {},
   "outputs": [
    {
     "data": {
      "text/plain": [
       "LinearDiscriminantAnalysis(n_components=None, priors=None, shrinkage=None,\n",
       "              solver='svd', store_covariance=False, tol=0.0001)"
      ]
     },
     "execution_count": 120,
     "metadata": {},
     "output_type": "execute_result"
    }
   ],
   "source": [
    "lda.fit(X, y)"
   ]
  },
  {
   "cell_type": "code",
   "execution_count": 122,
   "metadata": {},
   "outputs": [],
   "source": [
    "X_transformed = lda.transform(X)"
   ]
  },
  {
   "cell_type": "code",
   "execution_count": 126,
   "metadata": {
    "collapsed": true
   },
   "outputs": [],
   "source": [
    "reduced_df = normalised_df.copy()\n",
    "reduced_df['LDA Value'] = X_transformed"
   ]
  },
  {
   "cell_type": "code",
   "execution_count": 135,
   "metadata": {},
   "outputs": [
    {
     "data": {
      "text/plain": [
       "<matplotlib.text.Text at 0x2802cef26d8>"
      ]
     },
     "execution_count": 135,
     "metadata": {},
     "output_type": "execute_result"
    },
    {
     "data": {
      "image/png": "[encoded data removed]",
      "text/plain": [
       "<matplotlib.figure.Figure at 0x2802cdc2ef0>"
      ]
     },
     "metadata": {},
     "output_type": "display_data"
    }
   ],
   "source": [
    "f, ax = plt.subplots(figsize=(16,9))\n",
    "sns.boxplot(x='playlist', y='LDA Value', data=reduced_df)\n",
    "ax.set_title('Audio Features Reduced to One Dimensions Using LDA')"
   ]
  },
  {
   "cell_type": "markdown",
   "metadata": {},
   "source": [
    "The data is now reduced to one dimension, where the two playlists are almost linearly separable.\n",
    "\n",
    "Let's have a look at what features LDA found to correspond to each class.\n",
    "Features scaled with a large positive value are associated with `Swedish Pop`, and features with large negative values are associated with `American Hiphop`."
   ]
  },
  {
   "cell_type": "code",
   "execution_count": 153,
   "metadata": {},
   "outputs": [
    {
     "data": {
      "text/plain": [
       "<matplotlib.text.Text at 0x2802da208d0>"
      ]
     },
     "execution_count": 153,
     "metadata": {},
     "output_type": "execute_result"
    },
    {
     "data": {
      "image/png": "[encoded data removed]",
      "text/plain": [
       "<matplotlib.figure.Figure at 0x2802e660eb8>"
      ]
     },
     "metadata": {},
     "output_type": "display_data"
    }
   ],
   "source": [
    "f, ax = plt.subplots(figsize=(16,9))\n",
    "sns.barplot(x = quantitative_features, y = lda.scalings_.flatten(), ax=ax)\n",
    "ax.axhline(0)\n",
    "ax.set_title('Audio Features and Their Association with Playlist According to LDA')\n",
    "ax.set_ylabel('Scaling Factor')"
   ]
  },
  {
   "cell_type": "markdown",
   "metadata": {},
   "source": [
    "Positive `speechiness` is highy associated with Rap as expected, and is by far the most important feature used to distinguish tracks from the two playlists.\n",
    "\n",
    "Other important features are `danceability`, `tempo` and `instrumentalness`, though the large value given to `instrumentalness` is probably due to most values being close to 0 with some outliers affecting the normalised value.\n",
    "\n",
    "Still, even though these features do a good job of separating these two specific playlists, they are not really the features I am looking at first when choosing what tracks I feel like listening to.\n",
    "\n",
    "When Spotify crates Daily Mixes for me I suspect they don't apply clustering based on audio features on their whole set of tracks. \n",
    "It seems more likely that they would reduce the possible tracks with simpler methods first, and possibly apply clustering to the audio features at a later stage.\n",
    "\n",
    "For simplicity, consider my list of 95 tracks as all tracks in the Spotify music library.\n",
    "To create relevant playlist based on this library, I would probably start of by looking at a more high level grouping of tracks such as genre. \n",
    "This is not available in the track data I fetched, but I imagine Spotify have these kind of tags for all tracks.\n",
    "I would limit a playlist to just one genre or combination of genres.\n",
    "I would then apply clustering on only tracks from this genre to try to find subgroups of similar tracks.\n",
    "\n",
    "Lets try this approach to find an arbitrary number of subgroups inside the `Swedish Pop` playlist."
   ]
  },
  {
   "cell_type": "markdown",
   "metadata": {},
   "source": [
    "# DBSCAN\n",
    "Lets use DBSCAN to find an unspecified number of clusters in the `Swedish Pop` playlist."
   ]
  },
  {
   "cell_type": "code",
   "execution_count": 223,
   "metadata": {
    "collapsed": true
   },
   "outputs": [],
   "source": [
    "swedish_pop = normalised_df.loc[normalised_df['playlist'] == 'Swedish Pop']"
   ]
  },
  {
   "cell_type": "code",
   "execution_count": 154,
   "metadata": {
    "collapsed": true
   },
   "outputs": [],
   "source": [
    "from sklearn.cluster import DBSCAN"
   ]
  },
  {
   "cell_type": "markdown",
   "metadata": {},
   "source": [
    "## All quantitative featutres"
   ]
  },
  {
   "cell_type": "code",
   "execution_count": 226,
   "metadata": {},
   "outputs": [],
   "source": [
    "X = swedish_pop.loc[:,quantitative_features].values"
   ]
  },
  {
   "cell_type": "markdown",
   "metadata": {},
   "source": [
    "To find a good value of epsilon I should have a look at what the distances in X look like."
   ]
  },
  {
   "cell_type": "code",
   "execution_count": 227,
   "metadata": {
    "collapsed": true
   },
   "outputs": [],
   "source": [
    "from sklearn.metrics import pairwise"
   ]
  },
  {
   "cell_type": "code",
   "execution_count": 228,
   "metadata": {},
   "outputs": [],
   "source": [
    "distances = pairwise.euclidean_distances(X)"
   ]
  },
  {
   "cell_type": "code",
   "execution_count": 229,
   "metadata": {},
   "outputs": [
    {
     "data": {
      "text/plain": [
       "<matplotlib.text.Text at 0x2802e0e6da0>"
      ]
     },
     "execution_count": 229,
     "metadata": {},
     "output_type": "execute_result"
    },
    {
     "data": {
      "image/png": "[encoded data removed]",
      "text/plain": [
       "<matplotlib.figure.Figure at 0x2802e112f28>"
      ]
     },
     "metadata": {},
     "output_type": "display_data"
    }
   ],
   "source": [
    "f, ax = plt.subplots(figsize=(16,9))\n",
    "sns.distplot(distances.flatten(), ax=ax)\n",
    "ax.set_title('Distribution of track distances in the Swedish Pop playlist')\n",
    "ax.set_ylabel('Density')\n",
    "ax.set_xlabel('Distance')"
   ]
  },
  {
   "cell_type": "markdown",
   "metadata": {},
   "source": [
    "Lets try epsilon around .4, I don't want to many points to be considered neighbours."
   ]
  },
  {
   "cell_type": "code",
   "execution_count": 230,
   "metadata": {
    "collapsed": true
   },
   "outputs": [],
   "source": [
    "dbscan = DBSCAN(eps = .4, min_samples=3)"
   ]
  },
  {
   "cell_type": "code",
   "execution_count": 231,
   "metadata": {},
   "outputs": [],
   "source": [
    "labels = dbscan.fit_predict(X)"
   ]
  },
  {
   "cell_type": "code",
   "execution_count": 232,
   "metadata": {},
   "outputs": [
    {
     "data": {
      "text/plain": [
       "array([-1, -1, -1,  0, -1,  0,  0,  0, -1,  0, -1,  0,  0, -1, -1,  0,  0,\n",
       "       -1, -1, -1,  0,  0, -1,  0,  0,  1, -1,  0, -1,  0,  0, -1,  1,  0,\n",
       "        0,  1, -1,  0,  0,  0,  0,  0,  0,  0,  0, -1, -1], dtype=int64)"
      ]
     },
     "execution_count": 232,
     "metadata": {},
     "output_type": "execute_result"
    }
   ],
   "source": [
    "labels"
   ]
  },
  {
   "cell_type": "code",
   "execution_count": 239,
   "metadata": {},
   "outputs": [],
   "source": [
    "clustered_df = swedish_pop.copy()\n",
    "clustered_df['cluster'] = labels\n",
    "clustered_df['cluster'] = clustered_df['cluster'].astype(float).replace(-1, np.nan)"
   ]
  },
  {
   "cell_type": "code",
   "execution_count": 243,
   "metadata": {},
   "outputs": [
    {
     "name": "stdout",
     "output_type": "stream",
     "text": [
      "18 tracks did not get assigned a cluster\n"
     ]
    }
   ],
   "source": [
    "print(\"{} tracks did not get assigned a cluster\".format(clustered_df['cluster'].isnull().sum()))"
   ]
  },
  {
   "cell_type": "markdown",
   "metadata": {},
   "source": [
    "18 tracks did not get assigned a cluster. I could change this value by tweaking the epsilon and minimum_samples parameters of DBSCAN, but it does not really matter that some tracks don't find a cluster."
   ]
  },
  {
   "cell_type": "code",
   "execution_count": 244,
   "metadata": {},
   "outputs": [
    {
     "data": {
      "text/plain": [
       "<matplotlib.text.Text at 0x2802d672b00>"
      ]
     },
     "execution_count": 244,
     "metadata": {},
     "output_type": "execute_result"
    },
    {
     "data": {
      "image/png": "[encoded data removed]",
      "text/plain": [
       "<matplotlib.figure.Figure at 0x2802decbc18>"
      ]
     },
     "metadata": {},
     "output_type": "display_data"
    }
   ],
   "source": [
    "df = clustered_df.melt(id_vars = 'cluster', value_vars=quantitative_features)\n",
    "\n",
    "f, ax = plt.subplots(figsize=(16,9))\n",
    "sns.boxplot(x = 'variable', y='value', hue = 'cluster', data = df, ax=ax)\n",
    "ax.set_title('Boxplot of various normalised audio features for DBSCAN clusters')"
   ]
  },
  {
   "cell_type": "code",
   "execution_count": 245,
   "metadata": {},
   "outputs": [
    {
     "data": {
      "text/html": [
       "<div>\n",
       "<style>\n",
       "    .dataframe thead tr:only-child th {\n",
       "        text-align: right;\n",
       "    }\n",
       "\n",
       "    .dataframe thead th {\n",
       "        text-align: left;\n",
       "    }\n",
       "\n",
       "    .dataframe tbody tr th {\n",
       "        vertical-align: top;\n",
       "    }\n",
       "</style>\n",
       "<table border=\"1\" class=\"dataframe\">\n",
       "  <thead>\n",
       "    <tr style=\"text-align: right;\">\n",
       "      <th></th>\n",
       "      <th>album</th>\n",
       "      <th>artists</th>\n",
       "      <th>name</th>\n",
       "      <th>playlist</th>\n",
       "      <th>acousticness</th>\n",
       "      <th>danceability</th>\n",
       "      <th>duration_ms</th>\n",
       "      <th>energy</th>\n",
       "      <th>instrumentalness</th>\n",
       "      <th>key</th>\n",
       "      <th>liveness</th>\n",
       "      <th>loudness</th>\n",
       "      <th>mode</th>\n",
       "      <th>speechiness</th>\n",
       "      <th>tempo</th>\n",
       "      <th>time_signature</th>\n",
       "      <th>uri</th>\n",
       "      <th>valence</th>\n",
       "      <th>cluster</th>\n",
       "    </tr>\n",
       "  </thead>\n",
       "  <tbody>\n",
       "    <tr>\n",
       "      <th>25</th>\n",
       "      <td>Så mycket Bo Kaspers Orkester</td>\n",
       "      <td>[Bo Kaspers Orkester]</td>\n",
       "      <td>Vi kommer aldrig att dö - 2009 Version</td>\n",
       "      <td>Swedish Pop</td>\n",
       "      <td>0.832991</td>\n",
       "      <td>0.582090</td>\n",
       "      <td>0.774378</td>\n",
       "      <td>0.335895</td>\n",
       "      <td>0.006077</td>\n",
       "      <td>F</td>\n",
       "      <td>0.078978</td>\n",
       "      <td>0.670044</td>\n",
       "      <td>Minor</td>\n",
       "      <td>0.014288</td>\n",
       "      <td>0.346797</td>\n",
       "      <td>4</td>\n",
       "      <td>spotify:track:4hbijkxB7YcmzjMBUGGR09</td>\n",
       "      <td>0.095249</td>\n",
       "      <td>1.0</td>\n",
       "    </tr>\n",
       "    <tr>\n",
       "      <th>32</th>\n",
       "      <td>Moto Boy</td>\n",
       "      <td>[Moto Boy]</td>\n",
       "      <td>Beat heart</td>\n",
       "      <td>Swedish Pop</td>\n",
       "      <td>0.960284</td>\n",
       "      <td>0.564450</td>\n",
       "      <td>0.604729</td>\n",
       "      <td>0.231614</td>\n",
       "      <td>0.000112</td>\n",
       "      <td>C#</td>\n",
       "      <td>0.066314</td>\n",
       "      <td>0.524384</td>\n",
       "      <td>Minor</td>\n",
       "      <td>0.009409</td>\n",
       "      <td>0.412372</td>\n",
       "      <td>4</td>\n",
       "      <td>spotify:track:6WbIf3CGwLDJtDqOVn7OV4</td>\n",
       "      <td>0.140606</td>\n",
       "      <td>1.0</td>\n",
       "    </tr>\n",
       "    <tr>\n",
       "      <th>35</th>\n",
       "      <td>Däggdjur</td>\n",
       "      <td>[Säkert!]</td>\n",
       "      <td>Allting flyter</td>\n",
       "      <td>Swedish Pop</td>\n",
       "      <td>0.786146</td>\n",
       "      <td>0.382632</td>\n",
       "      <td>0.632297</td>\n",
       "      <td>0.395170</td>\n",
       "      <td>0.000000</td>\n",
       "      <td>C</td>\n",
       "      <td>0.022795</td>\n",
       "      <td>0.706208</td>\n",
       "      <td>Major</td>\n",
       "      <td>0.006796</td>\n",
       "      <td>0.347456</td>\n",
       "      <td>4</td>\n",
       "      <td>spotify:track:26mg5XX5LBvXLRDtF3gvMB</td>\n",
       "      <td>0.159704</td>\n",
       "      <td>1.0</td>\n",
       "    </tr>\n",
       "  </tbody>\n",
       "</table>\n",
       "</div>"
      ],
      "text/plain": [
       "                            album                artists  \\\n",
       "25  Så mycket Bo Kaspers Orkester  [Bo Kaspers Orkester]   \n",
       "32                       Moto Boy             [Moto Boy]   \n",
       "35                       Däggdjur              [Säkert!]   \n",
       "\n",
       "                                      name     playlist  acousticness  \\\n",
       "25  Vi kommer aldrig att dö - 2009 Version  Swedish Pop      0.832991   \n",
       "32                              Beat heart  Swedish Pop      0.960284   \n",
       "35                          Allting flyter  Swedish Pop      0.786146   \n",
       "\n",
       "    danceability  duration_ms    energy  instrumentalness key  liveness  \\\n",
       "25      0.582090     0.774378  0.335895          0.006077   F  0.078978   \n",
       "32      0.564450     0.604729  0.231614          0.000112  C#  0.066314   \n",
       "35      0.382632     0.632297  0.395170          0.000000   C  0.022795   \n",
       "\n",
       "    loudness   mode  speechiness     tempo  time_signature  \\\n",
       "25  0.670044  Minor     0.014288  0.346797               4   \n",
       "32  0.524384  Minor     0.009409  0.412372               4   \n",
       "35  0.706208  Major     0.006796  0.347456               4   \n",
       "\n",
       "                                     uri   valence  cluster  \n",
       "25  spotify:track:4hbijkxB7YcmzjMBUGGR09  0.095249      1.0  \n",
       "32  spotify:track:6WbIf3CGwLDJtDqOVn7OV4  0.140606      1.0  \n",
       "35  spotify:track:26mg5XX5LBvXLRDtF3gvMB  0.159704      1.0  "
      ]
     },
     "execution_count": 245,
     "metadata": {},
     "output_type": "execute_result"
    }
   ],
   "source": [
    "clustered_df[clustered_df['cluster'] == 1.0]"
   ]
  },
  {
   "cell_type": "markdown",
   "metadata": {},
   "source": [
    "So this is the small cluster. \n",
    "All three songs are quite melancholic, reflected by their low valence.\n",
    "However, I would say Bo Kaspers Orkester's Vi kommer aldrig att dö is the least melancholic of the three, though it's valence is the lowest.\n",
    "Spotify's definition of valence might not completely match my expectation.\n",
    "To evaluate the features properly I would need to explore them in more detail, perhaps by putting them in relation to some songs I know well.\n",
    "I will leave this for another time though.\n",
    "\n",
    "Let's try to reduce the number of features again, as I am not very happy with this first set of clusters."
   ]
  },
  {
   "cell_type": "markdown",
   "metadata": {},
   "source": [
    "## Fewer features"
   ]
  },
  {
   "cell_type": "markdown",
   "metadata": {},
   "source": [
    "Again, I will try to reduce the feature set to features I am interested in. Let's start with just Valence and Energy."
   ]
  },
  {
   "cell_type": "code",
   "execution_count": 247,
   "metadata": {
    "collapsed": true
   },
   "outputs": [],
   "source": [
    "X = swedish_pop.loc[:,['valence', 'energy']].values"
   ]
  },
  {
   "cell_type": "markdown",
   "metadata": {},
   "source": [
    "To find a good value of epsilon I should have a look at what the distances in X look like."
   ]
  },
  {
   "cell_type": "code",
   "execution_count": 248,
   "metadata": {
    "collapsed": true
   },
   "outputs": [],
   "source": [
    "distances = pairwise.euclidean_distances(X)"
   ]
  },
  {
   "cell_type": "code",
   "execution_count": 249,
   "metadata": {},
   "outputs": [
    {
     "data": {
      "text/plain": [
       "<matplotlib.text.Text at 0x2803178e828>"
      ]
     },
     "execution_count": 249,
     "metadata": {},
     "output_type": "execute_result"
    },
    {
     "data": {
      "image/png": "[encoded data removed]",
      "text/plain": [
       "<matplotlib.figure.Figure at 0x28031785208>"
      ]
     },
     "metadata": {},
     "output_type": "display_data"
    }
   ],
   "source": [
    "f, ax = plt.subplots(figsize=(16,9))\n",
    "sns.distplot(distances.flatten(), ax=ax)\n",
    "ax.set_title('Distribution of track distances in the Swedish Pop playlist')\n",
    "ax.set_ylabel('Density')\n",
    "ax.set_xlabel('Distance')"
   ]
  },
  {
   "cell_type": "markdown",
   "metadata": {},
   "source": [
    "Lets try epsilon around .1, I don't want to many points to be considered neighbours."
   ]
  },
  {
   "cell_type": "code",
   "execution_count": 283,
   "metadata": {
    "collapsed": true
   },
   "outputs": [],
   "source": [
    "dbscan = DBSCAN(eps = .12, min_samples=3)"
   ]
  },
  {
   "cell_type": "code",
   "execution_count": 284,
   "metadata": {
    "collapsed": true
   },
   "outputs": [],
   "source": [
    "labels = dbscan.fit_predict(X)"
   ]
  },
  {
   "cell_type": "code",
   "execution_count": 285,
   "metadata": {},
   "outputs": [
    {
     "data": {
      "text/plain": [
       "array([ 0,  1,  2,  3,  2,  4,  3,  3,  0,  1, -1,  3,  1, -1,  0,  3,  1,\n",
       "        3,  2,  1,  1,  3,  1,  0,  0,  2,  0,  3,  3,  4, -1,  2,  2,  3,\n",
       "        1,  2, -1,  3,  1,  3,  1,  3,  3,  3,  1,  1,  4], dtype=int64)"
      ]
     },
     "execution_count": 285,
     "metadata": {},
     "output_type": "execute_result"
    }
   ],
   "source": [
    "labels"
   ]
  },
  {
   "cell_type": "code",
   "execution_count": 286,
   "metadata": {
    "collapsed": true
   },
   "outputs": [],
   "source": [
    "clustered_df = swedish_pop.copy()\n",
    "clustered_df['cluster'] = labels\n",
    "clustered_df['cluster'] = clustered_df['cluster'].astype(float).replace(-1, np.nan)"
   ]
  },
  {
   "cell_type": "code",
   "execution_count": 287,
   "metadata": {},
   "outputs": [
    {
     "name": "stdout",
     "output_type": "stream",
     "text": [
      "4 tracks did not get assigned a cluster\n"
     ]
    }
   ],
   "source": [
    "print(\"{} tracks did not get assigned a cluster\".format(clustered_df['cluster'].isnull().sum()))"
   ]
  },
  {
   "cell_type": "markdown",
   "metadata": {},
   "source": [
    "4 tracks did not get assigned a cluster. I could change this value by tweaking the epsilon and minimum_samples parameters of DBSCAN, but it does not really matter that some tracks don't find a cluster."
   ]
  },
  {
   "cell_type": "code",
   "execution_count": 288,
   "metadata": {},
   "outputs": [
    {
     "data": {
      "text/plain": [
       "<matplotlib.text.Text at 0x28032483470>"
      ]
     },
     "execution_count": 288,
     "metadata": {},
     "output_type": "execute_result"
    },
    {
     "data": {
      "image/png": "[encoded data removed]",
      "text/plain": [
       "<matplotlib.figure.Figure at 0x28032461358>"
      ]
     },
     "metadata": {},
     "output_type": "display_data"
    }
   ],
   "source": [
    "g = sns.lmplot(x='energy', y='valence', hue = 'cluster', data=clustered_df, fit_reg=False)\n",
    "g.ax.set_title('Clustering spotify tracks based on energy and valence')"
   ]
  },
  {
   "cell_type": "code",
   "execution_count": 289,
   "metadata": {},
   "outputs": [
    {
     "data": {
      "text/html": [
       "<div>\n",
       "<style>\n",
       "    .dataframe thead tr:only-child th {\n",
       "        text-align: right;\n",
       "    }\n",
       "\n",
       "    .dataframe thead th {\n",
       "        text-align: left;\n",
       "    }\n",
       "\n",
       "    .dataframe tbody tr th {\n",
       "        vertical-align: top;\n",
       "    }\n",
       "</style>\n",
       "<table border=\"1\" class=\"dataframe\">\n",
       "  <thead>\n",
       "    <tr style=\"text-align: right;\">\n",
       "      <th></th>\n",
       "      <th>album</th>\n",
       "      <th>artists</th>\n",
       "      <th>name</th>\n",
       "      <th>playlist</th>\n",
       "      <th>acousticness</th>\n",
       "      <th>danceability</th>\n",
       "      <th>duration_ms</th>\n",
       "      <th>energy</th>\n",
       "      <th>instrumentalness</th>\n",
       "      <th>key</th>\n",
       "      <th>liveness</th>\n",
       "      <th>loudness</th>\n",
       "      <th>mode</th>\n",
       "      <th>speechiness</th>\n",
       "      <th>tempo</th>\n",
       "      <th>time_signature</th>\n",
       "      <th>uri</th>\n",
       "      <th>valence</th>\n",
       "      <th>cluster</th>\n",
       "    </tr>\n",
       "  </thead>\n",
       "  <tbody>\n",
       "    <tr>\n",
       "      <th>0</th>\n",
       "      <td>Snart Skiner Poseidon</td>\n",
       "      <td>[Joel Alme]</td>\n",
       "      <td>Snart Skiner Poseidon</td>\n",
       "      <td>Swedish Pop</td>\n",
       "      <td>0.843174</td>\n",
       "      <td>0.169607</td>\n",
       "      <td>0.351810</td>\n",
       "      <td>0.450055</td>\n",
       "      <td>0.000005</td>\n",
       "      <td>D</td>\n",
       "      <td>0.113516</td>\n",
       "      <td>0.837496</td>\n",
       "      <td>Major</td>\n",
       "      <td>0.009584</td>\n",
       "      <td>0.548811</td>\n",
       "      <td>3</td>\n",
       "      <td>spotify:track:2eljaMe4nUwA2vqdzVV8FX</td>\n",
       "      <td>0.328002</td>\n",
       "      <td>0.0</td>\n",
       "    </tr>\n",
       "    <tr>\n",
       "      <th>8</th>\n",
       "      <td>En apa som liknar dig</td>\n",
       "      <td>[Olle Ljungström]</td>\n",
       "      <td>Med eller utan</td>\n",
       "      <td>Swedish Pop</td>\n",
       "      <td>0.050083</td>\n",
       "      <td>0.799186</td>\n",
       "      <td>0.448552</td>\n",
       "      <td>0.442371</td>\n",
       "      <td>0.000386</td>\n",
       "      <td>D</td>\n",
       "      <td>0.064011</td>\n",
       "      <td>0.580869</td>\n",
       "      <td>Major</td>\n",
       "      <td>0.000697</td>\n",
       "      <td>0.236813</td>\n",
       "      <td>4</td>\n",
       "      <td>spotify:track:4pNq7S5IEuud8fJ8SSMMCa</td>\n",
       "      <td>0.360229</td>\n",
       "      <td>0.0</td>\n",
       "    </tr>\n",
       "    <tr>\n",
       "      <th>14</th>\n",
       "      <td>Allting som vi sa</td>\n",
       "      <td>[Ida Redig]</td>\n",
       "      <td>Allting som vi sa</td>\n",
       "      <td>Swedish Pop</td>\n",
       "      <td>0.175136</td>\n",
       "      <td>0.523745</td>\n",
       "      <td>0.346829</td>\n",
       "      <td>0.574094</td>\n",
       "      <td>0.000000</td>\n",
       "      <td>E</td>\n",
       "      <td>0.032006</td>\n",
       "      <td>0.601013</td>\n",
       "      <td>Major</td>\n",
       "      <td>0.033630</td>\n",
       "      <td>0.589662</td>\n",
       "      <td>4</td>\n",
       "      <td>spotify:track:6cUEmMGO2aOrjGtqiWGL61</td>\n",
       "      <td>0.242063</td>\n",
       "      <td>0.0</td>\n",
       "    </tr>\n",
       "    <tr>\n",
       "      <th>23</th>\n",
       "      <td>Somebody Outside</td>\n",
       "      <td>[Anna Ternheim]</td>\n",
       "      <td>Better Be</td>\n",
       "      <td>Swedish Pop</td>\n",
       "      <td>0.083485</td>\n",
       "      <td>0.426052</td>\n",
       "      <td>0.587769</td>\n",
       "      <td>0.488474</td>\n",
       "      <td>0.000061</td>\n",
       "      <td>C</td>\n",
       "      <td>0.174534</td>\n",
       "      <td>0.741194</td>\n",
       "      <td>Minor</td>\n",
       "      <td>0.000000</td>\n",
       "      <td>0.252290</td>\n",
       "      <td>4</td>\n",
       "      <td>spotify:track:4A7WgqK0eTfvsPbZC8TG9e</td>\n",
       "      <td>0.258773</td>\n",
       "      <td>0.0</td>\n",
       "    </tr>\n",
       "    <tr>\n",
       "      <th>24</th>\n",
       "      <td>Svart blogg (Deluxe Edition)</td>\n",
       "      <td>[Eldkvarn]</td>\n",
       "      <td>Fulla för kärlekens skull</td>\n",
       "      <td>Swedish Pop</td>\n",
       "      <td>0.350292</td>\n",
       "      <td>0.324288</td>\n",
       "      <td>1.000000</td>\n",
       "      <td>0.577387</td>\n",
       "      <td>0.000003</td>\n",
       "      <td>E</td>\n",
       "      <td>0.126180</td>\n",
       "      <td>0.859819</td>\n",
       "      <td>Major</td>\n",
       "      <td>0.014114</td>\n",
       "      <td>0.433138</td>\n",
       "      <td>4</td>\n",
       "      <td>spotify:track:3myN8VIQbnMGr9qHiczMcf</td>\n",
       "      <td>0.218190</td>\n",
       "      <td>0.0</td>\n",
       "    </tr>\n",
       "    <tr>\n",
       "      <th>26</th>\n",
       "      <td>Orka då</td>\n",
       "      <td>[Emil Jensen]</td>\n",
       "      <td>Sudditjuven</td>\n",
       "      <td>Swedish Pop</td>\n",
       "      <td>0.539706</td>\n",
       "      <td>0.546811</td>\n",
       "      <td>0.394513</td>\n",
       "      <td>0.506037</td>\n",
       "      <td>0.000003</td>\n",
       "      <td>F</td>\n",
       "      <td>0.050196</td>\n",
       "      <td>0.599305</td>\n",
       "      <td>Minor</td>\n",
       "      <td>0.009584</td>\n",
       "      <td>0.278567</td>\n",
       "      <td>4</td>\n",
       "      <td>spotify:track:2GyqOkWjGqCb79YrgYdRN4</td>\n",
       "      <td>0.270709</td>\n",
       "      <td>0.0</td>\n",
       "    </tr>\n",
       "  </tbody>\n",
       "</table>\n",
       "</div>"
      ],
      "text/plain": [
       "                           album            artists  \\\n",
       "0          Snart Skiner Poseidon        [Joel Alme]   \n",
       "8          En apa som liknar dig  [Olle Ljungström]   \n",
       "14             Allting som vi sa        [Ida Redig]   \n",
       "23              Somebody Outside    [Anna Ternheim]   \n",
       "24  Svart blogg (Deluxe Edition)         [Eldkvarn]   \n",
       "26                       Orka då      [Emil Jensen]   \n",
       "\n",
       "                         name     playlist  acousticness  danceability  \\\n",
       "0       Snart Skiner Poseidon  Swedish Pop      0.843174      0.169607   \n",
       "8              Med eller utan  Swedish Pop      0.050083      0.799186   \n",
       "14          Allting som vi sa  Swedish Pop      0.175136      0.523745   \n",
       "23                  Better Be  Swedish Pop      0.083485      0.426052   \n",
       "24  Fulla för kärlekens skull  Swedish Pop      0.350292      0.324288   \n",
       "26                Sudditjuven  Swedish Pop      0.539706      0.546811   \n",
       "\n",
       "    duration_ms    energy  instrumentalness key  liveness  loudness   mode  \\\n",
       "0      0.351810  0.450055          0.000005   D  0.113516  0.837496  Major   \n",
       "8      0.448552  0.442371          0.000386   D  0.064011  0.580869  Major   \n",
       "14     0.346829  0.574094          0.000000   E  0.032006  0.601013  Major   \n",
       "23     0.587769  0.488474          0.000061   C  0.174534  0.741194  Minor   \n",
       "24     1.000000  0.577387          0.000003   E  0.126180  0.859819  Major   \n",
       "26     0.394513  0.506037          0.000003   F  0.050196  0.599305  Minor   \n",
       "\n",
       "    speechiness     tempo  time_signature  \\\n",
       "0      0.009584  0.548811               3   \n",
       "8      0.000697  0.236813               4   \n",
       "14     0.033630  0.589662               4   \n",
       "23     0.000000  0.252290               4   \n",
       "24     0.014114  0.433138               4   \n",
       "26     0.009584  0.278567               4   \n",
       "\n",
       "                                     uri   valence  cluster  \n",
       "0   spotify:track:2eljaMe4nUwA2vqdzVV8FX  0.328002      0.0  \n",
       "8   spotify:track:4pNq7S5IEuud8fJ8SSMMCa  0.360229      0.0  \n",
       "14  spotify:track:6cUEmMGO2aOrjGtqiWGL61  0.242063      0.0  \n",
       "23  spotify:track:4A7WgqK0eTfvsPbZC8TG9e  0.258773      0.0  \n",
       "24  spotify:track:3myN8VIQbnMGr9qHiczMcf  0.218190      0.0  \n",
       "26  spotify:track:2GyqOkWjGqCb79YrgYdRN4  0.270709      0.0  "
      ]
     },
     "execution_count": 289,
     "metadata": {},
     "output_type": "execute_result"
    }
   ],
   "source": [
    "clustered_df[clustered_df['cluster'] == 0.0]"
   ]
  },
  {
   "cell_type": "markdown",
   "metadata": {},
   "source": [
    "The clusters get progressively more energetic and happy. \n",
    "Pretty cool!\n",
    "\n",
    "I think finding the right epsilon for your data is crucial to get resonable results with DBSCAN, iterating unti you find one you like is easy in a low number of dimensions, but challenging for 4+. \n",
    "\n",
    "It would be interesting to apply clustering to a larger, somwhat coherent, playlist to try to identify subgroups."
   ]
  },
  {
   "cell_type": "markdown",
   "metadata": {},
   "source": [
    "# Summary\n",
    "I have tried out KMeans and DBSCAN on the quantitative features of the spotify track data.\n",
    "It was hard to verify the meaningfulness of clusters created when using many features, and to achieve a clustering similar to the playlist labels I would most likely have to compromise on my choice of features. \n",
    "Using Linear Discriminant Analysis I showed that the two features were almost linearly separable, but the choice of features favoured features would not be very interesting for providing nuanced playlists.\n",
    "\n",
    "To solve the problem of building playlists bound to a specific genre, but also with a coherent feel in other respects such as happines, danciness etc. I suggest doing two or more stages of clustering.\n",
    "The first one could be very simple, like classifying genre using meta data or a clustering model.\n",
    "Then a second clustering model could be applied to figure out more subtle subgroups.\n",
    "\n",
    "Perhaps testing out clustering on multidimensional track data was not the best way of getting a feel for the effectiveness of different clustering models, but it was enjoyable to work with the Spotify data."
   ]
  }
 ],
 "metadata": {
  "kernelspec": {
   "display_name": "Python 3",
   "language": "python",
   "name": "python3"
  },
  "language_info": {
   "codemirror_mode": {
    "name": "ipython",
    "version": 3
   },
   "file_extension": ".py",
   "mimetype": "text/x-python",
   "name": "python",
   "nbconvert_exporter": "python",
   "pygments_lexer": "ipython3",
   "version": "3.6.2"
  }
 },
 "nbformat": 4,
 "nbformat_minor": 2
}
