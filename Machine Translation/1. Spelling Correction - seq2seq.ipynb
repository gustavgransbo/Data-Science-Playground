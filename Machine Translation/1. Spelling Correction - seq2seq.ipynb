{
 "cells": [
  {
   "cell_type": "markdown",
   "metadata": {},
   "source": [
    "# Introduction\n",
    "Inspired by [Maria Movin (2018)](http://www.nada.kth.se/~ann/exjobb/maria_movin.pdf) I want to attempt to perform spelling correction using a machine translation model.\n",
    "She uses a very similar model to what I used in `1. Machine Translation - Character Level Model`.\n",
    "\n",
    "I will attempt to use a similar model, but will also try to use an embedding layer for the characters.\n",
    "Perhaps the model could learn similarities between some characters?"
   ]
  },
  {
   "cell_type": "markdown",
   "metadata": {},
   "source": [
    "# Data\n",
    "I will be using the [Twitter Typo](http://luululu.com/tweet/) data set to train and evaluate my model.\n",
    "It consists of 39 172 misspelled words and their correct spelling, including some meta data about what type of misspelling it is.\n",
    "This data set was used by [Gosh and Kristensson (2015)](https://arxiv.org/pdf/1709.06429.pdf) to learn about common spelling mistakes in order to generate a larger data set of corrected words.\n",
    "As I am running my model on my weak laptop I will opt to not extend the data set."
   ]
  },
  {
   "cell_type": "code",
   "execution_count": 2,
   "metadata": {
    "collapsed": true
   },
   "outputs": [],
   "source": [
    "import pandas as pd\n",
    "import numpy as np\n",
    "import matplotlib.pyplot as plt\n",
    "import seaborn as sns\n",
    "sns.set()\n",
    "%matplotlib inline"
   ]
  },
  {
   "cell_type": "markdown",
   "metadata": {},
   "source": [
    "## Import the Data"
   ]
  },
  {
   "cell_type": "code",
   "execution_count": 3,
   "metadata": {
    "collapsed": true
   },
   "outputs": [],
   "source": [
    "data_path = 'data/twitter_typos/typo-corpus-r1.txt'\n",
    "with open(data_path, 'r', encoding='utf-8') as f:\n",
    "    lines = f.read().split('\\n')\n",
    "\n",
    "rows = []\n",
    "for line in lines:\n",
    "    rows.append(line.split('\\t')[:3])\n",
    "    "
   ]
  },
  {
   "cell_type": "code",
   "execution_count": 4,
   "metadata": {},
   "outputs": [
    {
     "data": {
      "text/plain": [
       "['york', 'work', 'R2']"
      ]
     },
     "execution_count": 4,
     "metadata": {},
     "output_type": "execute_result"
    }
   ],
   "source": [
    "rows[0]"
   ]
  },
  {
   "cell_type": "code",
   "execution_count": 5,
   "metadata": {},
   "outputs": [
    {
     "data": {
      "text/plain": [
       "['']"
      ]
     },
     "execution_count": 5,
     "metadata": {},
     "output_type": "execute_result"
    }
   ],
   "source": [
    "rows[-1]"
   ]
  },
  {
   "cell_type": "code",
   "execution_count": 6,
   "metadata": {
    "collapsed": true
   },
   "outputs": [],
   "source": [
    "rows = rows[:-1]"
   ]
  },
  {
   "cell_type": "code",
   "execution_count": 7,
   "metadata": {
    "collapsed": true
   },
   "outputs": [],
   "source": [
    "df = pd.DataFrame(data=rows, columns=['incorrect', 'correct', 'type'])"
   ]
  },
  {
   "cell_type": "code",
   "execution_count": 8,
   "metadata": {},
   "outputs": [
    {
     "data": {
      "text/html": [
       "<div>\n",
       "<style>\n",
       "    .dataframe thead tr:only-child th {\n",
       "        text-align: right;\n",
       "    }\n",
       "\n",
       "    .dataframe thead th {\n",
       "        text-align: left;\n",
       "    }\n",
       "\n",
       "    .dataframe tbody tr th {\n",
       "        vertical-align: top;\n",
       "    }\n",
       "</style>\n",
       "<table border=\"1\" class=\"dataframe\">\n",
       "  <thead>\n",
       "    <tr style=\"text-align: right;\">\n",
       "      <th></th>\n",
       "      <th>incorrect</th>\n",
       "      <th>correct</th>\n",
       "      <th>type</th>\n",
       "    </tr>\n",
       "  </thead>\n",
       "  <tbody>\n",
       "    <tr>\n",
       "      <th>0</th>\n",
       "      <td>york</td>\n",
       "      <td>work</td>\n",
       "      <td>R2</td>\n",
       "    </tr>\n",
       "    <tr>\n",
       "      <th>1</th>\n",
       "      <td>prople</td>\n",
       "      <td>people</td>\n",
       "      <td>R2</td>\n",
       "    </tr>\n",
       "    <tr>\n",
       "      <th>2</th>\n",
       "      <td>hring</td>\n",
       "      <td>hiring</td>\n",
       "      <td>RM</td>\n",
       "    </tr>\n",
       "    <tr>\n",
       "      <th>3</th>\n",
       "      <td>prople</td>\n",
       "      <td>people</td>\n",
       "      <td>R2</td>\n",
       "    </tr>\n",
       "    <tr>\n",
       "      <th>4</th>\n",
       "      <td>prople</td>\n",
       "      <td>people</td>\n",
       "      <td>R2</td>\n",
       "    </tr>\n",
       "  </tbody>\n",
       "</table>\n",
       "</div>"
      ],
      "text/plain": [
       "  incorrect correct type\n",
       "0      york    work   R2\n",
       "1    prople  people   R2\n",
       "2     hring  hiring   RM\n",
       "3    prople  people   R2\n",
       "4    prople  people   R2"
      ]
     },
     "execution_count": 8,
     "metadata": {},
     "output_type": "execute_result"
    }
   ],
   "source": [
    "df.head()"
   ]
  },
  {
   "cell_type": "code",
   "execution_count": 9,
   "metadata": {},
   "outputs": [
    {
     "data": {
      "text/plain": [
       "(39172, 3)"
      ]
     },
     "execution_count": 9,
     "metadata": {},
     "output_type": "execute_result"
    }
   ],
   "source": [
    "df.shape"
   ]
  },
  {
   "cell_type": "markdown",
   "metadata": {},
   "source": [
    "Add a begginging of word and end of word character to all targets, this will be used to seed new words and determine where a word ends. \n",
    "I will use `\\t` as start of word and `\\n` as end of word characters."
   ]
  },
  {
   "cell_type": "code",
   "execution_count": 10,
   "metadata": {
    "collapsed": true
   },
   "outputs": [],
   "source": [
    "df['correct'] = df['correct'].apply(lambda x: '\\t' + x + '\\n' )"
   ]
  },
  {
   "cell_type": "markdown",
   "metadata": {},
   "source": [
    "The four kind of types are:\n",
    "1. INSERT (IN): a character is added to the original word.\n",
    "2. REMOVE (RM): a character is removed from the original word.\n",
    "3. REPLACE1 (R1): the order of character is different from the original word (the number of differences is one).\n",
    "4. REPLACE2 (R2): a character is different from the original word."
   ]
  },
  {
   "cell_type": "markdown",
   "metadata": {},
   "source": [
    "## Explore the data"
   ]
  },
  {
   "cell_type": "markdown",
   "metadata": {},
   "source": [
    "### Types of Misspellings"
   ]
  },
  {
   "cell_type": "code",
   "execution_count": 11,
   "metadata": {},
   "outputs": [
    {
     "data": {
      "text/plain": [
       "<matplotlib.text.Text at 0x1561b16ba58>"
      ]
     },
     "execution_count": 11,
     "metadata": {},
     "output_type": "execute_result"
    },
    {
     "data": {
      "image/png": "[encoded data removed]",
      "text/plain": [
       "<matplotlib.figure.Figure at 0x1561b0226a0>"
      ]
     },
     "metadata": {},
     "output_type": "display_data"
    }
   ],
   "source": [
    "f, ax = plt.subplots(figsize=(8,4.5))\n",
    "sns.countplot(x='type', data=df)\n",
    "ax.set_title('Types of Spelling Errors in the Twitter Typo Data Set')"
   ]
  },
  {
   "cell_type": "markdown",
   "metadata": {},
   "source": [
    "### Number of duplicates"
   ]
  },
  {
   "cell_type": "code",
   "execution_count": 12,
   "metadata": {},
   "outputs": [
    {
     "name": "stdout",
     "output_type": "stream",
     "text": [
      "Distinct incorrect words: 9294\n",
      "Distinct correct words: 2466\n"
     ]
    }
   ],
   "source": [
    "print(\"Distinct incorrect words: {}\".format(df['incorrect'].nunique()))\n",
    "print(\"Distinct correct words: {}\".format(df['correct'].nunique()))"
   ]
  },
  {
   "cell_type": "markdown",
   "metadata": {},
   "source": [
    "### Missing data"
   ]
  },
  {
   "cell_type": "code",
   "execution_count": 13,
   "metadata": {},
   "outputs": [
    {
     "data": {
      "text/plain": [
       "incorrect    0\n",
       "correct      0\n",
       "type         0\n",
       "dtype: int64"
      ]
     },
     "execution_count": 13,
     "metadata": {},
     "output_type": "execute_result"
    }
   ],
   "source": [
    "df.isnull().sum()"
   ]
  },
  {
   "cell_type": "markdown",
   "metadata": {},
   "source": [
    "### Number of Unique Characters"
   ]
  },
  {
   "cell_type": "code",
   "execution_count": 14,
   "metadata": {
    "collapsed": true
   },
   "outputs": [],
   "source": [
    "def add_char(word):\n",
    "    for c in word:\n",
    "        chars.add(c)\n",
    "chars = set()\n",
    "df['incorrect'].apply(add_char);\n",
    "df['correct'].apply(add_char);"
   ]
  },
  {
   "cell_type": "code",
   "execution_count": 15,
   "metadata": {},
   "outputs": [
    {
     "data": {
      "text/plain": [
       "29"
      ]
     },
     "execution_count": 15,
     "metadata": {},
     "output_type": "execute_result"
    }
   ],
   "source": [
    "len(chars)"
   ]
  },
  {
   "cell_type": "markdown",
   "metadata": {},
   "source": [
    "### Word Length"
   ]
  },
  {
   "cell_type": "code",
   "execution_count": 16,
   "metadata": {},
   "outputs": [
    {
     "data": {
      "text/plain": [
       "count    39172.000000\n",
       "mean         4.124553\n",
       "std          2.088488\n",
       "min          1.000000\n",
       "25%          3.000000\n",
       "50%          3.000000\n",
       "75%          5.000000\n",
       "max         16.000000\n",
       "Name: incorrect, dtype: float64"
      ]
     },
     "execution_count": 16,
     "metadata": {},
     "output_type": "execute_result"
    }
   ],
   "source": [
    "df['incorrect'].apply(len).describe()"
   ]
  },
  {
   "cell_type": "code",
   "execution_count": 17,
   "metadata": {},
   "outputs": [
    {
     "data": {
      "text/plain": [
       "count    39172.000000\n",
       "mean         6.058128\n",
       "std          2.173799\n",
       "min          2.000000\n",
       "25%          4.000000\n",
       "50%          6.000000\n",
       "75%          7.000000\n",
       "max         17.000000\n",
       "Name: correct, dtype: float64"
      ]
     },
     "execution_count": 17,
     "metadata": {},
     "output_type": "execute_result"
    }
   ],
   "source": [
    "df['correct'].apply(len).describe()"
   ]
  },
  {
   "cell_type": "code",
   "execution_count": 18,
   "metadata": {
    "collapsed": true
   },
   "outputs": [],
   "source": [
    "max_input_len = df['incorrect'].apply(len).max()\n",
    "max_output_len = df['correct'].apply(len).max()"
   ]
  },
  {
   "cell_type": "markdown",
   "metadata": {},
   "source": [
    "## Encode Characters as Integers\n",
    "I will encode all characters as integers to make them compatible with the Keras Embedding layer. I keep `0` for padding.\n",
    "All words will be coverted into lists of integers."
   ]
  },
  {
   "cell_type": "code",
   "execution_count": 19,
   "metadata": {
    "collapsed": true
   },
   "outputs": [],
   "source": [
    "vocab_size = len(chars)"
   ]
  },
  {
   "cell_type": "code",
   "execution_count": 20,
   "metadata": {
    "collapsed": true
   },
   "outputs": [],
   "source": [
    "char_mapping = dict(zip(sorted(list(chars)), np.arange(1, vocab_size+1)))\n",
    "reversed_char_mapping = dict([(b, a) for a, b in char_mapping.items()])"
   ]
  },
  {
   "cell_type": "code",
   "execution_count": 21,
   "metadata": {
    "collapsed": true
   },
   "outputs": [],
   "source": [
    "reversed_char_mapping[0] = '<pad>'"
   ]
  },
  {
   "cell_type": "code",
   "execution_count": 22,
   "metadata": {
    "collapsed": true
   },
   "outputs": [],
   "source": [
    "df['X'] = df['incorrect'].apply(lambda x: [char_mapping[c] for c in x])\n",
    "df['y'] = df['correct'].apply(lambda x: [char_mapping[c] for c in x])"
   ]
  },
  {
   "cell_type": "markdown",
   "metadata": {},
   "source": [
    "## Divide data into training, dev and test set\n",
    "When splitting the data into different sets I will be using `type` to strattify the data.\n",
    "I think it is a good idea to make sure that all sets are representable of all types of errors."
   ]
  },
  {
   "cell_type": "code",
   "execution_count": 23,
   "metadata": {
    "collapsed": true
   },
   "outputs": [],
   "source": [
    "from sklearn.model_selection import train_test_split"
   ]
  },
  {
   "cell_type": "code",
   "execution_count": 24,
   "metadata": {
    "collapsed": true
   },
   "outputs": [],
   "source": [
    "df_train, df_test = train_test_split(df, stratify=df['type'], test_size=1/10, random_state=1)\n",
    "df_train, df_dev = train_test_split(df_train, stratify=df_train['type'], test_size=(2/9), random_state=1)"
   ]
  },
  {
   "cell_type": "code",
   "execution_count": 22,
   "metadata": {},
   "outputs": [
    {
     "data": {
      "text/plain": [
       "<matplotlib.text.Text at 0x1bd332d2630>"
      ]
     },
     "execution_count": 22,
     "metadata": {},
     "output_type": "execute_result"
    },
    {
     "data": {
      "image/png": "[encoded data removed]",
      "text/plain": [
       "<matplotlib.figure.Figure at 0x1bd336946d8>"
      ]
     },
     "metadata": {},
     "output_type": "display_data"
    }
   ],
   "source": [
    "f, ax = plt.subplots(1, 3, figsize=(16,4.5))\n",
    "for i, name, dfi in zip(np.arange(3), [\"Train\", \"Dev\", \"Test\"], [df_train, df_dev, df_test]):\n",
    "    sns.countplot(data=dfi, x='type', ax=ax[i], order=['IN', 'RM', 'R1', 'R2'])\n",
    "    ax[i].set_title(name)\n",
    "f.tight_layout(rect = [0, 0, 1, .97])\n",
    "f.suptitle(\"Distribution of Spelling Errors in Train, Dev and Test Sets\")"
   ]
  },
  {
   "cell_type": "code",
   "execution_count": 25,
   "metadata": {
    "collapsed": true
   },
   "outputs": [],
   "source": [
    "X_train, y_train = df_train['X'].values, df_train['y'].values\n",
    "X_dev, y_dev = df_dev['X'].values, df_dev['y'].values\n",
    "X_test, y_test = df_test['X'].values, df_test['y'].values"
   ]
  },
  {
   "cell_type": "markdown",
   "metadata": {},
   "source": [
    "## Pad Data\n",
    "To allow a Keras RNN to process data in batches the whole batces all sequences in one batch needs to be the same length.\n",
    "This is acheived by padding sentences with trailing `0`'s that will be ignored during training. \n",
    "\n",
    "To avoid padding all sentences to be as long as the longest sentence in each set I will sort the data sets."
   ]
  },
  {
   "cell_type": "code",
   "execution_count": 26,
   "metadata": {
    "collapsed": true
   },
   "outputs": [],
   "source": [
    "sorted_idx_train = np.argsort(list(map(lambda x: len(x), X_train)))\n",
    "sorted_idx_dev = np.argsort(list(map(lambda x: len(x), X_dev)))\n",
    "sorted_idx_test = np.argsort(list(map(lambda x: len(x), X_test)))"
   ]
  },
  {
   "cell_type": "code",
   "execution_count": 27,
   "metadata": {
    "collapsed": true
   },
   "outputs": [],
   "source": [
    "X_train = X_train[sorted_idx_train]\n",
    "y_train = y_train[sorted_idx_train]\n",
    "df_train = df_train.iloc[sorted_idx_train]\n",
    "\n",
    "X_dev = X_dev[sorted_idx_dev]\n",
    "y_dev = y_dev[sorted_idx_dev]\n",
    "df_dev = df_dev.iloc[sorted_idx_dev]\n",
    "\n",
    "X_test = X_test[sorted_idx_test]\n",
    "y_test = y_test[sorted_idx_test]\n",
    "df_test = df_test.iloc[sorted_idx_test]"
   ]
  },
  {
   "cell_type": "markdown",
   "metadata": {},
   "source": [
    "Generator for the padded sequences."
   ]
  },
  {
   "cell_type": "code",
   "execution_count": 28,
   "metadata": {
    "collapsed": true
   },
   "outputs": [],
   "source": [
    "def one_hot(i, n):\n",
    "    arr = np.zeros(n)\n",
    "    arr[i] = 1\n",
    "    return arr"
   ]
  },
  {
   "cell_type": "code",
   "execution_count": 29,
   "metadata": {},
   "outputs": [
    {
     "name": "stderr",
     "output_type": "stream",
     "text": [
      "Using TensorFlow backend.\n"
     ]
    }
   ],
   "source": [
    "from keras.utils import Sequence\n",
    "from keras.preprocessing.sequence import pad_sequences\n",
    "class ShortPaddingGeneratorSeq2Seq(Sequence):\n",
    "    \"\"\"\n",
    "    Class for generating padded sequences\n",
    "    \"\"\"\n",
    "    def __init__(self, x_set, y_set, batch_size, return_sample_weights=True, one_hot_encode=False):\n",
    "        self.return_sample_weights = return_sample_weights\n",
    "        self.batch_size = batch_size\n",
    "        self.x, self.y, self.sample_weights = [], [], []\n",
    "        self.x2 = []\n",
    "        # Pad Data so all batches have sequences of equal length\n",
    "        for idx in range(int(np.ceil(len(x_set) / float(self.batch_size)))):\n",
    "            batch_x = x_set[idx * self.batch_size:(idx + 1) * self.batch_size]\n",
    "            batch_y = y_set[idx * self.batch_size:(idx + 1) * self.batch_size]\n",
    "            \n",
    "            # The input is sorted so the last sequence is the longest\n",
    "            max_len_x = len(batch_x[-1])\n",
    "            max_len_y = len(batch_y[-1])\n",
    "            batch_x = np.array(pad_sequences(batch_x, maxlen=max_len_x, padding='post'))\n",
    "            batch_y = np.array(pad_sequences(batch_y, maxlen=max_len_y, padding='post'))\n",
    "            \n",
    "            #self.sample_weights.append(batch_x != 0)\n",
    "            self.sample_weights.append(batch_y[:,1:] != 0)\n",
    "            \n",
    "            if one_hot_encode:\n",
    "                batch_x = np.array([np.array([one_hot(i, vocab_size+1) for i in sentence]) for sentence in batch_x])\n",
    "                batch_y = np.array([np.array([one_hot(i, vocab_size+1) for i in sentence]) for sentence in batch_y])\n",
    "            \n",
    "            self.x.append(batch_x)\n",
    "            self.y.append(batch_y[:,1:])\n",
    "            # The decoder input s\n",
    "            self.x2.append(batch_y[:,:-1])\n",
    "            \n",
    "            \n",
    "    def __len__(self):\n",
    "        return len(self.x)\n",
    "    def __getitem__(self, idx):\n",
    "        # Fetch the batches\n",
    "        if self.return_sample_weights:\n",
    "            return [self.x[idx], self.x2[idx]], self.y[idx], self.sample_weights[idx]\n",
    "        else:\n",
    "            return [self.x[idx], self.x2[idx]], self.y[idx]\n",
    "    \n",
    "    def set_return_sample_weights(self, flag):\n",
    "        self.return_sample_weights = flag"
   ]
  },
  {
   "cell_type": "markdown",
   "metadata": {},
   "source": [
    "Create the generators for each set."
   ]
  },
  {
   "cell_type": "code",
   "execution_count": 28,
   "metadata": {
    "collapsed": true
   },
   "outputs": [],
   "source": [
    "train_gen = ShortPaddingGeneratorSeq2Seq(X_train, y_train, batch_size=64, one_hot_encode=True)\n",
    "dev_gen = ShortPaddingGeneratorSeq2Seq(X_dev, y_dev, batch_size=64, one_hot_encode=True)\n",
    "test_gen = ShortPaddingGeneratorSeq2Seq(X_test, y_test, batch_size=64, one_hot_encode=True)"
   ]
  },
  {
   "cell_type": "code",
   "execution_count": 29,
   "metadata": {},
   "outputs": [
    {
     "name": "stdout",
     "output_type": "stream",
     "text": [
      "(64, 2, 30)\n",
      "(64, 3, 30)\n",
      "(64, 3, 30)\n"
     ]
    }
   ],
   "source": [
    "print(train_gen[100][0][0].shape)\n",
    "print(train_gen[100][0][1].shape)\n",
    "print(train_gen[100][1].shape)\n"
   ]
  },
  {
   "cell_type": "markdown",
   "metadata": {},
   "source": [
    "# One-Hot Encoded Characters\n",
    "First let's use the model proposed in Francois Chollet's article [A ten-minute introduction to sequence-to-sequence learning in Keras](https://blog.keras.io/a-ten-minute-introduction-to-sequence-to-sequence-learning-in-keras.html)."
   ]
  },
  {
   "cell_type": "code",
   "execution_count": 30,
   "metadata": {
    "collapsed": true
   },
   "outputs": [],
   "source": [
    "# Config\n",
    "batch_size = 64\n",
    "latent_dim = 256"
   ]
  },
  {
   "cell_type": "code",
   "execution_count": 31,
   "metadata": {},
   "outputs": [],
   "source": [
    "from keras.models import Model\n",
    "from keras.layers import Input, LSTM, Dense\n",
    "\n",
    "# Define the encoder to have one hidden LSTM layer and output its state\n",
    "encoder_inputs = Input(shape=(None, vocab_size+1))\n",
    "encoder = LSTM(latent_dim, return_state=True)\n",
    "encoder_outputs, state_h, state_c = encoder(encoder_inputs)\n",
    "\n",
    "# Only save the states of the encoder, we don't care about it's output\n",
    "encoder_states = [state_h, state_c]\n",
    "\n",
    "# Define the decoder, it will use the state of the encoder as its initial state\n",
    "decoder_inputs = Input(shape=(None, vocab_size+1))\n",
    "decoder_lstm = LSTM(latent_dim, return_sequences=True, return_state=True)\n",
    "decoder_outputs, _, _ = decoder_lstm(decoder_inputs,\n",
    "                                     initial_state=encoder_states)\n",
    "decoder_dense = Dense(vocab_size+1, activation='softmax')\n",
    "decoder_outputs = decoder_dense(decoder_outputs)"
   ]
  },
  {
   "cell_type": "code",
   "execution_count": 136,
   "metadata": {
    "collapsed": true
   },
   "outputs": [],
   "source": [
    "# Define the model that will turn\n",
    "# `encoder_input_data` & `decoder_input_data` into `decoder_target_data`\n",
    "model = Model([encoder_inputs, decoder_inputs], decoder_outputs)"
   ]
  },
  {
   "cell_type": "code",
   "execution_count": 137,
   "metadata": {
    "collapsed": true
   },
   "outputs": [],
   "source": [
    "# Run training\n",
    "model.compile(optimizer='adam', loss='categorical_crossentropy', weighted_metrics=['accuracy'], sample_weight_mode=\"temporal\")"
   ]
  },
  {
   "cell_type": "code",
   "execution_count": 181,
   "metadata": {},
   "outputs": [
    {
     "name": "stdout",
     "output_type": "stream",
     "text": [
      "Epoch 1/10\n",
      "429/429 [==============================] - 45s 105ms/step - loss: 0.3171 - weighted_acc: 0.9044 - val_loss: 0.3307 - val_weighted_acc: 0.9021\n",
      "Epoch 2/10\n",
      "429/429 [==============================] - 50s 117ms/step - loss: 0.2635 - weighted_acc: 0.9201 - val_loss: 0.3003 - val_weighted_acc: 0.9102\n",
      "Epoch 3/10\n",
      "429/429 [==============================] - 50s 116ms/step - loss: 0.2311 - weighted_acc: 0.9286 - val_loss: 0.2964 - val_weighted_acc: 0.9081\n",
      "Epoch 4/10\n",
      "429/429 [==============================] - 52s 120ms/step - loss: 0.2088 - weighted_acc: 0.9351 - val_loss: 0.2982 - val_weighted_acc: 0.9105\n",
      "Epoch 5/10\n",
      "429/429 [==============================] - 52s 121ms/step - loss: 0.1963 - weighted_acc: 0.9380 - val_loss: 0.2754 - val_weighted_acc: 0.9185\n",
      "Epoch 6/10\n",
      "429/429 [==============================] - 54s 126ms/step - loss: 0.1776 - weighted_acc: 0.9435 - val_loss: 0.2750 - val_weighted_acc: 0.9192\n",
      "Epoch 7/10\n",
      "429/429 [==============================] - 56s 131ms/step - loss: 0.1681 - weighted_acc: 0.9449 - val_loss: 0.2730 - val_weighted_acc: 0.9180\n",
      "Epoch 8/10\n",
      "429/429 [==============================] - 59s 138ms/step - loss: 0.1584 - weighted_acc: 0.9481 - val_loss: 0.2747 - val_weighted_acc: 0.9176\n",
      "Epoch 9/10\n",
      "429/429 [==============================] - 62s 145ms/step - loss: 0.1503 - weighted_acc: 0.9499 - val_loss: 0.2799 - val_weighted_acc: 0.9167\n",
      "Epoch 10/10\n",
      "429/429 [==============================] - 61s 142ms/step - loss: 0.1438 - weighted_acc: 0.9515 - val_loss: 0.2739 - val_weighted_acc: 0.9201\n"
     ]
    },
    {
     "data": {
      "text/plain": [
       "<keras.callbacks.History at 0x1f431abe1d0>"
      ]
     },
     "execution_count": 181,
     "metadata": {},
     "output_type": "execute_result"
    }
   ],
   "source": [
    "model.fit_generator(train_gen,\n",
    "          epochs=10,\n",
    "          validation_data=dev_gen)"
   ]
  },
  {
   "cell_type": "markdown",
   "metadata": {},
   "source": [
    "# Inference"
   ]
  },
  {
   "cell_type": "markdown",
   "metadata": {},
   "source": [
    "Let's test the model with Chollet's inference model."
   ]
  },
  {
   "cell_type": "code",
   "execution_count": 182,
   "metadata": {
    "collapsed": true
   },
   "outputs": [],
   "source": [
    "encoder_model = Model(encoder_inputs, encoder_states)\n",
    "\n",
    "decoder_state_input_h = Input(shape=(latent_dim,))\n",
    "decoder_state_input_c = Input(shape=(latent_dim,))\n",
    "decoder_states_inputs = [decoder_state_input_h, decoder_state_input_c]\n",
    "decoder_outputs, state_h, state_c = decoder_lstm(\n",
    "    decoder_inputs, initial_state=decoder_states_inputs)\n",
    "decoder_states = [state_h, state_c]\n",
    "decoder_outputs = decoder_dense(decoder_outputs)\n",
    "decoder_model = Model(\n",
    "    [decoder_inputs] + decoder_states_inputs,\n",
    "    [decoder_outputs] + decoder_states)"
   ]
  },
  {
   "cell_type": "code",
   "execution_count": 183,
   "metadata": {
    "collapsed": true
   },
   "outputs": [],
   "source": [
    "max_decoder_seq_length = 20\n",
    "def decode_sequence(input_seq):\n",
    "    # Encode the input as state vectors.\n",
    "    states_value = encoder_model.predict(input_seq)\n",
    "\n",
    "    # Generate empty target sequence of length 1.\n",
    "    target_seq = np.zeros((1, 1, vocab_size + 1))\n",
    "    # Populate the first character of target sequence with the start character.\n",
    "    target_seq[0, 0, char_mapping['\\t']] = 1.\n",
    "\n",
    "    # Sampling loop for a batch of sequences\n",
    "    # (to simplify, here we assume a batch of size 1).\n",
    "    stop_condition = False\n",
    "    decoded_sentence = ''\n",
    "    while not stop_condition:\n",
    "        output_tokens, h, c = decoder_model.predict(\n",
    "            [target_seq] + states_value)\n",
    "\n",
    "        # Sample a token\n",
    "        #print(output_tokens)\n",
    "        sampled_token_index = np.argmax(output_tokens[0, -1, :])\n",
    "        sampled_char = reversed_char_mapping[sampled_token_index]\n",
    "        decoded_sentence += sampled_char\n",
    "\n",
    "        # Exit condition: either hit max length\n",
    "        # or find stop character.\n",
    "        if (sampled_char == '\\n' or\n",
    "           len(decoded_sentence) > max_decoder_seq_length):\n",
    "            stop_condition = True\n",
    "\n",
    "        # Update the target sequence (of length 1).\n",
    "        target_seq = np.zeros((1, 1, vocab_size + 1))\n",
    "        target_seq[0, 0, sampled_token_index] = 1.\n",
    "\n",
    "        # Update states\n",
    "        states_value = [h, c]\n",
    "\n",
    "    return decoded_sentence\n"
   ]
  },
  {
   "cell_type": "code",
   "execution_count": 198,
   "metadata": {},
   "outputs": [
    {
     "name": "stdout",
     "output_type": "stream",
     "text": [
      "-\n",
      "Input word: yu\n",
      "Target word: you\n",
      "Corrected word: you\n",
      "\n",
      "-\n",
      "Input word: meg\n",
      "Target word: me\n",
      "Corrected word: me\n",
      "\n",
      "-\n",
      "Input word: im\n",
      "Target word: i\n",
      "Corrected word: i\n",
      "\n",
      "-\n",
      "Input word: forr\n",
      "Target word: for\n",
      "Corrected word: or\n",
      "\n",
      "-\n",
      "Input word: hav\n",
      "Target word: has\n",
      "Corrected word: a\n",
      "\n",
      "-\n",
      "Input word: tha\n",
      "Target word: the\n",
      "Corrected word: a\n",
      "\n",
      "-\n",
      "Input word: tqake\n",
      "Target word: take\n",
      "Corrected word: a\n",
      "\n",
      "-\n",
      "Input word: gottan\n",
      "Target word: gotta\n",
      "Corrected word: on\n",
      "\n",
      "-\n",
      "Input word: nw\n",
      "Target word: now\n",
      "Corrected word: on\n",
      "\n",
      "-\n",
      "Input word: goona\n",
      "Target word: gonna\n",
      "Corrected word: on\n",
      "\n"
     ]
    }
   ],
   "source": [
    "np.random.seed(1)\n",
    "for seq_index in np.random.randint(0, len(X_train), 10):\n",
    "    # Take one sequence (part of the training set)\n",
    "    # for trying out decoding.\n",
    "    input_seq = X_train[seq_index: seq_index + 1]\n",
    "    decoded_sentence = decode_sequence(np.array([np.array([one_hot(i, vocab_size+1) for i in input_seq])]))\n",
    "    print('-')\n",
    "    print('Input word:', df_train.iloc[seq_index]['incorrect'])\n",
    "    print('Target word:', df_train.iloc[seq_index]['correct'].strip())\n",
    "    print('Corrected word:', decoded_sentence)"
   ]
  },
  {
   "cell_type": "markdown",
   "metadata": {},
   "source": [
    "The model has learned some patterns, but seems to often resort to outputting short and simple words."
   ]
  },
  {
   "cell_type": "markdown",
   "metadata": {},
   "source": [
    "# Simpler Model - Single RNN\n",
    "I want to try setting up a model that just uses a single RNN, instead of the decoder encoder model.\n",
    "As I really like Embeddings, I will include an imbedding layer!"
   ]
  },
  {
   "cell_type": "markdown",
   "metadata": {},
   "source": [
    "## Pad the Data\n",
    "It seems like it's not straight forward to implement a RNN with input sequences of length `N` and output sequences of length `M` when `N!=M`.\n",
    "Instead I will limit my model by setting a fixed input and output length and pad all sequences to be this length.\n",
    "\n",
    "My model will not be able to handle targets longer than this limit, and will always produce outputs of exactly that length which I will have to terminate at the stop character `\\n`.\n",
    "\n",
    "Also, since I won't know the length of target words in a real use case, I don't want to process my data in batches of similar size. \n",
    "All inputs should generate output sequences of the exact same length."
   ]
  },
  {
   "cell_type": "code",
   "execution_count": 32,
   "metadata": {},
   "outputs": [
    {
     "name": "stdout",
     "output_type": "stream",
     "text": [
      "17\n"
     ]
    }
   ],
   "source": [
    "max_len = max(max_input_len, max_output_len)\n",
    "print(max_len)"
   ]
  },
  {
   "cell_type": "markdown",
   "metadata": {},
   "source": [
    "First let's remove the start of word token from the outputs as it is not necessary in this model."
   ]
  },
  {
   "cell_type": "code",
   "execution_count": 33,
   "metadata": {
    "collapsed": true
   },
   "outputs": [],
   "source": [
    "y_train_stripped = [seq[1:] for seq in y_train]\n",
    "y_dev_stripped = [seq[1:] for seq in y_dev]\n",
    "y_test_stripped = [seq[1:] for seq in y_test]"
   ]
  },
  {
   "cell_type": "code",
   "execution_count": 34,
   "metadata": {},
   "outputs": [],
   "source": [
    "X_train_padded = np.array(pad_sequences(X_train, maxlen=max_len, padding='post'))\n",
    "y_train_padded = np.array(pad_sequences(y_train_stripped, maxlen=max_len, padding='post'))\n",
    "X_dev_padded = np.array(pad_sequences(X_dev, maxlen=max_len, padding='post'))\n",
    "y_dev_padded = np.array(pad_sequences(y_dev_stripped, maxlen=max_len, padding='post'))\n",
    "X_test_padded = np.array(pad_sequences(X_test, maxlen=max_len, padding='post'))\n",
    "y_test_padded = np.array(pad_sequences(y_test_stripped, maxlen=max_len, padding='post'))"
   ]
  },
  {
   "cell_type": "markdown",
   "metadata": {},
   "source": [
    "This time I am not doing one hot encoding of the input, instead I will use an Embeddings layer. I will still one hot encode the outputs."
   ]
  },
  {
   "cell_type": "code",
   "execution_count": 35,
   "metadata": {
    "collapsed": true
   },
   "outputs": [],
   "source": [
    "y_train_padded = np.array([np.array([one_hot(i, vocab_size+1) for i in sentence]) for sentence in y_train_padded])\n",
    "y_dev_padded = np.array([np.array([one_hot(i, vocab_size+1) for i in sentence]) for sentence in y_dev_padded])\n",
    "y_test_padded = np.array([np.array([one_hot(i, vocab_size+1) for i in sentence]) for sentence in y_test_padded])"
   ]
  },
  {
   "cell_type": "markdown",
   "metadata": {},
   "source": [
    "## Set up the Model"
   ]
  },
  {
   "cell_type": "code",
   "execution_count": 36,
   "metadata": {
    "collapsed": true
   },
   "outputs": [],
   "source": [
    "from keras.layers import Embedding, Input, Dropout\n",
    "from keras.callbacks import History"
   ]
  },
  {
   "cell_type": "code",
   "execution_count": 37,
   "metadata": {},
   "outputs": [
    {
     "data": {
      "text/plain": [
       "29"
      ]
     },
     "execution_count": 37,
     "metadata": {},
     "output_type": "execute_result"
    }
   ],
   "source": [
    "vocab_size"
   ]
  },
  {
   "cell_type": "markdown",
   "metadata": {},
   "source": [
    "Our vocab size is 29. I have no idea what number embedding dimensions is suitable, so let's just embed these 29 characters into 10 dimensions. "
   ]
  },
  {
   "cell_type": "code",
   "execution_count": 38,
   "metadata": {
    "collapsed": true
   },
   "outputs": [],
   "source": [
    "embedding_dim = 10"
   ]
  },
  {
   "cell_type": "code",
   "execution_count": 121,
   "metadata": {
    "collapsed": true
   },
   "outputs": [],
   "source": [
    "model_input = Input(shape=(None,))\n",
    "embedding = Embedding(vocab_size+1, embedding_dim, mask_zero = True)(model_input)\n",
    "x = Dropout(rate=.25)(embedding)\n",
    "x = LSTM(latent_dim, return_sequences=True)(x)\n",
    "model_output = Dense(vocab_size + 1, activation='softmax')(x)\n",
    "simple_rnn1 = Model(model_input, model_output)"
   ]
  },
  {
   "cell_type": "code",
   "execution_count": 122,
   "metadata": {
    "collapsed": true
   },
   "outputs": [],
   "source": [
    "simple_rnn1.compile(optimizer='adam', loss='categorical_crossentropy', metrics=['accuracy'])"
   ]
  },
  {
   "cell_type": "code",
   "execution_count": 123,
   "metadata": {},
   "outputs": [
    {
     "name": "stdout",
     "output_type": "stream",
     "text": [
      "Train on 27419 samples, validate on 7835 samples\n",
      "Epoch 1/2\n",
      "27419/27419 [==============================] - 120s 4ms/step - loss: 2.1676 - acc: 0.3967 - val_loss: 1.5059 - val_acc: 0.5982\n",
      "Epoch 2/2\n",
      "27419/27419 [==============================] - 135s 5ms/step - loss: 1.4863 - acc: 0.5987 - val_loss: 1.2422 - val_acc: 0.6626\n"
     ]
    }
   ],
   "source": [
    "callback = simple_rnn1.fit(X_train_padded, y_train_padded,\n",
    "          epochs=2,\n",
    "          validation_data=[X_dev_padded, y_dev_padded],\n",
    "          callbacks = [History()])"
   ]
  },
  {
   "cell_type": "markdown",
   "metadata": {},
   "source": [
    "Training time significantly increased now that all sequences are of equal length."
   ]
  },
  {
   "cell_type": "code",
   "execution_count": 39,
   "metadata": {
    "collapsed": true
   },
   "outputs": [],
   "source": [
    "def decode_int_sequence(sequence):\n",
    "    word = \"\"\n",
    "    for token_index in sequence:\n",
    "        c = reversed_char_mapping[token_index]\n",
    "        if c not in ('\\n', '<pad>'):\n",
    "            word += c\n",
    "        else:\n",
    "            break\n",
    "    return word\n",
    "\n",
    "def evaluate_model(model, X, y, pred_idx):\n",
    "    \n",
    "    # Make predictions\n",
    "    predictions = model.predict(X[pred_idx])\n",
    "    \n",
    "    # Print evaluation\n",
    "    for idx, pred in zip(pred_idx, predictions):\n",
    "        print(\"Input: \", decode_int_sequence(X[idx]))\n",
    "        print(\"Target: \",decode_int_sequence(y[idx].argmax(1)))\n",
    "        print(\"Output: \", decode_int_sequence(pred.argmax(1)))\n",
    "        print(\"\")"
   ]
  },
  {
   "cell_type": "code",
   "execution_count": 130,
   "metadata": {},
   "outputs": [
    {
     "name": "stdout",
     "output_type": "stream",
     "text": [
      "Input:  yu\n",
      "Target:  you\n",
      "Output:  yoooooooooooooooo\n",
      "\n",
      "Input:  meg\n",
      "Target:  me\n",
      "Output:  meggggggggggggggg\n",
      "\n",
      "Input:  im\n",
      "Target:  i\n",
      "Output:  issssssssssssssss\n",
      "\n",
      "Input:  forr\n",
      "Target:  for\n",
      "Output:  for\n",
      "\n",
      "Input:  hav\n",
      "Target:  has\n",
      "Output:  havvvvvvvvvvvvvvv\n",
      "\n"
     ]
    }
   ],
   "source": [
    "np.random.seed(1)\n",
    "evaluate_model(simple_rnn1, X_train_padded, y_train_padded, np.random.randint(0, len(X_train), 5))"
   ]
  },
  {
   "cell_type": "markdown",
   "metadata": {},
   "source": [
    "Cool, the model has already learned some stuff and actually got `forr` -> `for` right!\n",
    "Let's allow it some more training, this time with shuffled batches and a set batch size."
   ]
  },
  {
   "cell_type": "code",
   "execution_count": 134,
   "metadata": {},
   "outputs": [
    {
     "name": "stdout",
     "output_type": "stream",
     "text": [
      "Train on 27419 samples, validate on 7835 samples\n",
      "Epoch 1/10\n",
      "27419/27419 [==============================] - 84s 3ms/step - loss: 1.2488 - acc: 0.6681 - val_loss: 1.1364 - val_acc: 0.6906\n",
      "Epoch 2/10\n",
      "27419/27419 [==============================] - 96s 3ms/step - loss: 1.2076 - acc: 0.6782 - val_loss: 1.1132 - val_acc: 0.6977\n",
      "Epoch 3/10\n",
      "27419/27419 [==============================] - 94s 3ms/step - loss: 1.1760 - acc: 0.6862 - val_loss: 1.0889 - val_acc: 0.7013\n",
      "Epoch 4/10\n",
      "27419/27419 [==============================] - 94s 3ms/step - loss: 1.1462 - acc: 0.6933 - val_loss: 1.0742 - val_acc: 0.7078\n",
      "Epoch 5/10\n",
      "27419/27419 [==============================] - 96s 4ms/step - loss: 1.1163 - acc: 0.7023 - val_loss: 1.0550 - val_acc: 0.7107\n",
      "Epoch 6/10\n",
      "27419/27419 [==============================] - 95s 3ms/step - loss: 1.0882 - acc: 0.7091 - val_loss: 1.0382 - val_acc: 0.7153\n",
      "Epoch 7/10\n",
      "27419/27419 [==============================] - 94s 3ms/step - loss: 1.0645 - acc: 0.7166 - val_loss: 1.0214 - val_acc: 0.7193\n",
      "Epoch 8/10\n",
      "27419/27419 [==============================] - 93s 3ms/step - loss: 1.0391 - acc: 0.7217 - val_loss: 1.0140 - val_acc: 0.7213\n",
      "Epoch 9/10\n",
      "27419/27419 [==============================] - 93s 3ms/step - loss: 1.0186 - acc: 0.7274 - val_loss: 1.0021 - val_acc: 0.7240\n",
      "Epoch 10/10\n",
      "27419/27419 [==============================] - 92s 3ms/step - loss: 0.9997 - acc: 0.7301 - val_loss: 0.9932 - val_acc: 0.7289\n"
     ]
    }
   ],
   "source": [
    "callback = simple_rnn1.fit(X_train_padded, y_train_padded,\n",
    "          epochs=10,\n",
    "          batch_size = 128,\n",
    "          shuffle = True,\n",
    "          validation_data=[X_dev_padded, y_dev_padded],\n",
    "          callbacks = [History()])"
   ]
  },
  {
   "cell_type": "code",
   "execution_count": 146,
   "metadata": {},
   "outputs": [
    {
     "name": "stdout",
     "output_type": "stream",
     "text": [
      "Input:  yu\n",
      "Target:  you\n",
      "Output:  yoooooooooooooooo\n",
      "\n",
      "Input:  meg\n",
      "Target:  me\n",
      "Output:  me\n",
      "\n",
      "Input:  im\n",
      "Target:  i\n",
      "Output:  issssssssssssssss\n",
      "\n",
      "Input:  forr\n",
      "Target:  for\n",
      "Output:  for\n",
      "\n",
      "Input:  hav\n",
      "Target:  has\n",
      "Output:  havvvvvvvvvvvvvvv\n",
      "\n"
     ]
    }
   ],
   "source": [
    "np.random.seed(1)\n",
    "evaluate_model(simple_rnn1, X_train_padded, y_train_padded, np.random.randint(0, len(X_train), 5))"
   ]
  },
  {
   "cell_type": "code",
   "execution_count": 145,
   "metadata": {
    "collapsed": true
   },
   "outputs": [],
   "source": [
    "simple_rnn1.save('keras_models/spell_correction_simple_rnn1.h5')"
   ]
  },
  {
   "cell_type": "markdown",
   "metadata": {},
   "source": [
    "The model get's one more word right this time! `meg` -> `me`!\n",
    "\n",
    "It produces many funny looking output like `havvvvvvvvvvvvvvv`. \n",
    "I think this might be due to me using `mask_zero` in the Embedding layer, and no sample weights. \n",
    "This means I am ignoring the characters being output when the input character is padding. \n",
    "I should try to use sample weights instead."
   ]
  },
  {
   "cell_type": "markdown",
   "metadata": {
    "collapsed": true
   },
   "source": [
    "## Simpel model number two\n",
    "Let's use sample weights instead of mask_zero in the embedding."
   ]
  },
  {
   "cell_type": "code",
   "execution_count": 40,
   "metadata": {
    "collapsed": true
   },
   "outputs": [],
   "source": [
    "model_input = Input(shape=(None,))\n",
    "embedding = Embedding(vocab_size+1, embedding_dim, mask_zero = False)(model_input)\n",
    "x = Dropout(rate=.25)(embedding)\n",
    "x = LSTM(latent_dim, return_sequences=True)(x)\n",
    "model_output = Dense(vocab_size + 1, activation='softmax')(x)\n",
    "simple_rnn2 = Model(model_input, model_output)"
   ]
  },
  {
   "cell_type": "code",
   "execution_count": 41,
   "metadata": {
    "collapsed": true
   },
   "outputs": [],
   "source": [
    "simple_rnn2.compile(optimizer='adam', loss='categorical_crossentropy', sample_weight_mode='temporal', weighted_metrics=['accuracy'])"
   ]
  },
  {
   "cell_type": "code",
   "execution_count": 42,
   "metadata": {},
   "outputs": [],
   "source": [
    "y_train_sample_wights = y_train_padded[:,:,1:].any(2)\n",
    "y_dev_sample_wights = y_dev_padded[:,:,1:].any(2)\n",
    "y_test_sample_wights = y_test_padded[:,:,1:].any(2)"
   ]
  },
  {
   "cell_type": "code",
   "execution_count": 43,
   "metadata": {},
   "outputs": [
    {
     "name": "stdout",
     "output_type": "stream",
     "text": [
      "Train on 27419 samples, validate on 7835 samples\n",
      "Epoch 1/2\n",
      "27419/27419 [==============================] - 132s 5ms/step - loss: 2.0710 - weighted_acc: 0.4243 - val_loss: 1.3744 - val_weighted_acc: 0.6290\n",
      "Epoch 2/2\n",
      "27419/27419 [==============================] - 127s 5ms/step - loss: 1.3535 - weighted_acc: 0.6301 - val_loss: 1.0565 - val_weighted_acc: 0.7118\n"
     ]
    }
   ],
   "source": [
    "callback = simple_rnn2.fit(X_train_padded, y_train_padded, \n",
    "          sample_weight=y_train_sample_wights,\n",
    "          epochs=2,\n",
    "          validation_data=[X_dev_padded, y_dev_padded, y_dev_sample_wights], \n",
    "          callbacks = [History()])"
   ]
  },
  {
   "cell_type": "code",
   "execution_count": 44,
   "metadata": {},
   "outputs": [
    {
     "name": "stdout",
     "output_type": "stream",
     "text": [
      "Input:  yu\n",
      "Target:  you\n",
      "Output:  you\n",
      "\n",
      "Input:  meg\n",
      "Target:  me\n",
      "Output:  meg\n",
      "\n",
      "Input:  im\n",
      "Target:  i\n",
      "Output:  is\n",
      "\n",
      "Input:  forr\n",
      "Target:  for\n",
      "Output:  fore\n",
      "\n",
      "Input:  hav\n",
      "Target:  has\n",
      "Output:  hav\n",
      "\n",
      "Input:  tha\n",
      "Target:  the\n",
      "Output:  the\n",
      "\n",
      "Input:  tqake\n",
      "Target:  take\n",
      "Output:  thekk\n",
      "\n",
      "Input:  gottan\n",
      "Target:  gotta\n",
      "Output:  got\n",
      "\n",
      "Input:  nw\n",
      "Target:  now\n",
      "Output:  now\n",
      "\n",
      "Input:  goona\n",
      "Target:  gonna\n",
      "Output:  goonle\n",
      "\n"
     ]
    }
   ],
   "source": [
    "np.random.seed(1)\n",
    "evaluate_model(simple_rnn2, X_train_padded, y_train_padded, np.random.randint(0, len(X_train), 10))"
   ]
  },
  {
   "cell_type": "markdown",
   "metadata": {},
   "source": [
    "Wow, using sample weights based on the targets instead of the inputs really shows results. \n",
    "The model has learned a lot of the words in the training set after just two epochs.\n",
    "Let's give it some more training time!"
   ]
  },
  {
   "cell_type": "code",
   "execution_count": 45,
   "metadata": {},
   "outputs": [
    {
     "name": "stdout",
     "output_type": "stream",
     "text": [
      "Train on 27419 samples, validate on 7835 samples\n",
      "Epoch 1/10\n",
      "27419/27419 [==============================] - 83s 3ms/step - loss: 1.1861 - weighted_acc: 0.6775 - val_loss: 1.0024 - val_weighted_acc: 0.7266\n",
      "Epoch 2/10\n",
      "27419/27419 [==============================] - 84s 3ms/step - loss: 1.1421 - weighted_acc: 0.6891 - val_loss: 0.9705 - val_weighted_acc: 0.7350\n",
      "Epoch 3/10\n",
      "27419/27419 [==============================] - 82s 3ms/step - loss: 1.0993 - weighted_acc: 0.7009 - val_loss: 0.9401 - val_weighted_acc: 0.7425\n",
      "Epoch 4/10\n",
      "27419/27419 [==============================] - 81s 3ms/step - loss: 1.0595 - weighted_acc: 0.7129 - val_loss: 0.9123 - val_weighted_acc: 0.7515\n",
      "Epoch 5/10\n",
      "27419/27419 [==============================] - 82s 3ms/step - loss: 1.0298 - weighted_acc: 0.7209 - val_loss: 0.8917 - val_weighted_acc: 0.7550\n",
      "Epoch 6/10\n",
      "27419/27419 [==============================] - 81s 3ms/step - loss: 0.9958 - weighted_acc: 0.7297 - val_loss: 0.8705 - val_weighted_acc: 0.7608\n",
      "Epoch 7/10\n",
      "27419/27419 [==============================] - 80s 3ms/step - loss: 0.9681 - weighted_acc: 0.7369 - val_loss: 0.8523 - val_weighted_acc: 0.7658\n",
      "Epoch 8/10\n",
      "27419/27419 [==============================] - 80s 3ms/step - loss: 0.9410 - weighted_acc: 0.7451 - val_loss: 0.8361 - val_weighted_acc: 0.7689\n",
      "Epoch 9/10\n",
      "27419/27419 [==============================] - 80s 3ms/step - loss: 0.9223 - weighted_acc: 0.7488 - val_loss: 0.8266 - val_weighted_acc: 0.7703\n",
      "Epoch 10/10\n",
      "27419/27419 [==============================] - 82s 3ms/step - loss: 0.9010 - weighted_acc: 0.7550 - val_loss: 0.8159 - val_weighted_acc: 0.7759\n"
     ]
    }
   ],
   "source": [
    "callback = simple_rnn2.fit(X_train_padded, y_train_padded, \n",
    "          sample_weight=y_train_sample_wights,\n",
    "          epochs=10,\n",
    "          batch_size = 128,\n",
    "          shuffle = True,\n",
    "          validation_data=[X_dev_padded, y_dev_padded, y_dev_sample_wights], \n",
    "          callbacks = [History()])"
   ]
  },
  {
   "cell_type": "code",
   "execution_count": 46,
   "metadata": {},
   "outputs": [
    {
     "name": "stdout",
     "output_type": "stream",
     "text": [
      "Input:  yu\n",
      "Target:  you\n",
      "Output:  you\n",
      "\n",
      "Input:  meg\n",
      "Target:  me\n",
      "Output:  me\n",
      "\n",
      "Input:  im\n",
      "Target:  i\n",
      "Output:  is\n",
      "\n",
      "Input:  forr\n",
      "Target:  for\n",
      "Output:  for\n",
      "\n",
      "Input:  hav\n",
      "Target:  has\n",
      "Output:  has\n",
      "\n",
      "Input:  tha\n",
      "Target:  the\n",
      "Output:  the\n",
      "\n",
      "Input:  tqake\n",
      "Target:  take\n",
      "Output:  thek\n",
      "\n",
      "Input:  gottan\n",
      "Target:  gotta\n",
      "Output:  got\n",
      "\n",
      "Input:  nw\n",
      "Target:  now\n",
      "Output:  now\n",
      "\n",
      "Input:  goona\n",
      "Target:  gonna\n",
      "Output:  googa\n",
      "\n"
     ]
    }
   ],
   "source": [
    "np.random.seed(1)\n",
    "evaluate_model(simple_rnn2, X_train_padded, y_train_padded, np.random.randint(0, len(X_train), 10))"
   ]
  },
  {
   "cell_type": "code",
   "execution_count": 47,
   "metadata": {},
   "outputs": [
    {
     "name": "stdout",
     "output_type": "stream",
     "text": [
      "Input:  wifi\n",
      "Target:  wii\n",
      "Output:  wii\n",
      "\n",
      "Input:  em\n",
      "Target:  me\n",
      "Output:  ee\n",
      "\n",
      "Input:  toon\n",
      "Target:  too\n",
      "Output:  too\n",
      "\n",
      "Input:  bing\n",
      "Target:  being\n",
      "Output:  bin\n",
      "\n",
      "Input:  av\n",
      "Target:  a\n",
      "Output:  av\n",
      "\n",
      "Input:  imo\n",
      "Target:  im\n",
      "Output:  is\n",
      "\n",
      "Input:  appreciatet\n",
      "Target:  appreciated\n",
      "Output:  appreciatee\n",
      "\n",
      "Input:  tha\n",
      "Target:  the\n",
      "Output:  the\n",
      "\n",
      "Input:  fucc\n",
      "Target:  fuck\n",
      "Output:  fuck\n",
      "\n",
      "Input:  nd\n",
      "Target:  and\n",
      "Output:  nnd\n",
      "\n"
     ]
    }
   ],
   "source": [
    "np.random.seed(1)\n",
    "evaluate_model(simple_rnn2, X_dev_padded, y_dev_padded, np.random.randint(0, len(X_dev), 10))"
   ]
  },
  {
   "cell_type": "markdown",
   "metadata": {},
   "source": [
    "Well, far from perfect but still gets a lot of words right! \n",
    "Some targets are not obvious for a human either, especially without context.\n",
    "\n",
    "More training time could probably help to improve the model, but first let's have a quick look at the embeddings we have created. Let's visualize with PCA."
   ]
  },
  {
   "cell_type": "code",
   "execution_count": 49,
   "metadata": {},
   "outputs": [],
   "source": [
    "simple_rnn2.save('keras_models/spell_correction_simple_rnn2.h5')"
   ]
  },
  {
   "cell_type": "markdown",
   "metadata": {},
   "source": [
    "## Inspecting the character embeddings"
   ]
  },
  {
   "cell_type": "code",
   "execution_count": 50,
   "metadata": {},
   "outputs": [],
   "source": [
    "embedding_matrix = simple_rnn2.layers[1].get_weights()[0]"
   ]
  },
  {
   "cell_type": "code",
   "execution_count": 65,
   "metadata": {},
   "outputs": [],
   "source": [
    "from sklearn.decomposition import PCA\n",
    "from sklearn.preprocessing import MinMaxScaler\n",
    "\n",
    "pca = PCA(n_components=2, random_state=0)\n",
    "\n",
    "embedding_matrix_2_dim = pca.fit_transform(embedding_matrix)\n",
    "embedding_matrix_2_dim = MinMaxScaler().fit_transform(X=embedding_matrix_2_dim)"
   ]
  },
  {
   "cell_type": "code",
   "execution_count": 73,
   "metadata": {},
   "outputs": [
    {
     "data": {
      "text/plain": [
       "array([ 0.25834391,  0.17576526], dtype=float32)"
      ]
     },
     "execution_count": 73,
     "metadata": {},
     "output_type": "execute_result"
    }
   ],
   "source": [
    "pca.explained_variance_ratio_"
   ]
  },
  {
   "cell_type": "code",
   "execution_count": 75,
   "metadata": {},
   "outputs": [
    {
     "data": {
      "text/plain": [
       "0.43410915"
      ]
     },
     "execution_count": 75,
     "metadata": {},
     "output_type": "execute_result"
    }
   ],
   "source": [
    "pca.explained_variance_ratio_.sum()"
   ]
  },
  {
   "cell_type": "markdown",
   "metadata": {},
   "source": [
    "A lot of information is lost when going from 10 dimensions to 2, but we still have 43% of the explained variance."
   ]
  },
  {
   "cell_type": "code",
   "execution_count": 72,
   "metadata": {},
   "outputs": [
    {
     "data": {
      "text/plain": [
       "<matplotlib.text.Text at 0x15634cc0d68>"
      ]
     },
     "execution_count": 72,
     "metadata": {},
     "output_type": "execute_result"
    },
    {
     "data": {
      "image/png": "[encoded data removed]",
      "text/plain": [
       "<matplotlib.figure.Figure at 0x15634828470>"
      ]
     },
     "metadata": {},
     "output_type": "display_data"
    }
   ],
   "source": [
    "f, ax = plt.subplots(figsize=(8,8))\n",
    "ax.set_xlim([-.01, 1.01])\n",
    "ax.set_ylim([-.01, 1.01])\n",
    "for char, i in char_mapping.items():\n",
    "    x, y = embedding_matrix_2_dim[i]\n",
    "    ax.text(x, y, char)\n",
    "\n",
    "ax.set_title('Character Embeddings of Simple Model 2, Two Principal Components')\n",
    "ax.set_xlabel('First Principal Component')\n",
    "ax.set_ylabel('Second Principal Component')"
   ]
  },
  {
   "cell_type": "markdown",
   "metadata": {},
   "source": [
    "I can't really see any obvious patterns, except possibly that k and c are very close. \n",
    "I had hopes that characters that are close by on the keyboard would appear close in the embedding, as these characters are supposedly often interchanged in spelling errors. \n",
    "This is true for a few characters, but far from all."
   ]
  }
 ],
 "metadata": {
  "kernelspec": {
   "display_name": "Python 3",
   "language": "python",
   "name": "python3"
  },
  "language_info": {
   "codemirror_mode": {
    "name": "ipython",
    "version": 3
   },
   "file_extension": ".py",
   "mimetype": "text/x-python",
   "name": "python",
   "nbconvert_exporter": "python",
   "pygments_lexer": "ipython3",
   "version": "3.6.2"
  }
 },
 "nbformat": 4,
 "nbformat_minor": 2
}
