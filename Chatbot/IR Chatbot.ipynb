{
 "cells": [
  {
   "cell_type": "markdown",
   "metadata": {},
   "source": [
    "# Introduction\n",
    "I have built a simple turn based information retrieval chatbot `IRChatbot`. \n",
    "\n",
    "My chatbot is initialized from a set of conversations, where each conversation consists of a message sequence, or \"turns\".\n",
    "When the bot receives a new message it will atempt to find the most similar message among it's known conversations, and respond with the same message that was used in that conversation."
   ]
  },
  {
   "cell_type": "code",
   "execution_count": 224,
   "metadata": {},
   "outputs": [],
   "source": [
    "import imp\n",
    "\n",
    "import chatbot\n",
    "imp.reload(chatbot)\n",
    "from chatbot import IRChatbot\n",
    "\n",
    "import numpy as np"
   ]
  },
  {
   "cell_type": "markdown",
   "metadata": {},
   "source": [
    "# Toy Example\n",
    "Let's start with a toy data set of just four sentences."
   ]
  },
  {
   "cell_type": "code",
   "execution_count": 225,
   "metadata": {
    "collapsed": true
   },
   "outputs": [],
   "source": [
    "messages = [\n",
    "    \"Hello, I'm Gustav.\",\n",
    "    \"Nice to meet you Gustav, I'm Carl.\",\n",
    "    \"What are you doing?\",\n",
    "    \"I'm reading a book.\"\n",
    "]\n",
    "message_dict = dict(enumerate(messages))\n",
    "\n",
    "edges = [(0, 1), (2, 3)]"
   ]
  },
  {
   "cell_type": "code",
   "execution_count": 226,
   "metadata": {},
   "outputs": [],
   "source": [
    "bot = IRChatbot(message_dict, edges)"
   ]
  },
  {
   "cell_type": "code",
   "execution_count": 227,
   "metadata": {},
   "outputs": [
    {
     "data": {
      "text/plain": [
       "\"Nice to meet you Gustav, I'm Carl.\""
      ]
     },
     "execution_count": 227,
     "metadata": {},
     "output_type": "execute_result"
    }
   ],
   "source": [
    "bot.respond(\"Hello, I'm Simon\")"
   ]
  },
  {
   "cell_type": "code",
   "execution_count": 228,
   "metadata": {},
   "outputs": [
    {
     "data": {
      "text/plain": [
       "\"I'm reading a book.\""
      ]
     },
     "execution_count": 228,
     "metadata": {},
     "output_type": "execute_result"
    }
   ],
   "source": [
    "bot.respond(\"What is happening?\")"
   ]
  },
  {
   "cell_type": "code",
   "execution_count": 229,
   "metadata": {},
   "outputs": [
    {
     "data": {
      "text/plain": [
       "\"I'm reading a book.\""
      ]
     },
     "execution_count": 229,
     "metadata": {},
     "output_type": "execute_result"
    }
   ],
   "source": [
    "bot.respond(\"How are you doing?\")"
   ]
  },
  {
   "cell_type": "markdown",
   "metadata": {},
   "source": [
    "# Move Script Data\n",
    "Now let's move on to a larger data set, the [Cornell Movie Dialog Corpus](http://www.cs.cornell.edu/~cristian//Cornell_Movie-Dialogs_Corpus.html)."
   ]
  },
  {
   "cell_type": "code",
   "execution_count": 230,
   "metadata": {
    "collapsed": true
   },
   "outputs": [],
   "source": [
    "import pandas as pd"
   ]
  },
  {
   "cell_type": "code",
   "execution_count": 231,
   "metadata": {},
   "outputs": [
    {
     "name": "stderr",
     "output_type": "stream",
     "text": [
      "C:\\Users\\Gustav\\Anaconda3\\lib\\site-packages\\ipykernel_launcher.py:2: ParserWarning: Falling back to the 'python' engine because the 'c' engine does not support regex separators (separators > 1 char and different from '\\s+' are interpreted as regex); you can avoid this warning by specifying engine='python'.\n",
      "  \n"
     ]
    }
   ],
   "source": [
    "movie_lines = pd.read_csv('data/cornell_movie_dialogs_corpus/cornell movie-dialogs corpus/movie_lines.txt', \n",
    "                          sep=r'\\+\\+\\+\\$\\+\\+\\+', header=None, names=['id', 'character_id', 'movie_id', 'character_name', 'line'], )"
   ]
  },
  {
   "cell_type": "code",
   "execution_count": 232,
   "metadata": {},
   "outputs": [],
   "source": [
    "for col in movie_lines.columns:\n",
    "    movie_lines.loc[:, col] = movie_lines.loc[:, col].str.strip()"
   ]
  },
  {
   "cell_type": "code",
   "execution_count": 233,
   "metadata": {},
   "outputs": [],
   "source": [
    "movie_lines = movie_lines.fillna('')"
   ]
  },
  {
   "cell_type": "code",
   "execution_count": 234,
   "metadata": {},
   "outputs": [
    {
     "data": {
      "text/html": [
       "<div>\n",
       "<style>\n",
       "    .dataframe thead tr:only-child th {\n",
       "        text-align: right;\n",
       "    }\n",
       "\n",
       "    .dataframe thead th {\n",
       "        text-align: left;\n",
       "    }\n",
       "\n",
       "    .dataframe tbody tr th {\n",
       "        vertical-align: top;\n",
       "    }\n",
       "</style>\n",
       "<table border=\"1\" class=\"dataframe\">\n",
       "  <thead>\n",
       "    <tr style=\"text-align: right;\">\n",
       "      <th></th>\n",
       "      <th>id</th>\n",
       "      <th>character_id</th>\n",
       "      <th>movie_id</th>\n",
       "      <th>character_name</th>\n",
       "      <th>line</th>\n",
       "    </tr>\n",
       "  </thead>\n",
       "  <tbody>\n",
       "    <tr>\n",
       "      <th>0</th>\n",
       "      <td>L1045</td>\n",
       "      <td>u0</td>\n",
       "      <td>m0</td>\n",
       "      <td>BIANCA</td>\n",
       "      <td>They do not!</td>\n",
       "    </tr>\n",
       "    <tr>\n",
       "      <th>1</th>\n",
       "      <td>L1044</td>\n",
       "      <td>u2</td>\n",
       "      <td>m0</td>\n",
       "      <td>CAMERON</td>\n",
       "      <td>They do to!</td>\n",
       "    </tr>\n",
       "    <tr>\n",
       "      <th>2</th>\n",
       "      <td>L985</td>\n",
       "      <td>u0</td>\n",
       "      <td>m0</td>\n",
       "      <td>BIANCA</td>\n",
       "      <td>I hope so.</td>\n",
       "    </tr>\n",
       "    <tr>\n",
       "      <th>3</th>\n",
       "      <td>L984</td>\n",
       "      <td>u2</td>\n",
       "      <td>m0</td>\n",
       "      <td>CAMERON</td>\n",
       "      <td>She okay?</td>\n",
       "    </tr>\n",
       "    <tr>\n",
       "      <th>4</th>\n",
       "      <td>L925</td>\n",
       "      <td>u0</td>\n",
       "      <td>m0</td>\n",
       "      <td>BIANCA</td>\n",
       "      <td>Let's go.</td>\n",
       "    </tr>\n",
       "  </tbody>\n",
       "</table>\n",
       "</div>"
      ],
      "text/plain": [
       "      id character_id movie_id character_name          line\n",
       "0  L1045           u0       m0         BIANCA  They do not!\n",
       "1  L1044           u2       m0        CAMERON   They do to!\n",
       "2   L985           u0       m0         BIANCA    I hope so.\n",
       "3   L984           u2       m0        CAMERON     She okay?\n",
       "4   L925           u0       m0         BIANCA     Let's go."
      ]
     },
     "execution_count": 234,
     "metadata": {},
     "output_type": "execute_result"
    }
   ],
   "source": [
    "movie_lines.head()"
   ]
  },
  {
   "cell_type": "code",
   "execution_count": 235,
   "metadata": {},
   "outputs": [
    {
     "name": "stderr",
     "output_type": "stream",
     "text": [
      "C:\\Users\\Gustav\\Anaconda3\\lib\\site-packages\\ipykernel_launcher.py:2: ParserWarning: Falling back to the 'python' engine because the 'c' engine does not support regex separators (separators > 1 char and different from '\\s+' are interpreted as regex); you can avoid this warning by specifying engine='python'.\n",
      "  \n"
     ]
    }
   ],
   "source": [
    "conversations = pd.read_csv('data/cornell_movie_dialogs_corpus/cornell movie-dialogs corpus/movie_conversations.txt', \n",
    "                          sep=r'\\+\\+\\+\\$\\+\\+\\+', header=None, names=['character_id_1', 'character_id_2', 'movie_id', 'lines'])"
   ]
  },
  {
   "cell_type": "code",
   "execution_count": 236,
   "metadata": {
    "collapsed": true
   },
   "outputs": [],
   "source": [
    "for col in conversations.columns:\n",
    "    conversations.loc[:, col] = conversations.loc[:, col].str.strip()"
   ]
  },
  {
   "cell_type": "code",
   "execution_count": 237,
   "metadata": {},
   "outputs": [
    {
     "data": {
      "text/html": [
       "<div>\n",
       "<style>\n",
       "    .dataframe thead tr:only-child th {\n",
       "        text-align: right;\n",
       "    }\n",
       "\n",
       "    .dataframe thead th {\n",
       "        text-align: left;\n",
       "    }\n",
       "\n",
       "    .dataframe tbody tr th {\n",
       "        vertical-align: top;\n",
       "    }\n",
       "</style>\n",
       "<table border=\"1\" class=\"dataframe\">\n",
       "  <thead>\n",
       "    <tr style=\"text-align: right;\">\n",
       "      <th></th>\n",
       "      <th>character_id_1</th>\n",
       "      <th>character_id_2</th>\n",
       "      <th>movie_id</th>\n",
       "      <th>lines</th>\n",
       "    </tr>\n",
       "  </thead>\n",
       "  <tbody>\n",
       "    <tr>\n",
       "      <th>0</th>\n",
       "      <td>u0</td>\n",
       "      <td>u2</td>\n",
       "      <td>m0</td>\n",
       "      <td>['L194', 'L195', 'L196', 'L197']</td>\n",
       "    </tr>\n",
       "    <tr>\n",
       "      <th>1</th>\n",
       "      <td>u0</td>\n",
       "      <td>u2</td>\n",
       "      <td>m0</td>\n",
       "      <td>['L198', 'L199']</td>\n",
       "    </tr>\n",
       "    <tr>\n",
       "      <th>2</th>\n",
       "      <td>u0</td>\n",
       "      <td>u2</td>\n",
       "      <td>m0</td>\n",
       "      <td>['L200', 'L201', 'L202', 'L203']</td>\n",
       "    </tr>\n",
       "    <tr>\n",
       "      <th>3</th>\n",
       "      <td>u0</td>\n",
       "      <td>u2</td>\n",
       "      <td>m0</td>\n",
       "      <td>['L204', 'L205', 'L206']</td>\n",
       "    </tr>\n",
       "    <tr>\n",
       "      <th>4</th>\n",
       "      <td>u0</td>\n",
       "      <td>u2</td>\n",
       "      <td>m0</td>\n",
       "      <td>['L207', 'L208']</td>\n",
       "    </tr>\n",
       "  </tbody>\n",
       "</table>\n",
       "</div>"
      ],
      "text/plain": [
       "  character_id_1 character_id_2 movie_id                             lines\n",
       "0             u0             u2       m0  ['L194', 'L195', 'L196', 'L197']\n",
       "1             u0             u2       m0                  ['L198', 'L199']\n",
       "2             u0             u2       m0  ['L200', 'L201', 'L202', 'L203']\n",
       "3             u0             u2       m0          ['L204', 'L205', 'L206']\n",
       "4             u0             u2       m0                  ['L207', 'L208']"
      ]
     },
     "execution_count": 237,
     "metadata": {},
     "output_type": "execute_result"
    }
   ],
   "source": [
    "conversations.head()"
   ]
  },
  {
   "cell_type": "code",
   "execution_count": 238,
   "metadata": {},
   "outputs": [
    {
     "name": "stdout",
     "output_type": "stream",
     "text": [
      "83097 conversations with 304713 messages\n"
     ]
    }
   ],
   "source": [
    "print(\"%d conversations with %d messages\" % (len(conversations), len(movie_lines)))"
   ]
  },
  {
   "cell_type": "markdown",
   "metadata": {},
   "source": [
    "The data contains a lot of meta information that my chatbot does not need, so I will throw that away."
   ]
  },
  {
   "cell_type": "code",
   "execution_count": 239,
   "metadata": {
    "collapsed": true
   },
   "outputs": [],
   "source": [
    "import re"
   ]
  },
  {
   "cell_type": "code",
   "execution_count": 240,
   "metadata": {
    "collapsed": true
   },
   "outputs": [],
   "source": [
    "# Convert to lists\n",
    "conversations['lines'] = conversations['lines'].apply(lambda x: list(re.sub(r\"[' \\[\\]]\", '', x).split(',')))"
   ]
  },
  {
   "cell_type": "code",
   "execution_count": 241,
   "metadata": {},
   "outputs": [],
   "source": [
    "messages = dict(zip(movie_lines.loc[:,'id'].values, movie_lines.loc[:,'line'].values))"
   ]
  },
  {
   "cell_type": "code",
   "execution_count": 242,
   "metadata": {},
   "outputs": [],
   "source": [
    "conversations['edges'] = conversations['lines'].apply(lambda x: [(x[i], x[i+1]) for i in range(len(x)-1)])"
   ]
  },
  {
   "cell_type": "code",
   "execution_count": 243,
   "metadata": {},
   "outputs": [
    {
     "data": {
      "text/html": [
       "<div>\n",
       "<style>\n",
       "    .dataframe thead tr:only-child th {\n",
       "        text-align: right;\n",
       "    }\n",
       "\n",
       "    .dataframe thead th {\n",
       "        text-align: left;\n",
       "    }\n",
       "\n",
       "    .dataframe tbody tr th {\n",
       "        vertical-align: top;\n",
       "    }\n",
       "</style>\n",
       "<table border=\"1\" class=\"dataframe\">\n",
       "  <thead>\n",
       "    <tr style=\"text-align: right;\">\n",
       "      <th></th>\n",
       "      <th>character_id_1</th>\n",
       "      <th>character_id_2</th>\n",
       "      <th>movie_id</th>\n",
       "      <th>lines</th>\n",
       "      <th>edges</th>\n",
       "    </tr>\n",
       "  </thead>\n",
       "  <tbody>\n",
       "    <tr>\n",
       "      <th>0</th>\n",
       "      <td>u0</td>\n",
       "      <td>u2</td>\n",
       "      <td>m0</td>\n",
       "      <td>[L194, L195, L196, L197]</td>\n",
       "      <td>[(L194, L195), (L195, L196), (L196, L197)]</td>\n",
       "    </tr>\n",
       "    <tr>\n",
       "      <th>1</th>\n",
       "      <td>u0</td>\n",
       "      <td>u2</td>\n",
       "      <td>m0</td>\n",
       "      <td>[L198, L199]</td>\n",
       "      <td>[(L198, L199)]</td>\n",
       "    </tr>\n",
       "    <tr>\n",
       "      <th>2</th>\n",
       "      <td>u0</td>\n",
       "      <td>u2</td>\n",
       "      <td>m0</td>\n",
       "      <td>[L200, L201, L202, L203]</td>\n",
       "      <td>[(L200, L201), (L201, L202), (L202, L203)]</td>\n",
       "    </tr>\n",
       "    <tr>\n",
       "      <th>3</th>\n",
       "      <td>u0</td>\n",
       "      <td>u2</td>\n",
       "      <td>m0</td>\n",
       "      <td>[L204, L205, L206]</td>\n",
       "      <td>[(L204, L205), (L205, L206)]</td>\n",
       "    </tr>\n",
       "    <tr>\n",
       "      <th>4</th>\n",
       "      <td>u0</td>\n",
       "      <td>u2</td>\n",
       "      <td>m0</td>\n",
       "      <td>[L207, L208]</td>\n",
       "      <td>[(L207, L208)]</td>\n",
       "    </tr>\n",
       "  </tbody>\n",
       "</table>\n",
       "</div>"
      ],
      "text/plain": [
       "  character_id_1 character_id_2 movie_id                     lines  \\\n",
       "0             u0             u2       m0  [L194, L195, L196, L197]   \n",
       "1             u0             u2       m0              [L198, L199]   \n",
       "2             u0             u2       m0  [L200, L201, L202, L203]   \n",
       "3             u0             u2       m0        [L204, L205, L206]   \n",
       "4             u0             u2       m0              [L207, L208]   \n",
       "\n",
       "                                        edges  \n",
       "0  [(L194, L195), (L195, L196), (L196, L197)]  \n",
       "1                              [(L198, L199)]  \n",
       "2  [(L200, L201), (L201, L202), (L202, L203)]  \n",
       "3                [(L204, L205), (L205, L206)]  \n",
       "4                              [(L207, L208)]  "
      ]
     },
     "execution_count": 243,
     "metadata": {},
     "output_type": "execute_result"
    }
   ],
   "source": [
    "conversations.head()"
   ]
  },
  {
   "cell_type": "markdown",
   "metadata": {},
   "source": [
    "Let's use just 1000 sentences to test my implementation."
   ]
  },
  {
   "cell_type": "code",
   "execution_count": 244,
   "metadata": {
    "collapsed": true
   },
   "outputs": [],
   "source": [
    "def trim_data(conversations, messages, n):\n",
    "    fewer_conversations = conversations.iloc[:n]\n",
    "    edges = []\n",
    "    step = np.ceil(len(fewer_conversations) / 10)\n",
    "    for i in range(10):\n",
    "        edges += fewer_conversations.loc[i*step:min((i+1)*step, len(fewer_conversations)),'edges'].sum()\n",
    "    fewer_messages = {}\n",
    "    for edge in edges:\n",
    "        for message_id in edge:\n",
    "            fewer_messages[message_id] = messages[message_id]\n",
    "    \n",
    "    return fewer_messages, edges"
   ]
  },
  {
   "cell_type": "code",
   "execution_count": 257,
   "metadata": {},
   "outputs": [],
   "source": [
    "fewer_messages, fewer_edges = trim_data(conversations, messages, 83097)"
   ]
  },
  {
   "cell_type": "code",
   "execution_count": 258,
   "metadata": {},
   "outputs": [
    {
     "name": "stdout",
     "output_type": "stream",
     "text": [
      "There are now 221661 edges\n"
     ]
    }
   ],
   "source": [
    "print(\"There are now %d edges\" % len(fewer_edges))"
   ]
  },
  {
   "cell_type": "code",
   "execution_count": 259,
   "metadata": {},
   "outputs": [
    {
     "name": "stdout",
     "output_type": "stream",
     "text": [
      "There are now 304713 lines\n"
     ]
    }
   ],
   "source": [
    "print(\"There are now %d lines\" % len(fewer_messages))"
   ]
  },
  {
   "cell_type": "code",
   "execution_count": 260,
   "metadata": {},
   "outputs": [
    {
     "name": "stdout",
     "output_type": "stream",
     "text": [
      "Wall time: 2min 14s\n"
     ]
    }
   ],
   "source": [
    "%time bot = IRChatbot(fewer_messages, edges)"
   ]
  },
  {
   "cell_type": "code",
   "execution_count": 261,
   "metadata": {},
   "outputs": [
    {
     "name": "stdout",
     "output_type": "stream",
     "text": [
      "Wall time: 2.3 s\n"
     ]
    },
    {
     "data": {
      "text/plain": [
       "'What is happening?'"
      ]
     },
     "execution_count": 261,
     "metadata": {},
     "output_type": "execute_result"
    }
   ],
   "source": [
    "%time bot.respond(\"What is happening?\")"
   ]
  },
  {
   "cell_type": "code",
   "execution_count": 262,
   "metadata": {},
   "outputs": [
    {
     "name": "stdout",
     "output_type": "stream",
     "text": [
      "Wall time: 2.63 s\n"
     ]
    },
    {
     "data": {
      "text/plain": [
       "'Who are you?'"
      ]
     },
     "execution_count": 262,
     "metadata": {},
     "output_type": "execute_result"
    }
   ],
   "source": [
    "%time bot.respond(\"Who are you?\")"
   ]
  },
  {
   "cell_type": "code",
   "execution_count": 263,
   "metadata": {},
   "outputs": [
    {
     "name": "stdout",
     "output_type": "stream",
     "text": [
      "Wall time: 2.6 s\n"
     ]
    },
    {
     "data": {
      "text/plain": [
       "'What is your name?'"
      ]
     },
     "execution_count": 263,
     "metadata": {},
     "output_type": "execute_result"
    }
   ],
   "source": [
    "%time bot.respond(\"What is your name?\")"
   ]
  },
  {
   "cell_type": "code",
   "execution_count": 264,
   "metadata": {},
   "outputs": [
    {
     "name": "stdout",
     "output_type": "stream",
     "text": [
      "Wall time: 2.79 s\n"
     ]
    },
    {
     "data": {
      "text/plain": [
       "'Tell me something, anything.'"
      ]
     },
     "execution_count": 264,
     "metadata": {},
     "output_type": "execute_result"
    }
   ],
   "source": [
    "%time bot.respond(\"Tell me something\")"
   ]
  },
  {
   "cell_type": "code",
   "execution_count": 265,
   "metadata": {},
   "outputs": [
    {
     "name": "stdout",
     "output_type": "stream",
     "text": [
      "Wall time: 2.41 s\n"
     ]
    },
    {
     "data": {
      "text/plain": [
       "'I hate peas.'"
      ]
     },
     "execution_count": 265,
     "metadata": {},
     "output_type": "execute_result"
    }
   ],
   "source": [
    "%time bot.respond(\"What do you hate about peas?\")"
   ]
  },
  {
   "cell_type": "code",
   "execution_count": 266,
   "metadata": {},
   "outputs": [
    {
     "name": "stdout",
     "output_type": "stream",
     "text": [
      "Wall time: 2.55 s\n"
     ]
    },
    {
     "data": {
      "text/plain": [
       "'Where are we?'"
      ]
     },
     "execution_count": 266,
     "metadata": {},
     "output_type": "execute_result"
    }
   ],
   "source": [
    "%time bot.respond(\"Where are we?\")"
   ]
  },
  {
   "cell_type": "code",
   "execution_count": 267,
   "metadata": {},
   "outputs": [
    {
     "name": "stdout",
     "output_type": "stream",
     "text": [
      "Wall time: 3.4 s\n"
     ]
    },
    {
     "data": {
      "text/plain": [
       "\"Let's go!  Let's go!\""
      ]
     },
     "execution_count": 267,
     "metadata": {},
     "output_type": "execute_result"
    }
   ],
   "source": [
    "%time bot.respond(\"Let's go!\")"
   ]
  },
  {
   "cell_type": "markdown",
   "metadata": {},
   "source": [
    "Most of the time the bot is pretty much just mimicking my input, which is the behaviour I have set for when the closest message lacks a response. Let's see what happens if I say stuff thats less likely to occur in the movies."
   ]
  },
  {
   "cell_type": "code",
   "execution_count": 278,
   "metadata": {},
   "outputs": [
    {
     "name": "stdout",
     "output_type": "stream",
     "text": [
      "Wall time: 2.68 s\n"
     ]
    },
    {
     "data": {
      "text/plain": [
       "'Would you like to?'"
      ]
     },
     "execution_count": 278,
     "metadata": {},
     "output_type": "execute_result"
    }
   ],
   "source": [
    "%time bot.respond(\"Would you like to go to Stockholm?\")"
   ]
  },
  {
   "cell_type": "code",
   "execution_count": 279,
   "metadata": {},
   "outputs": [
    {
     "name": "stdout",
     "output_type": "stream",
     "text": [
      "Wall time: 2.33 s\n"
     ]
    },
    {
     "data": {
      "text/plain": [
       "\"You're learning.\""
      ]
     },
     "execution_count": 279,
     "metadata": {},
     "output_type": "execute_result"
    }
   ],
   "source": [
    "%time bot.respond(\"I am learning about chatbots\")"
   ]
  },
  {
   "cell_type": "markdown",
   "metadata": {},
   "source": [
    "It takes the bot about 3 seconds to answer a question, which I think is fine considering a human would probably need more time to type an answer. \n",
    "\n",
    "It would be interesting to see if we can get better reponses and reduce the time to answer by using doc2vec! There are also other techniques to reduce the number f features such as LDA or PCA, which could also be neat to try out."
   ]
  },
  {
   "cell_type": "code",
   "execution_count": 269,
   "metadata": {},
   "outputs": [
    {
     "name": "stdout",
     "output_type": "stream",
     "text": [
      "Each document is represented as a vector with 59807 elements\n"
     ]
    }
   ],
   "source": [
    "print(\"Each document is represented as a vector with %d elements\" % bot.message_vectors['L194'].shape[1])"
   ]
  },
  {
   "cell_type": "markdown",
   "metadata": {},
   "source": [
    "# Doc2Vec \n",
    "Let's condense the document representations by using doc2vec!"
   ]
  },
  {
   "cell_type": "code",
   "execution_count": 201,
   "metadata": {},
   "outputs": [],
   "source": [
    "fewer_messages, fewer_edges = trim_data(conversations, messages, 83097)"
   ]
  },
  {
   "cell_type": "code",
   "execution_count": 270,
   "metadata": {},
   "outputs": [
    {
     "name": "stdout",
     "output_type": "stream",
     "text": [
      "Wall time: 29min 52s\n"
     ]
    }
   ],
   "source": [
    "%time bot_doc2vec = IRChatbot(fewer_messages, edges, representation='doc2vec', representation_kwargs={'epochs':50, 'vector_size':100})"
   ]
  },
  {
   "cell_type": "code",
   "execution_count": 271,
   "metadata": {},
   "outputs": [
    {
     "name": "stdout",
     "output_type": "stream",
     "text": [
      "Wall time: 766 ms\n"
     ]
    },
    {
     "data": {
      "text/plain": [
       "'What is happening?'"
      ]
     },
     "execution_count": 271,
     "metadata": {},
     "output_type": "execute_result"
    }
   ],
   "source": [
    "%time bot_doc2vec.respond(\"What is happening?\")"
   ]
  },
  {
   "cell_type": "code",
   "execution_count": 272,
   "metadata": {},
   "outputs": [
    {
     "name": "stdout",
     "output_type": "stream",
     "text": [
      "Wall time: 807 ms\n"
     ]
    },
    {
     "data": {
      "text/plain": [
       "'Who are you?'"
      ]
     },
     "execution_count": 272,
     "metadata": {},
     "output_type": "execute_result"
    }
   ],
   "source": [
    "%time bot_doc2vec.respond(\"Who are you?\")"
   ]
  },
  {
   "cell_type": "code",
   "execution_count": 273,
   "metadata": {},
   "outputs": [
    {
     "name": "stdout",
     "output_type": "stream",
     "text": [
      "Wall time: 778 ms\n"
     ]
    },
    {
     "data": {
      "text/plain": [
       "'What is your name?'"
      ]
     },
     "execution_count": 273,
     "metadata": {},
     "output_type": "execute_result"
    }
   ],
   "source": [
    "%time bot_doc2vec.respond(\"What is your name?\")"
   ]
  },
  {
   "cell_type": "code",
   "execution_count": 274,
   "metadata": {},
   "outputs": [
    {
     "name": "stdout",
     "output_type": "stream",
     "text": [
      "Wall time: 885 ms\n"
     ]
    },
    {
     "data": {
      "text/plain": [
       "'Tell me something true.'"
      ]
     },
     "execution_count": 274,
     "metadata": {},
     "output_type": "execute_result"
    }
   ],
   "source": [
    "%time bot_doc2vec.respond(\"Tell me something\")"
   ]
  },
  {
   "cell_type": "code",
   "execution_count": 275,
   "metadata": {},
   "outputs": [
    {
     "name": "stdout",
     "output_type": "stream",
     "text": [
      "Wall time: 771 ms\n"
     ]
    },
    {
     "data": {
      "text/plain": [
       "'Whatta you so happy about?'"
      ]
     },
     "execution_count": 275,
     "metadata": {},
     "output_type": "execute_result"
    }
   ],
   "source": [
    "%time bot_doc2vec.respond(\"What do you hate about peas?\")"
   ]
  },
  {
   "cell_type": "code",
   "execution_count": 276,
   "metadata": {},
   "outputs": [
    {
     "name": "stdout",
     "output_type": "stream",
     "text": [
      "Wall time: 786 ms\n"
     ]
    },
    {
     "data": {
      "text/plain": [
       "'Where are we ?'"
      ]
     },
     "execution_count": 276,
     "metadata": {},
     "output_type": "execute_result"
    }
   ],
   "source": [
    "%time bot_doc2vec.respond(\"Where are we?\")"
   ]
  },
  {
   "cell_type": "code",
   "execution_count": 277,
   "metadata": {},
   "outputs": [
    {
     "name": "stdout",
     "output_type": "stream",
     "text": [
      "Wall time: 972 ms\n"
     ]
    },
    {
     "data": {
      "text/plain": [
       "\"Let's go!\""
      ]
     },
     "execution_count": 277,
     "metadata": {},
     "output_type": "execute_result"
    }
   ],
   "source": [
    "%time bot_doc2vec.respond(\"Let's go!\")"
   ]
  },
  {
   "cell_type": "code",
   "execution_count": 280,
   "metadata": {},
   "outputs": [
    {
     "name": "stdout",
     "output_type": "stream",
     "text": [
      "Wall time: 783 ms\n"
     ]
    },
    {
     "data": {
      "text/plain": [
       "'Something like that. Will you do it?'"
      ]
     },
     "execution_count": 280,
     "metadata": {},
     "output_type": "execute_result"
    }
   ],
   "source": [
    "%time bot_doc2vec.respond(\"Would you like to go to Stockholm?\")"
   ]
  },
  {
   "cell_type": "code",
   "execution_count": 281,
   "metadata": {},
   "outputs": [
    {
     "name": "stdout",
     "output_type": "stream",
     "text": [
      "Wall time: 750 ms\n"
     ]
    },
    {
     "data": {
      "text/plain": [
       "'I am accountable.'"
      ]
     },
     "execution_count": 281,
     "metadata": {},
     "output_type": "execute_result"
    }
   ],
   "source": [
    "%time bot_doc2vec.respond(\"I am learning about chatbots\")"
   ]
  },
  {
   "cell_type": "code",
   "execution_count": 286,
   "metadata": {
    "collapsed": true
   },
   "outputs": [],
   "source": [
    "def chat(model):\n",
    "    print(\"Bot: Hey!\")\n",
    "    msg = \"\"\n",
    "    while msg.lower() != \"bye\":\n",
    "        msg = input()\n",
    "        print(\"Bot: \" + model.respond(msg))"
   ]
  },
  {
   "cell_type": "code",
   "execution_count": 287,
   "metadata": {},
   "outputs": [
    {
     "name": "stdout",
     "output_type": "stream",
     "text": [
      "Bot: Hey!\n",
      "Hi bot!\n",
      "Bot: Hi!  Hi!\n",
      "You seem happy!\n",
      "Bot: Yippy!\n",
      ":D\n",
      "Bot: 5:11.\n",
      "Okay? What does that mean?\n",
      "Bot: Oh yeah? What kind is that?\n",
      "What are you talking about?\n",
      "Bot: What are you talking about?\n",
      "I'm asking the questions here\n",
      "Bot: It's a method for quitting smoking.\n",
      "Ahh I see, thanks for explaining.\n",
      "Bot: Alex, please.\n",
      "I'm not Alex\n",
      "Bot: Alex.\n",
      "No\n",
      "Bot: No.\n",
      "Are you just mimicking what I say?\n",
      "Bot: Are you jackin' with me?\n",
      "No I'm not\n",
      "Bot: No I'm not.\n",
      "Ahhhh\n",
      "Bot: Ahhh.\n",
      "Please stop\n",
      "Bot: Pops\n",
      "Great, what about pops?\n",
      "Bot: Yes, but what happened to George?\n",
      "He livs in Brooklyn now.\n",
      "Bot: Sounds like Beverly Hills.\n",
      "No, it's in new york\n",
      "Bot: Naw, it's okay.\n",
      "You make no sense.\n",
      "Bot: You mean the snake.\n",
      "Bye\n",
      "Bot: Bye.\n"
     ]
    }
   ],
   "source": [
    "chat(bot_doc2vec)"
   ]
  },
  {
   "cell_type": "code",
   "execution_count": 288,
   "metadata": {},
   "outputs": [
    {
     "name": "stdout",
     "output_type": "stream",
     "text": [
      "Bot: Hey!\n",
      "Hi!\n",
      "Bot: Hi!\n",
      "You sure take your time to answer.\n",
      "Bot: Take your time.\n",
      "Hello my friend. You are now talking to a new person.\n",
      "Bot: You are my friend.\n",
      "That is good to hear albeit a bit worrying how easy you make friends.\n",
      "Bot: I like worrying about you.\n",
      "It is not you who should be worried. \n",
      "Bot: Should I be worried?\n",
      "No, I explained to you that you should not. \n",
      "Bot: No, no, it's not a threat, I've explained all of that.\n",
      "Would you like to know why it is that people have two ears yet only a single mouth?\n",
      "Bot: Single?\n",
      "one\n",
      "Bot: One.\n",
      "It is because a person, including you, should listen more than it talks.\n",
      "Bot: Including you?\n",
      "Yes.\n",
      "Bot: Yes.\n",
      "If I took that off, would you die? \n",
      "Bot: Took off. Yes. They took off.\n",
      "You're a big guy. \n",
      "Bot: You're a big help.\n",
      "bye\n",
      "Bot: Bye, Bye.\n"
     ]
    }
   ],
   "source": [
    "chat(bot)"
   ]
  },
  {
   "cell_type": "code",
   "execution_count": 289,
   "metadata": {},
   "outputs": [
    {
     "name": "stdout",
     "output_type": "stream",
     "text": [
      "Bot1: Hey!\n",
      "Bot2: Hey!\n",
      "Bot1: Hey!\n",
      "Bot2: Hey!\n",
      "Bot1: Hey!\n",
      "Bot2: Hey!\n",
      "Bot1: Hey!\n",
      "Bot2: Hey!\n",
      "Bot1: Hey!\n",
      "Bot2: Hey!\n",
      "Bot1: Hey!\n",
      "Bot2: Hey!\n",
      "Bot1: Hey!\n",
      "Bot2: Hey!\n",
      "Bot1: Hey!\n",
      "Bot2: Hey!\n",
      "Bot1: Hey!\n",
      "Bot2: Hey!\n",
      "Bot1: Hey!\n",
      "Bot2: Hey!\n"
     ]
    }
   ],
   "source": [
    "msg = \"Hey!\"\n",
    "for i in range(10):\n",
    "    print(\"Bot1: \"+ msg)\n",
    "    msg = bot.respond(msg)\n",
    "    print(\"Bot2: \" + msg)\n",
    "    msg = bot.respond(msg)\n",
    "    "
   ]
  }
 ],
 "metadata": {
  "kernelspec": {
   "display_name": "Python 3",
   "language": "python",
   "name": "python3"
  },
  "language_info": {
   "codemirror_mode": {
    "name": "ipython",
    "version": 3
   },
   "file_extension": ".py",
   "mimetype": "text/x-python",
   "name": "python",
   "nbconvert_exporter": "python",
   "pygments_lexer": "ipython3",
   "version": "3.6.2"
  }
 },
 "nbformat": 4,
 "nbformat_minor": 2
}
