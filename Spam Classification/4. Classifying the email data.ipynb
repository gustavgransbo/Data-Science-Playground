{
 "cells": [
  {
   "cell_type": "markdown",
   "metadata": {},
   "source": [
    "# Introduction\n",
    "In my previous notebook `3. Dimensionality reduction with PCA` I implemented PCA using numpy and scipy components. I also encoded the emails in the spamassassin corpus as one hot vectors with the vectors representing the precense of a specific word in the email subject or body.\n",
    "\n",
    "I chose to discard any word that was not present in 10 emails or more. The reason for this was to avoid running our of memory when doing PCA. This reduced the number of unique words fro ~100,000 to ~7,000. \n",
    "I performed PCA and found that 1,500 principal components hold ~94% of the explained variance contained in the ~7,000 word vectors.\n",
    "\n",
    "In this notebook I will divide the data into a test and training set, and see what accuraccy I can get with some basic machinelearning approaches. (I have introduced a bias by not spliting the data into a training and test set before choosing which words get a word vector and performing PCA. I should have set aside a test set from the very start had this been a real project.)"
   ]
  },
  {
   "cell_type": "code",
   "execution_count": 48,
   "metadata": {
    "collapsed": true
   },
   "outputs": [],
   "source": [
    "import numpy as np\n",
    "import pandas as pd\n",
    "import matplotlib.pyplot as plt\n",
    "import seaborn as sns\n",
    "sns.set()\n",
    "\n",
    "%matplotlib inline"
   ]
  },
  {
   "cell_type": "markdown",
   "metadata": {},
   "source": [
    "# Split the data into training and test set"
   ]
  },
  {
   "cell_type": "code",
   "execution_count": 5,
   "metadata": {},
   "outputs": [],
   "source": [
    "data = pd.read_csv('data.csv', encoding='latin')\n",
    "word_vectors = np.load('onehot_data_reduced.npy')"
   ]
  },
  {
   "cell_type": "code",
   "execution_count": 8,
   "metadata": {},
   "outputs": [],
   "source": [
    "label_map = {\n",
    "    'spam' : 'spam', \n",
    "    'spam_2' : 'spam', \n",
    "    'easy_ham' : 'ham', \n",
    "    'easy_ham_2' : 'ham', \n",
    "    'hard_ham' : 'ham'\n",
    "}\n",
    "labels = data['dataset'].apply(lambda x: label_map[x])"
   ]
  },
  {
   "cell_type": "code",
   "execution_count": 20,
   "metadata": {
    "collapsed": true
   },
   "outputs": [],
   "source": [
    "from sklearn.model_selection import StratifiedShuffleSplit"
   ]
  },
  {
   "cell_type": "code",
   "execution_count": 22,
   "metadata": {
    "collapsed": true
   },
   "outputs": [],
   "source": [
    "split = StratifiedShuffleSplit(n_splits=1, test_size=.3, random_state=0)"
   ]
  },
  {
   "cell_type": "code",
   "execution_count": 40,
   "metadata": {},
   "outputs": [],
   "source": [
    "# Using data set as stratify parameter to makse sure we get proportional amount of entries from all data sets in both the test and training set\n",
    "splits  = list(split.split(np.zeros(len(word_vectors)), data['dataset']))[0]"
   ]
  },
  {
   "cell_type": "code",
   "execution_count": 38,
   "metadata": {},
   "outputs": [],
   "source": [
    "train_ids = splits[0]\n",
    "test_ids = splits[1]"
   ]
  },
  {
   "cell_type": "code",
   "execution_count": 61,
   "metadata": {
    "collapsed": true
   },
   "outputs": [],
   "source": [
    "X_train = word_vectors[train_ids]\n",
    "Y_train = labels[train_ids]\n",
    "datasets_train = data['dataset'][train_ids]"
   ]
  },
  {
   "cell_type": "code",
   "execution_count": 60,
   "metadata": {
    "collapsed": true
   },
   "outputs": [],
   "source": [
    "X_test = word_vectors[test_ids]\n",
    "Y_test = labels[test_ids]\n",
    "datasets_test = data['dataset'][test_ids]"
   ]
  },
  {
   "cell_type": "markdown",
   "metadata": {},
   "source": [
    "Let's quickly illustrate the effect of doing a stratified split."
   ]
  },
  {
   "cell_type": "code",
   "execution_count": 62,
   "metadata": {},
   "outputs": [
    {
     "data": {
      "text/plain": [
       "<matplotlib.axes._subplots.AxesSubplot at 0x1e63dceae48>"
      ]
     },
     "execution_count": 62,
     "metadata": {},
     "output_type": "execute_result"
    },
    {
     "data": {
      "image/png": "[encoded data removed]",
      "text/plain": [
       "<matplotlib.figure.Figure at 0x1e63e4321d0>"
      ]
     },
     "metadata": {},
     "output_type": "display_data"
    }
   ],
   "source": [
    "f, ax = plt.subplots(2, 2, figsize=(16,9))\n",
    "# Plot the class labels\n",
    "ax[0][0].set_title('Class labels training set')\n",
    "sns.countplot(Y_train, ax=ax[0][0])\n",
    "ax[0][1].set_title('Class labels test set')\n",
    "sns.countplot(Y_test, ax=ax[0][1])\n",
    "\n",
    "# Plot the\n",
    "ax[1][0].set_title('Data sets of training set')\n",
    "sns.countplot(datasets_train, ax=ax[1][0], order=datasets_train.value_counts().index)\n",
    "ax[1][1].set_title('Data sets of test set')\n",
    "sns.countplot(datasets_test, ax=ax[1][1], order=datasets_test.value_counts().index)"
   ]
  },
  {
   "cell_type": "markdown",
   "metadata": {},
   "source": [
    "Nice! The test and training set have the same distribution of both class labels and source data sets."
   ]
  },
  {
   "cell_type": "markdown",
   "metadata": {},
   "source": [
    "# KNN Classification"
   ]
  },
  {
   "cell_type": "code",
   "execution_count": 58,
   "metadata": {
    "collapsed": true
   },
   "outputs": [],
   "source": [
    "from sklearn.neighbors import KNeighborsClassifier\n",
    "from sklearn.cross_validation import cross_val_score, cross_val_predict"
   ]
  },
  {
   "cell_type": "code",
   "execution_count": 80,
   "metadata": {
    "collapsed": true
   },
   "outputs": [],
   "source": [
    "knn = KNeighborsClassifier(n_neighbors=3)"
   ]
  },
  {
   "cell_type": "code",
   "execution_count": 81,
   "metadata": {},
   "outputs": [
    {
     "data": {
      "text/plain": [
       "array([ 0.94326241,  0.92193045,  0.90844571])"
      ]
     },
     "execution_count": 81,
     "metadata": {},
     "output_type": "execute_result"
    }
   ],
   "source": [
    "cross_val_score(X=X_train, y=Y_train, cv=3, estimator=knn)"
   ]
  },
  {
   "cell_type": "markdown",
   "metadata": {},
   "source": [
    "Looks like pretty poor performance. Of course I should test some other hyper parameters to be sure."
   ]
  },
  {
   "cell_type": "markdown",
   "metadata": {},
   "source": [
    "# Logistic Regression"
   ]
  },
  {
   "cell_type": "code",
   "execution_count": 77,
   "metadata": {},
   "outputs": [],
   "source": [
    "from sklearn.linear_model import LogisticRegression"
   ]
  },
  {
   "cell_type": "code",
   "execution_count": 78,
   "metadata": {
    "collapsed": true
   },
   "outputs": [],
   "source": [
    "log_reg = LogisticRegression()"
   ]
  },
  {
   "cell_type": "code",
   "execution_count": 79,
   "metadata": {},
   "outputs": [
    {
     "data": {
      "text/plain": [
       "array([ 0.98368794,  0.98367637,  0.98012775])"
      ]
     },
     "execution_count": 79,
     "metadata": {},
     "output_type": "execute_result"
    }
   ],
   "source": [
    "cross_val_score(X=X_train, y=Y_train, cv=3, estimator=log_reg)"
   ]
  },
  {
   "cell_type": "markdown",
   "metadata": {},
   "source": [
    "Much better results than KNN right of the bat. Let's see what our confusin matrix looks like."
   ]
  },
  {
   "cell_type": "code",
   "execution_count": 82,
   "metadata": {
    "collapsed": true
   },
   "outputs": [],
   "source": [
    "predictions = cross_val_predict(X=X_train, y=Y_train, cv=3, estimator=log_reg)"
   ]
  },
  {
   "cell_type": "code",
   "execution_count": 83,
   "metadata": {
    "collapsed": true
   },
   "outputs": [],
   "source": [
    "from sklearn.metrics import confusion_matrix"
   ]
  },
  {
   "cell_type": "code",
   "execution_count": 90,
   "metadata": {},
   "outputs": [
    {
     "data": {
      "text/plain": [
       "array([[2854,   47],\n",
       "       [  27, 1300]], dtype=int64)"
      ]
     },
     "execution_count": 90,
     "metadata": {},
     "output_type": "execute_result"
    }
   ],
   "source": [
    "confusion_matrix(y_pred=predictions, y_true=Y_train, labels=['ham', 'spam'])"
   ]
  },
  {
   "cell_type": "markdown",
   "metadata": {},
   "source": [
    "27 ham emails classified as spam and 47 spam mails classified as ham. In my opinion it's better that a spam classifier lets' a few extra spam mails through but never discard real email. So ideally there should be 0 ham emails classified as spam.\n",
    "\n",
    "Let's see if we can adress this, even if it's at the expense of accurracy."
   ]
  }
 ],
 "metadata": {
  "kernelspec": {
   "display_name": "Python 3",
   "language": "python",
   "name": "python3"
  },
  "language_info": {
   "codemirror_mode": {
    "name": "ipython",
    "version": 3
   },
   "file_extension": ".py",
   "mimetype": "text/x-python",
   "name": "python",
   "nbconvert_exporter": "python",
   "pygments_lexer": "ipython3",
   "version": "3.6.2"
  }
 },
 "nbformat": 4,
 "nbformat_minor": 2
}
