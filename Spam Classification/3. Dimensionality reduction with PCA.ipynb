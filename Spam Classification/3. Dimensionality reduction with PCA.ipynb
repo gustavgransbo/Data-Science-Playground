{
 "cells": [
  {
   "cell_type": "markdown",
   "metadata": {},
   "source": [
    "# Introduction\n",
    "In my previous notebook `2. Text Processing` I tokenized and stemmed the bodies and subjects of 6041 emails from the Spamassassin corpus. \n",
    "\n",
    "Eventually I will represent emails as one-hot vectors, with every vector representing a word in the vocabulary. Currently this would lead to a 98401-dimensional space.\n",
    "\n",
    "In this notebook I will implement Principal Component Analysis, PCA, and use it for dimensionality reduction on my data. "
   ]
  },
  {
   "cell_type": "markdown",
   "metadata": {},
   "source": [
    "# Implementing PCA\n",
    "I will start of by implementing PCA using numpy."
   ]
  },
  {
   "cell_type": "code",
   "execution_count": 93,
   "metadata": {
    "collapsed": true
   },
   "outputs": [],
   "source": [
    "import pandas as pd\n",
    "import numpy as np\n",
    "import scipy"
   ]
  },
  {
   "cell_type": "code",
   "execution_count": 2,
   "metadata": {
    "collapsed": true
   },
   "outputs": [],
   "source": [
    "# Implementation using numpys single value decomposition\n",
    "class PCA_svd():\n",
    "    def transform(self, X, dims):\n",
    "        X = X - X.mean(axis=0)\n",
    "        _, _, V = np.linalg.svd(X - X.mean(axis=0))\n",
    "        V_dims = V[:dims]\n",
    "        return X.dot(V_dims.T)\n",
    "        "
   ]
  },
  {
   "cell_type": "code",
   "execution_count": 123,
   "metadata": {
    "collapsed": true
   },
   "outputs": [],
   "source": [
    "# Implementations using correlation matrix\n",
    "class PCA():\n",
    "    def fit(self, X):\n",
    "        self._mean = X.mean(axis=0)\n",
    "        X = X - self._mean\n",
    "        X_cov = np.cov(X.T)\n",
    "        # The covariance matrix i symetric, we can exploit this structure and use scipy.linalg.eigh.\n",
    "        # This is both faster, and makes sure we do not reutrn complex values.\n",
    "        eig_vals, eig_vecs = scipy.linalg.eigh(X_cov)\n",
    "        sort_index = eig_vals.argsort()[::-1]\n",
    "        self.eig_vecs = eig_vecs[:,sort_index]\n",
    "        eig_vals = eig_vals[sort_index]\n",
    "        self.information = eig_vals/eig_vals.sum()\n",
    "        \n",
    "    def transform(self, X, dim=None):\n",
    "        X = X - self._mean\n",
    "        if not dim:\n",
    "            dim = len(self.eig_vecs)\n",
    "        \n",
    "        # If dim is set to a ratio, then find out how many dimensions are required to keep that ratio of information\n",
    "        if 0 <= dim < 1:\n",
    "            dim = np.argmax(np.cumsum(self.information) > dim)+1\n",
    "        return X.dot(self.eig_vecs[:,:dim])\n",
    "        \n",
    "        \n",
    "        "
   ]
  },
  {
   "cell_type": "markdown",
   "metadata": {},
   "source": [
    "Let's test out or implementation by comparing with the the svd implementation and sklearns PCA implementation."
   ]
  },
  {
   "cell_type": "code",
   "execution_count": 102,
   "metadata": {
    "collapsed": true
   },
   "outputs": [],
   "source": [
    "X = np.array([[1, 2], [1,3], [1,5]])"
   ]
  },
  {
   "cell_type": "code",
   "execution_count": 103,
   "metadata": {},
   "outputs": [
    {
     "data": {
      "text/plain": [
       "array([[1, 2],\n",
       "       [1, 3],\n",
       "       [1, 5]])"
      ]
     },
     "execution_count": 103,
     "metadata": {},
     "output_type": "execute_result"
    }
   ],
   "source": [
    "X"
   ]
  },
  {
   "cell_type": "code",
   "execution_count": 104,
   "metadata": {},
   "outputs": [
    {
     "data": {
      "text/plain": [
       "array([ 1.        ,  3.33333333])"
      ]
     },
     "execution_count": 104,
     "metadata": {},
     "output_type": "execute_result"
    }
   ],
   "source": [
    "X.mean(axis=0)"
   ]
  },
  {
   "cell_type": "code",
   "execution_count": 105,
   "metadata": {
    "collapsed": true
   },
   "outputs": [],
   "source": [
    "from sklearn.decomposition import PCA as sklearnPCA"
   ]
  },
  {
   "cell_type": "code",
   "execution_count": 106,
   "metadata": {
    "collapsed": true
   },
   "outputs": [],
   "source": [
    "pca = PCA()"
   ]
  },
  {
   "cell_type": "code",
   "execution_count": 107,
   "metadata": {
    "collapsed": true
   },
   "outputs": [],
   "source": [
    "sk_pca = sklearnPCA()"
   ]
  },
  {
   "cell_type": "code",
   "execution_count": 108,
   "metadata": {},
   "outputs": [
    {
     "data": {
      "text/plain": [
       "array([[-1.33333333,  0.        ],\n",
       "       [-0.33333333, -0.        ],\n",
       "       [ 1.66666667,  0.        ]])"
      ]
     },
     "execution_count": 108,
     "metadata": {},
     "output_type": "execute_result"
    }
   ],
   "source": [
    "sk_pca.fit_transform(X)"
   ]
  },
  {
   "cell_type": "code",
   "execution_count": 109,
   "metadata": {
    "collapsed": true
   },
   "outputs": [],
   "source": [
    "pca.fit(X)"
   ]
  },
  {
   "cell_type": "code",
   "execution_count": 110,
   "metadata": {},
   "outputs": [
    {
     "data": {
      "text/plain": [
       "array([[-1.33333333,  0.        ],\n",
       "       [-0.33333333,  0.        ],\n",
       "       [ 1.66666667,  0.        ]])"
      ]
     },
     "execution_count": 110,
     "metadata": {},
     "output_type": "execute_result"
    }
   ],
   "source": [
    "pca.transform(X, 2)"
   ]
  },
  {
   "cell_type": "code",
   "execution_count": 111,
   "metadata": {
    "collapsed": true
   },
   "outputs": [],
   "source": [
    "pca_svd = PCA_svd()"
   ]
  },
  {
   "cell_type": "code",
   "execution_count": 112,
   "metadata": {},
   "outputs": [
    {
     "data": {
      "text/plain": [
       "array([[-1.33333333,  0.        ],\n",
       "       [-0.33333333,  0.        ],\n",
       "       [ 1.66666667,  0.        ]])"
      ]
     },
     "execution_count": 112,
     "metadata": {},
     "output_type": "execute_result"
    }
   ],
   "source": [
    "pca_svd.transform(X, 2)"
   ]
  },
  {
   "cell_type": "markdown",
   "metadata": {},
   "source": [
    "Equivalent results for our toy matrix. \n",
    "\n",
    "Let's test on a random vector."
   ]
  },
  {
   "cell_type": "code",
   "execution_count": 113,
   "metadata": {
    "collapsed": true
   },
   "outputs": [],
   "source": [
    "from numpy.random import rand"
   ]
  },
  {
   "cell_type": "code",
   "execution_count": 114,
   "metadata": {
    "collapsed": true
   },
   "outputs": [],
   "source": [
    "Y = rand(5, 5)"
   ]
  },
  {
   "cell_type": "code",
   "execution_count": 115,
   "metadata": {
    "collapsed": true
   },
   "outputs": [],
   "source": [
    "pca.fit(Y)"
   ]
  },
  {
   "cell_type": "code",
   "execution_count": 116,
   "metadata": {},
   "outputs": [
    {
     "data": {
      "text/plain": [
       "PCA(copy=True, iterated_power='auto', n_components=None, random_state=None,\n",
       "  svd_solver='auto', tol=0.0, whiten=False)"
      ]
     },
     "execution_count": 116,
     "metadata": {},
     "output_type": "execute_result"
    }
   ],
   "source": [
    "sk_pca.fit(Y)"
   ]
  },
  {
   "cell_type": "code",
   "execution_count": 117,
   "metadata": {},
   "outputs": [
    {
     "data": {
      "text/plain": [
       "array([ 0.54371944,  0.79931928,  0.97368967,  1.        ,  1.        ])"
      ]
     },
     "execution_count": 117,
     "metadata": {},
     "output_type": "execute_result"
    }
   ],
   "source": [
    "np.cumsum(pca.information)"
   ]
  },
  {
   "cell_type": "code",
   "execution_count": 118,
   "metadata": {},
   "outputs": [
    {
     "data": {
      "text/plain": [
       "array([ 0.54371944,  0.79931928,  0.97368967,  1.        ,  1.        ])"
      ]
     },
     "execution_count": 118,
     "metadata": {},
     "output_type": "execute_result"
    }
   ],
   "source": [
    "np.cumsum(sk_pca.explained_variance_ratio_)"
   ]
  },
  {
   "cell_type": "code",
   "execution_count": 119,
   "metadata": {},
   "outputs": [
    {
     "data": {
      "text/plain": [
       "array([[  6.81315770e-01,  -3.49414383e-03,   1.82281574e-01,\n",
       "          6.94261164e-02,   1.14011675e-16],\n",
       "       [  8.63931448e-02,  -3.40252047e-01,  -3.61998669e-01,\n",
       "         -1.56769895e-02,   3.92384778e-18],\n",
       "       [ -5.50913011e-02,   5.12094916e-01,  -1.80132096e-01,\n",
       "         -1.61229465e-02,   4.38146170e-17],\n",
       "       [ -1.26430764e-01,  -8.41658770e-02,   2.35120422e-01,\n",
       "         -1.49842344e-01,  -2.31191702e-16],\n",
       "       [ -5.86186850e-01,  -8.41828486e-02,   1.24728769e-01,\n",
       "          1.12216164e-01,   1.61784362e-16]])"
      ]
     },
     "execution_count": 119,
     "metadata": {},
     "output_type": "execute_result"
    }
   ],
   "source": [
    "Y_pca = pca.transform(Y)\n",
    "Y_pca"
   ]
  },
  {
   "cell_type": "code",
   "execution_count": 120,
   "metadata": {},
   "outputs": [
    {
     "data": {
      "text/plain": [
       "array([[  6.81315770e-01,  -3.49414383e-03,  -1.82281574e-01,\n",
       "         -6.94261164e-02,  -1.16015621e-17],\n",
       "       [  8.63931448e-02,  -3.40252047e-01,   3.61998669e-01,\n",
       "          1.56769895e-02,   7.70229439e-18],\n",
       "       [ -5.50913011e-02,   5.12094916e-01,   1.80132096e-01,\n",
       "          1.61229465e-02,   4.90948860e-18],\n",
       "       [ -1.26430764e-01,  -8.41658770e-02,  -2.35120422e-01,\n",
       "          1.49842344e-01,   2.57755221e-17],\n",
       "       [ -5.86186850e-01,  -8.41828486e-02,  -1.24728769e-01,\n",
       "         -1.12216164e-01,   7.68327592e-17]])"
      ]
     },
     "execution_count": 120,
     "metadata": {},
     "output_type": "execute_result"
    }
   ],
   "source": [
    "Y_sk_pca = sk_pca.transform(Y)\n",
    "Y_sk_pca"
   ]
  },
  {
   "cell_type": "markdown",
   "metadata": {},
   "source": [
    "Some dimensions have opposite directions, but this does not matter. All I need is for the principal components to be parallel!\n",
    "\n",
    "Let's do a quick benchmark as well."
   ]
  },
  {
   "cell_type": "code",
   "execution_count": 121,
   "metadata": {},
   "outputs": [
    {
     "name": "stdout",
     "output_type": "stream",
     "text": [
      "My implementation:\n",
      "Wall time: 528 ms\n",
      "sklearn's implementation:\n",
      "Wall time: 873 ms\n"
     ]
    },
    {
     "data": {
      "text/plain": [
       "PCA(copy=True, iterated_power='auto', n_components=None, random_state=None,\n",
       "  svd_solver='auto', tol=0.0, whiten=False)"
      ]
     },
     "execution_count": 121,
     "metadata": {},
     "output_type": "execute_result"
    }
   ],
   "source": [
    "X = rand(1000, 1000)\n",
    "\n",
    "print(\"My implementation:\")\n",
    "%time pca.fit(X)\n",
    "\n",
    "print(\"sklearn's implementation:\")\n",
    "%time sk_pca.fit(X)"
   ]
  },
  {
   "cell_type": "code",
   "execution_count": 122,
   "metadata": {},
   "outputs": [
    {
     "name": "stdout",
     "output_type": "stream",
     "text": [
      "My implementation:\n",
      "Wall time: 1.13 s\n",
      "sklearn's implementation:\n",
      "Wall time: 4.07 s\n"
     ]
    },
    {
     "data": {
      "text/plain": [
       "PCA(copy=True, iterated_power='auto', n_components=None, random_state=None,\n",
       "  svd_solver='auto', tol=0.0, whiten=False)"
      ]
     },
     "execution_count": 122,
     "metadata": {},
     "output_type": "execute_result"
    }
   ],
   "source": [
    "X = rand(10000, 1000)\n",
    "\n",
    "print(\"My implementation:\")\n",
    "%time pca.fit(X)\n",
    "\n",
    "print(\"sklearn's implementation:\")\n",
    "%time sk_pca.fit(X)"
   ]
  },
  {
   "cell_type": "markdown",
   "metadata": {},
   "source": [
    "In these cases my implementation performed better. I won't dive into why this is, or check if this is always the case. It's just good to see that it's not hopelessly ineffective.\n",
    "\n",
    "Now let's move on with the project, time to do some dimensionality reduction on the email data!"
   ]
  },
  {
   "cell_type": "markdown",
   "metadata": {},
   "source": [
    "# Encode the email data as one hot word vectors"
   ]
  },
  {
   "cell_type": "code",
   "execution_count": 25,
   "metadata": {
    "collapsed": true
   },
   "outputs": [],
   "source": [
    "data = pd.read_csv('stemmed_data.csv', encoding='latin').drop('Unnamed: 0', axis=1)"
   ]
  },
  {
   "cell_type": "code",
   "execution_count": 26,
   "metadata": {},
   "outputs": [
    {
     "data": {
      "text/html": [
       "<div>\n",
       "<style>\n",
       "    .dataframe thead tr:only-child th {\n",
       "        text-align: right;\n",
       "    }\n",
       "\n",
       "    .dataframe thead th {\n",
       "        text-align: left;\n",
       "    }\n",
       "\n",
       "    .dataframe tbody tr th {\n",
       "        vertical-align: top;\n",
       "    }\n",
       "</style>\n",
       "<table border=\"1\" class=\"dataframe\">\n",
       "  <thead>\n",
       "    <tr style=\"text-align: right;\">\n",
       "      <th></th>\n",
       "      <th>dataset</th>\n",
       "      <th>subject</th>\n",
       "      <th>body</th>\n",
       "    </tr>\n",
       "  </thead>\n",
       "  <tbody>\n",
       "    <tr>\n",
       "      <th>0</th>\n",
       "      <td>spam</td>\n",
       "      <td>['life', 'insur', '-', 'whi', 'pay', 'more', '?']</td>\n",
       "      <td>['replacement_tag', 'replacement_tag', 'replac...</td>\n",
       "    </tr>\n",
       "    <tr>\n",
       "      <th>1</th>\n",
       "      <td>spam</td>\n",
       "      <td>['[', 'ilug', ']', 'guarante', 'to', 'lose', '...</td>\n",
       "      <td>['1', ')', 'fight', 'the', 'risk', 'of', 'canc...</td>\n",
       "    </tr>\n",
       "    <tr>\n",
       "      <th>2</th>\n",
       "      <td>spam</td>\n",
       "      <td>['guarante', 'to', 'lose', '10-12', 'lb', 'in'...</td>\n",
       "      <td>['1', ')', 'fight', 'the', 'risk', 'of', 'canc...</td>\n",
       "    </tr>\n",
       "    <tr>\n",
       "      <th>3</th>\n",
       "      <td>spam</td>\n",
       "      <td>['Re', ':', 'Fw', ':', 'user', 'name', '&amp;', 'p...</td>\n",
       "      <td>['#', '#', '#', '#', '#', '#', '#', '#', '#', ...</td>\n",
       "    </tr>\n",
       "    <tr>\n",
       "      <th>4</th>\n",
       "      <td>spam</td>\n",
       "      <td>['[', 'ilug-soci', ']', 're', ':', 'guarante',...</td>\n",
       "      <td>['I', 'thought', 'you', 'might', 'like', 'thes...</td>\n",
       "    </tr>\n",
       "  </tbody>\n",
       "</table>\n",
       "</div>"
      ],
      "text/plain": [
       "  dataset                                            subject  \\\n",
       "0    spam  ['life', 'insur', '-', 'whi', 'pay', 'more', '?']   \n",
       "1    spam  ['[', 'ilug', ']', 'guarante', 'to', 'lose', '...   \n",
       "2    spam  ['guarante', 'to', 'lose', '10-12', 'lb', 'in'...   \n",
       "3    spam  ['Re', ':', 'Fw', ':', 'user', 'name', '&', 'p...   \n",
       "4    spam  ['[', 'ilug-soci', ']', 're', ':', 'guarante',...   \n",
       "\n",
       "                                                body  \n",
       "0  ['replacement_tag', 'replacement_tag', 'replac...  \n",
       "1  ['1', ')', 'fight', 'the', 'risk', 'of', 'canc...  \n",
       "2  ['1', ')', 'fight', 'the', 'risk', 'of', 'canc...  \n",
       "3  ['#', '#', '#', '#', '#', '#', '#', '#', '#', ...  \n",
       "4  ['I', 'thought', 'you', 'might', 'like', 'thes...  "
      ]
     },
     "execution_count": 26,
     "metadata": {},
     "output_type": "execute_result"
    }
   ],
   "source": [
    "data.head()"
   ]
  },
  {
   "cell_type": "markdown",
   "metadata": {},
   "source": [
    "All vectors have been saved as strings, I'll need to parse them. (I should probably have chosen a better form of storage)"
   ]
  },
  {
   "cell_type": "code",
   "execution_count": 27,
   "metadata": {},
   "outputs": [
    {
     "data": {
      "text/plain": [
       "(6041, 3)"
      ]
     },
     "execution_count": 27,
     "metadata": {},
     "output_type": "execute_result"
    }
   ],
   "source": [
    "data.shape"
   ]
  },
  {
   "cell_type": "code",
   "execution_count": 28,
   "metadata": {
    "collapsed": true
   },
   "outputs": [],
   "source": [
    "import re"
   ]
  },
  {
   "cell_type": "code",
   "execution_count": 29,
   "metadata": {
    "collapsed": true
   },
   "outputs": [],
   "source": [
    "def string_to_vector(s):\n",
    "    # First capture group is a ' or \", second capture group lazily matches all characters up until the next occurance of\n",
    "    # capture group 1. \n",
    "    pattern = r\"([\\\"'])(.*?)\\1\"\n",
    "    return [match[1] for match in re.findall(pattern, s)]"
   ]
  },
  {
   "cell_type": "code",
   "execution_count": 30,
   "metadata": {
    "collapsed": true
   },
   "outputs": [],
   "source": [
    "data.loc[:, ['subject', 'body']] = data.loc[:, ['subject', 'body']].applymap(string_to_vector)"
   ]
  },
  {
   "cell_type": "markdown",
   "metadata": {},
   "source": [
    "## Reduce the number of initial dimensions\n",
    "Ideally I would just run PCA on the whole data set, with each unique word represented as it's own dimension. \n",
    "\n",
    "This is not feasible with my machine though, as I would have to calculate almost 100,000 principal components. From laborations with benchmarking my PCA above, I know I cannot handle a 1,000 x 10,000 matrix. In this case I have 6,041 rows, so the dimensions will definitely have to be smaller than 10,000.\n",
    "\n",
    "I know from  `2. Text Processing` that over 65,000 words occur in only one email. Words like this will not be very usefull in classification, so let's see if we can reduce the number of dimensions by dropping words with to few occurences."
   ]
  },
  {
   "cell_type": "code",
   "execution_count": 31,
   "metadata": {
    "collapsed": true
   },
   "outputs": [],
   "source": [
    "stemmed_dictionary = {}\n",
    "for i, row in data.iterrows():\n",
    "    # Only count 1 occurance per mail\n",
    "    for word in set(row['body'] + row['subject']):\n",
    "        try:\n",
    "            stemmed_dictionary[word] +=1\n",
    "        except KeyError:\n",
    "            stemmed_dictionary[word] = 1\n",
    "stemmed_dictionary_df = pd.DataFrame.from_dict(data=stemmed_dictionary, orient='index').reset_index().rename(columns={0 : 'occurrences', 'index' : 'word'})"
   ]
  },
  {
   "cell_type": "code",
   "execution_count": 32,
   "metadata": {
    "collapsed": true
   },
   "outputs": [],
   "source": [
    "stemmed_dictionary_df = stemmed_dictionary_df.sort_values('occurrences', ascending=False)"
   ]
  },
  {
   "cell_type": "code",
   "execution_count": 33,
   "metadata": {},
   "outputs": [
    {
     "name": "stdout",
     "output_type": "stream",
     "text": [
      "Unique words: 98401\n"
     ]
    }
   ],
   "source": [
    "print(\"Unique words: {}\".format(stemmed_dictionary_df['word'].nunique()))"
   ]
  },
  {
   "cell_type": "markdown",
   "metadata": {},
   "source": [
    "Let's visualise how many words occur in x or more emails."
   ]
  },
  {
   "cell_type": "code",
   "execution_count": 34,
   "metadata": {},
   "outputs": [
    {
     "data": {
      "text/plain": [
       "19571"
      ]
     },
     "execution_count": 34,
     "metadata": {},
     "output_type": "execute_result"
    }
   ],
   "source": [
    "len(stemmed_dictionary_df[stemmed_dictionary_df['occurrences'] > 2])"
   ]
  },
  {
   "cell_type": "code",
   "execution_count": 35,
   "metadata": {
    "collapsed": true
   },
   "outputs": [],
   "source": [
    "y = np.array([len(stemmed_dictionary_df[stemmed_dictionary_df['occurrences'] > i]) for i in range(0, len(data))])"
   ]
  },
  {
   "cell_type": "code",
   "execution_count": 36,
   "metadata": {
    "collapsed": true
   },
   "outputs": [],
   "source": [
    "x = np.arange(len(data))"
   ]
  },
  {
   "cell_type": "code",
   "execution_count": 37,
   "metadata": {
    "collapsed": true
   },
   "outputs": [],
   "source": [
    "import matplotlib.pyplot as plt\n",
    "import seaborn as sns\n",
    "sns.set()\n",
    "\n",
    "%matplotlib inline"
   ]
  },
  {
   "cell_type": "code",
   "execution_count": 124,
   "metadata": {},
   "outputs": [
    {
     "data": {
      "text/plain": [
       "<matplotlib.text.Text at 0x21101239198>"
      ]
     },
     "execution_count": 124,
     "metadata": {},
     "output_type": "execute_result"
    },
    {
     "data": {
      "image/png": "[encoded data removed]",
      "text/plain": [
       "<matplotlib.figure.Figure at 0x21147af6a58>"
      ]
     },
     "metadata": {},
     "output_type": "display_data"
    }
   ],
   "source": [
    "f, ax = plt.subplots(figsize=(16,9))\n",
    "plt.plot(x, np.log10(y, where = (y!=0)))\n",
    "ax.set_ylabel('Number of words occuring in at least x emails, log10 scaled')\n",
    "ax.set_xlabel('x emails')\n",
    "ax.set_title('Number of words occuring in at least x emails, log10 scaled')"
   ]
  },
  {
   "cell_type": "markdown",
   "metadata": {},
   "source": [
    "A little bit over 100 words occur in more than 1000 documents. I want to keep much more data than that though. Let's have a more detailed look at what happends if I set a cut off close to 0."
   ]
  },
  {
   "cell_type": "code",
   "execution_count": 139,
   "metadata": {},
   "outputs": [
    {
     "name": "stdout",
     "output_type": "stream",
     "text": [
      "98401 unique words with a cut off at 1 occurences\n",
      "32639 unique words with a cut off at 2 occurences\n",
      "19571 unique words with a cut off at 3 occurences\n",
      "14877 unique words with a cut off at 4 occurences\n",
      "12063 unique words with a cut off at 5 occurences\n",
      "10476 unique words with a cut off at 6 occurences\n",
      "9311 unique words with a cut off at 7 occurences\n",
      "8398 unique words with a cut off at 8 occurences\n",
      "7686 unique words with a cut off at 9 occurences\n",
      "7109 unique words with a cut off at 10 occurences\n",
      "6604 unique words with a cut off at 11 occurences\n",
      "6188 unique words with a cut off at 12 occurences\n",
      "5860 unique words with a cut off at 13 occurences\n",
      "5586 unique words with a cut off at 14 occurences\n",
      "5328 unique words with a cut off at 15 occurences\n",
      "5101 unique words with a cut off at 16 occurences\n",
      "4905 unique words with a cut off at 17 occurences\n",
      "4714 unique words with a cut off at 18 occurences\n",
      "4536 unique words with a cut off at 19 occurences\n",
      "4375 unique words with a cut off at 20 occurences\n"
     ]
    }
   ],
   "source": [
    "for i in range(0, 20, 1):\n",
    "    print(\"{} unique words with a cut off at {} occurences\".format(y[i], i+1))"
   ]
  },
  {
   "cell_type": "markdown",
   "metadata": {},
   "source": [
    "I probably need to set the cutoff around 20... This feels really sketchy though. A word that occurs in 20 emails out of 6,000 might very well be a tell if the email is spam or ham. \n",
    "\n",
    "Maybe the PCA approach is no good with my limited hardware. I throw away a lot of information in order to allow each remaining word to have impact. Anyway, let's keep going and see what results I get.\n",
    "\n",
    "NOTE: After some experimentation, I ended up needing to set the cutoff around 60 (~1,500 unique words) to run my implementation of PCA. This felt like way to large of a cutoff. I want to reduce the number of dimensions without losing to much information by using PCA. If I throw away most of my data before applying PCA I almost render PCA pointless.\n",
    "\n",
    "I neded up optimising my implementation by using [scipy.linalg.eigh](https://docs.scipy.org/doc/scipy/reference/generated/scipy.linalg.eigh.html#scipy.linalg.eigh) function which takes advatange of the symetry of he covariance matrix. Now I am able to set the cutoff much lower. I chose 10 as it allows me to do PCA in under 2 minutes."
   ]
  },
  {
   "cell_type": "markdown",
   "metadata": {},
   "source": [
    "## Map each unique word to a dimension\n"
   ]
  },
  {
   "cell_type": "code",
   "execution_count": 140,
   "metadata": {
    "collapsed": true
   },
   "outputs": [],
   "source": [
    "stemmed_dictionary_df.index = np.arange(len(stemmed_dictionary_df))"
   ]
  },
  {
   "cell_type": "code",
   "execution_count": 127,
   "metadata": {
    "collapsed": true
   },
   "outputs": [],
   "source": [
    "words = stemmed_dictionary_df[stemmed_dictionary_df['occurrences'] >= 10]['word']"
   ]
  },
  {
   "cell_type": "code",
   "execution_count": 128,
   "metadata": {},
   "outputs": [
    {
     "data": {
      "text/plain": [
       "7109"
      ]
     },
     "execution_count": 128,
     "metadata": {},
     "output_type": "execute_result"
    }
   ],
   "source": [
    "len(words)"
   ]
  },
  {
   "cell_type": "code",
   "execution_count": 129,
   "metadata": {
    "collapsed": true
   },
   "outputs": [],
   "source": [
    "word_vec_map = dict(zip(words, np.arange(len(words))))"
   ]
  },
  {
   "cell_type": "markdown",
   "metadata": {},
   "source": [
    "Any word not among the 7,109 words we have chosen will have no effect in classification. This could potentially be a big drawback, but is a consequence of the way we encode the emails. If a word cannot be observed during training, I cannot use it during classification either."
   ]
  },
  {
   "cell_type": "markdown",
   "metadata": {},
   "source": [
    "## Encode all emails"
   ]
  },
  {
   "cell_type": "markdown",
   "metadata": {},
   "source": [
    "I realise by now that I should have set aside a test set much earlier. I have introduced a bias by selecting top 7,109 words among all emails and not just a training set. Oh well."
   ]
  },
  {
   "cell_type": "code",
   "execution_count": 130,
   "metadata": {
    "collapsed": true
   },
   "outputs": [],
   "source": [
    "# Encodes an email as a one hot matrix. Make no difference of subject and body.\n",
    "def encode_email(email):\n",
    "    encoding = np.zeros(len(word_vec_map))\n",
    "    for word in set(email['body'] + email['subject']):\n",
    "        if word in word_vec_map:\n",
    "            #print(word_vec_map[word])\n",
    "            encoding[word_vec_map[word]] = 1\n",
    "    return list(encoding)"
   ]
  },
  {
   "cell_type": "code",
   "execution_count": 131,
   "metadata": {
    "collapsed": true
   },
   "outputs": [],
   "source": [
    "encoded_emails = data.apply(encode_email, axis=1)"
   ]
  },
  {
   "cell_type": "code",
   "execution_count": 132,
   "metadata": {
    "collapsed": true
   },
   "outputs": [],
   "source": [
    "encoded_emails = np.array([np.array(email) for email in encoded_emails])"
   ]
  },
  {
   "cell_type": "markdown",
   "metadata": {},
   "source": [
    "# Dimensionality reduction on the email word vectors"
   ]
  },
  {
   "cell_type": "code",
   "execution_count": 133,
   "metadata": {
    "collapsed": true
   },
   "outputs": [],
   "source": [
    "pca = PCA()"
   ]
  },
  {
   "cell_type": "code",
   "execution_count": 134,
   "metadata": {},
   "outputs": [
    {
     "data": {
      "text/plain": [
       "(6041, 7109)"
      ]
     },
     "execution_count": 134,
     "metadata": {},
     "output_type": "execute_result"
    }
   ],
   "source": [
    "encoded_emails.shape"
   ]
  },
  {
   "cell_type": "code",
   "execution_count": 135,
   "metadata": {},
   "outputs": [
    {
     "name": "stdout",
     "output_type": "stream",
     "text": [
      "Wall time: 1min 31s\n"
     ]
    }
   ],
   "source": [
    "%time pca.fit(encoded_emails)"
   ]
  },
  {
   "cell_type": "markdown",
   "metadata": {
    "collapsed": true
   },
   "source": [
    "Let's decide how many principal components should be kept."
   ]
  },
  {
   "cell_type": "code",
   "execution_count": 154,
   "metadata": {},
   "outputs": [
    {
     "data": {
      "text/plain": [
       "<matplotlib.text.Text at 0x2111dc65d30>"
      ]
     },
     "execution_count": 154,
     "metadata": {},
     "output_type": "execute_result"
    },
    {
     "data": {
      "image/png": "[encoded data removed]",
      "text/plain": [
       "<matplotlib.figure.Figure at 0x2111dc2a630>"
      ]
     },
     "metadata": {},
     "output_type": "display_data"
    }
   ],
   "source": [
    "f, ax = plt.subplots(figsize=(16,9))\n",
    "plt.plot(np.cumsum(pca.information) * 100)\n",
    "ax.set_ylabel('Percentage of information preserved')\n",
    "ax.set_xlabel('Number of principal components')\n",
    "ax.set_title('Explained variance of the email word vectors principal components')"
   ]
  },
  {
   "cell_type": "code",
   "execution_count": 155,
   "metadata": {},
   "outputs": [
    {
     "data": {
      "text/plain": [
       "(0, 3000)"
      ]
     },
     "execution_count": 155,
     "metadata": {},
     "output_type": "execute_result"
    },
    {
     "data": {
      "image/png": "[encoded data removed]",
      "text/plain": [
       "<matplotlib.figure.Figure at 0x2111dc930b8>"
      ]
     },
     "metadata": {},
     "output_type": "display_data"
    }
   ],
   "source": [
    "f, ax = plt.subplots(figsize=(16,9))\n",
    "plt.plot(np.cumsum(pca.information) * 100)\n",
    "ax.set_ylabel('Percentage of information preserved')\n",
    "ax.set_xlabel('Number of principal components')\n",
    "ax.set_title('Explained variance of the email word vectors principal components')\n",
    "ax.set_ylim([80, 100])\n",
    "ax.set_xlim([0, 3000])"
   ]
  },
  {
   "cell_type": "code",
   "execution_count": 156,
   "metadata": {},
   "outputs": [
    {
     "data": {
      "text/plain": [
       "0.93878972039878594"
      ]
     },
     "execution_count": 156,
     "metadata": {},
     "output_type": "execute_result"
    }
   ],
   "source": [
    "np.cumsum(pca.information)[1499]"
   ]
  },
  {
   "cell_type": "markdown",
   "metadata": {},
   "source": [
    "Let's try using 1500 principal components, this preserves ~94% of the variance"
   ]
  },
  {
   "cell_type": "code",
   "execution_count": 157,
   "metadata": {
    "collapsed": true
   },
   "outputs": [],
   "source": [
    "pca_data = pca.transform(encoded_emails, dim=1500)"
   ]
  },
  {
   "cell_type": "code",
   "execution_count": 159,
   "metadata": {},
   "outputs": [
    {
     "data": {
      "text/plain": [
       "(6041, 1500)"
      ]
     },
     "execution_count": 159,
     "metadata": {},
     "output_type": "execute_result"
    }
   ],
   "source": [
    "pca_data.shape"
   ]
  },
  {
   "cell_type": "code",
   "execution_count": 166,
   "metadata": {
    "collapsed": true
   },
   "outputs": [],
   "source": [
    "np.save('onehot_data_reduced', pca_data)"
   ]
  },
  {
   "cell_type": "markdown",
   "metadata": {},
   "source": [
    "# Conclusion\n",
    "I have implemented PCA, and got the chance to optimise my implementation in order to allow larger dimensions with limited hardware and time.\n",
    "\n",
    "I have converted every with that occurs in at least 10 emails in to a dimension in a word vector space, and encoded all emails with these one hot vectors. Then I applied PCA to the one hot encoded emails, and reduced each email to 1500 dimensions while keeping ~94% of the data sets explained variance."
   ]
  },
  {
   "cell_type": "code",
   "execution_count": null,
   "metadata": {
    "collapsed": true
   },
   "outputs": [],
   "source": []
  }
 ],
 "metadata": {
  "kernelspec": {
   "display_name": "Python 3",
   "language": "python",
   "name": "python3"
  },
  "language_info": {
   "codemirror_mode": {
    "name": "ipython",
    "version": 3
   },
   "file_extension": ".py",
   "mimetype": "text/x-python",
   "name": "python",
   "nbconvert_exporter": "python",
   "pygments_lexer": "ipython3",
   "version": "3.6.2"
  }
 },
 "nbformat": 4,
 "nbformat_minor": 2
}
