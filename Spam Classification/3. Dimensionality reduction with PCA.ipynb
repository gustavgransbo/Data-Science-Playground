{
 "cells": [
  {
   "cell_type": "markdown",
   "metadata": {},
   "source": [
    "# Introduction\n",
    "In my previous notebook `2. Text Processing` I tokenized and stemmed the bodies and subjects of 6041 emails from the Spamassassin corpus. \n",
    "\n",
    "Eventually I will represent emails as one-hot vectors, with every vector representing a word in the vocabulary. Currently this would lead to a 98401-dimensional space.\n",
    "\n",
    "In this notebook I will implement Principal Component Analysis, PCA, and use it for dimensionality reduction on my data. "
   ]
  },
  {
   "cell_type": "markdown",
   "metadata": {},
   "source": [
    "# Implementing PCA\n",
    "I will start of by implementing PCA using numpy."
   ]
  },
  {
   "cell_type": "code",
   "execution_count": 1,
   "metadata": {
    "collapsed": true
   },
   "outputs": [],
   "source": [
    "import pandas as pd\n",
    "import numpy as np"
   ]
  },
  {
   "cell_type": "code",
   "execution_count": 31,
   "metadata": {
    "collapsed": true
   },
   "outputs": [],
   "source": [
    "X = np.array([[1, 2], [1,3], [1,5]])"
   ]
  },
  {
   "cell_type": "code",
   "execution_count": 45,
   "metadata": {},
   "outputs": [
    {
     "data": {
      "text/plain": [
       "array([[1, 2],\n",
       "       [1, 3],\n",
       "       [1, 5]])"
      ]
     },
     "execution_count": 45,
     "metadata": {},
     "output_type": "execute_result"
    }
   ],
   "source": [
    "X"
   ]
  },
  {
   "cell_type": "code",
   "execution_count": 33,
   "metadata": {},
   "outputs": [
    {
     "data": {
      "text/plain": [
       "array([ 1.        ,  3.33333333])"
      ]
     },
     "execution_count": 33,
     "metadata": {},
     "output_type": "execute_result"
    }
   ],
   "source": [
    "X.mean(axis=0)"
   ]
  },
  {
   "cell_type": "code",
   "execution_count": 34,
   "metadata": {
    "collapsed": true
   },
   "outputs": [],
   "source": [
    "# Implementation using numpys single value decomposition\n",
    "class PCA_svd():\n",
    "    def transform(self, X, dims):\n",
    "        _, _, V = np.linalg.svd(X - X.mean(axis=0))\n",
    "        V_dims = V[:dims]\n",
    "        return X.dot(V_dims.T)\n",
    "        "
   ]
  },
  {
   "cell_type": "code",
   "execution_count": 173,
   "metadata": {},
   "outputs": [],
   "source": [
    "# Implementations using correlation matrix\n",
    "class PCA():\n",
    "    def fit(self, X):\n",
    "        X_cov = np.cov(X.T)\n",
    "        eig_vals, eig_vecs = np.linalg.eig(X_cov)\n",
    "        sort_index = eig_vals.argsort()[::-1]\n",
    "        self.eig_vecs = eig_vecs[sort_index]\n",
    "        eig_vals = eig_vals[sort_index]\n",
    "        self.cum_information = np.cumsum(eig_vals)/eig_vals.sum()\n",
    "        \n",
    "    def transform(self, X, dim):\n",
    "        # If dim is set to a ratio, then find out how many dimensions are required to keep that ratio of information\n",
    "        if 0 <= dim < 1:\n",
    "            dim = np.argmax(self.cum_information > dim)+1\n",
    "        return X.dot(self.eig_vecs[:dim].T)\n",
    "        \n",
    "        \n",
    "        "
   ]
  },
  {
   "cell_type": "code",
   "execution_count": 174,
   "metadata": {
    "collapsed": true
   },
   "outputs": [],
   "source": [
    "from sklearn.decomposition import PCA as sklearnPCA"
   ]
  },
  {
   "cell_type": "code",
   "execution_count": 175,
   "metadata": {},
   "outputs": [],
   "source": [
    "pca = PCA()"
   ]
  },
  {
   "cell_type": "code",
   "execution_count": 196,
   "metadata": {
    "collapsed": true
   },
   "outputs": [],
   "source": [
    "sk_pca = sklearnPCA()"
   ]
  },
  {
   "cell_type": "code",
   "execution_count": 183,
   "metadata": {},
   "outputs": [
    {
     "data": {
      "text/plain": [
       "array([[ 1.99666667],\n",
       "       [ 2.99666667],\n",
       "       [ 4.99666667]])"
      ]
     },
     "execution_count": 183,
     "metadata": {},
     "output_type": "execute_result"
    }
   ],
   "source": [
    "sk_pca.fit_transform(X) + 3.33"
   ]
  },
  {
   "cell_type": "code",
   "execution_count": 178,
   "metadata": {},
   "outputs": [
    {
     "data": {
      "text/plain": [
       "array([[1, 2],\n",
       "       [1, 3],\n",
       "       [1, 5]])"
      ]
     },
     "execution_count": 178,
     "metadata": {},
     "output_type": "execute_result"
    }
   ],
   "source": [
    "X"
   ]
  },
  {
   "cell_type": "code",
   "execution_count": 179,
   "metadata": {},
   "outputs": [],
   "source": [
    "pca.fit(X)"
   ]
  },
  {
   "cell_type": "code",
   "execution_count": 180,
   "metadata": {},
   "outputs": [
    {
     "data": {
      "text/plain": [
       "array([[ 2.],\n",
       "       [ 3.],\n",
       "       [ 5.]])"
      ]
     },
     "execution_count": 180,
     "metadata": {},
     "output_type": "execute_result"
    }
   ],
   "source": [
    "pca.transform(X, .1)"
   ]
  },
  {
   "cell_type": "code",
   "execution_count": 184,
   "metadata": {
    "collapsed": true
   },
   "outputs": [],
   "source": [
    "pca_svd = PCA_svd()"
   ]
  },
  {
   "cell_type": "code",
   "execution_count": 186,
   "metadata": {},
   "outputs": [
    {
     "data": {
      "text/plain": [
       "array([[ 2.],\n",
       "       [ 3.],\n",
       "       [ 5.]])"
      ]
     },
     "execution_count": 186,
     "metadata": {},
     "output_type": "execute_result"
    }
   ],
   "source": [
    "pca_svd.transform(X, 1)"
   ]
  },
  {
   "cell_type": "code",
   "execution_count": 187,
   "metadata": {
    "collapsed": true
   },
   "outputs": [],
   "source": [
    "from numpy.random import rand"
   ]
  },
  {
   "cell_type": "code",
   "execution_count": 188,
   "metadata": {
    "collapsed": true
   },
   "outputs": [],
   "source": [
    "Y = rand(5, 5)"
   ]
  },
  {
   "cell_type": "code",
   "execution_count": 190,
   "metadata": {
    "collapsed": true
   },
   "outputs": [],
   "source": [
    "pca.fit(Y)"
   ]
  },
  {
   "cell_type": "code",
   "execution_count": 191,
   "metadata": {},
   "outputs": [
    {
     "data": {
      "text/plain": [
       "array([ 0.42237217,  0.76239816,  0.96264199,  1.        ,  1.        ])"
      ]
     },
     "execution_count": 191,
     "metadata": {},
     "output_type": "execute_result"
    }
   ],
   "source": [
    "pca.cum_information"
   ]
  },
  {
   "cell_type": "code",
   "execution_count": 193,
   "metadata": {},
   "outputs": [
    {
     "data": {
      "text/plain": [
       "array([[-0.27139445,  0.41614238, -0.4032952 ],\n",
       "       [-0.07894981,  0.37867925, -0.16529788],\n",
       "       [ 0.17594156,  0.16944231, -0.51640172],\n",
       "       [-0.38000649,  0.52747682, -0.3632502 ],\n",
       "       [ 0.01046005,  0.4687805 , -0.24592952]])"
      ]
     },
     "execution_count": 193,
     "metadata": {},
     "output_type": "execute_result"
    }
   ],
   "source": [
    "pca.transform(Y, 3)"
   ]
  },
  {
   "cell_type": "code",
   "execution_count": 197,
   "metadata": {},
   "outputs": [
    {
     "data": {
      "text/plain": [
       "PCA(copy=True, iterated_power='auto', n_components=None, random_state=None,\n",
       "  svd_solver='auto', tol=0.0, whiten=False)"
      ]
     },
     "execution_count": 197,
     "metadata": {},
     "output_type": "execute_result"
    }
   ],
   "source": [
    "sk_pca.fit(Y)"
   ]
  },
  {
   "cell_type": "code",
   "execution_count": 199,
   "metadata": {},
   "outputs": [
    {
     "data": {
      "text/plain": [
       "array([ 0.42237217,  0.76239816,  0.96264199,  1.        ,  1.        ])"
      ]
     },
     "execution_count": 199,
     "metadata": {},
     "output_type": "execute_result"
    }
   ],
   "source": [
    "np.cumsum(sk_pca.explained_variance_ratio_)"
   ]
  },
  {
   "cell_type": "code",
   "execution_count": 203,
   "metadata": {},
   "outputs": [
    {
     "data": {
      "text/plain": [
       "array([[ -9.23306768e-02,  -9.35520580e-02,  -1.30655896e-01,\n",
       "          1.50028545e-01,  -3.74643787e-17],\n",
       "       [ -3.50335692e-01,   1.08582635e-01,  -1.97401277e-01,\n",
       "         -8.93759605e-02,   9.10290635e-18],\n",
       "       [  1.68169579e-01,   4.34315758e-01,   1.44639856e-01,\n",
       "          1.67358191e-02,   6.48580886e-17],\n",
       "       [  4.45585812e-01,  -1.95425967e-01,  -1.20263696e-01,\n",
       "         -5.43464918e-02,  -1.67884746e-17],\n",
       "       [ -1.71089022e-01,  -2.53920368e-01,   3.03681014e-01,\n",
       "         -2.30419119e-02,   1.00179900e-16]])"
      ]
     },
     "execution_count": 203,
     "metadata": {},
     "output_type": "execute_result"
    }
   ],
   "source": [
    "sk_pca.transform(Y)"
   ]
  },
  {
   "cell_type": "code",
   "execution_count": 205,
   "metadata": {},
   "outputs": [
    {
     "data": {
      "text/plain": [
       "array([[ 0.06746722, -0.01244519,  0.00485667,  0.01361586,  0.01228046],\n",
       "       [-0.01244519,  0.05759889, -0.00502272,  0.00630198, -0.0138196 ],\n",
       "       [ 0.00485667, -0.00502272,  0.00466973, -0.01254707,  0.01023402],\n",
       "       [ 0.01361586,  0.00630198, -0.01254707,  0.04929082, -0.03691549],\n",
       "       [ 0.01228046, -0.0138196 ,  0.01023402, -0.03691549,  0.05024934]])"
      ]
     },
     "execution_count": 205,
     "metadata": {},
     "output_type": "execute_result"
    }
   ],
   "source": [
    "sk_pca.get_covariance()"
   ]
  },
  {
   "cell_type": "code",
   "execution_count": 207,
   "metadata": {},
   "outputs": [
    {
     "data": {
      "text/plain": [
       "array([[ 0.06746722, -0.01244519,  0.00485667,  0.01361586,  0.01228046],\n",
       "       [-0.01244519,  0.05759889, -0.00502272,  0.00630198, -0.0138196 ],\n",
       "       [ 0.00485667, -0.00502272,  0.00466973, -0.01254707,  0.01023402],\n",
       "       [ 0.01361586,  0.00630198, -0.01254707,  0.04929082, -0.03691549],\n",
       "       [ 0.01228046, -0.0138196 ,  0.01023402, -0.03691549,  0.05024934]])"
      ]
     },
     "execution_count": 207,
     "metadata": {},
     "output_type": "execute_result"
    }
   ],
   "source": [
    "np.cov(Y.T)"
   ]
  },
  {
   "cell_type": "code",
   "execution_count": null,
   "metadata": {
    "collapsed": true
   },
   "outputs": [],
   "source": []
  }
 ],
 "metadata": {
  "kernelspec": {
   "display_name": "Python 3",
   "language": "python",
   "name": "python3"
  },
  "language_info": {
   "codemirror_mode": {
    "name": "ipython",
    "version": 3
   },
   "file_extension": ".py",
   "mimetype": "text/x-python",
   "name": "python",
   "nbconvert_exporter": "python",
   "pygments_lexer": "ipython3",
   "version": "3.6.2"
  }
 },
 "nbformat": 4,
 "nbformat_minor": 2
}
