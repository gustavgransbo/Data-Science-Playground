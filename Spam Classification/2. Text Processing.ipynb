{
 "cells": [
  {
   "cell_type": "markdown",
   "metadata": {},
   "source": [
    "# Introduction\n",
    "In my previous notebook `1. Getting familiar with the spamassassin corpus` I extracted the bodies and subjects of all mails in the spamassassin corpus. I also threw away 10 mails that did not look like real emails to me.\n",
    "\n",
    "In this notebook I intend to tokenize, and apply stemming to the remaining 6041 emails. I will refrain from any exploratory data analysis untill I have completed this stage, and set aside a test set.\n",
    "\n",
    "The reason I choose to apply stemming instead of lemmitization is that I belive most emails will include lot's of ill formed sentences, as well as html, signatures etc. I therefore think I will not be able to rake the true benefits of analysing sentence structures which is required for lemmatization."
   ]
  },
  {
   "cell_type": "code",
   "execution_count": 1,
   "metadata": {
    "collapsed": true
   },
   "outputs": [],
   "source": [
    "import pandas as pd\n",
    "import matplotlib.pyplot as plt\n",
    "import seaborn as sns\n",
    "\n",
    "%matplotlib inline"
   ]
  },
  {
   "cell_type": "code",
   "execution_count": 23,
   "metadata": {
    "collapsed": true
   },
   "outputs": [],
   "source": [
    "data = pd.read_csv('data.csv', encoding = 'latin')"
   ]
  },
  {
   "cell_type": "code",
   "execution_count": 24,
   "metadata": {
    "collapsed": true
   },
   "outputs": [],
   "source": [
    "data = data.drop('Unnamed: 0', 1)"
   ]
  },
  {
   "cell_type": "markdown",
   "metadata": {},
   "source": [
    "Let's see if we had any null data."
   ]
  },
  {
   "cell_type": "code",
   "execution_count": 25,
   "metadata": {},
   "outputs": [
    {
     "data": {
      "text/html": [
       "<div>\n",
       "<style>\n",
       "    .dataframe thead tr:only-child th {\n",
       "        text-align: right;\n",
       "    }\n",
       "\n",
       "    .dataframe thead th {\n",
       "        text-align: left;\n",
       "    }\n",
       "\n",
       "    .dataframe tbody tr th {\n",
       "        vertical-align: top;\n",
       "    }\n",
       "</style>\n",
       "<table border=\"1\" class=\"dataframe\">\n",
       "  <thead>\n",
       "    <tr style=\"text-align: right;\">\n",
       "      <th></th>\n",
       "      <th>dataset</th>\n",
       "      <th>subject</th>\n",
       "      <th>body</th>\n",
       "      <th>mail</th>\n",
       "      <th>subject length</th>\n",
       "      <th>body length</th>\n",
       "    </tr>\n",
       "  </thead>\n",
       "  <tbody>\n",
       "    <tr>\n",
       "      <th>5965</th>\n",
       "      <td>hard_ham</td>\n",
       "      <td>NaN</td>\n",
       "      <td>From owner-melbwireless@wireless.org.au Mon Au...</td>\n",
       "      <td>From owner-melbwireless@wireless.org.au  Mon A...</td>\n",
       "      <td>0</td>\n",
       "      <td>4032</td>\n",
       "    </tr>\n",
       "  </tbody>\n",
       "</table>\n",
       "</div>"
      ],
      "text/plain": [
       "       dataset subject                                               body  \\\n",
       "5965  hard_ham     NaN  From owner-melbwireless@wireless.org.au Mon Au...   \n",
       "\n",
       "                                                   mail  subject length  \\\n",
       "5965  From owner-melbwireless@wireless.org.au  Mon A...               0   \n",
       "\n",
       "      body length  \n",
       "5965         4032  "
      ]
     },
     "execution_count": 25,
     "metadata": {},
     "output_type": "execute_result"
    }
   ],
   "source": [
    "data[data.isnull().any(1)]"
   ]
  },
  {
   "cell_type": "markdown",
   "metadata": {},
   "source": [
    "Yupp, that empty subject we noticed in the previous notebook. Let's replace it with an empty string to make processing easier."
   ]
  },
  {
   "cell_type": "code",
   "execution_count": 26,
   "metadata": {
    "collapsed": true
   },
   "outputs": [],
   "source": [
    "data['subject'] = data['subject'].fillna('')"
   ]
  },
  {
   "cell_type": "markdown",
   "metadata": {},
   "source": [
    "# Tokenize the data\n",
    "I will use the NLTK library for both word tokenization and stemming."
   ]
  },
  {
   "cell_type": "code",
   "execution_count": 27,
   "metadata": {
    "collapsed": true
   },
   "outputs": [],
   "source": [
    "from nltk import word_tokenize"
   ]
  },
  {
   "cell_type": "code",
   "execution_count": 28,
   "metadata": {
    "collapsed": true
   },
   "outputs": [],
   "source": [
    "import nltk"
   ]
  },
  {
   "cell_type": "code",
   "execution_count": 29,
   "metadata": {
    "collapsed": true
   },
   "outputs": [],
   "source": [
    "example_mail = data.iloc[0]['body']"
   ]
  },
  {
   "cell_type": "markdown",
   "metadata": {},
   "source": [
    "Many mails include HTLM tags. Let's replace all these tags with a single placeholder: `REPLACEMENT_TAG`."
   ]
  },
  {
   "cell_type": "code",
   "execution_count": 30,
   "metadata": {
    "collapsed": true
   },
   "outputs": [],
   "source": [
    "import re"
   ]
  },
  {
   "cell_type": "code",
   "execution_count": 31,
   "metadata": {
    "collapsed": true
   },
   "outputs": [],
   "source": [
    "def replace_tags(mail):\n",
    "    # I include spaces around the tag to ensure sequences like <HTML><HEAD> won't end up looking like a signle string.\n",
    "    \n",
    "    return re.sub(r\"<.*?>\", \" REPLACEMENT_TAG \", mail)"
   ]
  },
  {
   "cell_type": "raw",
   "metadata": {},
   "source": [
    "print(example_mail)"
   ]
  },
  {
   "cell_type": "raw",
   "metadata": {},
   "source": [
    "print(replace_tags(example_mail))"
   ]
  },
  {
   "cell_type": "code",
   "execution_count": 32,
   "metadata": {},
   "outputs": [
    {
     "data": {
      "text/plain": [
       "dataset           object\n",
       "subject           object\n",
       "body              object\n",
       "mail              object\n",
       "subject length     int64\n",
       "body length        int64\n",
       "dtype: object"
      ]
     },
     "execution_count": 32,
     "metadata": {},
     "output_type": "execute_result"
    }
   ],
   "source": [
    "data.dtypes"
   ]
  },
  {
   "cell_type": "code",
   "execution_count": 33,
   "metadata": {
    "collapsed": true
   },
   "outputs": [],
   "source": [
    "data['body'] = data['body'].apply(replace_tags)\n",
    "data['subject'] = data['subject'].apply(replace_tags)"
   ]
  },
  {
   "cell_type": "markdown",
   "metadata": {},
   "source": [
    "Now let's tokenize all emails."
   ]
  },
  {
   "cell_type": "code",
   "execution_count": null,
   "metadata": {
    "collapsed": true
   },
   "outputs": [],
   "source": []
  },
  {
   "cell_type": "code",
   "execution_count": 34,
   "metadata": {
    "collapsed": true
   },
   "outputs": [],
   "source": [
    "data['body']=data['body'].apply(word_tokenize)\n",
    "data['subject']=data['subject'].apply(word_tokenize)"
   ]
  },
  {
   "cell_type": "code",
   "execution_count": 35,
   "metadata": {},
   "outputs": [
    {
     "data": {
      "text/html": [
       "<div>\n",
       "<style>\n",
       "    .dataframe thead tr:only-child th {\n",
       "        text-align: right;\n",
       "    }\n",
       "\n",
       "    .dataframe thead th {\n",
       "        text-align: left;\n",
       "    }\n",
       "\n",
       "    .dataframe tbody tr th {\n",
       "        vertical-align: top;\n",
       "    }\n",
       "</style>\n",
       "<table border=\"1\" class=\"dataframe\">\n",
       "  <thead>\n",
       "    <tr style=\"text-align: right;\">\n",
       "      <th></th>\n",
       "      <th>dataset</th>\n",
       "      <th>subject</th>\n",
       "      <th>body</th>\n",
       "      <th>mail</th>\n",
       "      <th>subject length</th>\n",
       "      <th>body length</th>\n",
       "    </tr>\n",
       "  </thead>\n",
       "  <tbody>\n",
       "    <tr>\n",
       "      <th>0</th>\n",
       "      <td>spam</td>\n",
       "      <td>[Life, Insurance, -, Why, Pay, More, ?]</td>\n",
       "      <td>[REPLACEMENT_TAG, REPLACEMENT_TAG, REPLACEMENT...</td>\n",
       "      <td>From 12a1mailbot1@web.de  Thu Aug 22 13:17:22 ...</td>\n",
       "      <td>30</td>\n",
       "      <td>3510</td>\n",
       "    </tr>\n",
       "    <tr>\n",
       "      <th>1</th>\n",
       "      <td>spam</td>\n",
       "      <td>[[, ILUG, ], Guaranteed, to, lose, 10-12, lbs,...</td>\n",
       "      <td>[1, ), Fight, The, Risk, of, Cancer, !, http, ...</td>\n",
       "      <td>From ilug-admin@linux.ie  Thu Aug 22 13:27:39 ...</td>\n",
       "      <td>53</td>\n",
       "      <td>782</td>\n",
       "    </tr>\n",
       "    <tr>\n",
       "      <th>2</th>\n",
       "      <td>spam</td>\n",
       "      <td>[Guaranteed, to, lose, 10-12, lbs, in, 30, day...</td>\n",
       "      <td>[1, ), Fight, The, Risk, of, Cancer, !, http, ...</td>\n",
       "      <td>From sabrina@mx3.1premio.com  Thu Aug 22 14:44...</td>\n",
       "      <td>46</td>\n",
       "      <td>637</td>\n",
       "    </tr>\n",
       "    <tr>\n",
       "      <th>3</th>\n",
       "      <td>spam</td>\n",
       "      <td>[Re, :, Fw, :, User, Name, &amp;, Password, to, Me...</td>\n",
       "      <td>[#, #, #, #, #, #, #, #, #, #, #, #, #, #, #, ...</td>\n",
       "      <td>From wsup@playful.com  Thu Aug 22 16:17:00 200...</td>\n",
       "      <td>87</td>\n",
       "      <td>2757</td>\n",
       "    </tr>\n",
       "    <tr>\n",
       "      <th>4</th>\n",
       "      <td>spam</td>\n",
       "      <td>[[, ILUG-Social, ], re, :, Guaranteed, to, los...</td>\n",
       "      <td>[I, thought, you, might, like, these, :, 1, ),...</td>\n",
       "      <td>From social-admin@linux.ie  Thu Aug 22 16:37:3...</td>\n",
       "      <td>64</td>\n",
       "      <td>660</td>\n",
       "    </tr>\n",
       "  </tbody>\n",
       "</table>\n",
       "</div>"
      ],
      "text/plain": [
       "  dataset                                            subject  \\\n",
       "0    spam            [Life, Insurance, -, Why, Pay, More, ?]   \n",
       "1    spam  [[, ILUG, ], Guaranteed, to, lose, 10-12, lbs,...   \n",
       "2    spam  [Guaranteed, to, lose, 10-12, lbs, in, 30, day...   \n",
       "3    spam  [Re, :, Fw, :, User, Name, &, Password, to, Me...   \n",
       "4    spam  [[, ILUG-Social, ], re, :, Guaranteed, to, los...   \n",
       "\n",
       "                                                body  \\\n",
       "0  [REPLACEMENT_TAG, REPLACEMENT_TAG, REPLACEMENT...   \n",
       "1  [1, ), Fight, The, Risk, of, Cancer, !, http, ...   \n",
       "2  [1, ), Fight, The, Risk, of, Cancer, !, http, ...   \n",
       "3  [#, #, #, #, #, #, #, #, #, #, #, #, #, #, #, ...   \n",
       "4  [I, thought, you, might, like, these, :, 1, ),...   \n",
       "\n",
       "                                                mail  subject length  \\\n",
       "0  From 12a1mailbot1@web.de  Thu Aug 22 13:17:22 ...              30   \n",
       "1  From ilug-admin@linux.ie  Thu Aug 22 13:27:39 ...              53   \n",
       "2  From sabrina@mx3.1premio.com  Thu Aug 22 14:44...              46   \n",
       "3  From wsup@playful.com  Thu Aug 22 16:17:00 200...              87   \n",
       "4  From social-admin@linux.ie  Thu Aug 22 16:37:3...              64   \n",
       "\n",
       "   body length  \n",
       "0         3510  \n",
       "1          782  \n",
       "2          637  \n",
       "3         2757  \n",
       "4          660  "
      ]
     },
     "execution_count": 35,
     "metadata": {},
     "output_type": "execute_result"
    }
   ],
   "source": [
    "data.head()"
   ]
  },
  {
   "cell_type": "markdown",
   "metadata": {},
   "source": [
    "We should probably remove lot's of junk like single characters, maybe even stopwords like `and`, `or` etc. But let's apply stemming first."
   ]
  },
  {
   "cell_type": "markdown",
   "metadata": {},
   "source": [
    "# Stemming\n",
    "I will use the Porter stemmer from NLTK for stemming. I have no particualar reason for choosing it above any of their other stemmers. But first, let's extract the word counts of all words present in the emails before stemming so we can track the effect."
   ]
  },
  {
   "cell_type": "code",
   "execution_count": 36,
   "metadata": {
    "collapsed": true
   },
   "outputs": [],
   "source": [
    "original_dictionary = {}\n",
    "for i, row in data.iterrows():\n",
    "    # Only count 1 occurance per mail\n",
    "    for word in set(row['body'] + row['subject']):\n",
    "        try:\n",
    "            original_dictionary[word] +=1\n",
    "        except KeyError:\n",
    "            original_dictionary[word] = 1"
   ]
  },
  {
   "cell_type": "code",
   "execution_count": 37,
   "metadata": {
    "collapsed": true
   },
   "outputs": [],
   "source": [
    "from nltk.stem import PorterStemmer"
   ]
  },
  {
   "cell_type": "code",
   "execution_count": 38,
   "metadata": {
    "collapsed": true
   },
   "outputs": [],
   "source": [
    "def stem_list(mail):\n",
    "    porter = PorterStemmer()\n",
    "    return [porter.stem(word) for word in mail]"
   ]
  },
  {
   "cell_type": "code",
   "execution_count": 39,
   "metadata": {
    "collapsed": true
   },
   "outputs": [],
   "source": [
    "data['body']=data['body'].apply(stem_list)\n",
    "data['subject']=data['subject'].apply(stem_list)"
   ]
  },
  {
   "cell_type": "code",
   "execution_count": 40,
   "metadata": {},
   "outputs": [
    {
     "data": {
      "text/html": [
       "<div>\n",
       "<style>\n",
       "    .dataframe thead tr:only-child th {\n",
       "        text-align: right;\n",
       "    }\n",
       "\n",
       "    .dataframe thead th {\n",
       "        text-align: left;\n",
       "    }\n",
       "\n",
       "    .dataframe tbody tr th {\n",
       "        vertical-align: top;\n",
       "    }\n",
       "</style>\n",
       "<table border=\"1\" class=\"dataframe\">\n",
       "  <thead>\n",
       "    <tr style=\"text-align: right;\">\n",
       "      <th></th>\n",
       "      <th>dataset</th>\n",
       "      <th>subject</th>\n",
       "      <th>body</th>\n",
       "      <th>mail</th>\n",
       "      <th>subject length</th>\n",
       "      <th>body length</th>\n",
       "    </tr>\n",
       "  </thead>\n",
       "  <tbody>\n",
       "    <tr>\n",
       "      <th>0</th>\n",
       "      <td>spam</td>\n",
       "      <td>[life, insur, -, whi, pay, more, ?]</td>\n",
       "      <td>[replacement_tag, replacement_tag, replacement...</td>\n",
       "      <td>From 12a1mailbot1@web.de  Thu Aug 22 13:17:22 ...</td>\n",
       "      <td>30</td>\n",
       "      <td>3510</td>\n",
       "    </tr>\n",
       "    <tr>\n",
       "      <th>1</th>\n",
       "      <td>spam</td>\n",
       "      <td>[[, ilug, ], guarante, to, lose, 10-12, lb, in...</td>\n",
       "      <td>[1, ), fight, the, risk, of, cancer, !, http, ...</td>\n",
       "      <td>From ilug-admin@linux.ie  Thu Aug 22 13:27:39 ...</td>\n",
       "      <td>53</td>\n",
       "      <td>782</td>\n",
       "    </tr>\n",
       "    <tr>\n",
       "      <th>2</th>\n",
       "      <td>spam</td>\n",
       "      <td>[guarante, to, lose, 10-12, lb, in, 30, day, 1...</td>\n",
       "      <td>[1, ), fight, the, risk, of, cancer, !, http, ...</td>\n",
       "      <td>From sabrina@mx3.1premio.com  Thu Aug 22 14:44...</td>\n",
       "      <td>46</td>\n",
       "      <td>637</td>\n",
       "    </tr>\n",
       "    <tr>\n",
       "      <th>3</th>\n",
       "      <td>spam</td>\n",
       "      <td>[Re, :, Fw, :, user, name, &amp;, password, to, me...</td>\n",
       "      <td>[#, #, #, #, #, #, #, #, #, #, #, #, #, #, #, ...</td>\n",
       "      <td>From wsup@playful.com  Thu Aug 22 16:17:00 200...</td>\n",
       "      <td>87</td>\n",
       "      <td>2757</td>\n",
       "    </tr>\n",
       "    <tr>\n",
       "      <th>4</th>\n",
       "      <td>spam</td>\n",
       "      <td>[[, ilug-soci, ], re, :, guarante, to, lose, 1...</td>\n",
       "      <td>[I, thought, you, might, like, these, :, 1, ),...</td>\n",
       "      <td>From social-admin@linux.ie  Thu Aug 22 16:37:3...</td>\n",
       "      <td>64</td>\n",
       "      <td>660</td>\n",
       "    </tr>\n",
       "  </tbody>\n",
       "</table>\n",
       "</div>"
      ],
      "text/plain": [
       "  dataset                                            subject  \\\n",
       "0    spam                [life, insur, -, whi, pay, more, ?]   \n",
       "1    spam  [[, ilug, ], guarante, to, lose, 10-12, lb, in...   \n",
       "2    spam  [guarante, to, lose, 10-12, lb, in, 30, day, 1...   \n",
       "3    spam  [Re, :, Fw, :, user, name, &, password, to, me...   \n",
       "4    spam  [[, ilug-soci, ], re, :, guarante, to, lose, 1...   \n",
       "\n",
       "                                                body  \\\n",
       "0  [replacement_tag, replacement_tag, replacement...   \n",
       "1  [1, ), fight, the, risk, of, cancer, !, http, ...   \n",
       "2  [1, ), fight, the, risk, of, cancer, !, http, ...   \n",
       "3  [#, #, #, #, #, #, #, #, #, #, #, #, #, #, #, ...   \n",
       "4  [I, thought, you, might, like, these, :, 1, ),...   \n",
       "\n",
       "                                                mail  subject length  \\\n",
       "0  From 12a1mailbot1@web.de  Thu Aug 22 13:17:22 ...              30   \n",
       "1  From ilug-admin@linux.ie  Thu Aug 22 13:27:39 ...              53   \n",
       "2  From sabrina@mx3.1premio.com  Thu Aug 22 14:44...              46   \n",
       "3  From wsup@playful.com  Thu Aug 22 16:17:00 200...              87   \n",
       "4  From social-admin@linux.ie  Thu Aug 22 16:37:3...              64   \n",
       "\n",
       "   body length  \n",
       "0         3510  \n",
       "1          782  \n",
       "2          637  \n",
       "3         2757  \n",
       "4          660  "
      ]
     },
     "execution_count": 40,
     "metadata": {},
     "output_type": "execute_result"
    }
   ],
   "source": [
    "data.head()"
   ]
  },
  {
   "cell_type": "code",
   "execution_count": 41,
   "metadata": {
    "collapsed": true
   },
   "outputs": [],
   "source": [
    "stemmed_dictionary = {}\n",
    "for i, row in data.iterrows():\n",
    "    # Only count 1 occurance per mail\n",
    "    for word in set(row['body'] + row['subject']):\n",
    "        try:\n",
    "            stemmed_dictionary[word] +=1\n",
    "        except KeyError:\n",
    "            stemmed_dictionary[word] = 1"
   ]
  },
  {
   "cell_type": "code",
   "execution_count": 42,
   "metadata": {
    "collapsed": true
   },
   "outputs": [],
   "source": [
    "original_dictionary_df = pd.DataFrame.from_dict(data=original_dictionary, orient='index').reset_index().rename(columns={0 : 'occurrences', 'index' : 'word'})\n",
    "stemmed_dictionary_df = pd.DataFrame.from_dict(data=stemmed_dictionary, orient='index').reset_index().rename(columns={0 : 'occurrences', 'index' : 'word'})"
   ]
  },
  {
   "cell_type": "code",
   "execution_count": null,
   "metadata": {
    "collapsed": true
   },
   "outputs": [],
   "source": []
  },
  {
   "cell_type": "code",
   "execution_count": 43,
   "metadata": {},
   "outputs": [
    {
     "name": "stdout",
     "output_type": "stream",
     "text": [
      "Unique words before stemming: 126019\n",
      "Unique words after stemming: 98401\n",
      "The stemmed vocabulary is 78.08 % the size of the original dictionary.\n"
     ]
    }
   ],
   "source": [
    "print(\"Unique words before stemming: {}\".format(original_dictionary_df['word'].nunique()))\n",
    "print(\"Unique words after stemming: {}\".format(stemmed_dictionary_df['word'].nunique()))\n",
    "print(\"The stemmed vocabulary is {} % the size of the original dictionary.\".format(round(100 * stemmed_dictionary_df['word'].nunique()/original_dictionary_df['word'].nunique(), 2)))"
   ]
  },
  {
   "cell_type": "markdown",
   "metadata": {},
   "source": [
    "By converting all words to their wordstem, we have made it so that word forms can not be taken into consideration. As we will not be using a bag of word model, with no meassures of word similarity, the stemming hopefully helps simplify the data. It also reduced the size of our vocabulary substantially. "
   ]
  },
  {
   "cell_type": "markdown",
   "metadata": {},
   "source": [
    "# What's inside the vocabulary?"
   ]
  },
  {
   "cell_type": "code",
   "execution_count": 44,
   "metadata": {},
   "outputs": [
    {
     "data": {
      "text/plain": [
       "(6041, 6)"
      ]
     },
     "execution_count": 44,
     "metadata": {},
     "output_type": "execute_result"
    }
   ],
   "source": [
    "data.shape"
   ]
  },
  {
   "cell_type": "code",
   "execution_count": 45,
   "metadata": {
    "collapsed": true
   },
   "outputs": [],
   "source": [
    "stemmed_dictionary_df = stemmed_dictionary_df.sort_values('occurrences', ascending=False)\n",
    "stemmed_dictionary_df['Occurs in %'] = round(stemmed_dictionary_df['occurrences'] / len(data) * 100, 3)"
   ]
  },
  {
   "cell_type": "code",
   "execution_count": 46,
   "metadata": {
    "collapsed": true
   },
   "outputs": [],
   "source": [
    "stemmed_dictionary_df.index = stemmed_dictionary_df.index.sort_values()"
   ]
  },
  {
   "cell_type": "code",
   "execution_count": 47,
   "metadata": {},
   "outputs": [
    {
     "data": {
      "image/png": "[encoded data removed]",
      "text/plain": [
       "<matplotlib.figure.Figure at 0x1dc79719b70>"
      ]
     },
     "metadata": {},
     "output_type": "display_data"
    }
   ],
   "source": [
    "f, ax = plt.subplots(4, 1, figsize=(16,9))\n",
    "#stemmed_dictionary_df[:100000]['occurrences'].plot(ax=ax[0], ylim=(0, None))\n",
    "##stemmed_dictionary_df[:10000]['occurrences'].plot(ax=ax[1], ylim=(0, None))\n",
    "#stemmed_dictionary_df[:1000]['occurrences'].plot(ax=ax[2], ylim=(0, None))\n",
    "#stemmed_dictionary_df[:100]['occurrences'].plot(ax=ax[3], ylim=(0, None))\n",
    "\n",
    "for i in range(4):\n",
    "    stemmed_dictionary_df[:int(100000 / (10**i))]['occurrences'].plot(ax=ax[i], ylim=(0, None))\n",
    "    ax[i].set_ylabel('Occurrances')\n",
    "    ax[i].set_xlabel('Word Index')\n",
    "    ax[i].set_title(\"Top {} words\".format(int(100000 / (10**i))))\n",
    "\n",
    "f.suptitle(\"Distribution of word occurances\")\n",
    "f.tight_layout(rect=[0, 0.03, 1, 0.95])"
   ]
  },
  {
   "cell_type": "markdown",
   "metadata": {},
   "source": [
    "We see a super long tail of words."
   ]
  },
  {
   "cell_type": "code",
   "execution_count": 48,
   "metadata": {
    "scrolled": true
   },
   "outputs": [
    {
     "data": {
      "text/html": [
       "<div>\n",
       "<style>\n",
       "    .dataframe thead tr:only-child th {\n",
       "        text-align: right;\n",
       "    }\n",
       "\n",
       "    .dataframe thead th {\n",
       "        text-align: left;\n",
       "    }\n",
       "\n",
       "    .dataframe tbody tr th {\n",
       "        vertical-align: top;\n",
       "    }\n",
       "</style>\n",
       "<table border=\"1\" class=\"dataframe\">\n",
       "  <thead>\n",
       "    <tr style=\"text-align: right;\">\n",
       "      <th></th>\n",
       "      <th>word</th>\n",
       "      <th>occurrences</th>\n",
       "      <th>Occurs in %</th>\n",
       "    </tr>\n",
       "  </thead>\n",
       "  <tbody>\n",
       "    <tr>\n",
       "      <th>0</th>\n",
       "      <td>:</td>\n",
       "      <td>5692</td>\n",
       "      <td>94.223</td>\n",
       "    </tr>\n",
       "    <tr>\n",
       "      <th>1</th>\n",
       "      <td>.</td>\n",
       "      <td>5642</td>\n",
       "      <td>93.395</td>\n",
       "    </tr>\n",
       "    <tr>\n",
       "      <th>2</th>\n",
       "      <td>,</td>\n",
       "      <td>5386</td>\n",
       "      <td>89.157</td>\n",
       "    </tr>\n",
       "    <tr>\n",
       "      <th>3</th>\n",
       "      <td>the</td>\n",
       "      <td>5322</td>\n",
       "      <td>88.098</td>\n",
       "    </tr>\n",
       "    <tr>\n",
       "      <th>4</th>\n",
       "      <td>to</td>\n",
       "      <td>5227</td>\n",
       "      <td>86.525</td>\n",
       "    </tr>\n",
       "    <tr>\n",
       "      <th>5</th>\n",
       "      <td>a</td>\n",
       "      <td>4802</td>\n",
       "      <td>79.490</td>\n",
       "    </tr>\n",
       "    <tr>\n",
       "      <th>6</th>\n",
       "      <td>and</td>\n",
       "      <td>4783</td>\n",
       "      <td>79.176</td>\n",
       "    </tr>\n",
       "    <tr>\n",
       "      <th>7</th>\n",
       "      <td>http</td>\n",
       "      <td>4540</td>\n",
       "      <td>75.153</td>\n",
       "    </tr>\n",
       "    <tr>\n",
       "      <th>8</th>\n",
       "      <td>of</td>\n",
       "      <td>4508</td>\n",
       "      <td>74.623</td>\n",
       "    </tr>\n",
       "    <tr>\n",
       "      <th>9</th>\n",
       "      <td>for</td>\n",
       "      <td>4433</td>\n",
       "      <td>73.382</td>\n",
       "    </tr>\n",
       "    <tr>\n",
       "      <th>10</th>\n",
       "      <td>is</td>\n",
       "      <td>4290</td>\n",
       "      <td>71.015</td>\n",
       "    </tr>\n",
       "    <tr>\n",
       "      <th>11</th>\n",
       "      <td>in</td>\n",
       "      <td>4146</td>\n",
       "      <td>68.631</td>\n",
       "    </tr>\n",
       "    <tr>\n",
       "      <th>12</th>\n",
       "      <td>thi</td>\n",
       "      <td>3952</td>\n",
       "      <td>65.420</td>\n",
       "    </tr>\n",
       "    <tr>\n",
       "      <th>13</th>\n",
       "      <td>)</td>\n",
       "      <td>3875</td>\n",
       "      <td>64.145</td>\n",
       "    </tr>\n",
       "    <tr>\n",
       "      <th>14</th>\n",
       "      <td>you</td>\n",
       "      <td>3853</td>\n",
       "      <td>63.781</td>\n",
       "    </tr>\n",
       "    <tr>\n",
       "      <th>15</th>\n",
       "      <td>that</td>\n",
       "      <td>3763</td>\n",
       "      <td>62.291</td>\n",
       "    </tr>\n",
       "    <tr>\n",
       "      <th>16</th>\n",
       "      <td>(</td>\n",
       "      <td>3721</td>\n",
       "      <td>61.596</td>\n",
       "    </tr>\n",
       "    <tr>\n",
       "      <th>17</th>\n",
       "      <td>it</td>\n",
       "      <td>3585</td>\n",
       "      <td>59.344</td>\n",
       "    </tr>\n",
       "    <tr>\n",
       "      <th>18</th>\n",
       "      <td>--</td>\n",
       "      <td>3502</td>\n",
       "      <td>57.971</td>\n",
       "    </tr>\n",
       "    <tr>\n",
       "      <th>19</th>\n",
       "      <td>?</td>\n",
       "      <td>3479</td>\n",
       "      <td>57.590</td>\n",
       "    </tr>\n",
       "    <tr>\n",
       "      <th>20</th>\n",
       "      <td>on</td>\n",
       "      <td>3405</td>\n",
       "      <td>56.365</td>\n",
       "    </tr>\n",
       "    <tr>\n",
       "      <th>21</th>\n",
       "      <td>be</td>\n",
       "      <td>3352</td>\n",
       "      <td>55.488</td>\n",
       "    </tr>\n",
       "    <tr>\n",
       "      <th>22</th>\n",
       "      <td>from</td>\n",
       "      <td>3305</td>\n",
       "      <td>54.709</td>\n",
       "    </tr>\n",
       "    <tr>\n",
       "      <th>23</th>\n",
       "      <td>with</td>\n",
       "      <td>3284</td>\n",
       "      <td>54.362</td>\n",
       "    </tr>\n",
       "    <tr>\n",
       "      <th>24</th>\n",
       "      <td>I</td>\n",
       "      <td>3242</td>\n",
       "      <td>53.667</td>\n",
       "    </tr>\n",
       "    <tr>\n",
       "      <th>25</th>\n",
       "      <td>have</td>\n",
       "      <td>3169</td>\n",
       "      <td>52.458</td>\n",
       "    </tr>\n",
       "    <tr>\n",
       "      <th>26</th>\n",
       "      <td>'s</td>\n",
       "      <td>3124</td>\n",
       "      <td>51.713</td>\n",
       "    </tr>\n",
       "    <tr>\n",
       "      <th>27</th>\n",
       "      <td>@</td>\n",
       "      <td>3022</td>\n",
       "      <td>50.025</td>\n",
       "    </tr>\n",
       "    <tr>\n",
       "      <th>28</th>\n",
       "      <td>list</td>\n",
       "      <td>3015</td>\n",
       "      <td>49.909</td>\n",
       "    </tr>\n",
       "    <tr>\n",
       "      <th>29</th>\n",
       "      <td>not</td>\n",
       "      <td>2987</td>\n",
       "      <td>49.445</td>\n",
       "    </tr>\n",
       "    <tr>\n",
       "      <th>30</th>\n",
       "      <td>are</td>\n",
       "      <td>2929</td>\n",
       "      <td>48.485</td>\n",
       "    </tr>\n",
       "    <tr>\n",
       "      <th>31</th>\n",
       "      <td>-</td>\n",
       "      <td>2874</td>\n",
       "      <td>47.575</td>\n",
       "    </tr>\n",
       "    <tr>\n",
       "      <th>32</th>\n",
       "      <td>!</td>\n",
       "      <td>2870</td>\n",
       "      <td>47.509</td>\n",
       "    </tr>\n",
       "    <tr>\n",
       "      <th>33</th>\n",
       "      <td>''</td>\n",
       "      <td>2796</td>\n",
       "      <td>46.284</td>\n",
       "    </tr>\n",
       "    <tr>\n",
       "      <th>34</th>\n",
       "      <td>or</td>\n",
       "      <td>2795</td>\n",
       "      <td>46.267</td>\n",
       "    </tr>\n",
       "    <tr>\n",
       "      <th>35</th>\n",
       "      <td>your</td>\n",
       "      <td>2748</td>\n",
       "      <td>45.489</td>\n",
       "    </tr>\n",
       "    <tr>\n",
       "      <th>36</th>\n",
       "      <td>at</td>\n",
       "      <td>2648</td>\n",
       "      <td>43.834</td>\n",
       "    </tr>\n",
       "    <tr>\n",
       "      <th>37</th>\n",
       "      <td>n't</td>\n",
       "      <td>2609</td>\n",
       "      <td>43.188</td>\n",
       "    </tr>\n",
       "    <tr>\n",
       "      <th>38</th>\n",
       "      <td>]</td>\n",
       "      <td>2584</td>\n",
       "      <td>42.774</td>\n",
       "    </tr>\n",
       "    <tr>\n",
       "      <th>39</th>\n",
       "      <td>by</td>\n",
       "      <td>2547</td>\n",
       "      <td>42.162</td>\n",
       "    </tr>\n",
       "  </tbody>\n",
       "</table>\n",
       "</div>"
      ],
      "text/plain": [
       "    word  occurrences  Occurs in %\n",
       "0      :         5692       94.223\n",
       "1      .         5642       93.395\n",
       "2      ,         5386       89.157\n",
       "3    the         5322       88.098\n",
       "4     to         5227       86.525\n",
       "5      a         4802       79.490\n",
       "6    and         4783       79.176\n",
       "7   http         4540       75.153\n",
       "8     of         4508       74.623\n",
       "9    for         4433       73.382\n",
       "10    is         4290       71.015\n",
       "11    in         4146       68.631\n",
       "12   thi         3952       65.420\n",
       "13     )         3875       64.145\n",
       "14   you         3853       63.781\n",
       "15  that         3763       62.291\n",
       "16     (         3721       61.596\n",
       "17    it         3585       59.344\n",
       "18    --         3502       57.971\n",
       "19     ?         3479       57.590\n",
       "20    on         3405       56.365\n",
       "21    be         3352       55.488\n",
       "22  from         3305       54.709\n",
       "23  with         3284       54.362\n",
       "24     I         3242       53.667\n",
       "25  have         3169       52.458\n",
       "26    's         3124       51.713\n",
       "27     @         3022       50.025\n",
       "28  list         3015       49.909\n",
       "29   not         2987       49.445\n",
       "30   are         2929       48.485\n",
       "31     -         2874       47.575\n",
       "32     !         2870       47.509\n",
       "33    ''         2796       46.284\n",
       "34    or         2795       46.267\n",
       "35  your         2748       45.489\n",
       "36    at         2648       43.834\n",
       "37   n't         2609       43.188\n",
       "38     ]         2584       42.774\n",
       "39    by         2547       42.162"
      ]
     },
     "execution_count": 48,
     "metadata": {},
     "output_type": "execute_result"
    }
   ],
   "source": [
    "stemmed_dictionary_df.head(40)"
   ]
  },
  {
   "cell_type": "code",
   "execution_count": 50,
   "metadata": {},
   "outputs": [
    {
     "name": "stdout",
     "output_type": "stream",
     "text": [
      "65762 words occur in no more than one email\n"
     ]
    }
   ],
   "source": [
    "print(\"{} words occur in no more than one email\".format(len(stemmed_dictionary_df[stemmed_dictionary_df['occurrences'] == 1])))"
   ]
  },
  {
   "cell_type": "markdown",
   "metadata": {},
   "source": [
    "We have some words that appear in most mails, and a lot that appear in very few mails.\n",
    "\n",
    "I will try to reduce the size of the data by PCA on the bag of word dimension space."
   ]
  },
  {
   "cell_type": "markdown",
   "metadata": {},
   "source": [
    "# What's next?\n",
    "We have transformed the bodies and subjects of all emails from strings to vectors of strings representing words and other tokens. We have applied stemming to all these tokens in an attempt to standardise the emails by not taking word forms in to account. \n",
    "\n",
    "We have seen that many words appear in very few emails. Eventually I will represent emails as one-hot vectors, with every vector representing a word in the vocabulary. Allowing words that are only present in a single mail to represent a dimension of it's own will lead to a very large amount of dimensions. Probably unnecessarily large. I will apply PCA to the data set to reduce it's size."
   ]
  },
  {
   "cell_type": "markdown",
   "metadata": {},
   "source": [
    "Let's move on to notebook `3. Dimensionality reduction with PCA`."
   ]
  },
  {
   "cell_type": "code",
   "execution_count": 53,
   "metadata": {
    "collapsed": true
   },
   "outputs": [],
   "source": [
    "data[['dataset', 'subject', 'body']].to_csv('stemmed_data.csv')"
   ]
  }
 ],
 "metadata": {
  "kernelspec": {
   "display_name": "Python 3",
   "language": "python",
   "name": "python3"
  },
  "language_info": {
   "codemirror_mode": {
    "name": "ipython",
    "version": 3
   },
   "file_extension": ".py",
   "mimetype": "text/x-python",
   "name": "python",
   "nbconvert_exporter": "python",
   "pygments_lexer": "ipython3",
   "version": "3.6.2"
  }
 },
 "nbformat": 4,
 "nbformat_minor": 2
}
