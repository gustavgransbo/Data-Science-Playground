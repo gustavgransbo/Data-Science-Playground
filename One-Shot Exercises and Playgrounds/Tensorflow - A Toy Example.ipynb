{
 "cells": [
  {
   "cell_type": "markdown",
   "metadata": {},
   "source": [
    "# Introduction\n",
    "I am making my very first attempts at understanding Nerual Networks. \n",
    "\n",
    "I am familiar with the basic principles, but have never implemented a neural network. \n",
    "In this notebook I will implement a neural network to solve a toy problem proposed by Brandon Rohrer in his Youtube video [How Deep Neural Networks Work](https://www.youtube.com/watch?v=dpGQagJEBis).\n",
    "I will be using the Tensorflow API directly to try to grasps the basic building blocks of a neural network.\n",
    "\n",
    "The task is to classify the input from a four-pixel camera into four categories:\n",
    "* Solid color\n",
    "* Diagonal line\n",
    "* Vetical line\n",
    "* Horizontal line\n",
    "\n",
    "I will only consider black and white pixels, with no color scale. \n",
    "In other words the pixels will either have the value 0 or 1.\n",
    "Lets visualise the valid inputs."
   ]
  },
  {
   "cell_type": "code",
   "execution_count": 24,
   "metadata": {
    "collapsed": true
   },
   "outputs": [],
   "source": [
    "import numpy as np\n",
    "import matplotlib.pyplot as plt\n",
    "%matplotlib inline"
   ]
  },
  {
   "cell_type": "code",
   "execution_count": 50,
   "metadata": {},
   "outputs": [
    {
     "data": {
      "image/png": "[encoded data removed]",
      "text/plain": [
       "<matplotlib.figure.Figure at 0x259c745d7b8>"
      ]
     },
     "metadata": {},
     "output_type": "display_data"
    }
   ],
   "source": [
    "f, ax = plt.subplots(2, 4, figsize=(16,9))\n",
    "\n",
    "# Solid\n",
    "ax[0][0].set_title('Solid')\n",
    "X = np.asarray([0, 0, 0, 0]).reshape(2,2)\n",
    "ax[0][0].imshow(X, cmap='Greys')\n",
    "ax[1][0].set_title('Solid')\n",
    "# Hack as cmap = 'Greys' interprets the minimum value in X as being white.\n",
    "X = np.asarray([[(255, 255, 255), (255, 255, 255)], [(255, 255, 255), (255, 255, 255)]], dtype = \"byte\")\n",
    "ax[1][0].imshow(X)\n",
    "\n",
    "# Diagonal\n",
    "ax[0][1].set_title('Diagonal')\n",
    "X = np.asarray([1, -1, -1, 1]).reshape(2,2)\n",
    "ax[0][1].imshow(X, cmap='Greys')\n",
    "ax[1][1].set_title('Diagonal')\n",
    "X *= -1\n",
    "ax[1][1].imshow(X, cmap='Greys')\n",
    "\n",
    "# Vertical\n",
    "ax[0][2].set_title('Vertical')\n",
    "X = np.asarray([1, -1, 1, -1]).reshape(2,2)\n",
    "ax[0][2].imshow(X, cmap='Greys')\n",
    "ax[1][2].set_title('Vertical')\n",
    "X *= -1\n",
    "ax[1][2].imshow(X, cmap='Greys')\n",
    "\n",
    "# Horizontal\n",
    "ax[0][3].set_title('Horizontal')\n",
    "X = np.asarray([1, 1, -1, -1]).reshape(2,2)\n",
    "ax[0][3].imshow(X, cmap='Greys')\n",
    "ax[1][3].set_title('Horizontal')\n",
    "X *= -1\n",
    "ax[1][3].imshow(X, cmap='Greys')\n",
    "\n",
    "f.suptitle(\"Inputs and their classes\")\n",
    "f.tight_layout()"
   ]
  },
  {
   "cell_type": "markdown",
   "metadata": {},
   "source": [
    "Thats it, this is the complete input space! \n",
    "Ideally a neural netowrk should be able to classify all these 8 examples correctly.\n",
    "\n",
    "I will imitate the structure proposed by Brandon Rohrer in his video:\n",
    "* Layer 1 - Input\n",
    "    * 4 Input Nodes, no bias term\n",
    "* Layer 2 - Hidden Layer\n",
    "    * 4 Neurons with a sigmoid activation function\n",
    "* Layer 3 - Hidden Layer\n",
    "    * 4 Neurons with a sigmoid activation function\n",
    "* Layer 4 - Hidden Layer\n",
    "    * 8 Neurons with a rectified linear activation function (ReLU)\n",
    "* Layer 5 - Output Layer\n",
    "    * 4 Neurons without an activation function, should represent the probability that the input matches the class that the node represents"
   ]
  },
  {
   "cell_type": "markdown",
   "metadata": {},
   "source": [
    "# Setting up the Neural Network"
   ]
  },
  {
   "cell_type": "code",
   "execution_count": 2,
   "metadata": {},
   "outputs": [],
   "source": [
    "import tensorflow as tf\n",
    "from tensorflow.contrib.layers import fully_connected"
   ]
  },
  {
   "cell_type": "code",
   "execution_count": 3,
   "metadata": {
    "collapsed": true
   },
   "outputs": [],
   "source": [
    "n_inputs = 4\n",
    "n_outputs = 4\n",
    "nodes_hidden_layers = [4, 4, 8]"
   ]
  },
  {
   "cell_type": "code",
   "execution_count": 47,
   "metadata": {
    "collapsed": true
   },
   "outputs": [],
   "source": [
    "tf.reset_default_graph()"
   ]
  },
  {
   "cell_type": "code",
   "execution_count": 48,
   "metadata": {},
   "outputs": [],
   "source": [
    "# Define Input Nodes\n",
    "X = tf.placeholder(tf.float32, shape = (None, n_inputs), name='X')\n",
    "# The output will be identified by an integer in the range 0..3\n",
    "y = tf.placeholder(tf.int64, shape = (None), name='y')"
   ]
  },
  {
   "cell_type": "code",
   "execution_count": 49,
   "metadata": {},
   "outputs": [],
   "source": [
    "# Set up the hidden layers and the output layer\n",
    "with tf.name_scope('dnn'):\n",
    "    hidden1 = fully_connected(X, nodes_hidden_layers[0], scope='hidden1', activation_fn=tf.nn.sigmoid)\n",
    "    hidden2 = fully_connected(hidden1, nodes_hidden_layers[1], scope='hidden2', activation_fn=tf.nn.sigmoid)\n",
    "    hidden3 = fully_connected(hidden2, nodes_hidden_layers[2], scope='hidden3', activation_fn=tf.nn.relu)\n",
    "    logits = fully_connected(hidden3, n_outputs, scope='outputs', activation_fn=None)"
   ]
  },
  {
   "cell_type": "code",
   "execution_count": 50,
   "metadata": {},
   "outputs": [],
   "source": [
    "# Define a loss function\n",
    "# I will use cross entropy\n",
    "with tf.name_scope('loss'):\n",
    "    xentropy = tf.nn.sparse_softmax_cross_entropy_with_logits(labels=y, logits=logits)\n",
    "    loss = tf.reduce_mean(xentropy, name = 'loss')"
   ]
  },
  {
   "cell_type": "code",
   "execution_count": 51,
   "metadata": {
    "collapsed": true
   },
   "outputs": [],
   "source": [
    "# Define how to update the weights of the nerual network\n",
    "# I will use Gradient Descent which\n",
    "learning_rate = .1\n",
    "\n",
    "with tf.name_scope('train'):\n",
    "    optimizer = tf.train.GradientDescentOptimizer(learning_rate)\n",
    "    training_operation = optimizer.minimize(loss)"
   ]
  },
  {
   "cell_type": "code",
   "execution_count": 52,
   "metadata": {},
   "outputs": [],
   "source": [
    "# Define how to evaluate performance\n",
    "# I will use Accuracy\n",
    "\n",
    "with tf.name_scope('evaluation'):\n",
    "    correct = tf.nn.in_top_k(logits, y, 1)\n",
    "    accuracy = tf.reduce_mean(tf.cast(correct, tf.float32))"
   ]
  },
  {
   "cell_type": "code",
   "execution_count": 53,
   "metadata": {
    "collapsed": true
   },
   "outputs": [],
   "source": [
    "init = tf.global_variables_initializer()"
   ]
  },
  {
   "cell_type": "markdown",
   "metadata": {},
   "source": [
    "# Defining the data\n",
    "The data is scaled to 0..1, it is not centered around 0."
   ]
  },
  {
   "cell_type": "code",
   "execution_count": 54,
   "metadata": {
    "collapsed": true
   },
   "outputs": [],
   "source": [
    "data = [\n",
    "        [0, 0, 0, 0], [1, 1, 1, 1], \n",
    "        [1, 0, 0, 1], [0, 1, 1, 0],\n",
    "        [1, 0, 1, 0], [0, 1, 0, 1],\n",
    "        [1, 1, 0, 0], [0, 0, 1, 1]\n",
    "    ]\n",
    "labels = [0, 0, 1, 1, 2, 2, 3, 3]"
   ]
  },
  {
   "cell_type": "markdown",
   "metadata": {},
   "source": [
    "# Training the Network"
   ]
  },
  {
   "cell_type": "code",
   "execution_count": 55,
   "metadata": {
    "collapsed": true
   },
   "outputs": [],
   "source": [
    "saver = tf.train.Saver()"
   ]
  },
  {
   "cell_type": "code",
   "execution_count": 41,
   "metadata": {},
   "outputs": [
    {
     "name": "stdout",
     "output_type": "stream",
     "text": [
      "1000 epochs passed. Training set accuracy is 0.375\n",
      "2000 epochs passed. Training set accuracy is 0.375\n",
      "3000 epochs passed. Training set accuracy is 0.375\n",
      "4000 epochs passed. Training set accuracy is 0.5\n",
      "5000 epochs passed. Training set accuracy is 1.0\n",
      "Finished. Training set accuracy is 1.0\n"
     ]
    }
   ],
   "source": [
    "n_epochs = 10000\n",
    "\n",
    "with tf.Session() as sess:\n",
    "    init.run()\n",
    "    for epoch in range(1, n_epochs+1):\n",
    "        sess.run(training_operation, feed_dict= {X: data, y: labels})\n",
    "        if epoch %1000 == 0:\n",
    "            acc = accuracy.eval(feed_dict= {X: data, y: labels})\n",
    "            print(\"{} epochs passed. Training set accuracy is {}\".format(epoch, acc))\n",
    "            if acc == 1.0:\n",
    "                break\n",
    "    acc = accuracy.eval(feed_dict= {X: data, y: labels})\n",
    "    print(\"Finished. Training set accuracy is {}\".format(acc))\n",
    "    save_path = saver.save(sess, \"./simple_model.ckpt\")"
   ]
  },
  {
   "cell_type": "markdown",
   "metadata": {},
   "source": [
    "Cool, we reach 100% accuracy!\n",
    "Lets try using the model, even though we know that the result will be perfect as the training set covers all valid cases."
   ]
  },
  {
   "cell_type": "code",
   "execution_count": 56,
   "metadata": {},
   "outputs": [
    {
     "name": "stdout",
     "output_type": "stream",
     "text": [
      "INFO:tensorflow:Restoring parameters from ./simple_model.ckpt\n"
     ]
    }
   ],
   "source": [
    "with tf.Session() as sess:\n",
    "    saver.restore(sess, save_path)\n",
    "    X_in = np.asarray(data)\n",
    "    z = logits.eval(feed_dict={X: X_in})\n",
    "    y_pred = np.argmax(z, axis=1)"
   ]
  },
  {
   "cell_type": "code",
   "execution_count": 58,
   "metadata": {},
   "outputs": [
    {
     "data": {
      "text/plain": [
       "array([ True,  True,  True,  True,  True,  True,  True,  True], dtype=bool)"
      ]
     },
     "execution_count": 58,
     "metadata": {},
     "output_type": "execute_result"
    }
   ],
   "source": [
    "y_pred == labels"
   ]
  },
  {
   "cell_type": "markdown",
   "metadata": {},
   "source": [
    "Yupp, correct on all training examples as expected! What if we scale the data so that colored pixels are 0.5 instead of 1?"
   ]
  },
  {
   "cell_type": "code",
   "execution_count": 62,
   "metadata": {},
   "outputs": [
    {
     "name": "stdout",
     "output_type": "stream",
     "text": [
      "INFO:tensorflow:Restoring parameters from ./simple_model.ckpt\n"
     ]
    }
   ],
   "source": [
    "with tf.Session() as sess:\n",
    "    saver.restore(sess, save_path)\n",
    "    X_in = np.asarray([np.asarray(instance) * .5 for instance in data])\n",
    "    z = logits.eval(feed_dict={X: X_in})\n",
    "    y_pred = np.argmax(z, axis=1)"
   ]
  },
  {
   "cell_type": "code",
   "execution_count": 64,
   "metadata": {},
   "outputs": [
    {
     "data": {
      "text/plain": [
       "array([0, 1, 1, 1, 3, 1, 1, 1], dtype=int64)"
      ]
     },
     "execution_count": 64,
     "metadata": {},
     "output_type": "execute_result"
    }
   ],
   "source": [
    "y_pred"
   ]
  },
  {
   "cell_type": "code",
   "execution_count": 63,
   "metadata": {},
   "outputs": [
    {
     "data": {
      "text/plain": [
       "array([ True, False,  True,  True, False, False, False, False], dtype=bool)"
      ]
     },
     "execution_count": 63,
     "metadata": {},
     "output_type": "execute_result"
    }
   ],
   "source": [
    "y_pred == labels"
   ]
  },
  {
   "cell_type": "markdown",
   "metadata": {},
   "source": [
    "We can still handle the solid white case, as well as the diagonals.\n",
    "Most other cases are now classified incorectly. "
   ]
  },
  {
   "cell_type": "markdown",
   "metadata": {},
   "source": [
    "# Summary\n",
    "I implemented a neural network suggested by Brandon Rohrer in Tensorflow and achieved 100% accuracy on his toy problem.\n",
    "\n",
    "It would be interesting to see if I can train a network with fewer layers or fewer neurons to perform this task.\n",
    "I heard that scaling up the number of neurons in one layer can allow you to drop later layers, but typically the network will need many more neurons this way. \n",
    "It would be interesting to experiment with this tradeoff. \n",
    "\n",
    "It would be also interesting to make the problem a little bit harder.\n",
    "For example, what if I acceoted continuous pixel values in the range ]0,1] for the colored pixels, while still keeping the empty pixels as 0?\n",
    "\n",
    "Unfotunately I feel that experimenting with these things without rewrting to much code will have me setting up many Tensorflow specific functions etc. \n",
    "My utlimate goal is not to master deep learning in Tensorflow, as it feels like a quite verbose framework.\n",
    "I will most likely try to use a higher level framework such as Keras instead.\n",
    "\n",
    "For this reason I leav further experiments for another day."
   ]
  }
 ],
 "metadata": {
  "kernelspec": {
   "display_name": "Python 3",
   "language": "python",
   "name": "python3"
  }
 },
 "nbformat": 4,
 "nbformat_minor": 2
}
