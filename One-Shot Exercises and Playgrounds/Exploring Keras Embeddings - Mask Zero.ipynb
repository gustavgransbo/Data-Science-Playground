{
 "cells": [
  {
   "cell_type": "markdown",
   "metadata": {},
   "source": [
    "# Introduction\n",
    "In one of my projects I encountered an unexpected effect of using `mask_zero=True` in Keras Embedding layers. \n",
    "I was training a RNN to label sequences of variable length, and trained it on batches postpadded with zeros to be of equal length.\n",
    "Accuracy when using my models evaluate function was much higher than when actually making predictions. \n",
    "In this notebook I will create a toy example to explore why this was happening."
   ]
  },
  {
   "cell_type": "markdown",
   "metadata": {},
   "source": [
    "# Input Data\n",
    "Two words, 1 and 2 should both have label 1. Zero is used for padding."
   ]
  },
  {
   "cell_type": "code",
   "execution_count": 68,
   "metadata": {
    "collapsed": true
   },
   "outputs": [],
   "source": [
    "import numpy as np\n",
    "from keras.layers import Embedding, Dense, Input\n",
    "from keras.models import Model\n",
    "\n",
    "X = [\n",
    "    [1, 1, 1, 0],\n",
    "    [1, 1, 2, 2],\n",
    "    [1, 0, 0, 0],\n",
    "    [2, 2, 0, 0]\n",
    "]\n",
    "X = np.asarray(X)\n",
    "y = np.asarray([[[0, 1, 0] if x else [1, 0, 0] for x in instance] for instance in X])\n",
    "\n",
    "sample_weights = (X != 0).astype(int)"
   ]
  },
  {
   "cell_type": "markdown",
   "metadata": {},
   "source": [
    "# Setting up the Model\n",
    "I will set up a toy embedding layer that just one hot encodes for different words and uses zero for padding.\n",
    "The model will just output the embedding values, and thus will be wrong on all twos and correct on all ones.\n",
    "Padding should be ignored.\n",
    "\n",
    "The model should achieve 60% accuracy."
   ]
  },
  {
   "cell_type": "code",
   "execution_count": 123,
   "metadata": {
    "collapsed": true
   },
   "outputs": [],
   "source": [
    "import keras \n",
    "import tensorflow"
   ]
  },
  {
   "cell_type": "code",
   "execution_count": 124,
   "metadata": {},
   "outputs": [
    {
     "data": {
      "text/plain": [
       "'2.1.5'"
      ]
     },
     "execution_count": 124,
     "metadata": {},
     "output_type": "execute_result"
    }
   ],
   "source": [
    "keras.__version__"
   ]
  },
  {
   "cell_type": "code",
   "execution_count": 125,
   "metadata": {},
   "outputs": [
    {
     "data": {
      "text/plain": [
       "'1.2.1'"
      ]
     },
     "execution_count": 125,
     "metadata": {},
     "output_type": "execute_result"
    }
   ],
   "source": [
    "tensorflow.__version__"
   ]
  },
  {
   "cell_type": "code",
   "execution_count": 87,
   "metadata": {},
   "outputs": [],
   "source": [
    "n_words = 2\n",
    "dims = n_words+1\n",
    "embedding_matrix = np.eye(dims)\n",
    "\n",
    "embedding = Embedding(n_words+1, dims, weights=[embedding_matrix], trainable=False, mask_zero=True)\n",
    "\n",
    "model_input = Input(shape=(None,))\n",
    "model_output = embedding(model_input)\n",
    "model = Model(model_input, model_output)\n",
    "\n",
    "model.compile(optimizer='adam', loss='categorical_crossentropy', weighted_metrics=['acc'], metrics=['acc'], sample_weight_mode='temporal')"
   ]
  },
  {
   "cell_type": "markdown",
   "metadata": {},
   "source": [
    "## Evaluate Model"
   ]
  },
  {
   "cell_type": "code",
   "execution_count": 118,
   "metadata": {},
   "outputs": [],
   "source": [
    "correct = ((model.predict(X) == y).all(2) & (sample_weights == 1)).sum()\n",
    "instances = (X != 0).sum()"
   ]
  },
  {
   "cell_type": "code",
   "execution_count": 120,
   "metadata": {},
   "outputs": [
    {
     "data": {
      "text/plain": [
       "0.59999999999999998"
      ]
     },
     "execution_count": 120,
     "metadata": {},
     "output_type": "execute_result"
    }
   ],
   "source": [
    "correct / instances"
   ]
  },
  {
   "cell_type": "code",
   "execution_count": 127,
   "metadata": {},
   "outputs": [
    {
     "name": "stdout",
     "output_type": "stream",
     "text": [
      "4/4 [==============================] - 0s 747us/step\n",
      "Loss: 10.315580368041992, Accuracy 0.6000000238418579, Weigted Accuracy: 0.9599999785423279\n"
     ]
    }
   ],
   "source": [
    "print(\"Loss: {}, Accuracy {}, Weigted Accuracy: {}\".format(*model.evaluate(X, y, sample_weight=sample_weights)))"
   ]
  },
  {
   "cell_type": "markdown",
   "metadata": {},
   "source": [
    "The metric `acc` matches expected accuracy of 60%, the weighted accuracy does not."
   ]
  }
 ],
 "metadata": {
  "kernelspec": {
   "display_name": "Python 3",
   "language": "python",
   "name": "python3"
  },
  "language_info": {
   "codemirror_mode": {
    "name": "ipython",
    "version": 3
   },
   "file_extension": ".py",
   "mimetype": "text/x-python",
   "name": "python",
   "nbconvert_exporter": "python",
   "pygments_lexer": "ipython3",
   "version": "3.6.2"
  }
 },
 "nbformat": 4,
 "nbformat_minor": 2
}
