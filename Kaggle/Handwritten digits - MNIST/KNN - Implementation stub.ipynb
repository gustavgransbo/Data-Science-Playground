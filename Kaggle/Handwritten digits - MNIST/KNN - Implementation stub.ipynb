{
 "cells": [
  {
   "cell_type": "markdown",
   "metadata": {},
   "source": [
    "The start of a KNN implementation. Not finished. Only saved to possibly be used as a stub in the future."
   ]
  },
  {
   "cell_type": "code",
   "execution_count": 1,
   "metadata": {
    "collapsed": true
   },
   "outputs": [],
   "source": [
    "from sklearn.base import BaseEstimator, ClassifierMixin"
   ]
  },
  {
   "cell_type": "code",
   "execution_count": 2,
   "metadata": {
    "collapsed": true
   },
   "outputs": [],
   "source": [
    "# My KNN implementation\n",
    "# Based on the scikit-learn Template Classifier \n",
    "# https://github.com/scikit-learn-contrib/project-template/blob/master/skltemplate/template.py\n",
    "class KNN(BaseEstimator, ClassifierMixin):\n",
    "    def __init__(self, n_neighbours = 5):\n",
    "        self.n_neighbours = n_neighbours\n",
    "\n",
    "    def fit(self, X, y):\n",
    "\n",
    "        self.X_ = X\n",
    "        self.y_ = y\n",
    "        # Return the classifier\n",
    "        return self\n",
    "\n",
    "    def predict(self, X):\n",
    "        closest = np.apply_along_axis(self.k_nearest, 1, X)\n",
    "        nearest_classes = self.y_[closest]\n",
    "        return np.apply_along_axis(lambda x: np.argmax(np.bincount(x)), 1, X)\n",
    "    \n",
    "    def k_nearest(self, digit):\n",
    "        # Calculate proximity scores\n",
    "        # Proximity score = Pixel overlap\n",
    "        # Inversely proportional to euclidean distance as all pixels are binary\n",
    "        distances = np.apply_along_axis(lambda x: np.dot(digit, x), 1, self.X_)\n",
    "        return np.argsort(distances)[:self.n_neighbours]"
   ]
  },
  {
   "cell_type": "code",
   "execution_count": 3,
   "metadata": {
    "collapsed": true
   },
   "outputs": [],
   "source": [
    "my_knn = KNN(n_neighbours=2)"
   ]
  },
  {
   "cell_type": "code",
   "execution_count": null,
   "metadata": {
    "collapsed": true
   },
   "outputs": [],
   "source": []
  }
 ],
 "metadata": {
  "kernelspec": {
   "display_name": "Python 3",
   "language": "python",
   "name": "python3"
  },
  "language_info": {
   "codemirror_mode": {
    "name": "ipython",
    "version": 3
   },
   "file_extension": ".py",
   "mimetype": "text/x-python",
   "name": "python",
   "nbconvert_exporter": "python",
   "pygments_lexer": "ipython3",
   "version": "3.6.2"
  }
 },
 "nbformat": 4,
 "nbformat_minor": 2
}
