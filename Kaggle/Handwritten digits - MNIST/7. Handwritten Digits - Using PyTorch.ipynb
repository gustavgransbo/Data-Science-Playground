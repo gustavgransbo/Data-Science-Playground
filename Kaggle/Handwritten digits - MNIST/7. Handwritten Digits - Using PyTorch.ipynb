{
 "cells": [
  {
   "cell_type": "markdown",
   "metadata": {},
   "source": [
    "# Starting point\n",
    "In this notebook I will for the first time try out PyTorch. I will stick to methods I have already tries out, but using PyTorch instead of Keras for deeplerning.\n"
   ]
  },
  {
   "cell_type": "markdown",
   "metadata": {},
   "source": [
    "# The Data"
   ]
  },
  {
   "cell_type": "code",
   "execution_count": 1,
   "metadata": {
    "collapsed": true
   },
   "outputs": [],
   "source": [
    "import pandas as pd\n",
    "import numpy as np\n",
    "import torch\n",
    "\n",
    "import matplotlib.pyplot as plt\n",
    "import seaborn as sns\n",
    "sns.set()\n",
    "%matplotlib inline"
   ]
  },
  {
   "cell_type": "markdown",
   "metadata": {},
   "source": [
    "## Training set"
   ]
  },
  {
   "cell_type": "code",
   "execution_count": 2,
   "metadata": {},
   "outputs": [],
   "source": [
    "data_df = pd.read_csv('train.csv')\n",
    "digits = data_df.iloc[:, 1:].values\n",
    "labels = data_df['label'].values"
   ]
  },
  {
   "cell_type": "markdown",
   "metadata": {},
   "source": [
    "## Test set"
   ]
  },
  {
   "cell_type": "code",
   "execution_count": 3,
   "metadata": {
    "collapsed": true
   },
   "outputs": [],
   "source": [
    "test_df = pd.read_csv('test.csv')\n",
    "digits_test = test_df.values"
   ]
  },
  {
   "cell_type": "markdown",
   "metadata": {},
   "source": [
    "## Modify the data"
   ]
  },
  {
   "cell_type": "markdown",
   "metadata": {},
   "source": [
    "Reshape the data."
   ]
  },
  {
   "cell_type": "code",
   "execution_count": 6,
   "metadata": {
    "collapsed": true
   },
   "outputs": [],
   "source": [
    "img_dimensions = (28, 28, 1)\n",
    "\n",
    "digits = digits.reshape(-1, *img_dimensions)\n",
    "digits_test = digits_test.reshape(-1, *img_dimensions)"
   ]
  },
  {
   "cell_type": "markdown",
   "metadata": {},
   "source": [
    "Scale the pixels."
   ]
  },
  {
   "cell_type": "code",
   "execution_count": 7,
   "metadata": {
    "collapsed": true
   },
   "outputs": [],
   "source": [
    "digits_scaled = digits / 255\n",
    "digits_test_scaled = digits_test / 255"
   ]
  },
  {
   "cell_type": "markdown",
   "metadata": {},
   "source": [
    "## Validation set"
   ]
  },
  {
   "cell_type": "code",
   "execution_count": 189,
   "metadata": {},
   "outputs": [],
   "source": [
    "from sklearn.model_selection import train_test_split\n",
    "X, X_val, y, y_val = train_test_split(digits_scaled, labels, test_size = 8000, stratify = labels_one_hot.toarray(), random_state = 0)"
   ]
  },
  {
   "cell_type": "markdown",
   "metadata": {},
   "source": [
    "## Convert to Tensors"
   ]
  },
  {
   "cell_type": "code",
   "execution_count": 190,
   "metadata": {},
   "outputs": [],
   "source": [
    "# Training\n",
    "X = torch.from_numpy(X).float()\n",
    "X_val = torch.from_numpy(X_val).float()\n",
    "y = torch.from_numpy(y).long()\n",
    "y_val = torch.from_numpy(y_val).long()\n",
    "\n",
    "# Test\n",
    "X_test = torch.from_numpy(digits_test_scaled).float()"
   ]
  },
  {
   "cell_type": "markdown",
   "metadata": {},
   "source": [
    "# Fully Connected Network\n",
    "Let's start out basic with a fully connected network with two hidden layers."
   ]
  },
  {
   "cell_type": "code",
   "execution_count": 191,
   "metadata": {
    "collapsed": true
   },
   "outputs": [],
   "source": [
    "import torch.nn.functional as F\n",
    "import torch.nn as nn"
   ]
  },
  {
   "cell_type": "code",
   "execution_count": 192,
   "metadata": {
    "collapsed": true
   },
   "outputs": [],
   "source": [
    "class FullyConnected(nn.Module):\n",
    "    \n",
    "    def __init__(self):\n",
    "        \n",
    "        super(FullyConnected, self).__init__()\n",
    "        \n",
    "        self.fc1 = nn.Linear(28*28, 120)\n",
    "        self.fc2 = nn.Linear(120, 120)\n",
    "        self.output = nn.Linear(120, 10)\n",
    "    \n",
    "    def forward(self, x):\n",
    "        x = F.elu(self.fc1(x))\n",
    "        x = F.elu(self.fc2(x))\n",
    "        x = F.softmax(self.output(x), dim=0)\n",
    "        \n",
    "        return x\n",
    "        \n",
    "        "
   ]
  },
  {
   "cell_type": "code",
   "execution_count": 193,
   "metadata": {},
   "outputs": [],
   "source": [
    "fc_net = FullyConnected()"
   ]
  },
  {
   "cell_type": "code",
   "execution_count": 194,
   "metadata": {
    "collapsed": true
   },
   "outputs": [],
   "source": [
    "import torch.optim as optim\n",
    "\n",
    "criterion = nn.CrossEntropyLoss()\n",
    "optimizer = optim.Adam(fc_net.parameters())"
   ]
  },
  {
   "cell_type": "code",
   "execution_count": 195,
   "metadata": {},
   "outputs": [
    {
     "data": {
      "text/plain": [
       "torch.Size([34000, 784])"
      ]
     },
     "execution_count": 195,
     "metadata": {},
     "output_type": "execute_result"
    }
   ],
   "source": [
    "X.reshape(-1, 28*28).shape"
   ]
  },
  {
   "cell_type": "code",
   "execution_count": 196,
   "metadata": {},
   "outputs": [],
   "source": [
    "import torch.utils.data\n",
    "\n",
    "train_dataset = torch.utils.data.TensorDataset(X.reshape(-1, 28*28), y)\n",
    "train_loader = torch.utils.data.DataLoader(train_dataset, batch_size=64)\n",
    "\n",
    "validation_dataset = torch.utils.data.TensorDataset(X_val.reshape(-1, 28*28), y_val)\n",
    "validation_loader = torch.utils.data.DataLoader(validation_dataset, batch_size=64)\n",
    "\n"
   ]
  },
  {
   "cell_type": "code",
   "execution_count": 211,
   "metadata": {
    "collapsed": true
   },
   "outputs": [],
   "source": [
    "# Function inspired by https://pytorch.org/tutorials/beginner/transfer_learning_tutorial.html\n",
    "def train_model(model, train_loader, optimizer, criterion, validation_loader = None, epochs = 2):\n",
    "    \n",
    "    # Only enter the validation state if there is a validation_loader\n",
    "    phases = ['train']\n",
    "    data_set_loaders = {'train' : train_loader, 'val' : validation_loader} \n",
    "    if validation_loader:\n",
    "        phases.append('val')\n",
    "        \n",
    "    for epoch in range(epochs):\n",
    "        \n",
    "        print('Epoch {}/{}'.format(epoch, epochs - 1))\n",
    "        print('-' * 10)\n",
    "\n",
    "        for phase in phases:\n",
    "            \n",
    "            data_set_loader = data_set_loaders[phase]\n",
    "            \n",
    "            # Only update model weights based on the training data\n",
    "            if phase == 'train':\n",
    "                model.train()\n",
    "            else:\n",
    "                model.eval()\n",
    "                \n",
    "            running_loss = 0.0\n",
    "            running_corrects = 0\n",
    "            \n",
    "            for i, batch in enumerate(data_set_loader):\n",
    "                inputs, labels = batch\n",
    "                \n",
    "                #labels = torch.autograd.Variable(labels).type(torch.LongTensor)\n",
    "\n",
    "                optimizer.zero_grad()\n",
    "                \n",
    "                # Only track history during training\n",
    "                with torch.set_grad_enabled(phase == 'train'):\n",
    "                    outputs = model(inputs)\n",
    "                    loss = criterion(outputs, labels)\n",
    "                    predictions = torch.argmax(outputs, dim=1)\n",
    "                    \n",
    "                    # Only perform backpropagation during training\n",
    "                    if phase == 'train':\n",
    "                        loss.backward()\n",
    "                        optimizer.step()\n",
    "                    \n",
    "                # Save statistics\n",
    "                running_loss += loss.item() * inputs.size(0)\n",
    "                running_corrects += torch.sum(predictions == labels.data)\n",
    "                \n",
    "            epoch_loss = running_loss / len(data_set_loader.dataset)\n",
    "            epoch_acc = running_corrects.double() / len(data_set_loader.dataset)\n",
    "\n",
    "            print('{} Loss: {:.4f} Acc: {:.4f}'.format(\n",
    "                phase, epoch_loss, epoch_acc))\n",
    "                \n",
    "            "
   ]
  },
  {
   "cell_type": "code",
   "execution_count": 214,
   "metadata": {},
   "outputs": [
    {
     "name": "stdout",
     "output_type": "stream",
     "text": [
      "Epoch 0/19\n",
      "----------\n",
      "train Loss: 2.1652 Acc: 0.9111\n",
      "val Loss: 2.1660 Acc: 0.9117\n",
      "Epoch 1/19\n",
      "----------\n",
      "train Loss: 2.1648 Acc: 0.9192\n",
      "val Loss: 2.1658 Acc: 0.9167\n",
      "Epoch 2/19\n",
      "----------\n",
      "train Loss: 2.1647 Acc: 0.9231\n",
      "val Loss: 2.1656 Acc: 0.9236\n",
      "Epoch 3/19\n",
      "----------\n",
      "train Loss: 2.1645 Acc: 0.9281\n",
      "val Loss: 2.1655 Acc: 0.9261\n",
      "Epoch 4/19\n",
      "----------\n",
      "train Loss: 2.1645 Acc: 0.9307\n",
      "val Loss: 2.1655 Acc: 0.9286\n",
      "Epoch 5/19\n",
      "----------\n",
      "train Loss: 2.1643 Acc: 0.9359\n",
      "val Loss: 2.1653 Acc: 0.9336\n",
      "Epoch 6/19\n",
      "----------\n",
      "train Loss: 2.1642 Acc: 0.9395\n",
      "val Loss: 2.1652 Acc: 0.9357\n",
      "Epoch 7/19\n",
      "----------\n",
      "train Loss: 2.1641 Acc: 0.9419\n",
      "val Loss: 2.1652 Acc: 0.9377\n",
      "Epoch 8/19\n",
      "----------\n",
      "train Loss: 2.1640 Acc: 0.9438\n",
      "val Loss: 2.1651 Acc: 0.9395\n",
      "Epoch 9/19\n",
      "----------\n",
      "train Loss: 2.1640 Acc: 0.9469\n",
      "val Loss: 2.1652 Acc: 0.9417\n",
      "Epoch 10/19\n",
      "----------\n",
      "train Loss: 2.1639 Acc: 0.9487\n",
      "val Loss: 2.1651 Acc: 0.9464\n",
      "Epoch 11/19\n",
      "----------\n",
      "train Loss: 2.1639 Acc: 0.9513\n",
      "val Loss: 2.1650 Acc: 0.9471\n",
      "Epoch 12/19\n",
      "----------\n",
      "train Loss: 2.1639 Acc: 0.9536\n",
      "val Loss: 2.1649 Acc: 0.9496\n",
      "Epoch 13/19\n",
      "----------\n",
      "train Loss: 2.1638 Acc: 0.9554\n",
      "val Loss: 2.1650 Acc: 0.9510\n",
      "Epoch 14/19\n",
      "----------\n",
      "train Loss: 2.1638 Acc: 0.9581\n",
      "val Loss: 2.1650 Acc: 0.9525\n",
      "Epoch 15/19\n",
      "----------\n",
      "train Loss: 2.1638 Acc: 0.9580\n",
      "val Loss: 2.1649 Acc: 0.9547\n",
      "Epoch 16/19\n",
      "----------\n",
      "train Loss: 2.1638 Acc: 0.9617\n",
      "val Loss: 2.1649 Acc: 0.9547\n",
      "Epoch 17/19\n",
      "----------\n",
      "train Loss: 2.1637 Acc: 0.9628\n",
      "val Loss: 2.1649 Acc: 0.9573\n",
      "Epoch 18/19\n",
      "----------\n",
      "train Loss: 2.1637 Acc: 0.9636\n",
      "val Loss: 2.1650 Acc: 0.9591\n",
      "Epoch 19/19\n",
      "----------\n",
      "train Loss: 2.1637 Acc: 0.9658\n",
      "val Loss: 2.1650 Acc: 0.9579\n"
     ]
    }
   ],
   "source": [
    "train_model(fc_net, train_loader, optimizer, criterion, validation_loader=validation_loader, epochs=20)"
   ]
  },
  {
   "cell_type": "markdown",
   "metadata": {},
   "source": [
    "Seems like it works okay!\n",
    "\n",
    "I'm not interested in doing hyper parameter tuning, so let's just check that it works okay on the test set as well."
   ]
  },
  {
   "cell_type": "code",
   "execution_count": 239,
   "metadata": {},
   "outputs": [
    {
     "data": {
      "text/plain": [
       "FullyConnected(\n",
       "  (fc1): Linear(in_features=784, out_features=120, bias=True)\n",
       "  (fc2): Linear(in_features=120, out_features=120, bias=True)\n",
       "  (output): Linear(in_features=120, out_features=10, bias=True)\n",
       ")"
      ]
     },
     "execution_count": 239,
     "metadata": {},
     "output_type": "execute_result"
    }
   ],
   "source": [
    "fc_net.eval()"
   ]
  },
  {
   "cell_type": "code",
   "execution_count": 240,
   "metadata": {},
   "outputs": [],
   "source": [
    "test_dataset = torch.utils.data.TensorDataset(X_test.reshape(-1, 28*28))\n",
    "test_loader = torch.utils.data.DataLoader(test_dataset, batch_size=64)"
   ]
  },
  {
   "cell_type": "code",
   "execution_count": 241,
   "metadata": {},
   "outputs": [
    {
     "data": {
      "text/plain": [
       "28000"
      ]
     },
     "execution_count": 241,
     "metadata": {},
     "output_type": "execute_result"
    }
   ],
   "source": [
    "len(test_dataset)"
   ]
  },
  {
   "cell_type": "code",
   "execution_count": 242,
   "metadata": {},
   "outputs": [],
   "source": [
    "predictions = []\n",
    "for batch in test_loader:\n",
    "    batch = batch[0]\n",
    "    predictions += list(torch.argmax(fc_net(batch), dim=1))"
   ]
  },
  {
   "cell_type": "code",
   "execution_count": 251,
   "metadata": {},
   "outputs": [],
   "source": [
    "submission_df = pd.DataFrame(list(zip(np.arange(1, 28001), map(lambda x: x.item(), predictions))), columns = ['ImageID', 'Label'])\n",
    "submission_df.set_index('ImageID').to_csv('Submissions/pytorch_fc_1.csv')"
   ]
  },
  {
   "cell_type": "markdown",
   "metadata": {},
   "source": [
    "Submission accuracy of 95.6% accuracy, which is similar to my validation accuracy. Great!"
   ]
  },
  {
   "cell_type": "markdown",
   "metadata": {},
   "source": [
    "# CNN\n",
    "Now let's build a Convolutional Network instead. I have done this once before using Keras, but this time I will opt to build a better understanding of how it works."
   ]
  }
 ],
 "metadata": {
  "kernelspec": {
   "display_name": "Python 3",
   "language": "python",
   "name": "python3"
  },
  "language_info": {
   "codemirror_mode": {
    "name": "ipython",
    "version": 3
   },
   "file_extension": ".py",
   "mimetype": "text/x-python",
   "name": "python",
   "nbconvert_exporter": "python",
   "pygments_lexer": "ipython3",
   "version": "3.6.2"
  }
 },
 "nbformat": 4,
 "nbformat_minor": 2
}
