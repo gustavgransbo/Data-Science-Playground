{
 "cells": [
  {
   "cell_type": "markdown",
   "metadata": {},
   "source": [
    "# Starting point\n",
    "In `3. Handwritten Digits - Dimensionality Reduction` I laborated with PCA dimensionality reduction on the MNIST data set, and evaluated performance of a KNN-classifier on various choices of dimensions. \n",
    "My best accuracy on the Kaggle test set was 98.34%, with 80% explained variance ratio, 47 principal components.\n",
    "\n",
    "Three months have passed since I worked with my previous notebook, in this time I had the chance to further explore dimensionality reduction, and learn about some more classifiers.\n",
    "In this notebook I will explore ensemble learning.\n",
    "I have previously used sklearns RandomForestClassifier without any understanding of the underlying model. \n",
    "This time I come prepared!\n",
    "\n",
    "To avoid the legacy of mistakes and bad practices in my previous notebooks I will try to make this notebook as independent as possible."
   ]
  },
  {
   "cell_type": "markdown",
   "metadata": {},
   "source": [
    "# The data set\n",
    "Kaggle provides a labeled traning set of 42 000 digits, and an unlabeled test set of 28 000 digits.\n",
    "\n",
    "As Kaggle has already provided the test set I do not need to set aside my own. \n",
    "If I use bagging methods to do ensemble learning I can do out of bag evaluation.\n",
    "This would let me skip a validation set as well.\n",
    "\n",
    "However, I would like to try boosting, and for this I want to have a validation set. \n",
    "Also, it could be interesting to combine a bagging classifier and a boosted classifier into a new ensemble, perhaps by using some form of stacking. \n",
    "To evaluate such a classifier it would also be a good idea to have a validation set.\n",
    "\n",
    "This is my plan for the data:\n",
    "1. Set aside 8 000 digits as a validation set\n",
    "2. Keep 34 000 digits as training set\n",
    "3. Extend the training set by shifting digits by one pixel in each direction\n",
    "    * Increases bias by assuming these shifted examples still represent digits\n",
    "    * Reduces variance by introducing a more diverse training set\n",
    "4. Perform PCA on the extended training set\n",
    "5. Train models using the extended training set\n",
    "6. Evaluate models using the validation set"
   ]
  },
  {
   "cell_type": "code",
   "execution_count": 183,
   "metadata": {
    "collapsed": true
   },
   "outputs": [],
   "source": [
    "import pandas as pd\n",
    "import numpy as np\n",
    "import sklearn\n",
    "import matplotlib.pyplot as plt\n",
    "import seaborn as sns\n",
    "sns.set()\n",
    "\n",
    "%matplotlib inline"
   ]
  },
  {
   "cell_type": "code",
   "execution_count": 5,
   "metadata": {
    "collapsed": true
   },
   "outputs": [],
   "source": [
    "data_df = pd.read_csv('train.csv')\n",
    "digits = data_df.iloc[:, 1:].values\n",
    "labels = data_df['label'].values"
   ]
  },
  {
   "cell_type": "code",
   "execution_count": 429,
   "metadata": {},
   "outputs": [],
   "source": [
    "test_df = pd.read_csv('test.csv')\n",
    "digits_test = test_df.values"
   ]
  },
  {
   "cell_type": "markdown",
   "metadata": {},
   "source": [
    "## Validation set\n",
    "I set aside 8 000 samples as a validation set.\n",
    "By using sklearns train_test_split method and the stratify parameter I make sure that the validation set has the same distibution of labels as the training set."
   ]
  },
  {
   "cell_type": "code",
   "execution_count": 8,
   "metadata": {
    "collapsed": true
   },
   "outputs": [],
   "source": [
    "from sklearn.model_selection import train_test_split"
   ]
  },
  {
   "cell_type": "code",
   "execution_count": 17,
   "metadata": {
    "collapsed": true
   },
   "outputs": [],
   "source": [
    "digits_train, digits_validation, labels_train, labels_validation = train_test_split(digits, labels, test_size = 8000, stratify = labels, random_state = 0)"
   ]
  },
  {
   "cell_type": "markdown",
   "metadata": {},
   "source": [
    "## Extend the training set\n",
    "It seems likely that a sample shifted by just a pixel in any direction should still represent the same digit. \n",
    "With this assumption I can significantly increase the size of the training set, at the cost of extra bias from the assumption.\n",
    "The gain is that I achieve a more diverse training set, and hence will get models with lower variance."
   ]
  },
  {
   "cell_type": "code",
   "execution_count": 19,
   "metadata": {
    "collapsed": true
   },
   "outputs": [],
   "source": [
    "from scipy.ndimage.interpolation import shift\n",
    "from sklearn.base import BaseEstimator, TransformerMixin"
   ]
  },
  {
   "cell_type": "code",
   "execution_count": 67,
   "metadata": {},
   "outputs": [],
   "source": [
    "class DigitShifter(BaseEstimator, TransformerMixin):\n",
    "    def __init__(self, directions = [(1, 0), (-1, 0), (0, 1), (0, -1)]):\n",
    "        self.directions = directions\n",
    "    def fit(self, X, y = None):\n",
    "        return self\n",
    "    \n",
    "    # Shifts X in the directions specified by self.directions\n",
    "    # If y is provided an extended version of y is returned, matching the shifted X\n",
    "    # If y is not provided None is returned in the second position.\n",
    "    # Example: X_shifted, _ = transform(X)\n",
    "    def transform(self, X, y= np.array([])):\n",
    "        X_shifts = [np.apply_along_axis(lambda x: self.shift_digit(x, direction[0], direction[1]), 1, X) for direction in self.directions]\n",
    "        y_extended = [y for i in range(len(self.directions) + 1)]\n",
    "        return np.concatenate([X] + X_shifts), np.concatenate(y_extended) if  y.size != 0 else None\n",
    "    def shift_digit(self, digit, delta_x=0, delta_y=0):\n",
    "        digit = digit.reshape(28, 28)\n",
    "        return shift(digit, (delta_x, delta_y)).flatten()"
   ]
  },
  {
   "cell_type": "code",
   "execution_count": 69,
   "metadata": {},
   "outputs": [],
   "source": [
    "digits_train_extended, labels_train_extended = DigitShifter().transform(digits_train, labels_train)"
   ]
  },
  {
   "cell_type": "markdown",
   "metadata": {},
   "source": [
    "## PCA\n",
    "Now lets to PCA on the extended training set."
   ]
  },
  {
   "cell_type": "code",
   "execution_count": 70,
   "metadata": {
    "collapsed": true
   },
   "outputs": [],
   "source": [
    "from sklearn.decomposition import PCA"
   ]
  },
  {
   "cell_type": "markdown",
   "metadata": {},
   "source": [
    "First lets just have a look at the data in two dimensions by visualising the first two principal components."
   ]
  },
  {
   "cell_type": "code",
   "execution_count": 71,
   "metadata": {
    "collapsed": true
   },
   "outputs": [],
   "source": [
    "pca = PCA(n_components=2)\n",
    "digits_pca = pca.fit_transform(digits_train_extended)"
   ]
  },
  {
   "cell_type": "code",
   "execution_count": 72,
   "metadata": {},
   "outputs": [
    {
     "data": {
      "text/plain": [
       "array([ 0.08941124,  0.0650049 ])"
      ]
     },
     "execution_count": 72,
     "metadata": {},
     "output_type": "execute_result"
    }
   ],
   "source": [
    "pca.explained_variance_ratio_"
   ]
  },
  {
   "cell_type": "code",
   "execution_count": 74,
   "metadata": {},
   "outputs": [],
   "source": [
    "df = pd.DataFrame(digits_pca, columns=('pc1', 'pc2'))\n",
    "df['label'] = labels_train_extended"
   ]
  },
  {
   "cell_type": "code",
   "execution_count": 76,
   "metadata": {},
   "outputs": [
    {
     "data": {
      "text/plain": [
       "<matplotlib.text.Text at 0x1e2addb1c18>"
      ]
     },
     "execution_count": 76,
     "metadata": {},
     "output_type": "execute_result"
    },
    {
     "data": {
      "image/png": "[encoded data removed]",
      "text/plain": [
       "<matplotlib.figure.Figure at 0x1e2adda5898>"
      ]
     },
     "metadata": {},
     "output_type": "display_data"
    }
   ],
   "source": [
    "f = sns.lmplot(\"pc1\", \"pc2\", hue='label', data=df[:2000], fit_reg=False, size=8)\n",
    "plt.suptitle('2000 digits of the extended training set visualised in two dimensions')"
   ]
  },
  {
   "cell_type": "markdown",
   "metadata": {},
   "source": [
    "Cool, some clustering is definitely visible!\n",
    "Although the data is far from linearly separable.\n",
    "\n",
    "Now lets find a good numer of principal components to keep."
   ]
  },
  {
   "cell_type": "code",
   "execution_count": 78,
   "metadata": {
    "collapsed": true
   },
   "outputs": [],
   "source": [
    "pca_unbounded = PCA()"
   ]
  },
  {
   "cell_type": "code",
   "execution_count": 79,
   "metadata": {},
   "outputs": [
    {
     "data": {
      "text/plain": [
       "PCA(copy=True, iterated_power='auto', n_components=None, random_state=None,\n",
       "  svd_solver='auto', tol=0.0, whiten=False)"
      ]
     },
     "execution_count": 79,
     "metadata": {},
     "output_type": "execute_result"
    }
   ],
   "source": [
    "pca_unbounded.fit(digits_train_extended)"
   ]
  },
  {
   "cell_type": "code",
   "execution_count": 82,
   "metadata": {},
   "outputs": [
    {
     "data": {
      "text/plain": [
       "(1, 200)"
      ]
     },
     "execution_count": 82,
     "metadata": {},
     "output_type": "execute_result"
    },
    {
     "data": {
      "image/png": "[encoded data removed]",
      "text/plain": [
       "<matplotlib.figure.Figure at 0x1e2eb4c7160>"
      ]
     },
     "metadata": {},
     "output_type": "display_data"
    }
   ],
   "source": [
    "f, ax = plt.subplots(figsize= (16, 9))\n",
    "plt.plot(np.arange(1, 201), np.cumsum(pca_unbounded.explained_variance_ratio_[:200]))\n",
    "f.suptitle('Explained variance vs Dimensions')\n",
    "ax.set_ylabel('Explained Variance')\n",
    "ax.set_xlabel('Dimensions')\n",
    "ax.grid(color='grey', linestyle='--', linewidth=.5)\n",
    "\n",
    "ax.set_ylim([0, 1])\n",
    "ax.set_xlim(1, 200)"
   ]
  },
  {
   "cell_type": "markdown",
   "metadata": {},
   "source": []
  },
  {
   "cell_type": "code",
   "execution_count": 96,
   "metadata": {},
   "outputs": [
    {
     "name": "stdout",
     "output_type": "stream",
     "text": [
      "50.0 % explained variance ratio achieved with 11 principal components.\n",
      "60.0 % explained variance ratio achieved with 18 principal components.\n",
      "70.0 % explained variance ratio achieved with 28 principal components.\n",
      "80.0 % explained variance ratio achieved with 46 principal components.\n",
      "85.0 % explained variance ratio achieved with 62 principal components.\n",
      "90.0 % explained variance ratio achieved with 90 principal components.\n",
      "95.0 % explained variance ratio achieved with 159 principal components.\n",
      "99.0 % explained variance ratio achieved with 343 principal components.\n"
     ]
    }
   ],
   "source": [
    "explained_variance_ratio_cum = np.cumsum(pca_unbounded.explained_variance_ratio_)\n",
    "for ratio in [.5, .6, .7, .8, .85, .9, .95, .99]:\n",
    "    print(\"{} % explained variance ratio achieved with {} principal components.\".format(ratio * 100, np.argmax(a >= ratio)))"
   ]
  },
  {
   "cell_type": "markdown",
   "metadata": {},
   "source": [
    "Explained variance goes up quickly with the first added dimensions, and then starts tapering of. \n",
    "With 159 principal components we see 95% explained variance ratio, it does not reach 99% until we have 343 principal components.\n",
    "\n",
    "Last time I found an explained variance ratio around 80% got me the best results.\n",
    "I only evaluated with a KNN-classifier though. It could be a good idea to try some different levels this time around too.\n",
    "\n",
    "I think 80% and 90% look like primising values. \n",
    "Both achieve a decent explained variance ratio, without using to many dimensions."
   ]
  },
  {
   "cell_type": "code",
   "execution_count": 117,
   "metadata": {},
   "outputs": [
    {
     "data": {
      "text/plain": [
       "PCA(copy=True, iterated_power='auto', n_components=90, random_state=None,\n",
       "  svd_solver='auto', tol=0.0, whiten=False)"
      ]
     },
     "execution_count": 117,
     "metadata": {},
     "output_type": "execute_result"
    }
   ],
   "source": [
    "pca_80 = PCA(n_components=46)\n",
    "pca_80.fit(digits_train_extended)\n",
    "\n",
    "pca_90 = PCA(n_components=90)\n",
    "pca_90.fit(digits_train_extended)"
   ]
  },
  {
   "cell_type": "markdown",
   "metadata": {},
   "source": [
    "# Baseline\n",
    "Lets check the accuracy of my previous KNN classifier on the validation set, just to get some baseline accuracy to compare against."
   ]
  },
  {
   "cell_type": "code",
   "execution_count": 125,
   "metadata": {
    "collapsed": true
   },
   "outputs": [],
   "source": [
    "from sklearn.neighbors import KNeighborsClassifier"
   ]
  },
  {
   "cell_type": "code",
   "execution_count": 112,
   "metadata": {},
   "outputs": [],
   "source": [
    "from sklearn.metrics import accuracy_score"
   ]
  },
  {
   "cell_type": "code",
   "execution_count": 126,
   "metadata": {},
   "outputs": [
    {
     "data": {
      "text/plain": [
       "KNeighborsClassifier(algorithm='brute', leaf_size=30, metric='minkowski',\n",
       "           metric_params=None, n_jobs=1, n_neighbors=3, p=2,\n",
       "           weights='uniform')"
      ]
     },
     "execution_count": 126,
     "metadata": {},
     "output_type": "execute_result"
    }
   ],
   "source": [
    "knn = KNeighborsClassifier(algorithm=\"brute\", n_neighbors=3)\n",
    "knn.fit(pca_80.transform(digits_train_extended), labels_train_extended)"
   ]
  },
  {
   "cell_type": "markdown",
   "metadata": {},
   "source": [
    "Predict batches of 1 000 samples at a time to reduce stress on my laptop."
   ]
  },
  {
   "cell_type": "code",
   "execution_count": 128,
   "metadata": {},
   "outputs": [
    {
     "name": "stdout",
     "output_type": "stream",
     "text": [
      "Wall time: 36.2 s\n"
     ]
    }
   ],
   "source": [
    "%time predictions = [knn.predict(pca_80.transform(digits_validation[i*1000:(i+1)*1000])) for i in range(len(digits_validation) // 1000)]"
   ]
  },
  {
   "cell_type": "code",
   "execution_count": 131,
   "metadata": {},
   "outputs": [],
   "source": [
    "predictions = np.array(predictions).flatten()"
   ]
  },
  {
   "cell_type": "code",
   "execution_count": 132,
   "metadata": {},
   "outputs": [
    {
     "data": {
      "text/plain": [
       "0.97924999999999995"
      ]
     },
     "execution_count": 132,
     "metadata": {},
     "output_type": "execute_result"
    }
   ],
   "source": [
    "accuracy_score(labels_validation, predictions)"
   ]
  },
  {
   "cell_type": "markdown",
   "metadata": {},
   "source": [
    "Almost 98% accuracy, pretty good!"
   ]
  },
  {
   "cell_type": "code",
   "execution_count": 279,
   "metadata": {
    "collapsed": true
   },
   "outputs": [],
   "source": [
    "with open('knn.pkl', 'wb') as f :\n",
    "    pickle.dump(knn, f)"
   ]
  },
  {
   "cell_type": "markdown",
   "metadata": {},
   "source": [
    "# Ensemble Learning\n",
    "Ensemble learning is in essence a very simple concept.\n",
    "Instead of training just one model you train many models and combine their answers.\n",
    "\n",
    "An ensamble of identical models will not perform differently from a signle such model.\n",
    "The idea is to build models with different biases, so that they can cover up each others weak spots.\n",
    "\n",
    "I will start of with an ensamble method called bagging, that combines many models models trained using the same algorithm, but trains them on different subsets of the data."
   ]
  },
  {
   "cell_type": "markdown",
   "metadata": {},
   "source": [
    "## Bagging\n",
    "The idea behind bagging is to diversify models trained with the same algorithm by training them on different subsets of the training data.\n",
    "\n",
    "This approach makes each model more biased, but aggregating their results yields a similar bias as training on the whole training set would, but with reduced variance.\n",
    "\n",
    "I will be opting for the famous Random Forest classifier, which combines many Descision Trees into an ensamble. \n",
    "The descision trees in the random forest are not only trained on different subsets of the training data, but also on random subsets of features."
   ]
  },
  {
   "cell_type": "code",
   "execution_count": 97,
   "metadata": {
    "collapsed": true
   },
   "outputs": [],
   "source": [
    "from sklearn.ensemble import RandomForestClassifier"
   ]
  },
  {
   "cell_type": "code",
   "execution_count": 108,
   "metadata": {
    "collapsed": true
   },
   "outputs": [],
   "source": [
    "random_forest_clf = RandomForestClassifier(n_estimators=500, max_depth=4, n_jobs=-1)"
   ]
  },
  {
   "cell_type": "markdown",
   "metadata": {},
   "source": [
    "### 80% Explained Variance Ratio"
   ]
  },
  {
   "cell_type": "code",
   "execution_count": 118,
   "metadata": {},
   "outputs": [
    {
     "name": "stdout",
     "output_type": "stream",
     "text": [
      "Wall time: 3min 10s\n"
     ]
    },
    {
     "data": {
      "text/plain": [
       "RandomForestClassifier(bootstrap=True, class_weight=None, criterion='gini',\n",
       "            max_depth=4, max_features='auto', max_leaf_nodes=None,\n",
       "            min_impurity_decrease=0.0, min_impurity_split=None,\n",
       "            min_samples_leaf=1, min_samples_split=2,\n",
       "            min_weight_fraction_leaf=0.0, n_estimators=500, n_jobs=-1,\n",
       "            oob_score=False, random_state=None, verbose=0,\n",
       "            warm_start=False)"
      ]
     },
     "execution_count": 118,
     "metadata": {},
     "output_type": "execute_result"
    }
   ],
   "source": [
    "%time random_forest_clf.fit(pca_80.transform(digits_train_extended), labels_train_extended)"
   ]
  },
  {
   "cell_type": "code",
   "execution_count": 119,
   "metadata": {},
   "outputs": [],
   "source": [
    "predictions = random_forest_clf.predict(pca_80.transform(digits_validation))"
   ]
  },
  {
   "cell_type": "code",
   "execution_count": 120,
   "metadata": {},
   "outputs": [
    {
     "data": {
      "text/plain": [
       "0.76537500000000003"
      ]
     },
     "execution_count": 120,
     "metadata": {},
     "output_type": "execute_result"
    }
   ],
   "source": [
    "accuracy_score(labels_validation, predictions)"
   ]
  },
  {
   "cell_type": "markdown",
   "metadata": {},
   "source": [
    "Ouch, 76.5% accuracy. That is disapointing. Lets see what results we get with more principal components."
   ]
  },
  {
   "cell_type": "markdown",
   "metadata": {},
   "source": [
    "### 90% Explained Variance Ratio"
   ]
  },
  {
   "cell_type": "code",
   "execution_count": 121,
   "metadata": {},
   "outputs": [
    {
     "name": "stdout",
     "output_type": "stream",
     "text": [
      "Wall time: 5min 36s\n"
     ]
    },
    {
     "data": {
      "text/plain": [
       "RandomForestClassifier(bootstrap=True, class_weight=None, criterion='gini',\n",
       "            max_depth=4, max_features='auto', max_leaf_nodes=None,\n",
       "            min_impurity_decrease=0.0, min_impurity_split=None,\n",
       "            min_samples_leaf=1, min_samples_split=2,\n",
       "            min_weight_fraction_leaf=0.0, n_estimators=500, n_jobs=-1,\n",
       "            oob_score=False, random_state=None, verbose=0,\n",
       "            warm_start=False)"
      ]
     },
     "execution_count": 121,
     "metadata": {},
     "output_type": "execute_result"
    }
   ],
   "source": [
    "%time random_forest_clf.fit(pca_90.transform(digits_train_extended), labels_train_extended)"
   ]
  },
  {
   "cell_type": "code",
   "execution_count": 122,
   "metadata": {
    "collapsed": true
   },
   "outputs": [],
   "source": [
    "predictions = random_forest_clf.predict(pca_90.transform(digits_validation))"
   ]
  },
  {
   "cell_type": "code",
   "execution_count": 123,
   "metadata": {},
   "outputs": [
    {
     "data": {
      "text/plain": [
       "0.77412499999999995"
      ]
     },
     "execution_count": 123,
     "metadata": {},
     "output_type": "execute_result"
    }
   ],
   "source": [
    "accuracy_score(labels_validation, predictions)"
   ]
  },
  {
   "cell_type": "markdown",
   "metadata": {},
   "source": [
    "77.4% accuracy, barely an improvement. Lets compare these results to a single decision tree with more degrees of freedom."
   ]
  },
  {
   "cell_type": "markdown",
   "metadata": {},
   "source": [
    "### Single Decision Tree"
   ]
  },
  {
   "cell_type": "code",
   "execution_count": 133,
   "metadata": {
    "collapsed": true
   },
   "outputs": [],
   "source": [
    "from sklearn.tree import DecisionTreeClassifier"
   ]
  },
  {
   "cell_type": "markdown",
   "metadata": {},
   "source": [
    "Setting max depth as 14 instead of 4 gives a maximum of 2^14 leaf nodes instead of 2^4."
   ]
  },
  {
   "cell_type": "code",
   "execution_count": 143,
   "metadata": {
    "collapsed": true
   },
   "outputs": [],
   "source": [
    "decision_tree_clf = DecisionTreeClassifier( max_depth = 14)"
   ]
  },
  {
   "cell_type": "code",
   "execution_count": 144,
   "metadata": {},
   "outputs": [
    {
     "name": "stdout",
     "output_type": "stream",
     "text": [
      "Wall time: 26.9 s\n"
     ]
    },
    {
     "data": {
      "text/plain": [
       "DecisionTreeClassifier(class_weight=None, criterion='gini', max_depth=14,\n",
       "            max_features=None, max_leaf_nodes=None,\n",
       "            min_impurity_decrease=0.0, min_impurity_split=None,\n",
       "            min_samples_leaf=1, min_samples_split=2,\n",
       "            min_weight_fraction_leaf=0.0, presort=False, random_state=None,\n",
       "            splitter='best')"
      ]
     },
     "execution_count": 144,
     "metadata": {},
     "output_type": "execute_result"
    }
   ],
   "source": [
    "%time decision_tree_clf.fit(pca_80.transform(digits_train_extended), labels_train_extended)"
   ]
  },
  {
   "cell_type": "code",
   "execution_count": 146,
   "metadata": {
    "collapsed": true
   },
   "outputs": [],
   "source": [
    "predictions = decision_tree_clf.predict(pca_80.transform(digits_validation))"
   ]
  },
  {
   "cell_type": "code",
   "execution_count": 147,
   "metadata": {},
   "outputs": [
    {
     "data": {
      "text/plain": [
       "0.85312500000000002"
      ]
     },
     "execution_count": 147,
     "metadata": {},
     "output_type": "execute_result"
    }
   ],
   "source": [
    "accuracy_score(labels_validation, predictions)"
   ]
  },
  {
   "cell_type": "markdown",
   "metadata": {},
   "source": [
    "Okay, so a single tree allowed more complexity performs better than the ensemble of limited trees.\n",
    "Lets try increasing `max_depth`, but reducing `n_estimators`. \n",
    "I will stick to using 80% explained variance ratio for now, as it seems that the regularized descision trees cannot make good use of them anyway, they are not allowed enough complexity."
   ]
  },
  {
   "cell_type": "markdown",
   "metadata": {},
   "source": [
    "### More complexity, fewer estimators"
   ]
  },
  {
   "cell_type": "code",
   "execution_count": 153,
   "metadata": {
    "collapsed": true
   },
   "outputs": [],
   "source": [
    "random_forest_clf = RandomForestClassifier(n_estimators=20, max_depth=10, n_jobs=-1)"
   ]
  },
  {
   "cell_type": "code",
   "execution_count": 154,
   "metadata": {},
   "outputs": [
    {
     "name": "stdout",
     "output_type": "stream",
     "text": [
      "Wall time: 14.7 s\n"
     ]
    },
    {
     "data": {
      "text/plain": [
       "RandomForestClassifier(bootstrap=True, class_weight=None, criterion='gini',\n",
       "            max_depth=10, max_features='auto', max_leaf_nodes=None,\n",
       "            min_impurity_decrease=0.0, min_impurity_split=None,\n",
       "            min_samples_leaf=1, min_samples_split=2,\n",
       "            min_weight_fraction_leaf=0.0, n_estimators=20, n_jobs=-1,\n",
       "            oob_score=False, random_state=None, verbose=0,\n",
       "            warm_start=False)"
      ]
     },
     "execution_count": 154,
     "metadata": {},
     "output_type": "execute_result"
    }
   ],
   "source": [
    "%time random_forest_clf.fit(pca_80.transform(digits_train_extended), labels_train_extended)"
   ]
  },
  {
   "cell_type": "code",
   "execution_count": 155,
   "metadata": {
    "collapsed": true
   },
   "outputs": [],
   "source": [
    "predictions = random_forest_clf.predict(pca_80.transform(digits_validation))"
   ]
  },
  {
   "cell_type": "code",
   "execution_count": 156,
   "metadata": {},
   "outputs": [
    {
     "data": {
      "text/plain": [
       "0.89324999999999999"
      ]
     },
     "execution_count": 156,
     "metadata": {},
     "output_type": "execute_result"
    }
   ],
   "source": [
    "accuracy_score(labels_validation, predictions)"
   ]
  },
  {
   "cell_type": "markdown",
   "metadata": {},
   "source": [
    "Woho, increased accuracy! 89.3% accuracy is still far from the accuracy of my KNN-classifier, but it is a huge step up compared to my previous results with an ensamble. Training time also went down considerably, so there is room to increase both the number of estimators and their complexity. \n",
    "\n",
    "Any increase in `n_estimators` should never lead to overfitting, but might not increase accuracy behind a certain point if the underlying models are not complex enough.\n",
    "Increasing `max_depth` will eventually lead to overfitting, but is the best tool I have to avoid underfitting the data.\n",
    "\n",
    "Lets start by finding what `max_depth` is optimal for a single decision tree by evaluating all choices using the validation set."
   ]
  },
  {
   "cell_type": "code",
   "execution_count": 158,
   "metadata": {
    "collapsed": true
   },
   "outputs": [],
   "source": [
    "from sklearn.base import clone"
   ]
  },
  {
   "cell_type": "code",
   "execution_count": 169,
   "metadata": {
    "scrolled": true
   },
   "outputs": [
    {
     "name": "stdout",
     "output_type": "stream",
     "text": [
      "Training with max_depth = 1\n",
      "Wall time: 1.74 s\n",
      "Accuracy: 17.062\n",
      "Training with max_depth = 2\n",
      "Wall time: 2.06 s\n",
      "Accuracy: 18.925\n",
      "Training with max_depth = 3\n",
      "Wall time: 2.88 s\n",
      "Accuracy: 25.875\n",
      "Training with max_depth = 4\n",
      "Wall time: 3.46 s\n",
      "Accuracy: 37.7\n",
      "Training with max_depth = 5\n",
      "Wall time: 3.31 s\n",
      "Accuracy: 45.275\n",
      "Training with max_depth = 6\n",
      "Wall time: 4.23 s\n",
      "Accuracy: 50.262\n",
      "Training with max_depth = 7\n",
      "Wall time: 5.21 s\n",
      "Accuracy: 54.375\n",
      "Training with max_depth = 8\n",
      "Wall time: 4.21 s\n",
      "Accuracy: 56.463\n",
      "Training with max_depth = 9\n",
      "Wall time: 4.33 s\n",
      "Accuracy: 62.262\n",
      "Training with max_depth = 10\n",
      "Wall time: 4.88 s\n",
      "Accuracy: 66.238\n",
      "Training with max_depth = 11\n",
      "Wall time: 4.6 s\n",
      "Accuracy: 67.262\n",
      "Training with max_depth = 12\n",
      "Wall time: 5.15 s\n",
      "Accuracy: 73.038\n",
      "Training with max_depth = 13\n",
      "Wall time: 5.94 s\n",
      "Accuracy: 76.188\n",
      "Training with max_depth = 14\n",
      "Wall time: 6.27 s\n",
      "Accuracy: 76.55\n",
      "Training with max_depth = 15\n",
      "Wall time: 6.05 s\n",
      "Accuracy: 76.8\n",
      "Training with max_depth = 16\n",
      "Wall time: 5.87 s\n",
      "Accuracy: 77.712\n",
      "Training with max_depth = 17\n",
      "Wall time: 5.82 s\n",
      "Accuracy: 80.688\n",
      "Training with max_depth = 18\n",
      "Wall time: 6.58 s\n",
      "Accuracy: 78.775\n"
     ]
    }
   ],
   "source": [
    "best_accuracy = 0\n",
    "accuracies = []\n",
    "# Never go past log2(m), where m is the number of samples in the training set.\n",
    "for depth in range(1, int(np.ceil(np.log2(len(digits_train_extended)))) + 1):\n",
    "    decision_tree_clf = DecisionTreeClassifier( max_depth = depth, max_features='auto')\n",
    "    print(\"Training with max_depth = {}\".format(depth))\n",
    "    %time decision_tree_clf.fit(pca_80.transform(digits_train_extended), labels_train_extended)\n",
    "    predictions = decision_tree_clf.predict(pca_80.transform(digits_validation))\n",
    "    acc = accuracy_score(labels_validation, predictions)\n",
    "    print(\"Accuracy: {}\".format(round(acc*100, 3)))\n",
    "    accuracies.append(acc)\n",
    "    # Save the best model\n",
    "    if acc > best_accuracy:\n",
    "        best_accuracy = acc\n",
    "        best_model = clone(decision_tree_clf)"
   ]
  },
  {
   "cell_type": "code",
   "execution_count": 189,
   "metadata": {},
   "outputs": [
    {
     "data": {
      "image/png": "[encoded data removed]",
      "text/plain": [
       "<matplotlib.figure.Figure at 0x1e2b21d3080>"
      ]
     },
     "metadata": {},
     "output_type": "display_data"
    }
   ],
   "source": [
    "f, ax = plt.subplots(figsize=(16,9))\n",
    "\n",
    "plt.plot(np.arange(1, 19), accuracies)\n",
    "ax.set_ylabel('Accuracy')\n",
    "ax.set_xlabel('max_depth')\n",
    "ax.set_title('Accuracy on the validation set for a single Decision Tree')\n",
    "plt.xticks(np.arange(1, 19));\n",
    "#ax.grid(color='grey', linestyle='--', linewidth=.5)\n"
   ]
  },
  {
   "cell_type": "markdown",
   "metadata": {},
   "source": [
    "Accuracy does not drop until `max_depth` is set to 18. \n",
    "However, accuracy is pretty stagnant from `max_depth` 13 until it goes up with `max_depth` set to 17.\n",
    "\n",
    "Lets try two different choices of hyperparameters for Random Forest. \n",
    "* `max_depth` = 13 and as many estimators as possible.\n",
    "* `max_depth` = 17 and as many estimators as possible."
   ]
  },
  {
   "cell_type": "markdown",
   "metadata": {},
   "source": [
    "#### `max_depth` = 13"
   ]
  },
  {
   "cell_type": "code",
   "execution_count": 190,
   "metadata": {
    "collapsed": true
   },
   "outputs": [],
   "source": [
    "random_forest_clf = RandomForestClassifier(n_estimators=1, max_depth=13, n_jobs=-1)"
   ]
  },
  {
   "cell_type": "code",
   "execution_count": 191,
   "metadata": {},
   "outputs": [
    {
     "name": "stdout",
     "output_type": "stream",
     "text": [
      "Wall time: 3.53 s\n"
     ]
    },
    {
     "data": {
      "text/plain": [
       "RandomForestClassifier(bootstrap=True, class_weight=None, criterion='gini',\n",
       "            max_depth=13, max_features='auto', max_leaf_nodes=None,\n",
       "            min_impurity_decrease=0.0, min_impurity_split=None,\n",
       "            min_samples_leaf=1, min_samples_split=2,\n",
       "            min_weight_fraction_leaf=0.0, n_estimators=1, n_jobs=-1,\n",
       "            oob_score=False, random_state=None, verbose=0,\n",
       "            warm_start=False)"
      ]
     },
     "execution_count": 191,
     "metadata": {},
     "output_type": "execute_result"
    }
   ],
   "source": [
    "%time random_forest_clf.fit(pca_80.transform(digits_train_extended), labels_train_extended)"
   ]
  },
  {
   "cell_type": "markdown",
   "metadata": {},
   "source": [
    "Training a single estimators takes about 3.5 seconds, so we can afford to train quite a few of them.\n",
    "Lets check the accuracy of each stage by using the `warm_start` property of RandomForestClassifer."
   ]
  },
  {
   "cell_type": "code",
   "execution_count": 198,
   "metadata": {
    "collapsed": true
   },
   "outputs": [],
   "source": [
    "random_forest_clf = RandomForestClassifier(n_estimators=1, max_depth=13, n_jobs=-1, warm_start=True)"
   ]
  },
  {
   "cell_type": "code",
   "execution_count": 204,
   "metadata": {},
   "outputs": [],
   "source": [
    "accuracies = []\n",
    "for estimators in range(100):\n",
    "    random_forest_clf.fit(pca_80.transform(digits_train_extended), labels_train_extended)\n",
    "    predictions = random_forest_clf.predict(pca_80.transform(digits_validation))\n",
    "    acc = accuracy_score(labels_validation, predictions)\n",
    "    random_forest_clf.n_estimators+= 1\n",
    "    accuracies.append(acc)"
   ]
  },
  {
   "cell_type": "code",
   "execution_count": 208,
   "metadata": {},
   "outputs": [
    {
     "data": {
      "text/plain": [
       "<matplotlib.text.Text at 0x1e2b1bf6518>"
      ]
     },
     "execution_count": 208,
     "metadata": {},
     "output_type": "execute_result"
    },
    {
     "data": {
      "image/png": "[encoded data removed]",
      "text/plain": [
       "<matplotlib.figure.Figure at 0x1e2b14ae5c0>"
      ]
     },
     "metadata": {},
     "output_type": "display_data"
    }
   ],
   "source": [
    "f, ax = plt.subplots(figsize=(16,9))\n",
    "\n",
    "plt.plot(np.arange(1, len(accuracies)+1), accuracies)\n",
    "ax.set_ylabel('Accuracy')\n",
    "ax.set_xlabel('n_estimators')\n",
    "ax.set_title('Accuracy on the validation set for a Random Forest with different number of trees')"
   ]
  },
  {
   "cell_type": "code",
   "execution_count": 213,
   "metadata": {},
   "outputs": [
    {
     "data": {
      "text/plain": [
       "92"
      ]
     },
     "execution_count": 213,
     "metadata": {},
     "output_type": "execute_result"
    }
   ],
   "source": [
    "np.argmax(accuracies) + 1"
   ]
  },
  {
   "cell_type": "code",
   "execution_count": 212,
   "metadata": {},
   "outputs": [
    {
     "data": {
      "text/plain": [
       "0.93987500000000002"
      ]
     },
     "execution_count": 212,
     "metadata": {},
     "output_type": "execute_result"
    }
   ],
   "source": [
    "np.max(accuracies)"
   ]
  },
  {
   "cell_type": "markdown",
   "metadata": {},
   "source": [
    "Accuracy is a bit volatile with regards to the number of estimators, but for the most part seems to be increasing the more are added.\n",
    "The highest accuracy achieved on the validation set was 94% with 92 estimators."
   ]
  },
  {
   "cell_type": "markdown",
   "metadata": {},
   "source": [
    "#### `max_depth` = 17"
   ]
  },
  {
   "cell_type": "code",
   "execution_count": 214,
   "metadata": {
    "collapsed": true
   },
   "outputs": [],
   "source": [
    "random_forest_clf = RandomForestClassifier(n_estimators=10, max_depth=17, n_jobs=-1)"
   ]
  },
  {
   "cell_type": "code",
   "execution_count": 215,
   "metadata": {},
   "outputs": [
    {
     "name": "stdout",
     "output_type": "stream",
     "text": [
      "Wall time: 4.14 s\n"
     ]
    },
    {
     "data": {
      "text/plain": [
       "RandomForestClassifier(bootstrap=True, class_weight=None, criterion='gini',\n",
       "            max_depth=17, max_features='auto', max_leaf_nodes=None,\n",
       "            min_impurity_decrease=0.0, min_impurity_split=None,\n",
       "            min_samples_leaf=1, min_samples_split=2,\n",
       "            min_weight_fraction_leaf=0.0, n_estimators=1, n_jobs=-1,\n",
       "            oob_score=False, random_state=None, verbose=0,\n",
       "            warm_start=False)"
      ]
     },
     "execution_count": 215,
     "metadata": {},
     "output_type": "execute_result"
    }
   ],
   "source": [
    "%time random_forest_clf.fit(pca_80.transform(digits_train_extended), labels_train_extended)"
   ]
  },
  {
   "cell_type": "code",
   "execution_count": 216,
   "metadata": {
    "collapsed": true
   },
   "outputs": [],
   "source": [
    "random_forest_clf = RandomForestClassifier(n_estimators=10, max_depth=17, n_jobs=-1, warm_start=True)"
   ]
  },
  {
   "cell_type": "code",
   "execution_count": 217,
   "metadata": {
    "collapsed": true
   },
   "outputs": [],
   "source": [
    "accuracies = []\n",
    "n_estimators = [random_forest_clf.n_estimators]\n",
    "for estimators in range(10):\n",
    "    random_forest_clf.fit(pca_80.transform(digits_train_extended), labels_train_extended)\n",
    "    predictions = random_forest_clf.predict(pca_80.transform(digits_validation))\n",
    "    acc = accuracy_score(labels_validation, predictions)\n",
    "    random_forest_clf.n_estimators+= 10\n",
    "    n_estimators.append(random_forest_clf.n_estimators)\n",
    "    accuracies.append(acc)"
   ]
  },
  {
   "cell_type": "code",
   "execution_count": 218,
   "metadata": {},
   "outputs": [
    {
     "data": {
      "text/plain": [
       "<matplotlib.text.Text at 0x1e2b2374a20>"
      ]
     },
     "execution_count": 218,
     "metadata": {},
     "output_type": "execute_result"
    },
    {
     "data": {
      "image/png": "[encoded data removed]",
      "text/plain": [
       "<matplotlib.figure.Figure at 0x1e2b232e8d0>"
      ]
     },
     "metadata": {},
     "output_type": "display_data"
    }
   ],
   "source": [
    "f, ax = plt.subplots(figsize=(16,9))\n",
    "\n",
    "plt.plot(n_estimators[:-1], accuracies)\n",
    "ax.set_ylabel('Accuracy')\n",
    "ax.set_xlabel('n_estimators')\n",
    "ax.set_title('Accuracy on the validation set for a Random Forest with different number of trees')"
   ]
  },
  {
   "cell_type": "code",
   "execution_count": 221,
   "metadata": {},
   "outputs": [
    {
     "data": {
      "text/plain": [
       "80"
      ]
     },
     "execution_count": 221,
     "metadata": {},
     "output_type": "execute_result"
    }
   ],
   "source": [
    "n_estimators[np.argmax(accuracies) ]"
   ]
  },
  {
   "cell_type": "code",
   "execution_count": 219,
   "metadata": {},
   "outputs": [
    {
     "data": {
      "text/plain": [
       "0.95574999999999999"
      ]
     },
     "execution_count": 219,
     "metadata": {},
     "output_type": "execute_result"
    }
   ],
   "source": [
    "np.max(accuracies)"
   ]
  },
  {
   "cell_type": "markdown",
   "metadata": {},
   "source": [
    "Same trend as before, but we end up with 95.5% accuracy at 80 estimators.\n",
    "\n",
    "I think I will let this stand as my best Random Forest result.\n",
    "It does not beat the KNN-classifier, but it is quite an improvement from my first results!"
   ]
  },
  {
   "cell_type": "code",
   "execution_count": 273,
   "metadata": {},
   "outputs": [
    {
     "name": "stdout",
     "output_type": "stream",
     "text": [
      "Wall time: 1min 55s\n"
     ]
    },
    {
     "data": {
      "text/plain": [
       "RandomForestClassifier(bootstrap=True, class_weight=None, criterion='gini',\n",
       "            max_depth=17, max_features='auto', max_leaf_nodes=None,\n",
       "            min_impurity_decrease=0.0, min_impurity_split=None,\n",
       "            min_samples_leaf=1, min_samples_split=2,\n",
       "            min_weight_fraction_leaf=0.0, n_estimators=80, n_jobs=-1,\n",
       "            oob_score=False, random_state=None, verbose=0,\n",
       "            warm_start=False)"
      ]
     },
     "execution_count": 273,
     "metadata": {},
     "output_type": "execute_result"
    }
   ],
   "source": [
    "best_random_forest_clf = RandomForestClassifier(n_estimators=80, max_depth=17, n_jobs=-1)\n",
    "%time best_random_forest_clf.fit(pca_80.transform(digits_train_extended), labels_train_extended)"
   ]
  },
  {
   "cell_type": "code",
   "execution_count": 275,
   "metadata": {},
   "outputs": [],
   "source": [
    "import pickle\n",
    "\n",
    "with open('random_forest.pkl', 'wb') as f :\n",
    "    pickle.dump(best_random_forest_clf, f)"
   ]
  },
  {
   "cell_type": "markdown",
   "metadata": {},
   "source": [
    "### Extra Random Forest\n",
    "Extra Random Forest is a variant of Random Forest that adds an extra level of randomness.\n",
    "\n",
    "A Random Forest chooses a random subset of features for each node, and then sets a threshold optimising some loss function.\n",
    "An Extra Random Forest sets this threshold randomly, this makes the trees more biased but with less variance, it also makes them very fast to train.\n",
    "Lets see how an Extra Random Forest compares to my best Random Forest."
   ]
  },
  {
   "cell_type": "code",
   "execution_count": 223,
   "metadata": {
    "collapsed": true
   },
   "outputs": [],
   "source": [
    "from sklearn.ensemble import ExtraTreesClassifier"
   ]
  },
  {
   "cell_type": "code",
   "execution_count": 234,
   "metadata": {
    "collapsed": true
   },
   "outputs": [],
   "source": [
    "extra_forest_clf = ExtraTreesClassifier(n_estimators=10, max_depth=17, n_jobs=-1, warm_start=True)"
   ]
  },
  {
   "cell_type": "code",
   "execution_count": 235,
   "metadata": {},
   "outputs": [],
   "source": [
    "accuracies = []\n",
    "n_estimators = []\n",
    "for estimators in range(15):\n",
    "    extra_forest_clf.fit(pca_80.transform(digits_train_extended), labels_train_extended)\n",
    "    predictions = extra_forest_clf.predict(pca_80.transform(digits_validation))\n",
    "    acc = accuracy_score(labels_validation, predictions)\n",
    "    n_estimators.append(extra_forest_clf.n_estimators)\n",
    "    extra_forest_clf.n_estimators+= 10\n",
    "    accuracies.append(acc)"
   ]
  },
  {
   "cell_type": "code",
   "execution_count": 236,
   "metadata": {},
   "outputs": [
    {
     "data": {
      "text/plain": [
       "<matplotlib.text.Text at 0x1e2b6643cc0>"
      ]
     },
     "execution_count": 236,
     "metadata": {},
     "output_type": "execute_result"
    },
    {
     "data": {
      "image/png": "[encoded data removed]",
      "text/plain": [
       "<matplotlib.figure.Figure at 0x1e2b666a400>"
      ]
     },
     "metadata": {},
     "output_type": "display_data"
    }
   ],
   "source": [
    "f, ax = plt.subplots(figsize=(16,9))\n",
    "\n",
    "plt.plot(n_estimators, accuracies)\n",
    "ax.set_ylabel('Accuracy')\n",
    "ax.set_xlabel('n_estimators')\n",
    "ax.set_title('Accuracy on the validation set for an Extra Random Forest with different number of trees')"
   ]
  },
  {
   "cell_type": "code",
   "execution_count": 237,
   "metadata": {},
   "outputs": [
    {
     "data": {
      "text/plain": [
       "140"
      ]
     },
     "execution_count": 237,
     "metadata": {},
     "output_type": "execute_result"
    }
   ],
   "source": [
    "n_estimators[np.argmax(accuracies) ]"
   ]
  },
  {
   "cell_type": "code",
   "execution_count": 238,
   "metadata": {},
   "outputs": [
    {
     "data": {
      "text/plain": [
       "0.95274999999999999"
      ]
     },
     "execution_count": 238,
     "metadata": {},
     "output_type": "execute_result"
    }
   ],
   "source": [
    "np.max(accuracies)"
   ]
  },
  {
   "cell_type": "markdown",
   "metadata": {},
   "source": [
    "Similar results as the Random Forest!"
   ]
  },
  {
   "cell_type": "code",
   "execution_count": 276,
   "metadata": {},
   "outputs": [
    {
     "name": "stdout",
     "output_type": "stream",
     "text": [
      "Wall time: 46.8 s\n"
     ]
    },
    {
     "data": {
      "text/plain": [
       "ExtraTreesClassifier(bootstrap=False, class_weight=None, criterion='gini',\n",
       "           max_depth=17, max_features='auto', max_leaf_nodes=None,\n",
       "           min_impurity_decrease=0.0, min_impurity_split=None,\n",
       "           min_samples_leaf=1, min_samples_split=2,\n",
       "           min_weight_fraction_leaf=0.0, n_estimators=140, n_jobs=-1,\n",
       "           oob_score=False, random_state=None, verbose=0, warm_start=False)"
      ]
     },
     "execution_count": 276,
     "metadata": {},
     "output_type": "execute_result"
    }
   ],
   "source": [
    "best_extra_random_forest_clf = ExtraTreesClassifier(n_estimators=140, max_depth=17, n_jobs=-1)\n",
    "%time best_extra_random_forest_clf.fit(pca_80.transform(digits_train_extended), labels_train_extended)"
   ]
  },
  {
   "cell_type": "code",
   "execution_count": 277,
   "metadata": {
    "collapsed": true
   },
   "outputs": [],
   "source": [
    "with open('extra_random_forest.pkl', 'wb') as f :\n",
    "    pickle.dump(best_extra_random_forest_clf, f)"
   ]
  },
  {
   "cell_type": "markdown",
   "metadata": {},
   "source": [
    "## Boosting\n",
    "Lets try another approach to ensamble learning, boosting.\n",
    "Boosting build on the idea of training models sequentially, with each model trying to correct its predecessor.\n",
    "\n",
    "I will be using a boosting method called AdaBoost, which adapts the weights of each training instance based on the errors of its predecessor."
   ]
  },
  {
   "cell_type": "markdown",
   "metadata": {},
   "source": [
    "### AdaBoost\n",
    "AdaBoost trains weak classifiers sequentially, and updates the weight of each training sample based on the errors of the previous classifier."
   ]
  },
  {
   "cell_type": "code",
   "execution_count": 246,
   "metadata": {
    "collapsed": true
   },
   "outputs": [],
   "source": [
    "from sklearn.ensemble import AdaBoostClassifier"
   ]
  },
  {
   "cell_type": "code",
   "execution_count": 261,
   "metadata": {},
   "outputs": [],
   "source": [
    "ada_clf = AdaBoostClassifier(n_estimators=100, base_estimator=DecisionTreeClassifier(max_depth=8), learning_rate=.5, algorithm=\"SAMME.R\")"
   ]
  },
  {
   "cell_type": "code",
   "execution_count": 262,
   "metadata": {},
   "outputs": [
    {
     "name": "stdout",
     "output_type": "stream",
     "text": [
      "Wall time: 30min 7s\n"
     ]
    },
    {
     "data": {
      "text/plain": [
       "AdaBoostClassifier(algorithm='SAMME.R',\n",
       "          base_estimator=DecisionTreeClassifier(class_weight=None, criterion='gini', max_depth=8,\n",
       "            max_features=None, max_leaf_nodes=None,\n",
       "            min_impurity_decrease=0.0, min_impurity_split=None,\n",
       "            min_samples_leaf=1, min_samples_split=2,\n",
       "            min_weight_fraction_leaf=0.0, presort=False, random_state=None,\n",
       "            splitter='best'),\n",
       "          learning_rate=0.5, n_estimators=100, random_state=None)"
      ]
     },
     "execution_count": 262,
     "metadata": {},
     "output_type": "execute_result"
    }
   ],
   "source": [
    "%time ada_clf.fit(pca_80.transform(digits_train_extended), labels_train_extended)"
   ]
  },
  {
   "cell_type": "code",
   "execution_count": 263,
   "metadata": {},
   "outputs": [],
   "source": [
    "predictions = ada_clf.predict(pca_80.transform(digits_validation))"
   ]
  },
  {
   "cell_type": "code",
   "execution_count": 264,
   "metadata": {},
   "outputs": [
    {
     "data": {
      "text/plain": [
       "0.90637500000000004"
      ]
     },
     "execution_count": 264,
     "metadata": {},
     "output_type": "execute_result"
    }
   ],
   "source": [
    "accuracy_score(labels_validation, predictions)"
   ]
  },
  {
   "cell_type": "markdown",
   "metadata": {},
   "source": [
    "Long training time and poor results. I should probably have opted for a more complex model with fewer estimators."
   ]
  },
  {
   "cell_type": "code",
   "execution_count": 266,
   "metadata": {
    "collapsed": true
   },
   "outputs": [],
   "source": [
    "ada_clf2 = AdaBoostClassifier(n_estimators=10, base_estimator=DecisionTreeClassifier(max_depth=17), learning_rate=.5, algorithm=\"SAMME.R\")"
   ]
  },
  {
   "cell_type": "code",
   "execution_count": 267,
   "metadata": {},
   "outputs": [
    {
     "name": "stdout",
     "output_type": "stream",
     "text": [
      "Wall time: 6min 47s\n"
     ]
    },
    {
     "data": {
      "text/plain": [
       "AdaBoostClassifier(algorithm='SAMME.R',\n",
       "          base_estimator=DecisionTreeClassifier(class_weight=None, criterion='gini', max_depth=17,\n",
       "            max_features=None, max_leaf_nodes=None,\n",
       "            min_impurity_decrease=0.0, min_impurity_split=None,\n",
       "            min_samples_leaf=1, min_samples_split=2,\n",
       "            min_weight_fraction_leaf=0.0, presort=False, random_state=None,\n",
       "            splitter='best'),\n",
       "          learning_rate=0.5, n_estimators=10, random_state=None)"
      ]
     },
     "execution_count": 267,
     "metadata": {},
     "output_type": "execute_result"
    }
   ],
   "source": [
    "%time ada_clf2.fit(pca_80.transform(digits_train_extended), labels_train_extended)"
   ]
  },
  {
   "cell_type": "code",
   "execution_count": 268,
   "metadata": {
    "collapsed": true
   },
   "outputs": [],
   "source": [
    "predictions = ada_clf2.predict(pca_80.transform(digits_validation))"
   ]
  },
  {
   "cell_type": "code",
   "execution_count": 269,
   "metadata": {},
   "outputs": [
    {
     "data": {
      "text/plain": [
       "0.91925000000000001"
      ]
     },
     "execution_count": 269,
     "metadata": {},
     "output_type": "execute_result"
    }
   ],
   "source": [
    "accuracy_score(labels_validation, predictions)"
   ]
  },
  {
   "cell_type": "markdown",
   "metadata": {},
   "source": [
    "Better result with lower training time. \n",
    "I could probably increase `n_estimators` a bit more, but I don't feel like waiting for more training.\n",
    "KNN and Random Forest both performed better with less training time."
   ]
  },
  {
   "cell_type": "code",
   "execution_count": 313,
   "metadata": {},
   "outputs": [],
   "source": [
    "best_ada_clf = ada_clf2"
   ]
  },
  {
   "cell_type": "code",
   "execution_count": 314,
   "metadata": {
    "collapsed": true
   },
   "outputs": [],
   "source": [
    "with open('ada_boost.pkl', 'wb') as f :\n",
    "    pickle.dump(best_ada_clf, f)"
   ]
  },
  {
   "cell_type": "markdown",
   "metadata": {},
   "source": [
    "## Combining my classifiers\n",
    "I have trained some pretty different classifiers. Lets see what happens if I combine them! \n",
    "\n",
    "Comments on the classifiers:\n",
    "* KNN - Classifier\n",
    "    * ~98% Accuracy, the best by far\n",
    "* Random Forest\n",
    "    * ~95.5% Accuracy\n",
    "* Extra Random Forest\n",
    "    * ~95% Accuracy, model could be pretty similar to the RandomForest model, might not be a good idea to include\n",
    "* AdaBoost\n",
    "    * ~92% Accuracy, the worst model of the bunch. Lets see if it contributes anything in an ensamble!\n",
    "    \n",
    "All models are able to predict probabilities, so weak voting can be used!"
   ]
  },
  {
   "cell_type": "raw",
   "metadata": {},
   "source": [
    "knn = pickle.load(open('knn.pkl', 'rb'))\n",
    "best_random_forest_clf = pickle.load(open('random_forest.pkl', 'rb'))\n",
    "best_extra_random_forest_clf = pickle.load(open('extra_random_forest.pkl', 'rb'))\n",
    "best_ada_clf = pickle.load(open('ada_boost.pkl', 'rb'))"
   ]
  },
  {
   "cell_type": "markdown",
   "metadata": {},
   "source": [
    "sklearns Voting Classifier does not handle pre fitted models. Lets implement a simple voting classifier."
   ]
  },
  {
   "cell_type": "code",
   "execution_count": 317,
   "metadata": {
    "collapsed": true
   },
   "outputs": [],
   "source": [
    "from sklearn.base import ClassifierMixin, TransformerMixin"
   ]
  },
  {
   "cell_type": "code",
   "execution_count": 318,
   "metadata": {},
   "outputs": [],
   "source": [
    "# Inspired by:\n",
    "# https://github.com/scikit-learn/scikit-learn/blob/a24c8b46/sklearn/ensemble/voting_classifier.py\n",
    "class SimpleVotingClassifier(ClassifierMixin, TransformerMixin):\n",
    "    def __init__(self, estimators, labels, voting='soft'):\n",
    "        self.estimators = estimators\n",
    "        self.voting = voting\n",
    "        self.labels = labels\n",
    "        \n",
    "    def predict(self, X):\n",
    "        if self.voting == \"soft\":\n",
    "            result = np.argmax(self.predict_proba(X), axis=1)\n",
    "        else:\n",
    "            # Not supported yet\n",
    "            pass\n",
    "        return np.asarray([self.labels[i] for i in result])\n",
    "        \n",
    "            \n",
    "    def predict_proba(self, X):\n",
    "        probas = np.asarray([clf.predict_proba(X) for clf in self.estimators])\n",
    "        return np.average(probas, axis=0)\n",
    "        "
   ]
  },
  {
   "cell_type": "markdown",
   "metadata": {},
   "source": [
    "### AdaBoost + RandomForest + KNN"
   ]
  },
  {
   "cell_type": "code",
   "execution_count": 319,
   "metadata": {},
   "outputs": [],
   "source": [
    "voting_clf = SimpleVotingClassifier(\n",
    "        estimators = [knn, best_random_forest_clf, best_ada_clf],\n",
    "        labels = knn.classes_,\n",
    "        voting = 'soft'\n",
    "        \n",
    ")"
   ]
  },
  {
   "cell_type": "code",
   "execution_count": 325,
   "metadata": {},
   "outputs": [
    {
     "name": "stdout",
     "output_type": "stream",
     "text": [
      "Wall time: 43.2 s\n"
     ]
    }
   ],
   "source": [
    "%time predictions = np.asarray([voting_clf.predict(pca_80.transform(digits_validation[i*1000:(i+1)*1000])) for i in range(len(digits_validation) // 1000)]).flatten()"
   ]
  },
  {
   "cell_type": "code",
   "execution_count": 329,
   "metadata": {},
   "outputs": [
    {
     "data": {
      "text/plain": [
       "0.96825000000000006"
      ]
     },
     "execution_count": 329,
     "metadata": {},
     "output_type": "execute_result"
    }
   ],
   "source": [
    "accuracy_score(labels_validation, predictions)"
   ]
  },
  {
   "cell_type": "markdown",
   "metadata": {},
   "source": [
    "Better than both AdaBoost and RandomForest, but worse than KNN."
   ]
  },
  {
   "cell_type": "markdown",
   "metadata": {},
   "source": [
    "### Random Forest + Extra Forest + KNN"
   ]
  },
  {
   "cell_type": "code",
   "execution_count": 330,
   "metadata": {
    "collapsed": true
   },
   "outputs": [],
   "source": [
    "voting_clf = SimpleVotingClassifier(\n",
    "        estimators = [knn, best_random_forest_clf, extra_forest_clf],\n",
    "        labels = knn.classes_,\n",
    "        voting = 'soft'\n",
    "        \n",
    ")"
   ]
  },
  {
   "cell_type": "code",
   "execution_count": 331,
   "metadata": {},
   "outputs": [
    {
     "name": "stdout",
     "output_type": "stream",
     "text": [
      "Wall time: 46 s\n"
     ]
    }
   ],
   "source": [
    "%time predictions = np.asarray([voting_clf.predict(pca_80.transform(digits_validation[i*1000:(i+1)*1000])) for i in range(len(digits_validation) // 1000)]).flatten()"
   ]
  },
  {
   "cell_type": "code",
   "execution_count": 332,
   "metadata": {},
   "outputs": [
    {
     "data": {
      "text/plain": [
       "0.97912500000000002"
      ]
     },
     "execution_count": 332,
     "metadata": {},
     "output_type": "execute_result"
    }
   ],
   "source": [
    "accuracy_score(labels_validation, predictions)"
   ]
  },
  {
   "cell_type": "markdown",
   "metadata": {},
   "source": [
    "Even better, but still not as good as the KNN-classifier."
   ]
  },
  {
   "cell_type": "markdown",
   "metadata": {},
   "source": [
    "### Random Forest + KNN\n",
    "Lets try just our two best classifiers. With hard voting it would make no sense to combine just two classifier, but with soft voting it could help."
   ]
  },
  {
   "cell_type": "code",
   "execution_count": 333,
   "metadata": {
    "collapsed": true
   },
   "outputs": [],
   "source": [
    "voting_clf = SimpleVotingClassifier(\n",
    "        estimators = [knn, best_random_forest_clf],\n",
    "        labels = knn.classes_,\n",
    "        voting = 'soft'\n",
    "        \n",
    ")"
   ]
  },
  {
   "cell_type": "code",
   "execution_count": 334,
   "metadata": {},
   "outputs": [
    {
     "name": "stdout",
     "output_type": "stream",
     "text": [
      "Wall time: 50 s\n"
     ]
    }
   ],
   "source": [
    "%time predictions = np.asarray([voting_clf.predict(pca_80.transform(digits_validation[i*1000:(i+1)*1000])) for i in range(len(digits_validation) // 1000)]).flatten()"
   ]
  },
  {
   "cell_type": "code",
   "execution_count": 335,
   "metadata": {},
   "outputs": [
    {
     "data": {
      "text/plain": [
       "0.97950000000000004"
      ]
     },
     "execution_count": 335,
     "metadata": {},
     "output_type": "execute_result"
    }
   ],
   "source": [
    "accuracy_score(labels_validation, predictions)"
   ]
  },
  {
   "cell_type": "markdown",
   "metadata": {},
   "source": [
    "Very similar to what the KNN achieves on its own. \n",
    "I wonder if the KNN predicts higher probabilities than the Random Forest, and therefore dominates all votes?"
   ]
  },
  {
   "cell_type": "code",
   "execution_count": 336,
   "metadata": {},
   "outputs": [
    {
     "name": "stdout",
     "output_type": "stream",
     "text": [
      "Wall time: 44 s\n"
     ]
    }
   ],
   "source": [
    "%time knn_predictions = np.asarray([knn.predict(pca_80.transform(digits_validation[i*1000:(i+1)*1000])) for i in range(len(digits_validation) // 1000)]).flatten()"
   ]
  },
  {
   "cell_type": "code",
   "execution_count": 338,
   "metadata": {},
   "outputs": [
    {
     "name": "stdout",
     "output_type": "stream",
     "text": [
      "Wall time: 900 ms\n"
     ]
    }
   ],
   "source": [
    "%time rand_forest_predictions = np.asarray([best_random_forest_clf.predict(pca_80.transform(digits_validation[i*1000:(i+1)*1000])) for i in range(len(digits_validation) // 1000)]).flatten()"
   ]
  },
  {
   "cell_type": "code",
   "execution_count": 337,
   "metadata": {},
   "outputs": [
    {
     "data": {
      "text/plain": [
       "0.99662499999999998"
      ]
     },
     "execution_count": 337,
     "metadata": {},
     "output_type": "execute_result"
    }
   ],
   "source": [
    "accuracy_score(predictions, knn_predictions)"
   ]
  },
  {
   "cell_type": "markdown",
   "metadata": {},
   "source": [
    "In 99.7% of all cases the knn classifier agrees with the choice of the voting classifier."
   ]
  },
  {
   "cell_type": "code",
   "execution_count": 340,
   "metadata": {},
   "outputs": [
    {
     "data": {
      "text/plain": [
       "0.95550000000000002"
      ]
     },
     "execution_count": 340,
     "metadata": {},
     "output_type": "execute_result"
    }
   ],
   "source": [
    "accuracy_score(knn_predictions, rand_forest_predictions)"
   ]
  },
  {
   "cell_type": "markdown",
   "metadata": {},
   "source": [
    "In 95.6 % of all cases the KNN-classifier and the Random Forest Classifier agree."
   ]
  },
  {
   "cell_type": "code",
   "execution_count": 372,
   "metadata": {},
   "outputs": [
    {
     "name": "stdout",
     "output_type": "stream",
     "text": [
      "Wall time: 46.9 s\n"
     ]
    }
   ],
   "source": [
    "%time knn_probas = np.asarray([knn.predict_proba(pca_80.transform(digits_validation[i*1000:(i+1)*1000])).max(axis=1) for i in range(len(digits_validation) // 1000)]).flatten()"
   ]
  },
  {
   "cell_type": "code",
   "execution_count": 373,
   "metadata": {},
   "outputs": [
    {
     "name": "stdout",
     "output_type": "stream",
     "text": [
      "Wall time: 965 ms\n"
     ]
    }
   ],
   "source": [
    "%time random_forest_probas = np.asarray([best_random_forest_clf.predict_proba(pca_80.transform(digits_validation[i*1000:(i+1)*1000])).max(axis=1) for i in range(len(digits_validation) // 1000)]).flatten()"
   ]
  },
  {
   "cell_type": "code",
   "execution_count": 374,
   "metadata": {},
   "outputs": [],
   "source": [
    "df = pd.DataFrame(columns = ['label', 'knn_pred', 'knn_proba', 'rand_forest_pred', 'rand_forest_proba', 'vote_pred'], data=np.asarray([labels_validation, knn_predictions, knn_probas, rand_forest_predictions, random_forest_probas, predictions]).T)"
   ]
  },
  {
   "cell_type": "code",
   "execution_count": 359,
   "metadata": {},
   "outputs": [
    {
     "data": {
      "text/plain": [
       "356"
      ]
     },
     "execution_count": 359,
     "metadata": {},
     "output_type": "execute_result"
    }
   ],
   "source": [
    "len(df[(df['knn_pred'] != df['rand_forest_pred'])])"
   ]
  },
  {
   "cell_type": "code",
   "execution_count": 358,
   "metadata": {},
   "outputs": [
    {
     "data": {
      "text/plain": [
       "25"
      ]
     },
     "execution_count": 358,
     "metadata": {},
     "output_type": "execute_result"
    }
   ],
   "source": [
    "len(df[(df['knn_pred'] != df['rand_forest_pred']) & (df['vote_pred'] == df['rand_forest_pred'])])"
   ]
  },
  {
   "cell_type": "markdown",
   "metadata": {},
   "source": [
    "The Random Forest got to overrule the KNN-classifier in 25 votes out of 356 disagreements."
   ]
  },
  {
   "cell_type": "code",
   "execution_count": 377,
   "metadata": {},
   "outputs": [
    {
     "data": {
      "text/plain": [
       "57"
      ]
     },
     "execution_count": 377,
     "metadata": {},
     "output_type": "execute_result"
    }
   ],
   "source": [
    "len(df[(df['knn_pred'] != df['rand_forest_pred']) & (df['rand_forest_pred'] == df['label'])])"
   ]
  },
  {
   "cell_type": "markdown",
   "metadata": {},
   "source": [
    "Out of the 356 disagreements the Random Forest was right in 57 cases. So often it is good that the voting classifier chooses the vote of the KNN-classifier.\n",
    "\n",
    "I suspect that it is not really fair to compare the probabilities of a KNN-classifier with just 3 neighbours and the RandomForest though. \n",
    "The KNN-classifier will always predict a probability of either 1/3, 2/3 or 3/3 for its winning choice, which gives the Random Forest quite arbitrary probabilities to beat if it is going to overrule the KNN-classifier. Lets have a look at how certain the two classifiers are of their different votes."
   ]
  },
  {
   "cell_type": "code",
   "execution_count": 390,
   "metadata": {},
   "outputs": [],
   "source": [
    "bins_forest = np.histogram(df['rand_forest_proba'], bins = np.arange(0, 1.1, .1))\n",
    "bins_knn = np.histogram(df['knn_proba'], bins = np.arange(0, 1.1, .1))"
   ]
  },
  {
   "cell_type": "code",
   "execution_count": 407,
   "metadata": {
    "collapsed": true
   },
   "outputs": [],
   "source": [
    "bins = ['{}-{}%'.format(int(i*100), int((i+.1)*100)) for i in np.arange(0, 1, .1)]"
   ]
  },
  {
   "cell_type": "code",
   "execution_count": 414,
   "metadata": {},
   "outputs": [
    {
     "data": {
      "text/plain": [
       "<matplotlib.text.Text at 0x1e2b118b128>"
      ]
     },
     "execution_count": 414,
     "metadata": {},
     "output_type": "execute_result"
    },
    {
     "data": {
      "image/png": "[encoded data removed]",
      "text/plain": [
       "<matplotlib.figure.Figure at 0x1e2b113e668>"
      ]
     },
     "metadata": {},
     "output_type": "display_data"
    }
   ],
   "source": [
    "f, ax = plt.subplots(figsize=(16,9))\n",
    "\n",
    "knn_df = pd.DataFrame(columns=['Certainty', 'count'], data = np.asarray([bins, bins_knn[0]]).T)\n",
    "knn_df['classifier'] = 'KNN'\n",
    "rand_forest_df = pd.DataFrame(columns=['Certainty', 'count'], data = np.asarray([bins, bins_forest[0]]).T)\n",
    "rand_forest_df['classifier'] = 'Random Forest'\n",
    "\n",
    "df = pd.concat([knn_df, rand_forest_df])\n",
    "df['count'] = df['count'].astype(int)\n",
    "\n",
    "sns.barplot(x='Certainty', y='count', hue='classifier', data=df, ax=ax)\n",
    "ax.set_title('Number of predictions for different levels of certainty.')"
   ]
  },
  {
   "cell_type": "markdown",
   "metadata": {},
   "source": [
    "The KNN-classifier is almost always 100% confident in its choice, giving the Random Forest Classifier no room to overrule the decision in these cases.\n",
    "\n",
    "Lets try another value of K for the KNN classifier!"
   ]
  },
  {
   "cell_type": "markdown",
   "metadata": {},
   "source": [
    "### More neighbours!\n",
    "In my earlier results 3 neighbours prove optimal.\n",
    "Adding more neighbours gives weight to training samples further away from the instance being classified.\n",
    "This potentially makes the classifier less certain of what the best choice is, maybe this is a good thing in combination with the Random Forest, that will be able to assist with choices when the KNN does not feel certain."
   ]
  },
  {
   "cell_type": "code",
   "execution_count": 417,
   "metadata": {},
   "outputs": [
    {
     "data": {
      "text/plain": [
       "KNeighborsClassifier(algorithm='brute', leaf_size=30, metric='minkowski',\n",
       "           metric_params=None, n_jobs=1, n_neighbors=4, p=2,\n",
       "           weights='uniform')"
      ]
     },
     "execution_count": 417,
     "metadata": {},
     "output_type": "execute_result"
    }
   ],
   "source": [
    "knn4 = KNeighborsClassifier(algorithm=\"brute\", n_neighbors=4)\n",
    "knn4.fit(pca_80.transform(digits_train_extended), labels_train_extended)"
   ]
  },
  {
   "cell_type": "code",
   "execution_count": 418,
   "metadata": {},
   "outputs": [],
   "source": [
    "voting_clf = SimpleVotingClassifier(\n",
    "        estimators = [knn4, best_random_forest_clf],\n",
    "        labels = knn4.classes_,\n",
    "        voting = 'soft'\n",
    "        \n",
    ")"
   ]
  },
  {
   "cell_type": "code",
   "execution_count": 419,
   "metadata": {},
   "outputs": [
    {
     "name": "stdout",
     "output_type": "stream",
     "text": [
      "Wall time: 1min 3s\n"
     ]
    }
   ],
   "source": [
    "%time predictions = np.asarray([voting_clf.predict(pca_80.transform(digits_validation[i*1000:(i+1)*1000])) for i in range(len(digits_validation) // 1000)]).flatten()"
   ]
  },
  {
   "cell_type": "code",
   "execution_count": 420,
   "metadata": {},
   "outputs": [
    {
     "data": {
      "text/plain": [
       "0.97899999999999998"
      ]
     },
     "execution_count": 420,
     "metadata": {},
     "output_type": "execute_result"
    }
   ],
   "source": [
    "accuracy_score(labels_validation, predictions)"
   ]
  },
  {
   "cell_type": "markdown",
   "metadata": {},
   "source": [
    "Hmm, lower accuracy, but only by a little. \n",
    "More neighbours means less variance, so maybe this model will generalise better on the test set. Lets try this one on the test set."
   ]
  },
  {
   "cell_type": "code",
   "execution_count": 432,
   "metadata": {},
   "outputs": [
    {
     "name": "stdout",
     "output_type": "stream",
     "text": [
      "Wall time: 3min 15s\n"
     ]
    }
   ],
   "source": [
    "%time predictions = np.asarray([voting_clf.predict(pca_80.transform(digits_test[i*1000:(i+1)*1000])) for i in range(len(digits_test) // 1000)]).flatten()"
   ]
  },
  {
   "cell_type": "code",
   "execution_count": 434,
   "metadata": {},
   "outputs": [],
   "source": [
    "submission_df = pd.DataFrame(list(zip(np.arange(1, 28001), predictions)), columns = ['ImageID', 'Label'])\n",
    "submission_df.set_index('ImageID').to_csv('Submissions/submission8.csv')"
   ]
  },
  {
   "cell_type": "markdown",
   "metadata": {},
   "source": [
    "98.2% accuracy, not an improvement over the KNN classifier.\n",
    "Of course, in one way I am at a dissadvantage this time as I set aside a validation set, but at the same time this should help me build a model that generalises better."
   ]
  },
  {
   "cell_type": "markdown",
   "metadata": {},
   "source": [
    "# Summary\n",
    "Playing around with ensemble methods has been very exciting.\n",
    "I am especially happy about finding a decent set of hyper parameters for Random Forest, as it performed so increadibly poorly with default parameters.\n",
    "\n",
    "When combining classifiers using a Voting Classifier it is important to consider how the different classifiers estimate probabilities.\n",
    "In my case, using a KNN-Classifier with k=3 and a Random Forest, it turned out that the RandomForest seldom reported higher confidence in its top choice compared to the KNN classifier which most of the time just estimated a 100% certainty."
   ]
  },
  {
   "cell_type": "code",
   "execution_count": null,
   "metadata": {
    "collapsed": true
   },
   "outputs": [],
   "source": []
  }
 ],
 "metadata": {
  "kernelspec": {
   "display_name": "Python 3",
   "language": "python",
   "name": "python3"
  },
  "language_info": {
   "codemirror_mode": {
    "name": "ipython",
    "version": 3
   },
   "file_extension": ".py",
   "mimetype": "text/x-python",
   "name": "python",
   "nbconvert_exporter": "python",
   "pygments_lexer": "ipython3",
   "version": "3.6.2"
  }
 },
 "nbformat": 4,
 "nbformat_minor": 2
}
