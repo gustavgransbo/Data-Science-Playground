{
 "cells": [
  {
   "cell_type": "markdown",
   "metadata": {},
   "source": [
    "# Quora Insincere Questions Classification\n",
    "The [Quora Insincere Questions Classification](https://www.kaggle.com/c/quora-insincere-questions-classification) Kaggle challenge tasks competitors to classify questions on the question asking website Quora as insincere or sincere. \n",
    "\n",
    "In this notebook I compare some different pre-processing alternatives as input to FastText's classifier."
   ]
  },
  {
   "cell_type": "markdown",
   "metadata": {},
   "source": [
    "# Inspect the data\n",
    "I will not perform a through analysis of the dataset, but it is useful to get a basic understanding of what the data looks like."
   ]
  },
  {
   "cell_type": "code",
   "execution_count": 1,
   "metadata": {
    "collapsed": true
   },
   "outputs": [],
   "source": [
    "import pandas as pd"
   ]
  },
  {
   "cell_type": "code",
   "execution_count": 2,
   "metadata": {
    "collapsed": true
   },
   "outputs": [],
   "source": [
    "train_df = pd.read_csv('data/train.csv')"
   ]
  },
  {
   "cell_type": "code",
   "execution_count": 3,
   "metadata": {},
   "outputs": [
    {
     "data": {
      "text/html": [
       "<div>\n",
       "<style scoped>\n",
       "    .dataframe tbody tr th:only-of-type {\n",
       "        vertical-align: middle;\n",
       "    }\n",
       "\n",
       "    .dataframe tbody tr th {\n",
       "        vertical-align: top;\n",
       "    }\n",
       "\n",
       "    .dataframe thead th {\n",
       "        text-align: right;\n",
       "    }\n",
       "</style>\n",
       "<table border=\"1\" class=\"dataframe\">\n",
       "  <thead>\n",
       "    <tr style=\"text-align: right;\">\n",
       "      <th></th>\n",
       "      <th>qid</th>\n",
       "      <th>question_text</th>\n",
       "      <th>target</th>\n",
       "    </tr>\n",
       "  </thead>\n",
       "  <tbody>\n",
       "    <tr>\n",
       "      <th>0</th>\n",
       "      <td>00002165364db923c7e6</td>\n",
       "      <td>How did Quebec nationalists see their province...</td>\n",
       "      <td>0</td>\n",
       "    </tr>\n",
       "    <tr>\n",
       "      <th>1</th>\n",
       "      <td>000032939017120e6e44</td>\n",
       "      <td>Do you have an adopted dog, how would you enco...</td>\n",
       "      <td>0</td>\n",
       "    </tr>\n",
       "    <tr>\n",
       "      <th>2</th>\n",
       "      <td>0000412ca6e4628ce2cf</td>\n",
       "      <td>Why does velocity affect time? Does velocity a...</td>\n",
       "      <td>0</td>\n",
       "    </tr>\n",
       "    <tr>\n",
       "      <th>3</th>\n",
       "      <td>000042bf85aa498cd78e</td>\n",
       "      <td>How did Otto von Guericke used the Magdeburg h...</td>\n",
       "      <td>0</td>\n",
       "    </tr>\n",
       "    <tr>\n",
       "      <th>4</th>\n",
       "      <td>0000455dfa3e01eae3af</td>\n",
       "      <td>Can I convert montra helicon D to a mountain b...</td>\n",
       "      <td>0</td>\n",
       "    </tr>\n",
       "  </tbody>\n",
       "</table>\n",
       "</div>"
      ],
      "text/plain": [
       "                    qid                                      question_text  \\\n",
       "0  00002165364db923c7e6  How did Quebec nationalists see their province...   \n",
       "1  000032939017120e6e44  Do you have an adopted dog, how would you enco...   \n",
       "2  0000412ca6e4628ce2cf  Why does velocity affect time? Does velocity a...   \n",
       "3  000042bf85aa498cd78e  How did Otto von Guericke used the Magdeburg h...   \n",
       "4  0000455dfa3e01eae3af  Can I convert montra helicon D to a mountain b...   \n",
       "\n",
       "   target  \n",
       "0       0  \n",
       "1       0  \n",
       "2       0  \n",
       "3       0  \n",
       "4       0  "
      ]
     },
     "execution_count": 3,
     "metadata": {},
     "output_type": "execute_result"
    }
   ],
   "source": [
    "train_df.head()"
   ]
  },
  {
   "cell_type": "code",
   "execution_count": 4,
   "metadata": {},
   "outputs": [
    {
     "name": "stdout",
     "output_type": "stream",
     "text": [
      "There are 1306122 questions in the data set\n"
     ]
    }
   ],
   "source": [
    "print(\"There are %d questions in the data set\" % len(train_df))"
   ]
  },
  {
   "cell_type": "code",
   "execution_count": 5,
   "metadata": {},
   "outputs": [
    {
     "name": "stdout",
     "output_type": "stream",
     "text": [
      "6.19% of the questions are insincere\n"
     ]
    }
   ],
   "source": [
    "print(\"%.2f%% of the questions are insincere\" % (100 * train_df['target'].sum() / len(train_df)))"
   ]
  },
  {
   "cell_type": "markdown",
   "metadata": {},
   "source": [
    "The data set contains over 1.3 million questions, which is quite large. It is also very imbalanced, with just over 6% of all questions being labeled insincere."
   ]
  },
  {
   "cell_type": "markdown",
   "metadata": {},
   "source": [
    "# Tokenization\n",
    "I will not evaluate different tokenization methods, and will instead opt to use the standard spacy tokenizer."
   ]
  },
  {
   "cell_type": "code",
   "execution_count": 6,
   "metadata": {
    "collapsed": true
   },
   "outputs": [],
   "source": [
    "from spacy.lang.en import English"
   ]
  },
  {
   "cell_type": "code",
   "execution_count": 7,
   "metadata": {
    "collapsed": true
   },
   "outputs": [],
   "source": [
    "nlp = English()"
   ]
  },
  {
   "cell_type": "code",
   "execution_count": 8,
   "metadata": {},
   "outputs": [
    {
     "name": "stdout",
     "output_type": "stream",
     "text": [
      "Wall time: 12min 59s\n"
     ]
    }
   ],
   "source": [
    "%%time\n",
    "train_df['doc'] = train_df['question_text'].apply(nlp)"
   ]
  },
  {
   "cell_type": "markdown",
   "metadata": {},
   "source": [
    "It sure takes a while to process all the text."
   ]
  },
  {
   "cell_type": "code",
   "execution_count": 9,
   "metadata": {
    "collapsed": true
   },
   "outputs": [],
   "source": [
    "train_df['tokens'] = train_df['doc'].apply(len)"
   ]
  },
  {
   "cell_type": "code",
   "execution_count": 55,
   "metadata": {
    "collapsed": true
   },
   "outputs": [],
   "source": [
    "import matplotlib.pyplot as plt\n",
    "import seaborn as sns\n",
    "sns.set_style('whitegrid')\n",
    "\n",
    "%matplotlib inline"
   ]
  },
  {
   "cell_type": "code",
   "execution_count": 11,
   "metadata": {},
   "outputs": [
    {
     "data": {
      "text/plain": [
       "<matplotlib.text.Text at 0x2430816cd68>"
      ]
     },
     "execution_count": 11,
     "metadata": {},
     "output_type": "execute_result"
    },
    {
     "data": {
      "image/png": "[encoded data removed]",
      "text/plain": [
       "<matplotlib.figure.Figure at 0x24307d5a8d0>"
      ]
     },
     "metadata": {},
     "output_type": "display_data"
    }
   ],
   "source": [
    "f, ax = plt.subplots(figsize=(8, 4.5))\n",
    "sns.distplot(train_df['tokens'], ax=ax)\n",
    "ax.set_title('Distribution of question lengths')"
   ]
  },
  {
   "cell_type": "markdown",
   "metadata": {},
   "source": [
    "Most questions are less than 25 tokens, but there is a long tail of longer questions. The longest question is about 175 tokens long."
   ]
  },
  {
   "cell_type": "code",
   "execution_count": 12,
   "metadata": {},
   "outputs": [
    {
     "name": "stdout",
     "output_type": "stream",
     "text": [
      "There are 19020651 tokens in total\n"
     ]
    }
   ],
   "source": [
    "print(\"There are %d tokens in total\" % train_df['tokens'].sum())"
   ]
  },
  {
   "cell_type": "markdown",
   "metadata": {},
   "source": [
    "19 million tokens in the training set!"
   ]
  },
  {
   "cell_type": "markdown",
   "metadata": {},
   "source": [
    "# Set aside validation set\n",
    "Before I start peeking at what words are in the training data I will set aside 10% of the questions as validation set."
   ]
  },
  {
   "cell_type": "code",
   "execution_count": 13,
   "metadata": {
    "collapsed": true
   },
   "outputs": [],
   "source": [
    "from sklearn.model_selection import train_test_split"
   ]
  },
  {
   "cell_type": "code",
   "execution_count": 29,
   "metadata": {
    "collapsed": true
   },
   "outputs": [],
   "source": [
    "import numpy as np"
   ]
  },
  {
   "cell_type": "code",
   "execution_count": 15,
   "metadata": {},
   "outputs": [],
   "source": [
    "train_idx, val_idx = train_test_split(np.arange(len(train_df)), stratify = train_df['target'], random_state = 1, test_size = .1)"
   ]
  },
  {
   "cell_type": "code",
   "execution_count": 16,
   "metadata": {
    "collapsed": true
   },
   "outputs": [],
   "source": [
    "val_df = train_df.iloc[val_idx]"
   ]
  },
  {
   "cell_type": "code",
   "execution_count": 17,
   "metadata": {},
   "outputs": [],
   "source": [
    "train_df = train_df.iloc[train_idx]"
   ]
  },
  {
   "cell_type": "code",
   "execution_count": 18,
   "metadata": {},
   "outputs": [
    {
     "name": "stdout",
     "output_type": "stream",
     "text": [
      "1175509 training samples and 130613 validation samples.\n"
     ]
    }
   ],
   "source": [
    "print(\"%d training samples and %d validation samples.\"  % (len(train_df), len(val_df)))"
   ]
  },
  {
   "cell_type": "markdown",
   "metadata": {},
   "source": [
    "# Construct dictionaries\n",
    "I will be constructing three dictionaries right of the bat. They will be constructed based on:\n",
    "* Un-processed words\n",
    "* Lowercased words\n",
    "* Lemmatized and lowercased words"
   ]
  },
  {
   "cell_type": "code",
   "execution_count": 19,
   "metadata": {
    "collapsed": true
   },
   "outputs": [],
   "source": [
    "def aggregate_vocab(vocab, doc, processing = \"none\"):\n",
    "    for tok in doc:\n",
    "        if processing == \"none\":\n",
    "            word = tok.text\n",
    "        elif processing == \"lower\":\n",
    "            word = tok.text.lower()\n",
    "        elif processing == \"lemma\":\n",
    "            word = tok.lemma_.lower()\n",
    "        \n",
    "        try:\n",
    "            vocab[word] += 1\n",
    "        except KeyError:\n",
    "            vocab[word] = 1\n",
    "    \n",
    "    return vocab\n",
    "        "
   ]
  },
  {
   "cell_type": "code",
   "execution_count": 20,
   "metadata": {
    "collapsed": true
   },
   "outputs": [],
   "source": [
    "vocab_no_processing = {}\n",
    "vocab_lower = {}\n",
    "vocab_lemma = {}"
   ]
  },
  {
   "cell_type": "code",
   "execution_count": 21,
   "metadata": {
    "collapsed": true
   },
   "outputs": [],
   "source": [
    "from tqdm import tqdm_notebook"
   ]
  },
  {
   "cell_type": "code",
   "execution_count": 22,
   "metadata": {},
   "outputs": [
    {
     "data": {
      "application/vnd.jupyter.widget-view+json": {
       "model_id": "d77ddd16f1e74bf781bcc4832c0782f0",
       "version_major": 2,
       "version_minor": 0
      },
      "text/plain": [
       "A Jupyter Widget"
      ]
     },
     "metadata": {},
     "output_type": "display_data"
    },
    {
     "name": "stdout",
     "output_type": "stream",
     "text": [
      "\n",
      "Wall time: 4min 19s\n"
     ]
    }
   ],
   "source": [
    "%%time\n",
    "for doc in tqdm_notebook(train_df.loc[:,'doc']):\n",
    "    vocab_no_processing = aggregate_vocab(vocab_no_processing, doc)\n",
    "    vocab_lower = aggregate_vocab(vocab_lower, doc, processing = \"lower\")\n",
    "    vocab_lemma = aggregate_vocab(vocab_lemma, doc, processing = \"lemma\")"
   ]
  },
  {
   "cell_type": "code",
   "execution_count": 23,
   "metadata": {
    "collapsed": true
   },
   "outputs": [],
   "source": [
    "n_tokens = train_df['tokens'].sum()"
   ]
  },
  {
   "cell_type": "code",
   "execution_count": 24,
   "metadata": {},
   "outputs": [
    {
     "name": "stdout",
     "output_type": "stream",
     "text": [
      "The training set contains 17118554 tokens\n",
      "\n",
      "There are 246461 unique un-processed tokens\n",
      "There are 206333 unique lower case tokens\n",
      "There are 192767 unique lemmatized tokens\n"
     ]
    }
   ],
   "source": [
    "print(\"The training set contains %d tokens\\n\" % n_tokens)\n",
    "print(\"There are %d unique un-processed tokens\" % len(vocab_no_processing))\n",
    "print(\"There are %d unique lower case tokens\" % len(vocab_lower))\n",
    "print(\"There are %d unique lemmatized tokens\" % len(vocab_lemma))"
   ]
  },
  {
   "cell_type": "markdown",
   "metadata": {},
   "source": [
    "Let's plot the distribution of word occurences per word type in each dictionary."
   ]
  },
  {
   "cell_type": "code",
   "execution_count": 25,
   "metadata": {},
   "outputs": [
    {
     "data": {
      "text/plain": [
       "<matplotlib.legend.Legend at 0x2430be4c9e8>"
      ]
     },
     "execution_count": 25,
     "metadata": {},
     "output_type": "execute_result"
    },
    {
     "data": {
      "image/png": "[encoded data removed]",
      "text/plain": [
       "<matplotlib.figure.Figure at 0x2430be4cac8>"
      ]
     },
     "metadata": {},
     "output_type": "display_data"
    }
   ],
   "source": [
    "f, ax = plt.subplots(figsize=(8,4.5))\n",
    "ax.set_xlabel('Rank')\n",
    "ax.set_ylabel('Occurences')\n",
    "\n",
    "for vocab in [vocab_no_processing, vocab_lower, vocab_lemma]:\n",
    "    ax.plot(sorted(list(vocab.values()), reverse=True)[:200])\n",
    "    \n",
    "ax.legend(['No Processing', 'Lower Case', 'Lemmatized'])"
   ]
  },
  {
   "cell_type": "markdown",
   "metadata": {},
   "source": [
    "All occurences have  couple of very common words, and a long tail of less frequent words. \n",
    "\n",
    "Very frequent words (stop words) such as \"the\", \"it\" etc. are often not that informative for classification, since they usually appear in all texts regardless of class. \n",
    "However, stop words can carry information about a persons style of writing. \n",
    "Some people might make heavier use of the word \"I\" for example.\n",
    "It seems plausible that insincere questions might be written in another style compared to sincere questions, so I would like to try both with and without them.\n",
    "\n",
    "Very infrequent words on the other hand carry little meaning for classification.\n",
    "If a word appears very few times it is unlikely to carry information about the classes that generalise well. \n",
    "Also, such infrequent words often make up most of the vocabulary.\n",
    "Therefore, I will prune any words that appear less than 50 times."
   ]
  },
  {
   "cell_type": "code",
   "execution_count": 26,
   "metadata": {},
   "outputs": [],
   "source": [
    "vocab_no_processing_pruned = dict([(word, count) for word, count in vocab_no_processing.items() if count >= 50])\n",
    "vocab_lower_pruned = dict([(word, count) for word, count in vocab_lower.items() if count >= 50])\n",
    "vocab_lemma_pruned = dict([(word, count) for word, count in vocab_lemma.items() if count >= 50])"
   ]
  },
  {
   "cell_type": "code",
   "execution_count": 27,
   "metadata": {},
   "outputs": [
    {
     "name": "stdout",
     "output_type": "stream",
     "text": [
      "There are 14119 unique un-processed tokens that appear 50 times or more\n",
      "There are 13486 unique lower case tokens that appear 50 times or more\n",
      "There are 10670 unique lemmatized tokens that appear 50 times or more\n"
     ]
    }
   ],
   "source": [
    "print(\"There are %d unique un-processed tokens that appear 50 times or more\" % len(vocab_no_processing_pruned))\n",
    "print(\"There are %d unique lower case tokens that appear 50 times or more\" % len(vocab_lower_pruned))\n",
    "print(\"There are %d unique lemmatized tokens that appear 50 times or more\" % len(vocab_lemma_pruned))"
   ]
  },
  {
   "cell_type": "code",
   "execution_count": 28,
   "metadata": {},
   "outputs": [],
   "source": [
    "doc = train_df.iloc[0]['doc']"
   ]
  },
  {
   "cell_type": "code",
   "execution_count": 29,
   "metadata": {},
   "outputs": [
    {
     "name": "stdout",
     "output_type": "stream",
     "text": [
      "What False\n",
      "are True\n",
      "few True\n",
      "things False\n",
      "which True\n",
      "should True\n",
      "be True\n",
      "done True\n",
      ", False\n",
      "if True\n",
      "you True\n",
      "live False\n",
      "in True\n",
      "India False\n",
      "? False\n"
     ]
    }
   ],
   "source": [
    "for tok in doc:\n",
    "    print(tok, tok.is_stop)"
   ]
  },
  {
   "cell_type": "markdown",
   "metadata": {},
   "source": [
    "# Generate documents for FastText\n",
    "FastText operates on text files of specified formats, they should include class labels and text tokenized with spaces.\n",
    "I will generate such files based on each of my vocabularies, with and without stop words."
   ]
  },
  {
   "cell_type": "code",
   "execution_count": 75,
   "metadata": {
    "collapsed": true
   },
   "outputs": [],
   "source": [
    "def generate_row(vocab, doc, label, pre_processing = \"none\", remove_stop_words = False):\n",
    "    row = \"__label__%d \" % label\n",
    "    for tok in doc:\n",
    "        if remove_stop_words and tok.is_stop:\n",
    "            continue\n",
    "        elif pre_processing == \"none\":\n",
    "            word = tok.text\n",
    "        elif pre_processing == \"lower\":\n",
    "            word = tok.text.lower()\n",
    "        elif pre_processing == \"lemma\":\n",
    "            word = tok.lemma_.lower()\n",
    "        \n",
    "        if word in vocab:\n",
    "            row += \" %s\" % word\n",
    "    return row\n",
    "        "
   ]
  },
  {
   "cell_type": "code",
   "execution_count": 76,
   "metadata": {
    "collapsed": true
   },
   "outputs": [],
   "source": [
    "text_no_processing = []\n",
    "text_lower = []\n",
    "text_lemma = []\n",
    "\n",
    "text_no_processing_nostop = []\n",
    "text_lower_nostop = []\n",
    "text_lemma_nostop = []"
   ]
  },
  {
   "cell_type": "code",
   "execution_count": 77,
   "metadata": {},
   "outputs": [
    {
     "data": {
      "application/vnd.jupyter.widget-view+json": {
       "model_id": "504e146cd08b4c11970b463fd93d4dc0",
       "version_major": 2,
       "version_minor": 0
      },
      "text/plain": [
       "A Jupyter Widget"
      ]
     },
     "metadata": {},
     "output_type": "display_data"
    },
    {
     "name": "stdout",
     "output_type": "stream",
     "text": [
      "\n"
     ]
    },
    {
     "name": "stderr",
     "output_type": "stream",
     "text": [
      "Exception in thread Thread-8:\n",
      "Traceback (most recent call last):\n",
      "  File \"C:\\Users\\Gustav\\Anaconda3\\lib\\threading.py\", line 916, in _bootstrap_inner\n",
      "    self.run()\n",
      "  File \"C:\\Users\\Gustav\\Anaconda3\\lib\\site-packages\\tqdm\\_monitor.py\", line 63, in run\n",
      "    for instance in self.tqdm_cls._instances:\n",
      "  File \"C:\\Users\\Gustav\\Anaconda3\\lib\\_weakrefset.py\", line 60, in __iter__\n",
      "    for itemref in self.data:\n",
      "RuntimeError: Set changed size during iteration\n",
      "\n"
     ]
    },
    {
     "name": "stdout",
     "output_type": "stream",
     "text": [
      "\n",
      "Wall time: 4min 44s\n"
     ]
    }
   ],
   "source": [
    "%%time\n",
    "for doc, label in tqdm_notebook(zip(train_df.iloc[:].loc[:,'doc'], train_df.iloc[:].loc[:, 'target'])):\n",
    "    text_no_processing.append(generate_row(vocab_no_processing_pruned, doc, label))\n",
    "    text_lower.append(generate_row(vocab_lower_pruned, doc, label, pre_processing=\"lower\"))\n",
    "    text_lemma.append(generate_row(vocab_lemma_pruned, doc, label, pre_processing=\"lemma\"))\n",
    "    \n",
    "    text_no_processing_nostop.append(generate_row(vocab_no_processing_pruned, doc, label, remove_stop_words = True))\n",
    "    text_lower_nostop.append(generate_row(vocab_lower_pruned, doc, label, pre_processing=\"lower\", remove_stop_words = True))\n",
    "    text_lemma_nostop.append(generate_row(vocab_lemma_pruned, doc, label, pre_processing=\"lemma\", remove_stop_words = True))"
   ]
  },
  {
   "cell_type": "code",
   "execution_count": 79,
   "metadata": {
    "collapsed": true
   },
   "outputs": [],
   "source": [
    "val_text_no_processing = []\n",
    "val_text_lower = []\n",
    "val_text_lemma = []\n",
    "\n",
    "val_text_no_processing_nostop = []\n",
    "val_text_lower_nostop = []\n",
    "val_text_lemma_nostop = []"
   ]
  },
  {
   "cell_type": "code",
   "execution_count": 80,
   "metadata": {},
   "outputs": [
    {
     "data": {
      "application/vnd.jupyter.widget-view+json": {
       "model_id": "8bdc8c7d376f45b3b47ed454199c7153",
       "version_major": 2,
       "version_minor": 0
      },
      "text/plain": [
       "A Jupyter Widget"
      ]
     },
     "metadata": {},
     "output_type": "display_data"
    },
    {
     "name": "stdout",
     "output_type": "stream",
     "text": [
      "\n",
      "Wall time: 31 s\n"
     ]
    }
   ],
   "source": [
    "%%time\n",
    "for doc, label in tqdm_notebook(zip(val_df.iloc[:].loc[:,'doc'], val_df.iloc[:].loc[:, 'target'])):\n",
    "    val_text_no_processing.append(generate_row(vocab_no_processing_pruned, doc, label))\n",
    "    val_text_lower.append(generate_row(vocab_lower_pruned, doc, label, pre_processing=\"lower\"))\n",
    "    val_text_lemma.append(generate_row(vocab_lemma_pruned, doc, label, pre_processing=\"lemma\"))\n",
    "    \n",
    "    val_text_no_processing_nostop.append(generate_row(vocab_no_processing_pruned, doc, label, remove_stop_words = True))\n",
    "    val_text_lower_nostop.append(generate_row(vocab_lower_pruned, doc, label, pre_processing=\"lower\", remove_stop_words = True))\n",
    "    val_text_lemma_nostop.append(generate_row(vocab_lemma_pruned, doc, label, pre_processing=\"lemma\", remove_stop_words = True))"
   ]
  },
  {
   "cell_type": "code",
   "execution_count": 94,
   "metadata": {
    "collapsed": true
   },
   "outputs": [],
   "source": [
    "def write_fasttext_file(rows, filename):\n",
    "    with open('data/%s' % filename, 'w', encoding='utf-8') as f:\n",
    "        for row in rows:\n",
    "            f.write(\"%s\\n\" % row)"
   ]
  },
  {
   "cell_type": "code",
   "execution_count": 95,
   "metadata": {},
   "outputs": [
    {
     "name": "stdout",
     "output_type": "stream",
     "text": [
      "Wall time: 14.2 s\n"
     ]
    }
   ],
   "source": [
    "%%time\n",
    "write_fasttext_file(text_no_processing, 'no_processing.train')\n",
    "write_fasttext_file(text_no_processing_nostop, 'no_processing_nostop.train')\n",
    "write_fasttext_file(text_lower, 'lower.train')\n",
    "write_fasttext_file(text_lower_nostop, 'lower_nostop.train')\n",
    "write_fasttext_file(text_lemma, 'lemma.train')\n",
    "write_fasttext_file(text_lemma_nostop, 'lemma_nostop.train')\n",
    "\n",
    "write_fasttext_file(val_text_no_processing, 'no_processing.val')\n",
    "write_fasttext_file(val_text_no_processing_nostop, 'no_processing_nostop.val')\n",
    "write_fasttext_file(val_text_lower, 'lower.val')\n",
    "write_fasttext_file(val_text_lower_nostop, 'lower_nostop.val')\n",
    "write_fasttext_file(val_text_lemma, 'lemma.val')\n",
    "write_fasttext_file(val_text_lemma_nostop, 'lemma_nostop.val')"
   ]
  },
  {
   "cell_type": "markdown",
   "metadata": {},
   "source": [
    "# Train Classifiers"
   ]
  },
  {
   "cell_type": "code",
   "execution_count": 3,
   "metadata": {},
   "outputs": [],
   "source": [
    "import fasttext"
   ]
  },
  {
   "cell_type": "code",
   "execution_count": 4,
   "metadata": {
    "collapsed": true
   },
   "outputs": [],
   "source": [
    "import time"
   ]
  },
  {
   "cell_type": "code",
   "execution_count": 37,
   "metadata": {
    "collapsed": true
   },
   "outputs": [],
   "source": [
    "from sklearn.metrics import recall_score, precision_score, f1_score"
   ]
  },
  {
   "cell_type": "code",
   "execution_count": 52,
   "metadata": {
    "collapsed": true
   },
   "outputs": [],
   "source": [
    "import re"
   ]
  },
  {
   "cell_type": "code",
   "execution_count": 48,
   "metadata": {},
   "outputs": [],
   "source": [
    "def read_texts_and_labels(filename):\n",
    "    labels = []\n",
    "    texts = []\n",
    "    \n",
    "    label_re = re.compile(r'__label__(\\d)')\n",
    "    text_re = re.compile(r'__label__\\d  (.*)')\n",
    "\n",
    "    with open('data/%s' % filename, encoding='utf-8') as f:\n",
    "        for line in f:\n",
    "            label = int(re.findall(label_re, line)[0])\n",
    "            text = re.findall(text_re, line)[0]\n",
    "            labels.append(label)\n",
    "            texts.append(text)\n",
    "    \n",
    "    return texts, np.asarray(labels)\n",
    "\n",
    "def train_and_eval(filename, grams=1, min_count = 50, dim = 10):\n",
    "    print(\"-- %s --\" % filename)\n",
    "    print(\"Training Model\")\n",
    "    start_time = time.time()\n",
    "    model = fasttext.supervised('data/%s.train' % filename, 'model', word_ngrams = grams, min_count = min_count, dim = dim)\n",
    "    training_time = time.time() - start_time\n",
    "    print(\"Training took %.2f s\" % training_time)\n",
    "    \n",
    "    print(\"Evaluating Model\")\n",
    "    train_texts, train_labels = read_texts_and_labels('%s.train' % filename)\n",
    "    val_texts, val_labels = read_texts_and_labels('%s.val' % filename)\n",
    "    \n",
    "    predictions_train = np.asarray([int(pred[0]) for pred in model.predict(train_texts)])\n",
    "    predictions_val = np.asarray([int(pred[0]) for pred in model.predict(val_texts)])\n",
    "    \n",
    "    training_results = {\n",
    "        'precision' : precision_score(train_labels, predictions_train),\n",
    "        'recall' : recall_score(train_labels, predictions_train),\n",
    "        'f1' : f1_score(train_labels, predictions_train)\n",
    "    }\n",
    "    \n",
    "    val_results = {\n",
    "        'precision' : precision_score(val_labels, predictions_val),\n",
    "        'recall' : recall_score(val_labels, predictions_val),\n",
    "        'f1' : f1_score(val_labels, predictions_val)\n",
    "    }\n",
    "    \n",
    "    # Had trouble with fastexts built in test function, so I'm using sklearn instead\n",
    "    print(\"\\nTraining Set Performance:\")\n",
    "    print(\"Precision %.3f\" % training_results['precision'])\n",
    "    print(\"Recall %.3f\" % training_results['recall'])\n",
    "    print(\"F1 %.3f\" % training_results['f1'])\n",
    "    \n",
    "    print(\"\\nValidation Set Performance:\")\n",
    "    print(\"Precision %.3f\" % val_results['precision'])\n",
    "    print(\"Recall %.3f\" % val_results['recall'])\n",
    "    print(\"F1 %.3f\\n\" % val_results['f1'])\n",
    "    \n",
    "    return model, training_results, val_results, training_time"
   ]
  },
  {
   "cell_type": "code",
   "execution_count": 43,
   "metadata": {
    "collapsed": true
   },
   "outputs": [],
   "source": [
    "filenames = [\n",
    "    'no_processing',\n",
    "    'no_processing_nostop',\n",
    "    'lower',\n",
    "    'lower_nostop',\n",
    "    'lemma',\n",
    "    'lemma_nostop'\n",
    "]"
   ]
  },
  {
   "cell_type": "code",
   "execution_count": 44,
   "metadata": {},
   "outputs": [
    {
     "name": "stdout",
     "output_type": "stream",
     "text": [
      "-- no_processing --\n",
      "Training Model\n",
      "Training took 13.51 s\n",
      "Evaluating Model\n",
      "\n",
      "Training Set Performance:\n",
      "Precision 0.711\n",
      "Recall 0.465\n",
      "F1 0.562\n",
      "\n",
      "Validation Set Performance:\n",
      "Precision 0.682\n",
      "Recall 0.441\n",
      "F1 0.535\n",
      "-- no_processing_nostop --\n",
      "Training Model\n",
      "Training took 10.24 s\n",
      "Evaluating Model\n",
      "\n",
      "Training Set Performance:\n",
      "Precision 0.700\n",
      "Recall 0.466\n",
      "F1 0.560\n",
      "\n",
      "Validation Set Performance:\n",
      "Precision 0.671\n",
      "Recall 0.441\n",
      "F1 0.532\n",
      "-- lower --\n",
      "Training Model\n",
      "Training took 12.90 s\n",
      "Evaluating Model\n",
      "\n",
      "Training Set Performance:\n",
      "Precision 0.711\n",
      "Recall 0.467\n",
      "F1 0.563\n",
      "\n",
      "Validation Set Performance:\n",
      "Precision 0.684\n",
      "Recall 0.443\n",
      "F1 0.538\n",
      "-- lower_nostop --\n",
      "Training Model\n",
      "Training took 9.50 s\n",
      "Evaluating Model\n",
      "\n",
      "Training Set Performance:\n",
      "Precision 0.700\n",
      "Recall 0.472\n",
      "F1 0.564\n",
      "\n",
      "Validation Set Performance:\n",
      "Precision 0.667\n",
      "Recall 0.445\n",
      "F1 0.534\n",
      "-- lemma --\n",
      "Training Model\n",
      "Training took 14.48 s\n",
      "Evaluating Model\n",
      "\n",
      "Training Set Performance:\n",
      "Precision 0.698\n",
      "Recall 0.457\n",
      "F1 0.553\n",
      "\n",
      "Validation Set Performance:\n",
      "Precision 0.668\n",
      "Recall 0.433\n",
      "F1 0.525\n",
      "-- lemma_nostop --\n",
      "Training Model\n",
      "Training took 12.66 s\n",
      "Evaluating Model\n",
      "\n",
      "Training Set Performance:\n",
      "Precision 0.691\n",
      "Recall 0.454\n",
      "F1 0.548\n",
      "\n",
      "Validation Set Performance:\n",
      "Precision 0.660\n",
      "Recall 0.432\n",
      "F1 0.522\n",
      "Wall time: 3min 32s\n"
     ]
    }
   ],
   "source": [
    "%%time\n",
    "results = [train_and_eval(filename) for filename in filenames]"
   ]
  },
  {
   "cell_type": "code",
   "execution_count": 49,
   "metadata": {},
   "outputs": [],
   "source": [
    "performance_list = [(name, res['precision'], res['recall'], res['f1'], time) for name, (_, _, res, time) in zip(filenames, results)]"
   ]
  },
  {
   "cell_type": "code",
   "execution_count": 50,
   "metadata": {},
   "outputs": [],
   "source": [
    "performance_df = pd.DataFrame(data=performance_list, columns = ['Processing', 'Precision', 'Recall', 'F1', 'Training Time (s)'])"
   ]
  },
  {
   "cell_type": "code",
   "execution_count": 51,
   "metadata": {},
   "outputs": [
    {
     "data": {
      "text/html": [
       "<div>\n",
       "<style scoped>\n",
       "    .dataframe tbody tr th:only-of-type {\n",
       "        vertical-align: middle;\n",
       "    }\n",
       "\n",
       "    .dataframe tbody tr th {\n",
       "        vertical-align: top;\n",
       "    }\n",
       "\n",
       "    .dataframe thead th {\n",
       "        text-align: right;\n",
       "    }\n",
       "</style>\n",
       "<table border=\"1\" class=\"dataframe\">\n",
       "  <thead>\n",
       "    <tr style=\"text-align: right;\">\n",
       "      <th></th>\n",
       "      <th>Processing</th>\n",
       "      <th>Precision</th>\n",
       "      <th>Recall</th>\n",
       "      <th>F1</th>\n",
       "      <th>Training Time (s)</th>\n",
       "    </tr>\n",
       "  </thead>\n",
       "  <tbody>\n",
       "    <tr>\n",
       "      <th>0</th>\n",
       "      <td>no_processing</td>\n",
       "      <td>0.681653</td>\n",
       "      <td>0.440911</td>\n",
       "      <td>0.535467</td>\n",
       "      <td>13.507555</td>\n",
       "    </tr>\n",
       "    <tr>\n",
       "      <th>1</th>\n",
       "      <td>no_processing_nostop</td>\n",
       "      <td>0.671127</td>\n",
       "      <td>0.440663</td>\n",
       "      <td>0.532009</td>\n",
       "      <td>10.237433</td>\n",
       "    </tr>\n",
       "    <tr>\n",
       "      <th>2</th>\n",
       "      <td>lower</td>\n",
       "      <td>0.684120</td>\n",
       "      <td>0.443014</td>\n",
       "      <td>0.537780</td>\n",
       "      <td>12.897498</td>\n",
       "    </tr>\n",
       "    <tr>\n",
       "      <th>3</th>\n",
       "      <td>lower_nostop</td>\n",
       "      <td>0.667409</td>\n",
       "      <td>0.444994</td>\n",
       "      <td>0.533967</td>\n",
       "      <td>9.503349</td>\n",
       "    </tr>\n",
       "    <tr>\n",
       "      <th>4</th>\n",
       "      <td>lemma</td>\n",
       "      <td>0.667939</td>\n",
       "      <td>0.433115</td>\n",
       "      <td>0.525486</td>\n",
       "      <td>14.484185</td>\n",
       "    </tr>\n",
       "    <tr>\n",
       "      <th>5</th>\n",
       "      <td>lemma_nostop</td>\n",
       "      <td>0.660488</td>\n",
       "      <td>0.432125</td>\n",
       "      <td>0.522442</td>\n",
       "      <td>12.659390</td>\n",
       "    </tr>\n",
       "  </tbody>\n",
       "</table>\n",
       "</div>"
      ],
      "text/plain": [
       "             Processing  Precision    Recall        F1  Training Time (s)\n",
       "0         no_processing   0.681653  0.440911  0.535467          13.507555\n",
       "1  no_processing_nostop   0.671127  0.440663  0.532009          10.237433\n",
       "2                 lower   0.684120  0.443014  0.537780          12.897498\n",
       "3          lower_nostop   0.667409  0.444994  0.533967           9.503349\n",
       "4                 lemma   0.667939  0.433115  0.525486          14.484185\n",
       "5          lemma_nostop   0.660488  0.432125  0.522442          12.659390"
      ]
     },
     "execution_count": 51,
     "metadata": {},
     "output_type": "execute_result"
    }
   ],
   "source": [
    "performance_df"
   ]
  },
  {
   "cell_type": "code",
   "execution_count": 54,
   "metadata": {
    "collapsed": true
   },
   "outputs": [],
   "source": [
    "measures = performance_df.columns[1:]"
   ]
  },
  {
   "cell_type": "code",
   "execution_count": 58,
   "metadata": {
    "scrolled": false
   },
   "outputs": [
    {
     "name": "stderr",
     "output_type": "stream",
     "text": [
      "C:\\Users\\Gustav\\Anaconda3\\lib\\site-packages\\seaborn\\categorical.py:1460: FutureWarning: remove_na is deprecated and is a private function. Do not use.\n",
      "  stat_data = remove_na(group_data)\n"
     ]
    },
    {
     "data": {
      "image/png": "[encoded data removed]",
      "text/plain": [
       "<matplotlib.figure.Figure at 0x193011c5c18>"
      ]
     },
     "metadata": {},
     "output_type": "display_data"
    }
   ],
   "source": [
    "f, ax = plt.subplots(2, 2, figsize=(16,9))\n",
    "ax = ax.flatten()\n",
    "\n",
    "for i, measure in enumerate(measures):\n",
    "    sns.barplot(x='Processing', y=measure, data = performance_df, ax=ax[i])\n",
    "    ax[i].set_title(measure)"
   ]
  },
  {
   "cell_type": "markdown",
   "metadata": {},
   "source": [
    "There are no huge differences in results between the pre-processing techniques. \n",
    "Lemmatization combined with removing stop words got the lowest f1 measure of 0.522.\n",
    "The largest f1 measure of 0.538 was achieved with lowercase and keeping stop words.\n",
    "The difference is very small.\n",
    "\n",
    "The differences in training time are hardly relevant as they only differ by a couple of seconds. "
   ]
  }
 ],
 "metadata": {
  "kernelspec": {
   "display_name": "Python 3",
   "language": "python",
   "name": "python3"
  },
  "language_info": {
   "codemirror_mode": {
    "name": "ipython",
    "version": 3
   },
   "file_extension": ".py",
   "mimetype": "text/x-python",
   "name": "python",
   "nbconvert_exporter": "python",
   "pygments_lexer": "ipython3",
   "version": "3.6.2"
  }
 },
 "nbformat": 4,
 "nbformat_minor": 2
}
