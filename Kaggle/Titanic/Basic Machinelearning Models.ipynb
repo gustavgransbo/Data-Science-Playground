{
 "cells": [
  {
   "cell_type": "markdown",
   "metadata": {},
   "source": [
    "# Intro"
   ]
  },
  {
   "cell_type": "markdown",
   "metadata": {},
   "source": [
    "In Data Explorations notebook I explored the Titanic Data set and didsome feature extraction. Lets test some prediction models!"
   ]
  },
  {
   "cell_type": "markdown",
   "metadata": {},
   "source": [
    "# Predictions"
   ]
  },
  {
   "cell_type": "markdown",
   "metadata": {},
   "source": [
    "Lets do some machine learning to see what kind of accuracy we can achive playing around with the data we have so far."
   ]
  },
  {
   "cell_type": "code",
   "execution_count": 1,
   "metadata": {
    "collapsed": true
   },
   "outputs": [],
   "source": [
    "import pandas as pd\n",
    "import numpy as np\n",
    "import random\n",
    "import re"
   ]
  },
  {
   "cell_type": "code",
   "execution_count": 2,
   "metadata": {
    "collapsed": true
   },
   "outputs": [],
   "source": [
    "def regex_extract(s, regex, capture_group=1):\n",
    "    search = re.search(regex, s)\n",
    "    if search:\n",
    "        return search.group(capture_group)\n",
    "    else:\n",
    "        return None"
   ]
  },
  {
   "cell_type": "markdown",
   "metadata": {},
   "source": [
    "## Framework\n",
    "Before we start builiding models, lets set up a simple framework to test and evaluate them with."
   ]
  },
  {
   "cell_type": "code",
   "execution_count": 3,
   "metadata": {
    "collapsed": true
   },
   "outputs": [],
   "source": [
    "import itertools\n",
    "\n",
    "class Classifier(object):\n",
    "    \n",
    "    def predict(row):\n",
    "        return None\n",
    "\n",
    "# Extract the features I liked the most from the Data Exploration notebook\n",
    "def prepare_training_data(training_data):\n",
    "    data = training_data.copy()\n",
    "    data['Title'] = data['Name'].apply(lambda x: regex_extract(x, \".*\\,\\s(.*?)\\.\"))\n",
    "    data['Title'] = data['Title'].apply(lambda x: x if x in ['Mr', 'Mrs', 'Miss', 'Master'] else \"Other\")\n",
    "    data['Child'] = data['Age'].apply(lambda x: x < 18)\n",
    "    data['Child'] = data['Child'].fillna('Unknown')\n",
    "    \n",
    "    tickets = data.groupby(['Ticket']).agg({'Survived' : 'sum', 'PassengerId' : 'count'}).rename(columns={'Survived' : 'SurvivedInCompany','PassengerId' : 'CompanySize'}).reset_index()\n",
    "    data = data.merge(tickets, on = 'Ticket', how = 'left')\n",
    "    data['SurvivingCompanions'] = data.apply(lambda row: row['SurvivedInCompany'] - row['Survived'], axis=1)\n",
    "    data['DeadCompanions'] = data.apply(lambda row: row['CompanySize'] - row['SurvivedInCompany'] + row['Survived'], axis=1)\n",
    "    \n",
    "    return data\n",
    "\n",
    "# Extract features from the test set as well!\n",
    "def prepare_test_data(test_data, training_data):\n",
    "    data = test_data.copy()\n",
    "    data['Title'] = data['Name'].apply(lambda x: regex_extract(x, \".*\\,\\s(.*?)\\.\"))\n",
    "    data['Title'] = data['Title'].apply(lambda x: x if x in ['Mr', 'Mrs', 'Miss', 'Master'] else \"Other\")\n",
    "    data['Child'] = data['Age'].apply(lambda x: x < 18)\n",
    "    data['Child'] = data['Child'].fillna('Unknown')\n",
    "    \n",
    "    tickets = training_data.groupby(['Ticket']).agg({'Survived' : 'sum', 'PassengerId' : 'count'}).rename(columns={'Survived' : 'SurvivedInCompany','PassengerId' : 'CompanySize'}).reset_index()\n",
    "    data = data.merge(tickets, on = 'Ticket', how = 'left')\n",
    "    data['SurvivedInCompany'] = data['SurvivedInCompany'].fillna(0)\n",
    "    data['CompanySize'] = data['CompanySize'].fillna(0)\n",
    "    data['SurvivingCompanions'] = data.apply(lambda row: row['SurvivedInCompany'], axis=1)\n",
    "    data['DeadCompanions'] = data.apply(lambda row: row['CompanySize'] - row['SurvivedInCompany'], axis=1)\n",
    "    return data\n",
    "    \n",
    "def evaluate_model(model, test_data, target=\"Survived\", evaluate=False):\n",
    "    predictions = test_data.apply(model.predict, axis = 1)\n",
    "    if evaluate:\n",
    "        correct = n = 0.0\n",
    "        for ans, pred in zip(test_data[target], predictions):\n",
    "            n+= 1\n",
    "            if ans == pred:\n",
    "                correct += 1\n",
    "        print(\"Accuracy on {} samples: {}\".format(n, correct/n))\n",
    "        return\n",
    "    else:\n",
    "        return zip(test_data['PassengerId'], predictions)"
   ]
  },
  {
   "cell_type": "markdown",
   "metadata": {},
   "source": [
    "Lets prepare some training and test data!"
   ]
  },
  {
   "cell_type": "code",
   "execution_count": 4,
   "metadata": {
    "collapsed": true
   },
   "outputs": [],
   "source": [
    "data = pd.read_csv('titanic_train.csv')"
   ]
  },
  {
   "cell_type": "code",
   "execution_count": 5,
   "metadata": {
    "collapsed": true
   },
   "outputs": [],
   "source": [
    "# generate a random test set with 25% of all values\n",
    "import random\n",
    "random.seed(1)\n",
    "train_index = []\n",
    "test_index = []\n",
    "for i in range(len(data)):\n",
    "    if random.random() > 0.75:\n",
    "        test_index.append(i)\n",
    "    else:\n",
    "        train_index.append(i)"
   ]
  },
  {
   "cell_type": "code",
   "execution_count": 6,
   "metadata": {
    "collapsed": true
   },
   "outputs": [],
   "source": [
    "training_data = data.iloc[train_index]\n",
    "test_data = data.iloc[test_index]"
   ]
  },
  {
   "cell_type": "markdown",
   "metadata": {},
   "source": [
    "## Baseline - Naive Bayes"
   ]
  },
  {
   "cell_type": "markdown",
   "metadata": {},
   "source": [
    "We consider all variables independant and calculate the probability of survival as the mean survival rate for the given variable. We then uses Bayes theorem to calculate P(survival | independant variables). \n",
    "\n",
    "I will disregard quantitative variables for now as they require more work (Normalization etc.). I will classify any variable with small number of distinct values as categorical. (And ignore variables with high number of distinct values such as First name)"
   ]
  },
  {
   "cell_type": "code",
   "execution_count": 7,
   "metadata": {
    "collapsed": true
   },
   "outputs": [],
   "source": [
    "class NaiveBayes(Classifier):\n",
    "    def __init__(self, survival_rate, input_variables, prob_dict):\n",
    "        self.survival_rate = survival_rate\n",
    "        self.input_variables = input_variables\n",
    "        self.prob_dict = prob_dict\n",
    "    \n",
    "    def predict(self, row):\n",
    "        prob_survival = np.log(self.survival_rate)\n",
    "        prob_dead = np.log(1-self.survival_rate)\n",
    "        for variable in self.input_variables:\n",
    "            try:\n",
    "                prob_survival += np.log(self.prob_dict[variable][row[variable]])\n",
    "                prob_dead += np.log(1 - self.prob_dict[variable][row[variable]])\n",
    "            except(KeyError):\n",
    "                pass\n",
    "        return 1 if prob_survival > prob_dead else 0\n",
    "\n",
    "    @classmethod\n",
    "    def train(cls, data, categorical_variables, target, k=1):\n",
    "        prob_dict = {}\n",
    "        for variable in categorical_variables:\n",
    "            prob_dict[variable] = {}\n",
    "            for distinct_value in data[variable].unique():\n",
    "                df = data[data[variable] == distinct_value]\n",
    "                prob_dict[variable][distinct_value] = (df[target].sum() + k) / (df[target].count() + 2 * k)\n",
    "        return cls(data[target].mean(), categorical_variables, prob_dict)\n",
    "    "
   ]
  },
  {
   "cell_type": "code",
   "execution_count": 8,
   "metadata": {
    "collapsed": true
   },
   "outputs": [],
   "source": [
    "naive_training = prepare_training_data(training_data)\n",
    "naive_test = prepare_test_data(test_data, training_data)"
   ]
  },
  {
   "cell_type": "code",
   "execution_count": 9,
   "metadata": {
    "collapsed": true
   },
   "outputs": [],
   "source": [
    "categorical_variables = ['Pclass', 'Sex', 'SibSp', 'Parch', 'Embarked', 'Title', 'Child', 'SurvivingCompanions', 'DeadCompanions']"
   ]
  },
  {
   "cell_type": "code",
   "execution_count": 10,
   "metadata": {
    "collapsed": true
   },
   "outputs": [],
   "source": [
    "naive_bayes_companion_features = NaiveBayes.train(naive_training, categorical_variables, \"Survived\")\n",
    "naive_bayes_base = NaiveBayes.train(naive_training,  ['Pclass', 'Sex', 'SibSp', 'Parch', 'Embarked', 'Title', 'Child'], \"Survived\")\n",
    "naive_bayes_two_features = NaiveBayes.train(naive_training, ['Pclass', 'Sex'], \"Survived\")"
   ]
  },
  {
   "cell_type": "code",
   "execution_count": 11,
   "metadata": {},
   "outputs": [
    {
     "name": "stdout",
     "output_type": "stream",
     "text": [
      "With companion features:\n",
      "Accuracy on 233.0 samples: 0.703862660944206\n",
      "Without companions features:\n",
      "Accuracy on 233.0 samples: 0.7124463519313304\n",
      "Only Pclass and Sex:\n",
      "Accuracy on 233.0 samples: 0.7639484978540773\n"
     ]
    }
   ],
   "source": [
    "print(\"With companion features:\")\n",
    "evaluate_model(naive_bayes_companion_features, naive_test, target=\"Survived\", evaluate=True)\n",
    "print(\"Without companions features:\")\n",
    "evaluate_model(naive_bayes_base, naive_test, target=\"Survived\", evaluate=True)\n",
    "print(\"Only Pclass and Sex:\")\n",
    "evaluate_model(naive_bayes_two_features, naive_test, target=\"Survived\", evaluate=True)"
   ]
  },
  {
   "cell_type": "markdown",
   "metadata": {},
   "source": [
    "We got a baseline of 76% to beat!\n",
    "\n",
    "More features seem to be a poor addition so far, but will likely have more effect with models that do not assume the input variables to be independant."
   ]
  },
  {
   "cell_type": "markdown",
   "metadata": {},
   "source": [
    "## Maximum entropy classifier"
   ]
  },
  {
   "cell_type": "markdown",
   "metadata": {},
   "source": [
    "Classifier from old university lab"
   ]
  },
  {
   "cell_type": "code",
   "execution_count": 12,
   "metadata": {
    "collapsed": true
   },
   "outputs": [],
   "source": [
    "def softmax(X):\n",
    "    \"\"\"Computes the softmax function for the specified batch of data.\n",
    "\n",
    "    This uses a common trick to improve numerical stability; this trick is\n",
    "    explained here:\n",
    "\n",
    "    http://stackoverflow.com/a/39558290\n",
    "    \"\"\"\n",
    "    E = np.exp(X - np.max(X, axis=1, keepdims=True))\n",
    "    return E / E.sum(axis=1, keepdims=True)\n",
    "\n",
    "def minibatches(X, Y, batch_size):\n",
    "    \"\"\"Yields minibatches from the specified X and Y matrices.\n",
    "\n",
    "    Instead of computing updates on the complete data, it is a good idea\n",
    "    to only compute them on parts of the data; these parts are called\n",
    "    minibatches. This function randomly splits the input data into\n",
    "    minibatches of the specified size.\n",
    "    \"\"\"\n",
    "    m = X.shape[0]\n",
    "    n_batches = int(np.floor(m / batch_size))\n",
    "    np.random.seed(1)\n",
    "    random_indices = np.random.permutation(np.arange(m))\n",
    "    for i in range(n_batches):\n",
    "        batch_indices = np.arange(i * batch_size, (i + 1) * batch_size)\n",
    "        batch_indices = random_indices[batch_indices]\n",
    "        yield X[batch_indices], Y[batch_indices]\n",
    "\n",
    "class MaxentClassifier(object):\n",
    "\n",
    "    def __init__(self, n_features, n_classes):\n",
    "        self.W = np.zeros((n_features, n_classes))\n",
    "\n",
    "    def p(self, X):\n",
    "        \"\"\"Returns the class probabilities for the given input.\"\"\"\n",
    "\n",
    "        return softmax(np.dot(X,self.W))\n",
    "\n",
    "    def predict(self, X):\n",
    "        \"\"\"Returns the most probable class for the given input\"\"\"\n",
    "        activation = np.dot(X,self.W)\n",
    "\n",
    "        return np.argmax(activation, axis=1)\n",
    "\n",
    "    @classmethod\n",
    "    def train(cls, X, Y, n_epochs=1, batch_size=1, eta=0.01, reg=0.1):\n",
    "        classifier = cls(X.shape[1], Y.shape[1])\n",
    "\n",
    "        for e in range(n_epochs):\n",
    "            for batch in minibatches(X,Y,batch_size):\n",
    "                classifier.W = classifier.W + eta*(np.dot(np.transpose(batch[0]), \\\n",
    "                    (batch[1] - classifier.p(batch[0]))) - reg*classifier.W)\n",
    "\n",
    "        return classifier"
   ]
  },
  {
   "cell_type": "code",
   "execution_count": 42,
   "metadata": {
    "collapsed": true
   },
   "outputs": [],
   "source": [
    "def generate_X_Y(trainf_df, test_df):\n",
    "    X_train = trainf_df.drop('Survived', axis = 1).values\n",
    "    X_test = test_df.drop('Survived', axis = 1).values\n",
    "    # Create dummies for Y [0, 1] = Survived [1, 0] = Dead\n",
    "    Y_train = np.zeros(shape = (len(trainf_df), 2))\n",
    "    for i, x in enumerate(trainf_df['Survived'].values):\n",
    "        Y_train[i][x] = 1\n",
    "    Y_test = np.zeros(shape = (len(test_df), 2))\n",
    "    for i, x in enumerate(test_df['Survived'].values):\n",
    "        Y_test[i][x] = 1\n",
    "    X_train = X_train.astype(float)\n",
    "    X_test = X_test.astype(float)\n",
    "    Y_train = Y_train.astype(float)\n",
    "    Y_test = Y_test.astype(float)\n",
    "    \n",
    "    return X_train, X_test, Y_train, Y_test\n"
   ]
  },
  {
   "cell_type": "code",
   "execution_count": 43,
   "metadata": {
    "collapsed": true
   },
   "outputs": [],
   "source": [
    "def accuracy(Y, Y_hat):\n",
    "    correct = n = 0.0\n",
    "    for ans, pred in zip(Y, Y_hat):\n",
    "        n+= 1\n",
    "        if ans[pred]:\n",
    "            correct += 1\n",
    "    print(\"Accuracy on {} samples: {}\".format(n, correct/n))"
   ]
  },
  {
   "cell_type": "markdown",
   "metadata": {},
   "source": [
    "## First try with the maximum entropy classifer!\n",
    "Let try with our favourite variables!"
   ]
  },
  {
   "cell_type": "code",
   "execution_count": 44,
   "metadata": {
    "collapsed": true
   },
   "outputs": [],
   "source": [
    "variables = ['Pclass', 'Sex', 'SibSp', 'Parch', 'Embarked', 'Title', 'Child', 'SurvivingCompanions', 'DeadCompanions']"
   ]
  },
  {
   "cell_type": "code",
   "execution_count": 45,
   "metadata": {
    "collapsed": true
   },
   "outputs": [],
   "source": [
    "maxent_train = prepare_training_data(training_data)[variables + ['Survived']]\n",
    "maxent_test = prepare_test_data(test_data, training_data)[variables + ['Survived']]\n",
    "\n",
    "maxent_train = pd.get_dummies(maxent_train)\n",
    "maxent_test = pd.get_dummies(maxent_test)"
   ]
  },
  {
   "cell_type": "code",
   "execution_count": 64,
   "metadata": {},
   "outputs": [
    {
     "name": "stdout",
     "output_type": "stream",
     "text": [
      "Accuracy on 233.0 samples: 0.8283261802575107\n"
     ]
    }
   ],
   "source": [
    "X_train, X_test, Y_train, Y_test = generate_X_Y(maxent_train, maxent_test)\n",
    "maxent_classifier = MaxentClassifier.train(X_train, Y_train, batch_size = 10, n_epochs=10)\n",
    "Y_hat = maxent_classifier.predict(X_test)\n",
    "accuracy(Y_test, Y_hat)"
   ]
  },
  {
   "cell_type": "code",
   "execution_count": 48,
   "metadata": {},
   "outputs": [],
   "source": [
    "from sklearn.metrics import confusion_matrix"
   ]
  },
  {
   "cell_type": "code",
   "execution_count": 66,
   "metadata": {},
   "outputs": [],
   "source": [
    "test_Y = list(map(np.argmax, Y_test))"
   ]
  },
  {
   "cell_type": "code",
   "execution_count": 60,
   "metadata": {
    "collapsed": true
   },
   "outputs": [],
   "source": [
    "import matplotlib.pyplot as plt\n",
    "import seaborn as sns\n",
    "\n",
    "%matplotlib inline"
   ]
  },
  {
   "cell_type": "code",
   "execution_count": 67,
   "metadata": {},
   "outputs": [
    {
     "data": {
      "text/plain": [
       "<matplotlib.text.Text at 0x2846fc27ba8>"
      ]
     },
     "execution_count": 67,
     "metadata": {},
     "output_type": "execute_result"
    },
    {
     "data": {
      "image/png": "[encoded data removed]",
      "text/plain": [
       "<matplotlib.figure.Figure at 0x2846f62a278>"
      ]
     },
     "metadata": {},
     "output_type": "display_data"
    }
   ],
   "source": [
    "confusing_matrix_df = pd.DataFrame(confusion_matrix(test_Y, Y_hat))\n",
    "f, ax = plt.subplots(figsize=(10, 7))\n",
    "sns.heatmap(confusing_matrix_df, annot=True, fmt=\".0f\", ax = ax)\n",
    "ax.set_xlabel('True Value')\n",
    "ax.set_ylabel('Predicted Value')"
   ]
  },
  {
   "cell_type": "markdown",
   "metadata": {},
   "source": [
    "Improved accuracy! Woho!\n",
    "\n",
    "Lets check out the weight matrix."
   ]
  },
  {
   "cell_type": "code",
   "execution_count": 29,
   "metadata": {
    "collapsed": true
   },
   "outputs": [],
   "source": [
    "features = maxent_train.drop('Survived', axis=1).columns"
   ]
  },
  {
   "cell_type": "code",
   "execution_count": 36,
   "metadata": {},
   "outputs": [
    {
     "data": {
      "text/html": [
       "<div>\n",
       "<style>\n",
       "    .dataframe thead tr:only-child th {\n",
       "        text-align: right;\n",
       "    }\n",
       "\n",
       "    .dataframe thead th {\n",
       "        text-align: left;\n",
       "    }\n",
       "\n",
       "    .dataframe tbody tr th {\n",
       "        vertical-align: top;\n",
       "    }\n",
       "</style>\n",
       "<table border=\"1\" class=\"dataframe\">\n",
       "  <thead>\n",
       "    <tr style=\"text-align: right;\">\n",
       "      <th></th>\n",
       "      <th>Dead</th>\n",
       "      <th>Survived</th>\n",
       "    </tr>\n",
       "  </thead>\n",
       "  <tbody>\n",
       "    <tr>\n",
       "      <th>Sex_female</th>\n",
       "      <td>-0.764988</td>\n",
       "      <td>0.764988</td>\n",
       "    </tr>\n",
       "    <tr>\n",
       "      <th>SurvivingCompanions</th>\n",
       "      <td>-0.461305</td>\n",
       "      <td>0.461305</td>\n",
       "    </tr>\n",
       "    <tr>\n",
       "      <th>Title_Mrs</th>\n",
       "      <td>-0.443335</td>\n",
       "      <td>0.443335</td>\n",
       "    </tr>\n",
       "    <tr>\n",
       "      <th>Title_Master</th>\n",
       "      <td>-0.441814</td>\n",
       "      <td>0.441814</td>\n",
       "    </tr>\n",
       "    <tr>\n",
       "      <th>Embarked_C</th>\n",
       "      <td>-0.363600</td>\n",
       "      <td>0.363600</td>\n",
       "    </tr>\n",
       "    <tr>\n",
       "      <th>Child</th>\n",
       "      <td>-0.272675</td>\n",
       "      <td>0.272675</td>\n",
       "    </tr>\n",
       "    <tr>\n",
       "      <th>Title_Miss</th>\n",
       "      <td>-0.251113</td>\n",
       "      <td>0.251113</td>\n",
       "    </tr>\n",
       "    <tr>\n",
       "      <th>Embarked_S</th>\n",
       "      <td>-0.215614</td>\n",
       "      <td>0.215614</td>\n",
       "    </tr>\n",
       "    <tr>\n",
       "      <th>Embarked_Q</th>\n",
       "      <td>-0.205187</td>\n",
       "      <td>0.205187</td>\n",
       "    </tr>\n",
       "    <tr>\n",
       "      <th>Sex_male</th>\n",
       "      <td>-0.040051</td>\n",
       "      <td>0.040051</td>\n",
       "    </tr>\n",
       "    <tr>\n",
       "      <th>SibSp</th>\n",
       "      <td>0.051653</td>\n",
       "      <td>-0.051653</td>\n",
       "    </tr>\n",
       "    <tr>\n",
       "      <th>Title_Other</th>\n",
       "      <td>0.072995</td>\n",
       "      <td>-0.072995</td>\n",
       "    </tr>\n",
       "    <tr>\n",
       "      <th>Parch</th>\n",
       "      <td>0.073561</td>\n",
       "      <td>-0.073561</td>\n",
       "    </tr>\n",
       "    <tr>\n",
       "      <th>Pclass</th>\n",
       "      <td>0.234337</td>\n",
       "      <td>-0.234337</td>\n",
       "    </tr>\n",
       "    <tr>\n",
       "      <th>Title_Mr</th>\n",
       "      <td>0.258229</td>\n",
       "      <td>-0.258229</td>\n",
       "    </tr>\n",
       "    <tr>\n",
       "      <th>DeadCompanions</th>\n",
       "      <td>0.274855</td>\n",
       "      <td>-0.274855</td>\n",
       "    </tr>\n",
       "  </tbody>\n",
       "</table>\n",
       "</div>"
      ],
      "text/plain": [
       "                         Dead  Survived\n",
       "Sex_female          -0.764988  0.764988\n",
       "SurvivingCompanions -0.461305  0.461305\n",
       "Title_Mrs           -0.443335  0.443335\n",
       "Title_Master        -0.441814  0.441814\n",
       "Embarked_C          -0.363600  0.363600\n",
       "Child               -0.272675  0.272675\n",
       "Title_Miss          -0.251113  0.251113\n",
       "Embarked_S          -0.215614  0.215614\n",
       "Embarked_Q          -0.205187  0.205187\n",
       "Sex_male            -0.040051  0.040051\n",
       "SibSp                0.051653 -0.051653\n",
       "Title_Other          0.072995 -0.072995\n",
       "Parch                0.073561 -0.073561\n",
       "Pclass               0.234337 -0.234337\n",
       "Title_Mr             0.258229 -0.258229\n",
       "DeadCompanions       0.274855 -0.274855"
      ]
     },
     "execution_count": 36,
     "metadata": {},
     "output_type": "execute_result"
    }
   ],
   "source": [
    "pd.DataFrame(index=features, data=maxent_classifier.W, columns=['Dead', 'Survived']).sort_values('Dead')"
   ]
  },
  {
   "cell_type": "markdown",
   "metadata": {},
   "source": [
    "SibSp, Parch, Sex_male and Title_Other have very low values. This means they contribute little to the outcome. Ltes try to drop them! (Intuitively it seems like a bad move to drop just some values of a categorical, but lets experiment!)\n",
    "\n",
    "For the ordinal variables SibSp and Parch this might also be misguided, as potentially their weight can contribute more when they have higher values."
   ]
  },
  {
   "cell_type": "markdown",
   "metadata": {},
   "source": [
    "## Second go, dropping variables with low impact"
   ]
  },
  {
   "cell_type": "code",
   "execution_count": 40,
   "metadata": {
    "collapsed": true
   },
   "outputs": [],
   "source": [
    "# Remove SibSP, Parch, Sex_male and Title_Other\n",
    "remove_indexes = [1, 2, 7, 15]\n",
    "mask = [False if i in remove_indexes else True for i in range(16)]"
   ]
  },
  {
   "cell_type": "code",
   "execution_count": 43,
   "metadata": {},
   "outputs": [
    {
     "name": "stdout",
     "output_type": "stream",
     "text": [
      "Accuracy on 233.0 samples: 0.8240343347639485\n"
     ]
    }
   ],
   "source": [
    "X_train, X_test, Y_train, Y_test = generate_X_Y(maxent_train, maxent_test)\n",
    "X_train = X_train[:,mask]\n",
    "X_test = X_test[:,mask]\n",
    "maxent_classifier = MaxentClassifier.train(X_train, Y_train, batch_size = 10, n_epochs=10)\n",
    "Y_hat = maxent_classifier.predict(X_test)\n",
    "accuracy(Y_test, Y_hat)"
   ]
  },
  {
   "cell_type": "markdown",
   "metadata": {},
   "source": [
    "Almost the same accuracy! Lets try keeping our ordinal variables."
   ]
  },
  {
   "cell_type": "code",
   "execution_count": 44,
   "metadata": {
    "collapsed": true
   },
   "outputs": [],
   "source": [
    "# Remove SibSP, Parch, Sex_male and Title_Other\n",
    "remove_indexes = [7, 15]\n",
    "mask = [False if i in remove_indexes else True for i in range(16)]"
   ]
  },
  {
   "cell_type": "code",
   "execution_count": 45,
   "metadata": {},
   "outputs": [
    {
     "name": "stdout",
     "output_type": "stream",
     "text": [
      "Accuracy on 233.0 samples: 0.8283261802575107\n"
     ]
    }
   ],
   "source": [
    "X_train, X_test, Y_train, Y_test = generate_X_Y(maxent_train, maxent_test)\n",
    "X_train = X_train[:,mask]\n",
    "X_test = X_test[:,mask]\n",
    "maxent_classifier = MaxentClassifier.train(X_train, Y_train, batch_size = 10, n_epochs=10)\n",
    "Y_hat = maxent_classifier.predict(X_test)\n",
    "accuracy(Y_test, Y_hat)"
   ]
  },
  {
   "cell_type": "markdown",
   "metadata": {},
   "source": [
    "Shady business removing some categories of our ordinals, and we don't seem to achieve better results."
   ]
  },
  {
   "cell_type": "markdown",
   "metadata": {},
   "source": [
    "# Lets try the actual test set!\n",
    "My feature `Surviving Companions` should be more effectfull with more data in the training set. Lets see what results I get!"
   ]
  },
  {
   "cell_type": "code",
   "execution_count": 56,
   "metadata": {
    "collapsed": true
   },
   "outputs": [],
   "source": [
    "training_data_ = pd.read_csv('titanic_train.csv')\n",
    "test_data_ = pd.read_csv('titanic_test.csv')"
   ]
  },
  {
   "cell_type": "code",
   "execution_count": 57,
   "metadata": {
    "collapsed": true
   },
   "outputs": [],
   "source": [
    "variables = ['Pclass', 'Sex', 'SibSp', 'Parch', 'Embarked', 'Title', 'Child', 'SurvivingCompanions', 'DeadCompanions']"
   ]
  },
  {
   "cell_type": "code",
   "execution_count": 58,
   "metadata": {
    "collapsed": true
   },
   "outputs": [],
   "source": [
    "training_data = prepare_training_data(training_data_)[variables + ['Survived']]\n",
    "test_data = prepare_test_data(test_data_, training_data_)[variables]"
   ]
  },
  {
   "cell_type": "code",
   "execution_count": 60,
   "metadata": {
    "collapsed": true
   },
   "outputs": [],
   "source": [
    "maxent_train = pd.get_dummies(training_data)\n",
    "maxent_test = pd.get_dummies(test_data)"
   ]
  },
  {
   "cell_type": "code",
   "execution_count": 68,
   "metadata": {
    "collapsed": true
   },
   "outputs": [],
   "source": [
    "X_train, X_test, Y_train, Y_test = generate_X_Y(maxent_train, maxent_test)\n",
    "maxent_classifier = MaxentClassifier.train(X_train, Y_train, batch_size = 10, n_epochs=10)\n",
    "Y_hat = maxent_classifier.predict(X_test)"
   ]
  },
  {
   "cell_type": "code",
   "execution_count": 79,
   "metadata": {
    "collapsed": true
   },
   "outputs": [],
   "source": [
    "pd.DataFrame(index = test_data_['PassengerId'], data=Y_hat, columns=['Survived']).to_csv('titanic_submission1.csv')"
   ]
  },
  {
   "cell_type": "markdown",
   "metadata": {},
   "source": [
    "Result: **0.80382 test score**. I can do better!  \n",
    "\n",
    "I want to improve on these fronts:\n",
    "* Explore and improve my features\n",
    "* Investigate crossvalidation as a means of tuning my model parameters\n",
    "* Test other predictive models\n",
    "\n",
    "I will continue in another notebook!"
   ]
  },
  {
   "cell_type": "code",
   "execution_count": null,
   "metadata": {
    "collapsed": true
   },
   "outputs": [],
   "source": []
  }
 ],
 "metadata": {
  "kernelspec": {
   "display_name": "Python 3",
   "language": "python",
   "name": "python3"
  },
  "language_info": {
   "codemirror_mode": {
    "name": "ipython",
    "version": 3
   },
   "file_extension": ".py",
   "mimetype": "text/x-python",
   "name": "python",
   "nbconvert_exporter": "python",
   "pygments_lexer": "ipython3",
   "version": "3.6.2"
  }
 },
 "nbformat": 4,
 "nbformat_minor": 2
}
