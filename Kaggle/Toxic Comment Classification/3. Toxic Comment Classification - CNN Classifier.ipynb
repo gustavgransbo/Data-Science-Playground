{
 "cells": [
  {
   "cell_type": "markdown",
   "metadata": {},
   "source": [
    "# Introduction\n",
    "In `2. Toxic Comment Classification - Baseline` I recast the challenge in [Toxic Comment Classification](https://www.kaggle.com/c/jigsaw-toxic-comment-classification-challenge) to a binary classification problem between clean and toxic. I achieved a baseline Average Precision Score, APS, of 0.874 using logistic regression and a bag of words model.\n",
    "\n",
    "In this notebook I will tackle the problem using pre-trained word embeddings (GloVe) and a convolutional neural network.\n",
    "\n",
    "I expect that many words in the comments will be out of vocabulary for the GloVe embeddings, which I will need to explore. "
   ]
  },
  {
   "cell_type": "markdown",
   "metadata": {},
   "source": [
    "# Read Data"
   ]
  },
  {
   "cell_type": "code",
   "execution_count": 1,
   "metadata": {
    "collapsed": true
   },
   "outputs": [],
   "source": [
    "import pandas as pd\n",
    "\n",
    "data = pd.read_csv('data/train.csv')\n",
    "# Limit to comments that are either toxic or clean\n",
    "data = data.loc[data['toxic'] | ~data.iloc[:,2:].any(1)]\n",
    "data = data.loc[:,['comment_text', 'toxic']]"
   ]
  },
  {
   "cell_type": "markdown",
   "metadata": {},
   "source": [
    "## Tokenize Data"
   ]
  },
  {
   "cell_type": "code",
   "execution_count": 2,
   "metadata": {
    "collapsed": true
   },
   "outputs": [],
   "source": [
    "from nltk import word_tokenize"
   ]
  },
  {
   "cell_type": "code",
   "execution_count": 3,
   "metadata": {
    "collapsed": true
   },
   "outputs": [],
   "source": [
    "data.loc[:,'comment_text'] = data.loc[:,'comment_text'].apply(word_tokenize)"
   ]
  },
  {
   "cell_type": "code",
   "execution_count": 4,
   "metadata": {
    "collapsed": true
   },
   "outputs": [],
   "source": [
    "data.loc[:,'comment_text'] = data.loc[:,'comment_text'].apply(lambda s: [tok.lower() for tok in s])"
   ]
  },
  {
   "cell_type": "code",
   "execution_count": 5,
   "metadata": {},
   "outputs": [
    {
     "name": "stdout",
     "output_type": "stream",
     "text": [
      "The data set contains 158640 sentences and 12732741 tokens\n"
     ]
    }
   ],
   "source": [
    "from functools import reduce\n",
    "\n",
    "n_sentences = len(data)\n",
    "n_tokens = reduce(lambda x, y: x + len(y), data.loc[:,'comment_text'].values, 0)\n",
    "\n",
    "print(\"The data set contains {} sentences and {} tokens\".format(n_sentences, n_tokens))"
   ]
  },
  {
   "cell_type": "markdown",
   "metadata": {},
   "source": [
    "## Construct token correction mapping\n",
    "In an attempt to allign as many tokens as possible in the raw data to tokens in GloVe I will construct a dictionary with conversions, which I will add on to iteratively."
   ]
  },
  {
   "cell_type": "markdown",
   "metadata": {},
   "source": [
    "Start of with a mapping where the target of all initial tokens is unkowns: `None`."
   ]
  },
  {
   "cell_type": "code",
   "execution_count": 6,
   "metadata": {},
   "outputs": [
    {
     "name": "stdout",
     "output_type": "stream",
     "text": [
      "Wall time: 7.02 s\n"
     ]
    }
   ],
   "source": [
    "%%time\n",
    "token_mapping = {}\n",
    "token_counts = {}\n",
    "for sentence in data.loc[:,'comment_text']:\n",
    "    for tok in sentence:\n",
    "        if tok not in token_mapping:\n",
    "            token_mapping[tok] = None\n",
    "            token_counts[tok] = 1\n",
    "        else:\n",
    "            token_counts[tok] += 1"
   ]
  },
  {
   "cell_type": "code",
   "execution_count": 7,
   "metadata": {},
   "outputs": [
    {
     "name": "stdout",
     "output_type": "stream",
     "text": [
      "There are 258274 unique tokens in the unprocessed data\n"
     ]
    }
   ],
   "source": [
    "print(\"There are %d unique tokens in the unprocessed data\" % len(token_mapping))"
   ]
  },
  {
   "cell_type": "markdown",
   "metadata": {},
   "source": [
    "# Glove Embeddings"
   ]
  },
  {
   "cell_type": "markdown",
   "metadata": {},
   "source": [
    "I will opt to use the 100 dimensional Glove 6B data. My vocabulary will be exactly the words inside the pretrained model."
   ]
  },
  {
   "cell_type": "code",
   "execution_count": 8,
   "metadata": {
    "collapsed": true
   },
   "outputs": [],
   "source": [
    "import os.path"
   ]
  },
  {
   "cell_type": "code",
   "execution_count": 9,
   "metadata": {
    "collapsed": true
   },
   "outputs": [],
   "source": [
    "import numpy as np"
   ]
  },
  {
   "cell_type": "code",
   "execution_count": 10,
   "metadata": {
    "collapsed": true
   },
   "outputs": [],
   "source": [
    "glove_path = 'C:/Users/Gustav/Data Science/glove.6B/glove.6B.100d.txt'\n",
    "embeddings = {}\n",
    "token_index = {}\n",
    "index_token = {}\n",
    "embedding_dims = 100\n",
    "with open(glove_path, 'r', encoding='utf-8') as f:\n",
    "    for i, line in enumerate(f):\n",
    "        tok, *vec = line.split()\n",
    "        embeddings[tok] = np.array(vec, dtype='float32')\n",
    "        # Reserve index 0 for padding\n",
    "        token_index[tok] = i + 1\n",
    "        index_token[i+1] = tok"
   ]
  },
  {
   "cell_type": "markdown",
   "metadata": {},
   "source": [
    "# Allign Comments to GloVe"
   ]
  },
  {
   "cell_type": "code",
   "execution_count": 11,
   "metadata": {
    "collapsed": true
   },
   "outputs": [],
   "source": [
    "import re\n",
    "import tqdm\n",
    "import string\n",
    "\n",
    "def allign_to_vocab(vocab, mapping):\n",
    "    \n",
    "    # Allign directly\n",
    "    mapping = allign_with_func(mapping, vocab, direct_allignment)\n",
    "    print(\"%d OOV tokens before pre processing\" % len(find_oov(mapping)))\n",
    "    \n",
    "    # Allign by replacing URL's with 'url'\n",
    "    mapping = allign_with_func(mapping, vocab, convert_url)\n",
    "    print(\"%d OOV tokens after replacing urls with 'url'\" % len(find_oov(mapping)))\n",
    "    \n",
    "    # Allign by converting to word within 1 Levensthein Damerau distance\n",
    "    mapping = allign_with_func(mapping, vocab, find_one_neighbour)\n",
    "    print(\"%d OOV tokens after spelling correction\" % len(find_oov(mapping)))\n",
    "    \n",
    "    return mapping\n",
    "\n",
    "def find_oov(mapping):\n",
    "    oov = []\n",
    "    for tok, target in mapping.items():\n",
    "        if not target:\n",
    "            oov.append(tok)\n",
    "    return oov\n",
    "\n",
    "def find_targets(oov, allignment_func, vocab):\n",
    "    targets = []\n",
    "    print(\"Applying function to oov tokens:\")\n",
    "    for tok in tqdm.tqdm(oov):\n",
    "        targets.append(allignment_func(tok, vocab))\n",
    "    return targets\n",
    "\n",
    "def allign_with_func(mapping, vocab, func):\n",
    "    oov = find_oov(mapping)\n",
    "    oov_targets = find_targets(oov, func, vocab)\n",
    "    for tok, target in zip(oov, oov_targets):\n",
    "            mapping[tok] = target\n",
    "    return mapping\n",
    "\n",
    "def direct_allignment(token, vocab):\n",
    "    if token in vocab:\n",
    "        return token\n",
    "    else:\n",
    "        return None\n",
    "    \n",
    "     \n",
    "def convert_url(token, vocab):\n",
    "    # Match words starting with www., http:// or https://\n",
    "    if re.match(r'^(?:https{0,1}\\:\\/\\/.*|www\\.*)', token):\n",
    "        return \"url\"\n",
    "    else:\n",
    "        return None\n",
    "\n",
    "# Checks for vocabulary words within 1 Damerau Levenstein distance and returns the first match\n",
    "# Logic inspired by http://norvig.com/spell-correct.html\n",
    "def find_one_neighbour(word, vocab):\n",
    "    \n",
    "    if len(word) <= 2:\n",
    "        return None\n",
    "    \n",
    "    ascii_vocab = string.ascii_lowercase\n",
    "    \n",
    "    # Tuples with all possible splits of word\n",
    "    splits = [(word[:i], word[i:]) for i in range(len(word))]\n",
    "    \n",
    "    # All words generated by deleting one character\n",
    "    for L, R in splits:\n",
    "        candidate = L + R[1:] if R else None\n",
    "        if candidate in vocab:\n",
    "            return candidate\n",
    "    # All words generated by swapping two characters in word\n",
    "    for L, R in splits:    \n",
    "        candidate = L + R[1] + R[0] + R[2:] if len(R) > 1 else None\n",
    "        if candidate in vocab:\n",
    "            return candidate\n",
    "    # All words generated by inserting a character in word\n",
    "    for L, R in splits:\n",
    "        for c in ascii_vocab:    \n",
    "            candidate = L + c + R \n",
    "            if candidate in vocab:\n",
    "                return candidate\n",
    "    # All words generated by replacing a character in word\n",
    "    for L, R, in splits:\n",
    "        for c in ascii_vocab:    \n",
    "            candidate = L + c +R[1:] if R else None\n",
    "            if candidate in vocab:\n",
    "                return candidate\n",
    "        \n",
    "    return None\n",
    "    "
   ]
  },
  {
   "cell_type": "code",
   "execution_count": 12,
   "metadata": {},
   "outputs": [
    {
     "name": "stdout",
     "output_type": "stream",
     "text": [
      "Applying function to oov tokens:\n"
     ]
    },
    {
     "name": "stderr",
     "output_type": "stream",
     "text": [
      "100%|██████████████████████████████████████████████████████████████████████| 258274/258274 [00:00<00:00, 686961.36it/s]\n"
     ]
    },
    {
     "name": "stdout",
     "output_type": "stream",
     "text": [
      "156360 OOV tokens before pre processing\n",
      "Applying function to oov tokens:\n"
     ]
    },
    {
     "name": "stderr",
     "output_type": "stream",
     "text": [
      "100%|██████████████████████████████████████████████████████████████████████| 156360/156360 [00:00<00:00, 330096.75it/s]\n"
     ]
    },
    {
     "name": "stdout",
     "output_type": "stream",
     "text": [
      "155920 OOV tokens after replacing urls with 'url'\n",
      "Applying function to oov tokens:\n"
     ]
    },
    {
     "name": "stderr",
     "output_type": "stream",
     "text": [
      "100%|████████████████████████████████████████████████████████████████████████| 155920/155920 [01:01<00:00, 2552.05it/s]\n"
     ]
    },
    {
     "name": "stdout",
     "output_type": "stream",
     "text": [
      "99793 OOV tokens after spelling correction\n",
      "Wall time: 1min 2s\n"
     ]
    }
   ],
   "source": [
    "%%time\n",
    "token_mapping = allign_to_vocab(embeddings, token_mapping)"
   ]
  },
  {
   "cell_type": "markdown",
   "metadata": {},
   "source": [
    "How frequent are OOV tokens?"
   ]
  },
  {
   "cell_type": "code",
   "execution_count": 13,
   "metadata": {},
   "outputs": [
    {
     "name": "stdout",
     "output_type": "stream",
     "text": [
      "205355 tokens in the data, thats 1.613% of all tokens\n"
     ]
    }
   ],
   "source": [
    "oov = find_oov(token_mapping)\n",
    "oov_count = 0\n",
    "for tok in oov:\n",
    "    oov_count += token_counts[tok]\n",
    "\n",
    "print(\"%d tokens in the data, thats %.3f%% of all tokens\" % (oov_count, 100 * oov_count / n_tokens))"
   ]
  },
  {
   "cell_type": "markdown",
   "metadata": {},
   "source": [
    "Cool, so even though we still have 200K unkown tokens in the data, they are not that common."
   ]
  },
  {
   "cell_type": "markdown",
   "metadata": {},
   "source": [
    "Now let's check what spelling mistakes we fixed."
   ]
  },
  {
   "cell_type": "code",
   "execution_count": 14,
   "metadata": {
    "collapsed": true
   },
   "outputs": [],
   "source": [
    "fixed_spelling = {}\n",
    "for tok, target in token_mapping.items():\n",
    "    if tok != target and tok != 'url' and target:\n",
    "        fixed_spelling[tok] = target\n",
    "        "
   ]
  },
  {
   "cell_type": "markdown",
   "metadata": {},
   "source": [
    "Let's just peek at 100 fixes."
   ]
  },
  {
   "cell_type": "code",
   "execution_count": 15,
   "metadata": {},
   "outputs": [
    {
     "name": "stdout",
     "output_type": "stream",
     "text": [
      "vandalisms -> vandalism\n",
      "21:51 -> 1:51\n",
      "'nonsense -> nonsense\n",
      "'animal -> animal\n",
      "'image -> image\n",
      "contribs -> contries\n",
      "it.. -> i.t.\n",
      "-contribution -> contribution\n",
      "aircracft -> aircraft\n",
      "caculator -> calculator\n",
      "comming -> coming\n",
      "georgiev- -> georgiev\n",
      "acctually -> actually\n",
      "delting -> elting\n",
      "'the -> the\n",
      "deepu -> depu\n",
      "falsities -> falsifies\n",
      "re-considering -> reconsidering\n",
      "re-visit -> revisit\n",
      "reconsidered. -> reconsidered\n",
      "'fight -> fight\n",
      "-much -> much\n",
      "el_c -> elc\n",
      "t/c -> tc\n",
      "basis. -> basis\n",
      "generarizations -> generalizations\n",
      "—the -> the\n",
      "rurika -> rurik\n",
      "eced -> ced\n",
      "shwain -> swain\n",
      ".with -> with\n",
      "ammended -> amended\n",
      "scholary -> scholar\n",
      "recongise -> recognise\n",
      "absoutely -> absolutely\n",
      "hastol -> haston\n",
      "do. -> o.\n",
      "possibillity -> possibility\n",
      "concepts. -> concepts\n",
      "altitu -> altit\n",
      "=tony -> tony\n",
      "citiations -> citations\n",
      "triva -> riva\n",
      "wiaga -> waga\n",
      "ga-class -> a-class\n",
      "'talk -> talk\n",
      "|talk -> talk\n",
      "neiln -> nein\n",
      "–talk -> talk\n",
      "thatso -> thats\n",
      "right. -> right\n",
      "mabuska -> maruska\n",
      "qoute -> quote\n",
      ".thanks -> thanks\n",
      "well. -> well\n",
      "piffling -> riffling\n",
      "effluent. -> effluent\n",
      "science. -> science\n",
      "diliff -> iliff\n",
      "'juvenile -> juvenile\n",
      "06:46 -> 6:46\n",
      "paark -> park\n",
      "todsy -> tody\n",
      "daph -> aph\n",
      "wikkis -> wikis\n",
      "diffs -> diff\n",
      "denied. -> denied\n",
      "shoudld -> should\n",
      "deleet -> delee\n",
      "maunus -> munus\n",
      "recrystalization -> recrystallization\n",
      "reamins -> remains\n",
      "enviroument -> enviroment\n",
      "40+ -> 40\n",
      "=en -> en\n",
      "=false -> false\n",
      "it. -> t.\n",
      "cyde -> yde\n",
      "wants. -> wants\n",
      "'awesome -> awesome\n",
      "enlightned -> enlightened\n",
      "witze -> wite\n",
      "'man -> man\n",
      "embarassingly -> embarrassingly\n",
      "'gaga -> gaga\n",
      "'mentally -> mentally\n",
      "emotionallly -> emotionally\n",
      "lmao -> mao\n",
      "|reformist -> reformist\n",
      "5-5-5 -> 5-55\n",
      "jza -> za\n",
      "mrsc -> rsc\n",
      "offesive -> offensive\n",
      "neologislm -> neologism\n",
      "intertude -> interlude\n",
      "mrph -> rph\n",
      "srq -> rq\n",
      "3rr -> rr\n",
      "unneceessary -> unnecessary\n",
      "uisge -> uige\n"
     ]
    }
   ],
   "source": [
    "for i, (tok, target) in enumerate(fixed_spelling.items()):\n",
    "    if i == 100:\n",
    "        break\n",
    "    print(\"%s -> %s\" % (tok, target))"
   ]
  },
  {
   "cell_type": "markdown",
   "metadata": {},
   "source": [
    "A lot of these fixes just remove some uncessesary character in the original token. This is a good thing.\n",
    "However, some of these fixes are not propper spelling fixes, like `\"5-5-5\" -> \"5-55\"`. I will accept them anyway though, as I think they will make little difference."
   ]
  },
  {
   "cell_type": "markdown",
   "metadata": {},
   "source": [
    "## Apply the data corrections"
   ]
  },
  {
   "cell_type": "code",
   "execution_count": 16,
   "metadata": {
    "collapsed": true
   },
   "outputs": [],
   "source": [
    "def correct_tok(tok, mapping):\n",
    "    target = mapping[tok]\n",
    "    \n",
    "    return target if target else 'unk'"
   ]
  },
  {
   "cell_type": "code",
   "execution_count": 17,
   "metadata": {
    "collapsed": true
   },
   "outputs": [],
   "source": [
    "data.loc[:,'comment_text'] = data.loc[:,'comment_text'].apply(lambda s: [correct_tok(tok, token_mapping) for tok in s])"
   ]
  },
  {
   "cell_type": "markdown",
   "metadata": {},
   "source": [
    "Check sequence lengths"
   ]
  },
  {
   "cell_type": "code",
   "execution_count": 18,
   "metadata": {},
   "outputs": [
    {
     "data": {
      "text/plain": [
       "count    158640.000000\n",
       "mean         80.261857\n",
       "std         120.712026\n",
       "min           1.000000\n",
       "25%          20.000000\n",
       "50%          43.000000\n",
       "75%          89.000000\n",
       "max        4948.000000\n",
       "Name: seq_len, dtype: float64"
      ]
     },
     "execution_count": 18,
     "metadata": {},
     "output_type": "execute_result"
    }
   ],
   "source": [
    "data.loc[:,'seq_len'] = data.loc[:,'comment_text'].apply(len)\n",
    "\n",
    "data.loc[:,'seq_len'].describe()"
   ]
  },
  {
   "cell_type": "markdown",
   "metadata": {},
   "source": [
    "Some sequences are very long..."
   ]
  },
  {
   "cell_type": "code",
   "execution_count": 19,
   "metadata": {
    "collapsed": true
   },
   "outputs": [],
   "source": [
    "import matplotlib.pyplot as plt\n",
    "import seaborn as sns\n",
    "sns.set()\n",
    "%matplotlib inline"
   ]
  },
  {
   "cell_type": "code",
   "execution_count": 20,
   "metadata": {
    "collapsed": true
   },
   "outputs": [],
   "source": [
    "binned_seq_lens = np.bincount(data.loc[:,'seq_len'])\n",
    "n_bins = len(binned_seq_lens)\n",
    "binned_seq_lens_acu = np.cumsum(binned_seq_lens)"
   ]
  },
  {
   "cell_type": "code",
   "execution_count": 21,
   "metadata": {},
   "outputs": [
    {
     "data": {
      "text/plain": [
       "<matplotlib.text.Text at 0x282621754a8>"
      ]
     },
     "execution_count": 21,
     "metadata": {},
     "output_type": "execute_result"
    },
    {
     "data": {
      "image/png": "[encoded data removed]",
      "text/plain": [
       "<matplotlib.figure.Figure at 0x282621de240>"
      ]
     },
     "metadata": {},
     "output_type": "display_data"
    }
   ],
   "source": [
    "f, ax = plt.subplots(1, 2, figsize=(16,9))\n",
    "ax[0].plot(np.arange(n_bins), 100 * binned_seq_lens_acu/len(data))\n",
    "ax[1].plot(np.arange(1000), 100 * binned_seq_lens_acu[:1000]/len(data))\n",
    "ax[1].set_ylim([70,100])\n",
    "ax[0].set_xlabel('Sequence length')\n",
    "ax[0].set_ylabel('Percentage of sentences same length or longer than X')\n",
    "ax[1].set_xlabel('Sequence length')\n",
    "ax[1].set_ylabel('Percentage of sentences same length or longer than X')"
   ]
  },
  {
   "cell_type": "code",
   "execution_count": 22,
   "metadata": {},
   "outputs": [
    {
     "data": {
      "text/plain": [
       "0.7835665658093798"
      ]
     },
     "execution_count": 22,
     "metadata": {},
     "output_type": "execute_result"
    }
   ],
   "source": [
    "binned_seq_lens_acu[100]/len(data)"
   ]
  },
  {
   "cell_type": "markdown",
   "metadata": {},
   "source": [
    "I should probably clip the sequences to a fixed max length. Maybe I can try setting max length to 100 to start with? This will be easier for my mode lto process, but might have negative impacts on results as it will clip the end of almost 22% of all sentences."
   ]
  },
  {
   "cell_type": "markdown",
   "metadata": {},
   "source": [
    "## Convert embeddings to tensor"
   ]
  },
  {
   "cell_type": "code",
   "execution_count": 23,
   "metadata": {
    "collapsed": true
   },
   "outputs": [],
   "source": [
    "import torch"
   ]
  },
  {
   "cell_type": "code",
   "execution_count": 24,
   "metadata": {
    "collapsed": true
   },
   "outputs": [],
   "source": [
    "embedding_weights = torch.zeros(len(embeddings) + 1, embedding_dims)\n",
    "for tok, i in token_index.items():\n",
    "    embedding_weights[i] = torch.from_numpy(embeddings[tok])"
   ]
  },
  {
   "cell_type": "markdown",
   "metadata": {},
   "source": [
    "## Convert data to tensors"
   ]
  },
  {
   "cell_type": "code",
   "execution_count": 25,
   "metadata": {
    "collapsed": true
   },
   "outputs": [],
   "source": [
    "y = data.loc[:,'toxic'].values"
   ]
  },
  {
   "cell_type": "code",
   "execution_count": 26,
   "metadata": {
    "collapsed": true
   },
   "outputs": [],
   "source": [
    "X = [torch.from_numpy(np.asarray([token_index[tok] for tok in sentence])).long() for sentence in data.loc[:,'comment_text']]"
   ]
  },
  {
   "cell_type": "markdown",
   "metadata": {},
   "source": [
    "## Divide data into Train, Validation and Test set"
   ]
  },
  {
   "cell_type": "code",
   "execution_count": 27,
   "metadata": {
    "collapsed": true
   },
   "outputs": [],
   "source": [
    "from sklearn.model_selection import train_test_split\n",
    "\n",
    "X_train, X_test, y_train, y_test = train_test_split(X, y, test_size=.3, random_state=0, stratify=y)\n",
    "X_train, X_dev, y_train, y_dev = train_test_split(X_train, y_train, test_size=.15, random_state=0, stratify=y_train)"
   ]
  },
  {
   "cell_type": "code",
   "execution_count": 28,
   "metadata": {
    "collapsed": true
   },
   "outputs": [],
   "source": [
    "y_train = torch.from_numpy(y_train)\n",
    "y_dev = torch.from_numpy(y_dev)\n",
    "y_test = torch.from_numpy(y_test)"
   ]
  },
  {
   "cell_type": "markdown",
   "metadata": {},
   "source": [
    "## Pad the Data"
   ]
  },
  {
   "cell_type": "code",
   "execution_count": 123,
   "metadata": {
    "collapsed": true
   },
   "outputs": [],
   "source": [
    "class PaddedAndClipGenerator():\n",
    "    def __init__(self, x_set, y_set = None, batch_size = 126, max_len = 100, shuffle_batches=False):\n",
    "        \n",
    "        self.max_len = max_len\n",
    "        self.reshuffle = shuffle_batches\n",
    "        \n",
    "        if y_set is not None:\n",
    "            self.has_label = True\n",
    "        else:\n",
    "            self.has_label = False\n",
    "            \n",
    "        self.batch_size = batch_size\n",
    "        if self.has_label:\n",
    "            self.x, self.y, self.sequence_lengths = [], [], []\n",
    "        else:\n",
    "            self.x, self.sequence_lengths = [], []\n",
    "        # Pad Data so all batches have sequences of equal length\n",
    "        for idx in range(int(np.ceil(len(x_set) / float(self.batch_size)))):\n",
    "            batch_x = x_set[idx * self.batch_size:(idx + 1) * self.batch_size]\n",
    "            \n",
    "            # The input is sorted so the first sequence is the longest\n",
    "            batch_seq_len = min([len(batch_x[0]), self.max_len])\n",
    "            batch_x_pad = torch.zeros(len(batch_x), batch_seq_len, dtype=torch.long)\n",
    "            batch_sequence_lengths = torch.Tensor(list(map(len, batch_x))).int()\n",
    "            \n",
    "            for i, (seq, seq_len) in enumerate(zip(batch_x, batch_sequence_lengths)):\n",
    "                seq_len = min([batch_seq_len, seq_len])\n",
    "                batch_x_pad[i,:seq_len] = seq[:seq_len] \n",
    "            \n",
    "            self.x.append(batch_x_pad)\n",
    "            \n",
    "            if self.has_label:\n",
    "                batch_y = y_set[idx * self.batch_size:(idx + 1) * self.batch_size]\n",
    "                self.y.append(batch_y)\n",
    "        self.shuffle_batches()\n",
    "            \n",
    "            \n",
    "    def shuffle_batches(self):\n",
    "        idx = np.random.permutation(len(self.x))\n",
    "        self.x = [self.x[i] for i in idx]\n",
    "        self.y = [self.y[i] for i in idx]\n",
    "    \n",
    "    def __len__(self):\n",
    "        return len(self.x)\n",
    "    def __getitem__(self, idx):\n",
    "        if self.has_label:\n",
    "            return self.x[idx], self.y[idx]\n",
    "        else:\n",
    "            return self.x[idx]"
   ]
  },
  {
   "cell_type": "code",
   "execution_count": 58,
   "metadata": {
    "collapsed": true
   },
   "outputs": [],
   "source": [
    "def sort_sequences(X, y):\n",
    "    seq_lens = [len(x) for x in X]\n",
    "    idx = np.argsort(seq_lens)[::-1]\n",
    "    X = [X[i] for i in idx]\n",
    "    y = torch.Tensor([y[i] for i in idx])\n",
    "    return X, y"
   ]
  },
  {
   "cell_type": "code",
   "execution_count": 61,
   "metadata": {
    "collapsed": true
   },
   "outputs": [],
   "source": [
    "X_train, y_train = sort_sequences(X_train, y_train)\n",
    "X_dev, y_dev = sort_sequences(X_dev, y_dev)\n",
    "X_test, y_test = sort_sequences(X_test, y_test)"
   ]
  },
  {
   "cell_type": "code",
   "execution_count": 124,
   "metadata": {},
   "outputs": [],
   "source": [
    "train_padded = PaddedAndClipGenerator(X_train, y_train, batch_size=126, shuffle_batches = True)\n",
    "dev_padded = PaddedAndClipGenerator(X_dev, y_dev, batch_size=126, shuffle_batches = True)\n",
    "test_padded = PaddedAndClipGenerator(X_test,y_test,  batch_size=126, shuffle_batches = True)"
   ]
  },
  {
   "cell_type": "markdown",
   "metadata": {},
   "source": [
    "# CNN\n",
    "Let's build the CNN."
   ]
  },
  {
   "cell_type": "code",
   "execution_count": 33,
   "metadata": {
    "collapsed": true
   },
   "outputs": [],
   "source": [
    "import torch.nn as nn\n",
    "import torch.nn.functional as F"
   ]
  },
  {
   "cell_type": "code",
   "execution_count": 34,
   "metadata": {
    "collapsed": true
   },
   "outputs": [],
   "source": [
    "class CNNClassifier(nn.Module):\n",
    "    def __init__(self, vocab_size, hidden_size, embedding_weights):\n",
    "        super(CNNClassifier, self).__init__()\n",
    "        self.hidden_size = hidden_size\n",
    "        self.embedding_size = embedding_weights.size(1)\n",
    "        \n",
    "        # Pre-trained embeddings, allowed to be refit during training\n",
    "        self.embedding = nn.Embedding(*embedding_weights.shape, _weight=embedding_weights, padding_idx=0)\n",
    "        \n",
    "        # Convolutional Layers (1 Padding to ensure we can process sequences of length 1)\n",
    "        self.conv1 = nn.Conv1d(self.embedding_size, 100, 3, padding=1)\n",
    "        \n",
    "        # Fully Connected\n",
    "        self.fc = nn.Linear(100, 1)\n",
    "        \n",
    "        \n",
    "    def forward(self, batch):\n",
    "        \n",
    "        # BxL\n",
    "        \n",
    "        # Embeddings\n",
    "        embedded = self.embedding(batch).permute([0, 2, 1]) # BxCxL\n",
    "        \n",
    "        # Convolutions\n",
    "        x = self.conv1(embedded) #BxCxL\n",
    "        x = F.relu(x) #BxCxL\n",
    "        x = F.max_pool1d(x, kernel_size=x.size(2)).reshape(batch.size(0), -1) #BxC\n",
    "        \n",
    "        # Fully connected\n",
    "        x = self.fc(x) #B\n",
    "        \n",
    "        # Fully Connected\n",
    "        #x = torch.sigmoid(x) #B\n",
    "        return x"
   ]
  },
  {
   "cell_type": "code",
   "execution_count": 84,
   "metadata": {
    "collapsed": true
   },
   "outputs": [],
   "source": [
    "import torch.optim as optim"
   ]
  },
  {
   "cell_type": "code",
   "execution_count": 85,
   "metadata": {
    "collapsed": true
   },
   "outputs": [],
   "source": [
    "toxic_weight = len(y_train) / y_train.sum()"
   ]
  },
  {
   "cell_type": "code",
   "execution_count": 128,
   "metadata": {
    "collapsed": true
   },
   "outputs": [],
   "source": [
    "cnn1 = CNNClassifier(embedding_weights.size(0), 100, embedding_weights)\n",
    "\n",
    "criterion = nn.BCEWithLogitsLoss(pos_weight=toxic_weight)\n",
    "optimizer = optim.Adam(cnn1.parameters())"
   ]
  },
  {
   "cell_type": "code",
   "execution_count": 129,
   "metadata": {
    "collapsed": true
   },
   "outputs": [],
   "source": [
    "from sklearn.metrics import average_precision_score"
   ]
  },
  {
   "cell_type": "code",
   "execution_count": 130,
   "metadata": {},
   "outputs": [],
   "source": [
    "from tqdm import tqdm_notebook\n",
    "\n",
    "# Function inspired by https://pytorch.org/tutorials/beginner/transfer_learning_tutorial.html\n",
    "def train_model(model, train_generator, optimizer, criterion, dev_generator=None, epochs = 2):\n",
    "    \n",
    "    # Only enter the validation state if there is a validation_loader\n",
    "    phases = ['train']\n",
    "    data_dict = {'train' : train_generator} \n",
    "    if dev_generator:\n",
    "        phases.append('val')\n",
    "        data_dict['val'] = dev_generator\n",
    "        \n",
    "    for epoch in range(epochs):\n",
    "        \n",
    "        print('Epoch {}/{}'.format(epoch + 1, epochs))\n",
    "        print('-' * 10)\n",
    "\n",
    "        for phase in phases:\n",
    "            \n",
    "            data = data_dict[phase]\n",
    "            \n",
    "            # Only update model weights based on the training data\n",
    "            if phase == 'train':\n",
    "                model.train()\n",
    "            else:\n",
    "                model.eval()\n",
    "                \n",
    "            running_loss = 0.0\n",
    "            running_corrects = 0\n",
    "            comments_processed = 0\n",
    "            epoch_probas = []\n",
    "            epoch_labels = []\n",
    "            \n",
    "            pbar = tqdm_notebook(data, total = len(data))\n",
    "            for seq, labels in pbar:\n",
    "\n",
    "                optimizer.zero_grad()\n",
    "                \n",
    "                # Only track history during training\n",
    "                with torch.set_grad_enabled(phase == 'train'):\n",
    "                    outputs = model(seq).reshape(-1)\n",
    "                    loss = criterion(outputs, labels)\n",
    "                    probas = torch.sigmoid(outputs)\n",
    "                    predictions = probas > .5\n",
    "                    \n",
    "                    # Only perform backpropagation during training\n",
    "                    if phase == 'train':\n",
    "                        loss.backward()\n",
    "                        optimizer.step()\n",
    "                    \n",
    "                # Save statistics\n",
    "                running_loss += loss.item()\n",
    "                # Only count correct classifications when the label is not padding\n",
    "                running_corrects += torch.sum(predictions == labels.data.byte())\n",
    "                comments_processed += len(seq)\n",
    "                \n",
    "                epoch_probas += [prob.item() for prob in probas]\n",
    "                epoch_labels += list([label.item() for label in labels.byte()])\n",
    "                \n",
    "                pbar.set_description(\"APS: %.3f\" % average_precision_score(epoch_labels, epoch_probas))\n",
    "                \n",
    "                \n",
    "            epoch_loss = running_loss / comments_processed\n",
    "            epoch_acc = running_corrects.item() / comments_processed\n",
    "            epoch_average_precision_score = average_precision_score(epoch_labels, epoch_probas)\n",
    "            \n",
    "            if data.reshuffle:\n",
    "                # Shuffle the batch order so it's not the same next epoch\n",
    "                data.shuffle_batches()\n",
    "            \n",
    "            print('{} Loss: {:.4f} Acc: {:.4f}, APS: {:.4f}'.format(\n",
    "                phase, epoch_loss, epoch_acc, epoch_average_precision_score))\n",
    "                \n",
    "            "
   ]
  },
  {
   "cell_type": "code",
   "execution_count": 131,
   "metadata": {},
   "outputs": [
    {
     "name": "stdout",
     "output_type": "stream",
     "text": [
      "Epoch 1/2\n",
      "----------\n"
     ]
    },
    {
     "data": {
      "application/vnd.jupyter.widget-view+json": {
       "model_id": "53548ef3a418465fa6af439a8753ffc4",
       "version_major": 2,
       "version_minor": 0
      },
      "text/plain": [
       "A Jupyter Widget"
      ]
     },
     "metadata": {},
     "output_type": "display_data"
    },
    {
     "name": "stdout",
     "output_type": "stream",
     "text": [
      "train Loss: 0.0023 Acc: 0.9434, APS: 0.9122\n"
     ]
    },
    {
     "data": {
      "application/vnd.jupyter.widget-view+json": {
       "model_id": "0005536371434166b50c9b9a36ced3fe",
       "version_major": 2,
       "version_minor": 0
      },
      "text/plain": [
       "A Jupyter Widget"
      ]
     },
     "metadata": {},
     "output_type": "display_data"
    },
    {
     "name": "stdout",
     "output_type": "stream",
     "text": [
      "val Loss: 0.0036 Acc: 0.9368, APS: 0.8745\n",
      "Epoch 2/2\n",
      "----------\n"
     ]
    },
    {
     "data": {
      "application/vnd.jupyter.widget-view+json": {
       "model_id": "277b85038c0a4ea5b71574bb1e7c062e",
       "version_major": 2,
       "version_minor": 0
      },
      "text/plain": [
       "A Jupyter Widget"
      ]
     },
     "metadata": {},
     "output_type": "display_data"
    },
    {
     "name": "stdout",
     "output_type": "stream",
     "text": [
      "train Loss: 0.0012 Acc: 0.9676, APS: 0.9606\n"
     ]
    },
    {
     "data": {
      "application/vnd.jupyter.widget-view+json": {
       "model_id": "54e886fd19be4245aaaef54e72c55603",
       "version_major": 2,
       "version_minor": 0
      },
      "text/plain": [
       "A Jupyter Widget"
      ]
     },
     "metadata": {},
     "output_type": "display_data"
    },
    {
     "name": "stdout",
     "output_type": "stream",
     "text": [
      "val Loss: 0.0041 Acc: 0.9286, APS: 0.8641\n"
     ]
    }
   ],
   "source": [
    "train_model(cnn1, train_padded, optimizer, criterion, dev_generator=dev_padded)"
   ]
  },
  {
   "cell_type": "code",
   "execution_count": 132,
   "metadata": {},
   "outputs": [
    {
     "name": "stdout",
     "output_type": "stream",
     "text": [
      "Epoch 1/2\n",
      "----------\n"
     ]
    },
    {
     "data": {
      "application/vnd.jupyter.widget-view+json": {
       "model_id": "eb94c7e37bc0493a97cb763788605e89",
       "version_major": 2,
       "version_minor": 0
      },
      "text/plain": [
       "A Jupyter Widget"
      ]
     },
     "metadata": {},
     "output_type": "display_data"
    },
    {
     "name": "stdout",
     "output_type": "stream",
     "text": [
      "train Loss: 0.0008 Acc: 0.9794, APS: 0.9781\n"
     ]
    },
    {
     "data": {
      "application/vnd.jupyter.widget-view+json": {
       "model_id": "09f2db44ff2542a795b40b0e2c0b3c12",
       "version_major": 2,
       "version_minor": 0
      },
      "text/plain": [
       "A Jupyter Widget"
      ]
     },
     "metadata": {},
     "output_type": "display_data"
    },
    {
     "name": "stdout",
     "output_type": "stream",
     "text": [
      "val Loss: 0.0075 Acc: 0.9528, APS: 0.8494\n",
      "Epoch 2/2\n",
      "----------\n"
     ]
    },
    {
     "data": {
      "application/vnd.jupyter.widget-view+json": {
       "model_id": "f1a82c8d70f640b3ad2793c3a24a8092",
       "version_major": 2,
       "version_minor": 0
      },
      "text/plain": [
       "A Jupyter Widget"
      ]
     },
     "metadata": {},
     "output_type": "display_data"
    },
    {
     "name": "stdout",
     "output_type": "stream",
     "text": [
      "train Loss: 0.0005 Acc: 0.9876, APS: 0.9880\n"
     ]
    },
    {
     "data": {
      "application/vnd.jupyter.widget-view+json": {
       "model_id": "43d4524071244493afaca54e84eb7bf3",
       "version_major": 2,
       "version_minor": 0
      },
      "text/plain": [
       "A Jupyter Widget"
      ]
     },
     "metadata": {},
     "output_type": "display_data"
    },
    {
     "name": "stdout",
     "output_type": "stream",
     "text": [
      "val Loss: 0.0069 Acc: 0.9426, APS: 0.8491\n"
     ]
    }
   ],
   "source": [
    "train_model(cnn1, train_padded, optimizer, criterion, dev_generator=dev_padded)"
   ]
  },
  {
   "cell_type": "code",
   "execution_count": 134,
   "metadata": {
    "collapsed": true
   },
   "outputs": [],
   "source": [
    "torch.save({'state' : cnn1.state_dict()}, 'pytorch_models/cnn1.pt')"
   ]
  },
  {
   "cell_type": "markdown",
   "metadata": {},
   "source": [
    "After one epoch the CNN classifier ties my baseline logistic regression model in terms of APS on the validation data. \n",
    "Training for two epochs does not improve the vaidation performance though, indicating that the model quickly starts overfitting the training data.\n",
    "\n",
    "With this model I have done no hyperparameter tuning such as choosing the number of convolutional filters, the kernel size of the convolution and also only use one convolution size. \n",
    "\n",
    "I'll need too read up more on what kind of designs to try. Also, I'd like to check the impact of clipping. Am I performing worse on the clipped comments? In that case, should the clipping threshold be increased?"
   ]
  }
 ],
 "metadata": {
  "kernelspec": {
   "display_name": "Python 3",
   "language": "python",
   "name": "python3"
  },
  "language_info": {
   "codemirror_mode": {
    "name": "ipython",
    "version": 3
   },
   "file_extension": ".py",
   "mimetype": "text/x-python",
   "name": "python",
   "nbconvert_exporter": "python",
   "pygments_lexer": "ipython3",
   "version": "3.6.2"
  }
 },
 "nbformat": 4,
 "nbformat_minor": 2
}
