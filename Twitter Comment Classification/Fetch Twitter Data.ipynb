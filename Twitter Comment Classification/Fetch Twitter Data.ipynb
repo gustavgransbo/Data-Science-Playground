{
 "cells": [
  {
   "cell_type": "markdown",
   "metadata": {},
   "source": [
    "# Purpose\n",
    "This notebook was used to fetch the Twitter ID of US politicians using Wikidata, and then construct a data set of their tweets using the Twitter API."
   ]
  },
  {
   "cell_type": "markdown",
   "metadata": {},
   "source": [
    "# Fetch Twitter ID's"
   ]
  },
  {
   "cell_type": "code",
   "execution_count": 18,
   "metadata": {
    "collapsed": true
   },
   "outputs": [],
   "source": [
    "import requests\n",
    "\n",
    "def query_party(party):\n",
    "    \n",
    "    # Query Wikidata public endpoint\n",
    "    # Results need to be paged 10000 at a time\n",
    "    \n",
    "    party_dict = {\n",
    "        'democrats' : 'wd:Q29552',\n",
    "        'republicans' : 'wd:Q29468'\n",
    "    }\n",
    "    \n",
    "    party_curi = party_dict[party]\n",
    "    \n",
    "    query = \"\"\"\n",
    "        SELECT DISTINCT ?tid WHERE {\n",
    "          ?person wdt:P102 %s;\n",
    "                  wdt:P2002 ?tid.\n",
    "                  \n",
    "        }\"\"\" % party_curi\n",
    "    \n",
    "    params = {\n",
    "        'query' : query,\n",
    "        'format' : 'json'\n",
    "    }\n",
    "    result = requests.get(\"https://query.wikidata.org/sparql\", params = params)\n",
    "    \n",
    "    return result"
   ]
  },
  {
   "cell_type": "code",
   "execution_count": 16,
   "metadata": {},
   "outputs": [],
   "source": [
    "democrat_request = query_party('democrats')\n",
    "republican_request = query_party('republicans')"
   ]
  },
  {
   "cell_type": "code",
   "execution_count": 13,
   "metadata": {},
   "outputs": [
    {
     "data": {
      "text/plain": [
       "(834, 890)"
      ]
     },
     "execution_count": 13,
     "metadata": {},
     "output_type": "execute_result"
    }
   ],
   "source": [
    "len(democrat_request.json()['results']['bindings']), len(republican_request.json()['results']['bindings'])"
   ]
  },
  {
   "cell_type": "code",
   "execution_count": 15,
   "metadata": {
    "collapsed": true
   },
   "outputs": [],
   "source": [
    "democrat_tids = [row['tid']['value'] for row in democrat_request.json()['results']['bindings']]\n",
    "republican_tids = [row['tid']['value'] for row in republican_request.json()['results']['bindings']]"
   ]
  },
  {
   "cell_type": "code",
   "execution_count": 16,
   "metadata": {},
   "outputs": [
    {
     "data": {
      "text/plain": [
       "['AlecBaldwin',\n",
       " 'GabbyGiffords',\n",
       " 'fergie',\n",
       " 'merlehaggard',\n",
       " 'felicityhuffman',\n",
       " 'TedTurnerIII',\n",
       " 'carlysimonhq',\n",
       " 'madeleine',\n",
       " 'GRRMspeaking',\n",
       " 'nancypelosi']"
      ]
     },
     "execution_count": 16,
     "metadata": {},
     "output_type": "execute_result"
    }
   ],
   "source": [
    "democrat_tids[:10]"
   ]
  },
  {
   "cell_type": "markdown",
   "metadata": {},
   "source": [
    "# Fetch Tweets"
   ]
  },
  {
   "cell_type": "code",
   "execution_count": 2,
   "metadata": {
    "collapsed": true
   },
   "outputs": [],
   "source": [
    "bearer = ''"
   ]
  },
  {
   "cell_type": "code",
   "execution_count": 72,
   "metadata": {
    "collapsed": true
   },
   "outputs": [],
   "source": [
    "# DOC: https://developer.twitter.com/en/docs/tweets/timelines/api-reference/get-statuses-user_timeline.html\n",
    "def request_user_timeline(twitter_id):\n",
    "    params = {\n",
    "        'screen_name' : twitter_id,\n",
    "        'trim_user' : '1',\n",
    "        'count' : '200',\n",
    "        'exlucde_replies' : '1',\n",
    "        'include_rts' : '0',\n",
    "        'tweet_mode': 'extended'\n",
    "    }\n",
    "    headers = {\n",
    "        'Authorization' : 'Bearer %s' % bearer\n",
    "    }\n",
    "\n",
    "    r = requests.get('https://api.twitter.com/1.1/statuses/user_timeline.json', headers=headers, params=params)\n",
    "    r.raise_for_status()\n",
    "    \n",
    "    return [tweet['full_text'] for tweet in r.json()]\n",
    "        "
   ]
  },
  {
   "cell_type": "code",
   "execution_count": 83,
   "metadata": {
    "collapsed": true
   },
   "outputs": [],
   "source": [
    "from tqdm import tqdm_notebook\n",
    "def fetch_party_tweets(dictionary, tids):\n",
    "    for i, tid in tqdm_notebook(enumerate(tids)):\n",
    "        try:\n",
    "            dictionary[tid] = request_user_timeline(tid)\n",
    "        except requests.HTTPError as e:\n",
    "            if e.response.status_code == 429:\n",
    "                print(\"Rate Limit Exceeded at index %d\" % i)\n",
    "                raise(e)\n",
    "            else:\n",
    "                print(\"Status Code %d for user %s\" % (e.response.status_code, tid))\n",
    "                continue"
   ]
  },
  {
   "cell_type": "code",
   "execution_count": 77,
   "metadata": {
    "scrolled": true
   },
   "outputs": [
    {
     "name": "stdout",
     "output_type": "stream",
     "text": [
      "Status Code 404 for user nancypelosi\n",
      "Status Code 401 for user foofightersdave\n",
      "Status Code 401 for user RepMikeCapuano\n",
      "Status Code 404 for user SenBennetCo\n",
      "Status Code 401 for user RepGeneGreen\n",
      "Status Code 404 for user whiphoyer\n",
      "Status Code 404 for user Clyburn\n",
      "Status Code 404 for user RepCorrineBrown\n",
      "Status Code 404 for user RepSamFarr\n",
      "Status Code 404 for user elizabethforma\n",
      "Status Code 404 for user RepBrady\n",
      "Status Code 401 for user AmbassadorPower\n",
      "Status Code 404 for user RepSinema\n",
      "Status Code 404 for user espyforsenate\n",
      "Status Code 401 for user RepBecerra\n",
      "Status Code 404 for user BrightforFCVT\n",
      "Status Code 404 for user MayorBenMcAdams\n",
      "Status Code 404 for user RepEsty\n",
      "Status Code 404 for user repmurphyfl\n",
      "Status Code 404 for user wfpertharin\n",
      "Status Code 401 for user epmurphy\n",
      "Status Code 401 for user Schneiderman\n",
      "Status Code 401 for user RepEvanJenkins\n",
      "Status Code 401 for user joemorelle\n",
      "Status Code 401 for user LorettaLynch\n",
      "Status Code 404 for user SenatorKelly\n",
      "Status Code 401 for user AvelloneForGov\n",
      "Status Code 401 for user Dorman2014\n",
      "Status Code 404 for user ncreprichardson\n",
      "Status Code 404 for user repjanetcruz\n",
      "Status Code 404 for user AimeeBelgard\n",
      "Status Code 404 for user bmaloch\n",
      "Status Code 404 for user SenatorSylvia\n",
      "Status Code 404 for user BillForOhio\n",
      "Status Code 404 for user LUnderwood630\n",
      "Status Code 404 for user RepDuaneHall\n",
      "Status Code 404 for user Racine4AG\n",
      "Status Code 404 for user Taylor4USSenate\n",
      "Status Code 404 for user MBFforCongress\n",
      "Status Code 404 for user lucywins2018\n",
      "Status Code 404 for user RyanforFLAG\n",
      "Status Code 404 for user GDouglasJones\n",
      "Status Code 404 for user repjackyrosen\n",
      "Status Code 401 for user Ojeda4congress\n"
     ]
    }
   ],
   "source": [
    "democrat_tweets = {}\n",
    "fetch_party_tweets(democrat_tweets, democrat_tids)"
   ]
  },
  {
   "cell_type": "code",
   "execution_count": 79,
   "metadata": {},
   "outputs": [
    {
     "data": {
      "text/plain": [
       "790"
      ]
     },
     "execution_count": 79,
     "metadata": {},
     "output_type": "execute_result"
    }
   ],
   "source": [
    "len(democrat_tweets)"
   ]
  },
  {
   "cell_type": "code",
   "execution_count": 81,
   "metadata": {},
   "outputs": [
    {
     "data": {
      "text/plain": [
       "['I had the opportunity to spend the morning with @GovEvers, and many other amazing leaders in education, on the fabulous Northside of Madison at Mendota Elementary School. Investing in our kids is the best investment we can make— hands down!  #PublicSchoolsWork https://t.co/oNxMeYcgk1',\n",
       " 'Legislators can be mothers too. @EmergeAmerica @EmergeWI @emilyslist @SheShouldRun @RepSargent @ChrisTaylorWI #wisconsin https://t.co/lEvHICfONE',\n",
       " 'It’s way past time and #Wisconsin should be joining in legalizing #marijuana all the way, for recreational purposes as well  @CapTimes @StevenElbow  https://t.co/6hHnCmeGgP',\n",
       " 'Each of us can act today to achieve planetary health. As global citizens we must first take responsibility for the state and stewardship of our planet, both through our vote and through direct action. #ClimateChange is bigger than any political moment https://t.co/GniTkMvxKz',\n",
       " 'I have been &amp; always will be a champion for fair &amp; transparent redistricting process. The people must choose their representatives not the other way around. I know that all Wisconsinites deserve an equal voice in our government!  https://t.co/fAyvgJTpgZ',\n",
       " '#HappyHolidaysToAll #2018 #teamsargent #wisconsin https://t.co/dclpNTnF5N',\n",
       " 'This year I embrace the #WinterSolstice2018 - the end and new beginnings. \\n\\n2018 was a year of amazing reflection and growth, and one that I am ready to put to bed. \\n\\nI am strong. I am soft. I am ready. https://t.co/JoxA8aSuU1',\n",
       " '***Morally Reprehensible– #WEDC &amp; #Foxconn Scheme Funneling #Wisconsin Jobs &amp; Taxpayer Money out of the State*** https://t.co/EytusyfVDT',\n",
       " '@dmcwo hopeful we can connect - @RepSargent',\n",
       " 'Whether it’s speaking up, volunteering our time, running for office, or most importantly voting. I know that together, we will continue to work towards what is best for all of Wisconsin.  - join me Tuesday to share your vision of Wisconsin: https://t.co/PGHsB6mzBx',\n",
       " 'Though the last month - and frankly the last 8 years of GOP rule in Wisconsin - has been extremely disappointing and downright frustrating, it’s imperative that we all are involved and engaged in our government. \\n\\nPlease join me on Tuesday: https://t.co/kCtJfsbaDm',\n",
       " 'I know that together, we will continue to work towards what is best for all of WI.',\n",
       " 'Though this is extremely disappointing, it’s imperative that we all continue to be involved and engaged in our government— whether it’s speaking up, volunteering our time, running for office, or most importantly voting.',\n",
       " 'impacts these laws have to our democracy. Good government is for and by the people, and Gov. Walker, @SpeakerVos, @SenFitzgerald, &amp; GOP  lawmakers who supported this legislation, are blatantly ignoring this fundamental principle. These leaders need to be held accountable.',\n",
       " 'Decisions made in darkness that ignore the thousands of constituent pleas are undemocratic and wrong. These bills strip powers from @GovElectEvers and AG-elect Kaul whom the people voted for on Nov. 6th, and include policies that disenfranchise voters, furthering the detrimental',\n",
       " 'Every single part of this process has lacked transparency, deliberation, cooperation, and above all has sorely lacked the input of the people. Even today, Gov. Walker decided to run to Green Bay to sign these bills into law and gave the public just 3 hours notice  of his plans.',\n",
       " '@GovWalker ‘s decision to sign SB 883, 884, &amp; 886 into law today is an attack on our democracy and a total override of the will of the people. His actions prove that he and Republican lawmakers are more concerned with partisan politics, than with the voices of voters across WI.',\n",
       " 'I will continue my work to end #Gunviolence so that one day our nation can find peace #SandyHook https://t.co/oGw3gC0aW8',\n",
       " 'In less than four days, over 1,500 people signed on to this document to call on Governor Walker to do the right thing. Today, I delivered your signatures and messages about why this is so important to you and to the future of good governance in Wisconsin. \\nhttps://t.co/T3qb8BmIjs https://t.co/R2Ywrrm4hN',\n",
       " '*** CALL TO ACTION *** SIGN ON TODAY *** SHARE ***\\n\\nGovernor Walker *can* do the right thing!  #WIPowerGrab \\n \\nhttps://t.co/T3qb8BmIjs',\n",
       " '#WIPowerGrab turns out voter suppression has been inside the @wigop  all along - #WIGOPPowergrab @Trevornoah   https://t.co/6SxiRLD4ZV',\n",
       " '“We are here today, unfortunately, because of the power-hungry Republicans in the state of WI who are afraid of your fabulous voices and actions,” she said. “Enough is enough. Right here, right now, this is what democracy looks like.” @dailycardinal https://t.co/vdUczpxmzO',\n",
       " 'Sargent is encouraging people to contact Walker whether or not they support the bills. She said she hopes he takes time to thoroughly review the legislation.\\n\\nhttps://t.co/4irX3LL3c0 @channel_3000',\n",
       " 'The fight continues. I encourage you to reach out to Gov. Walker’s office at (608)-266-1212 as he still has the power to listen to the people and to veto these bills. @WISCTV_News3 https://t.co/uAyOA4PXaA',\n",
       " 'Watch live at: https://t.co/8CCPtU6HPo . #WIGOPPowerGrab #WisconsinIsWatching https://t.co/WegPaNQv6h',\n",
       " 'Roll call at 10:19 PM\\n\\nWe were scheduled to start at 1:00 PM\\n\\nThe will of the people shall never be abridged!  #WIGOPPowergrab https://t.co/UW4xvW89Da',\n",
       " 'It is now 8:00pm, 7 hours after we were told session would be taking place. We have heard no word from Republican lawmakers, except that they want this vote to happen tonight. This is not what democracy looks like. #WisconsinIsWatching https://t.co/xvKedie2Dz',\n",
       " 'Still waiting for the GOP - they make the rules - but don’t follow them. We were to begin at 1:00 - it’s past 4. At least I’m getting my knitting on. #WIGOPPowergrab #WIUnion https://t.co/mpTU87oCTC',\n",
       " 'More than 2 hours past when the GOP scheduled us to appear in the chambers to debate the “extraordinary” session bills - we still wait. Currently they are holding a press conference #WIGOPCoup #WIGOPPowergrab #WIUnion https://t.co/DkX495d2mX',\n",
       " 'Not sure this is the tree lighting ceremony he envisioned . . . #wisconsin #WIpowergrab https://t.co/WWjDdmLlk4',\n",
       " '#RepresentationMatters https://t.co/n9FCjSuaaX',\n",
       " 'Power to the people #WIpowergrab https://t.co/UxrsE6J2O9',\n",
       " 'You bet! https://t.co/v4QtvOIqoH',\n",
       " 'You bet! I hear you. https://t.co/ehOGimxDfi',\n",
       " '5:35 Email from JFC Committee Clerk with JFC Executive Session notice for Monday at 12:31',\n",
       " '5:34 Email from JFC Committee Clerk with JFC session notice for Monday at 12:30',\n",
       " '5:24 Email from Legislative Fiscal Bureau with 90 page \"Summary\" of 5 proposed Extraordinary Session bills',\n",
       " '4:49 Email from GOP leadership saying to reserve Tuesday December 4th for Assembly Floor Session with more details to follow at a later time',\n",
       " 'Timeline of the Friday Afternoon GOP Maniacal Power Grab:\\n\\n4:32 Email received with possible bill drafts for 5 upcoming Extraordinary Session bills https://t.co/xvujBr6ZO5',\n",
       " 'READ --&gt; \"The impact of ignoring and dismissing Native lives continues to have a toll on the livelihoods of Native people, and this is especially true for Native women.\" @TheRealWenona  https://t.co/NPbBBqDiPY',\n",
       " 'Thank you for entrusting me with the incredible responsibility of being your voice in the Wi legislature. I am honored to represent you. The values I fight for - and my motivation to do better - all comes from you. #wipolitics @AssemblyDemsWI @WIAssemblyDems #thanksgiving https://t.co/EdLE6tnZXt',\n",
       " 'The #BorderLineShooting marks the 307th #massshooting in the U.S. this year, according to the Gun Violence Archive’s records #enough',\n",
       " '@ErikPfantz There was plenty on time. GOP leadership refused to allow a hearing.',\n",
       " 'Let the partisan games begin - WIGOP honestly, this is not what the voters of our state asked for yesterday at the polls #sourgrapes #wipolitics / https://t.co/uUVOcT7IQ2',\n",
       " 'Walker conceded -&gt; power of the people waking up! #wiunion',\n",
       " '#WIunion  @SolidaritySing #Wisconsin @WISuptTonyEvers https://t.co/lgAownNZDx',\n",
       " 'Wisconsin is a special place - and I am ready to do all I can so that everyone in our state is safe, can reach for their dreams, and where we can invest in a better tomorrow.',\n",
       " 'I would be remiss to not mention how much gratitude I have for the brave folks who ran and lost, the tireless campaign staff at all levels on all races, and the powerful on the ground volunteers who walked, knocked, dialed, cheered, and organized.',\n",
       " 'My colleagues, who I will stand side by side with, in the legislature are so dedicated and I know we will do great work.',\n",
       " 'I am looking forward to serving our great state with Tony Evers, Mandela Barnes, Sarah Godlewski, and Josh Kaul - they ran amazing races and have positive visions on how to move our state forward.',\n",
       " 'It is an extreme honor to be re-elected as the Assembly Representative of the 48th District. This is more than a job - it is a calling - and I am so humbled to have the support of my friends and  neighbors as I carry their voices and our values into the State Capitol.',\n",
       " '#GOTV #WIunion @AssemblyDemsWI https://t.co/wqiZrfGgqp',\n",
       " '@EmergeAmerica @EmergeWI #sisterhood #gotv https://t.co/zO0I87exiN',\n",
       " \"Check out your personalized ballot at the League of Women Voters' at https://t.co/jKAPD4RDSr #wisconsin #wiunion #GOTV\",\n",
       " 'You need a photo ID to vote in Wisconsin. You can use a WI driver license, a WI State ID, a US Military ID, a tribal ID from a federally recognized WI tribe, a US Passport, or a WI University or College Voter ID. For more options, https://t.co/fgIecULvWM.',\n",
       " \"If you aren't registered at your current address, you can register at the polls. Just bring your photo ID and a proof of your address like a utility bill, bank statement, or lease.\",\n",
       " \"Be sure you're registered at by checking https://t.co/4wt5E11z5A\",\n",
       " \"Polls R open 7 AM - 8 PM. If you're in line by 8 PM, you have the right to vote.\\nFind your polling place at https://t.co/El3lFNsj6J.\\nIf you run into any problems voting, call 1-866-OUR-VOTE. You can also request a provisional ballot if you don't have the correct ID for voting. https://t.co/wWw4qjczET\",\n",
       " 'Over 50% of Wisconsinites have the chance to @GOTV &amp; share their thoughts about #LegalizeMarijuana #legalizeopportunity #wisconsin - vote your values https://t.co/kuizmo4AIo',\n",
       " '#GOTV #Madison @UnionCabCoop #noexcuses #WIunion https://t.co/T3LRlAKWXL',\n",
       " 'A vote for Walker is a vote for Trump!\\n#GOTV https://t.co/JPOT2ER27f',\n",
       " '“We’re going to be able to have the means to regulate and tax marijuana in the same way that we regulate and tax alcohol in the state of Wisconsin, and we’re going to be able to address our massive racial disparities in regards to marijuana related arrests.\"',\n",
       " '\"By legalizing marijuana, we’re going to open the odor to countless good, family sustaining jobs. That’s really important.” #LegalizeIt',\n",
       " '“I know, as do over 60 percent of the people in the state of Wisconsin that support legalization of cannabis, that the most dangerous thing about marijuana in Wisconsin is that it’s illegal,\" @nbc15_madison https://t.co/75ypzzWAoY',\n",
       " 'If authentic and compassionate are bland I’m ok with that! \\u2066@Tony4WI\\u2069 // Democrats Are Going Bland To Beat Scott Walker — And It Might Just Work https://t.co/9Wpdcnvrkn',\n",
       " 'New Bridge is born. https://t.co/b4em4KphTZ',\n",
       " 'Katie from the West Madison Coalition shared the journey that was taken to choose the new name for this merged coalition',\n",
       " '@Paulsoglin reminded people to #GOTV2018 - that’s how we get support for the services we desire for all of the people in our community',\n",
       " '@Paulsoglin recollects the long investment that @CityofMadison has made in our seniors and how we support them - from housing to supportive services to healthcare to education to transportation',\n",
       " 'Christine shared words of the long journey of so many that bring us to the 2019 merger - a new strong agency to provide consistent quality services for our seniors',\n",
       " 'Mayor O’Connor of @CityofMonona shared the needs for her friends and neighbors in Monona and how our senior centers support them',\n",
       " 'Sonya from #EMMCA recognizes the growing number of seniors in our community, there are more complex concerns for these folks however there are less resources available to support our seniors',\n",
       " '@DaneCoJoe celebrates the coalition investing in our common good and strong community resources for our seniors',\n",
       " 'With the support of @CityofMadison @danecounty, @unitedwaydaneco, @CityofMonona, and many others',\n",
       " 'From in home supports, advocacy, healthy meals, and activities and so much more',\n",
       " '4 Madison senior coalitions announcing merger - in order to best support our fabulous Madison seniors',\n",
       " 'A FEMA Disaster Recovery Center has been opened in Dane County to help renters, home owners, and businesses affected by the severe storms/flooding. \\nHours of Operation are 9am-6pm Monday thru Saturday \\n2413 Parmenter St Middleton, WI 53562',\n",
       " 'Any home or business owners that experienced damage from the floods should visit this site: https://t.co/DZZCnPqrpd to find out how you could qualify for FEMA relief assistance for rebuilding your home or business after the flooding we experienced earlier this year',\n",
       " 'This election is about more than who you vote for - it’s also also about how we govern @BarackObama #WisconsinRally #gotv https://t.co/yui0plQfUL',\n",
       " 'It’s an exciting day for my boys - @BarackObama in #Wisconsin https://t.co/2BVRei7ATq',\n",
       " \"If you or someone you know might benefit from keeping your address and voting info confidential, find out more here: https://t.co/BdzIjMS48K\\n\\nYour vote is just as valuable as anyone's and you deserve to feel safe in exercising your right to vote in this election.\",\n",
       " 'I was thrilled to join Gov. Martin Schreiber at the ribbon cutting for the new Independent Living facilities on the Northside of Madison today / housing is human right for seniors too! #48AD #wipolitics #housing https://t.co/Q96QmaD1Bn',\n",
       " 'I urge folks to think hard about what true economic development should look like in Wisconsin',\n",
       " 'Foxconn continues to prove that protecting r land water and air are the least of their concerns as they move themselves into our state. Foxconn has made it clear that they will not be a good steward of r environment, which makes me extremely concerned to have them as a neighbor.',\n",
       " 'In fact, we know that Wisconsin does better when we each do our part to protect our environment. After all, the environment has a direct impact on our health, safety, and economic prosperity.',\n",
       " 'Economic development and environmental protections in Wisconsin are not and should not be seen as a \"one or the other\" choice. \\n\\nhttps://t.co/22Fu4xpr8K',\n",
       " \"Today the amazing @girls_inc launched their #GirlsToo campaign. It's never too early to be teaching young girls and boys the importance of respect and consent. Thank you, Girls Inc., for your leadership in our communities. #MeToo #GirlsToo https://t.co/OVRPxZfJBM\",\n",
       " 'Housing is a human right - we have good people at the table who want to make real change in Wisconsin! https://t.co/Kecyu6ZSdH',\n",
       " '#mmsdpride #ComingOutDay All of our kids deserve to be who they are, love themselves, and dream big! https://t.co/cmjpKWV6Js',\n",
       " 'Happy International Day of the Girl! \\n\\nToday is the time to thank your mother, a teacher, your daughter, and let a young woman or girl in your life know that no dream is too big. \\n\\n#GirlsTakeover #DayOfTheGirl #GirlHero',\n",
       " '@MMSDschools #MMSDPride #NationalComingOutDay2018 Listen to who you are and love yourself first! https://t.co/z0hlBgYEMy',\n",
       " '#WorldMentalHealthDay2018 \\n‘Happiness can be found even in the darkest of times, if one only remembers to turn on the light.’ – Albus Dumbledore from Harry Potter',\n",
       " '#WorldMentaHealthDay2018 When re-elected I will keep working hard in our legislature so that every child can grow up healthy, happy and resilient.\\n\\nI know there is so much more we can do to support mental health in our state - I know we would be healthier and kinder for it.',\n",
       " '#WorldMentalHealthDay2018 Today is World Mental Health Day, where we focus on supporting one and other and removing stigma. \\n\\n1:4 of us will experience mental illness at some point in our lives and our children are suffering more and at younger ages.',\n",
       " \"#WorldMentalHealthDay2018 - I used to think that the worst thing in like was to end up alone. It's not. The worst thing in life is to end up with people who make you feel alone. - Robin Williams, actor who committed suicide in 2014\",\n",
       " '@madison_mag @BierockMadison - 😂',\n",
       " '@madison_mag Chilling stats / important article but male students are survivors too - a more gender neutral headline - maybe? #wordsmatter https://t.co/VkVmYvD0hI',\n",
       " 'I’m proud of the work @ChrisTaylorWI and I have done for survivors. We won’t let politics get in the way of what we know is most important. Survivors deserve to be heard and to make decisions when they’re ready. https://t.co/WDkbcDNrAK',\n",
       " 'My job is so awesome! This morning I joined 30 amazing, hardworking women, including @TereseBerceau, to help build a house! And let me tell you, we had an absolute blast! Proud to help @HabitatDane make our community a great place to live, work and play for everyone. https://t.co/jDvAldjSQY',\n",
       " '@ChrisTaylorWI  and I #StandwithSurvivors - it’s a moral standard not a political ploy https://t.co/H3dNEEivZU',\n",
       " '@WarOnWarOff Cute!',\n",
       " '@ECmadtown @FBI And it is unfortunate that the FBI is literally being used here against our democracy.',\n",
       " 'Thank you @mannacafeph for standing with survivors / #DineOutForDAIS - plus I got to start my day out delicious 💕 https://t.co/GoSqHV4G3K',\n",
       " '@ECmadtown @FBI And your reaction is?',\n",
       " 'It is a shame that the @FBI is a tool in the partisan sham that moves the good ol boys forward and sh*its on every woman in our nation #KavanaughConfirmation #ReprentationMatters',\n",
       " \"What if you couldn’t afford to have your period? Use @CNN's calculator to see how period poverty would affect you: https://t.co/QDiApt2GvT\",\n",
       " 'Congratulations are in order for @amfam newest building The Spark! The Spark will be a hub for start-up companies to collaborate and work to improve our community. Proud to represent a company that cares so deeply for our community and values innovation and entrepreneurship. https://t.co/VwsCcV0lq5',\n",
       " 'Wi GOP clearly can’t keep their house in order - it is time to vote for change! https://t.co/BmqoN7hkKl',\n",
       " 'Women are you ready to roar? #KavanaghHearing #IStandWithChristineBlaseyFord #RepresentationMatters',\n",
       " '@ChuckGrassley is a bully and lacks compassion - he heard her - but doesn’t care #KavanaghHearing #IBelieveChristineBlaseyFord']"
      ]
     },
     "execution_count": 81,
     "metadata": {},
     "output_type": "execute_result"
    }
   ],
   "source": [
    "democrat_tweets[democrat_tids[600]]"
   ]
  },
  {
   "cell_type": "code",
   "execution_count": 84,
   "metadata": {
    "scrolled": true
   },
   "outputs": [
    {
     "data": {
      "application/vnd.jupyter.widget-view+json": {
       "model_id": "48fc2ffba2c54202a21cc2b6b4565742",
       "version_major": 2,
       "version_minor": 0
      },
      "text/plain": [
       "A Jupyter Widget"
      ]
     },
     "metadata": {},
     "output_type": "display_data"
    },
    {
     "name": "stdout",
     "output_type": "stream",
     "text": [
      "Status Code 404 for user RepKevinYoder\n",
      "Status Code 404 for user RepDaveCamp\n",
      "Status Code 404 for user RepJoeHeck\n",
      "Status Code 401 for user RepLynnJenkins\n",
      "Status Code 401 for user DaveReichert\n",
      "Status Code 401 for user governorgilmore\n",
      "Status Code 404 for user RepLoBiondo\n",
      "Status Code 404 for user CongCulberson\n",
      "Status Code 401 for user RepWestmoreland\n",
      "Status Code 404 for user RepErikPaulsen\n",
      "Status Code 404 for user RepKristiNoem\n",
      "Status Code 401 for user RepMikePompeo\n",
      "Status Code 404 for user RepJoePitts\n",
      "Status Code 401 for user RepJeffDenham\n",
      "Status Code 401 for user RepBillShuster\n",
      "Status Code 401 for user BrianSandoval\n",
      "Status Code 404 for user ohncornyn\n",
      "Status Code 401 for user govsandoval\n",
      "Status Code 401 for user usreprodney\n",
      "Status Code 401 for user USRepRodney\n",
      "Status Code 401 for user senatorlugar\n",
      "Status Code 401 for user Favre4Official\n",
      "Status Code 401 for user reprohrabacher\n",
      "Status Code 404 for user RepBoustany\n",
      "Status Code 404 for user repmickmulvaney\n",
      "Status Code 401 for user peterroskam\n",
      "Status Code 401 for user RepStevePearce\n",
      "Status Code 404 for user RepTrentFranks\n",
      "Status Code 401 for user tomleppert\n",
      "Status Code 401 for user mimimotivates\n",
      "Status Code 401 for user apnsadinapowell\n",
      "Status Code 404 for user RepKevinCramer\n",
      "Status Code 401 for user RepLukeMesser\n",
      "Status Code 404 for user repmurphyfl\n",
      "Status Code 401 for user RepMattSalmon\n",
      "Status Code 401 for user RepMeehan\n",
      "Status Code 404 for user RepTimMurphy\n",
      "Status Code 401 for user Marty_Nothstein\n",
      "Status Code 404 for user LtGovBradLittle\n",
      "Status Code 401 for user RepEvanJenkins\n",
      "Status Code 401 for user RepJasonLewis\n",
      "Status Code 404 for user Elvira_OnAir\n",
      "Status Code 401 for user LeahVukmir\n",
      "Status Code 404 for user laurencheape\n",
      "Status Code 401 for user karenhandel\n",
      "Status Code 401 for user mattwhitaker46\n",
      "Status Code 401 for user RepMimiWalters\n",
      "Status Code 404 for user 3568ni\n",
      "Status Code 404 for user EPAScottPruitt\n",
      "Status Code 404 for user _gunvalson\n",
      "Status Code 404 for user Gatsas4Governor\n",
      "Status Code 401 for user VogtForArizona\n",
      "Status Code 404 for user MayorTedGatsas\n",
      "Status Code 401 for user RepMikeBishop\n",
      "Status Code 404 for user shaban4congress\n",
      "Status Code 404 for user repdanayoung\n",
      "Status Code 401 for user CresentHardy\n",
      "Status Code 404 for user the_producer14\n",
      "Status Code 404 for user tomcroci\n",
      "Status Code 404 for user RepCurbelo\n",
      "Status Code 401 for user RepRyanCostello\n",
      "Status Code 401 for user RepScottTaylor\n",
      "Status Code 404 for user repdavetrott\n",
      "Status Code 401 for user RepDaveBrat\n",
      "Status Code 401 for user ChadMayesCA\n",
      "Status Code 404 for user EdelblutForGov\n",
      "Status Code 404 for user RepWDavidson\n",
      "Status Code 404 for user darrylglenn2016\n",
      "Status Code 401 for user LauraLoomer\n",
      "\n"
     ]
    }
   ],
   "source": [
    "republican_tweets = {}\n",
    "fetch_party_tweets(republican_tweets, republican_tids)"
   ]
  },
  {
   "cell_type": "code",
   "execution_count": 86,
   "metadata": {},
   "outputs": [
    {
     "data": {
      "text/plain": [
       "821"
      ]
     },
     "execution_count": 86,
     "metadata": {},
     "output_type": "execute_result"
    }
   ],
   "source": [
    "len(republican_tweets)"
   ]
  },
  {
   "cell_type": "code",
   "execution_count": 85,
   "metadata": {
    "scrolled": true
   },
   "outputs": [
    {
     "data": {
      "text/plain": [
       "['It was my honor to vote to re-elect Treasurer David Lillard and Comptroller Justin Wilson to continue their great work. Because of their leadership, Tennessee is one of the top three best financially managed states, and has the third-best funded state pension plan in the nation. https://t.co/ScxPxHNipu',\n",
       " 'The 2019 legislative session is off to a great start! https://t.co/FEnnWMTDcU',\n",
       " 'This afternoon, I took the oath of office as the 111th General Assembly was gaveled into session. I am grateful for the continued opportunity to serve in the State Senate and sincerely appreciate the confidence placed in me by the people of Shelby County. https://t.co/JxjdQ0wrwn',\n",
       " 'I love West Tennessee, but I have to admit East Tennessee is beautiful, too! Amanda, Bella, and I had a great time. #Smokies #TrailDog @TravelGburg @GatlinburgTN https://t.co/LHvypj4ORv',\n",
       " 'I’ll return to Nashville next week as the 111th General Assembly convenes on Tuesday. Here is a preview of my legislative priorities for this session. I look forward to continuing to represent Germantown, Cordova, and East Memphis! https://t.co/nKPaX10YRu',\n",
       " 'Happy to celebrate with my friend and former colleague: Tennessee’s newest Congressman @RepMarkGreen https://t.co/wdnBv3F78c',\n",
       " \"It was an honor to be in Washington today to celebrate the historic swearing-in of Tennessee's newest senator, Senator Marsha Blackburn! https://t.co/2rDZr2FiJl\",\n",
       " 'The Tennessee Consolidated Retirement System is one of the healthiest pension plans in the nation thanks to Treasurer David Lillard and fiscally responsible state leadership. https://t.co/EviAzyFpkv',\n",
       " 'Amanda and I wish you all a happy new year! https://t.co/vt6byKqRnG',\n",
       " 'As I reflect on 2018, I am overwhelmed with gratitude. Looking forward to 2019. #nye #TwentyNineteen https://t.co/yeFOalLiag',\n",
       " 'Great to share in some holiday cheer before the legislative work begins! @RepMarkWhite https://t.co/mEI3Q3Zr8U',\n",
       " \"High Point Climbing and Fitness Memphis has opened its flagship right here in East Memphis. This beautiful facility is Tennessee's largest indoor climbing space. When you stop in, be sure to welcome co-owner John Wiygul back home! #rainydayfun https://t.co/9v2lqrd5LI\",\n",
       " 'Enjoying a @memgrizz win with my favorite! https://t.co/8p0TbmVLxo',\n",
       " 'Thanks. You too! https://t.co/aDJogrikKe',\n",
       " 'Celebrating the greatest gift of all: Christ Jesus our Lord. Wishing you and your family all His blessings today. https://t.co/Q5Ft6AsAO8',\n",
       " 'A house divided today. Go Heels! https://t.co/oSWRPh3rP6',\n",
       " 'A constitutional amendment will not be required to allow sports betting. Read the full @dailymemphian article here: https://t.co/OpPa4QFYk4',\n",
       " 'We’re gettin’ biscuits tonight! 96-80 with 4 minutes left https://t.co/GPcHLC2TNb',\n",
       " 'Go Tigers Go! We need a strong comeback. https://t.co/JvKEOobhcN',\n",
       " 'Congratulations to @ltgovmcnally for receiving the Randy McNally Public Service Award from the @uofmemphis! https://t.co/tm66LC1pag',\n",
       " 'I want to welcome the 40+ legislators attending the very first @uofmemphis Legislative Retreat! Thank you to @TedTownsend901 and Jennie Verner for hosting. https://t.co/421U0IiUtc',\n",
       " '700 new jobs are coming to Memphis!\\nhttps://t.co/lKQqWiO8uS',\n",
       " 'Thank you, TVA! I encourage my constituents to participate in the public comment period, open until January 4. Details for how to submit a comment are in this article.\\nhttps://t.co/1P8nAJb78C',\n",
       " 'My two favorite girls! https://t.co/ai01fN0UD1',\n",
       " \"I'm glad to see this historic support for St. Jude! \\n\\nhttps://t.co/kbeGAYmYvi\",\n",
       " 'I look forward to working with my colleagues in the Legislature, law enforcement and veterans this session to pass this legislation. https://t.co/SEuG78KYeM',\n",
       " 'I am sad to hear of the passing of my neighbor on the Collierville square, Judge William Craig Hall. He was a friend, a gentleman, and a fine lawyer. \\nhttps://t.co/pp3mU8nb24',\n",
       " 'Congratulations to the newly-elected @tnsenategop officers!\\nLieutenant Governor @ltgovmcnally\\nSenate Majority Leader @SenJohnson \\nCaucus Chairman @YagerTweets \\nTreasurer @HaileforSenate \\nChaplain @SenShaneReeves \\nand Secretary Dolores Gresham https://t.co/Nh1C73KaFA',\n",
       " 'Happy 1st Sunday of Advent. “Behold, the virgin shall conceive and bear a son and shall call his name Immanuel.” Isaiah 7:14 https://t.co/HsJc0EMZwf',\n",
       " \"It's beginning to look a lot like Christmas at the State Capitol. https://t.co/ACQjwOmlQ4\",\n",
       " \"I'm glad to see that the gun crime rate in Shelby County is down 19.4 percent from 2017! https://t.co/3mIenSL0xA\",\n",
       " 'You know you’ve made it in politics when you get one of my friend @htmldon ‘s cool electoral maps! I’ve always wanted one of these. Thank you! https://t.co/YRoOC3Gmvr',\n",
       " '@MEM_PoliceDept, @ShelbyTNSheriff, and @TNHighwayPatrol are teaming up to decrease fatal and serious injury crashes, increase seat belt usage, decrease distracted driving, and reduce violent crimes through proactive traffic enforcement.  #operationgrizzly #safershelby https://t.co/ggIGJFAj61',\n",
       " 'There are all kinds of ways to get in the holiday spirit in Germantown! Check out some of these opportunities:\\nhttps://t.co/EWpZcQWYW3',\n",
       " 'Congratulations to Senator Marsha Blackburn!  I know she will continue to serve our state well in Washington. @VoteMarsha https://t.co/banXMhX9vZ',\n",
       " 'There is a lot for me to be thankful for this holiday season, but my wife is definitely at the top of my list. Wishing you and your family a wonderful Thanksgiving! 🦃 https://t.co/zajYWJwZUO',\n",
       " 'I hope you have a wonderful Thanksgiving with friends and family. #GiveThanks https://t.co/eV3P4E3qCi',\n",
       " 'Proud to see Tennessee with the highest score in the nation for laws preventing human trafficking in our state.\\nhttps://t.co/tf8h9LawCy',\n",
       " 'Results for the @tnhousegop election are in!\\nRep. Bill Dunn, House Speaker Pro Tempore\\n@WilliamLamberth, House Majority Leader\\n@CSexton25, Republican House Caucus Leader\\n@ricktillisTN, House Majority WHIP\\nand Rep. Paul Sherrell, Hosue Floor Leader\\nCongratulations to you all!',\n",
       " \"Congratulations to Tennessee's next Speaker of the House, @GlenCasada! https://t.co/JgRabmLeU6\",\n",
       " 'Great to see 300 new jobs coming to Shelby County! \\nhttps://t.co/mMFOIL5Vid',\n",
       " 'I strongly support the creation of a tourist development zone at the Memphis Fairgrounds. The City of Memphis put together a great plan, and I look forward to the economic and community development that will occur as a result of this project.\\nhttps://t.co/7D2JxoNf2k',\n",
       " 'Sharing the news of protecting workers rights in LA this week with @LJCenter! https://t.co/ow3t0geVZ4',\n",
       " 'Today, the Human Trafficking Task Force honored Mayor @BillKetron for his years of work in the legislature to prevent human trafficking in our state. Thank you, Mayor Ketron, for your leadership and partnership on this issue. https://t.co/f7HevaxUMW',\n",
       " 'Thank you @USAttyDunavant for continuing the great work. https://t.co/X8jcH9VXUp',\n",
       " 'I look forward to working with my colleagues in the Legislature, law enforcement and veterans this session to pass this legislation. https://t.co/wALTixjE6Z',\n",
       " 'I am sad to hear of the passing of Rep. Charles Sargent. Serving together on the Fiscal Review Committee, I truly appreciated his care for preserving Tennessee for the next generation. His presence in the legislature will be greatly missed. https://t.co/wuQfBMyvi3',\n",
       " 'To all veterans from Shelby County: Thank you for your service to our country. We do not take your service and sacrifice for granted. #VeteransDay https://t.co/x7u5YJXlGb',\n",
       " 'Earlier this week, Governor Haslam and the Department of Veterans Services held an event to honor our Tennessee veterans for their service to state and country. Thank you to the brave men and women who volunteer to keep our state and nation safe and free. #VeteransDay https://t.co/1iuzrtjwyO',\n",
       " 'Congratulations to Memphis University School which celebrated its 125th anniversary this week! #MUS125 @musowls\\nhttps://t.co/9BbmCaNObr',\n",
       " 'Bella is excited to be back at work in Nashville! #CapitolDogs https://t.co/msw6iHZXGR',\n",
       " 'It was a pleasure to talk about legislative priorities like vocational education and my bill to protect veterans with \\n@TNRepParkinson on @3onyourside this morning. Thanks @MConley_WREG3 and @TDemers_WREG3 for having me! https://t.co/AtETzzOQPb',\n",
       " 'Make sure to tune in to @3onyourside at the top of the hour to catch my discussion of the next legislative session with @MConley_WREG3 and @AColeman_WREG3! https://t.co/7wA67PttPC https://t.co/5c06c10uLk',\n",
       " 'My donut doesn’t have a donkey or an elephant on top—just cream cheesy goodness. #MakeDonutsNotWar #GibsonsDonuts #IStandwithGibsons https://t.co/mW586tXOLr',\n",
       " 'We could not have done this without your support, encouragement and prayers! Amanda and I are overwhelmed with gratitude. THANK YOU! #Germantown #EastMemphis #Cordova https://t.co/L3JZWyPOpq',\n",
       " 'I am proud to have filed the first bill of the new legislative session this morning to protect at-risk veterans. Learn more at: https://t.co/Epm4oXCaW9 https://t.co/JaDnpBQiZA',\n",
       " 'Thank you Germantown, Cordova, and East Memphis. I am humbled and honored to serve you again in the Tennessee State Senate! 🇺🇸🇺🇸 https://t.co/qWjnp4tec3',\n",
       " 'Thankful that my supporters are showing up all across Cordova, East Memphis, and Germantown. Polls close at 7! You still have time to #VoteKelsey 🗳🇺🇸 https://t.co/FuxUzswVcg',\n",
       " 'It’s a beautiful day to get out and #VoteKelsey! 🗳🇺🇸 https://t.co/UfsBx74SWf',\n",
       " 'Polls are open! 🗳 We need you to get out and #VoteKelsey if you haven’t already. Find your polling location here 👇🏼\\nhttps://t.co/x9OUv7uqBt https://t.co/IztqJIzDuc',\n",
       " 'It’s Election Day! Show up and #VoteKelsey! 🇺🇸🗳 https://t.co/W8BNWTIVFs',\n",
       " 'We need your help!! Election Day 🗳 is tomorrow and we need poll workers at multiple locations. If you’re available to join us for a few hours ⏰ tomorrow, contact 📧Jackson Darr at mail@votekelsey.com\\n——\\n #VoteKelsey on #ElectionDay 🇺🇸 https://t.co/cxbf6JtWrR',\n",
       " 'Make plans to join Amanda and me for an Election Night Watch Party!\\n—————-\\nDon’t forget to #VoteKelsey on Tuesday 7am-7pm!🗳 find your polling location at https://t.co/PYbeBErmMA https://t.co/jVFwAsBBwh',\n",
       " 'I’ve increased public school funding by 70% and we now have the fastest improving students in the nation. If you live in Germantown, East Memphis or Cordova, go to the polls on Tuesday and #VoteKelsey! 🗳\\nhttps://t.co/dlcxG1QEhZ',\n",
       " 'Tennessee students are the fastest improving in the nation in math, science, and reading. This week we announced that Houston High School led the state with an average ACT score of 25.9. #righttracktn @gmsdk12 https://t.co/U9tt2o2Nje',\n",
       " 'Great night for family and football. @Football_BCS advances to the 2nd round of the playoffs! https://t.co/G7R0p9Ri7D',\n",
       " 'I’m running on my record— I banned the state income tax, more than doubled the penalty for home burglars, and increased public school funding 70%. Vote for safer communities, stronger public schools, and a supply of good-paying jobs. #VoteKelsey this Tuesday! 🗳 https://t.co/jPozPujvQE',\n",
       " 'Early voting ends tonight at 7pm! Come say hi out at the @agricenterinternational and then #VoteKelsey. 🗳🇺🇸 Shorter lines are at 2nd Baptist on Walnut Grove, Compassion Church on Houston Levee at Polar &amp; Church of the Anunciation behind the Cordova Malco. https://t.co/2XG5hbJF8p',\n",
       " 'I’m very grateful to have the endorsement of the @tseaonline! They have put TN on the right track. \\nhttps://t.co/ZGr2ck100X',\n",
       " 'Today is the last day to early vote! Don’t miss the opportunity to avoid the long lines on Election Day. #GOTV and #VoteKelsey at any polling location 11-7! https://t.co/yQ27R9HO8J',\n",
       " 'What an honor it was to cast my vote for all our Republican candidates! What a great state we live in!! \\n———\\nEarly voting ends tomorrow! Vote at any early voting location 11-7. 🗳🇺🇸 https://t.co/lgxdSwffnm',\n",
       " 'Talking with voters and hearing their concerns is important to me. I’m honored to serve Cordova, East Memphis, and Germantown, and I humbly ask for your vote for re-election. #VoteKelsey 🗳🇺🇸 https://t.co/ZcKbbCOneO',\n",
       " 'It was with great excitement that Superintendant @JasonGmsd and I got to surprise Michael Robinson with a proclamation for being named the Grand Divison Winner for West TN in this year’s Teacher of the Year awards. We are fortunate to have Mr. Robinson at @houstonhighGMSD! https://t.co/hG42oBmb0A',\n",
       " 'Only two more days to early vote! Vote for a #SaferShelby and a #StrongerShelby. #VoteKelsey today 11-7 at any polling location! 🗳🇺🇸 https://t.co/tK3aT24J6f',\n",
       " 'Thank you for your support, @team_pac! It is an honor to serve our state employees, who are doing a great job moving TN in the right direction #RightTrackTN https://t.co/2DLtTyn0WT',\n",
       " '🚨Only 1 week until Election Day! 🚨\\n————\\nStop by any of the early voting locations before Friday and vote for safer communities, stronger public schools, and more and better paying jobs. #VoteKelsey 🗳🇺🇸 https://t.co/h28elQAy3t',\n",
       " 'Have you voted? 🗳Polls are open until 7pm! Go today and #VoteKelsey! 🇺🇸\\nNo line no wait at: Church of the Annunciation in Cordova, Second Baptist Church in East Memphis and Compassion Church in Germantown. https://t.co/xqGnXAHLdZ',\n",
       " 'Always encouraging to see familiar faces and meet new friends! Thank you to everyone who has taken the time to #VoteKelsey! 🗳🇺🇸 https://t.co/bd4Ye44H0M',\n",
       " 'Four more days to #GOTV at any early voting location! 🇺🇸\\n\\nNo line no wait at: Church of the Annunciation in Cordova, Second Baptist Church in East Memphis and Compassion Church in Germantown. \\n\\n🗳Polls are open 11-7! #VoteKelsey https://t.co/RTrHuCeQQW',\n",
       " 'Squeezed in the corn maze with family amongst all the campaigning. The polls are back open tomorrow for early voting through Thursday from 11-7. Get out and #VoteKelsey 🗳 https://t.co/gzCJ9i5YCX',\n",
       " 'As your state Senator, I doubled the penalty for armed home burglars and passed the toughest laws in the nation to fight human trafficking. \\n\\nFor a safer Shelby, #VoteKelsey! https://t.co/xP4HSPVuhv',\n",
       " 'High energy supporters at the Episcopal Church of the Annunciation in #Cordova with @Scottemcc! #VoteKelsey 🗳🇺🇸 #GOTV https://t.co/pFbUlSafaM',\n",
       " 'This is the last Saturday to early vote! Thankful for the supporters at White Station Church of Christ. #VoteKelsey 🗳🇺🇸 #GOTV https://t.co/Etkfur0aQB',\n",
       " '1/4 As both a member of the Tennessee Holocaust Commission and a fellow human being, my mind and heart are with those affected by today’s shooting at the Tree of Life Synagogue in Pittsburgh. https://t.co/4YTI6fdn5c',\n",
       " '2/4 Whoever committed this heinous crime should receive the full measure of punishment available under the law. I pray that the victims will recover if they are injured, and remembered if they have been tragically taken from their friends and families.',\n",
       " '3/4 I also hope that their shul will continue undaunted in their mission to tell others about the genocide committed by Nazi Germany through display of one of the Holocaust Torahs at Tree of Life.',\n",
       " '4/4 We must continue to share with the world what truly happened in the concentration camps, so that these actions of hatred will cease.',\n",
       " 'Thankful for those who protect and serve our country, and honored to have the support of Brian Walker, a veteran and leader in our community. #VoteKelsey 🗳🇺🇸 @VFWHQ https://t.co/8sBvncNAjA',\n",
       " 'Puppies make early voting even more fun! I love all the friendly faces and four-legged friends. #votekelsey #PuppiesforKelsey #gotv https://t.co/4VaSvp28Xt',\n",
       " 'A big thank you to Senator @SenJohnson for coming all the the way from Franklin to work the early voting polls with me. 🗳#VoteKelsey 🇺🇸 https://t.co/cgoR899NDc',\n",
       " 'Polls are open until 4pm today! Stop by the Agricenter to cast your vote 🗳 and say hello! #VoteKelsey https://t.co/qhNbYI493i',\n",
       " 'Glad to have the support of @BillLeeTN and @ltgovmcnally tonight! Together we will keep Tennessee moving in the right direction. #VoteKelsey #righttracktn https://t.co/FJKi4BuGdT',\n",
       " 'Republican nominee for Governor, @BillLeeTN and Tennessee Lieutenant Governor, @ltgovmcnally, are coming to town TONIGHT to help me win this race! Please join us to keep Cordova, East Memphis, and Germantown on the right path! #VoteKelsey https://t.co/Xb2buk98o9 https://t.co/NNv6mmITyn',\n",
       " 'It is an honor to be endorsed by Mayor Mike Palazzolo and all the Germantown Aldermen including John Barzizza, @GibsonAlderman,  @Rocky4Alderman, Dean Massey, and @forrestalderman. #LeadershipMatters #VoteKelsey https://t.co/zjmC9YtLMo',\n",
       " 'Knox had a great looking touchdown run tonight in a Seahawks victory! 🏈 https://t.co/EQ9E2ILIwP',\n",
       " 'Honored to be endorsed by Governor @BillHaslam! Together, we have worked to make Tennessee the fastest improving state in the country. Today, we have safer communities, stronger public schools, more and better paying jobs. #VoteKelsey #LeadershipforTN https://t.co/MgaS8AkBr9',\n",
       " 'A big thank you to Senator @YagerTweets for coming all the the way from East Tennessee to work the early voting polls with me. Stop by, vote and say hello. 🗳#VoteKelsey 🇺🇸 https://t.co/M6clZyNQM2',\n",
       " 'Thanks for coming! #RightTrackTN https://t.co/wARrCN31qw',\n",
       " 'Today was another great day at the polls. 🗳Early voting is quick and easy. Find out where you can vote here 👇🏼 https://t.co/0NrUAhmuKR',\n",
       " 'Honored to have Tennessee’s next governor, @BillLeeTN, and @ltgovmcnally in Memphis for my fundraiser. I hope you’ll join us! https://t.co/Xb2buk98o9 https://t.co/dybzjKVJHb',\n",
       " 'Election Day is 16 days away and polls are back open tomorrow! It’s an honor to serve Germantown, and I humbly ask for your vote to keep Tennessee on the right track. #VoteKelsey https://t.co/VIfYnBdQok',\n",
       " 'So many things I love about living in the Poplar Estates neighborhood. The PEHA Fall Festival is just one of them. #neighbors #friends #fall https://t.co/KFjyYDRjmH',\n",
       " 'It’s great to see my supporters showing up at the polls to #VoteKelsey. Have you voted yet? Early voting has started— find your closest polling location in the photos attached. 🇺🇸 https://t.co/IRjDTzvdgz',\n",
       " 'A lot of exciting things happening at the Houston Levee Community Center! It’s an honor to serve Cordova in the State Senate. https://t.co/7eRnGt3z20',\n",
       " 'It’s an honor to serve Germantown, Cordova, and East Memphis. I humbly ask for your vote. Early voting has started. Have you been to the polls? https://t.co/p2naU3qJKu',\n",
       " 'Tonight, the Northeast Shelby Republicans honored former Representative Ron Lollar at their annual Pasta and Politics dinner. He is missed. https://t.co/5bN4gyf4P8',\n",
       " 'Started the day off early speaking at the Cordova Republican Breakfast Club. Now it’s time to #GOTV #VoteKelsey #GoVoteTN https://t.co/7bcyU4WlpC',\n",
       " 'International Paper is one of the world’s leading producers of paper and paper products. They employ close to 52,000 people worldwide and call Memphis home. I am thankful for the chance to visit with their employees and am humbled by their support. https://t.co/RRjrpKpbfU',\n",
       " 'This election is critical to the future of Shelby County and our state. Remember, every vote matters. Early voting starts tomorrow! Vote early and #VoteKelsey. https://t.co/HBVwF29uyh',\n",
       " 'Amanda and I love Memphis and hope you do too! #ILoveMemphis #VoteKelsey https://t.co/AFmL6P746Q',\n",
       " 'The rain did not stop people from attending the 11th Annual Israel Festival at the @Agricenter_Intl. Great way to learn about and show support for America’s ally Israel. 🇮🇱 https://t.co/Spg5iaLBL9',\n",
       " 'Last Saturday before early voting. We are out spreading our positive message to the community! ✅🇺🇸 #VoteKelsey https://t.co/P1wQCbug9Q',\n",
       " \"Join us TOMORROW MORNING! We're doing a big door- knocking push and will be out in full force! Meet us at GOP HQ (7845 Trinity Rd #105, Cordova, TN 38018) at 9:30 a.m. Bring a smartphone, comfortable, and an appetite for doughnuts. Thank you for all your help! #VoteKelsey https://t.co/HcEEqEiuBl\",\n",
       " 'Humbled and honored to have the endorsement of Governor Bill Haslam. #VoteKelsey #GOTV https://t.co/SWa5FEJwje',\n",
       " 'Thank you to all my supporters! We met our financial goal for the 3rd Quarter and have tremendous momentum! Look for an exciting announcement on one last fundraiser coming soon! Each and every donation means a lot. Thanks again! #VoteKelsey #GOTV https://t.co/Is7ixajcnv',\n",
       " 'And it’s official! Judge @senatornorris https://t.co/AGG3e9nUi8',\n",
       " 'Congrats to @senatornorris for making the list to receive a confirmation vote this week! https://t.co/j1mqb94Ewa',\n",
       " 'I need your help! My opponent says this is a 50-50 race! There are doors to be knocked, phone calls to be made, and polling places to be manned. To volunteer, email mail@votekelsey.com or call (901) 482-3952. Thanks! https://t.co/vruJoccOma',\n",
       " 'Always encouraged when I get to speak to the @memphiscr. These are our future leaders! https://t.co/m6CTV2Ok9O',\n",
       " 'Starting our morning off right with @StaksRestaurant and our nephew, Knox. 🥞 https://t.co/gTFB9uwNi2',\n",
       " 'Working hard with 30 days until Election Day! The momentum is definitely swinging our way. #VoteKelsey on November 6! 🇺🇸 https://t.co/h6yjULC1O9',\n",
       " 'If you’re in Germantown today, you’ll find #VoteKelsey out in full force with @RepMarkWhite! Election Day is one month away! https://t.co/o1gs7O9vMQ',\n",
       " '.@MemphisChamber President and CEO Phil Trenary did so much for Memphis. Over the last few weeks, I have been reading the book that he gave me. He was a dedicated servant of our community, and will be greatly missed. https://t.co/b7QCgx8NWv',\n",
       " 'Love all the wildlife I see on my morning runs in @ShelbyFarmsPark These two are from this morning. Can you spot them? #nofilter https://t.co/8Zj11PlVRm',\n",
       " 'Bella is rooting on my nephew Knox and the Seahawks in a tight 7-6 battle in the Germantown Football League. #GoSeahawks! https://t.co/O8Nl8IH32p',\n",
       " 'Not to late to stop by @GermantownPD National Coffee with a Cop day. Drop by McDonald’s in Germantown before 10am to have coffee with Germantown’s finest. https://t.co/t4J9hw1xaM',\n",
       " 'Congratulations on a job well done @BillLeeTN! https://t.co/xqfZJRaTKk',\n",
       " 'Great to see @germantowntenn citizens and Police Officers having fun on Germantown Night Out! https://t.co/C2ZHYM6Jc6',\n",
       " 'Unfortunately, the murder of Phil Trenary is a tragic reminder of the need for better public safety. I am committed to addressing the issue of crime in our community. Please take my crime survey to let me know what crime issues affect you most.\\nhttps://t.co/uaGOeDd8vl',\n",
       " 'Unfortunately, the murder of Phil Trenary is a reminder of the need for better public safety. I am committed to addressing the issue of crime in our community. Please fill out my crime survey and help me tackle this important issue!\\nhttps://t.co/uaGOeDd8vl',\n",
       " '⏰The deadline is MIDNIGHT tonight! ⏰\\n\\nToday is the last day to contribute to #VoteKelsey for the 3rd Quarter disclosure report! Please help me continue working hard for Cordova, East Memphis, and Germantown. https://t.co/ixBuKQS35f',\n",
       " \"Tomorrow is a big day for my husband. Please consider helping my husband. He's truly dedicated to serving you and our entire community. We need to keep him fighting for us in the state Senate. ~Amanda\\nhttps://t.co/ixBuKQS35f https://t.co/rTF0Mvi6iz\",\n",
       " 'Valiant effort by @Football_BCS in a 14-17 loss to Christian Brothers. @carringtonk8 with a punt block resulting in TD (&amp; this carry). https://t.co/tzyamebRBm',\n",
       " '@carringtonk8 with the blocked punt, &amp; @Football_BCS takes a 14-10 lead over @CBHS_Football https://t.co/89tahqB1Zb',\n",
       " '@Football_BCS off to a 7-0 start against @CBHSMemphis @johnvarlas',\n",
       " 'I want to hear from you! What crimes do you see as the biggest issue in your neighborhood?  Take my crime survey to let me know what issues matter most to you.\\nhttps://t.co/NWsbwEOES4',\n",
       " 'I am very sad to learn of the death of @MemphisChamber President Phil Trenary. His service and commitment to our community as both a businessman and chamber president was unparalleled. I pray for his family at this tragic time. https://t.co/diz9EXmbEJ',\n",
       " \"Together we can make sure that Cordova, East Memphis, and Germantown remain great places to live. I'm a doer, not a talker. I'll keep doing everything I can. Please consider helping my campaign.\\nhttps://t.co/ixBuKQS35f\",\n",
       " 'It’s my pleasure to knock doors for Representative Jim Coley. \\nHe is a strong advocate for public schools and works hard for the State of Tennessee. #VoteKelsey #VoteColey https://t.co/RH5OWERuxv',\n",
       " 'ICYMI: the pro-Memphis plan to de-annex Rocky Point, Southwind, and Windyke proposed by @MayorMemphis passed the @MEM_Council last night by an overwhelming bipartisan vote of 10-2. https://t.co/IrVFdxoIOg',\n",
       " \"Together, we can keep Cordova, East Memphis, and Germantown on the right path. I'm a doer, not a talker. Help me do what's necessary to keep our progress going! This fundraising quarter ends on Sunday! Can you help? https://t.co/ixBuKQS35f\",\n",
       " 'Glad to see Mayor Strickland’s plan pass the council today. Good for right-sizing Memphis and good for the residents. https://t.co/c4709fnYxn',\n",
       " 'Terrific turnout at the Memphis City Council meeting! I’m pleased to be working with the @CityOfMemphis  and @MayorMemphis on behalf of the residents of Southwind, Windyke and Rocky Point whom I represent. https://t.co/DlkSjbCftH',\n",
       " \"Make sure to wear red &amp; show your support for Mayor Strickland's plan to de-annex Rocky Point, Southwind, &amp; Windyke @ 3:30 this afternoon by attending the Memphis City Council meeting! If you are not able to attend, you can still watch the meeting live at https://t.co/3mIlgfthID. https://t.co/eBSHLfmQWt\",\n",
       " \"The state should return this surplus to the pockets of hardworking Tennesseans in the form of tax cuts. Let's lower the sales tax on food and repeal the Professional Privilege Tax! https://t.co/HK1BtiFHof\",\n",
       " \"I need your help to keep Cordova, East Memphis, and Germantown moving forward. The Democrats are pushing hard, but I'm fighting back. Help me keep Shelby County and Tennessee on the right path!   https://t.co/ixBuKQS35f\",\n",
       " 'I’m thankful for the continual support and encouragement of my loving family. https://t.co/KAqbzivYXx',\n",
       " \"There's an important deadline coming up in only one week! This fundraising quarter ends on the 30th! Please consider helping my campaign. #VoteKelsey.  https://t.co/ixBuKQS35f\",\n",
       " 'Sign up to volunteer at the link below and join Team #VoteKelsey today! https://t.co/tboDPy1T37 https://t.co/29KntuZgfM',\n",
       " 'Always good to share a table and stories with Holocaust survivor Jack Cohen. https://t.co/R0OPLblZEh',\n",
       " 'Big night for the @kelseycanine family. 9th grade @CHSDragons Homecoming Court for Ainsley &amp; 50-yard TD for @carringtonk8 #ProudUncle',\n",
       " \"September 30th is the most important fundraising deadline of the entire race. I'm working hard in my district, but I need your help to keep Cordova, East Memphis, and Germantown red. Can you donate TODAY? https://t.co/ixBuKQS35f\",\n",
       " 'No one knows Memphis like @willybearden .\\nThank you for documenting this great city’s history! https://t.co/MqWMjXfIZW',\n",
       " 'We should do this. My SB2023 with @GAHardaway would have done this &amp; increased the police officer killed in the line of duty death benefit from $25k to $100k. Thankfully, we increased it to $250k. https://t.co/Cu6CX2lONS',\n",
       " 'I wish my Jewish friends a meaningful Yom Kippur fast, and a year full of bountiful blessings. https://t.co/2y0ZRLjj6o',\n",
       " 'Watch for #VoteKelsey ads coming your way soon! #Cordova #EastMemphis #Germantown https://t.co/eVaksE9TgY',\n",
       " 'In Philadelphia 231 years ago today, our nation’s founders signed the United States Constitution. It is crucial that the principles outlined in this document are taught to the next generation. #ConstitutionDay https://t.co/rUaGEvopgA',\n",
       " 'Have you seen all the Kelsey signs popping up? We’ll be in your neighborhood soon. To pick up your own sign come by 7845 Trinity Road #104, Cordova, TN 38018! #votekelsey https://t.co/KZZzuj4a8l',\n",
       " 'Beale Street never disappoints! Showcasing TN music at @NewDaisyTheatre #MadeInTN @CamperRep &amp; Rep. Larry Miller @TNVacation https://t.co/bi3BnQSRwt',\n",
       " 'Encouraging to see such strong support in Shelby County for @VoteMarsha. #teammarsha #collierville #bbq https://t.co/0lsT81tT8r',\n",
       " 'I banned the state income tax, and now it’s time to ban the professional privilege tax. Enjoyed sharing that message with @CVentura_WREG3 and @NinaHarrelsonTV on #liveat9 @3onyourside https://t.co/iCzXJkA1Ot',\n",
       " \"Tune in to @3onyourside's Live at 9 in a few minutes to hear me discuss legislative priorities for the coming year with @MConley_WREG3 @AColeman_WREG3 and @TNRepParkinson. \\nhttps://t.co/7wA67PL4Ha\",\n",
       " \"I'll be on @3onyourside's Live at 9  later this morning with @TNRepParkinson, @MConley_WREG3, and @AColeman_WREG3!  Catch the live stream at this link \\nhttps://t.co/7wA67PttPC\",\n",
       " 'Important @CityOfMemphis  informational meeting to discuss the process and outcomes of a Rocky Point and Southwind-Windyke deannexation. I will continue my work on this issue for you in the state legislature when the General Assembly reconvenes in January. https://t.co/Hpo7Z8Cekn',\n",
       " 'It was a pleasure to speak to the Shelby County Republican Women’s Club — thank you all! https://t.co/LzkNN7M2SQ',\n",
       " 'Remembering the victims of the 9/11 terror attacks. Our lives were changed forever that day, 17 years ago today. #NeverForget https://t.co/e7YkPDmVI3',\n",
       " 'Bella helped put out the Kelsey signs today. Get yours at the Shelby County GOP HQ at Germantown Road &amp; Trinity! https://t.co/Yaqyx7u7NQ',\n",
       " 'Big win last night for @carringtonk8 &amp; @Football_BCS 30-28 over @haywoodhigh. Check out Carrington’s 2 TDs below. https://t.co/wX2nTBukcI',\n",
       " '@Football_BCS 30. @haywoodhigh 28. Final @johnvarlas https://t.co/wyeCc6rtUZ',\n",
       " '@carringtonk8 2nd TD of the night for @Football_BCS! Saints in a tight 20-21 halftime thriller with @haywoodtomcats. @johnvarlas https://t.co/yfcZxrYVWk',\n",
       " 'Sharing yard signage with the next governor! @BillLeeTN #DoorKnocking https://t.co/6kpwNWPKlg',\n",
       " 'This week marks the 149th anniversary of the beautiful and iconic Peabody Hotel! https://t.co/ssJyn01Fht',\n",
       " 'Well deserved honor! https://t.co/iii3OoYEdA',\n",
       " 'Always glad when I get the opportunity to speak to a group of supporters on the importance of electing conservative leaders in the Tennessee House and Senate. #votekelsey #november6 https://t.co/VLUkS5qHKj',\n",
       " 'Exciting innovation happening at Libertas School of Memphis in Frayser thanks to Bob Nardo and his team. Pleased to join @BillLeeTN and Maria Lee for a tour. https://t.co/RGaeeNWxHl',\n",
       " 'Honored to introduce Tennessee’s next governor, @BillLeeTN, at the Republican Women of Purpose meeting today. https://t.co/ZyeMeeCBiZ',\n",
       " 'I was honored to work as an intern for Judge Kavanaugh in the White House Counsel’s Office where I learned firsthand that he is a brilliant lawyer. He will be an exceptional addition to the United States Supreme Court.\\nhttps://t.co/t9szrQtdTN',\n",
       " 'I hope you are all having a wonderful and restful #LaborDayWeekend with family and friends! https://t.co/rBXaG36jWB',\n",
       " 'Excited to see Tennessee ranked #2 in the nation for small businesses!\\nhttps://t.co/cwKNyDt0BP',\n",
       " 'Out spreading our message of clean, safe drinking water for Memphis today. Vote Kelsey on November 6 to protect the Memphis Sands Aquifer. @scottbanbury @ProtectAquifer @SierraClub @SierraClubTN #protectouraquifer https://t.co/WSPxVqO0a4',\n",
       " 'Friday night lights never disappoint. Proud of my niece, Ainsley, for making pom at @CHSDragons. 2nd in the nation last year! https://t.co/nFKu2dFXcq',\n",
       " 'During my time in the legislature, we have increased funding for #K12education by 70%, including over $370 million for teacher salary increases over the last 3 years. Thank you to everyone who has shared your thoughts with me on how we can further improve education in Tennessee! https://t.co/g5it84E8dv',\n",
       " 'Phil Bredesen’s pick for President would never have given us #TaxCuts &amp; Justice Gorsuch. https://t.co/zt1B4Z9sNh',\n",
       " 'Today was the swearing in of Shelby County Mayor @LeeHarrisfor901 and our new county commissioners. I look forward to working together. https://t.co/gOk9yhX20n']"
      ]
     },
     "execution_count": 85,
     "metadata": {},
     "output_type": "execute_result"
    }
   ],
   "source": [
    "republican_tweets[republican_tids[500]]"
   ]
  },
  {
   "cell_type": "code",
   "execution_count": 87,
   "metadata": {
    "collapsed": true
   },
   "outputs": [],
   "source": [
    "import functools"
   ]
  },
  {
   "cell_type": "code",
   "execution_count": 91,
   "metadata": {
    "collapsed": true
   },
   "outputs": [],
   "source": [
    "n_democrat_tweets = functools.reduce(lambda x, y: x + len(y), democrat_tweets.values(), 0)\n",
    "n_republican_tweets = functools.reduce(lambda x, y: x + len(y), republican_tweets.values(), 0)"
   ]
  },
  {
   "cell_type": "code",
   "execution_count": 93,
   "metadata": {},
   "outputs": [
    {
     "name": "stdout",
     "output_type": "stream",
     "text": [
      "Democrat Tweets Scraped: 110805, made by 790 users\n",
      "Republican Tweets Scraped: 118425, made by 821 users\n"
     ]
    }
   ],
   "source": [
    "print(\"Democrat Tweets Scraped: %d, made by %d users\" % (n_democrat_tweets, len(democrat_tweets)))\n",
    "print(\"Republican Tweets Scraped: %d, made by %d users\" %( n_republican_tweets, len(republican_tweets)))"
   ]
  },
  {
   "cell_type": "code",
   "execution_count": 94,
   "metadata": {
    "collapsed": true
   },
   "outputs": [],
   "source": [
    "import pandas as pd"
   ]
  },
  {
   "cell_type": "code",
   "execution_count": 99,
   "metadata": {
    "collapsed": true
   },
   "outputs": [],
   "source": [
    "rows = [(\"democrat\", tid, tweet) for tid, tweets in democrat_tweets.items() for tweet in tweets]\n",
    "rows += [(\"republican\", tid, tweet) for tid, tweets in republican_tweets.items() for tweet in tweets]"
   ]
  },
  {
   "cell_type": "code",
   "execution_count": 101,
   "metadata": {
    "collapsed": true
   },
   "outputs": [],
   "source": [
    "df = pd.DataFrame(columns=['party', 'twitter_id', 'tweet'], data=rows)"
   ]
  },
  {
   "cell_type": "code",
   "execution_count": 104,
   "metadata": {
    "collapsed": true
   },
   "outputs": [],
   "source": [
    "df.to_csv('data/us_tweets.csv')"
   ]
  },
  {
   "cell_type": "markdown",
   "metadata": {},
   "source": [
    "# Data Limits\n",
    "* Max 200 Tweets per user\n",
    "* No Retweets or replies (Excluded after 200 tweet limit is imposed)"
   ]
  },
  {
   "cell_type": "markdown",
   "metadata": {},
   "source": [
    "# Additional information\n",
    "I'd like to separate people who are professional politicians from those that are just members of a political party."
   ]
  },
  {
   "cell_type": "code",
   "execution_count": 110,
   "metadata": {
    "collapsed": true
   },
   "outputs": [],
   "source": [
    "def query_party_politicians(party):\n",
    "    \n",
    "    # Query Wikidata public endpoint\n",
    "    # Results need to be paged 10000 at a time\n",
    "    \n",
    "    party_dict = {\n",
    "        'democrats' : 'wd:Q29552',\n",
    "        'republicans' : 'wd:Q29468'\n",
    "    }\n",
    "    \n",
    "    party_curi = party_dict[party]\n",
    "    \n",
    "    query = \"\"\"\n",
    "        SELECT DISTINCT ?tid WHERE {\n",
    "          ?person wdt:P102 %s;\n",
    "                  wdt:P2002 ?tid;\n",
    "                  wdt:P106 wd:Q82955.\n",
    "                  \n",
    "        }\"\"\" % party_curi\n",
    "    \n",
    "    params = {\n",
    "        'query' : query,\n",
    "        'format' : 'json'\n",
    "    }\n",
    "    result = requests.get(\"https://query.wikidata.org/sparql\", params = params)\n",
    "    \n",
    "    return result"
   ]
  },
  {
   "cell_type": "code",
   "execution_count": 112,
   "metadata": {
    "collapsed": true
   },
   "outputs": [],
   "source": [
    "democrat_politicians = query_party_politicians('democrats')\n",
    "republican_politicians = query_party_politicians('republicans')"
   ]
  },
  {
   "cell_type": "code",
   "execution_count": 121,
   "metadata": {
    "collapsed": true
   },
   "outputs": [],
   "source": [
    "democrat_politician_tids = set([row['tid']['value'] for row in democrat_politicians.json()['results']['bindings']])\n",
    "republican_politicians_tid = set([row['tid']['value'] for row in republican_politicians.json()['results']['bindings']])"
   ]
  },
  {
   "cell_type": "code",
   "execution_count": 122,
   "metadata": {},
   "outputs": [
    {
     "data": {
      "text/plain": [
       "(834, 651)"
      ]
     },
     "execution_count": 122,
     "metadata": {},
     "output_type": "execute_result"
    }
   ],
   "source": [
    "len(democrat_tids), len(democrat_politician_tids)"
   ]
  },
  {
   "cell_type": "code",
   "execution_count": 123,
   "metadata": {},
   "outputs": [
    {
     "data": {
      "text/plain": [
       "(890, 653)"
      ]
     },
     "execution_count": 123,
     "metadata": {},
     "output_type": "execute_result"
    }
   ],
   "source": [
    "len(republican_tids), len(republican_politicians_tid)"
   ]
  },
  {
   "cell_type": "markdown",
   "metadata": {},
   "source": [
    "# Separate Non-Politicians"
   ]
  },
  {
   "cell_type": "code",
   "execution_count": 137,
   "metadata": {
    "collapsed": true
   },
   "outputs": [],
   "source": [
    "df_annotated = df.copy()"
   ]
  },
  {
   "cell_type": "code",
   "execution_count": 138,
   "metadata": {
    "collapsed": true
   },
   "outputs": [],
   "source": [
    "df_annotated['politician'] = df['twitter_id'].apply(lambda x: x in republican_politicians_tid or x in democrat_politician_tids)"
   ]
  },
  {
   "cell_type": "code",
   "execution_count": 140,
   "metadata": {
    "collapsed": true
   },
   "outputs": [],
   "source": [
    "df_politicians = df_annotated[df_annotated['politician']]\n",
    "\n",
    "df_politicians = df_politicians.drop('politician', 1)\n",
    "\n",
    "df_politicians.to_csv('data/us_politician_tweets.csv')"
   ]
  },
  {
   "cell_type": "markdown",
   "metadata": {},
   "source": [
    "# Comment for Future\n",
    "Since I ended up only caring about professional politicians, it would have been much neater to use this query from the very begining:"
   ]
  },
  {
   "cell_type": "raw",
   "metadata": {},
   "source": [
    "SELECT DISTINCT ?party_name ?twitter_handle \n",
    "WHERE {\n",
    "    ?person wdt:P102 ?party;\n",
    "        wdt:P106 wd:Q82955;\n",
    "        wdt:P2002 ?twitter_handle.\n",
    "    ?party rdfs:label ?party_name\n",
    "    FILTER (?party IN (wd:Q29552, wd:Q29468))\n",
    "    FILTER((LANG(?party_name)) = \"en\")     \n",
    "}"
   ]
  }
 ],
 "metadata": {
  "kernelspec": {
   "display_name": "Python 3",
   "language": "python",
   "name": "python3"
  },
  "language_info": {
   "codemirror_mode": {
    "name": "ipython",
    "version": 3
   },
   "file_extension": ".py",
   "mimetype": "text/x-python",
   "name": "python",
   "nbconvert_exporter": "python",
   "pygments_lexer": "ipython3",
   "version": "3.6.2"
  }
 },
 "nbformat": 4,
 "nbformat_minor": 2
}
