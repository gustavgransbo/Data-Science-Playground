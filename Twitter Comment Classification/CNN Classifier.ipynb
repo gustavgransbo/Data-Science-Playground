{
 "cells": [
  {
   "cell_type": "markdown",
   "metadata": {},
   "source": [
    "# Introduction\n",
    "\n",
    "In this notebook I classify a set of tweets made by US politicians as being made by either a republican or a democrat.\n",
    "I use a small CNN architecture, allowing short explanations to be displayed alongside the prediction."
   ]
  },
  {
   "cell_type": "markdown",
   "metadata": {},
   "source": [
    "# Read Data"
   ]
  },
  {
   "cell_type": "markdown",
   "metadata": {},
   "source": [
    "## Read and Split Data"
   ]
  },
  {
   "cell_type": "code",
   "execution_count": 1,
   "metadata": {},
   "outputs": [
    {
     "name": "stderr",
     "output_type": "stream",
     "text": [
      "C:\\Users\\Gustav\\Anaconda3\\lib\\site-packages\\IPython\\core\\interactiveshell.py:2698: DtypeWarning: Columns (0) have mixed types. Specify dtype option on import or set low_memory=False.\n",
      "  interactivity=interactivity, compiler=compiler, result=result)\n"
     ]
    }
   ],
   "source": [
    "import pandas as pd\n",
    "\n",
    "tweets_df = pd.read_csv('data/us_politician_tweets.csv')\n",
    "\n",
    "tweets_df['target'] = tweets_df['party'].apply(lambda x: x == 'democrat')"
   ]
  },
  {
   "cell_type": "markdown",
   "metadata": {},
   "source": [
    "## Pre-process data"
   ]
  },
  {
   "cell_type": "code",
   "execution_count": 2,
   "metadata": {
    "collapsed": true
   },
   "outputs": [],
   "source": [
    "vocab = {}\n",
    "\n",
    "from nltk.corpus import stopwords\n",
    "from nltk.tokenize import word_tokenize\n",
    "\n",
    "stopwords = set(stopwords.words())\n",
    "\n",
    "import re\n",
    "\n",
    "def process_tweet(tweet):\n",
    "    \n",
    "    tweet = str(tweet)\n",
    "    # Lower Case\n",
    "    tweet = tweet.lower()\n",
    "    \n",
    "    # Remove concluding URL\n",
    "    tweet = re.sub(r' *https:\\/\\/t.co\\/\\w+$', '', tweet)\n",
    "    \n",
    "    # Replace other URLs with url tag\n",
    "    tweet = re.sub(r'https?:.*?\\s', 'url', tweet)\n",
    "    \n",
    "    # Replace carriage return and linebrak with space\n",
    "    tweet = re.sub(r'[\\r\\n]', ' ', tweet)\n",
    "    \n",
    "    # Remove emoticons\n",
    "    tweet = re.sub(r'&amp;', '', tweet)\n",
    "    \n",
    "    # Remove punctuation\n",
    "    tweet = re.sub(r'[.,:;?!\"]', ' ', tweet)\n",
    "    \n",
    "    # Tokenize by whitespace\n",
    "    tweet = word_tokenize(tweet)#.split(\" \")\n",
    "    \n",
    "    # Remove\n",
    "    \n",
    "    tweet = [tok for tok in tweet if tok != '' and tok not in stopwords]\n",
    "    \n",
    "    return tweet\n",
    "\n",
    "def extend_vocab(tweet):\n",
    "    tweet = process_tweet(tweet)\n",
    "    for word in tweet:\n",
    "        try:\n",
    "            vocab[word] += 1\n",
    "        except KeyError:\n",
    "            vocab[word] = 1"
   ]
  },
  {
   "cell_type": "markdown",
   "metadata": {},
   "source": [
    "## Tokenize Data"
   ]
  },
  {
   "cell_type": "code",
   "execution_count": 3,
   "metadata": {
    "collapsed": true
   },
   "outputs": [],
   "source": [
    "tweets_df['tokenized_tweet'] = tweets_df['tweet'].apply(process_tweet)"
   ]
  },
  {
   "cell_type": "code",
   "execution_count": 4,
   "metadata": {},
   "outputs": [
    {
     "name": "stdout",
     "output_type": "stream",
     "text": [
      "The training set contains 174740 sentences and 3007148 tokens\n"
     ]
    }
   ],
   "source": [
    "from functools import reduce\n",
    "\n",
    "n_sentences = len(tweets_df)\n",
    "n_tokens = reduce(lambda x, y: x + len(y), tweets_df.loc[:,'tokenized_tweet'].values, 0)\n",
    "\n",
    "print(\"The training set contains {} sentences and {} tokens\".format(n_sentences, n_tokens))"
   ]
  },
  {
   "cell_type": "markdown",
   "metadata": {},
   "source": [
    "## Construct token correction mapping\n",
    "In an attempt to allign as many tokens as possible in the raw data to tokens in GloVe I will construct a dictionary with conversions, which I will add on to iteratively."
   ]
  },
  {
   "cell_type": "markdown",
   "metadata": {},
   "source": [
    "Start of with a mapping where the target of all initial tokens is unkowns: `None`."
   ]
  },
  {
   "cell_type": "code",
   "execution_count": 5,
   "metadata": {},
   "outputs": [
    {
     "name": "stdout",
     "output_type": "stream",
     "text": [
      "Wall time: 1.64 s\n"
     ]
    }
   ],
   "source": [
    "%%time\n",
    "token_mapping = {}\n",
    "token_counts = {}\n",
    "for sentence in tweets_df.loc[:,'tokenized_tweet']:\n",
    "    for tok in sentence:\n",
    "        if tok not in token_mapping:\n",
    "            token_mapping[tok] = None\n",
    "            token_counts[tok] = 1\n",
    "        else:\n",
    "            token_counts[tok] += 1"
   ]
  },
  {
   "cell_type": "code",
   "execution_count": 6,
   "metadata": {},
   "outputs": [
    {
     "name": "stdout",
     "output_type": "stream",
     "text": [
      "There are 136049 unique tokens in the unprocessed data\n"
     ]
    }
   ],
   "source": [
    "print(\"There are %d unique tokens in the unprocessed data\" % len(token_mapping))"
   ]
  },
  {
   "cell_type": "markdown",
   "metadata": {},
   "source": [
    "# Glove Embeddings"
   ]
  },
  {
   "cell_type": "markdown",
   "metadata": {},
   "source": [
    "I will opt to use the 100 dimensional Glove 6B data. My vocabulary will be exactly the words inside the pretrained model."
   ]
  },
  {
   "cell_type": "code",
   "execution_count": 7,
   "metadata": {
    "collapsed": true
   },
   "outputs": [],
   "source": [
    "import os.path"
   ]
  },
  {
   "cell_type": "code",
   "execution_count": 8,
   "metadata": {
    "collapsed": true
   },
   "outputs": [],
   "source": [
    "import numpy as np"
   ]
  },
  {
   "cell_type": "code",
   "execution_count": 9,
   "metadata": {
    "collapsed": true
   },
   "outputs": [],
   "source": [
    "glove_path = 'C:/Users/Gustav/Data Science/glove/glove.6B/glove.6B.100d.txt'\n",
    "embeddings = {}\n",
    "token_index = {}\n",
    "index_token = {}\n",
    "embedding_dims = 100\n",
    "with open(glove_path, 'r', encoding='utf-8') as f:\n",
    "    for i, line in enumerate(f):\n",
    "        tok, *vec = line.split()\n",
    "        embeddings[tok] = np.array(vec, dtype='float32')\n",
    "        # Reserve index 0 for padding\n",
    "        token_index[tok] = i + 1\n",
    "        index_token[i+1] = tok"
   ]
  },
  {
   "cell_type": "markdown",
   "metadata": {},
   "source": [
    "# Allign Comments to GloVe"
   ]
  },
  {
   "cell_type": "code",
   "execution_count": 10,
   "metadata": {
    "collapsed": true
   },
   "outputs": [],
   "source": [
    "import re\n",
    "import tqdm\n",
    "import string\n",
    "\n",
    "def allign_to_vocab(vocab, mapping, token_counts, n_tokens):\n",
    "    \n",
    "    # Allign directly\n",
    "    mapping = allign_with_func(mapping, vocab, direct_allignment)\n",
    "    oov = find_oov(mapping)\n",
    "    oov_percent = 100 * sum([token_counts[tok] for tok in oov]) / n_tokens\n",
    "    print(\"%d OOV tokens before pre processing (%.3f%% of all tokens in the data set)\" % (len(oov), oov_percent))\n",
    "    \n",
    "    # Allign by replacing URL's with 'url'\n",
    "    mapping = allign_with_func(mapping, vocab, convert_url)\n",
    "    oov = find_oov(mapping)\n",
    "    oov_percent = 100 * sum([token_counts[tok] for tok in oov]) / n_tokens\n",
    "    print(\"%d OOV tokens after replacing urls with 'url' (%.3f%% of all tokens in the data set)\" % (len(oov), oov_percent))\n",
    "    \n",
    "    # Allign by converting to word within 1 Levensthein Damerau distance\n",
    "    mapping = allign_with_func(mapping, vocab, find_one_neighbour)\n",
    "    oov = find_oov(mapping)\n",
    "    oov_percent = 100 * sum([token_counts[tok] for tok in oov]) / n_tokens\n",
    "    print(\"%d OOV tokens after spelling correction (%.3f%% of all tokens in the data set)\" % (len(oov), oov_percent))\n",
    "    \n",
    "    return mapping\n",
    "\n",
    "def find_oov(mapping):\n",
    "    oov = []\n",
    "    for tok, target in mapping.items():\n",
    "        if not target:\n",
    "            oov.append(tok)\n",
    "    return oov\n",
    "\n",
    "def find_targets(oov, allignment_func, vocab):\n",
    "    targets = []\n",
    "    print(\"Applying function to oov tokens:\")\n",
    "    for tok in tqdm.tqdm(oov):\n",
    "        targets.append(allignment_func(tok, vocab))\n",
    "    return targets\n",
    "\n",
    "def allign_with_func(mapping, vocab, func):\n",
    "    oov = find_oov(mapping)\n",
    "    oov_targets = find_targets(oov, func, vocab)\n",
    "    for tok, target in zip(oov, oov_targets):\n",
    "            mapping[tok] = target\n",
    "    return mapping\n",
    "\n",
    "def direct_allignment(token, vocab):\n",
    "    if token in vocab:\n",
    "        return token\n",
    "    else:\n",
    "        return None\n",
    "    \n",
    "     \n",
    "def convert_url(token, vocab):\n",
    "    # Match words starting with www., http:// or https://\n",
    "    if re.match(r'^(?:https{0,1}\\:\\/\\/.*|www\\.*)', token):\n",
    "        return \"url\"\n",
    "    else:\n",
    "        return None\n",
    "\n",
    "# Checks for vocabulary words within 1 Damerau Levenstein distance and returns the first match\n",
    "# Logic inspired by http://norvig.com/spell-correct.html\n",
    "def find_one_neighbour(word, vocab):\n",
    "    \n",
    "    if len(word) <= 2:\n",
    "        return None\n",
    "    \n",
    "    ascii_vocab = string.ascii_lowercase\n",
    "    \n",
    "    # Tuples with all possible splits of word\n",
    "    splits = [(word[:i], word[i:]) for i in range(len(word))]\n",
    "    \n",
    "    # All words generated by deleting one character\n",
    "    for L, R in splits:\n",
    "        candidate = L + R[1:] if R else None\n",
    "        if candidate in vocab:\n",
    "            return candidate\n",
    "    # All words generated by swapping two characters in word\n",
    "    for L, R in splits:    \n",
    "        candidate = L + R[1] + R[0] + R[2:] if len(R) > 1 else None\n",
    "        if candidate in vocab:\n",
    "            return candidate\n",
    "    # All words generated by inserting a character in word\n",
    "    for L, R in splits:\n",
    "        for c in ascii_vocab:    \n",
    "            candidate = L + c + R \n",
    "            if candidate in vocab:\n",
    "                return candidate\n",
    "    # All words generated by replacing a character in word\n",
    "    for L, R, in splits:\n",
    "        for c in ascii_vocab:    \n",
    "            candidate = L + c +R[1:] if R else None\n",
    "            if candidate in vocab:\n",
    "                return candidate\n",
    "        \n",
    "    return None\n",
    "    "
   ]
  },
  {
   "cell_type": "code",
   "execution_count": 11,
   "metadata": {},
   "outputs": [
    {
     "name": "stdout",
     "output_type": "stream",
     "text": [
      "Applying function to oov tokens:\n"
     ]
    },
    {
     "name": "stderr",
     "output_type": "stream",
     "text": [
      "100%|█████████████████████████████████████████████████████████████████████| 136049/136049 [00:00<00:00, 1002327.16it/s]\n"
     ]
    },
    {
     "name": "stdout",
     "output_type": "stream",
     "text": [
      "84775 OOV tokens before pre processing (8.473% of all tokens in the data set)\n",
      "Applying function to oov tokens:\n"
     ]
    },
    {
     "name": "stderr",
     "output_type": "stream",
     "text": [
      "100%|████████████████████████████████████████████████████████████████████████| 84775/84775 [00:00<00:00, 538863.21it/s]\n"
     ]
    },
    {
     "name": "stdout",
     "output_type": "stream",
     "text": [
      "84772 OOV tokens after replacing urls with 'url' (8.473% of all tokens in the data set)\n",
      "Applying function to oov tokens:\n"
     ]
    },
    {
     "name": "stderr",
     "output_type": "stream",
     "text": [
      "100%|██████████████████████████████████████████████████████████████████████████| 84772/84772 [00:24<00:00, 3438.25it/s]\n"
     ]
    },
    {
     "name": "stdout",
     "output_type": "stream",
     "text": [
      "71791 OOV tokens after spelling correction (6.777% of all tokens in the data set)\n",
      "Wall time: 25.4 s\n"
     ]
    }
   ],
   "source": [
    "%%time\n",
    "token_mapping = allign_to_vocab(embeddings, token_mapping, token_counts, n_tokens)"
   ]
  },
  {
   "cell_type": "markdown",
   "metadata": {},
   "source": [
    "How frequent are OOV tokens?"
   ]
  },
  {
   "cell_type": "code",
   "execution_count": 12,
   "metadata": {},
   "outputs": [
    {
     "name": "stdout",
     "output_type": "stream",
     "text": [
      "203804 tokens in the data, thats 6.777% of all tokens\n"
     ]
    }
   ],
   "source": [
    "oov = find_oov(token_mapping)\n",
    "oov_count = 0\n",
    "for tok in oov:\n",
    "    oov_count += token_counts[tok]\n",
    "\n",
    "print(\"%d tokens in the data, thats %.3f%% of all tokens\" % (oov_count, 100 * oov_count / n_tokens))"
   ]
  },
  {
   "cell_type": "code",
   "execution_count": 13,
   "metadata": {},
   "outputs": [
    {
     "data": {
      "text/plain": [
       "['repspier',\n",
       " 'courageous—the',\n",
       " 'gunsafetynow',\n",
       " 'champions—today',\n",
       " 'speakerpelosi',\n",
       " 'repthompson',\n",
       " '116thcongress',\n",
       " 'constituents—and',\n",
       " 'nothing—so',\n",
       " 'getcovered',\n",
       " 'co/6k23dqilqs',\n",
       " 'optionbthere',\n",
       " 'givingtuesday',\n",
       " 'giffordscourage',\n",
       " 'girlscouts',\n",
       " 'amarch4ourlives',\n",
       " 'kidsrights',\n",
       " 'lucywins2018',\n",
       " 'blakemycoskie',\n",
       " 'endgunviolencetogether',\n",
       " 'co/cw76mgus3u',\n",
       " 'tourdetucson',\n",
       " 'katiehobbs',\n",
       " 'kyrstensinema',\n",
       " 'veteransday']"
      ]
     },
     "execution_count": 13,
     "metadata": {},
     "output_type": "execute_result"
    }
   ],
   "source": [
    "oov[:25]"
   ]
  },
  {
   "cell_type": "markdown",
   "metadata": {},
   "source": [
    "Let's check what spelling mistakes we fixed."
   ]
  },
  {
   "cell_type": "code",
   "execution_count": 14,
   "metadata": {
    "collapsed": true
   },
   "outputs": [],
   "source": [
    "fixed_spelling = {}\n",
    "for tok, target in token_mapping.items():\n",
    "    if tok != target and tok != 'url' and target:\n",
    "        fixed_spelling[tok] = target\n",
    "        "
   ]
  },
  {
   "cell_type": "markdown",
   "metadata": {},
   "source": [
    "Let's just peek at some fixes."
   ]
  },
  {
   "cell_type": "code",
   "execution_count": 15,
   "metadata": {},
   "outputs": [
    {
     "name": "stdout",
     "output_type": "stream",
     "text": [
      "hr8 -> r8\n",
      "30pm -> 3pm\n",
      "urlby -> urby\n",
      "//t -> g/t\n",
      "jahana -> jhana\n",
      "va10 -> a10\n",
      "90975 -> 9975\n",
      "ca25 -> a25\n",
      "blasey -> basey\n",
      "dcrums -> drums\n",
      "pa06 -> pax6\n",
      "ld24 -> d24\n",
      "mariodb -> mariadb\n",
      "bookshopsc -> bookshops\n",
      "ichri -> chri\n",
      "czentennial -> centennial\n",
      "anniv -> anni\n",
      "9/3 -> 93\n",
      "theirc -> their\n",
      "dday -> day\n",
      "uchicago -> chicago\n",
      "kwollack -> wollack\n",
      "-supported -> supported\n",
      "dmiliband -> miliband\n",
      "ministere -> ministre\n",
      "regles -> reles\n",
      "sanfran -> safran\n",
      "zbig -> big\n",
      "cdmx -> dmx\n",
      "bad-ass -> badass\n",
      "mi8 -> i8\n",
      "dlcc -> lcc\n",
      "cd-3 -> d-3\n",
      "iapol -> apol\n",
      "akgov -> argov\n",
      "ld26 -> d26\n",
      "r-ky -> roky\n",
      "ks03 -> ks3\n",
      "utpol -> utpal\n",
      "ut-2 -> t-2\n",
      "ia04 -> ea04\n",
      "neleg -> nele\n",
      "ld6 -> d6\n",
      "arpx -> rpx\n",
      "ar02 -> br02\n",
      "15pm -> 5pm\n",
      "cspan2 -> span2\n",
      "indeed… -> indeed\n",
      "work… -> work\n",
      "fy2000 -> f2000\n",
      "-mexico -> mexico\n",
      "800k -> 80k\n",
      "c-span2 -> c-span\n",
      "-supplied -> supplied\n",
      "amdt -> mdt\n",
      "cuidar -> cuidad\n",
      "jakelin -> wakelin\n",
      "caal -> aal\n",
      "góméz -> gómez\n",
      "precupa -> preocupa\n",
      "faltar -> altar\n",
      "verlas -> velas\n",
      "difícil -> dificil\n",
      "cir- -> cir\n",
      "¡no -> no\n",
      "¡la -> la\n",
      "¿necesita -> necesita\n",
      "pelo✂ -> pelo\n",
      "duchas -> ducas\n",
      "felicidades -> felicidade\n",
      "¡buena -> buena\n",
      "vulnerables -> vulnerable\n",
      "ciudadanía -> ciudadana\n",
      "lacounty -> labounty\n",
      "-elect -> elect\n",
      "¡feliz -> feliz\n",
      "ofrecerá -> ofrecer\n",
      "paseos -> pasos\n",
      "gratuitos -> gratuitous\n",
      "ybn -> bn\n",
      "entrevistó -> entrevista\n",
      "plática -> plástica\n",
      "¡de -> de\n",
      "measureh -> measure\n",
      "urland -> ruland\n",
      "đọc -> học\n",
      "nghị -> ngh\n",
      "của -> ca\n",
      "giám -> gim\n",
      "sát -> st\n",
      "quận -> qun\n",
      "lên -> ln\n",
      "việc -> vic\n",
      "trục -> trc\n",
      "những -> nhung\n",
      "nạn -> nn\n",
      "này -> ny\n",
      "trái -> tri\n",
      "với -> vi\n",
      "luôn -> lun\n",
      "ủng -> ng\n",
      "refugios -> refugio\n",
      "terminen -> termine\n",
      "reportera -> reporter\n",
      "vispera -> vipera\n",
      "reunión -> reunion\n",
      "¡por -> por\n",
      "llame -> lame\n",
      "¡gracias -> gracias\n",
      "400+ -> 400\n",
      "través -> traves\n",
      "indigentes -> indigenes\n",
      "borrar -> borra\n",
      "récord -> record\n",
      "visité -> visit\n",
      "gratuita -> gratuity\n",
      "argumentos -> arguments\n",
      "¡el -> el\n",
      "festivas -> festiva\n",
      "bastones -> bastone\n",
      "compró -> compra\n",
      "festivos -> festivus\n",
      "70+ -> 70\n",
      "residuos -> residues\n",
      "peligrosos -> peligroso\n",
      "afectar -> afecta\n",
      "url🚆 -> url\n",
      "¡que -> que\n",
      "informar -> informa\n",
      "reportajes -> reportages\n",
      "dedicaste -> dedicate\n",
      "propuesto -> propuesta\n",
      "chroniclesc -> chronicles\n",
      "recién -> recien\n",
      "período -> periodo\n",
      "supervisora -> supervisor\n",
      "¡me -> me\n",
      "30+ -> 30\n",
      "locutor -> locator\n",
      "jarrín -> jardín\n",
      "nbcla -> nbca\n",
      "pm-8 -> m-8\n",
      "tzeitel -> teitel\n",
      "cónsul -> consul\n",
      "distribución -> distribucion\n",
      "lleve -> leve\n",
      "spa7 -> spa\n",
      "ga13 -> a13\n",
      "url8 -> url\n",
      "usdol -> sudol\n",
      "lanita -> anita\n",
      "10/26 -> 1026\n",
      "icymi -> icmi\n",
      "4/13 -> 413\n",
      "10a-3p -> 10a-3a\n",
      "000+ -> 000\n",
      "fvsu -> vsu\n",
      "distrubing -> disturbing\n",
      "+38 -> 38\n",
      "housegop -> housego\n",
      "urlis -> ulis\n",
      "wsbtv -> wbtv\n",
      "howardu -> howard\n",
      "2874 -> 874\n",
      "10/27 -> 1027\n",
      "prgm -> rgm\n",
      "iycmi -> icmi\n",
      "3823 -> 823\n",
      "otd -> td\n",
      "cop24 -> cp24\n",
      "hillfire -> hellfire\n",
      "prop6 -> prop\n",
      "🌎https -> https\n",
      "sb100 -> b100\n",
      "gov't -> govt\n",
      "sots -> ots\n",
      "kdeleon -> deleon\n",
      "caleg -> aleg\n",
      "🚨dangerous -> dangerous\n",
      "👏to -> to\n",
      "hwy1 -> hwy\n",
      "sb35 -> s35\n",
      "150+ -> 150\n",
      "➡https -> https\n",
      "enviro+ -> enviro\n",
      "clips→ -> clips\n",
      "podcast→ -> podcast\n",
      "sb1 -> b1\n",
      "+climate -> climate\n",
      "cahsra -> cahora\n",
      "casots -> casts\n",
      "pro-us -> probus\n",
      "–turkey -> turkey\n",
      "arabia– -> arabia\n",
      "…us -> us\n",
      "hara-kari -> hara-kiri\n",
      "isil -> sil\n",
      "post-us -> postbus\n",
      "help… -> help\n",
      "1-word -> f-word\n",
      "25+m -> 25m\n",
      "anti-russians -> anti-russian\n",
      "anschluss… -> anschluss\n",
      "crimea… -> crimea\n",
      "did… -> did\n",
      "is…a -> isa\n",
      "azalben -> zalben\n",
      "f*cking -> fucking\n",
      "masner -> asner\n",
      "mccdonalds -> mcdonalds\n",
      "lakings -> laking\n",
      "11/28 -> 1128\n",
      "11/27 -> 1127\n",
      "schitt -> schlitt\n",
      "aetv -> etv\n",
      "exelsior -> excelsior\n",
      "excelcior -> excelsior\n",
      "zero-tolerence -> zero-tolerance\n",
      "sirensj -> sirens\n",
      "japantowns -> japantown\n",
      "usgao -> usao\n",
      "ndss -> dss\n",
      "anti-woman -> anti-roman\n",
      "5011 -> 011\n",
      "cyber-attack -> cyberattack\n",
      "sotu -> otu\n",
      "wrong-headed -> wrongheaded\n",
      "nohate -> notate\n",
      "bi-cameral -> bicameral\n",
      "hr38 -> r38\n",
      "in… -> in\n",
      "for… -> for\n",
      "winedale -> pinedale\n",
      "cruzin -> cruzi\n",
      "*courtesy -> courtesy\n",
      "pga… -> pga\n",
      "0846 -> 846\n",
      "gigem -> giger\n",
      "ltgov -> lgov\n",
      "dogust -> doust\n",
      "congras -> congas\n",
      "the… -> the\n",
      "d-day… -> d-day\n",
      "those… -> those\n",
      "stories… -> stories\n",
      "antonio… -> antonio\n",
      "of… -> of\n",
      "fine… -> fine\n",
      "competition… -> competition\n",
      "eternal… -> eternal\n",
      "w/sam -> wesam\n",
      "executive… -> executive\n",
      "feby -> eby\n",
      "world- -> world\n",
      "center… -> center\n",
      "county… -> county\n",
      "done… -> done\n",
      "james… -> james\n",
      "political… -> political\n",
      "w/a -> wa\n",
      "years… -> years\n",
      "espressions -> expressions\n",
      "and… -> and\n",
      "2017… -> 2017\n",
      "to… -> to\n",
      "florence… -> florence\n",
      "game7 -> game\n",
      "tcot -> cot\n",
      "vote… -> vote\n",
      "8/7c -> 8/7\n",
      "game… -> game\n",
      "ruger… -> ruger\n",
      "dwts… -> dwts\n",
      "usmca -> smca\n",
      "rd100 -> d100\n",
      "moury -> oury\n",
      "aundrea -> andrea\n",
      "arpae -> arae\n",
      "supoort -> suport\n",
      "-ukraine -> ukraine\n",
      "museuem -> musuem\n",
      "-poland -> poland\n",
      "day-in -> daykin\n",
      "day-out -> lay-out\n",
      "'professional -> professional\n",
      "holtec -> holte\n",
      "nuclear– -> nuclear\n",
      "cyber-attacks -> cyberattacks\n",
      "ceser -> eser\n",
      "maquin -> aquin\n",
      "cal_fire -> calfire\n",
      "kobes -> obes\n",
      "described- -> described\n",
      "jdunck -> junck\n",
      "loxatus -> lobatus\n",
      "cc0 -> c0\n",
      "aaronsw -> aarons\n",
      "wld -> ld\n",
      "something- -> something\n",
      "ideolator -> idolator\n",
      "question- -> question\n",
      "rtfb -> tfb\n",
      "incredible… -> incredible\n",
      "240k -> 40k\n",
      "230k -> 30k\n",
      "220k -> 20k\n",
      "210k -> 10k\n",
      "lesterland -> westerland\n",
      "55k -> 5k\n",
      "screedful -> screenful\n",
      "70k -> 7k\n",
      "—annise -> annise\n",
      "masterwhip -> mastership\n",
      "benyc -> beny\n",
      "sd6 -> d6\n",
      "electeds -> elected\n",
      "veges -> vees\n",
      "uhouston -> houston\n",
      "ostem -> stem\n",
      "ca39 -> a39\n",
      "medmen -> meden\n",
      "two- -> two\n",
      "democrats/ -> democrats\n",
      "rates… -> rates\n",
      "700k -> 700\n",
      "latimes -> latimer\n",
      "free… -> free\n",
      "representar -> representa\n",
      "defend/ -> defend\n",
      "éxito -> exito\n",
      "corrupción -> corrupcion\n",
      "cárteles -> carteles\n",
      "¡viva -> viva\n",
      "demócratas -> demócrata\n",
      "republicanos -> republicans\n",
      "políticas -> política\n",
      "mantenga -> mantega\n",
      "¡hoy -> hoy\n",
      "económicas -> económica\n",
      "votar -> otar\n",
      "¡es -> es\n",
      "elección -> selección\n",
      "boucho -> bouch\n",
      "faltan -> altan\n",
      "fy16 -> f16\n",
      "fy18 -> f18\n",
      "w/the -> withe\n",
      "selfie -> elfie\n",
      "potus⁩ -> potus\n",
      "metoo -> etoo\n",
      "ssci -> sci\n",
      "sun-filled -> fun-filled\n",
      "w/an -> wan\n",
      "'guts -> guts\n",
      "msnbc⁩ -> msnbc\n",
      "/demining -> demining\n",
      "ivoted -> voted\n",
      "w/home -> whome\n",
      "6568 -> 568\n",
      "repro -> repo\n",
      "kju -> ju\n",
      "innocent… -> innocent\n",
      "arabia… -> arabia\n",
      "10/23 -> 1023\n",
      "flotus -> lotus\n",
      "guilded -> gilded\n",
      "w/out -> wout\n",
      "93-97 -> 3-97\n",
      "spiesman -> spielman\n",
      "arms… -> arms\n",
      "jayz -> jaz\n",
      "newyears -> newyear\n",
      "wework -> rework\n",
      "feloni -> felon\n",
      "2018s -> 2018\n",
      "'jurassic -> jurassic\n",
      "'oh -> oh\n",
      "'both -> both\n",
      "1000+ -> 1000\n",
      "momc -> omc\n",
      "lasvegas -> glasvegas\n",
      "'trump -> trump\n",
      "earhardt -> erhardt\n",
      "'wall -> wall\n",
      "`shutdown -> shutdown\n",
      "'internet -> internet\n",
      "'nessel -> nessel\n",
      "'why -> why\n",
      "migop -> migo\n",
      "michigandems -> michiganders\n",
      "'fox -> fox\n",
      "'shutdown -> shutdown\n",
      "techtonic -> tectonic\n",
      "'more -> more\n",
      "xox -> ox\n",
      "wapo -> apo\n",
      "'fact -> fact\n",
      "superstorms -> superstorm\n",
      "'gm -> gm\n",
      "'team -> team\n",
      "rememberance -> remembrance\n",
      "-stock -> stock\n",
      "-trump -> trump\n",
      "freak-out -> freakout\n",
      "-mattis -> mattis\n",
      "'don -> don\n",
      "middle- -> middle\n",
      "gunsense -> nunsense\n",
      "'the -> the\n",
      "'some -> some\n",
      "'lifesaving -> lifesaving\n",
      "'nancy -> nancy\n",
      "4k+ -> 4k\n",
      "'ann -> ann\n",
      "'she -> she\n",
      "'obama -> obama\n",
      "sign-ups -> signups\n",
      "'sen -> sen\n",
      "maddow⁩ -> maddow\n",
      "'person -> person\n",
      "'republican -> republican\n",
      "'democracy -> democracy\n",
      "'are -> are\n",
      "'lame-duck -> lame-duck\n",
      "wisdems -> wisdoms\n",
      "'republicans -> republicans\n",
      "'democratic -> democratic\n",
      "dleonhardt -> leonhardt\n",
      "lsj -> sj\n",
      "'gop -> gop\n",
      "'house -> house\n",
      "'general -> general\n",
      "'michigan -> michigan\n",
      "galst -> gast\n",
      "—tb -> tb\n",
      "mauston -> muston\n",
      "afternoon… -> afternoon\n",
      "klatsch -> klatch\n",
      "you… -> you\n",
      "culvers -> culver\n",
      "uw-river -> up-river\n",
      "loosen… -> loosen\n",
      "hodag -> hoag\n",
      "hr1 -> r1\n",
      "ring—and -> ringland\n",
      "ndtc -> dtc\n",
      "nijc -> ijc\n",
      "citizenship… -> citizenship\n",
      "tyrae -> trae\n",
      "viccky -> vicky\n",
      "londonn -> london\n",
      "shantee -> santee\n",
      "cathalina -> catalina\n",
      "antash -> atash\n",
      "uwvc -> uvc\n",
      "41444 -> 1444\n",
      "axne -> ane\n",
      "sharice -> charice\n",
      "tlaib -> laib\n",
      "urlhas -> ulhas\n",
      "votevl -> votel\n",
      "bgtx -> gtx\n",
      "gameon -> gamon\n",
      "ny25 -> n25\n",
      "wny -> ny\n",
      "ny02 -> nr02\n",
      "ny11 -> n11\n",
      "ny19 -> n19\n",
      "ny21 -> n21\n",
      "ny22 -> n22\n",
      "ny23 -> nyt3\n",
      "ny24 -> n24\n",
      "ny27 -> nyt7\n",
      "sd3 -> d3\n",
      "jasenski -> jasinski\n",
      "majority— -> majority\n",
      "👉my -> my\n",
      "brittaney -> brittney\n",
      "seddio -> seddik\n",
      "cohall -> chall\n",
      "flipny -> flippy\n",
      "100+ -> 100\n",
      "—by -> by\n",
      "cyntoia -> cynthia\n",
      "mnag -> nag\n",
      "kfai -> fai\n",
      "-bernie -> bernie\n",
      "nyag -> yag\n",
      "gipsa -> ipsa\n",
      "tabke -> take\n",
      "swlrt -> swart\n",
      "hr-5 -> r-5\n",
      "hr-4 -> r-4\n",
      "hr-2 -> r-2\n",
      "hr-1 -> r-1\n",
      "6ppt -> ppt\n",
      "3–4 -> 34\n",
      "la18 -> a18\n",
      "w/my -> w/m\n",
      "500mw -> 500m\n"
     ]
    }
   ],
   "source": [
    "for i, (tok, target) in enumerate(fixed_spelling.items()):\n",
    "    if i == 500:\n",
    "        break\n",
    "    print(\"%s -> %s\" % (tok, target))"
   ]
  },
  {
   "cell_type": "markdown",
   "metadata": {},
   "source": [
    "A lot of these fixes just remove some uncessesary character in the original token, such as a hashtag, or `(opinion -> opinion`\n",
    "\n",
    "However, some of these fixes are not propper spelling fixes, like `3671 -> 671`. I will accept them anyway though, as I think they will make little difference."
   ]
  },
  {
   "cell_type": "markdown",
   "metadata": {},
   "source": [
    "## Apply the data corrections"
   ]
  },
  {
   "cell_type": "code",
   "execution_count": 16,
   "metadata": {
    "collapsed": true
   },
   "outputs": [],
   "source": [
    "def correct_tok(tok, mapping):\n",
    "    target = mapping[tok]\n",
    "    \n",
    "    return target if target else 'unk'"
   ]
  },
  {
   "cell_type": "code",
   "execution_count": 17,
   "metadata": {
    "collapsed": true
   },
   "outputs": [],
   "source": [
    "tweets_df.loc[:,'tokenized_tweet'] = tweets_df.loc[:,'tokenized_tweet'].apply(lambda s: [correct_tok(tok, token_mapping) for tok in s])"
   ]
  },
  {
   "cell_type": "markdown",
   "metadata": {},
   "source": [
    "Check sequence lengths"
   ]
  },
  {
   "cell_type": "code",
   "execution_count": 18,
   "metadata": {},
   "outputs": [
    {
     "data": {
      "text/plain": [
       "count    174740.000000\n",
       "mean         17.209271\n",
       "std           8.127515\n",
       "min           0.000000\n",
       "25%          11.000000\n",
       "50%          17.000000\n",
       "75%          24.000000\n",
       "max         112.000000\n",
       "Name: seq_len, dtype: float64"
      ]
     },
     "execution_count": 18,
     "metadata": {},
     "output_type": "execute_result"
    }
   ],
   "source": [
    "tweets_df.loc[:,'seq_len'] = tweets_df.loc[:,'tokenized_tweet'].apply(len)\n",
    "\n",
    "tweets_df.loc[:,'seq_len'].describe()"
   ]
  },
  {
   "cell_type": "markdown",
   "metadata": {},
   "source": [
    "Remove empty tweets."
   ]
  },
  {
   "cell_type": "code",
   "execution_count": 19,
   "metadata": {
    "collapsed": true
   },
   "outputs": [],
   "source": [
    "tweets_df = tweets_df.loc[tweets_df['seq_len'] > 0]"
   ]
  },
  {
   "cell_type": "code",
   "execution_count": 20,
   "metadata": {
    "collapsed": true
   },
   "outputs": [],
   "source": [
    "import matplotlib.pyplot as plt\n",
    "import seaborn as sns\n",
    "sns.set()\n",
    "%matplotlib inline"
   ]
  },
  {
   "cell_type": "code",
   "execution_count": 21,
   "metadata": {
    "collapsed": true
   },
   "outputs": [],
   "source": [
    "binned_seq_lens = np.bincount(tweets_df.loc[:,'seq_len'])\n",
    "n_bins = len(binned_seq_lens)\n",
    "binned_seq_lens_acu = np.cumsum(binned_seq_lens)"
   ]
  },
  {
   "cell_type": "code",
   "execution_count": 22,
   "metadata": {},
   "outputs": [
    {
     "data": {
      "text/plain": [
       "113"
      ]
     },
     "execution_count": 22,
     "metadata": {},
     "output_type": "execute_result"
    }
   ],
   "source": [
    "len(binned_seq_lens_acu[:1000])"
   ]
  },
  {
   "cell_type": "code",
   "execution_count": 23,
   "metadata": {},
   "outputs": [
    {
     "data": {
      "text/plain": [
       "Text(0,0.5,'Percentage of sentences same length or longer than X')"
      ]
     },
     "execution_count": 23,
     "metadata": {},
     "output_type": "execute_result"
    },
    {
     "data": {
      "image/png": "[encoded data removed]",
      "text/plain": [
       "<Figure size 1152x648 with 1 Axes>"
      ]
     },
     "metadata": {},
     "output_type": "display_data"
    }
   ],
   "source": [
    "f, ax = plt.subplots(figsize=(16,9))\n",
    "ax.plot(np.arange(n_bins), 100 * binned_seq_lens_acu/len(tweets_df))\n",
    "ax.set_xlabel('Sequence length')\n",
    "ax.set_ylabel('Percentage of sentences same length or longer than X')"
   ]
  },
  {
   "cell_type": "code",
   "execution_count": 24,
   "metadata": {},
   "outputs": [
    {
     "data": {
      "text/plain": [
       "0.9558219513459644"
      ]
     },
     "execution_count": 24,
     "metadata": {},
     "output_type": "execute_result"
    }
   ],
   "source": [
    "binned_seq_lens_acu[30]/len(tweets_df)"
   ]
  },
  {
   "cell_type": "markdown",
   "metadata": {},
   "source": [
    "Almost all sequences are shorter than 30 words, so I could improve training performance by setting a max sequence length of 30."
   ]
  },
  {
   "cell_type": "markdown",
   "metadata": {},
   "source": [
    "## Convert embeddings to tensor"
   ]
  },
  {
   "cell_type": "code",
   "execution_count": 25,
   "metadata": {
    "collapsed": true
   },
   "outputs": [],
   "source": [
    "import torch"
   ]
  },
  {
   "cell_type": "code",
   "execution_count": 26,
   "metadata": {
    "collapsed": true
   },
   "outputs": [],
   "source": [
    "embedding_weights = torch.zeros(len(embeddings) + 1, embedding_dims)\n",
    "for tok, i in token_index.items():\n",
    "    embedding_weights[i] = torch.from_numpy(embeddings[tok])"
   ]
  },
  {
   "cell_type": "code",
   "execution_count": 27,
   "metadata": {
    "collapsed": true
   },
   "outputs": [],
   "source": [
    "import numpy as np\n",
    "\n",
    "def split_party_authors(df):\n",
    "    author_tweets = df.groupby('twitter_id')\n",
    "    author_tweets = author_tweets.count()\n",
    "    author_tweets['cumsum'] = author_tweets['tweet'].cumsum()\n",
    "    author_tweets['%'] = author_tweets['cumsum'] / author_tweets['tweet'].sum()\n",
    "    \n",
    "    train_id = np.argmax(author_tweets['%'].values >= .7)\n",
    "    val_id = np.argmax(author_tweets['%'].values >= .85)\n",
    "    \n",
    "    train_authors = list(author_tweets.iloc[:train_id].index.values)\n",
    "    val_authors = list(author_tweets.iloc[train_id:val_id].index.values)\n",
    "    test_authors = list(author_tweets.iloc[val_id:].index.values)\n",
    "    \n",
    "    return train_authors, val_authors, test_authors\n",
    "\n",
    "def split_data(df):\n",
    "    \n",
    "    democrat_df = df[df['party'] == 'democrat']\n",
    "    republican_df = df[df['party'] == 'republican']\n",
    "    \n",
    "    democrat_train, democrat_val, democrat_test = split_party_authors(democrat_df)\n",
    "    republican_train, republican_val, republican_test = split_party_authors(republican_df)\n",
    "    \n",
    "    train_authors = democrat_train + republican_train\n",
    "    val_authors = democrat_val + republican_val\n",
    "    test_authors = democrat_test + republican_test\n",
    "    \n",
    "    return df.loc[df['twitter_id'].apply(lambda x: x in train_authors)], df.loc[df['twitter_id'].apply(lambda x: x in val_authors)], df.loc[df['twitter_id'].apply(lambda x: x in test_authors)]\n",
    "    "
   ]
  },
  {
   "cell_type": "code",
   "execution_count": 28,
   "metadata": {
    "collapsed": true
   },
   "outputs": [],
   "source": [
    "train_df, val_df, test_df = split_data(tweets_df)"
   ]
  },
  {
   "cell_type": "markdown",
   "metadata": {},
   "source": [
    "## Shuffle Data"
   ]
  },
  {
   "cell_type": "code",
   "execution_count": 29,
   "metadata": {
    "collapsed": true
   },
   "outputs": [],
   "source": [
    "train_df = train_df.sample(frac=1)\n",
    "val_df = val_df.sample(frac=1)\n",
    "test_df = test_df.sample(frac=1)"
   ]
  },
  {
   "cell_type": "markdown",
   "metadata": {},
   "source": [
    "## Convert data to tensors"
   ]
  },
  {
   "cell_type": "code",
   "execution_count": 30,
   "metadata": {
    "collapsed": true
   },
   "outputs": [],
   "source": [
    "def tokenized2tensor(tokenized_sentence, token_index):\n",
    "    return torch.from_numpy(np.asarray([token_index[tok] for tok in tokenized_sentence])).long()"
   ]
  },
  {
   "cell_type": "code",
   "execution_count": 31,
   "metadata": {
    "collapsed": true
   },
   "outputs": [],
   "source": [
    "X_train = [tokenized2tensor(sentence, token_index) for sentence in train_df.loc[:,'tokenized_tweet']]\n",
    "y_train = torch.from_numpy(train_df.loc[:,'target'].astype(int).values)"
   ]
  },
  {
   "cell_type": "code",
   "execution_count": 32,
   "metadata": {
    "collapsed": true
   },
   "outputs": [],
   "source": [
    "X_val = [tokenized2tensor(sentence, token_index) for sentence in val_df.loc[:,'tokenized_tweet']]\n",
    "y_val = torch.from_numpy(val_df.loc[:,'target'].astype(int).values)"
   ]
  },
  {
   "cell_type": "code",
   "execution_count": 33,
   "metadata": {
    "collapsed": true
   },
   "outputs": [],
   "source": [
    "X_test = [tokenized2tensor(sentence, token_index) for sentence in test_df.loc[:,'tokenized_tweet']]\n",
    "y_test = torch.from_numpy(test_df.loc[:,'target'].astype(int).values)"
   ]
  },
  {
   "cell_type": "markdown",
   "metadata": {},
   "source": [
    "## Pad the Data"
   ]
  },
  {
   "cell_type": "code",
   "execution_count": 34,
   "metadata": {
    "collapsed": true
   },
   "outputs": [],
   "source": [
    "class PaddedAndClipGenerator():\n",
    "    def __init__(self, x_set, y_set = None, batch_size = 126, max_len = 100, shuffle_batches=False):\n",
    "        \n",
    "        self.max_len = max_len\n",
    "        self.reshuffle = shuffle_batches\n",
    "        \n",
    "        if y_set is not None:\n",
    "            self.has_label = True\n",
    "        else:\n",
    "            self.has_label = False\n",
    "            \n",
    "        self.batch_size = batch_size\n",
    "        if self.has_label:\n",
    "            self.x, self.y, self.sequence_lengths = [], [], []\n",
    "        else:\n",
    "            self.x, self.sequence_lengths = [], []\n",
    "        # Pad Data so all batches have sequences of equal length\n",
    "        for idx in range(int(np.ceil(len(x_set) / float(self.batch_size)))):\n",
    "            batch_x = x_set[idx * self.batch_size:(idx + 1) * self.batch_size]\n",
    "            \n",
    "            # The input is sorted so the first sequence is the longest\n",
    "            batch_seq_len = min([len(batch_x[0]), self.max_len])\n",
    "            batch_x_pad = torch.zeros(len(batch_x), batch_seq_len, dtype=torch.long)\n",
    "            batch_sequence_lengths = torch.Tensor(list(map(len, batch_x))).int()\n",
    "            \n",
    "            for i, (seq, seq_len) in enumerate(zip(batch_x, batch_sequence_lengths)):\n",
    "                seq_len = min([batch_seq_len, seq_len])\n",
    "                batch_x_pad[i,:seq_len] = seq[:seq_len] \n",
    "            \n",
    "            self.x.append(batch_x_pad)\n",
    "            \n",
    "            if self.has_label:\n",
    "                batch_y = y_set[idx * self.batch_size:(idx + 1) * self.batch_size]\n",
    "                self.y.append(batch_y)\n",
    "        self.shuffle_batches()\n",
    "            \n",
    "            \n",
    "    def shuffle_batches(self):\n",
    "        idx = np.random.permutation(len(self.x))\n",
    "        self.x = [self.x[i] for i in idx]\n",
    "        self.y = [self.y[i] for i in idx]\n",
    "    \n",
    "    def __len__(self):\n",
    "        return len(self.x)\n",
    "    def __getitem__(self, idx):\n",
    "        if self.has_label:\n",
    "            return self.x[idx], self.y[idx]\n",
    "        else:\n",
    "            return self.x[idx]"
   ]
  },
  {
   "cell_type": "code",
   "execution_count": 35,
   "metadata": {
    "collapsed": true
   },
   "outputs": [],
   "source": [
    "def sort_sequences(X, y):\n",
    "    seq_lens = [len(x) for x in X]\n",
    "    idx = np.argsort(seq_lens)[::-1]\n",
    "    X = [X[i] for i in idx]\n",
    "    y = torch.Tensor([y[i] for i in idx])\n",
    "    return X, y"
   ]
  },
  {
   "cell_type": "code",
   "execution_count": 36,
   "metadata": {
    "collapsed": true
   },
   "outputs": [],
   "source": [
    "X_train, y_train = sort_sequences(X_train, y_train)\n",
    "X_val, y_val = sort_sequences(X_val, y_val)\n",
    "X_test, y_test = sort_sequences(X_test, y_test)"
   ]
  },
  {
   "cell_type": "code",
   "execution_count": 37,
   "metadata": {
    "collapsed": true
   },
   "outputs": [],
   "source": [
    "train_padded = PaddedAndClipGenerator(X_train, y_train, batch_size=126, shuffle_batches = True, max_len=30)\n",
    "val_padded = PaddedAndClipGenerator(X_val, y_val, batch_size=126, shuffle_batches = True, max_len=30)\n",
    "test_padded = PaddedAndClipGenerator(X_test,y_test,  batch_size=126, shuffle_batches = True, max_len=30)"
   ]
  },
  {
   "cell_type": "markdown",
   "metadata": {},
   "source": [
    "# CNN"
   ]
  },
  {
   "cell_type": "markdown",
   "metadata": {},
   "source": [
    "## Model"
   ]
  },
  {
   "cell_type": "code",
   "execution_count": 38,
   "metadata": {
    "collapsed": true
   },
   "outputs": [],
   "source": [
    "import torch.nn as nn\n",
    "import torch.nn.functional as F\n",
    "import torch.optim as optim\n",
    "\n",
    "from sklearn.metrics import average_precision_score\n",
    "from tqdm import tqdm_notebook\n",
    "\n",
    "import copy\n",
    "class CNNClassifierSignalInspection(nn.Module):\n",
    "    def __init__(self, vocab_size, hidden_size, embedding_weights, conv_kernels = [3]):\n",
    "        super(CNNClassifierSignalInspection, self).__init__()\n",
    "        self.hidden_size = hidden_size\n",
    "        self.embedding_size = embedding_weights.size(1)\n",
    "        self.n_conv_layers = len(conv_kernels)\n",
    "        \n",
    "        # Pre-trained embeddings, allowed to be refit during training\n",
    "        self.embedding = nn.Embedding(*embedding_weights.shape, _weight=embedding_weights, padding_idx=0)\n",
    "        \n",
    "        # Convolutional Layers (Padding to ensure we can process sequences shorter than the kernel)\n",
    "        self.conv_layers = []\n",
    "        \n",
    "        for kernel in conv_kernels:\n",
    "            self.conv_layers.append(nn.Conv1d(self.embedding_size, self.hidden_size, kernel, padding=kernel-1))\n",
    "        \n",
    "        # Fully Connected\n",
    "        self.fc = nn.Linear(self.hidden_size * self.n_conv_layers, 1)\n",
    "        \n",
    "        \n",
    "    def forward(self, batch):\n",
    "        \n",
    "        # BxL\n",
    "        \n",
    "        # Embeddings\n",
    "        embedded = self.embedding(batch).permute([0, 2, 1]) # BxCxL\n",
    "        \n",
    "        # Convolutions\n",
    "        conv_outputs = []\n",
    "        for conv in self.conv_layers:\n",
    "            x = conv(embedded) #BxCxL\n",
    "            x = F.relu(x) #BxCxL\n",
    "            x = F.max_pool1d(x, kernel_size=x.size(2)).reshape(batch.size(0), -1) #BxC\n",
    "            conv_outputs.append(x)\n",
    "        \n",
    "        x = torch.cat(conv_outputs, dim=1)\n",
    "        \n",
    "        # Fully connected\n",
    "        x = self.fc(x) #B\n",
    "        \n",
    "        # Fully Connected\n",
    "        #x = torch.sigmoid(x) #B\n",
    "        return x\n",
    "    \n",
    "    def interpret_prediction(self, sequence, id2token):\n",
    "        \n",
    "        # BxL\n",
    "        sequence = sequence.reshape(1,-1)\n",
    "        \n",
    "        with torch.no_grad():\n",
    "            # Embeddings\n",
    "            embedded = self.embedding(sequence).permute([0, 2, 1]) # BxCxL\n",
    "\n",
    "            # Convolutions\n",
    "            conv_outputs = []\n",
    "            max_signal = []\n",
    "            for conv in self.conv_layers:\n",
    "                x = conv(embedded) #BxCxL\n",
    "                x = F.relu(x) #BxCxL\n",
    "                max_signal.append(x.argmax(2))\n",
    "                x = F.max_pool1d(x, kernel_size=x.size(2)).reshape(sequence.size(0), -1) #BxC\n",
    "                conv_outputs.append(x)\n",
    "\n",
    "            x = torch.cat(conv_outputs, dim=1)\n",
    "            \n",
    "            #return max_signal\n",
    "            \n",
    "            impact = self.fc.weight * x\n",
    "            conv_kerlnels = [conv.kernel_size[0]  for conv in self.conv_layers]\n",
    "            activation_words = [self._ngrams_from_activation_ids(id2token, dim[0].tolist(), sequence, n) for dim, n in zip(max_signal, conv_kerlnels)]\n",
    "\n",
    "            # Fully Connected\n",
    "            #x = torch.sigmoid(x) #B\n",
    "            return impact[0].numpy(), np.array(functools.reduce(lambda x,y: x+y, activation_words)), torch.sigmoid(self.fc(x))\n",
    "    \n",
    "    def _ngrams_from_activation_ids(self, id2token, activation_start_ids, sequence, n):\n",
    "        \n",
    "        offset = n-1\n",
    "        \n",
    "        ngram_ids = [[word_id.item() for word_id in sequence[0,start_id + offset:start_id+n+offset ]] for start_id in activation_start_ids]\n",
    "        \n",
    "        return [\" \".join([id2token[word_id] for word_id in ngram]) for ngram in ngram_ids]\n",
    "        "
   ]
  },
  {
   "cell_type": "markdown",
   "metadata": {},
   "source": [
    "## Training Function"
   ]
  },
  {
   "cell_type": "code",
   "execution_count": 39,
   "metadata": {
    "collapsed": true
   },
   "outputs": [],
   "source": [
    "# Function inspired by https://pytorch.org/tutorials/beginner/transfer_learning_tutorial.html\n",
    "def train_model(model, train_generator, optimizer, criterion, dev_generator=None, epochs = 2):\n",
    "    \n",
    "    # Only enter the validation state if there is a validation_loader\n",
    "    phases = ['train']\n",
    "    data_dict = {'train' : train_generator} \n",
    "    if dev_generator:\n",
    "        phases.append('val')\n",
    "        data_dict['val'] = dev_generator\n",
    "        \n",
    "    for epoch in range(epochs):\n",
    "        \n",
    "        print('Epoch {}/{}'.format(epoch + 1, epochs))\n",
    "        print('-' * 10)\n",
    "\n",
    "        for phase in phases:\n",
    "            \n",
    "            data = data_dict[phase]\n",
    "            \n",
    "            # Only update model weights based on the training data\n",
    "            if phase == 'train':\n",
    "                model.train()\n",
    "            else:\n",
    "                model.eval()\n",
    "                \n",
    "            running_loss = 0.0\n",
    "            running_corrects = 0\n",
    "            comments_processed = 0\n",
    "            epoch_probas = []\n",
    "            epoch_labels = []\n",
    "            \n",
    "            pbar = tqdm_notebook(data, total = len(data))\n",
    "            for seq, labels in pbar:\n",
    "\n",
    "                optimizer.zero_grad()\n",
    "                \n",
    "                # Only track history during training\n",
    "                with torch.set_grad_enabled(phase == 'train'):\n",
    "                    outputs = model(seq).reshape(-1)\n",
    "                    loss = criterion(outputs, labels)\n",
    "                    probas = torch.sigmoid(outputs)\n",
    "                    predictions = probas > .5\n",
    "                    \n",
    "                    # Only perform backpropagation during training\n",
    "                    if phase == 'train':\n",
    "                        loss.backward()\n",
    "                        optimizer.step()\n",
    "                    \n",
    "                # Save statistics\n",
    "                running_loss += loss.item()\n",
    "                # Only count correct classifications when the label is not padding\n",
    "                running_corrects += torch.sum(predictions == labels.data.byte())\n",
    "                comments_processed += len(seq)\n",
    "                \n",
    "                epoch_probas += [prob.item() for prob in probas]\n",
    "                epoch_labels += list([label.item() for label in labels.byte()])\n",
    "                \n",
    "                pbar.set_description(\"APS: %.3f\" % average_precision_score(epoch_labels, epoch_probas))\n",
    "                \n",
    "                \n",
    "            epoch_loss = running_loss / comments_processed\n",
    "            epoch_acc = running_corrects.item() / comments_processed\n",
    "            epoch_average_precision_score = average_precision_score(epoch_labels, epoch_probas)\n",
    "            \n",
    "            if data.reshuffle:\n",
    "                # Shuffle the batch order so it's not the same next epoch\n",
    "                data.shuffle_batches()\n",
    "            \n",
    "            print('{} Loss: {:.4f} Acc: {:.4f}, APS: {:.4f}'.format(\n",
    "                phase, epoch_loss, epoch_acc, epoch_average_precision_score))\n",
    "                \n",
    "            "
   ]
  },
  {
   "cell_type": "code",
   "execution_count": 40,
   "metadata": {
    "collapsed": true
   },
   "outputs": [],
   "source": [
    "cnn_signal_inspection_small = CNNClassifierSignalInspection(embedding_weights.size(0), 10, embedding_weights, [1, 2])\n",
    "\n",
    "criterion = nn.BCEWithLogitsLoss()\n",
    "optimizer = optim.Adam(cnn_signal_inspection_small.parameters())"
   ]
  },
  {
   "cell_type": "code",
   "execution_count": 41,
   "metadata": {},
   "outputs": [
    {
     "name": "stdout",
     "output_type": "stream",
     "text": [
      "Epoch 1/2\n",
      "----------\n"
     ]
    },
    {
     "data": {
      "application/vnd.jupyter.widget-view+json": {
       "model_id": "0b7df97bd05a4eb0b657763a9782fe44",
       "version_major": 2,
       "version_minor": 0
      },
      "text/plain": [
       "A Jupyter Widget"
      ]
     },
     "metadata": {},
     "output_type": "display_data"
    },
    {
     "name": "stdout",
     "output_type": "stream",
     "text": [
      "\n",
      "train Loss: 0.0051 Acc: 0.6339, APS: 0.6945\n"
     ]
    },
    {
     "data": {
      "application/vnd.jupyter.widget-view+json": {
       "model_id": "84a2b06c7a1a497d94ffe99b38dd2b92",
       "version_major": 2,
       "version_minor": 0
      },
      "text/plain": [
       "A Jupyter Widget"
      ]
     },
     "metadata": {},
     "output_type": "display_data"
    },
    {
     "name": "stdout",
     "output_type": "stream",
     "text": [
      "\n",
      "val Loss: 0.0051 Acc: 0.6303, APS: 0.6883\n",
      "Epoch 2/2\n",
      "----------\n"
     ]
    },
    {
     "data": {
      "application/vnd.jupyter.widget-view+json": {
       "model_id": "fe8aa85bc72c4b4187d4be8dd791b05d",
       "version_major": 2,
       "version_minor": 0
      },
      "text/plain": [
       "A Jupyter Widget"
      ]
     },
     "metadata": {},
     "output_type": "display_data"
    },
    {
     "name": "stdout",
     "output_type": "stream",
     "text": [
      "\n",
      "train Loss: 0.0043 Acc: 0.7350, APS: 0.8164\n"
     ]
    },
    {
     "data": {
      "application/vnd.jupyter.widget-view+json": {
       "model_id": "997eb71a18f64833935b7ee185f0bfe0",
       "version_major": 2,
       "version_minor": 0
      },
      "text/plain": [
       "A Jupyter Widget"
      ]
     },
     "metadata": {},
     "output_type": "display_data"
    },
    {
     "name": "stdout",
     "output_type": "stream",
     "text": [
      "\n",
      "val Loss: 0.0050 Acc: 0.6459, APS: 0.7102\n"
     ]
    }
   ],
   "source": [
    "train_model(cnn_signal_inspection_small, train_padded, optimizer, criterion, dev_generator=val_padded)"
   ]
  },
  {
   "cell_type": "markdown",
   "metadata": {},
   "source": [
    "Based on deleted experiments, I have verified that more epochs lead to worse validation set performance."
   ]
  },
  {
   "cell_type": "code",
   "execution_count": 42,
   "metadata": {
    "collapsed": true
   },
   "outputs": [],
   "source": [
    "import functools"
   ]
  },
  {
   "cell_type": "markdown",
   "metadata": {},
   "source": [
    "### Eval model"
   ]
  },
  {
   "cell_type": "code",
   "execution_count": 43,
   "metadata": {
    "collapsed": true
   },
   "outputs": [],
   "source": [
    "def predict_with_model(model, generator):\n",
    "    \n",
    "    data = generator\n",
    "    model.eval()\n",
    "\n",
    "    running_corrects = 0\n",
    "    comments_processed = 0\n",
    "    all_probas = []\n",
    "    all_labels = []\n",
    "\n",
    "    pbar = tqdm_notebook(data, total = len(data))\n",
    "    for seq, labels in pbar:\n",
    "\n",
    "        with torch.set_grad_enabled(False):\n",
    "            outputs = model(seq).reshape(-1)\n",
    "            probas = torch.sigmoid(outputs)\n",
    "            predictions = probas > .5\n",
    "\n",
    "        # Save statistics\n",
    "        running_corrects += torch.sum(predictions == labels.data.byte())\n",
    "        comments_processed += len(seq)\n",
    "\n",
    "        all_probas += [prob.item() for prob in probas]\n",
    "        all_labels += list([label.item() for label in labels.byte()])\n",
    "\n",
    "        pbar.set_description(\"APS: %.3f\" % average_precision_score(all_labels, all_probas))\n",
    "\n",
    "\n",
    "    return all_probas, all_labels"
   ]
  },
  {
   "cell_type": "code",
   "execution_count": 44,
   "metadata": {},
   "outputs": [
    {
     "data": {
      "application/vnd.jupyter.widget-view+json": {
       "model_id": "93e31ed1263648bb8beb6da6a8ce357f",
       "version_major": 2,
       "version_minor": 0
      },
      "text/plain": [
       "A Jupyter Widget"
      ]
     },
     "metadata": {},
     "output_type": "display_data"
    },
    {
     "name": "stdout",
     "output_type": "stream",
     "text": [
      "\n"
     ]
    }
   ],
   "source": [
    "probas, labels = predict_with_model(cnn_signal_inspection_small, test_padded)"
   ]
  },
  {
   "cell_type": "code",
   "execution_count": 45,
   "metadata": {
    "collapsed": true
   },
   "outputs": [],
   "source": [
    "test_df_inspection = pd.DataFrame(data=np.array([probas, labels]).T, columns=['Probability', 'Label'])\n",
    "test_df_inspection['Predicted Label'] = test_df_inspection['Probability'] > .5"
   ]
  },
  {
   "cell_type": "code",
   "execution_count": 46,
   "metadata": {
    "collapsed": true
   },
   "outputs": [],
   "source": [
    "test_df_inspection['Correct'] = test_df_inspection['Label'] == test_df_inspection['Predicted Label']"
   ]
  },
  {
   "cell_type": "code",
   "execution_count": 47,
   "metadata": {},
   "outputs": [
    {
     "data": {
      "text/plain": [
       "0.6218305855599773"
      ]
     },
     "execution_count": 47,
     "metadata": {},
     "output_type": "execute_result"
    }
   ],
   "source": [
    "test_df_inspection['Correct'].sum() / len(test_df_inspection)"
   ]
  },
  {
   "cell_type": "code",
   "execution_count": 48,
   "metadata": {
    "collapsed": true
   },
   "outputs": [],
   "source": [
    "sns.set_style('whitegrid')"
   ]
  },
  {
   "cell_type": "code",
   "execution_count": 49,
   "metadata": {},
   "outputs": [
    {
     "name": "stderr",
     "output_type": "stream",
     "text": [
      "C:\\Users\\Gustav\\Anaconda3\\lib\\site-packages\\matplotlib\\axes\\_axes.py:6462: UserWarning: The 'normed' kwarg is deprecated, and has been replaced by the 'density' kwarg.\n",
      "  warnings.warn(\"The 'normed' kwarg is deprecated, and has been \"\n"
     ]
    },
    {
     "data": {
      "text/plain": [
       "<matplotlib.legend.Legend at 0x246e9d3c160>"
      ]
     },
     "execution_count": 49,
     "metadata": {},
     "output_type": "execute_result"
    },
    {
     "data": {
      "image/png": "[encoded data removed]",
      "text/plain": [
       "<Figure size 432x288 with 1 Axes>"
      ]
     },
     "metadata": {},
     "output_type": "display_data"
    }
   ],
   "source": [
    "f, ax = plt.subplots(figsize=(6,4))\n",
    "sns.distplot(test_df_inspection.loc[test_df_inspection['Label'] == True, 'Probability'],ax=ax)\n",
    "sns.distplot(test_df_inspection.loc[test_df_inspection['Label'] == False, 'Probability'],ax=ax)\n",
    "ax.axvline(.5, color='grey', linestyle='--')\n",
    "\n",
    "ax.legend(['Decision Threshold' , 'Democrat', 'Republican'])\n",
    "#ax.set_title('Distribution of Predictions by Gold Standard Class')"
   ]
  },
  {
   "cell_type": "markdown",
   "metadata": {},
   "source": [
    "### Inspect Filters"
   ]
  },
  {
   "cell_type": "code",
   "execution_count": 50,
   "metadata": {
    "collapsed": true
   },
   "outputs": [],
   "source": [
    "def print_most_influential(tweet_row, k):\n",
    "    \n",
    "    activations, activation_words, proba = cnn_signal_inspection_small.interpret_prediction(tokenized2tensor(tweet_row['tokenized_tweet'], token_index), id2token=index_token)\n",
    "    \n",
    "    sorted_idx = np.argsort(activations)\n",
    "    \n",
    "    democrat = proba.item() > .5\n",
    "    \n",
    "    print(tweet_row['tweet'])\n",
    "    print(\"Prediction %s with certainty %.2f (%s)\" % (\"Democrat\" if democrat else \"Republican\", proba if democrat else 1 - proba, \"correct\" if democrat == tweet_row['target'] else \"incorrect\"))\n",
    "    print(\"Most impactful words:\")\n",
    "    print(set(activation_words[sorted_idx][-k:][::-1]) if democrat else set(activation_words[sorted_idx][:k]))"
   ]
  },
  {
   "cell_type": "code",
   "execution_count": 51,
   "metadata": {
    "collapsed": true
   },
   "outputs": [],
   "source": [
    "def find_most_influential(tweet_row, k=5):\n",
    "    \n",
    "    activations, activation_words, proba = cnn_signal_inspection_small.interpret_prediction(tokenized2tensor(tweet_row['tokenized_tweet'], token_index), id2token=index_token)\n",
    "    \n",
    "    sorted_idx = np.argsort(activations)\n",
    "    \n",
    "    democrat = proba.item() > .5\n",
    "    \n",
    "    return proba.item(), list(zip(activation_words[sorted_idx][-k:][::-1], activations[sorted_idx][-k:][::-1])) if democrat else list(zip(activation_words[sorted_idx][:k], activations[sorted_idx][:k]))"
   ]
  },
  {
   "cell_type": "code",
   "execution_count": 52,
   "metadata": {
    "collapsed": true
   },
   "outputs": [],
   "source": [
    "def plot_interpretation(activation_words, activations, proba, tweet):\n",
    "    \n",
    "    sorted_idx = np.argsort(activations)\n",
    "    \n",
    "    f, ax = plt.subplots(figsize=(16,9))\n",
    "    sns.barplot(x=np.arange(len(activations)), y=activations[sorted_idx])\n",
    "    ax.set_title(\"Democrat with probability %.3f\" % proba)\n",
    "    ax.set_xticklabels(activation_words[sorted_idx])\n",
    "    plt.xticks(rotation=45)\n",
    "    "
   ]
  },
  {
   "cell_type": "code",
   "execution_count": 53,
   "metadata": {},
   "outputs": [
    {
     "data": {
      "text/plain": [
       "Linear(in_features=20, out_features=1, bias=True)"
      ]
     },
     "execution_count": 53,
     "metadata": {},
     "output_type": "execute_result"
    }
   ],
   "source": [
    "cnn_signal_inspection_small.fc"
   ]
  },
  {
   "cell_type": "code",
   "execution_count": 54,
   "metadata": {},
   "outputs": [
    {
     "name": "stdout",
     "output_type": "stream",
     "text": [
      "\"We do not have Obama judges or Trump judges, Bush judges or Clinton judges...That independent judiciary is something we should all be thankful for.\"--Chief Justice John Roberts\n",
      "Just so there's no confusion @POTUS (and Justice Kavanaugh)\n",
      "https://t.co/oYY5PQsXOo\n",
      "Prediction Republican with certainty 0.75 (correct)\n",
      "Most impactful words:\n",
      "{')', 'potus', 'obama', \"'s confusion\", 'independent judiciary'}\n",
      "\n",
      "The Democrats, much as I suspected, have allocated no money for a new Wall. So imaginative! The problem is, without a Wall there can be no real Border Security - and our Country must finally have a Strong and Secure Southern Border!\n",
      "Prediction Democrat with certainty 0.58 (incorrect)\n",
      "Most impactful words:\n",
      "{'strong secure', 'real border', 'suspected', 'real', 'finally strong'}\n",
      "\n",
      "Successfully getting this legislation signed into law has a deep personal meaning for me, as I was a caregiver for my grandmother during her battle with Alzheimer’s disease. I am proud to be a part of the fight to combat, and hopefully one day end, this terrible disease.\n",
      "Prediction Republican with certainty 0.75 (correct)\n",
      "Most impactful words:\n",
      "{'alzheimer', 'deep personal', 'combat', 'law'}\n",
      "\n",
      "It is an extreme honor to be re-elected as the Assembly Representative of the 48th District. This is more than a job - it is a calling - and I am so humbled to have the support of my friends and  neighbors as I carry their voices and our values into the State Capitol.\n",
      "Prediction Democrat with certainty 0.70 (correct)\n",
      "Most impactful words:\n",
      "{'48th district', 'state capitol', 'capitol', 'voices', 'extreme'}\n",
      "\n",
      "Healthcare is a human right. The American people don’t deserve a world where you can be denied coverage for a preexisting condition. We can’t give up the progress we’ve made, and we can’t ever stop working to #ProtectOurCare.\n",
      "Prediction Democrat with certainty 0.95 (correct)\n",
      "Most impactful words:\n",
      "{'preexisting condition', 'healthcare', 'condition', 'world denied'}\n",
      "\n",
      "Alaskans’ response to the recent 7.0 earthquake &amp; almost 4,000 aftershocks is a testament to our resilience and grit, but we also know there is still more that can be done, which is why the enactment of this legislation could not be more timely.\n",
      "Prediction Republican with certainty 0.64 (correct)\n",
      "Most impactful words:\n",
      "{'grit', 'recent', '7', 'almost 4', 'earthquake'}\n",
      "\n",
      "KNOW THIS: the @realDonaldTrump Administration is locking up 14,600 children in child prison camps. I’ve been inside – they’re horrible. This fight is NOT OVER. Keep making your voices heard.\n",
      "Prediction Democrat with certainty 0.90 (correct)\n",
      "Most impactful words:\n",
      "{'', 'voices', 'children', 'horrible fight', 'making voices'}\n",
      "\n",
      "@2donewthis @NetworkSomelier I understand how you could’ve read it that way. This was over the course of the Presidency.\n",
      "Prediction Republican with certainty 0.54 (incorrect)\n",
      "Most impactful words:\n",
      "{'course presidency', 'could', 'read'}\n",
      "\n",
      "In this season of giving, we would just like to take a moment to thank every volunteer for all that they give to this campaign. Without your tireless support, we would not have this opportunity to affect such meaningful change in our city.\n",
      "Prediction Democrat with certainty 0.94 (correct)\n",
      "Most impactful words:\n",
      "{'', 'city', 'campaign', 'volunteer'}\n",
      "\n",
      "Praying @TerryCanales40. Love you buddy! https://t.co/d1jUbYbIoz\n",
      "Prediction Republican with certainty 0.65 (correct)\n",
      "Most impactful words:\n",
      "{'@ unk', 'praying', 'buddy'}\n",
      "\n",
      "Today, we remember and honor the lives lost on #September11th. #NeverForget the heroes who showed courage and bravery while helping others. https://t.co/TVhwEtrNuQ\n",
      "Prediction Republican with certainty 0.78 (incorrect)\n",
      "Most impactful words:\n",
      "{'courage bravery', 'helping', 'heroes', 'lost #'}\n",
      "\n",
      "I always enjoy stopping by the Augusta Exchange Club meetings to give an update on my work in Washington and hear about the meaningful work they continue to do for our community. Thanks for having me! #GA12 https://t.co/IOAledOipJ\n",
      "Prediction Republican with certainty 0.64 (correct)\n",
      "Most impactful words:\n",
      "{'washington', 'hear meaningful', 'update', 'augusta', 'club meetings'}\n",
      "\n",
      "Would you rather watch this cute cat video or a #GOP Member of Congress talking about Hillary's emails? \n",
      "\n",
      "That's why the GOP effort to regulate free speech on social media is so stupid. Twitter, Facebook &amp; Google are not discriminating against GOP lawmakers, but the public is. https://t.co/ztnTN3gJpo\n",
      "Prediction Republican with certainty 0.61 (incorrect)\n",
      "Most impactful words:\n",
      "{'member congress', 'google', 'media', 'hillary'}\n",
      "\n",
      "Real faith leaders don't \"bless\" the murder of unborn babies. \"‘Faith leaders’ to bless abortion clinic: ‘Accessing and providing abortions…are godly decisions’\" https://t.co/fkQCORQ127\n",
      "Prediction Republican with certainty 0.65 (correct)\n",
      "Most impactful words:\n",
      "{'babies', 'clinic ‘', 'unborn', 'abortion'}\n",
      "\n",
      "Excellent call by @CNNPolitics - thoughtful, seasoned and insightful, @finneyk will bring a valuable dimension to 2020 analysis. https://t.co/rC0xQx073R\n",
      "Prediction Republican with certainty 0.55 (incorrect)\n",
      "Most impactful words:\n",
      "{'', '2020', 'thoughtful seasoned', 'valuable'}\n",
      "\n",
      "Since we passed the last #FarmBill in 2014, I’ve been working hard on #FarmBill18 to make sure it addresses the needs of North Dakota farmers &amp; ranchers. Read more on @Medium abt my meetings this year to make sure their voices are heard. https://t.co/48PNwOJwyl\n",
      "Prediction Republican with certainty 0.51 (incorrect)\n",
      "Most impactful words:\n",
      "{'passed', 'read', 'farmers ranchers', 'ranchers', 'dakota'}\n",
      "\n",
      "Introduced #bipartisan legislation with @sendavidperdue @SenDougJones @SenatorHeitkamp @SenJohnKennedy @SenJackReed to hold proxy advisory firms accountable and strengthen the transparency of #corporategovernance to protect investors.\n",
      "https://t.co/3tbjH9YDcu\n",
      "Prediction Republican with certainty 0.53 (correct)\n",
      "Most impactful words:\n",
      "{'legislation @', 'investors', 'legislation', 'advisory'}\n",
      "\n",
      "For 243 years, the brave men and women of the U.S. @USNavy have defended our waters and our great nation. Join me in wishing them a Happy Birthday! #AZ01 https://t.co/15BHjY9bqa\n",
      "Prediction Republican with certainty 0.84 (correct)\n",
      "Most impactful words:\n",
      "{'years brave', 'nation join', 'great', 'birthday', 'nation'}\n",
      "\n",
      "Today is #TakeBackDay. Visit my website to find a drop-off location to safely dispose of your unused prescription drugs → https://t.co/P7YSBn34Zy https://t.co/gB2iIic8ZH\n",
      "Prediction Republican with certainty 0.65 (correct)\n",
      "Most impactful words:\n",
      "{'drugs', 'find drop-off', 'visit', 'location', 'safely'}\n",
      "\n",
      "@realDonaldTrump ICYMI: #14Amendment https://t.co/VuXC8ZzCzp\n",
      "Prediction Republican with certainty 0.69 (incorrect)\n",
      "Most impactful words:\n",
      "{'', 'icmi', '# unk'}\n",
      "\n",
      "Throughout our the #USA, #students are standing up and walking out of their #classrooms demanding #action. I'm glad to see students politically active. But make sure you #register to vote! True change happens at the #BallotBox.\n",
      "Prediction Democrat with certainty 0.86 (correct)\n",
      "Most impactful words:\n",
      "{'true change', '# register', '# unk', 'walking', '# classrooms'}\n",
      "\n",
      "There is plenty of publicly available research regarding imperfect memory and victim trauma &amp; psychological responses to sexual assault. Maybe instead of mocking Dr. Ford, our president should read this research or actually listen to a survivor. #BelieveSurvivors\n",
      "Prediction Democrat with certainty 0.72 (correct)\n",
      "Most impactful words:\n",
      "{'ford', 'president read', 'dr ford', 'sexual'}\n",
      "\n",
      "In October, @POTUS signed what he called “the single largest bill to combat a drug crisis in the history of our country.” It helps communities like Maryville fight the opioid crisis. #OpioidCrisisResponse https://t.co/cevH6T8QzS\n",
      "Prediction Republican with certainty 0.91 (correct)\n",
      "Most impactful words:\n",
      "{'combat drug', 'potus', 'drug', 'combat', 'crisis #'}\n",
      "\n",
      "@CDRutledge @NEFarmBureau That’s why WSJ said Single Payer would double the federal tax burden, which would lead to 56% of our nation’s GDP going to government at all levels. No thank you to that.\n",
      "Prediction Republican with certainty 0.73 (correct)\n",
      "Most impactful words:\n",
      "{'wsj', 'tax', '’ gdp', 'would lead', 'nation'}\n",
      "\n",
      "@juliemason @lucybowlby I said what?\n"
     ]
    },
    {
     "name": "stdout",
     "output_type": "stream",
     "text": [
      "Prediction Democrat with certainty 0.60 (incorrect)\n",
      "Most impactful words:\n",
      "{'said', '@ unk', 'unk @', '@'}\n",
      "\n",
      "Started the day thanking volunteers in the Naples victory office! Their hard work and dedication are why we’re going to have a big win tonight! https://t.co/BTm1qejxZ9\n",
      "Prediction Republican with certainty 0.50 (correct)\n",
      "Most impactful words:\n",
      "{'office hard', 'hard', 'naples'}\n",
      "\n",
      "Precinct One &amp; NBA/WNBA Retired Players Association @NBRPA_Houston hosted a Full Court Press Prep for Success #youth #basketball clinic today at #FinniganPark Community Center / YET. Check out ALL the pics here: https://t.co/qHKbBdygVi   #Houston #HarrisCounty https://t.co/rWEIffS4PN\n",
      "Prediction Democrat with certainty 0.57 (correct)\n",
      "Most impactful words:\n",
      "{'/', 'youth', 'check pics', 'prep success', 'prep'}\n",
      "\n",
      "China, the economy, trade and other @USTreasury priorities were the topics of my discussion on @CNNSitRoom today at the @MilkenInstitute global conference. https://t.co/gXVB2YjemY\n",
      "Prediction Republican with certainty 0.79 (correct)\n",
      "Most impactful words:\n",
      "{'china', 'unk today', 'economy', 'trade @'}\n",
      "\n",
      "The last few weeks have resulted in a noticeable increase in activity around the U.S Capitol. I recently spoke to officers who have worked multiple 16-hour days. I want to thank the men and women of the #CapitolPolice for keeping members of Congress, reporters and visitors safe.\n",
      "Prediction Republican with certainty 0.76 (correct)\n",
      "Most impactful words:\n",
      "{'days thank', 'capitol', 'recently spoke', 'officers', 'activity'}\n",
      "\n",
      "Don't forget to listen to me on WCNS this morning starting at 9:30! Tune in to AM 1480 to hear me talk with Hank Baughman about my Congressional race.\n",
      "Prediction Republican with certainty 0.71 (correct)\n",
      "Most impactful words:\n",
      "{'congressional race', 'listen', 'cns', 'tune', 'starting 9'}\n",
      "\n",
      "Before we talk about \"Presidential harassment\" (aka what Trump did when he started the birther movement), can we first talk about sexual harassment?\n",
      "\n",
      "It's amazing that @realDonaldTrump feels entitled to harass anyone &amp; everyone, but when he's criticized, it's a bridge too far.\n",
      "Prediction Democrat with certainty 0.96 (correct)\n",
      "Most impactful words:\n",
      "{'talk sexual', 'harassment', 'sexual', \"criticized 's\", 'trump'}\n",
      "\n",
      "One of the reasons I’m running for Congress is that I believe there are immediate threats to our national security. I’m dedicating this piece I wrote for Fortune Magazine to our allies who sacrificed their lives in our wars in Iraq and Afghanistan.  https://t.co/ZkPlwmbpIB\n",
      "Prediction Republican with certainty 0.54 (incorrect)\n",
      "Most impactful words:\n",
      "{'', 'afghanistan', 'national', 'security', '’ dedicating'}\n",
      "\n",
      "My colleagues and I are working hard on the issues that matter to you and your family. As of May 25, 803 bills have passed out of committee and 695 bills have passed the People's House! To learn more, please visit https://t.co/8jqYFtEON7 https://t.co/qQIRl59pem\n",
      "Prediction Republican with certainty 0.67 (correct)\n",
      "Most impactful words:\n",
      "{'passed', '25', 'please visit', 'visit', 'g/t unk'}\n",
      "\n",
      "@RichardRitzJr1 VERY close! The frontman of Opeth was fronting the band in question at the time of that quote...\n",
      "Prediction Republican with certainty 0.58 (incorrect)\n",
      "Most impactful words:\n",
      "{'opeth fronting', 'time quote', 'band question', 'opeth', 'band'}\n",
      "\n",
      "@SCHP_Troop1 Love it! Great job\n",
      "Prediction Republican with certainty 0.52 (correct)\n",
      "Most impactful words:\n",
      "{'', 'great', 'job'}\n",
      "\n",
      "Thank you @pateltimes !! https://t.co/LsywxOCeLj\n",
      "Prediction Democrat with certainty 0.67 (incorrect)\n",
      "Most impactful words:\n",
      "{'', '@ unk', 'unk', 'thank'}\n",
      "\n",
      "The inclusion of $1.68 billion in disaster relief funding, including our $1.14 billion request for North Carolina, is an important down payment to begin recovering from the devastation left behind from #HurricaneFlorence. #FlorenceNC\n",
      "https://t.co/2N5qglPDeM\n",
      "Prediction Democrat with certainty 0.58 (incorrect)\n",
      "Most impactful words:\n",
      "{'recovering devastation', 'payment begin', 'inclusion', '1 68'}\n",
      "\n",
      "It’s also a fact that nearly half of all undocumented immigrants come to the United States legally but then overstay their visas. A border wall would do nothing to curb visa overstays, a legitimate issue that should be addressed. https://t.co/KmwaXuBfSE\n",
      "Prediction Republican with certainty 0.63 (incorrect)\n",
      "Most impactful words:\n",
      "{'legitimate issue', 'legally overstay', 'border', 'visa'}\n",
      "\n",
      "Bentley is getting his rest before the big game Monday! Go Tigers! \n",
      "🧡💜 🏈 @ClemsonFB \n",
      "#BeatBama https://t.co/liiKGZp0bV\n",
      "Prediction Democrat with certainty 0.60 (incorrect)\n",
      "Most impactful words:\n",
      "{'game monday', 'tigers unk', 'bentley', 'big game'}\n",
      "\n",
      "The closing argument - make every vote count.\n",
      "@realDonaldTrump  @SebGorka @SaysMissy @AdelleNaz @seanhannity @Pink_About_it @LouDobbs @benshapiro @StephenMoore @SpeakerTimJones @SaraCarterDC @BrentBozell @marklevinshow @Cernovich @RealJamesWoods @JacobAWohl @ScottAdamsSays https://t.co/I1d9KKXFcf\n",
      "Prediction Democrat with certainty 0.80 (incorrect)\n",
      "Most impactful words:\n",
      "{'count @', 'vote count', '@ unk', 'closing', 'argument -'}\n",
      "\n",
      "I will be holding town halls across #AZ01 in the new year. My first will be in Flagstaff on January 7th. \n",
      "\n",
      "I invite you to join me at the Flagstaff High School Hurley Auditorium from 5:30-6:30pm. https://t.co/rsKffHJg8z\n",
      "Prediction Democrat with certainty 0.69 (correct)\n",
      "Most impactful words:\n",
      "{'january', 'across #', 'join flagstaff', '7th', 'town halls'}\n",
      "\n",
      "Dear @realDonaldTrump: Your temper tantrum is not just hurting many Americans, it is also jeopardizing our safety. \n",
      "\n",
      "Time for you to stop being \"proud\" of shutting down the government. You alone can end your #TrumpShutdown.\n",
      "\n",
      "#SundayMorning Thoughts https://t.co/SuM4Hi55Y8\n",
      "Prediction Democrat with certainty 0.95 (correct)\n",
      "Most impactful words:\n",
      "{'tantrum', '# unk', 'government alone', 'thoughts', 'many americans'}\n",
      "\n",
      "Butina’s decision to change her plea &amp; likely strike a deal with U.S. Attorney for D.C. is a reminder that Mueller has been delegating &amp; decentralizing his investigation—a smart move. A number of different DOJ components now work on elements of Russia’s 2016 interference.\n",
      "Prediction Democrat with certainty 0.84 (correct)\n",
      "Most impactful words:\n",
      "{'change plea', 'mueller', 'likely strike', 'butina'}\n",
      "\n",
      "Third, over the course of the coming weeks and months, we are going to be drafting a full proposal - a cooperative, comprehensive plan - to be ready on the day I am sworn into office. This will include many items for which there is already widespread agreement.\n",
      "Prediction Democrat with certainty 0.83 (incorrect)\n",
      "Most impactful words:\n",
      "{'sworn', 'full proposal', 'day sworn', 'plan', 'proposal'}\n",
      "\n",
      "Rather than improving the SNAP program or providing struggling Americans with tools to find jobs, the Trump admin’s proposal will strip basic food assistance from thousands of hungry Americans living in poverty. https://t.co/HqRVI6Ysf4\n",
      "Prediction Democrat with certainty 0.93 (correct)\n",
      "Most impactful words:\n",
      "{'strip basic', 'strip', 'admin', 'americans living', 'trump'}\n",
      "\n",
      "TOMORROW, we’re holding our 3rd annual Service Fair at Newton City Hall from 1-3PM. Stop by to learn more about getting involved in your neighborhood! https://t.co/2yf5Dt7RUK\n",
      "Prediction Democrat with certainty 0.66 (correct)\n",
      "Most impactful words:\n",
      "{'3rd annual', 'city', '3rd', 'hall unk'}\n",
      "\n",
      "Thank you for the incredible opportunity today! It was an honor and privilege to speak with your students! https://t.co/BvaxmD1BWA\n",
      "Prediction Republican with certainty 0.67 (correct)\n",
      "Most impactful words:\n",
      "{'honor', 'students', 'privilege speak', 'privilege'}\n",
      "\n",
      "We are about to tour the Karnes Family Residential Center. We’re told there are approximately 500 fathers and sons interned at Karnes. I’ll report back with more when we finish our tour.\n",
      "Prediction Republican with certainty 0.58 (incorrect)\n",
      "Most impactful words:\n",
      "{'family residential', 'interned karnes', 'tour', ''}\n",
      "\n",
      "Today is #InternationalWomenDay2018 and one of the greatest threats to women is sex selection abortion.  Babies girls get aborted at a much higher rate then baby boys.  This is a growing problem in the USA and especially true in India and China.  This must end.  #prolife\n",
      "Prediction Republican with certainty 0.76 (correct)\n"
     ]
    },
    {
     "name": "stdout",
     "output_type": "stream",
     "text": [
      "Most impactful words:\n",
      "{'', 'prolife', 'abortion', 'babies girls', '# prolife'}\n",
      "\n",
      "President Trump’s continued reliance on falsehoods &amp; xenophobic anecdotes rather than facts are roadblocks to progress.\n",
      "Prediction Democrat with certainty 0.93 (correct)\n",
      "Most impactful words:\n",
      "{'xenophobic', 'progress', 'reliance falsehoods', 'trump', 'falsehoods'}\n",
      "\n"
     ]
    }
   ],
   "source": [
    "for i in range(50):\n",
    "    print_most_influential(test_df.iloc[25+ i], 5)\n",
    "    print()"
   ]
  },
  {
   "cell_type": "code",
   "execution_count": 55,
   "metadata": {},
   "outputs": [
    {
     "name": "stderr",
     "output_type": "stream",
     "text": [
      "100%|███████████████████████████████████████████████████████████████████████████| 26385/26385 [01:07<00:00, 390.99it/s]\n"
     ]
    }
   ],
   "source": [
    "res = []\n",
    "for i in tqdm.tqdm(range(len(test_df))):\n",
    "    res.append(find_most_influential(test_df.iloc[i]))\n"
   ]
  },
  {
   "cell_type": "code",
   "execution_count": 56,
   "metadata": {
    "collapsed": true
   },
   "outputs": [],
   "source": [
    "democratic_words = {}\n",
    "republican_words = {}\n",
    "\n",
    "for p, words in res:\n",
    "    if p > .5:\n",
    "        for word, activation in words:\n",
    "            if word in democratic_words:\n",
    "                democratic_words[word] += 1#abs(activation)\n",
    "            else:\n",
    "                democratic_words[word] = 1#abs(activation)    \n",
    "    else:\n",
    "        for word, activation in words:\n",
    "            if word in republican_words:\n",
    "                republican_words[word] += 1#abs(activation)\n",
    "            else:\n",
    "                republican_words[word] = 1#abs(activation)"
   ]
  },
  {
   "cell_type": "code",
   "execution_count": 57,
   "metadata": {
    "collapsed": true
   },
   "outputs": [],
   "source": [
    "import operator \n",
    "\n",
    "democrat_freq_counts = sorted(democratic_words.items(), key=operator.itemgetter(1), reverse=True)\n",
    "\n",
    "republican_freq_counts = sorted(republican_words.items(), key=operator.itemgetter(1), reverse=True)"
   ]
  },
  {
   "cell_type": "markdown",
   "metadata": {},
   "source": [
    "Print top lists in a format compatible with a latex table."
   ]
  },
  {
   "cell_type": "code",
   "execution_count": 58,
   "metadata": {
    "collapsed": true
   },
   "outputs": [],
   "source": [
    "def print_freq_tex(democrat_freq_counts, republican_freq_counts, n):\n",
    "    for i in range(n):\n",
    "        print(\"%s&%s\\\\\\\\\"%(democrat_freq_counts[i][0].replace('#', '\\#'),republican_freq_counts[i][0].replace('#', '\\#')))"
   ]
  },
  {
   "cell_type": "code",
   "execution_count": 59,
   "metadata": {},
   "outputs": [
    {
     "name": "stdout",
     "output_type": "stream",
     "text": [
      "&\\\\\n",
      "@ unk&great\\\\\n",
      "unk&http\\\\\n",
      "\\# unk&\\# unk\\\\\n",
      "trump&@ unk\\\\\n",
      "\\#&america\\\\\n",
      "health&nation\\\\\n",
      "@&law\\\\\n",
      "us&read\\\\\n",
      "unk \\#&senate\\\\\n",
      "chicago&g/t unk\\\\\n",
      "climate&state\\\\\n",
      "one&birthday\\\\\n",
      "http&potus\\\\\n",
      "community&jobs\\\\\n",
      "—&county\\\\\n",
      "children&economy\\\\\n",
      "unk @&passed\\\\\n",
      "city&https\\\\\n",
      "rights&news\\\\\n",
      "families&tax\\\\\n",
      "investigation&blessed\\\\\n",
      "campaign&military\\\\\n",
      "violence&years\\\\\n",
      "shutdown&service\\\\\n",
      "gun&unk\\\\\n"
     ]
    }
   ],
   "source": [
    "print_freq_tex(democrat_freq_counts, republican_freq_counts, 26)"
   ]
  },
  {
   "cell_type": "markdown",
   "metadata": {},
   "source": [
    "### Top Words in Certain Predictions"
   ]
  },
  {
   "cell_type": "code",
   "execution_count": 60,
   "metadata": {
    "collapsed": true
   },
   "outputs": [],
   "source": [
    "democratic_certain_words = {}\n",
    "republican_certain_words = {}\n",
    "\n",
    "c = 0\n",
    "\n",
    "for p, words in res:\n",
    "    if p < .15 or p > .85:\n",
    "        c+= 1\n",
    "    \n",
    "        if p > .5:\n",
    "            for word, activation in words:\n",
    "                if word in democratic_certain_words:\n",
    "                    democratic_certain_words[word] += 1#abs(activation)\n",
    "                else:\n",
    "                    democratic_certain_words[word] = 1#abs(activation)    \n",
    "        else:\n",
    "            for word, activation in words:\n",
    "                if word in republican_certain_words:\n",
    "                    republican_certain_words[word] += 1#abs(activation)\n",
    "                else:\n",
    "                    republican_certain_words[word] = 1#abs(activation)"
   ]
  },
  {
   "cell_type": "code",
   "execution_count": 61,
   "metadata": {
    "collapsed": true
   },
   "outputs": [],
   "source": [
    "democratic_certain_words = sorted(democratic_certain_words.items(), key=operator.itemgetter(1), reverse=True)\n",
    "\n",
    "republican_certain_words = sorted(republican_certain_words.items(), key=operator.itemgetter(1), reverse=True)"
   ]
  },
  {
   "cell_type": "code",
   "execution_count": 63,
   "metadata": {},
   "outputs": [
    {
     "name": "stdout",
     "output_type": "stream",
     "text": [
      "trump&\\\\\n",
      "&great\\\\\n",
      "health&ncga\\\\\n",
      "climate&blessed\\\\\n",
      "chicago&potus\\\\\n",
      "\\# unk&law\\\\\n",
      "gun&\\# unk\\\\\n",
      "protections&read\\\\\n",
      "violence&israel\\\\\n",
      "enrollment&jobs\\\\\n",
      "a3&@ unk\\\\\n",
      "rights&nation\\\\\n",
      "shutdown&economy\\\\\n",
      "pre-existing&tax\\\\\n",
      "@ unk&illegal\\\\\n",
      "conditions&senate\\\\\n",
      "aca&birthday\\\\\n",
      "investigation&secure\\\\\n",
      "children&conservative\\\\\n",
      "plan&america\\\\\n",
      "workers&passed\\\\\n",
      "unk&god\\\\\n",
      "democratic&military\\\\\n",
      "lgbtq&heroes\\\\\n",
      "healthcare&borders\\\\\n",
      "equality&combat\\\\\n"
     ]
    }
   ],
   "source": [
    "print_freq_tex(democratic_certain_words, republican_certain_words, 26)"
   ]
  },
  {
   "cell_type": "markdown",
   "metadata": {},
   "source": [
    "# Comment\n",
    "\n",
    "This run of the notebook yields different results from the run analysed in my report. Accuracy is slightly lower here, and the top lists of n-grams are not the same."
   ]
  }
 ],
 "metadata": {
  "kernelspec": {
   "display_name": "Python 3",
   "language": "python",
   "name": "python3"
  },
  "language_info": {
   "codemirror_mode": {
    "name": "ipython",
    "version": 3
   },
   "file_extension": ".py",
   "mimetype": "text/x-python",
   "name": "python",
   "nbconvert_exporter": "python",
   "pygments_lexer": "ipython3",
   "version": "3.6.2"
  }
 },
 "nbformat": 4,
 "nbformat_minor": 2
}
