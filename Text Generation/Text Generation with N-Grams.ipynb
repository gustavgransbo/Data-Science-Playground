{
 "cells": [
  {
   "cell_type": "markdown",
   "metadata": {},
   "source": [
    "# Introduction\n",
    "During my orchestra [LiTHe Blås](http://litheblas.org)'s 45 year aniversary I will be doing a customary \"Skitsnack\" between two songs. \n",
    "A \"Skitsnack\" is where an orchestra member keeps the audience preoccupied by talking about anything between heaven and earth until we start playing the next song.\n",
    "I often find it hard to decide what I should talk about and usually end up telling really bad jokes or rambling about some algorithm I just read about. \n",
    "\n",
    "For this \"Skitsnack\" I will avoid coming up with my own material entierly by generating it with an n-grams model! \n",
    "The focus of this Notebook is simply to generate a short text which I think could entertain a group of 500 for about 30-60 seconds.\n",
    "As such, any quantitative evaluation will only happen in the spur of the moment.\n",
    "\n",
    "Inspiration:\n",
    "https://web.stanford.edu/~jurafsky/slp3/4.pdf"
   ]
  },
  {
   "cell_type": "markdown",
   "metadata": {},
   "source": [
    "# Training data\n",
    "I haven't decided what data I should use to train my model, and will probably have to try some different sources when the model is finished. The final text will definitely be in Swedish to accomodate the audience, but to get started I will use the Dansih author [H.C. Andersen's Fairy Tales](http://www.gutenberg.org/ebooks/32572) translated to English."
   ]
  },
  {
   "cell_type": "markdown",
   "metadata": {},
   "source": [
    "## Cleaning the data"
   ]
  },
  {
   "cell_type": "code",
   "execution_count": 1,
   "metadata": {
    "collapsed": true
   },
   "outputs": [],
   "source": [
    "import codecs"
   ]
  },
  {
   "cell_type": "code",
   "execution_count": 2,
   "metadata": {
    "collapsed": true
   },
   "outputs": [],
   "source": [
    "with codecs.open('hcandersen_fairy_tales.txt', 'r', encoding='utf-8') as f:\n",
    "    text = f.read()"
   ]
  },
  {
   "cell_type": "markdown",
   "metadata": {},
   "source": [
    "First let's remove all text which is not part of his stories, as I don't want to use this for training."
   ]
  },
  {
   "cell_type": "code",
   "execution_count": 3,
   "metadata": {
    "collapsed": true
   },
   "outputs": [],
   "source": [
    "import re"
   ]
  },
  {
   "cell_type": "code",
   "execution_count": 4,
   "metadata": {
    "scrolled": true
   },
   "outputs": [
    {
     "name": "stdout",
     "output_type": "stream",
     "text": [
      "627 654\n",
      "4021 4048\n",
      "4140 4167\n",
      "375029 375056\n"
     ]
    }
   ],
   "source": [
    "for i in re.finditer(r\"HANS ANDERSEN'S FAIRY TALES\", text):\n",
    "    print(i.start(0), i.end(0))\n",
    "    # Hiding the output for future readability\n",
    "    #print(text[i.start(0): i.end(0) + 200])\n",
    "    #print(\"###########################\")"
   ]
  },
  {
   "cell_type": "code",
   "execution_count": 5,
   "metadata": {
    "collapsed": true
   },
   "outputs": [],
   "source": [
    "text = text[4167:]"
   ]
  },
  {
   "cell_type": "code",
   "execution_count": 6,
   "metadata": {},
   "outputs": [
    {
     "name": "stdout",
     "output_type": "stream",
     "text": [
      "367113 367118\n",
      "NOTES\r\n",
      "\r\n",
      "\r\n",
      "THE STORKS\r\n",
      "\r\n",
      "          PAGE 29. On account of the ravages it makes among\r\n",
      "          noxious animals, the stork is a privileged bird\r\n",
      "          wherever it makes its home. In cities it is\r\n",
      "     \n",
      "###########################\n"
     ]
    }
   ],
   "source": [
    "for i in re.finditer(r\"NOTES\", text):\n",
    "    print(i.start(0), i.end(0))\n",
    "    print(text[i.start(0): i.end(0) + 200])\n",
    "    print(\"###########################\")"
   ]
  },
  {
   "cell_type": "code",
   "execution_count": 7,
   "metadata": {
    "collapsed": true
   },
   "outputs": [],
   "source": [
    "text = text[:367113 ]"
   ]
  },
  {
   "cell_type": "markdown",
   "metadata": {},
   "source": [
    "Let's remove all tabs and linebreaks."
   ]
  },
  {
   "cell_type": "code",
   "execution_count": 8,
   "metadata": {
    "collapsed": true
   },
   "outputs": [],
   "source": [
    "text = re.sub(r'\\r', '', text)\n",
    "text = re.sub(r'\\n', ' ', text)"
   ]
  },
  {
   "cell_type": "markdown",
   "metadata": {},
   "source": [
    "## Tokenization\n",
    "### Sentences\n",
    "First let's parse the text as sentences using NLTK."
   ]
  },
  {
   "cell_type": "code",
   "execution_count": 9,
   "metadata": {
    "collapsed": true
   },
   "outputs": [],
   "source": [
    "from nltk.tokenize import sent_tokenize"
   ]
  },
  {
   "cell_type": "code",
   "execution_count": 10,
   "metadata": {
    "collapsed": true
   },
   "outputs": [],
   "source": [
    "sentences = sent_tokenize(text)"
   ]
  },
  {
   "cell_type": "code",
   "execution_count": 11,
   "metadata": {},
   "outputs": [
    {
     "name": "stdout",
     "output_type": "stream",
     "text": [
      "     THE FLAX   THE flax was in full bloom; it had pretty little blue flowers, as delicate as the wings of a moth.\n",
      "The sun shone on it and the showers watered it; and this was as good for the flax as it is for little children to be washed and then kissed by their mothers.\n"
     ]
    }
   ],
   "source": [
    "print(sentences[0])\n",
    "print(sentences[1])"
   ]
  },
  {
   "cell_type": "markdown",
   "metadata": {},
   "source": [
    "The first one is not good, it includes the story title. I will noth bother with this at the moment though, as this is not the text I will be using for my final results."
   ]
  },
  {
   "cell_type": "markdown",
   "metadata": {},
   "source": [
    "### Words"
   ]
  },
  {
   "cell_type": "code",
   "execution_count": 12,
   "metadata": {
    "collapsed": true
   },
   "outputs": [],
   "source": [
    "from nltk.tokenize import word_tokenize"
   ]
  },
  {
   "cell_type": "code",
   "execution_count": 13,
   "metadata": {
    "collapsed": true
   },
   "outputs": [],
   "source": [
    "sentences = list(map(word_tokenize, sentences))"
   ]
  },
  {
   "cell_type": "code",
   "execution_count": 14,
   "metadata": {},
   "outputs": [
    {
     "name": "stdout",
     "output_type": "stream",
     "text": [
      "['The', 'sun', 'shone', 'on', 'it', 'and', 'the', 'showers', 'watered', 'it', ';', 'and', 'this', 'was', 'as', 'good', 'for', 'the', 'flax', 'as', 'it', 'is', 'for', 'little', 'children', 'to', 'be', 'washed', 'and', 'then', 'kissed', 'by', 'their', 'mothers', '.']\n"
     ]
    }
   ],
   "source": [
    "print(sentences[1])"
   ]
  },
  {
   "cell_type": "markdown",
   "metadata": {},
   "source": [
    "### Add beginning and end of sentence tags\n",
    "All my sentences need a root and a stop token. I will insert a `<BOS>` tag before the first word of each sentence and replace the last punctuation of each sentence with `<EOS>`, I do this to distinguish between in sentence punctuation and the actual end of sentence. "
   ]
  },
  {
   "cell_type": "code",
   "execution_count": 15,
   "metadata": {
    "collapsed": true
   },
   "outputs": [],
   "source": [
    "sentences = list(map(lambda x: ['<BOS>'] + x[:-1] + ['<EOS>'], sentences))"
   ]
  },
  {
   "cell_type": "code",
   "execution_count": 16,
   "metadata": {},
   "outputs": [
    {
     "name": "stdout",
     "output_type": "stream",
     "text": [
      "['<BOS>', 'The', 'sun', 'shone', 'on', 'it', 'and', 'the', 'showers', 'watered', 'it', ';', 'and', 'this', 'was', 'as', 'good', 'for', 'the', 'flax', 'as', 'it', 'is', 'for', 'little', 'children', 'to', 'be', 'washed', 'and', 'then', 'kissed', 'by', 'their', 'mothers', '<EOS>']\n"
     ]
    }
   ],
   "source": [
    "print(sentences[1])"
   ]
  },
  {
   "cell_type": "markdown",
   "metadata": {},
   "source": [
    "# N-Gram model"
   ]
  },
  {
   "cell_type": "markdown",
   "metadata": {},
   "source": [
    "## Constructing n-grams from the setnences\n",
    "Let's try the nltk ngrams package"
   ]
  },
  {
   "cell_type": "code",
   "execution_count": 17,
   "metadata": {
    "collapsed": true
   },
   "outputs": [],
   "source": [
    "from nltk import ngrams"
   ]
  },
  {
   "cell_type": "markdown",
   "metadata": {},
   "source": [
    "## Implementing a generative model\n",
    "When generating my text I will not be considering context across sentences. Each `<EOS>` tag will be followed by a fresh `<BOS>`, interpreted as a unigram."
   ]
  },
  {
   "cell_type": "code",
   "execution_count": 18,
   "metadata": {
    "collapsed": true
   },
   "outputs": [],
   "source": [
    "from functools import reduce\n",
    "import numpy as np\n",
    "import pandas as pd"
   ]
  },
  {
   "cell_type": "code",
   "execution_count": 87,
   "metadata": {
    "collapsed": true
   },
   "outputs": [],
   "source": [
    "class NGrams():\n",
    "    def __init__(self, n):\n",
    "        self.n = n\n",
    "        \n",
    "    def fit(self, sentences):\n",
    "        # Count all ngrams\n",
    "        self.grams = []\n",
    "        for i in range(1, self.n+1):\n",
    "            # Build a sorted list of all ngrams\n",
    "            grams = list(map(lambda x: list(ngrams(x, i)), sentences))\n",
    "            grams = np.array(reduce(lambda x, y: x + y, grams))\n",
    "            grams = grams[np.lexsort(grams[:,::-1].T,),:]\n",
    "            \n",
    "            # Build an array marking the first unique occurence of a n-gram\n",
    "            # Example unigrams, \n",
    "            # a = [('a'), ('a'), ('b'), ('c'), ('c')]\n",
    "            # -> [True, False, True, True, False]\n",
    "            first_occurence = np.append([True], np.array([np.any(grams[i-1] != grams[i]) for i in range(1, len(grams))]))\n",
    "            \n",
    "            # Assign each unique n-gram an index\n",
    "            # Example unigrams, \n",
    "            # a = [('a'), ('a'), ('b'), ('c'), ('c')]\n",
    "            # -> [0, 0, 1, 2, 2]\n",
    "            ids = np.append([0], first_occurence[1:].cumsum())\n",
    "            \n",
    "            # Build a mapping from n-gram to count\n",
    "            frequencies = dict(list(zip(map(tuple, grams[first_occurence,:]), np.bincount(ids))))\n",
    "            self.grams.append(frequencies)\n",
    "        \n",
    "        # Record the total number of unigrams\n",
    "        self.n_unigrams = sum(self.grams[0].values())\n",
    "        \n",
    "    def log_prob(self, word, context):\n",
    "        n = len(context)\n",
    "        gram = context + (word,)\n",
    "        if n == 0:\n",
    "            return np.log(self.grams[n][gram] / self.n_unigrams)\n",
    "        else:\n",
    "            return np.log(self.grams[n][gram] / self.grams[n-1][context])\n",
    "            \n",
    "            \n",
    "        "
   ]
  },
  {
   "cell_type": "code",
   "execution_count": 88,
   "metadata": {},
   "outputs": [
    {
     "data": {
      "text/plain": [
       "3902"
      ]
     },
     "execution_count": 88,
     "metadata": {},
     "output_type": "execute_result"
    }
   ],
   "source": [
    "len(sentences)"
   ]
  },
  {
   "cell_type": "code",
   "execution_count": 91,
   "metadata": {
    "collapsed": true
   },
   "outputs": [],
   "source": [
    "trigram = NGrams(3)"
   ]
  },
  {
   "cell_type": "code",
   "execution_count": 92,
   "metadata": {},
   "outputs": [
    {
     "name": "stdout",
     "output_type": "stream",
     "text": [
      "Wall time: 9.9 s\n"
     ]
    }
   ],
   "source": [
    "%time trigram.fit(sentences)"
   ]
  },
  {
   "cell_type": "code",
   "execution_count": 93,
   "metadata": {},
   "outputs": [
    {
     "data": {
      "text/plain": [
       "0.0"
      ]
     },
     "execution_count": 93,
     "metadata": {},
     "output_type": "execute_result"
    }
   ],
   "source": [
    "trigram.log_prob('the', ('!', '--'))"
   ]
  },
  {
   "cell_type": "code",
   "execution_count": 94,
   "metadata": {},
   "outputs": [
    {
     "data": {
      "text/plain": [
       "-3.4657359027997265"
      ]
     },
     "execution_count": 94,
     "metadata": {},
     "output_type": "execute_result"
    }
   ],
   "source": [
    "trigram.log_prob('call', (\"'ll\",))"
   ]
  },
  {
   "cell_type": "code",
   "execution_count": 95,
   "metadata": {},
   "outputs": [
    {
     "data": {
      "text/plain": [
       "-8.7714179106038408"
      ]
     },
     "execution_count": 95,
     "metadata": {},
     "output_type": "execute_result"
    }
   ],
   "source": [
    "trigram.log_prob('call', ())"
   ]
  },
  {
   "cell_type": "markdown",
   "metadata": {},
   "source": [
    "I'll need to add smoothing. I'll probably start of doing add-k smoothing, but would like to implement Kneser-Ney smoothing eventually."
   ]
  }
 ],
 "metadata": {
  "kernelspec": {
   "display_name": "Python 3",
   "language": "python",
   "name": "python3"
  },
  "language_info": {
   "codemirror_mode": {
    "name": "ipython",
    "version": 3
   },
   "file_extension": ".py",
   "mimetype": "text/x-python",
   "name": "python",
   "nbconvert_exporter": "python",
   "pygments_lexer": "ipython3",
   "version": "3.6.2"
  }
 },
 "nbformat": 4,
 "nbformat_minor": 2
}
