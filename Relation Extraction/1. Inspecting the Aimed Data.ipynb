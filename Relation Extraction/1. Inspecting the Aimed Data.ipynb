{
 "cells": [
  {
   "cell_type": "markdown",
   "metadata": {},
   "source": [
    "# Importing the data"
   ]
  },
  {
   "cell_type": "markdown",
   "metadata": {},
   "source": [
    "## Raw data"
   ]
  },
  {
   "cell_type": "code",
   "execution_count": 1,
   "metadata": {
    "collapsed": true
   },
   "outputs": [],
   "source": [
    "path = 'data/aimed'\n",
    "\n",
    "# There are ten provided train/test splits\n",
    "train_split_file = 'train-203-1'\n",
    "test_split_file = 'test-203-1'"
   ]
  },
  {
   "cell_type": "code",
   "execution_count": 2,
   "metadata": {
    "collapsed": true
   },
   "outputs": [],
   "source": [
    "def get_file_names(path, split_file):\n",
    "    files = []\n",
    "    with open('%s/%s' % (path + '/splits', split_file)) as f:\n",
    "        for line in f:\n",
    "            files.append(line.rstrip())\n",
    "    return files"
   ]
  },
  {
   "cell_type": "code",
   "execution_count": 3,
   "metadata": {
    "collapsed": true
   },
   "outputs": [],
   "source": [
    "train_files = get_file_names(path, train_split_file)\n",
    "test_files = get_file_names(path, test_split_file)"
   ]
  },
  {
   "cell_type": "code",
   "execution_count": 4,
   "metadata": {},
   "outputs": [
    {
     "name": "stdout",
     "output_type": "stream",
     "text": [
      "203 abstracts in training set and 22 abstracts in test set.\n"
     ]
    }
   ],
   "source": [
    "print(\"%d abstracts in training set and %s abstracts in test set.\" % (len(train_files), len(test_files)))"
   ]
  },
  {
   "cell_type": "code",
   "execution_count": 5,
   "metadata": {
    "collapsed": true
   },
   "outputs": [],
   "source": [
    "def get_texts(path, files):\n",
    "    texts = []\n",
    "    for file in files:\n",
    "        with open('%s/%s' % (path, file)) as f:\n",
    "            texts.append(f.read().replace('\\n', ''))\n",
    "    return texts"
   ]
  },
  {
   "cell_type": "code",
   "execution_count": 6,
   "metadata": {
    "collapsed": true
   },
   "outputs": [],
   "source": [
    "train_texts = get_texts(path, train_files)\n",
    "test_texts = get_texts(path, test_files)"
   ]
  },
  {
   "cell_type": "markdown",
   "metadata": {},
   "source": [
    "Let's have a look at one of the files."
   ]
  },
  {
   "cell_type": "code",
   "execution_count": 19,
   "metadata": {},
   "outputs": [
    {
     "data": {
      "text/plain": [
       "\"TI - Analysis of the oligomerization of <prot>  myogenin </prot>  and <prot>  E2A </prot>  products in vivo using a two - hybrid assay system .PG - 17498 - 501 AB - Members of the helix - loop - helix ( HLH ) family of proteins bind DNA and activate transcription as homo - and heterodimers . <p1  pair=1 >  <p1  pair=2 >  <prot> Myogenin </prot>  </p1>  </p1>  is a muscle - specific HLH protein that binds DNA in vitro as a heterodimer with several widely expressed HLH proteins , such as the <prot>  E2A </prot>  gene products <p2  pair=1 >  <prot>  E12 </prot>  </p2>  and <p2  pair=2 >  <prot>  E47 </prot>  </p2>  .We describe a method for detection of protein - protein interactions among HLH proteins in vivo in which dimerization through the HLH motif reconstructs a hybrid transcription factor containing the DNA - binding domain of yeast GAL4 linked to one HLH motif and the activation domain of <prot>  VP - 16 </prot>  linked to another .We have used this assay to investiagate whether myogenin forms homomeric or heteromeric complexes in vivo and to determine whether growth factors and oncogenes that inhibit myogenesis influence myogenin 's ability to dimerize .The results show that <p1  pair=3 >  <p1  pair=4 >  <prot>  myogenin </prot>  </p1>  </p1>  heterodimerizes with <p2  pair=3 >  <prot>  E12 </prot>  </p2>  and <p2  pair=4 >  <prot>  E47 </prot>  </p2>  in vivo , but it does not homodimerize to a measurable extent .Peptide growth factors , as well as the immediate early gene products <prot>  c - Jun </prot>  , <prot>  v - Fos </prot>  , and <prot>  c - Myc </prot>  , inhibit the activity of myogenin through a mechanism independent of its association with <prot>  E2A </prot>  products .AD - Department of Biochemistry and Molecular Biology , University of Texas M .\""
      ]
     },
     "execution_count": 19,
     "metadata": {},
     "output_type": "execute_result"
    }
   ],
   "source": [
    "train_texts[2]"
   ]
  },
  {
   "cell_type": "markdown",
   "metadata": {},
   "source": [
    "The texts are annotated using XML, with proteins and genes inside the *protein* tag, and proteins belonging to relationships annotated with *p1*/*p2* and associated with a relationship id.\n",
    "\n",
    "I would like to convert the *protein* tags to spacy entities, and extract the relationships into a spearate gold standard object."
   ]
  },
  {
   "cell_type": "markdown",
   "metadata": {},
   "source": [
    "## Extract Gold Standard Pairs\n",
    "Proteins involved in a relationships are enclosed in `<p1  pair=x>` or `<p2  pair=x>` tags.\n",
    "One protein can be involved in multiple relationships. Both as p1 and p2.\n",
    "A tricky example is `<p1  pair=1 >  <p1  pair=2 >  <prot> Myogenin </prot>  </p1>  </p1>` which cannot be parsed with a regular expressions since it contains nested occurences of p1.\n",
    "I will have to parse as xml instead."
   ]
  },
  {
   "cell_type": "code",
   "execution_count": 9,
   "metadata": {},
   "outputs": [],
   "source": [
    "import re"
   ]
  },
  {
   "cell_type": "code",
   "execution_count": 34,
   "metadata": {
    "collapsed": true
   },
   "outputs": [],
   "source": [
    "from  xml.etree import ElementTree as ET"
   ]
  },
  {
   "cell_type": "markdown",
   "metadata": {},
   "source": [
    "Attribute values must be strings for xml.etree to accept them. Let's fix that."
   ]
  },
  {
   "cell_type": "code",
   "execution_count": 69,
   "metadata": {
    "collapsed": true
   },
   "outputs": [],
   "source": [
    "def xmlify(text):\n",
    "    return \"<body>\" + re.sub(pattern=r'<p([12])  pair=(\\d+)', string=text, repl=\"<p\\g<1>  pair='\\g<2>'\") + \"</body>\""
   ]
  },
  {
   "cell_type": "code",
   "execution_count": 70,
   "metadata": {},
   "outputs": [],
   "source": [
    "train_texts = [xmlify(text) for text in train_texts]\n",
    "test_texts = [xmlify(text) for text in test_texts]"
   ]
  },
  {
   "cell_type": "code",
   "execution_count": 89,
   "metadata": {
    "collapsed": true
   },
   "outputs": [],
   "source": [
    "train_trees = []\n",
    "test_trees = []"
   ]
  },
  {
   "cell_type": "code",
   "execution_count": 90,
   "metadata": {},
   "outputs": [],
   "source": [
    "for text in train_texts:\n",
    "    train_trees.append(ET.fromstring(text))\n",
    "\n",
    "for text in test_texts:\n",
    "    test_trees.append(ET.fromstring(text))"
   ]
  },
  {
   "cell_type": "code",
   "execution_count": 139,
   "metadata": {
    "collapsed": true
   },
   "outputs": [],
   "source": [
    "def extract_edges(tree):\n",
    "    \"\"\"\n",
    "    Args:\n",
    "        tree - Document tree from which to extract gold standard relationships\n",
    "    Returns:\n",
    "        List of tuple containing related proteins\n",
    "    \"\"\"\n",
    "    \n",
    "    pairs = []\n",
    "    \n",
    "    # Generate list of (p1/p2, pair_id, protein_text) tuples\n",
    "    for child in tree.getchildren():\n",
    "        if child.tag in ('p1', 'p2'):\n",
    "            pairs +=(match_children(child, [(child.tag, child.attrib['pair'])]))\n",
    "    \n",
    "    # Generate tuples of protein texts\n",
    "    pairs = sorted(pairs)\n",
    "    return [(p1[2], p2[2]) for p1, p2 in zip(pairs[:len(pairs)//2], pairs[len(pairs)//2:])]\n",
    "\n",
    "def match_children(pair, pairs):\n",
    "    # A pair tag only has one child, which is either another pair tag or a protein\n",
    "    # In some rare cases it has no children, just text. In this case cosider the text a protein.\n",
    "    try:\n",
    "        child = pair.getchildren()[0]\n",
    "    except IndexError:\n",
    "        return [(*p, pair.text.strip()) for p in pairs]\n",
    "    \n",
    "    if child.tag == 'prot':\n",
    "        return [(*p, child.text.strip()) for p in pairs]\n",
    "    else:\n",
    "        return match_children(child, pairs + [(child.tag, child.attrib['pair'])])"
   ]
  },
  {
   "cell_type": "code",
   "execution_count": 140,
   "metadata": {
    "collapsed": true
   },
   "outputs": [],
   "source": [
    "protein_pairs = []"
   ]
  },
  {
   "cell_type": "code",
   "execution_count": 142,
   "metadata": {},
   "outputs": [],
   "source": [
    "for tree in train_trees:\n",
    "    protein_pairs += extract_edges(tree)"
   ]
  },
  {
   "cell_type": "code",
   "execution_count": 143,
   "metadata": {},
   "outputs": [
    {
     "data": {
      "text/plain": [
       "(935, 671)"
      ]
     },
     "execution_count": 143,
     "metadata": {},
     "output_type": "execute_result"
    }
   ],
   "source": [
    "len(protein_pairs), len(set(protein_pairs))"
   ]
  },
  {
   "cell_type": "markdown",
   "metadata": {},
   "source": [
    "Cool! 935 mentioned pairs, and 671 unique pairs."
   ]
  },
  {
   "cell_type": "markdown",
   "metadata": {},
   "source": [
    "## Counting the proteins and relations"
   ]
  },
  {
   "cell_type": "code",
   "execution_count": 145,
   "metadata": {
    "collapsed": true
   },
   "outputs": [],
   "source": [
    "protein_pairs = set(protein_pairs)"
   ]
  },
  {
   "cell_type": "code",
   "execution_count": 144,
   "metadata": {
    "collapsed": true
   },
   "outputs": [],
   "source": [
    "proteins = set()"
   ]
  },
  {
   "cell_type": "code",
   "execution_count": 146,
   "metadata": {
    "collapsed": true
   },
   "outputs": [],
   "source": [
    "for p1, p2 in protein_pairs:\n",
    "    proteins.add(p1)\n",
    "    proteins.add(p2)"
   ]
  },
  {
   "cell_type": "code",
   "execution_count": 147,
   "metadata": {},
   "outputs": [
    {
     "data": {
      "text/plain": [
       "536"
      ]
     },
     "execution_count": 147,
     "metadata": {},
     "output_type": "execute_result"
    }
   ],
   "source": [
    "len(proteins)"
   ]
  },
  {
   "cell_type": "markdown",
   "metadata": {},
   "source": [
    "536 unique proteins, and 671 relations between them. \n",
    "Most proteins are only part of a single relationship!"
   ]
  }
 ],
 "metadata": {
  "kernelspec": {
   "display_name": "Python 3",
   "language": "python",
   "name": "python3"
  },
  "language_info": {
   "codemirror_mode": {
    "name": "ipython",
    "version": 3
   },
   "file_extension": ".py",
   "mimetype": "text/x-python",
   "name": "python",
   "nbconvert_exporter": "python",
   "pygments_lexer": "ipython3",
   "version": "3.6.2"
  }
 },
 "nbformat": 4,
 "nbformat_minor": 2
}
