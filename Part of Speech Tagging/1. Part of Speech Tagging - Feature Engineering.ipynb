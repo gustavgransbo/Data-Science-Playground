{
 "cells": [
  {
   "cell_type": "markdown",
   "metadata": {},
   "source": [
    "# Introduction\n",
    "Many Natural Processing models and alorithms are defined to work on texts that have undergone some pre-processing.\n",
    "Typical pre-processing steps are:\n",
    "1. Tokenising the text.\n",
    "    1. Splitting the text into separate units for each word.\n",
    "    2. Grouping these tokens in separate sentences.\n",
    "3. Part of Speech tagging the words, i.e. labeling them as Noun, Verb, etc.\n",
    "4. Parsing word dependencies in each sentence, building a graph depicting the relationship of words within a sentence.\n",
    "\n",
    "Other typical pre-processing steps are stemming and lemmatization. Both methods aim to reduce word tokens to their base form, for example `achieved` might be converted to `achieve`. \n",
    "The difference between stemming and lemmatization is that stemming typically uses some heuristic to cut of the end of words, and the resulting tokens might not be real words.\n",
    "Lemmatization on the other hand uses vocabularies and linguistic analysis to turn the word into its base form, its `lemma`.\n",
    "\n",
    "Many wordbanks are structured using the [CoNLL-U](http://universaldependencies.org/format.html) format, which includes POS-tags, word dependencies, lemma/stem etc. \n",
    "Being able to convert unstructured text data CoNLL-U is very useful if you want to apply a method expecting CoNLL-U format on your own unstructured text data.\n",
    "\n",
    "In this notebook I aim to create a Part of Speech (POS) tagger for word- and sentence-tokenised text.\n",
    "To train and evaluate my model I will be using text data already in CoNLL-U format, which means I do not need to apply any tokenisation myself. \n",
    "\n",
    "In early 2017 I took a course in Natrual Language Processing at Linköping University where me and my lab partner got to implement both a Part of Speech tagger and an unlabeled dependency parser (a dependency parser that does not put names on the relationships in a sentence). \n",
    "We used a single layer perceptron as classifier for both the Part of Speech tagger and the Dependency Parser.\n",
    "This time around I will explore some other possibilities!"
   ]
  },
  {
   "cell_type": "markdown",
   "metadata": {},
   "source": [
    "# The data\n",
    "For me it would be nice to compare my results me and my lab partner got last time around, so I will opt to use the same training and test data:\n",
    "[Universal Dependencies - English Web Treebank](http://universaldependencies.org/treebanks/en_ewt/index.html), a CoNLL-U formart corpus with 254 830 words and 16 622 sentences in english *taken from various web media including weblogs, newsgroups, emails, reviews, and Yahoo! answers*."
   ]
  },
  {
   "cell_type": "markdown",
   "metadata": {},
   "source": [
    "## Load the Data\n",
    "First lets load the training data and convert it to a python dictionary and a pandas data frame.\n",
    "I use the [conllu](https://github.com/EmilStenstrom/conllu) python package to parse the CoNLL-U files to dictionaries."
   ]
  },
  {
   "cell_type": "code",
   "execution_count": 1,
   "metadata": {
    "collapsed": true
   },
   "outputs": [],
   "source": [
    "import conllu"
   ]
  },
  {
   "cell_type": "markdown",
   "metadata": {},
   "source": [
    "Read the traing data."
   ]
  },
  {
   "cell_type": "code",
   "execution_count": 16,
   "metadata": {},
   "outputs": [],
   "source": [
    "directory = 'UD/UD_English-EWT'\n",
    "with open('{}/en_ewt-ud-train.conllu'.format(directory), 'r', encoding='utf-8') as f:\n",
    "    train_text = f.read()"
   ]
  },
  {
   "cell_type": "markdown",
   "metadata": {},
   "source": [
    "Convert it to a dictionary."
   ]
  },
  {
   "cell_type": "code",
   "execution_count": 43,
   "metadata": {},
   "outputs": [],
   "source": [
    "train_dict = conllu.parse(train_text)"
   ]
  },
  {
   "cell_type": "markdown",
   "metadata": {},
   "source": [
    "Count sentences and tokens."
   ]
  },
  {
   "cell_type": "code",
   "execution_count": 26,
   "metadata": {},
   "outputs": [
    {
     "name": "stdout",
     "output_type": "stream",
     "text": [
      "The training set contains 12543 sentences and 204607 tokens\n"
     ]
    }
   ],
   "source": [
    "from functools import reduce\n",
    "\n",
    "n_train_sentences = len(train_dict)\n",
    "n_train_tokens = reduce(lambda x, y: x + len(y), train_dict, 0)\n",
    "\n",
    "print(\"The training set contains {} sentences and {} tokens\".format(n_train_sentences, n_train_tokens))"
   ]
  },
  {
   "cell_type": "markdown",
   "metadata": {},
   "source": [
    "Store the data in a Pandas DataFrame for easier analysis."
   ]
  },
  {
   "cell_type": "code",
   "execution_count": 52,
   "metadata": {
    "collapsed": true
   },
   "outputs": [],
   "source": [
    "import pandas as pd\n",
    "import matplotlib.pyplot as plt\n",
    "import seaborn as sns\n",
    "sns.set()\n",
    "%matplotlib inline"
   ]
  },
  {
   "cell_type": "code",
   "execution_count": 44,
   "metadata": {
    "collapsed": true
   },
   "outputs": [],
   "source": [
    "def conllu_dict_to_dataframe(conllu_dict):\n",
    "    # Assign a sentence id to each token\n",
    "    for i, sentence in enumerate(conllu_dict):\n",
    "        for token in sentence:\n",
    "            token['sentence_id'] = i\n",
    "    flattened_dict = reduce(lambda x, y: x + y, conllu_dict)\n",
    "    return pd.DataFrame(flattened_dict)"
   ]
  },
  {
   "cell_type": "code",
   "execution_count": 45,
   "metadata": {
    "collapsed": true
   },
   "outputs": [],
   "source": [
    "training_df = conllu_dict_to_dataframe(train_dict)"
   ]
  },
  {
   "cell_type": "markdown",
   "metadata": {},
   "source": [
    "## Explore the Data\n",
    "My goal with this task is not to create a POS-tagger that does a perfect job for this exact data, so I won't spend to much time exploring the specifics of the data set. But it is interesting to at least get a feel for its contents.\n",
    "\n",
    "I will be POS-tagging tokens with the rest of their sentence available, this means that the data I am interested in is:\n",
    "* `form`, the token being tagged.\n",
    "* `upostag`, the target label.\n",
    "* Words with the same sentence_id, and their positions in relation to the word being classified. I will not have access to deps.\n",
    "\n",
    "I could possibly also apply stemming or lemmatization to sentences before POS-tagging, of course converting a token to its base form could give it a new correct POS-tag, so I would only use the lemma as a complementary feature.\n",
    "However, I will ignore lemma for now but possibly add it in a later stage."
   ]
  },
  {
   "cell_type": "code",
   "execution_count": 49,
   "metadata": {},
   "outputs": [
    {
     "data": {
      "text/html": [
       "<div>\n",
       "<style>\n",
       "    .dataframe thead tr:only-child th {\n",
       "        text-align: right;\n",
       "    }\n",
       "\n",
       "    .dataframe thead th {\n",
       "        text-align: left;\n",
       "    }\n",
       "\n",
       "    .dataframe tbody tr th {\n",
       "        vertical-align: top;\n",
       "    }\n",
       "</style>\n",
       "<table border=\"1\" class=\"dataframe\">\n",
       "  <thead>\n",
       "    <tr style=\"text-align: right;\">\n",
       "      <th></th>\n",
       "      <th>id</th>\n",
       "      <th>form</th>\n",
       "      <th>lemma</th>\n",
       "      <th>upostag</th>\n",
       "      <th>xpostag</th>\n",
       "      <th>feats</th>\n",
       "      <th>head</th>\n",
       "      <th>deprel</th>\n",
       "      <th>deps</th>\n",
       "      <th>misc</th>\n",
       "      <th>sentence_id</th>\n",
       "    </tr>\n",
       "  </thead>\n",
       "  <tbody>\n",
       "    <tr>\n",
       "      <th>0</th>\n",
       "      <td>1.0</td>\n",
       "      <td>Al</td>\n",
       "      <td>Al</td>\n",
       "      <td>PROPN</td>\n",
       "      <td>NNP</td>\n",
       "      <td>{'Number': 'Sing'}</td>\n",
       "      <td>0.0</td>\n",
       "      <td>root</td>\n",
       "      <td>[(root, 0)]</td>\n",
       "      <td>{'SpaceAfter': 'No'}</td>\n",
       "      <td>0</td>\n",
       "    </tr>\n",
       "    <tr>\n",
       "      <th>1</th>\n",
       "      <td>2.0</td>\n",
       "      <td>-</td>\n",
       "      <td>-</td>\n",
       "      <td>PUNCT</td>\n",
       "      <td>HYPH</td>\n",
       "      <td>None</td>\n",
       "      <td>1.0</td>\n",
       "      <td>punct</td>\n",
       "      <td>[(punct, 1)]</td>\n",
       "      <td>{'SpaceAfter': 'No'}</td>\n",
       "      <td>0</td>\n",
       "    </tr>\n",
       "    <tr>\n",
       "      <th>2</th>\n",
       "      <td>3.0</td>\n",
       "      <td>Zaman</td>\n",
       "      <td>Zaman</td>\n",
       "      <td>PROPN</td>\n",
       "      <td>NNP</td>\n",
       "      <td>{'Number': 'Sing'}</td>\n",
       "      <td>1.0</td>\n",
       "      <td>flat</td>\n",
       "      <td>[(flat, 1)]</td>\n",
       "      <td>None</td>\n",
       "      <td>0</td>\n",
       "    </tr>\n",
       "    <tr>\n",
       "      <th>3</th>\n",
       "      <td>4.0</td>\n",
       "      <td>:</td>\n",
       "      <td>:</td>\n",
       "      <td>PUNCT</td>\n",
       "      <td>:</td>\n",
       "      <td>None</td>\n",
       "      <td>1.0</td>\n",
       "      <td>punct</td>\n",
       "      <td>[(punct, 1)]</td>\n",
       "      <td>None</td>\n",
       "      <td>0</td>\n",
       "    </tr>\n",
       "    <tr>\n",
       "      <th>4</th>\n",
       "      <td>5.0</td>\n",
       "      <td>American</td>\n",
       "      <td>american</td>\n",
       "      <td>ADJ</td>\n",
       "      <td>JJ</td>\n",
       "      <td>{'Degree': 'Pos'}</td>\n",
       "      <td>6.0</td>\n",
       "      <td>amod</td>\n",
       "      <td>[(amod, 6)]</td>\n",
       "      <td>None</td>\n",
       "      <td>0</td>\n",
       "    </tr>\n",
       "  </tbody>\n",
       "</table>\n",
       "</div>"
      ],
      "text/plain": [
       "    id      form     lemma upostag xpostag               feats  head deprel  \\\n",
       "0  1.0        Al        Al   PROPN     NNP  {'Number': 'Sing'}   0.0   root   \n",
       "1  2.0         -         -   PUNCT    HYPH                None   1.0  punct   \n",
       "2  3.0     Zaman     Zaman   PROPN     NNP  {'Number': 'Sing'}   1.0   flat   \n",
       "3  4.0         :         :   PUNCT       :                None   1.0  punct   \n",
       "4  5.0  American  american     ADJ      JJ   {'Degree': 'Pos'}   6.0   amod   \n",
       "\n",
       "           deps                  misc  sentence_id  \n",
       "0   [(root, 0)]  {'SpaceAfter': 'No'}            0  \n",
       "1  [(punct, 1)]  {'SpaceAfter': 'No'}            0  \n",
       "2   [(flat, 1)]                  None            0  \n",
       "3  [(punct, 1)]                  None            0  \n",
       "4   [(amod, 6)]                  None            0  "
      ]
     },
     "execution_count": 49,
     "metadata": {},
     "output_type": "execute_result"
    }
   ],
   "source": [
    "training_df.head()"
   ]
  },
  {
   "cell_type": "markdown",
   "metadata": {},
   "source": [
    "### Unique tokens"
   ]
  },
  {
   "cell_type": "code",
   "execution_count": 50,
   "metadata": {},
   "outputs": [
    {
     "data": {
      "text/plain": [
       "19672"
      ]
     },
     "execution_count": 50,
     "metadata": {},
     "output_type": "execute_result"
    }
   ],
   "source": [
    "training_df['form'].nunique()"
   ]
  },
  {
   "cell_type": "markdown",
   "metadata": {},
   "source": [
    "### Most common tokens"
   ]
  },
  {
   "cell_type": "code",
   "execution_count": 51,
   "metadata": {},
   "outputs": [
    {
     "data": {
      "text/plain": [
       ".      8640\n",
       "the    8152\n",
       ",      7021\n",
       "to     5076\n",
       "and    4855\n",
       "a      3609\n",
       "of     3589\n",
       "I      3122\n",
       "in     2911\n",
       "is     2153\n",
       "Name: form, dtype: int64"
      ]
     },
     "execution_count": 51,
     "metadata": {},
     "output_type": "execute_result"
    }
   ],
   "source": [
    "training_df['form'].value_counts()[:10]"
   ]
  },
  {
   "cell_type": "markdown",
   "metadata": {},
   "source": [
    "### Token frequencies\n",
    "I bet there are many tokens that appear very few times, perhaps just 1. Lets get a feel for how the frequencies of each token is distributed."
   ]
  },
  {
   "cell_type": "code",
   "execution_count": 54,
   "metadata": {
    "collapsed": true
   },
   "outputs": [],
   "source": [
    "import numpy as np"
   ]
  },
  {
   "cell_type": "code",
   "execution_count": 58,
   "metadata": {
    "collapsed": true
   },
   "outputs": [],
   "source": [
    "low_freqs = np.arange(1, 21, 1)"
   ]
  },
  {
   "cell_type": "code",
   "execution_count": 59,
   "metadata": {
    "collapsed": true
   },
   "outputs": [],
   "source": [
    "val_counts = training_df['form'].value_counts()"
   ]
  },
  {
   "cell_type": "code",
   "execution_count": 77,
   "metadata": {
    "collapsed": true
   },
   "outputs": [],
   "source": [
    "occurrences = [100 * (val_counts >= i).sum() / val_counts.count() for i in low_freqs]"
   ]
  },
  {
   "cell_type": "code",
   "execution_count": 81,
   "metadata": {},
   "outputs": [
    {
     "data": {
      "text/plain": [
       "(1, 20)"
      ]
     },
     "execution_count": 81,
     "metadata": {},
     "output_type": "execute_result"
    },
    {
     "data": {
      "image/png": "[encoded data removed]",
      "text/plain": [
       "<matplotlib.figure.Figure at 0x2bcaf3b6ba8>"
      ]
     },
     "metadata": {},
     "output_type": "display_data"
    }
   ],
   "source": [
    "f, ax = plt.subplots(figsize=(16, 9))\n",
    "plt.plot(low_freqs, occurrences)\n",
    "ax.xaxis.set_ticks(low_freqs);\n",
    "ax.yaxis.set_ticks(np.arange(0, 101, 5));\n",
    "ax.set_ylabel('Percentage of tokens')\n",
    "ax.set_xlabel('X Occurences')\n",
    "ax.set_title('Tokens with X or more occurrences')\n",
    "ax.set_xlim([1, 20])"
   ]
  },
  {
   "cell_type": "markdown",
   "metadata": {},
   "source": [
    "About 20% of tokens in the training set occur 5 or more times, only 5% appear 20 or more times. 50% of tokens only appear one time.\n",
    "\n",
    "How I handel the sparsity of the data could have a large impact on my models performance and especially on runtime and memory efficiency."
   ]
  },
  {
   "cell_type": "markdown",
   "metadata": {},
   "source": [
    "### Part of Speech Tags"
   ]
  },
  {
   "cell_type": "code",
   "execution_count": 86,
   "metadata": {},
   "outputs": [
    {
     "data": {
      "text/plain": [
       "<matplotlib.text.Text at 0x2bc91f19208>"
      ]
     },
     "execution_count": 86,
     "metadata": {},
     "output_type": "execute_result"
    },
    {
     "data": {
      "image/png": "[encoded data removed]",
      "text/plain": [
       "<matplotlib.figure.Figure at 0x2bc923345f8>"
      ]
     },
     "metadata": {},
     "output_type": "display_data"
    }
   ],
   "source": [
    "f, ax = plt.subplots(figsize=(16,9))\n",
    "sns.countplot(x='upostag', data = training_df, order=training_df['upostag'].value_counts().index, ax=ax)\n",
    "ax.set_title(\"Occurrences of each POS-tag\")"
   ]
  },
  {
   "cell_type": "markdown",
   "metadata": {},
   "source": [
    "### Sentence length"
   ]
  },
  {
   "cell_type": "code",
   "execution_count": 95,
   "metadata": {},
   "outputs": [
    {
     "data": {
      "text/plain": [
       "<matplotlib.text.Text at 0x2bc92ec43c8>"
      ]
     },
     "execution_count": 95,
     "metadata": {},
     "output_type": "execute_result"
    },
    {
     "data": {
      "image/png": "[encoded data removed]",
      "text/plain": [
       "<matplotlib.figure.Figure at 0x2bc931c5ef0>"
      ]
     },
     "metadata": {},
     "output_type": "display_data"
    }
   ],
   "source": [
    "f, ax = plt.subplots(figsize=(16,9))\n",
    "sns.boxplot(training_df.groupby('sentence_id').agg({'form' : 'count'}), ax=ax)\n",
    "ax.set_xlabel('Tokens in sentence')\n",
    "ax.set_title('Tokens per Sentence')"
   ]
  },
  {
   "cell_type": "markdown",
   "metadata": {},
   "source": [
    "Most sentences are shorter than ~25 words, but there exists some extreme cases."
   ]
  },
  {
   "cell_type": "markdown",
   "metadata": {},
   "source": [
    "# Feature Engineering\n",
    "As I have some previous experience with POS-tagging I will not spend to much time investigating new features.\n",
    "Rather, I will opt to use features that I already know work well.\n",
    "\n",
    "Worth to note is that I will POS tag the words sequentially. I.E. I start with the first word, estimate its POS-tag, and then move on to the next word without ever reconsidering the first words POS-tag.\n",
    "\n",
    "List of features:\n",
    "* The word itself\n",
    "* The probabilities that the word belong to each label based on Maximum Likelihood Estimation on the training data using only the word it seld as a feature, this will be fetched from a predefined dictionary. (One entry per label)\n",
    "* The word left of the word in the sentence\n",
    "* The word right of the word in the sentence \n",
    "* The POS-tag of the left word in the sentence (One-hot encoded)\n",
    "* Token length, normalised (float)\n",
    "* Suffix, last two characters \n",
    "* Suffix, last three characters \n",
    "* Prefix, first two characters \n",
    "* Prefix, first three characters\n",
    "\n",
    "I need to find a good representation of the categorical features. \n",
    "POS-tag of the previous word is obviously fine to one-hot encode, as we don't have to many labels.\n",
    "Representing individual words, as well as suffixes and prefixes, is a completely different story though.\n",
    "If I would one-hot encode the words with no dimensionality reduction I would end up with more than 19 000 dimensions per word, and I have three features where I need to represent words.\n",
    "I would quickly end up with over 60 000 dimensions, most always set to 0.\n",
    "\n",
    "In my previous implementation the Perceptron classifier was based on Python dictionaries, with entries for each categorical value.\n",
    "Representing categoricals with dictionaries is a solid way of handeling the sparsity of data, as vector multiplications could be done elementwise very effectively. \n",
    "However, such a set up is not compatible with my ML frameworks of choice, `sklearn` and `keras`.\n",
    "\n",
    "To represent each token I will be using so called word embeddings.\n",
    "A word embedding is simply a word represented as a vector, so one-hot encoded words fall into this category.\n",
    "The word embeddings I will use are a little bit more sophisticated though, using fewer dimensions and actually assigning some meaning to the different dimensions.\n",
    "[Word2vec](https://en.wikipedia.org/wiki/Word2vec) was created by Google, and build word embeddings based on word proximity in training sentences. \n",
    "The assumption is that if two different words often appear in the same contexts they are probably similar, and have word embedding that are close to each other. \n",
    "\n",
    "The word embedding created by word2vec also have several other interesting properties. For example, consider the vector representation of the word king, G('king'). \n",
    "If we subtract G('man') and add G('woman'), we would get a vector very close to the vector G('queen'). \n",
    "\n",
    "I am very excited to see what effects this has on my model!\n",
    "\n",
    "One thing to note here, that I think is very important, is that training a word embedding model does not require POS-tags. \n",
    "Had this been the case it would not have made any sense to use it as a pre-processing step for my POS-tagger.\n",
    "(It is possible to use POS-tags as features for word embeddings, but Googles word2vec implementation only looks at nearby words.)"
   ]
  },
  {
   "cell_type": "markdown",
   "metadata": {},
   "source": [
    "## Word2Vec\n",
    "Lets start by converting our tokens into word embeddings."
   ]
  },
  {
   "cell_type": "code",
   "execution_count": 97,
   "metadata": {},
   "outputs": [
    {
     "name": "stderr",
     "output_type": "stream",
     "text": [
      "C:\\Users\\Gustav\\Anaconda3\\lib\\site-packages\\gensim\\utils.py:1197: UserWarning: detected Windows; aliasing chunkize to chunkize_serial\n",
      "  warnings.warn(\"detected Windows; aliasing chunkize to chunkize_serial\")\n"
     ]
    }
   ],
   "source": [
    "from gensim.models import Word2Vec"
   ]
  },
  {
   "cell_type": "code",
   "execution_count": 101,
   "metadata": {},
   "outputs": [],
   "source": [
    "train_sentences = [[token['form'] for token in sentence] for sentence in train_dict]"
   ]
  },
  {
   "cell_type": "code",
   "execution_count": 138,
   "metadata": {},
   "outputs": [],
   "source": [
    "w2v = Word2Vec(train_sentences, min_count=5, size=25)"
   ]
  },
  {
   "cell_type": "markdown",
   "metadata": {},
   "source": [
    "### Quick demonstration of neat properties"
   ]
  },
  {
   "cell_type": "code",
   "execution_count": 139,
   "metadata": {},
   "outputs": [
    {
     "data": {
      "text/plain": [
       "[('signs', 0.9950331449508667),\n",
       " ('change', 0.9950103163719177),\n",
       " ('reply', 0.9943593740463257),\n",
       " ('pull', 0.9942187666893005),\n",
       " ('guy', 0.9942054152488708),\n",
       " ('down', 0.9941377639770508),\n",
       " ('kids', 0.9940827488899231),\n",
       " ('playing', 0.9940721392631531),\n",
       " ('provide', 0.993903398513794),\n",
       " ('refer', 0.9938868880271912)]"
      ]
     },
     "execution_count": 139,
     "metadata": {},
     "output_type": "execute_result"
    }
   ],
   "source": [
    "w2v.wv.similar_by_word('king')"
   ]
  },
  {
   "cell_type": "code",
   "execution_count": 140,
   "metadata": {},
   "outputs": [
    {
     "data": {
      "text/plain": [
       "[('Otherwise', 0.5614035129547119),\n",
       " ('know', 0.5261061191558838),\n",
       " ('do', 0.5083385705947876),\n",
       " (\"n't\", 0.4882880449295044),\n",
       " ('you', 0.4832954406738281),\n",
       " ('want', 0.47248315811157227),\n",
       " ('forget', 0.4623956084251404),\n",
       " ('if', 0.43421512842178345),\n",
       " ('rush', 0.4218112826347351),\n",
       " ('I', 0.3984465003013611)]"
      ]
     },
     "execution_count": 140,
     "metadata": {},
     "output_type": "execute_result"
    }
   ],
   "source": [
    "w2v.wv.similar_by_vector(w2w.wv['king'] - w2w.wv['man'] + w2w.wv['woman'])"
   ]
  },
  {
   "cell_type": "markdown",
   "metadata": {},
   "source": [
    "Ouch, this does not look good at all...\n",
    "I think my training data is way to small to create valuable word embeddings.\n",
    "I will try using Google pre trained model instead.\n",
    "The model can be found [here](https://code.google.com/archive/p/word2vec/), it was pretrained on about 100 billion(!!!) words from the Google News data set."
   ]
  },
  {
   "cell_type": "code",
   "execution_count": 143,
   "metadata": {
    "collapsed": true
   },
   "outputs": [],
   "source": [
    "from gensim.models import KeyedVectors"
   ]
  },
  {
   "cell_type": "code",
   "execution_count": 144,
   "metadata": {},
   "outputs": [],
   "source": [
    "news_w2v = KeyedVectors.load_word2vec_format('word2vec/GoogleNews-vectors-negative300.bin', binary=True)"
   ]
  },
  {
   "cell_type": "code",
   "execution_count": 145,
   "metadata": {},
   "outputs": [
    {
     "name": "stderr",
     "output_type": "stream",
     "text": [
      "C:\\Users\\Gustav\\Anaconda3\\lib\\site-packages\\ipykernel_launcher.py:1: DeprecationWarning: Call to deprecated `wv` (Attribute will be removed in 4.0.0, use self instead).\n",
      "  \"\"\"Entry point for launching an IPython kernel.\n"
     ]
    },
    {
     "data": {
      "text/plain": [
       "[('kings', 0.7138045430183411),\n",
       " ('queen', 0.6510956883430481),\n",
       " ('monarch', 0.6413194537162781),\n",
       " ('crown_prince', 0.6204219460487366),\n",
       " ('prince', 0.6159993410110474),\n",
       " ('sultan', 0.5864823460578918),\n",
       " ('ruler', 0.5797567367553711),\n",
       " ('princes', 0.5646552443504333),\n",
       " ('Prince_Paras', 0.5432944297790527),\n",
       " ('throne', 0.5422105193138123)]"
      ]
     },
     "execution_count": 145,
     "metadata": {},
     "output_type": "execute_result"
    }
   ],
   "source": [
    "news_w2v.similar_by_word('king')"
   ]
  },
  {
   "cell_type": "code",
   "execution_count": 146,
   "metadata": {},
   "outputs": [
    {
     "data": {
      "text/plain": [
       "[('king', 0.8449392318725586),\n",
       " ('queen', 0.7300517559051514),\n",
       " ('monarch', 0.6454660892486572),\n",
       " ('princess', 0.6156250834465027),\n",
       " ('crown_prince', 0.5818676352500916),\n",
       " ('prince', 0.577711820602417),\n",
       " ('kings', 0.5613664388656616),\n",
       " ('sultan', 0.5376776456832886),\n",
       " ('Queen_Consort', 0.5344247817993164),\n",
       " ('queens', 0.5289887189865112)]"
      ]
     },
     "execution_count": 146,
     "metadata": {},
     "output_type": "execute_result"
    }
   ],
   "source": [
    "news_w2v.similar_by_vector(news_w2v['king'] - news_w2v['man'] + news_w2v['woman'])"
   ]
  },
  {
   "cell_type": "code",
   "execution_count": 152,
   "metadata": {},
   "outputs": [
    {
     "data": {
      "text/plain": [
       "[('EURASIAN_NATURAL_RESOURCES_CORP.', 0.6739697456359863),\n",
       " ('Londons', 0.6536128520965576),\n",
       " ('Islamabad_Slyvia_Hui', 0.6375559568405151),\n",
       " ('Wandsworth', 0.6133824586868286),\n",
       " ('Canary_Wharf', 0.6119279861450195),\n",
       " ('Battersea', 0.6080656051635742),\n",
       " ('Croydon', 0.6077532768249512),\n",
       " ('Holborn', 0.5971218347549438),\n",
       " ('Ealing', 0.5936053991317749),\n",
       " ('Stock_Exchange_LSE_TRIL', 0.5932283401489258)]"
      ]
     },
     "execution_count": 152,
     "metadata": {},
     "output_type": "execute_result"
    }
   ],
   "source": [
    "news_w2v.similar_by_word('London')"
   ]
  },
  {
   "cell_type": "code",
   "execution_count": 151,
   "metadata": {},
   "outputs": [
    {
     "data": {
      "text/plain": [
       "[('Germany', 0.6169734597206116),\n",
       " ('Berlin', 0.6122506856918335),\n",
       " ('Dusseldorf', 0.6023740768432617),\n",
       " ('Frankfurt', 0.5981025695800781),\n",
       " ('London', 0.58940589427948),\n",
       " ('Düsseldorf', 0.5878291726112366),\n",
       " ('Munich', 0.5780648589134216),\n",
       " ('Munich_Germany', 0.5410465002059937),\n",
       " ('Budapest', 0.5359379053115845),\n",
       " ('Duesseldorf', 0.5313573479652405)]"
      ]
     },
     "execution_count": 151,
     "metadata": {},
     "output_type": "execute_result"
    }
   ],
   "source": [
    "news_w2v.similar_by_vector(news_w2v['London'] - news_w2v['England'] + news_w2v['Germany'])"
   ]
  },
  {
   "cell_type": "code",
   "execution_count": 153,
   "metadata": {},
   "outputs": [
    {
     "data": {
      "text/plain": [
       "[('Austria', 0.7461062073707581),\n",
       " ('German', 0.7178748846054077),\n",
       " ('Germans', 0.6628648042678833),\n",
       " ('Switzerland', 0.6506868600845337),\n",
       " ('Hungary', 0.6504982709884644),\n",
       " ('Germnay', 0.649348258972168),\n",
       " ('Netherlands', 0.6437496542930603),\n",
       " ('Cologne', 0.6430779695510864),\n",
       " ('symbol_RSTI', 0.6389946937561035),\n",
       " ('Annita_Kirsten', 0.6342948079109192)]"
      ]
     },
     "execution_count": 153,
     "metadata": {},
     "output_type": "execute_result"
    }
   ],
   "source": [
    "news_w2v.similar_by_word('Germany')"
   ]
  },
  {
   "cell_type": "markdown",
   "metadata": {},
   "source": [
    "The word operations are perhaps not spot on, but it's still damn impressive how London - England + Germany has Berlin as top 2 closest words."
   ]
  },
  {
   "cell_type": "markdown",
   "metadata": {},
   "source": []
  }
 ],
 "metadata": {
  "kernelspec": {
   "display_name": "Python 3",
   "language": "python",
   "name": "python3"
  },
  "language_info": {
   "codemirror_mode": {
    "name": "ipython",
    "version": 3
   },
   "file_extension": ".py",
   "mimetype": "text/x-python",
   "name": "python",
   "nbconvert_exporter": "python",
   "pygments_lexer": "ipython3",
   "version": "3.6.2"
  }
 },
 "nbformat": 4,
 "nbformat_minor": 2
}
