{
 "cells": [
  {
   "cell_type": "markdown",
   "metadata": {},
   "source": [
    "# Introduction\n",
    "In `2. Part of Speech Tagging - LSTM` I attempted to use a RNN for Part of Speech (POS) tagging based on word embeddings created with Google's word2vec pretrained on their news data set, and some extra features.\n",
    "\n",
    "In this notebook I will have another go at it with some more experience with RNNs. Also, this time I will be sure to ignore padded data when calculating loss functions by using the `sample_weight` parameter of `fit`. I think not suing sample weight might have severly harmed my previous model.\n",
    "\n",
    "This time I will include a frozen embedding layer in my model instead of pre processing the data into word vectors.\n",
    "I'll try word embeddings trained by [Glove](https://nlp.stanford.edu/projects/glove/) this time. Glove  which is Stanfords embedding model."
   ]
  },
  {
   "cell_type": "markdown",
   "metadata": {},
   "source": [
    "# The data\n",
    "I will be using the same training data for my tagger as in `1. Part of Speech Tagging - First Atempt`:\n",
    "[Universal Dependencies - English Web Treebank](http://universaldependencies.org/treebanks/en_ewt/index.html), a CoNLL-U formart corpus with 254 830 words and 16 622 sentences in english *taken from various web media including weblogs, newsgroups, emails, reviews, and Yahoo! answers*."
   ]
  },
  {
   "cell_type": "markdown",
   "metadata": {},
   "source": [
    "## Load the Data\n",
    "First lets load the training data and convert it to a python dictionary and a pandas data frame.\n",
    "I use the [conllu](https://github.com/EmilStenstrom/conllu) python package to parse the CoNLL-U files to dictionaries."
   ]
  },
  {
   "cell_type": "code",
   "execution_count": 1,
   "metadata": {
    "collapsed": true
   },
   "outputs": [],
   "source": [
    "import numpy as np\n",
    "import pandas as pd\n",
    "import conllu"
   ]
  },
  {
   "cell_type": "markdown",
   "metadata": {},
   "source": [
    "Read the data."
   ]
  },
  {
   "cell_type": "code",
   "execution_count": 2,
   "metadata": {
    "collapsed": true
   },
   "outputs": [],
   "source": [
    "directory = 'UD/UD_English-EWT'\n",
    "with open('{}/en_ewt-ud-train.conllu'.format(directory), 'r', encoding='utf-8') as f:\n",
    "    train_text = f.read()\n",
    "    \n",
    "directory = 'UD/UD_English-EWT'\n",
    "with open('{}/en_ewt-ud-dev.conllu'.format(directory), 'r', encoding='utf-8') as f:\n",
    "    dev_text = f.read()\n",
    "    \n",
    "directory = 'UD/UD_English-EWT'\n",
    "with open('{}/en_ewt-ud-test.conllu'.format(directory), 'r', encoding='utf-8') as f:\n",
    "    test_text = f.read()"
   ]
  },
  {
   "cell_type": "markdown",
   "metadata": {},
   "source": [
    "Convert it to a dictionary."
   ]
  },
  {
   "cell_type": "code",
   "execution_count": 3,
   "metadata": {
    "collapsed": true
   },
   "outputs": [],
   "source": [
    "train_dict = conllu.parse(train_text)\n",
    "dev_dict = conllu.parse(dev_text)\n",
    "test_dict = conllu.parse(test_text)"
   ]
  },
  {
   "cell_type": "markdown",
   "metadata": {},
   "source": [
    "Count sentences and tokens."
   ]
  },
  {
   "cell_type": "code",
   "execution_count": 4,
   "metadata": {},
   "outputs": [
    {
     "name": "stdout",
     "output_type": "stream",
     "text": [
      "The training set contains 12543 sentences and 204607 tokens\n"
     ]
    }
   ],
   "source": [
    "from functools import reduce\n",
    "\n",
    "n_train_sentences = len(train_dict)\n",
    "n_train_tokens = reduce(lambda x, y: x + len(y), train_dict, 0)\n",
    "\n",
    "print(\"The training set contains {} sentences and {} tokens\".format(n_train_sentences, n_train_tokens))"
   ]
  },
  {
   "cell_type": "code",
   "execution_count": 5,
   "metadata": {
    "collapsed": true
   },
   "outputs": [],
   "source": [
    "train_sentences = [[token['form'] for token in sentence] for sentence in train_dict]\n",
    "train_labels = [[token['upostag'] for token in sentence] for sentence in train_dict]\n",
    "\n",
    "dev_sentences = [[token['form'] for token in sentence] for sentence in dev_dict]\n",
    "dev_labels = [[token['upostag'] for token in sentence] for sentence in dev_dict]\n",
    "\n",
    "test_sentences = [[token['form'] for token in sentence] for sentence in test_dict]\n",
    "test_labels = [[token['upostag'] for token in sentence] for sentence in test_dict]"
   ]
  },
  {
   "cell_type": "code",
   "execution_count": 6,
   "metadata": {
    "collapsed": true
   },
   "outputs": [],
   "source": [
    "pos_tags = list(set(reduce(lambda x, y: x + y, train_labels)))"
   ]
  },
  {
   "cell_type": "code",
   "execution_count": 7,
   "metadata": {},
   "outputs": [
    {
     "data": {
      "text/plain": [
       "17"
      ]
     },
     "execution_count": 7,
     "metadata": {},
     "output_type": "execute_result"
    }
   ],
   "source": [
    "n_labels = len(pos_tags)\n",
    "n_labels"
   ]
  },
  {
   "cell_type": "code",
   "execution_count": 8,
   "metadata": {
    "collapsed": true
   },
   "outputs": [],
   "source": [
    "pos_idx = dict(zip(pos_tags, np.arange(len(pos_tags))))"
   ]
  },
  {
   "cell_type": "code",
   "execution_count": 9,
   "metadata": {
    "collapsed": true
   },
   "outputs": [],
   "source": [
    "pos_encoding = {}\n",
    "for pos, i in pos_idx.items():\n",
    "    pos_encoding[pos] = np.zeros(len(pos_tags))\n",
    "    pos_encoding[pos][i]=1"
   ]
  },
  {
   "cell_type": "markdown",
   "metadata": {},
   "source": [
    "# Feature Engineering\n",
    "[Wang et al.](https://arxiv.org/pdf/1510.06168.pdf) showed that a bidirectional LSTM network could achieve state of the art performance without using any morphological features, they only used these features:\n",
    "* Word embedding of the word (cast to lower case)\n",
    "* Suffix of length two, one-hot encoded\n",
    "* Wether the word is all caps, lower case, or has an initial capital letter. One-hot encoded.\n",
    "\n",
    "I am not using a bidirectional LSTM, but at least I am using a RNN. \n",
    "I'll opt to only use word embeddings for starters."
   ]
  },
  {
   "cell_type": "markdown",
   "metadata": {},
   "source": [
    "## Glove\n",
    "I will opt to use the 100 dimensional Glove 6B data. My vocabulary will be exactly the words inside the pretrained model."
   ]
  },
  {
   "cell_type": "code",
   "execution_count": 84,
   "metadata": {
    "collapsed": true
   },
   "outputs": [],
   "source": [
    "glove_path = 'glove/glove.6B/glove.6B.100d.txt'\n",
    "embeddings = {}\n",
    "token_index = {}\n",
    "index_token = {}\n",
    "with open(glove_path, 'r', encoding='utf-8') as f:\n",
    "    for i, line in enumerate(f):\n",
    "        tok, *vec = line.split()\n",
    "        embeddings[tok] = np.array(vec, dtype='float32')\n",
    "        # Reserve index 0 for padding\n",
    "        token_index[tok] = i + 1\n",
    "        index_token[i+1] = tok"
   ]
  },
  {
   "cell_type": "markdown",
   "metadata": {},
   "source": [
    "Let's check if we have any words that are out of vocabulary OOV."
   ]
  },
  {
   "cell_type": "code",
   "execution_count": 11,
   "metadata": {
    "collapsed": true
   },
   "outputs": [],
   "source": [
    "oov = []\n",
    "for sentence in train_sentences:\n",
    "    for tok in sentence:\n",
    "        if tok not in embeddings:\n",
    "            oov.append(tok)"
   ]
  },
  {
   "cell_type": "code",
   "execution_count": 12,
   "metadata": {},
   "outputs": [
    {
     "data": {
      "text/plain": [
       "31192"
      ]
     },
     "execution_count": 12,
     "metadata": {},
     "output_type": "execute_result"
    }
   ],
   "source": [
    "len(oov)"
   ]
  },
  {
   "cell_type": "markdown",
   "metadata": {},
   "source": [
    "Ouch, 31 000 tokens out of 204 000 tokens are OOV. Most likely it's caused by what preprocessing was used."
   ]
  },
  {
   "cell_type": "code",
   "execution_count": 13,
   "metadata": {},
   "outputs": [
    {
     "data": {
      "text/plain": [
       "['Al',\n",
       " 'Zaman',\n",
       " 'American',\n",
       " 'Shaikh',\n",
       " 'Abdullah',\n",
       " 'Ani',\n",
       " 'Qaim',\n",
       " 'Syrian',\n",
       " 'This',\n",
       " 'DPA']"
      ]
     },
     "execution_count": 13,
     "metadata": {},
     "output_type": "execute_result"
    }
   ],
   "source": [
    "oov[:10]"
   ]
  },
  {
   "cell_type": "markdown",
   "metadata": {},
   "source": [
    "Aha! Glove is only lower case, I should convert my data to lower case as well."
   ]
  },
  {
   "cell_type": "code",
   "execution_count": 14,
   "metadata": {
    "collapsed": true
   },
   "outputs": [],
   "source": [
    "train_sentences = [[token.lower() for token in sentence] for sentence in train_sentences]\n",
    "dev_sentences = [[token.lower() for token in sentence] for sentence in dev_sentences]\n",
    "test_sentences = [[token.lower() for token in sentence] for sentence in test_sentences]"
   ]
  },
  {
   "cell_type": "code",
   "execution_count": 15,
   "metadata": {
    "collapsed": true
   },
   "outputs": [],
   "source": [
    "oov = []\n",
    "for sentence in train_sentences:\n",
    "    for tok in sentence:\n",
    "        if tok not in embeddings:\n",
    "            oov.append(tok)"
   ]
  },
  {
   "cell_type": "code",
   "execution_count": 16,
   "metadata": {},
   "outputs": [
    {
     "data": {
      "text/plain": [
       "2442"
      ]
     },
     "execution_count": 16,
     "metadata": {},
     "output_type": "execute_result"
    }
   ],
   "source": [
    "len(oov)"
   ]
  },
  {
   "cell_type": "markdown",
   "metadata": {},
   "source": [
    "Down to 2 442 OOV tokens!"
   ]
  },
  {
   "cell_type": "code",
   "execution_count": 17,
   "metadata": {
    "scrolled": true
   },
   "outputs": [
    {
     "data": {
      "text/plain": [
       "[\"'akkab\",\n",
       " 'jubur',\n",
       " 'batawi',\n",
       " 'sarhid',\n",
       " 'batawi',\n",
       " 'clientelage',\n",
       " \"47's\",\n",
       " 'fallujan',\n",
       " 'saddamites',\n",
       " 'fallujan',\n",
       " 'sweared',\n",
       " 'unscear',\n",
       " 'conseguences',\n",
       " 'emercom',\n",
       " 'wi940',\n",
       " 'http://www.ibiblio.org/expo/soviet.exhibit/chernobyl.html',\n",
       " 'http://www.ibrae.ac.ru/ibrae/eng/chernobyl/nat_rep/nat_repe.htm#24',\n",
       " 'http://www.nsrl.ttu.edu/chernobyl/wildlifepreserve.htm',\n",
       " 'http://www.environmentalchemistry.com/yogi/hazmat/articles/chernobyl1.html',\n",
       " 'http://digon_va.tripod.com/chernobyl.htm',\n",
       " 'http://www.oneworld.org/index_oc/issue196/byckau.html',\n",
       " 'http://www.collectinghistory.net/chernobyl/',\n",
       " 'http://www.ukrainianweb.com/chernobyl_ukraine.htm',\n",
       " 'http://www.bullatomsci.org/issues/1993/s93/s93marples.html',\n",
       " 'http://www.calguard.ca.gov/ia/chernobyl-15%20years.htm',\n",
       " 'http://www.infoukes.com/history/chornobyl/gregorovich/index.html',\n",
       " 'http://www.un.org/ha/chernobyl/',\n",
       " 'http://www.tecsoc.org/pubs/history/2002/apr26.htm',\n",
       " 'http://www.chernobyl.org.uk/page2.htm',\n",
       " 'http://www.time.com/time/daily/chernobyl/860901.accident.html',\n",
       " 'http://www.infoukes.com/history/chornobyl/elg/',\n",
       " 'http://www.world-nuclear.org/info/chernobyl/inf07.htm',\n",
       " 'http://www.nea.fr/html/rp/chernobyl/conclusions5.html',\n",
       " 'http://www.nea.fr/html/rp/chernobyl/c01.html',\n",
       " 'http://www.nea.fr/html/rp/chernobyl/c05.html',\n",
       " 'http://www.physics.isu.edu/radinf/chern.htm',\n",
       " 'http://www.chernobyl.info/en',\n",
       " 'http://www.arps.org.au/chernobyl.htm',\n",
       " 'http://www-formal.stanford.edu/jmc/progress/chernobyl.html',\n",
       " 'http://www.21stcenturysciencetech.com/articles/chernobyl.html',\n",
       " \"50's\",\n",
       " 'hirsohima',\n",
       " 'nagaski',\n",
       " '.......',\n",
       " 'http://www.adiccp.org/home/default.asp',\n",
       " 'wearies',\n",
       " 'post-saddam',\n",
       " 'www.juancole.com',\n",
       " 'jawaharal',\n",
       " 'kalkat',\n",
       " 'kalkat',\n",
       " 'kalkat',\n",
       " 'kalkat',\n",
       " 'sithamparanathan',\n",
       " 'kalkat',\n",
       " 'kalkat',\n",
       " '16/11/2004',\n",
       " 'trifurcation',\n",
       " '28/10/2004',\n",
       " 'campenni',\n",
       " 'campenni',\n",
       " '’72',\n",
       " '’73',\n",
       " 'swifties',\n",
       " 'abbudi',\n",
       " 'abbudi',\n",
       " 'emminence',\n",
       " \"sha'lan\",\n",
       " \"sha'lan\",\n",
       " \"sha'lan\",\n",
       " \"sha'lan\",\n",
       " \"sha'lan\",\n",
       " \"sha'lan\",\n",
       " \"khaza'il\",\n",
       " 'husseiniyas',\n",
       " 'majoos',\n",
       " 'f*ed',\n",
       " 'fallujan',\n",
       " 'inad',\n",
       " \"gu'ud\",\n",
       " 'dulaym',\n",
       " \"gu'ud\",\n",
       " \"gu'ud\",\n",
       " 'madhlum',\n",
       " 'lihabi',\n",
       " 'lihaib',\n",
       " 'lihaibi',\n",
       " 'post-chavez',\n",
       " 'http://www.amazon.ca/exec/obidos/asin/0915765381/701-3377456-8181939',\n",
       " 'cannistaro',\n",
       " 'quaddaffi',\n",
       " 'http://www.disinfo.com/archive/pages/dossier/id334/pg1/',\n",
       " 'http://www.bigeye.com/111003.htm',\n",
       " 'http://www.thekcrachannel.com/news/4503872/detail.html',\n",
       " 'louisianna',\n",
       " '..',\n",
       " 'tagesthemen',\n",
       " 'ã³l',\n",
       " 'yuor',\n",
       " '.........']"
      ]
     },
     "execution_count": 17,
     "metadata": {},
     "output_type": "execute_result"
    }
   ],
   "source": [
    "oov[:100]"
   ]
  },
  {
   "cell_type": "markdown",
   "metadata": {},
   "source": [
    "Lot's of Arabic sounding words, urls and misspelled words. Let's see if the gensim data has an url token."
   ]
  },
  {
   "cell_type": "code",
   "execution_count": 18,
   "metadata": {},
   "outputs": [
    {
     "data": {
      "text/plain": [
       "True"
      ]
     },
     "execution_count": 18,
     "metadata": {},
     "output_type": "execute_result"
    }
   ],
   "source": [
    "'url' in embeddings"
   ]
  },
  {
   "cell_type": "markdown",
   "metadata": {},
   "source": [
    "Cool, let's replace all urls with that one. Also, let's check what POS tags are expected for urls."
   ]
  },
  {
   "cell_type": "code",
   "execution_count": 19,
   "metadata": {
    "collapsed": true
   },
   "outputs": [],
   "source": [
    "import re"
   ]
  },
  {
   "cell_type": "code",
   "execution_count": 20,
   "metadata": {
    "collapsed": true
   },
   "outputs": [],
   "source": [
    "def process_word(word):\n",
    "    # Match words starting with www., http:// or https://\n",
    "    if re.match(r'^(?:https{0,1}\\:\\/\\/.*|www\\.*)', word):\n",
    "        return \"url\"\n",
    "    else:\n",
    "        return word.lower()"
   ]
  },
  {
   "cell_type": "code",
   "execution_count": 21,
   "metadata": {
    "collapsed": true
   },
   "outputs": [],
   "source": [
    "train_sentences = [[process_word(word) for word in sentence] for sentence in train_sentences]\n",
    "dev_sentences = [[process_word(word) for word in sentence] for sentence in dev_sentences]\n",
    "test_sentences = [[process_word(word) for word in sentence] for sentence in test_sentences]"
   ]
  },
  {
   "cell_type": "code",
   "execution_count": 22,
   "metadata": {
    "collapsed": true
   },
   "outputs": [],
   "source": [
    "oov = []\n",
    "for sentence in train_sentences:\n",
    "    for tok in sentence:\n",
    "        if tok not in embeddings:\n",
    "            oov.append(tok)"
   ]
  },
  {
   "cell_type": "code",
   "execution_count": 23,
   "metadata": {},
   "outputs": [
    {
     "data": {
      "text/plain": [
       "2310"
      ]
     },
     "execution_count": 23,
     "metadata": {},
     "output_type": "execute_result"
    }
   ],
   "source": [
    "len(oov)"
   ]
  },
  {
   "cell_type": "code",
   "execution_count": 24,
   "metadata": {
    "collapsed": true
   },
   "outputs": [],
   "source": [
    "url_tags = []\n",
    "for i, sentence in enumerate(train_sentences):\n",
    "    for j, tok in enumerate(sentence):\n",
    "        if tok == 'url':\n",
    "            url_tags.append(train_labels[i][j])"
   ]
  },
  {
   "cell_type": "code",
   "execution_count": 25,
   "metadata": {},
   "outputs": [
    {
     "data": {
      "text/plain": [
       "(array(['NOUN', 'PROPN', 'X'],\n",
       "       dtype='<U5'), array([  2,   1, 132], dtype=int64))"
      ]
     },
     "execution_count": 25,
     "metadata": {},
     "output_type": "execute_result"
    }
   ],
   "source": [
    "np.unique(np.array(url_tags),return_counts=True)"
   ]
  },
  {
   "cell_type": "markdown",
   "metadata": {},
   "source": [
    "Most are classified as `X`. I think casting them all to `url` is sound!"
   ]
  },
  {
   "cell_type": "markdown",
   "metadata": {},
   "source": [
    "It would be interesting to correct the spelling of all misspelled words. One method could be to calculate the [Damerau–Levenshtein distance](https://en.wikipedia.org/wiki/Damerau%E2%80%93Levenshtein_distance) of all OOV words to words inside the vocabulary, and casting them to the closest match (if it is withing some maxmimum distance).\n",
    "\n",
    "[Norvig](http://norvig.com/spell-correct.html) shows how to find all words within 2 Damerau-Levenshtein distance. Neat!\n",
    "THis method is easily extended to find all words within k."
   ]
  },
  {
   "cell_type": "markdown",
   "metadata": {},
   "source": [
    "First, find all characters present in the embeddings."
   ]
  },
  {
   "cell_type": "code",
   "execution_count": 26,
   "metadata": {
    "collapsed": true
   },
   "outputs": [],
   "source": [
    "character_vocab = set()\n",
    "\n",
    "for word in embeddings:\n",
    "    for c in word:\n",
    "        character_vocab.add(c)"
   ]
  },
  {
   "cell_type": "code",
   "execution_count": 27,
   "metadata": {},
   "outputs": [
    {
     "data": {
      "text/plain": [
       "489"
      ]
     },
     "execution_count": 27,
     "metadata": {},
     "output_type": "execute_result"
    }
   ],
   "source": [
    "len(character_vocab)"
   ]
  },
  {
   "cell_type": "markdown",
   "metadata": {},
   "source": [
    "Ouch, that's a lot of characters. Lets ignore all characters that are not ascii. (I think these characters are the most common in misspellings.)"
   ]
  },
  {
   "cell_type": "code",
   "execution_count": 28,
   "metadata": {
    "collapsed": true
   },
   "outputs": [],
   "source": [
    "# Only keep characters in the ascii range\n",
    "ascii_vocab = set([c for c in character_vocab if 32 <= ord(c) <= 126])"
   ]
  },
  {
   "cell_type": "code",
   "execution_count": 29,
   "metadata": {},
   "outputs": [
    {
     "data": {
      "text/plain": [
       "68"
      ]
     },
     "execution_count": 29,
     "metadata": {},
     "output_type": "execute_result"
    }
   ],
   "source": [
    "len(ascii_vocab)"
   ]
  },
  {
   "cell_type": "code",
   "execution_count": 30,
   "metadata": {
    "collapsed": true
   },
   "outputs": [],
   "source": [
    "def neighbour_words(word):\n",
    "    # Tuples with all possible splits of word\n",
    "    splits = [(word[:i], word[i:]) for i in range(len(word))]\n",
    "    \n",
    "    # All words generated by deleting one character\n",
    "    deletes = [L + R[1:] for L, R in splits if R]\n",
    "    # All words generated by swapping two characters in word\n",
    "    transposes = [L + R[1] + R[0] + R[2:] for L, R in splits if len(R) > 1]\n",
    "    # All words generated by inserting a character in word\n",
    "    insertions = [L + c + R for L, R in splits for c in ascii_vocab]\n",
    "    # All words generated by replacing a character in word\n",
    "    replace = [L + c +R[1:] for L, R, in splits for c in ascii_vocab if R]\n",
    "    \n",
    "    return set(deletes+transposes+insertions+replace)\n",
    "    "
   ]
  },
  {
   "cell_type": "code",
   "execution_count": 31,
   "metadata": {
    "collapsed": true
   },
   "outputs": [],
   "source": [
    "def fix_spelling(word, vocab, max_distance=1):\n",
    "    candidates = set([word])\n",
    "    \n",
    "    for i in range(max_distance+1):\n",
    "        for candidate in candidates:\n",
    "            if candidate in vocab:\n",
    "                return candidate\n",
    "        new_candidates = set()\n",
    "        for candidate in candidates:\n",
    "            new_candidates = new_candidates.union(neighbour_words(candidate))\n",
    "        candidates = new_candidates\n",
    "    return None"
   ]
  },
  {
   "cell_type": "markdown",
   "metadata": {},
   "source": [
    "Right, the amount of possibilities explode for longer words and this large vocabulary.\n",
    "I'll only search for matches withing just one edit, and if there are many possibilities I don't care which one.\n",
    "\n",
    "Here is a version of the above function that will just look at distance one, and return the first match."
   ]
  },
  {
   "cell_type": "code",
   "execution_count": 32,
   "metadata": {
    "collapsed": true
   },
   "outputs": [],
   "source": [
    "def find_one_neighbour(word, vocab):\n",
    "    # Tuples with all possible splits of word\n",
    "    splits = [(word[:i], word[i:]) for i in range(len(word))]\n",
    "    \n",
    "    # All words generated by deleting one character\n",
    "    for L, R in splits:\n",
    "        candidate = L + R[1:] if R else None\n",
    "        if candidate in vocab:\n",
    "            return candidate\n",
    "    # All words generated by swapping two characters in word\n",
    "    for L, R in splits:\n",
    "        candidate = L + R[1:] if R else None\n",
    "        if candidate in vocab:\n",
    "            return candidate\n",
    "    # All words generated by swapping two characters in word\n",
    "    for L, R in splits:    \n",
    "        candidate = L + R[1] + R[0] + R[2:] if len(R) > 1 else None\n",
    "        if candidate in vocab:\n",
    "            return candidate\n",
    "    # All words generated by inserting a character in word\n",
    "    for L, R in splits:\n",
    "        for c in ascii_vocab:    \n",
    "            candidate = L + c + R \n",
    "            if candidate in vocab:\n",
    "                return candidate\n",
    "    # All words generated by replacing a character in word\n",
    "    for L, R, in splits:\n",
    "        for c in ascii_vocab:    \n",
    "            candidate = L + c +R[1:] if R else None\n",
    "            if candidate in vocab:\n",
    "                return candidate\n",
    "        \n",
    "    return None\n",
    "    "
   ]
  },
  {
   "cell_type": "code",
   "execution_count": 33,
   "metadata": {
    "collapsed": true
   },
   "outputs": [],
   "source": [
    "find_one_neighbour(\"mispeled\", [\"misspelled\"])"
   ]
  },
  {
   "cell_type": "code",
   "execution_count": 34,
   "metadata": {
    "collapsed": true
   },
   "outputs": [],
   "source": [
    "fixed_spelling = [find_one_neighbour(word, embeddings) for word in oov]"
   ]
  },
  {
   "cell_type": "code",
   "execution_count": 35,
   "metadata": {
    "collapsed": true
   },
   "outputs": [],
   "source": [
    "new_spelling = dict(zip(oov, fixed_spelling))"
   ]
  },
  {
   "cell_type": "code",
   "execution_count": 36,
   "metadata": {},
   "outputs": [
    {
     "data": {
      "text/plain": [
       "[(\"'akkab\", None),\n",
       " ('jubur', 'subur'),\n",
       " ('batawi', 'tatawi'),\n",
       " ('sarhid', 'sahid'),\n",
       " ('clientelage', None),\n",
       " (\"47's\", '47s'),\n",
       " ('fallujan', 'falluja'),\n",
       " ('saddamites', None),\n",
       " ('sweared', 'seared'),\n",
       " ('unscear', None),\n",
       " ('conseguences', 'consequences'),\n",
       " ('emercom', None),\n",
       " ('wi940', None),\n",
       " (\"50's\", '50s'),\n",
       " ('hirsohima', 'hiroshima'),\n",
       " ('nagaski', 'nagasaki'),\n",
       " ('.......', None),\n",
       " ('wearies', 'wearier'),\n",
       " ('post-saddam', None),\n",
       " ('jawaharal', 'jawaharlal')]"
      ]
     },
     "execution_count": 36,
     "metadata": {},
     "output_type": "execute_result"
    }
   ],
   "source": [
    "list(new_spelling.items())[:20]"
   ]
  },
  {
   "cell_type": "code",
   "execution_count": 37,
   "metadata": {
    "collapsed": true
   },
   "outputs": [],
   "source": [
    "n_fixed = len(oov) - np.asarray(fixed_spelling, dtype='bool').sum()"
   ]
  },
  {
   "cell_type": "code",
   "execution_count": 38,
   "metadata": {},
   "outputs": [
    {
     "data": {
      "text/plain": [
       "1066"
      ]
     },
     "execution_count": 38,
     "metadata": {},
     "output_type": "execute_result"
    }
   ],
   "source": [
    "n_fixed"
   ]
  },
  {
   "cell_type": "markdown",
   "metadata": {},
   "source": [
    "Might not always be perfect corrections, but I think this is better than keeping the words as oov."
   ]
  },
  {
   "cell_type": "code",
   "execution_count": 39,
   "metadata": {
    "collapsed": true
   },
   "outputs": [],
   "source": [
    "def replace_words(word, fix_dict):\n",
    "    if word in fix_dict:\n",
    "        return fix_dict[word]\n",
    "    else:\n",
    "        return word"
   ]
  },
  {
   "cell_type": "code",
   "execution_count": 40,
   "metadata": {
    "collapsed": true
   },
   "outputs": [],
   "source": [
    "def find_oov(sentences, vocab):\n",
    "    oov = []\n",
    "    for sentence in train_sentences:\n",
    "        for tok in sentence:\n",
    "            if tok not in embeddings:\n",
    "                oov.append(tok)\n",
    "    return oov"
   ]
  },
  {
   "cell_type": "code",
   "execution_count": 41,
   "metadata": {
    "collapsed": true
   },
   "outputs": [],
   "source": [
    "oov_train = find_oov(train_sentences, embeddings)\n",
    "fixed_spelling_train = [find_one_neighbour(word, embeddings) for word in oov_train]\n",
    "fixed_spelling_train = dict(zip(oov_train, fixed_spelling_train))"
   ]
  },
  {
   "cell_type": "code",
   "execution_count": 42,
   "metadata": {
    "collapsed": true
   },
   "outputs": [],
   "source": [
    "oov_dev = find_oov(dev_sentences, embeddings)\n",
    "fixed_spelling_dev = [find_one_neighbour(word, embeddings) for word in oov_dev]\n",
    "fixed_spelling_dev = dict(zip(oov_dev, fixed_spelling_dev))"
   ]
  },
  {
   "cell_type": "code",
   "execution_count": 43,
   "metadata": {
    "collapsed": true
   },
   "outputs": [],
   "source": [
    "oov_test = find_oov(test_sentences, embeddings)\n",
    "fixed_spelling_test = [find_one_neighbour(word, embeddings) for word in oov_test]\n",
    "fixed_spelling_test = dict(zip(oov_test, fixed_spelling_test))"
   ]
  },
  {
   "cell_type": "code",
   "execution_count": 44,
   "metadata": {
    "collapsed": true
   },
   "outputs": [],
   "source": [
    "train_sentences = [[replace_words(word, fixed_spelling_train) for word in sentence] for sentence in train_sentences]\n",
    "dev_sentences = [[replace_words(word, fixed_spelling_dev) for word in sentence] for sentence in dev_sentences]\n",
    "test_sentences = [[replace_words(word, fixed_spelling_test) for word in sentence] for sentence in test_sentences]"
   ]
  },
  {
   "cell_type": "markdown",
   "metadata": {},
   "source": [
    "## Encoding the data\n",
    "I will encode the targets and the tokens as integers.\n",
    "Later I will encode targets with one-hot encoding."
   ]
  },
  {
   "cell_type": "markdown",
   "metadata": {},
   "source": [
    "### Labels\n",
    "First build a map from pos tag to an index."
   ]
  },
  {
   "cell_type": "code",
   "execution_count": 45,
   "metadata": {
    "collapsed": true
   },
   "outputs": [],
   "source": [
    "pos_tag_index = {}\n",
    "for i, pos in enumerate(pos_tags):\n",
    "    # Reserve 0 for padded labels\n",
    "    pos_tag_index[pos] = i + 1"
   ]
  },
  {
   "cell_type": "code",
   "execution_count": 301,
   "metadata": {
    "collapsed": true
   },
   "outputs": [],
   "source": [
    "Y_train = np.asarray([np.asarray([pos_tag_index[pos] for pos in sentence]) for sentence in train_labels])\n",
    "Y_dev = np.asarray([np.asarray([pos_tag_index[pos] for pos in sentence]) for sentence in dev_labels])\n",
    "Y_test = np.asarray([np.asarray([pos_tag_index[pos] for pos in sentence]) for sentence in test_labels])"
   ]
  },
  {
   "cell_type": "markdown",
   "metadata": {},
   "source": [
    "### Tokens\n",
    "I already built the mapping from token to index.\n",
    "Encode all OOV tokens as \"unk\". See https://stackoverflow.com/questions/49239941/what-is-unk-in-glove-6b-50d-txt"
   ]
  },
  {
   "cell_type": "code",
   "execution_count": 302,
   "metadata": {
    "collapsed": true
   },
   "outputs": [],
   "source": [
    "X_train = np.asarray([np.asarray([token_index[tok if tok in token_index else \"unk\"] for tok in sentence]) for sentence in train_sentences])\n",
    "X_dev = np.asarray([np.asarray([token_index[tok if tok in token_index else \"unk\"]  for tok in sentence]) for sentence in dev_sentences])\n",
    "X_test = np.asarray([np.asarray([token_index[tok if tok in token_index else \"unk\"] for tok in sentence]) for sentence in test_sentences])"
   ]
  },
  {
   "cell_type": "markdown",
   "metadata": {},
   "source": [
    "## Pad the data"
   ]
  },
  {
   "cell_type": "code",
   "execution_count": 51,
   "metadata": {
    "collapsed": true
   },
   "outputs": [],
   "source": [
    "max_sentence_length = max([len(sentence) for sentence in train_sentences])"
   ]
  },
  {
   "cell_type": "code",
   "execution_count": 52,
   "metadata": {},
   "outputs": [
    {
     "name": "stderr",
     "output_type": "stream",
     "text": [
      "Using TensorFlow backend.\n"
     ]
    }
   ],
   "source": [
    "from keras.preprocessing.sequence import pad_sequences"
   ]
  },
  {
   "cell_type": "code",
   "execution_count": 53,
   "metadata": {
    "collapsed": true
   },
   "outputs": [],
   "source": [
    "X_train = pad_sequences(X_train, maxlen=max_sentence_length, padding='post')\n",
    "Y_train = pad_sequences(Y_train, maxlen=max_sentence_length, padding='post')"
   ]
  },
  {
   "cell_type": "code",
   "execution_count": 54,
   "metadata": {
    "collapsed": true
   },
   "outputs": [],
   "source": [
    "X_dev = pad_sequences(X_dev, maxlen=max_sentence_length, padding='post')\n",
    "Y_dev = pad_sequences(Y_dev, maxlen=max_sentence_length, padding='post')"
   ]
  },
  {
   "cell_type": "code",
   "execution_count": 55,
   "metadata": {
    "collapsed": true
   },
   "outputs": [],
   "source": [
    "X_test = pad_sequences(X_test, maxlen=max_sentence_length, padding='post')\n",
    "Y_test = pad_sequences(Y_test, maxlen=max_sentence_length, padding='post')"
   ]
  },
  {
   "cell_type": "markdown",
   "metadata": {},
   "source": [
    "### Set sample weights\n",
    "We should not considered training instances with word index 0 when calculating our loss function, as these are padding."
   ]
  },
  {
   "cell_type": "code",
   "execution_count": 59,
   "metadata": {
    "collapsed": true
   },
   "outputs": [],
   "source": [
    "sample_weights_train = (X_train != 0).reshape(X_train.shape[0], X_train.shape[1])\n",
    "sample_weights_train = sample_weights_train.astype(int)"
   ]
  },
  {
   "cell_type": "code",
   "execution_count": 60,
   "metadata": {
    "collapsed": true
   },
   "outputs": [],
   "source": [
    "sample_weights_dev = (X_dev != 0).reshape(X_dev.shape[0], X_dev.shape[1])\n",
    "sample_weights_dev = sample_weights_dev.astype(int)"
   ]
  },
  {
   "cell_type": "code",
   "execution_count": 61,
   "metadata": {
    "collapsed": true
   },
   "outputs": [],
   "source": [
    "sample_weights_test = (X_test != 0).reshape(X_test.shape[0], X_test.shape[1])\n",
    "sample_weights_test = sample_weights_test.astype(int)"
   ]
  },
  {
   "cell_type": "markdown",
   "metadata": {},
   "source": [
    "## One-hot Encode Labels"
   ]
  },
  {
   "cell_type": "code",
   "execution_count": 62,
   "metadata": {
    "collapsed": true
   },
   "outputs": [],
   "source": [
    "def one_hot(i, n):\n",
    "    arr = np.zeros(n)\n",
    "    arr[i] = 1\n",
    "    return arr"
   ]
  },
  {
   "cell_type": "code",
   "execution_count": 63,
   "metadata": {},
   "outputs": [
    {
     "data": {
      "text/plain": [
       "array([10, 12, 10, 12,  3,  4, 13, 10, 10, 10, 12, 10, 12,  5,  4, 16,  5,\n",
       "        4, 16,  5,  4, 16, 10, 12, 16,  5,  3,  4, 12,  0,  0,  0,  0,  0,\n",
       "        0,  0,  0,  0,  0,  0,  0,  0,  0,  0,  0,  0,  0,  0,  0,  0,  0,\n",
       "        0,  0,  0,  0,  0,  0,  0,  0,  0,  0,  0,  0,  0,  0,  0,  0,  0,\n",
       "        0,  0,  0,  0,  0,  0,  0,  0,  0,  0,  0,  0,  0,  0,  0,  0,  0,\n",
       "        0,  0,  0,  0,  0,  0,  0,  0,  0,  0,  0,  0,  0,  0,  0,  0,  0,\n",
       "        0,  0,  0,  0,  0,  0,  0,  0,  0,  0,  0,  0,  0,  0,  0,  0,  0,\n",
       "        0,  0,  0,  0,  0,  0,  0,  0,  0,  0,  0,  0,  0,  0,  0,  0,  0,\n",
       "        0,  0,  0,  0,  0,  0,  0,  0,  0,  0,  0,  0,  0,  0,  0,  0,  0,\n",
       "        0,  0,  0,  0,  0,  0])"
      ]
     },
     "execution_count": 63,
     "metadata": {},
     "output_type": "execute_result"
    }
   ],
   "source": [
    "Y_train[0]"
   ]
  },
  {
   "cell_type": "code",
   "execution_count": 64,
   "metadata": {
    "collapsed": true
   },
   "outputs": [],
   "source": [
    "Y_train = np.asarray([np.asarray([one_hot(i, n_labels+1) for i in sentence]) for sentence in Y_train])\n",
    "\n",
    "Y_dev = np.asarray([np.asarray([one_hot(i, n_labels+1) for i in sentence]) for sentence in Y_dev])\n",
    "\n",
    "Y_test = np.asarray([np.asarray([one_hot(i, n_labels+1) for i in sentence]) for sentence in Y_test])"
   ]
  },
  {
   "cell_type": "code",
   "execution_count": 65,
   "metadata": {},
   "outputs": [
    {
     "data": {
      "text/plain": [
       "(12543, 159, 18)"
      ]
     },
     "execution_count": 65,
     "metadata": {},
     "output_type": "execute_result"
    }
   ],
   "source": [
    "Y_train.shape"
   ]
  },
  {
   "cell_type": "markdown",
   "metadata": {},
   "source": [
    "# RNN"
   ]
  },
  {
   "cell_type": "markdown",
   "metadata": {},
   "source": [
    "## Embedding Layer\n",
    "Create a frozen embedding layer from the Glove data."
   ]
  },
  {
   "cell_type": "code",
   "execution_count": 72,
   "metadata": {
    "collapsed": true
   },
   "outputs": [],
   "source": [
    "embedding_dims = 100\n",
    "\n",
    "pad = np.zeros(embedding_dims).reshape(1, embedding_dims)\n",
    "\n",
    "embedding_matrix = np.concatenate([pad, np.array(list(embeddings.values()))])\n",
    "\n",
    "n_words = len(embedding_matrix)"
   ]
  },
  {
   "cell_type": "code",
   "execution_count": null,
   "metadata": {
    "collapsed": true
   },
   "outputs": [],
   "source": []
  },
  {
   "cell_type": "code",
   "execution_count": 95,
   "metadata": {
    "collapsed": true
   },
   "outputs": [],
   "source": [
    "from keras.layers import Embedding"
   ]
  },
  {
   "cell_type": "code",
   "execution_count": 96,
   "metadata": {
    "collapsed": true
   },
   "outputs": [],
   "source": [
    "embedding_layer = Embedding(n_words,\n",
    "                            embedding_dims,\n",
    "                            weights=[embedding_matrix],\n",
    "                            input_length=max_sentence_length,\n",
    "                            trainable=False)"
   ]
  },
  {
   "cell_type": "code",
   "execution_count": null,
   "metadata": {
    "collapsed": true
   },
   "outputs": [],
   "source": []
  },
  {
   "cell_type": "markdown",
   "metadata": {},
   "source": [
    "## First Model"
   ]
  },
  {
   "cell_type": "code",
   "execution_count": 97,
   "metadata": {
    "collapsed": true
   },
   "outputs": [],
   "source": [
    "from keras.layers import GRU, Input, Dense, Dropout, BatchNormalization\n",
    "from keras.models import Model"
   ]
  },
  {
   "cell_type": "code",
   "execution_count": 101,
   "metadata": {
    "collapsed": true
   },
   "outputs": [],
   "source": [
    "latent_dim = 256"
   ]
  },
  {
   "cell_type": "code",
   "execution_count": 217,
   "metadata": {
    "collapsed": true
   },
   "outputs": [],
   "source": [
    "model_input = Input(shape=(None,))\n",
    "x = embedding_layer(model_input)\n",
    "x = BatchNormalization()(x)\n",
    "x = GRU(latent_dim, return_sequences=True)(x)\n",
    "model_output = Dense(n_labels + 1, activation='softmax')(x)\n",
    "model = Model(model_input, model_output)"
   ]
  },
  {
   "cell_type": "markdown",
   "metadata": {},
   "source": [
    "I use the weighted_metrics argument instead of metrics because I don't want to include padding when calculating accuracy."
   ]
  },
  {
   "cell_type": "code",
   "execution_count": 218,
   "metadata": {
    "collapsed": true
   },
   "outputs": [],
   "source": [
    "model.compile(optimizer='adam', loss='categorical_crossentropy', sample_weight_mode='temporal', weighted_metrics=['accuracy'])"
   ]
  },
  {
   "cell_type": "code",
   "execution_count": 219,
   "metadata": {
    "collapsed": true
   },
   "outputs": [],
   "source": [
    "from keras.callbacks import History "
   ]
  },
  {
   "cell_type": "code",
   "execution_count": null,
   "metadata": {
    "collapsed": true
   },
   "outputs": [],
   "source": []
  },
  {
   "cell_type": "code",
   "execution_count": 220,
   "metadata": {},
   "outputs": [
    {
     "name": "stdout",
     "output_type": "stream",
     "text": [
      "Train on 12543 samples, validate on 2002 samples\n",
      "Epoch 1/5\n",
      "12543/12543 [==============================] - 330s 26ms/step - loss: 0.6036 - weighted_acc: 0.8208 - val_loss: 0.3917 - val_weighted_acc: 0.8839\n",
      "Epoch 2/5\n",
      "12543/12543 [==============================] - 338s 27ms/step - loss: 0.2848 - weighted_acc: 0.9125 - val_loss: 0.3273 - val_weighted_acc: 0.8984\n",
      "Epoch 3/5\n",
      "12543/12543 [==============================] - 336s 27ms/step - loss: 0.2234 - weighted_acc: 0.9301 - val_loss: 0.3063 - val_weighted_acc: 0.9052\n",
      "Epoch 4/5\n",
      "12543/12543 [==============================] - 340s 27ms/step - loss: 0.1873 - weighted_acc: 0.9409 - val_loss: 0.3065 - val_weighted_acc: 0.9067\n",
      "Epoch 5/5\n",
      "12543/12543 [==============================] - 359s 29ms/step - loss: 0.1592 - weighted_acc: 0.9497 - val_loss: 0.3021 - val_weighted_acc: 0.9091\n"
     ]
    }
   ],
   "source": [
    "callback = model.fit(X_train, Y_train,\n",
    "          batch_size=64,\n",
    "          epochs=5,\n",
    "          sample_weight=sample_weights_train,\n",
    "          validation_data=(X_dev, Y_dev, sample_weights_dev),\n",
    "          callbacks = [History()])"
   ]
  },
  {
   "cell_type": "code",
   "execution_count": 234,
   "metadata": {
    "collapsed": true
   },
   "outputs": [],
   "source": [
    "history_df = pd.DataFrame(callback.history)\n",
    "history_df.index = np.arange(1, history_df.shape[0]+1)"
   ]
  },
  {
   "cell_type": "code",
   "execution_count": 235,
   "metadata": {},
   "outputs": [
    {
     "data": {
      "text/html": [
       "<div>\n",
       "<style>\n",
       "    .dataframe thead tr:only-child th {\n",
       "        text-align: right;\n",
       "    }\n",
       "\n",
       "    .dataframe thead th {\n",
       "        text-align: left;\n",
       "    }\n",
       "\n",
       "    .dataframe tbody tr th {\n",
       "        vertical-align: top;\n",
       "    }\n",
       "</style>\n",
       "<table border=\"1\" class=\"dataframe\">\n",
       "  <thead>\n",
       "    <tr style=\"text-align: right;\">\n",
       "      <th></th>\n",
       "      <th>loss</th>\n",
       "      <th>val_loss</th>\n",
       "      <th>val_weighted_acc</th>\n",
       "      <th>weighted_acc</th>\n",
       "    </tr>\n",
       "  </thead>\n",
       "  <tbody>\n",
       "    <tr>\n",
       "      <th>1</th>\n",
       "      <td>0.603642</td>\n",
       "      <td>0.391734</td>\n",
       "      <td>0.883905</td>\n",
       "      <td>0.820780</td>\n",
       "    </tr>\n",
       "    <tr>\n",
       "      <th>2</th>\n",
       "      <td>0.284763</td>\n",
       "      <td>0.327256</td>\n",
       "      <td>0.898351</td>\n",
       "      <td>0.912548</td>\n",
       "    </tr>\n",
       "    <tr>\n",
       "      <th>3</th>\n",
       "      <td>0.223450</td>\n",
       "      <td>0.306300</td>\n",
       "      <td>0.905157</td>\n",
       "      <td>0.930096</td>\n",
       "    </tr>\n",
       "    <tr>\n",
       "      <th>4</th>\n",
       "      <td>0.187292</td>\n",
       "      <td>0.306545</td>\n",
       "      <td>0.906701</td>\n",
       "      <td>0.940925</td>\n",
       "    </tr>\n",
       "    <tr>\n",
       "      <th>5</th>\n",
       "      <td>0.159196</td>\n",
       "      <td>0.302063</td>\n",
       "      <td>0.909146</td>\n",
       "      <td>0.949655</td>\n",
       "    </tr>\n",
       "  </tbody>\n",
       "</table>\n",
       "</div>"
      ],
      "text/plain": [
       "       loss  val_loss  val_weighted_acc  weighted_acc\n",
       "1  0.603642  0.391734          0.883905      0.820780\n",
       "2  0.284763  0.327256          0.898351      0.912548\n",
       "3  0.223450  0.306300          0.905157      0.930096\n",
       "4  0.187292  0.306545          0.906701      0.940925\n",
       "5  0.159196  0.302063          0.909146      0.949655"
      ]
     },
     "execution_count": 235,
     "metadata": {},
     "output_type": "execute_result"
    }
   ],
   "source": [
    "history_df"
   ]
  },
  {
   "cell_type": "code",
   "execution_count": 228,
   "metadata": {
    "collapsed": true
   },
   "outputs": [],
   "source": [
    "import matplotlib.pyplot as plt\n",
    "import seaborn as sns\n",
    "sns.set()\n",
    "%matplotlib inline"
   ]
  },
  {
   "cell_type": "code",
   "execution_count": 236,
   "metadata": {},
   "outputs": [
    {
     "data": {
      "text/plain": [
       "<matplotlib.text.Text at 0x1a139686eb8>"
      ]
     },
     "execution_count": 236,
     "metadata": {},
     "output_type": "execute_result"
    },
    {
     "data": {
      "image/png": "[encoded data removed]",
      "text/plain": [
       "<matplotlib.figure.Figure at 0x1a139671940>"
      ]
     },
     "metadata": {},
     "output_type": "display_data"
    }
   ],
   "source": [
    "f, ax = plt.subplots(figsize=(16, 9))\n",
    "\n",
    "history_df[['val_weighted_acc', 'weighted_acc']].plot(ax=ax)\n",
    "ax.set_ylabel(\"Accuracy\")\n",
    "ax.set_xlabel('Epochs')\n",
    "ax.set_title('Tagging Accuracy on the training and validation sets during training')\n"
   ]
  },
  {
   "cell_type": "markdown",
   "metadata": {},
   "source": [
    "Validation accuracy almost reaches 91% in 5 epochs.\n",
    "My previous best model was a DNN that reached 93% validation accuracy, maybe I can surpas this with enough training.\n",
    "\n",
    "Unfortunately training accuracy is improving much quicker than validation accuracy, meaning the model is showing signs of overfitting.\n",
    "Let's regularize it with Dropout."
   ]
  },
  {
   "cell_type": "code",
   "execution_count": 239,
   "metadata": {
    "collapsed": true
   },
   "outputs": [],
   "source": [
    "model.save('keras_models/gru1_5_epochs.h5')"
   ]
  },
  {
   "cell_type": "markdown",
   "metadata": {},
   "source": [
    "## Model Two, Dropout\n",
    "Let's add dropout to the layers of the previous model."
   ]
  },
  {
   "cell_type": "code",
   "execution_count": 240,
   "metadata": {
    "collapsed": true
   },
   "outputs": [],
   "source": [
    "from keras.layers import Dropout"
   ]
  },
  {
   "cell_type": "code",
   "execution_count": 241,
   "metadata": {
    "collapsed": true
   },
   "outputs": [],
   "source": [
    "model_input = Input(shape=(None,))\n",
    "x = embedding_layer(model_input)\n",
    "x = Dropout(rate=.5)(x)\n",
    "x = BatchNormalization()(x)\n",
    "x = GRU(latent_dim, return_sequences=True)(x)\n",
    "x = Dropout(rate=.5)(x)\n",
    "model_output = Dense(n_labels + 1, activation='softmax')(x)\n",
    "model2 = Model(model_input, model_output)"
   ]
  },
  {
   "cell_type": "markdown",
   "metadata": {},
   "source": [
    "I use the weighted_metrics argument instead of metrics because I don't want to include padding when calculating accuracy."
   ]
  },
  {
   "cell_type": "code",
   "execution_count": 242,
   "metadata": {
    "collapsed": true
   },
   "outputs": [],
   "source": [
    "model2.compile(optimizer='adam', loss='categorical_crossentropy', sample_weight_mode='temporal', weighted_metrics=['accuracy'])"
   ]
  },
  {
   "cell_type": "code",
   "execution_count": 243,
   "metadata": {},
   "outputs": [
    {
     "name": "stdout",
     "output_type": "stream",
     "text": [
      "Train on 12543 samples, validate on 2002 samples\n",
      "Epoch 1/5\n",
      "12543/12543 [==============================] - 291s 23ms/step - loss: 1.2682 - weighted_acc: 0.6028 - val_loss: 0.6200 - val_weighted_acc: 0.8071\n",
      "Epoch 2/5\n",
      "12543/12543 [==============================] - 326s 26ms/step - loss: 0.8398 - weighted_acc: 0.7259 - val_loss: 0.5331 - val_weighted_acc: 0.8357\n",
      "Epoch 3/5\n",
      "12543/12543 [==============================] - 352s 28ms/step - loss: 0.7481 - weighted_acc: 0.7544 - val_loss: 0.4978 - val_weighted_acc: 0.8453\n",
      "Epoch 4/5\n",
      "12543/12543 [==============================] - 359s 29ms/step - loss: 0.6981 - weighted_acc: 0.7707 - val_loss: 0.4697 - val_weighted_acc: 0.8547\n",
      "Epoch 5/5\n",
      "12543/12543 [==============================] - 363s 29ms/step - loss: 0.6623 - weighted_acc: 0.7827 - val_loss: 0.4498 - val_weighted_acc: 0.8625\n"
     ]
    }
   ],
   "source": [
    "callback = model2.fit(X_train, Y_train,\n",
    "          batch_size=64,\n",
    "          epochs=5,\n",
    "          sample_weight=sample_weights_train,\n",
    "          validation_data=(X_dev, Y_dev, sample_weights_dev),\n",
    "          callbacks = [History()])"
   ]
  },
  {
   "cell_type": "code",
   "execution_count": 244,
   "metadata": {
    "collapsed": true
   },
   "outputs": [],
   "source": [
    "history_df = pd.DataFrame(callback.history)\n",
    "history_df.index = np.arange(1, history_df.shape[0]+1)"
   ]
  },
  {
   "cell_type": "code",
   "execution_count": 245,
   "metadata": {},
   "outputs": [
    {
     "data": {
      "text/html": [
       "<div>\n",
       "<style>\n",
       "    .dataframe thead tr:only-child th {\n",
       "        text-align: right;\n",
       "    }\n",
       "\n",
       "    .dataframe thead th {\n",
       "        text-align: left;\n",
       "    }\n",
       "\n",
       "    .dataframe tbody tr th {\n",
       "        vertical-align: top;\n",
       "    }\n",
       "</style>\n",
       "<table border=\"1\" class=\"dataframe\">\n",
       "  <thead>\n",
       "    <tr style=\"text-align: right;\">\n",
       "      <th></th>\n",
       "      <th>loss</th>\n",
       "      <th>val_loss</th>\n",
       "      <th>val_weighted_acc</th>\n",
       "      <th>weighted_acc</th>\n",
       "    </tr>\n",
       "  </thead>\n",
       "  <tbody>\n",
       "    <tr>\n",
       "      <th>1</th>\n",
       "      <td>1.268206</td>\n",
       "      <td>0.619999</td>\n",
       "      <td>0.807134</td>\n",
       "      <td>0.602827</td>\n",
       "    </tr>\n",
       "    <tr>\n",
       "      <th>2</th>\n",
       "      <td>0.839784</td>\n",
       "      <td>0.533110</td>\n",
       "      <td>0.835683</td>\n",
       "      <td>0.725871</td>\n",
       "    </tr>\n",
       "    <tr>\n",
       "      <th>3</th>\n",
       "      <td>0.748131</td>\n",
       "      <td>0.497780</td>\n",
       "      <td>0.845260</td>\n",
       "      <td>0.754424</td>\n",
       "    </tr>\n",
       "    <tr>\n",
       "      <th>4</th>\n",
       "      <td>0.698109</td>\n",
       "      <td>0.469708</td>\n",
       "      <td>0.854695</td>\n",
       "      <td>0.770725</td>\n",
       "    </tr>\n",
       "    <tr>\n",
       "      <th>5</th>\n",
       "      <td>0.662290</td>\n",
       "      <td>0.449781</td>\n",
       "      <td>0.862550</td>\n",
       "      <td>0.782689</td>\n",
       "    </tr>\n",
       "  </tbody>\n",
       "</table>\n",
       "</div>"
      ],
      "text/plain": [
       "       loss  val_loss  val_weighted_acc  weighted_acc\n",
       "1  1.268206  0.619999          0.807134      0.602827\n",
       "2  0.839784  0.533110          0.835683      0.725871\n",
       "3  0.748131  0.497780          0.845260      0.754424\n",
       "4  0.698109  0.469708          0.854695      0.770725\n",
       "5  0.662290  0.449781          0.862550      0.782689"
      ]
     },
     "execution_count": 245,
     "metadata": {},
     "output_type": "execute_result"
    }
   ],
   "source": [
    "history_df"
   ]
  },
  {
   "cell_type": "code",
   "execution_count": 246,
   "metadata": {},
   "outputs": [
    {
     "data": {
      "text/plain": [
       "<matplotlib.text.Text at 0x1a1859d5e10>"
      ]
     },
     "execution_count": 246,
     "metadata": {},
     "output_type": "execute_result"
    },
    {
     "data": {
      "image/png": "[encoded data removed]",
      "text/plain": [
       "<matplotlib.figure.Figure at 0x1a185ca32e8>"
      ]
     },
     "metadata": {},
     "output_type": "display_data"
    }
   ],
   "source": [
    "f, ax = plt.subplots(figsize=(16, 9))\n",
    "\n",
    "history_df[['val_weighted_acc', 'weighted_acc']].plot(ax=ax)\n",
    "ax.set_ylabel(\"Accuracy\")\n",
    "ax.set_xlabel('Epochs')\n",
    "ax.set_title('Tagging Accuracy on the training and validation sets during training')\n"
   ]
  },
  {
   "cell_type": "markdown",
   "metadata": {},
   "source": [
    "Here training accuracy is evaluated with dropout applied, leading to it always being subpar to the validation accuracy which is evaluated with the full RNN.\n",
    "\n",
    "Validation accuracy is improving significantly with each step, though it starts much lower compared to the previous model."
   ]
  },
  {
   "cell_type": "code",
   "execution_count": 248,
   "metadata": {},
   "outputs": [
    {
     "name": "stdout",
     "output_type": "stream",
     "text": [
      "12543/12543 [==============================] - 133s 11ms/step\n"
     ]
    },
    {
     "data": {
      "text/plain": [
       "[0.38856157256087021, 0.87552848792119831]"
      ]
     },
     "execution_count": 248,
     "metadata": {},
     "output_type": "execute_result"
    }
   ],
   "source": [
    "model2.evaluate(X_train, Y_train, sample_weight=sample_weights_train)"
   ]
  },
  {
   "cell_type": "markdown",
   "metadata": {},
   "source": [
    "The training accuracy after 5 epochs is a little bit higher than the validation accuracy 87.5% vs. 86.2%.\n",
    "\n",
    "Anyway, let's give the model another couple of epochs and see where it gets!"
   ]
  },
  {
   "cell_type": "code",
   "execution_count": 252,
   "metadata": {
    "collapsed": true
   },
   "outputs": [],
   "source": [
    "from keras.callbacks import ModelCheckpoint, EarlyStopping"
   ]
  },
  {
   "cell_type": "code",
   "execution_count": 250,
   "metadata": {
    "collapsed": true
   },
   "outputs": [],
   "source": [
    "best_model_path = 'keras_models/gru2_best.h5'"
   ]
  },
  {
   "cell_type": "code",
   "execution_count": 255,
   "metadata": {
    "collapsed": true
   },
   "outputs": [],
   "source": [
    "checkpoint = ModelCheckpoint(best_model_path, monitor='val_weighted_acc', verbose=0, save_best_only=True, mode='max')"
   ]
  },
  {
   "cell_type": "code",
   "execution_count": 257,
   "metadata": {},
   "outputs": [
    {
     "name": "stdout",
     "output_type": "stream",
     "text": [
      "Train on 12543 samples, validate on 2002 samples\n",
      "Epoch 1/30\n",
      "12543/12543 [==============================] - 351s 28ms/step - loss: 0.5859 - weighted_acc: 0.8066 - val_loss: 0.4084 - val_weighted_acc: 0.8737\n",
      "Epoch 2/30\n",
      "12543/12543 [==============================] - 360s 29ms/step - loss: 0.5739 - weighted_acc: 0.8110 - val_loss: 0.4095 - val_weighted_acc: 0.8742\n",
      "Epoch 3/30\n",
      "12543/12543 [==============================] - 362s 29ms/step - loss: 0.5659 - weighted_acc: 0.8135 - val_loss: 0.4021 - val_weighted_acc: 0.8788\n",
      "Epoch 4/30\n",
      "12543/12543 [==============================] - 362s 29ms/step - loss: 0.5614 - weighted_acc: 0.8143 - val_loss: 0.3955 - val_weighted_acc: 0.8769\n",
      "Epoch 5/30\n",
      "12543/12543 [==============================] - 359s 29ms/step - loss: 0.5562 - weighted_acc: 0.8160 - val_loss: 0.3926 - val_weighted_acc: 0.8771\n",
      "Epoch 6/30\n",
      "12543/12543 [==============================] - 361s 29ms/step - loss: 0.5504 - weighted_acc: 0.8183 - val_loss: 0.3921 - val_weighted_acc: 0.8794\n",
      "Epoch 7/30\n",
      "12543/12543 [==============================] - 360s 29ms/step - loss: 0.5452 - weighted_acc: 0.8195 - val_loss: 0.3879 - val_weighted_acc: 0.8816\n",
      "Epoch 8/30\n",
      "12543/12543 [==============================] - 363s 29ms/step - loss: 0.5430 - weighted_acc: 0.8201 - val_loss: 0.3933 - val_weighted_acc: 0.8795\n",
      "Epoch 9/30\n",
      "12543/12543 [==============================] - 362s 29ms/step - loss: 0.5377 - weighted_acc: 0.8221 - val_loss: 0.3860 - val_weighted_acc: 0.8817\n",
      "Epoch 10/30\n",
      "12543/12543 [==============================] - 359s 29ms/step - loss: 0.5302 - weighted_acc: 0.8251 - val_loss: 0.3818 - val_weighted_acc: 0.8830\n",
      "Epoch 11/30\n",
      "12543/12543 [==============================] - 361s 29ms/step - loss: 0.5306 - weighted_acc: 0.8243 - val_loss: 0.3837 - val_weighted_acc: 0.8823\n",
      "Epoch 12/30\n",
      "12543/12543 [==============================] - 361s 29ms/step - loss: 0.5246 - weighted_acc: 0.8267 - val_loss: 0.3770 - val_weighted_acc: 0.8836\n",
      "Epoch 13/30\n",
      "12543/12543 [==============================] - 360s 29ms/step - loss: 0.5205 - weighted_acc: 0.8272 - val_loss: 0.3768 - val_weighted_acc: 0.8829\n",
      "Epoch 14/30\n",
      "12543/12543 [==============================] - 360s 29ms/step - loss: 0.5176 - weighted_acc: 0.8283 - val_loss: 0.3756 - val_weighted_acc: 0.8829\n",
      "Epoch 15/30\n",
      "12543/12543 [==============================] - 359s 29ms/step - loss: 0.5144 - weighted_acc: 0.8298 - val_loss: 0.3779 - val_weighted_acc: 0.8838\n",
      "Epoch 16/30\n",
      "12543/12543 [==============================] - 361s 29ms/step - loss: 0.5093 - weighted_acc: 0.8313 - val_loss: 0.3767 - val_weighted_acc: 0.8847\n",
      "Epoch 17/30\n",
      "12543/12543 [==============================] - 360s 29ms/step - loss: 0.5077 - weighted_acc: 0.8326 - val_loss: 0.3742 - val_weighted_acc: 0.8832\n",
      "Epoch 18/30\n",
      "12543/12543 [==============================] - 361s 29ms/step - loss: 0.5053 - weighted_acc: 0.8336 - val_loss: 0.3725 - val_weighted_acc: 0.8851\n",
      "Epoch 19/30\n",
      "12543/12543 [==============================] - 361s 29ms/step - loss: 0.5026 - weighted_acc: 0.8345 - val_loss: 0.3752 - val_weighted_acc: 0.8859\n",
      "Epoch 20/30\n",
      "12543/12543 [==============================] - 362s 29ms/step - loss: 0.4990 - weighted_acc: 0.8349 - val_loss: 0.3702 - val_weighted_acc: 0.8868\n",
      "Epoch 21/30\n",
      "12543/12543 [==============================] - 360s 29ms/step - loss: 0.4985 - weighted_acc: 0.8350 - val_loss: 0.3672 - val_weighted_acc: 0.8881\n",
      "Epoch 22/30\n",
      "12543/12543 [==============================] - 362s 29ms/step - loss: 0.4924 - weighted_acc: 0.8370 - val_loss: 0.3708 - val_weighted_acc: 0.8863\n",
      "Epoch 23/30\n",
      "12543/12543 [==============================] - 361s 29ms/step - loss: 0.4887 - weighted_acc: 0.8385 - val_loss: 0.3691 - val_weighted_acc: 0.8881\n",
      "Epoch 24/30\n",
      "12543/12543 [==============================] - 361s 29ms/step - loss: 0.4902 - weighted_acc: 0.8375 - val_loss: 0.3673 - val_weighted_acc: 0.8868\n",
      "Epoch 25/30\n",
      "12543/12543 [==============================] - 365s 29ms/step - loss: 0.4873 - weighted_acc: 0.8393 - val_loss: 0.3630 - val_weighted_acc: 0.8889\n",
      "Epoch 26/30\n",
      "12543/12543 [==============================] - 362s 29ms/step - loss: 0.4854 - weighted_acc: 0.8391 - val_loss: 0.3640 - val_weighted_acc: 0.8878\n",
      "Epoch 27/30\n",
      "12543/12543 [==============================] - 362s 29ms/step - loss: 0.4849 - weighted_acc: 0.8401 - val_loss: 0.3670 - val_weighted_acc: 0.8864\n",
      "Epoch 28/30\n",
      "12543/12543 [==============================] - 363s 29ms/step - loss: 0.4810 - weighted_acc: 0.8409 - val_loss: 0.3661 - val_weighted_acc: 0.8890\n",
      "Epoch 29/30\n",
      "12543/12543 [==============================] - 364s 29ms/step - loss: 0.4787 - weighted_acc: 0.8421 - val_loss: 0.3684 - val_weighted_acc: 0.8888\n",
      "Epoch 30/30\n",
      "12543/12543 [==============================] - 361s 29ms/step - loss: 0.4797 - weighted_acc: 0.8410 - val_loss: 0.3625 - val_weighted_acc: 0.8892\n"
     ]
    }
   ],
   "source": [
    "callback2 = model2.fit(X_train, Y_train,\n",
    "          batch_size=64,\n",
    "          epochs=30,\n",
    "          sample_weight=sample_weights_train,\n",
    "          validation_data=(X_dev, Y_dev, sample_weights_dev),\n",
    "          callbacks = [History(), checkpoint, EarlyStopping(monitor='val_weighted_acc', min_delta=0, patience=5, verbose=0, mode='auto')])"
   ]
  },
  {
   "cell_type": "code",
   "execution_count": 258,
   "metadata": {},
   "outputs": [
    {
     "name": "stdout",
     "output_type": "stream",
     "text": [
      "12543/12543 [==============================] - 111s 9ms/step\n"
     ]
    },
    {
     "data": {
      "text/plain": [
       "[0.25727052977474207, 0.91790999171456911]"
      ]
     },
     "execution_count": 258,
     "metadata": {},
     "output_type": "execute_result"
    }
   ],
   "source": [
    "model2.evaluate(X_train, Y_train, sample_weight=sample_weights_train)"
   ]
  },
  {
   "cell_type": "markdown",
   "metadata": {},
   "source": [
    "Hmm, the model is slowly improving and training accuracy is not that far ahead of validation accuracy. I feel like the model is learning way to slowsly though...\n",
    "\n",
    "Let's try a little less dropout."
   ]
  },
  {
   "cell_type": "markdown",
   "metadata": {},
   "source": [
    "## Model Three\n",
    "I will keep 50% dropout for the embeddings to not overfit specific features, but I will decrease the dropout of the GRU layer."
   ]
  },
  {
   "cell_type": "code",
   "execution_count": 259,
   "metadata": {
    "collapsed": true
   },
   "outputs": [],
   "source": [
    "model_input = Input(shape=(None,))\n",
    "x = embedding_layer(model_input)\n",
    "x = Dropout(rate=.5)(x)\n",
    "x = BatchNormalization()(x)\n",
    "x = GRU(latent_dim, return_sequences=True)(x)\n",
    "x = Dropout(rate=.2)(x)\n",
    "model_output = Dense(n_labels + 1, activation='softmax')(x)\n",
    "model3 = Model(model_input, model_output)"
   ]
  },
  {
   "cell_type": "markdown",
   "metadata": {},
   "source": [
    "I use the weighted_metrics argument instead of metrics because I don't want to include padding when calculating accuracy."
   ]
  },
  {
   "cell_type": "code",
   "execution_count": 260,
   "metadata": {
    "collapsed": true
   },
   "outputs": [],
   "source": [
    "model3.compile(optimizer='adam', loss='categorical_crossentropy', sample_weight_mode='temporal', weighted_metrics=['accuracy'])"
   ]
  },
  {
   "cell_type": "code",
   "execution_count": 261,
   "metadata": {},
   "outputs": [
    {
     "name": "stdout",
     "output_type": "stream",
     "text": [
      "Train on 12543 samples, validate on 2002 samples\n",
      "Epoch 1/5\n",
      "12543/12543 [==============================] - 357s 28ms/step - loss: 1.0899 - weighted_acc: 0.6553 - val_loss: 0.5668 - val_weighted_acc: 0.8278\n",
      "Epoch 2/5\n",
      "12543/12543 [==============================] - 367s 29ms/step - loss: 0.7164 - weighted_acc: 0.7663 - val_loss: 0.4823 - val_weighted_acc: 0.8529\n",
      "Epoch 3/5\n",
      "12543/12543 [==============================] - 383s 31ms/step - loss: 0.6302 - weighted_acc: 0.7942 - val_loss: 0.4442 - val_weighted_acc: 0.8632\n",
      "Epoch 4/5\n",
      "12543/12543 [==============================] - 367s 29ms/step - loss: 0.5806 - weighted_acc: 0.8082 - val_loss: 0.4240 - val_weighted_acc: 0.8702\n",
      "Epoch 5/5\n",
      "12543/12543 [==============================] - 394s 31ms/step - loss: 0.5543 - weighted_acc: 0.8172 - val_loss: 0.4051 - val_weighted_acc: 0.8777\n"
     ]
    }
   ],
   "source": [
    "callback = model3.fit(X_train, Y_train,\n",
    "          batch_size=64,\n",
    "          epochs=5,\n",
    "          sample_weight=sample_weights_train,\n",
    "          validation_data=(X_dev, Y_dev, sample_weights_dev),\n",
    "          callbacks = [History()])"
   ]
  },
  {
   "cell_type": "code",
   "execution_count": 262,
   "metadata": {},
   "outputs": [
    {
     "name": "stdout",
     "output_type": "stream",
     "text": [
      "12543/12543 [==============================] - 164s 13ms/step\n"
     ]
    },
    {
     "data": {
      "text/plain": [
       "[0.3338926083674929, 0.89495196775282659]"
      ]
     },
     "execution_count": 262,
     "metadata": {},
     "output_type": "execute_result"
    }
   ],
   "source": [
    "model3.evaluate(X_train, Y_train, sample_weight=sample_weights_train)"
   ]
  },
  {
   "cell_type": "markdown",
   "metadata": {},
   "source": [
    "This model is learning a little bit faster. But training time is still very long for little results. Let's see if I can improve training time by removing unecessary padding in the batches. There is no use in padding all sequences in one batch to be longer than the actual longest sequence in that batch.\n",
    "\n",
    "I will sort the sentences by length and apply padding per batch of 64. \n",
    "Maybe sorting the sentences has unknown effects on training, but let's ignore that possibility for now."
   ]
  },
  {
   "cell_type": "markdown",
   "metadata": {},
   "source": [
    "# Reduce Padding"
   ]
  },
  {
   "cell_type": "code",
   "execution_count": 393,
   "metadata": {
    "collapsed": true
   },
   "outputs": [],
   "source": [
    "Y_train = np.asarray([np.asarray([pos_tag_index[pos] for pos in sentence]) for sentence in train_labels])\n",
    "Y_dev = np.asarray([np.asarray([pos_tag_index[pos] for pos in sentence]) for sentence in dev_labels])\n",
    "Y_test = np.asarray([np.asarray([pos_tag_index[pos] for pos in sentence]) for sentence in test_labels])"
   ]
  },
  {
   "cell_type": "code",
   "execution_count": 394,
   "metadata": {
    "collapsed": true
   },
   "outputs": [],
   "source": [
    "X_train = np.asarray([np.asarray([token_index[tok if tok in token_index else \"unk\"] for tok in sentence]) for sentence in train_sentences])\n",
    "X_dev = np.asarray([np.asarray([token_index[tok if tok in token_index else \"unk\"]  for tok in sentence]) for sentence in dev_sentences])\n",
    "X_test = np.asarray([np.asarray([token_index[tok if tok in token_index else \"unk\"] for tok in sentence]) for sentence in test_sentences])"
   ]
  },
  {
   "cell_type": "code",
   "execution_count": 395,
   "metadata": {
    "collapsed": true
   },
   "outputs": [],
   "source": [
    "sorted_idx_train = np.argsort(list(map(lambda x: len(x), X_train)))\n",
    "sorted_idx_dev = np.argsort(list(map(lambda x: len(x), X_dev)))\n",
    "sorted_idx_test = np.argsort(list(map(lambda x: len(x), X_test)))"
   ]
  },
  {
   "cell_type": "code",
   "execution_count": 396,
   "metadata": {
    "collapsed": true
   },
   "outputs": [],
   "source": [
    "X_train = X_train[sorted_idx_train]\n",
    "Y_train = Y_train[sorted_idx_train]\n",
    "\n",
    "X_dev = X_dev[sorted_idx_dev]\n",
    "Y_dev = Y_dev[sorted_idx_dev]\n",
    "\n",
    "X_test = X_test[sorted_idx_test]\n",
    "Y_test = Y_test[sorted_idx_test]"
   ]
  },
  {
   "cell_type": "code",
   "execution_count": 501,
   "metadata": {
    "collapsed": true
   },
   "outputs": [],
   "source": [
    "from keras.utils import Sequence\n",
    "class ShortPaddingGenerator(Sequence):\n",
    "    def __init__(self, x_set, y_set, batch_size, return_sample_weights=True):\n",
    "        self.return_sample_weights = return_sample_weights\n",
    "        self.batch_size = batch_size\n",
    "        self.x, self.y, self.sample_weights = [], [], []\n",
    "        # Pad Data so all batches have sequences of equal length\n",
    "        for idx in range(int(np.ceil(len(x_set) / float(self.batch_size)))):\n",
    "            batch_x = x_set[idx * self.batch_size:(idx + 1) * self.batch_size]\n",
    "            batch_y = y_set[idx * self.batch_size:(idx + 1) * self.batch_size]\n",
    "            \n",
    "            # The input is sorted so the last sequence is the longest\n",
    "            max_len = len(batch_x[-1])\n",
    "            batch_x = np.array(pad_sequences(batch_x, maxlen=max_len, padding='post'))\n",
    "            batch_y = pad_sequences(batch_y, maxlen=max_len, padding='post')\n",
    "            \n",
    "            # One-hot encode labels\n",
    "            batch_y = np.array([np.array([one_hot(i, n_labels+1) for i in sentence]) for sentence in batch_y])\n",
    "            \n",
    "            self.x.append(batch_x)\n",
    "            self.y.append(batch_y)\n",
    "            self.sample_weights.append(batch_x != 0)\n",
    "            \n",
    "    def __len__(self):\n",
    "        return len(self.x)\n",
    "    def __getitem__(self, idx):\n",
    "        # Fetch the batches\n",
    "        if self.return_sample_weights:\n",
    "            return self.x[idx], self.y[idx], self.sample_weights[idx]\n",
    "        else:\n",
    "            return self.x[idx], self.y[idx]\n",
    "    \n",
    "    def set_return_sample_weights(self, flag):\n",
    "        self.return_sample_weights = flag"
   ]
  },
  {
   "cell_type": "code",
   "execution_count": 502,
   "metadata": {
    "collapsed": true
   },
   "outputs": [],
   "source": [
    "train_gen = ShortPaddingGenerator(X_train, Y_train, batch_size=64)\n",
    "dev_gen = ShortPaddingGenerator(X_dev, Y_dev, batch_size=64)\n",
    "test_gen = ShortPaddingGenerator(X_test, Y_test, batch_size=64)"
   ]
  },
  {
   "cell_type": "code",
   "execution_count": 399,
   "metadata": {
    "collapsed": true
   },
   "outputs": [],
   "source": [
    "lengths = []\n",
    "for i in  range(len(train_gen)):\n",
    "    x, _, _ = train_gen.__getitem__(i)\n",
    "    lengths.append(x.shape[1])"
   ]
  },
  {
   "cell_type": "code",
   "execution_count": 400,
   "metadata": {
    "collapsed": true
   },
   "outputs": [],
   "source": [
    "lengths = np.array(lengths)"
   ]
  },
  {
   "cell_type": "code",
   "execution_count": 401,
   "metadata": {},
   "outputs": [
    {
     "data": {
      "text/plain": [
       "16.897959183673468"
      ]
     },
     "execution_count": 401,
     "metadata": {},
     "output_type": "execute_result"
    }
   ],
   "source": [
    "lengths.mean()"
   ]
  },
  {
   "cell_type": "code",
   "execution_count": 402,
   "metadata": {},
   "outputs": [
    {
     "data": {
      "text/plain": [
       "159"
      ]
     },
     "execution_count": 402,
     "metadata": {},
     "output_type": "execute_result"
    }
   ],
   "source": [
    "lengths.max()"
   ]
  },
  {
   "cell_type": "markdown",
   "metadata": {},
   "source": [
    "Cool, mean sequence length of the training data is now 17 instead of 159."
   ]
  },
  {
   "cell_type": "markdown",
   "metadata": {},
   "source": [
    "# Model Three Again"
   ]
  },
  {
   "cell_type": "markdown",
   "metadata": {},
   "source": [
    "First re-create the embedding with unspecified input length."
   ]
  },
  {
   "cell_type": "code",
   "execution_count": 403,
   "metadata": {
    "collapsed": true
   },
   "outputs": [],
   "source": [
    "embedding_layer = Embedding(n_words,\n",
    "                            embedding_dims,\n",
    "                            weights=[embedding_matrix],\n",
    "                            trainable=False)"
   ]
  },
  {
   "cell_type": "code",
   "execution_count": 409,
   "metadata": {
    "collapsed": true
   },
   "outputs": [],
   "source": [
    "model_input = Input(shape=(None,))\n",
    "x = embedding_layer(model_input)\n",
    "x = Dropout(rate=.5)(x)\n",
    "x = BatchNormalization()(x)\n",
    "x = GRU(latent_dim, return_sequences=True)(x)\n",
    "x = Dropout(rate=.2)(x)\n",
    "model_output = Dense(n_labels + 1, activation='softmax')(x)\n",
    "model3 = Model(model_input, model_output)"
   ]
  },
  {
   "cell_type": "markdown",
   "metadata": {},
   "source": [
    "I use the weighted_metrics argument instead of metrics because I don't want to include padding when calculating accuracy."
   ]
  },
  {
   "cell_type": "code",
   "execution_count": 410,
   "metadata": {
    "collapsed": true
   },
   "outputs": [],
   "source": [
    "model3.compile(optimizer='adam', loss='categorical_crossentropy', sample_weight_mode='temporal', weighted_metrics=['accuracy'])"
   ]
  },
  {
   "cell_type": "code",
   "execution_count": 411,
   "metadata": {},
   "outputs": [
    {
     "name": "stdout",
     "output_type": "stream",
     "text": [
      "Epoch 1/5\n",
      "196/196 [==============================] - 36s 184ms/step - loss: 1.3100 - weighted_acc: 0.6079 - val_loss: 0.6966 - val_weighted_acc: 0.7989\n",
      "Epoch 2/5\n",
      "196/196 [==============================] - 34s 172ms/step - loss: 0.8791 - weighted_acc: 0.7251 - val_loss: 0.5906 - val_weighted_acc: 0.8251\n",
      "Epoch 3/5\n",
      "196/196 [==============================] - 36s 183ms/step - loss: 0.7708 - weighted_acc: 0.7548 - val_loss: 0.5390 - val_weighted_acc: 0.8366\n",
      "Epoch 4/5\n",
      "196/196 [==============================] - 37s 186ms/step - loss: 0.6952 - weighted_acc: 0.7763 - val_loss: 0.5019 - val_weighted_acc: 0.8435\n",
      "Epoch 5/5\n",
      "196/196 [==============================] - 36s 186ms/step - loss: 0.6452 - weighted_acc: 0.7911 - val_loss: 0.4707 - val_weighted_acc: 0.8571\n"
     ]
    }
   ],
   "source": [
    "callback = model3.fit_generator(train_gen,\n",
    "          epochs=5,\n",
    "          validation_data=dev_gen,\n",
    "          callbacks = [History()])"
   ]
  },
  {
   "cell_type": "code",
   "execution_count": 414,
   "metadata": {},
   "outputs": [
    {
     "data": {
      "text/plain": [
       "[0.38717058553542094, 0.87904721677640707]"
      ]
     },
     "execution_count": 414,
     "metadata": {},
     "output_type": "execute_result"
    }
   ],
   "source": [
    "model3.evaluate_generator(train_gen)"
   ]
  },
  {
   "cell_type": "markdown",
   "metadata": {},
   "source": [
    "10x training speed! Slightly worse results though, but I can compensate with more epochs!"
   ]
  },
  {
   "cell_type": "code",
   "execution_count": 415,
   "metadata": {},
   "outputs": [
    {
     "name": "stdout",
     "output_type": "stream",
     "text": [
      "Epoch 1/50\n",
      "196/196 [==============================] - 34s 172ms/step - loss: 0.6077 - weighted_acc: 0.8041 - val_loss: 0.4565 - val_weighted_acc: 0.8619\n",
      "Epoch 2/50\n",
      "196/196 [==============================] - 38s 196ms/step - loss: 0.5833 - weighted_acc: 0.8120 - val_loss: 0.4486 - val_weighted_acc: 0.8610\n",
      "Epoch 3/50\n",
      "196/196 [==============================] - 38s 196ms/step - loss: 0.5605 - weighted_acc: 0.8186 - val_loss: 0.4444 - val_weighted_acc: 0.8625\n",
      "Epoch 4/50\n",
      "196/196 [==============================] - 39s 200ms/step - loss: 0.5493 - weighted_acc: 0.8216 - val_loss: 0.4259 - val_weighted_acc: 0.8688\n",
      "Epoch 5/50\n",
      "196/196 [==============================] - 41s 209ms/step - loss: 0.5356 - weighted_acc: 0.8274 - val_loss: 0.4435 - val_weighted_acc: 0.8664\n",
      "Epoch 6/50\n",
      "196/196 [==============================] - 42s 214ms/step - loss: 0.5252 - weighted_acc: 0.8286 - val_loss: 0.4176 - val_weighted_acc: 0.8709\n",
      "Epoch 7/50\n",
      "196/196 [==============================] - 43s 217ms/step - loss: 0.5133 - weighted_acc: 0.8327 - val_loss: 0.4051 - val_weighted_acc: 0.8792\n",
      "Epoch 8/50\n",
      "196/196 [==============================] - 44s 225ms/step - loss: 0.5084 - weighted_acc: 0.8337 - val_loss: 0.4123 - val_weighted_acc: 0.8703\n",
      "Epoch 9/50\n",
      "196/196 [==============================] - 46s 236ms/step - loss: 0.4961 - weighted_acc: 0.8378 - val_loss: 0.3990 - val_weighted_acc: 0.8793\n",
      "Epoch 10/50\n",
      "196/196 [==============================] - 48s 246ms/step - loss: 0.4949 - weighted_acc: 0.8396 - val_loss: 0.4029 - val_weighted_acc: 0.8806\n",
      "Epoch 11/50\n",
      "196/196 [==============================] - 47s 239ms/step - loss: 0.4860 - weighted_acc: 0.8397 - val_loss: 0.3976 - val_weighted_acc: 0.8825\n",
      "Epoch 12/50\n",
      "196/196 [==============================] - 45s 231ms/step - loss: 0.4818 - weighted_acc: 0.8410 - val_loss: 0.4005 - val_weighted_acc: 0.8826\n",
      "Epoch 13/50\n",
      "196/196 [==============================] - 45s 231ms/step - loss: 0.4814 - weighted_acc: 0.8419 - val_loss: 0.4011 - val_weighted_acc: 0.8749\n",
      "Epoch 14/50\n",
      "196/196 [==============================] - 45s 232ms/step - loss: 0.4733 - weighted_acc: 0.8442 - val_loss: 0.3907 - val_weighted_acc: 0.8816\n",
      "Epoch 15/50\n",
      "196/196 [==============================] - 46s 232ms/step - loss: 0.4679 - weighted_acc: 0.8471 - val_loss: 0.3931 - val_weighted_acc: 0.8801\n",
      "Epoch 16/50\n",
      "196/196 [==============================] - 46s 234ms/step - loss: 0.4677 - weighted_acc: 0.8467 - val_loss: 0.3848 - val_weighted_acc: 0.8804\n",
      "Epoch 17/50\n",
      "196/196 [==============================] - 48s 244ms/step - loss: 0.4630 - weighted_acc: 0.8478 - val_loss: 0.3865 - val_weighted_acc: 0.8805\n"
     ]
    }
   ],
   "source": [
    "callback2 = model3.fit_generator(train_gen,\n",
    "          epochs=50,\n",
    "          validation_data=dev_gen,\n",
    "          callbacks = [History(), EarlyStopping(monitor='val_weighted_acc', min_delta=0, patience=5, mode='auto')])"
   ]
  },
  {
   "cell_type": "code",
   "execution_count": 416,
   "metadata": {},
   "outputs": [
    {
     "data": {
      "text/plain": [
       "[0.25376246424655752, 0.91815803803335405]"
      ]
     },
     "execution_count": 416,
     "metadata": {},
     "output_type": "execute_result"
    }
   ],
   "source": [
    "model3.evaluate_generator(train_gen)"
   ]
  },
  {
   "cell_type": "markdown",
   "metadata": {},
   "source": [
    "Hmm, the model quickly stops improving. Let's try even lower dropout."
   ]
  },
  {
   "cell_type": "code",
   "execution_count": 567,
   "metadata": {
    "collapsed": true
   },
   "outputs": [],
   "source": [
    "mistakes = 0\n",
    "for i in  range(len(dev_gen)):\n",
    "    x, y, sw = dev_gen.__getitem__(i)\n",
    "    mistakes += ((model3.predict(x).argmax(2) != y.argmax(2)) & sw).sum()"
   ]
  },
  {
   "cell_type": "code",
   "execution_count": 568,
   "metadata": {
    "collapsed": true
   },
   "outputs": [],
   "source": [
    "instances = np.sum(list(map( lambda x: (x != 0).sum(), X_dev)))"
   ]
  },
  {
   "cell_type": "code",
   "execution_count": 569,
   "metadata": {},
   "outputs": [
    {
     "data": {
      "text/plain": [
       "0.88333996023856853"
      ]
     },
     "execution_count": 569,
     "metadata": {},
     "output_type": "execute_result"
    }
   ],
   "source": [
    "(instances -mistakes) / instances"
   ]
  },
  {
   "cell_type": "code",
   "execution_count": null,
   "metadata": {
    "collapsed": true
   },
   "outputs": [],
   "source": []
  },
  {
   "cell_type": "markdown",
   "metadata": {},
   "source": [
    "# Model Four\n",
    "Reduce dropout to 20% for the embedding layer as well. Also, use masking in the embeddings!"
   ]
  },
  {
   "cell_type": "code",
   "execution_count": 508,
   "metadata": {},
   "outputs": [
    {
     "data": {
      "text/plain": [
       "(400001, 100)"
      ]
     },
     "execution_count": 508,
     "metadata": {},
     "output_type": "execute_result"
    }
   ],
   "source": [
    "embedding_matrix.shape"
   ]
  },
  {
   "cell_type": "code",
   "execution_count": 509,
   "metadata": {},
   "outputs": [
    {
     "data": {
      "text/plain": [
       "400000"
      ]
     },
     "execution_count": 509,
     "metadata": {},
     "output_type": "execute_result"
    }
   ],
   "source": [
    "len(embeddings)"
   ]
  },
  {
   "cell_type": "code",
   "execution_count": 577,
   "metadata": {
    "collapsed": true
   },
   "outputs": [],
   "source": [
    "embedding_layer = Embedding(n_words,\n",
    "                            embedding_dims,\n",
    "                            weights=[embedding_matrix],\n",
    "                            trainable=False,\n",
    "                           mask_zero = True)"
   ]
  },
  {
   "cell_type": "code",
   "execution_count": 578,
   "metadata": {
    "collapsed": true
   },
   "outputs": [],
   "source": [
    "model_input = Input(shape=(None,))\n",
    "x = embedding_layer(model_input)\n",
    "x = Dropout(rate=.2)(x)\n",
    "x = BatchNormalization()(x)\n",
    "x = GRU(latent_dim, return_sequences=True)(x)\n",
    "x = Dropout(rate=.2)(x)\n",
    "model_output = Dense(n_labels + 1, activation='softmax')(x)\n",
    "model4 = Model(model_input, model_output)"
   ]
  },
  {
   "cell_type": "markdown",
   "metadata": {},
   "source": [
    "Now that I use mask_zero in the Embedding layer I no longer need weighted_metrics."
   ]
  },
  {
   "cell_type": "code",
   "execution_count": 580,
   "metadata": {
    "collapsed": true
   },
   "outputs": [],
   "source": [
    "model4.compile(optimizer='adam', loss='categorical_crossentropy', sample_weight_mode='temporal', metrics=['accuracy'])"
   ]
  },
  {
   "cell_type": "code",
   "execution_count": 582,
   "metadata": {},
   "outputs": [
    {
     "name": "stdout",
     "output_type": "stream",
     "text": [
      "Epoch 1/5\n",
      "196/196 [==============================] - 58s 295ms/step - loss: 1.0665 - acc: 0.6957 - val_loss: 0.5904 - val_acc: 0.8306\n",
      "Epoch 2/5\n",
      "196/196 [==============================] - 48s 245ms/step - loss: 0.6073 - acc: 0.8157 - val_loss: 0.4774 - val_acc: 0.8582\n",
      "Epoch 3/5\n",
      "196/196 [==============================] - 49s 249ms/step - loss: 0.5025 - acc: 0.8474 - val_loss: 0.4361 - val_acc: 0.8656\n",
      "Epoch 4/5\n",
      "196/196 [==============================] - 48s 243ms/step - loss: 0.4355 - acc: 0.8652 - val_loss: 0.3907 - val_acc: 0.8792\n",
      "Epoch 5/5\n",
      "196/196 [==============================] - 49s 248ms/step - loss: 0.3903 - acc: 0.8793 - val_loss: 0.3840 - val_acc: 0.8827\n"
     ]
    }
   ],
   "source": [
    "callback = model4.fit_generator(train_gen,\n",
    "          epochs=5,\n",
    "          validation_data=dev_gen,\n",
    "          callbacks = [History()])"
   ]
  },
  {
   "cell_type": "code",
   "execution_count": 590,
   "metadata": {},
   "outputs": [
    {
     "data": {
      "text/plain": [
       "[0.41647787628831207, 0.88269489509361487]"
      ]
     },
     "execution_count": 590,
     "metadata": {},
     "output_type": "execute_result"
    }
   ],
   "source": [
    "model4.evaluate_generator(dev_gen)"
   ]
  },
  {
   "cell_type": "markdown",
   "metadata": {},
   "source": [
    "The model pretty quickly climbs to 88% dev set accuracy!"
   ]
  },
  {
   "cell_type": "code",
   "execution_count": 592,
   "metadata": {},
   "outputs": [
    {
     "name": "stdout",
     "output_type": "stream",
     "text": [
      "Epoch 1/50\n",
      "196/196 [==============================] - 62s 317ms/step - loss: 0.2345 - acc: 0.9246 - val_loss: 0.3848 - val_acc: 0.8966\n",
      "Epoch 2/50\n",
      "196/196 [==============================] - 68s 346ms/step - loss: 0.2303 - acc: 0.9253 - val_loss: 0.3849 - val_acc: 0.8943\n"
     ]
    }
   ],
   "source": [
    "callback2 = model4.fit_generator(train_gen,\n",
    "          epochs=50,\n",
    "          validation_data=dev_gen,\n",
    "          callbacks = [History(), EarlyStopping(monitor='val_acc', min_delta=0, patience=1, mode='auto')])"
   ]
  },
  {
   "cell_type": "code",
   "execution_count": 599,
   "metadata": {},
   "outputs": [
    {
     "data": {
      "text/plain": [
       "[0.13354741472771395, 0.95754417615255027]"
      ]
     },
     "execution_count": 599,
     "metadata": {},
     "output_type": "execute_result"
    }
   ],
   "source": [
    "model4.evaluate_generator(train_gen)"
   ]
  },
  {
   "cell_type": "markdown",
   "metadata": {},
   "source": [
    "It quickly stagnates around 89-90% validation accuracy though, with a traing accuracy that keeps increasing. Overfitting!\n",
    "\n",
    "So, our model with higher dropout ended up underfitting the data and this model overfits. Let's try to change something else, lets go for LSTM cells instead of GRU."
   ]
  },
  {
   "cell_type": "markdown",
   "metadata": {},
   "source": [
    "# Model Five"
   ]
  },
  {
   "cell_type": "code",
   "execution_count": 831,
   "metadata": {
    "collapsed": true
   },
   "outputs": [],
   "source": [
    "from keras.layers import LSTM"
   ]
  },
  {
   "cell_type": "code",
   "execution_count": 848,
   "metadata": {},
   "outputs": [],
   "source": [
    "model_input = Input(shape=(None,))\n",
    "x = embedding_layer(model_input)\n",
    "x = Dropout(rate=.5)(x)\n",
    "x = BatchNormalization()(x)\n",
    "x = LSTM(latent_dim, return_sequences=True)(x)\n",
    "x = Dropout(rate=.2)(x)\n",
    "model_output = Dense(n_labels + 1, activation='softmax')(x)\n",
    "model5 = Model(model_input, model_output)"
   ]
  },
  {
   "cell_type": "markdown",
   "metadata": {},
   "source": [
    "Now that we use `mask_zero` we no longer need sample weights."
   ]
  },
  {
   "cell_type": "code",
   "execution_count": 849,
   "metadata": {
    "collapsed": true
   },
   "outputs": [],
   "source": [
    "model5.compile(optimizer='adam', loss='categorical_crossentropy', metrics=['accuracy'])"
   ]
  },
  {
   "cell_type": "code",
   "execution_count": 850,
   "metadata": {
    "collapsed": true
   },
   "outputs": [],
   "source": [
    "train_gen.set_return_sample_weights(False)\n",
    "dev_gen.set_return_sample_weights(False)"
   ]
  },
  {
   "cell_type": "code",
   "execution_count": 851,
   "metadata": {},
   "outputs": [
    {
     "name": "stdout",
     "output_type": "stream",
     "text": [
      "Epoch 1/50\n",
      "196/196 [==============================] - 84s 431ms/step - loss: 1.4165 - acc: 0.5899 - val_loss: 0.7189 - val_acc: 0.7993\n",
      "Epoch 2/50\n",
      "196/196 [==============================] - 82s 419ms/step - loss: 0.8519 - acc: 0.7343 - val_loss: 0.5680 - val_acc: 0.8321\n",
      "Epoch 3/50\n",
      "196/196 [==============================] - 86s 438ms/step - loss: 0.7164 - acc: 0.7739 - val_loss: 0.5066 - val_acc: 0.8476\n",
      "Epoch 4/50\n",
      "196/196 [==============================] - 87s 441ms/step - loss: 0.6337 - acc: 0.7968 - val_loss: 0.4542 - val_acc: 0.8610\n",
      "Epoch 5/50\n",
      "196/196 [==============================] - 93s 474ms/step - loss: 0.5852 - acc: 0.8113 - val_loss: 0.4308 - val_acc: 0.8648\n",
      "Epoch 6/50\n",
      "196/196 [==============================] - 84s 427ms/step - loss: 0.5496 - acc: 0.8222 - val_loss: 0.4131 - val_acc: 0.8705\n",
      "Epoch 7/50\n",
      "196/196 [==============================] - 81s 415ms/step - loss: 0.5232 - acc: 0.8305 - val_loss: 0.3962 - val_acc: 0.8723\n",
      "Epoch 8/50\n",
      "196/196 [==============================] - 82s 419ms/step - loss: 0.5023 - acc: 0.8377 - val_loss: 0.3824 - val_acc: 0.8783\n",
      "Epoch 9/50\n",
      "196/196 [==============================] - 82s 416ms/step - loss: 0.4886 - acc: 0.8402 - val_loss: 0.3819 - val_acc: 0.8805\n",
      "Epoch 10/50\n",
      "196/196 [==============================] - 92s 472ms/step - loss: 0.4777 - acc: 0.8436 - val_loss: 0.3739 - val_acc: 0.8848\n",
      "Epoch 11/50\n",
      "196/196 [==============================] - 80s 409ms/step - loss: 0.4612 - acc: 0.8495 - val_loss: 0.3803 - val_acc: 0.8840\n"
     ]
    }
   ],
   "source": [
    "callback = model5.fit_generator(train_gen,\n",
    "          epochs=50,\n",
    "          validation_data=dev_gen,\n",
    "          callbacks = [History(), EarlyStopping(monitor='val_acc', min_delta=0, patience=1, mode='auto')])"
   ]
  },
  {
   "cell_type": "code",
   "execution_count": 852,
   "metadata": {},
   "outputs": [
    {
     "data": {
      "text/plain": [
       "[0.2731159959722913, 0.91332545114040642]"
      ]
     },
     "execution_count": 852,
     "metadata": {},
     "output_type": "execute_result"
    }
   ],
   "source": [
    "model5.evaluate_generator(train_gen)"
   ]
  },
  {
   "cell_type": "markdown",
   "metadata": {},
   "source": [
    "This model also quickly stops improving, and never reaches past 88.5% dev set accuracy."
   ]
  },
  {
   "cell_type": "markdown",
   "metadata": {},
   "source": [
    "# Model Six, Bidirectional LSTM\n",
    "Let's try the BLSTM architecture used by [Wang et al., 2015](https://arxiv.org/pdf/1510.06168.pdf), originally from [Graves, 2002](https://www.cs.toronto.edu/~graves/preprint.pdf):\n",
    "Two LSTM layers with 93 hidden units, one doing a forward pass of the input and the other a backward pass. \n",
    "\n",
    "Graves used no regularization except early stopping, input noise and weight noise.\n",
    "I will also use some dropout and batchnormalization."
   ]
  },
  {
   "cell_type": "code",
   "execution_count": 863,
   "metadata": {
    "collapsed": true
   },
   "outputs": [],
   "source": [
    "from keras.layers import Bidirectional"
   ]
  },
  {
   "cell_type": "code",
   "execution_count": 868,
   "metadata": {},
   "outputs": [],
   "source": [
    "model_input = Input(shape=(None,))\n",
    "x = embedding_layer(model_input)\n",
    "x = Dropout(rate=.5)(x)\n",
    "x = BatchNormalization()(x)\n",
    "x = Bidirectional(LSTM(93, return_sequences=True), merge_mode='concat')(x)\n",
    "x = Dropout(rate=.2)(x)\n",
    "model_output = Dense(n_labels + 1, activation='softmax')(x)\n",
    "model6 = Model(model_input, model_output)"
   ]
  },
  {
   "cell_type": "code",
   "execution_count": 869,
   "metadata": {
    "collapsed": true
   },
   "outputs": [],
   "source": [
    "model6.compile(optimizer='adam', loss='categorical_crossentropy', metrics=['accuracy'])"
   ]
  },
  {
   "cell_type": "code",
   "execution_count": 870,
   "metadata": {},
   "outputs": [
    {
     "name": "stdout",
     "output_type": "stream",
     "text": [
      "Epoch 1/50\n",
      "196/196 [==============================] - 55s 281ms/step - loss: 1.5010 - acc: 0.5629 - val_loss: 0.6992 - val_acc: 0.7947\n",
      "Epoch 2/50\n",
      "196/196 [==============================] - 44s 225ms/step - loss: 0.8124 - acc: 0.7489 - val_loss: 0.5509 - val_acc: 0.8316\n",
      "Epoch 3/50\n",
      "196/196 [==============================] - 43s 222ms/step - loss: 0.6797 - acc: 0.7865 - val_loss: 0.4835 - val_acc: 0.8496\n",
      "Epoch 4/50\n",
      "196/196 [==============================] - 44s 223ms/step - loss: 0.6059 - acc: 0.8072 - val_loss: 0.4379 - val_acc: 0.8634\n",
      "Epoch 5/50\n",
      "196/196 [==============================] - 45s 229ms/step - loss: 0.5586 - acc: 0.8209 - val_loss: 0.4205 - val_acc: 0.8679\n",
      "Epoch 6/50\n",
      "196/196 [==============================] - 45s 231ms/step - loss: 0.5157 - acc: 0.8360 - val_loss: 0.3989 - val_acc: 0.8738\n",
      "Epoch 7/50\n",
      "196/196 [==============================] - 46s 233ms/step - loss: 0.4956 - acc: 0.8406 - val_loss: 0.3863 - val_acc: 0.8794\n",
      "Epoch 8/50\n",
      "196/196 [==============================] - 45s 230ms/step - loss: 0.4750 - acc: 0.8458 - val_loss: 0.3673 - val_acc: 0.8861\n",
      "Epoch 9/50\n",
      "196/196 [==============================] - 44s 224ms/step - loss: 0.4555 - acc: 0.8525 - val_loss: 0.3595 - val_acc: 0.8891\n",
      "Epoch 10/50\n",
      "196/196 [==============================] - 44s 225ms/step - loss: 0.4417 - acc: 0.8564 - val_loss: 0.3666 - val_acc: 0.8840\n"
     ]
    }
   ],
   "source": [
    "callback = model6.fit_generator(train_gen,\n",
    "          epochs=50,\n",
    "          validation_data=dev_gen,\n",
    "          callbacks = [History(), EarlyStopping(monitor='val_acc', min_delta=0, patience=1, mode='auto')])"
   ]
  },
  {
   "cell_type": "code",
   "execution_count": 871,
   "metadata": {},
   "outputs": [
    {
     "data": {
      "text/plain": [
       "[0.25492338224251115, 0.91910281682579009]"
      ]
     },
     "execution_count": 871,
     "metadata": {},
     "output_type": "execute_result"
    }
   ],
   "source": [
    "model6.evaluate_generator(train_gen)"
   ]
  },
  {
   "cell_type": "code",
   "execution_count": 872,
   "metadata": {},
   "outputs": [
    {
     "name": "stdout",
     "output_type": "stream",
     "text": [
      "Epoch 1/50\n",
      "196/196 [==============================] - 32s 165ms/step - loss: 0.4289 - acc: 0.8602 - val_loss: 0.3469 - val_acc: 0.8894\n",
      "Epoch 2/50\n",
      "196/196 [==============================] - 31s 161ms/step - loss: 0.4233 - acc: 0.8629 - val_loss: 0.3436 - val_acc: 0.8911\n",
      "Epoch 3/50\n",
      "196/196 [==============================] - 31s 160ms/step - loss: 0.4132 - acc: 0.8650 - val_loss: 0.3405 - val_acc: 0.8954\n",
      "Epoch 4/50\n",
      "196/196 [==============================] - 31s 159ms/step - loss: 0.4067 - acc: 0.8666 - val_loss: 0.3353 - val_acc: 0.8966\n",
      "Epoch 5/50\n",
      "196/196 [==============================] - 32s 163ms/step - loss: 0.3994 - acc: 0.8695 - val_loss: 0.3325 - val_acc: 0.8988\n",
      "Epoch 6/50\n",
      "196/196 [==============================] - 33s 167ms/step - loss: 0.3925 - acc: 0.8721 - val_loss: 0.3330 - val_acc: 0.8943\n",
      "Epoch 7/50\n",
      "196/196 [==============================] - 31s 161ms/step - loss: 0.3871 - acc: 0.8726 - val_loss: 0.3289 - val_acc: 0.8964\n",
      "Epoch 8/50\n",
      "196/196 [==============================] - 32s 161ms/step - loss: 0.3817 - acc: 0.8747 - val_loss: 0.3219 - val_acc: 0.8972\n"
     ]
    }
   ],
   "source": [
    "callback = model6.fit_generator(train_gen,\n",
    "          epochs=50,\n",
    "          validation_data=dev_gen,\n",
    "          callbacks = [History(), EarlyStopping(monitor='val_acc', min_delta=0, patience=3, mode='auto')])"
   ]
  },
  {
   "cell_type": "code",
   "execution_count": 873,
   "metadata": {},
   "outputs": [
    {
     "data": {
      "text/plain": [
       "[0.2039173866305769, 0.93562637685180272]"
      ]
     },
     "execution_count": 873,
     "metadata": {},
     "output_type": "execute_result"
    }
   ],
   "source": [
    "model6.evaluate_generator(train_gen)"
   ]
  },
  {
   "cell_type": "markdown",
   "metadata": {},
   "source": [
    "Still overfitting... Anyway, let's see if we can push validation accuracy a bit higher with more training."
   ]
  },
  {
   "cell_type": "code",
   "execution_count": 874,
   "metadata": {},
   "outputs": [
    {
     "name": "stdout",
     "output_type": "stream",
     "text": [
      "Epoch 1/50\n",
      "196/196 [==============================] - 31s 160ms/step - loss: 0.3780 - acc: 0.8764 - val_loss: 0.3227 - val_acc: 0.9035\n",
      "Epoch 2/50\n",
      "196/196 [==============================] - 31s 160ms/step - loss: 0.3718 - acc: 0.8794 - val_loss: 0.3276 - val_acc: 0.8971\n",
      "Epoch 3/50\n",
      "196/196 [==============================] - 33s 167ms/step - loss: 0.3709 - acc: 0.8783 - val_loss: 0.3240 - val_acc: 0.8987\n",
      "Epoch 4/50\n",
      "196/196 [==============================] - 36s 184ms/step - loss: 0.3621 - acc: 0.8817 - val_loss: 0.3237 - val_acc: 0.8992\n",
      "Epoch 5/50\n",
      "196/196 [==============================] - 37s 189ms/step - loss: 0.3633 - acc: 0.8795 - val_loss: 0.3153 - val_acc: 0.9021\n",
      "Epoch 6/50\n",
      "196/196 [==============================] - 39s 201ms/step - loss: 0.3583 - acc: 0.8831 - val_loss: 0.3186 - val_acc: 0.9005\n"
     ]
    }
   ],
   "source": [
    "callback = model6.fit_generator(train_gen,\n",
    "          epochs=50,\n",
    "          validation_data=dev_gen,\n",
    "          callbacks = [History(), EarlyStopping(monitor='val_acc', min_delta=0, patience=5, mode='auto')])"
   ]
  },
  {
   "cell_type": "code",
   "execution_count": 875,
   "metadata": {},
   "outputs": [
    {
     "data": {
      "text/plain": [
       "[0.18992041873131643, 0.94025394896670966]"
      ]
     },
     "execution_count": 875,
     "metadata": {},
     "output_type": "execute_result"
    }
   ],
   "source": [
    "model6.evaluate_generator(train_gen)"
   ]
  },
  {
   "cell_type": "markdown",
   "metadata": {},
   "source": [
    "Validation accuracy is now lagging by 4% units compared to the training accuracy. I either need more regularization or fewer  hidden nodes. I think truning up dropout is a good approach."
   ]
  },
  {
   "cell_type": "markdown",
   "metadata": {},
   "source": [
    "# Model Seven"
   ]
  },
  {
   "cell_type": "code",
   "execution_count": 876,
   "metadata": {
    "collapsed": true
   },
   "outputs": [],
   "source": [
    "model_input = Input(shape=(None,))\n",
    "x = embedding_layer(model_input)\n",
    "x = Dropout(rate=.5)(x)\n",
    "x = BatchNormalization()(x)\n",
    "x = Bidirectional(LSTM(93, return_sequences=True), merge_mode='concat')(x)\n",
    "x = Dropout(rate=.5)(x)\n",
    "model_output = Dense(n_labels + 1, activation='softmax')(x)\n",
    "model7 = Model(model_input, model_output)"
   ]
  },
  {
   "cell_type": "code",
   "execution_count": 877,
   "metadata": {
    "collapsed": true
   },
   "outputs": [],
   "source": [
    "model7.compile(optimizer='adam', loss='categorical_crossentropy', metrics=['accuracy'])"
   ]
  },
  {
   "cell_type": "code",
   "execution_count": 878,
   "metadata": {},
   "outputs": [
    {
     "name": "stdout",
     "output_type": "stream",
     "text": [
      "Epoch 1/50\n",
      "196/196 [==============================] - 53s 269ms/step - loss: 1.6010 - acc: 0.5255 - val_loss: 0.7375 - val_acc: 0.7786\n",
      "Epoch 2/50\n",
      "196/196 [==============================] - 45s 232ms/step - loss: 0.9241 - acc: 0.7133 - val_loss: 0.5936 - val_acc: 0.8189\n",
      "Epoch 3/50\n",
      "196/196 [==============================] - 47s 240ms/step - loss: 0.7833 - acc: 0.7544 - val_loss: 0.5194 - val_acc: 0.8393\n",
      "Epoch 4/50\n",
      "196/196 [==============================] - 46s 235ms/step - loss: 0.7140 - acc: 0.7747 - val_loss: 0.4878 - val_acc: 0.8501\n",
      "Epoch 5/50\n",
      "196/196 [==============================] - 45s 230ms/step - loss: 0.6636 - acc: 0.7891 - val_loss: 0.4547 - val_acc: 0.8567\n",
      "Epoch 6/50\n",
      "196/196 [==============================] - 47s 240ms/step - loss: 0.6296 - acc: 0.7998 - val_loss: 0.4414 - val_acc: 0.8628\n",
      "Epoch 7/50\n",
      "196/196 [==============================] - 48s 245ms/step - loss: 0.5997 - acc: 0.8071 - val_loss: 0.4232 - val_acc: 0.8679\n",
      "Epoch 8/50\n",
      "196/196 [==============================] - 47s 242ms/step - loss: 0.5815 - acc: 0.8134 - val_loss: 0.4069 - val_acc: 0.8715\n",
      "Epoch 9/50\n",
      "196/196 [==============================] - 45s 231ms/step - loss: 0.5659 - acc: 0.8171 - val_loss: 0.4011 - val_acc: 0.8756\n",
      "Epoch 10/50\n",
      "196/196 [==============================] - 45s 227ms/step - loss: 0.5500 - acc: 0.8214 - val_loss: 0.3876 - val_acc: 0.8803\n",
      "Epoch 11/50\n",
      "196/196 [==============================] - 46s 234ms/step - loss: 0.5421 - acc: 0.8256 - val_loss: 0.3804 - val_acc: 0.8825\n",
      "Epoch 12/50\n",
      "196/196 [==============================] - 46s 233ms/step - loss: 0.5296 - acc: 0.8271 - val_loss: 0.3714 - val_acc: 0.8865\n",
      "Epoch 13/50\n",
      "196/196 [==============================] - 46s 233ms/step - loss: 0.5226 - acc: 0.8302 - val_loss: 0.3704 - val_acc: 0.8881\n",
      "Epoch 14/50\n",
      "196/196 [==============================] - 46s 233ms/step - loss: 0.5138 - acc: 0.8329 - val_loss: 0.3717 - val_acc: 0.8878\n"
     ]
    }
   ],
   "source": [
    "callback = model7.fit_generator(train_gen,\n",
    "          epochs=50,\n",
    "          validation_data=dev_gen,\n",
    "          callbacks = [History(), EarlyStopping(monitor='val_acc', min_delta=0, patience=1, mode='auto')])"
   ]
  },
  {
   "cell_type": "code",
   "execution_count": 879,
   "metadata": {},
   "outputs": [
    {
     "data": {
      "text/plain": [
       "[0.27408962487404609, 0.91330931672903182]"
      ]
     },
     "execution_count": 879,
     "metadata": {},
     "output_type": "execute_result"
    }
   ],
   "source": [
    "model7.evaluate_generator(train_gen)"
   ]
  },
  {
   "cell_type": "markdown",
   "metadata": {},
   "source": [
    "Train accuracy is about 1.3% units ahead. Let's give the model some more time."
   ]
  },
  {
   "cell_type": "code",
   "execution_count": 880,
   "metadata": {},
   "outputs": [
    {
     "name": "stdout",
     "output_type": "stream",
     "text": [
      "Epoch 1/50\n",
      "196/196 [==============================] - 45s 227ms/step - loss: 0.5094 - acc: 0.8341 - val_loss: 0.3602 - val_acc: 0.8903\n",
      "Epoch 2/50\n",
      "196/196 [==============================] - 46s 236ms/step - loss: 0.5015 - acc: 0.8371 - val_loss: 0.3611 - val_acc: 0.8907\n",
      "Epoch 3/50\n",
      "196/196 [==============================] - 45s 232ms/step - loss: 0.4953 - acc: 0.8386 - val_loss: 0.3560 - val_acc: 0.8949\n",
      "Epoch 4/50\n",
      "196/196 [==============================] - 46s 235ms/step - loss: 0.4895 - acc: 0.8408 - val_loss: 0.3517 - val_acc: 0.8928\n",
      "Epoch 5/50\n",
      "196/196 [==============================] - 46s 232ms/step - loss: 0.4855 - acc: 0.8413 - val_loss: 0.3582 - val_acc: 0.8927\n",
      "Epoch 6/50\n",
      "196/196 [==============================] - 45s 232ms/step - loss: 0.4808 - acc: 0.8426 - val_loss: 0.3455 - val_acc: 0.8958\n",
      "Epoch 7/50\n",
      "196/196 [==============================] - 45s 231ms/step - loss: 0.4756 - acc: 0.8448 - val_loss: 0.3425 - val_acc: 0.8960\n",
      "Epoch 8/50\n",
      "196/196 [==============================] - 46s 235ms/step - loss: 0.4746 - acc: 0.8453 - val_loss: 0.3424 - val_acc: 0.8962\n",
      "Epoch 9/50\n",
      "196/196 [==============================] - 46s 232ms/step - loss: 0.4703 - acc: 0.8464 - val_loss: 0.3366 - val_acc: 0.8963\n",
      "Epoch 10/50\n",
      "196/196 [==============================] - 48s 243ms/step - loss: 0.4656 - acc: 0.8475 - val_loss: 0.3426 - val_acc: 0.8951\n",
      "Epoch 11/50\n",
      "196/196 [==============================] - 49s 249ms/step - loss: 0.4635 - acc: 0.8472 - val_loss: 0.3428 - val_acc: 0.8957\n",
      "Epoch 12/50\n",
      "196/196 [==============================] - 45s 231ms/step - loss: 0.4630 - acc: 0.8506 - val_loss: 0.3440 - val_acc: 0.8924\n",
      "Epoch 13/50\n",
      "196/196 [==============================] - 47s 240ms/step - loss: 0.4581 - acc: 0.8507 - val_loss: 0.3376 - val_acc: 0.8970\n",
      "Epoch 14/50\n",
      "196/196 [==============================] - 45s 231ms/step - loss: 0.4593 - acc: 0.8496 - val_loss: 0.3404 - val_acc: 0.8928\n",
      "Epoch 15/50\n",
      "196/196 [==============================] - 45s 230ms/step - loss: 0.4544 - acc: 0.8498 - val_loss: 0.3312 - val_acc: 0.8984\n",
      "Epoch 16/50\n",
      "196/196 [==============================] - 45s 231ms/step - loss: 0.4526 - acc: 0.8523 - val_loss: 0.3343 - val_acc: 0.8996\n",
      "Epoch 17/50\n",
      "196/196 [==============================] - 47s 241ms/step - loss: 0.4493 - acc: 0.8524 - val_loss: 0.3323 - val_acc: 0.8991\n",
      "Epoch 18/50\n",
      "196/196 [==============================] - 46s 234ms/step - loss: 0.4503 - acc: 0.8530 - val_loss: 0.3292 - val_acc: 0.8959\n",
      "Epoch 19/50\n",
      "196/196 [==============================] - 45s 231ms/step - loss: 0.4475 - acc: 0.8551 - val_loss: 0.3251 - val_acc: 0.9016\n",
      "Epoch 20/50\n",
      "196/196 [==============================] - 45s 230ms/step - loss: 0.4451 - acc: 0.8532 - val_loss: 0.3302 - val_acc: 0.8979\n",
      "Epoch 21/50\n",
      "196/196 [==============================] - 46s 232ms/step - loss: 0.4410 - acc: 0.8549 - val_loss: 0.3287 - val_acc: 0.9002\n",
      "Epoch 22/50\n",
      "196/196 [==============================] - 44s 227ms/step - loss: 0.4415 - acc: 0.8562 - val_loss: 0.3237 - val_acc: 0.9007\n",
      "Epoch 23/50\n",
      "196/196 [==============================] - 45s 231ms/step - loss: 0.4415 - acc: 0.8564 - val_loss: 0.3288 - val_acc: 0.8952\n",
      "Epoch 24/50\n",
      "196/196 [==============================] - 46s 237ms/step - loss: 0.4357 - acc: 0.8567 - val_loss: 0.3329 - val_acc: 0.8968\n"
     ]
    }
   ],
   "source": [
    "callback = model7.fit_generator(train_gen,\n",
    "          epochs=50,\n",
    "          validation_data=dev_gen,\n",
    "          callbacks = [History(), EarlyStopping(monitor='val_acc', min_delta=0, patience=5, mode='auto')])"
   ]
  },
  {
   "cell_type": "code",
   "execution_count": 887,
   "metadata": {},
   "outputs": [
    {
     "data": {
      "text/plain": [
       "[0.21661268590569241, 0.93231694311804059]"
      ]
     },
     "execution_count": 887,
     "metadata": {},
     "output_type": "execute_result"
    }
   ],
   "source": [
    "model7.evaluate_generator(train_gen)"
   ]
  },
  {
   "cell_type": "code",
   "execution_count": 881,
   "metadata": {
    "collapsed": true
   },
   "outputs": [],
   "source": [
    "model7.save('keras_models/bstlm.h5')"
   ]
  },
  {
   "cell_type": "markdown",
   "metadata": {},
   "source": [
    "The model achieves 90% dev set accuracy and 93% training accuracy. So it's not overfitting that badly! Maybe it could be allowed some more complexity and some more training time.\n",
    "\n",
    "Regardless, I have now tried many similar RNN approaches without surpassing my previous best model which achieved 93% dev set accuracy. My previous model was a DNN with somewhat different features:\n",
    "* It used word2vec embeddings of the two adjacent words and the word it self\n",
    "* It used an appriori probabilit estimate for each POS tag based on the training set\n",
    "\n",
    "The RNN should arguably be better of than the DNN when it comes to information about its surroundings. It has access to all previous words in the case of the ordinary RNN and all other words in case of the bidirectional RNN. I don't know how switching word2vec for Glove affected the model though.\n",
    "\n",
    "Missing out on the appriori estimates might actually be a big deal though.\n",
    "\n",
    "Well, let's evaulate the model and see what it gets right and what it struggles with."
   ]
  },
  {
   "cell_type": "markdown",
   "metadata": {},
   "source": [
    "# Model Evaluation\n",
    "Let's have a look at what tokens we are getting wrong."
   ]
  },
  {
   "cell_type": "code",
   "execution_count": 882,
   "metadata": {
    "collapsed": true
   },
   "outputs": [],
   "source": [
    "from sklearn.metrics import confusion_matrix\n",
    "from sklearn.metrics import accuracy_score"
   ]
  },
  {
   "cell_type": "markdown",
   "metadata": {},
   "source": [
    "First, let's verify that our predictions actually get us the accuracy reported by evaluate."
   ]
  },
  {
   "cell_type": "code",
   "execution_count": 904,
   "metadata": {},
   "outputs": [],
   "source": [
    "predictions = []\n",
    "labels = []\n",
    "inputs = []\n",
    "batch_size = 64\n",
    "batches = int(np.ceil(len(X_dev)/batch_size))\n",
    "\n",
    "for i in range(batches):\n",
    "    batch_x = X_dev[i*batch_size:(i+1)*batch_size]\n",
    "    batch_y = Y_dev[i*batch_size:(i+1)*batch_size]\n",
    "    batch_x = pad_sequences(batch_x, padding='post')\n",
    "    batch_y = pad_sequences(batch_y, padding='post')\n",
    "    \n",
    "    predictions.append(model7.predict(batch_x).argmax(2).flatten())\n",
    "    labels.append(batch_y.flatten())\n",
    "    inputs.append(batch_x.flatten())\n",
    "                    "
   ]
  },
  {
   "cell_type": "code",
   "execution_count": 905,
   "metadata": {},
   "outputs": [],
   "source": [
    "predictions = np.concatenate(predictions)\n",
    "labels = np.concatenate(labels)\n",
    "inputs = np.concatenate(inputs)"
   ]
  },
  {
   "cell_type": "code",
   "execution_count": 906,
   "metadata": {},
   "outputs": [
    {
     "data": {
      "text/plain": [
       "0.90644135188866803"
      ]
     },
     "execution_count": 906,
     "metadata": {},
     "output_type": "execute_result"
    }
   ],
   "source": [
    "accuracy_score(predictions, labels, sample_weight= labels != 0)"
   ]
  },
  {
   "cell_type": "code",
   "execution_count": 907,
   "metadata": {},
   "outputs": [],
   "source": [
    "df = pd.DataFrame(confusion_matrix(predictions, labels, sample_weight=labels != 0), columns = ['pad']+pos_tags, index=['pad']+pos_tags)"
   ]
  },
  {
   "cell_type": "code",
   "execution_count": 908,
   "metadata": {},
   "outputs": [
    {
     "data": {
      "text/html": [
       "<div>\n",
       "<style>\n",
       "    .dataframe thead tr:only-child th {\n",
       "        text-align: right;\n",
       "    }\n",
       "\n",
       "    .dataframe thead th {\n",
       "        text-align: left;\n",
       "    }\n",
       "\n",
       "    .dataframe tbody tr th {\n",
       "        vertical-align: top;\n",
       "    }\n",
       "</style>\n",
       "<table border=\"1\" class=\"dataframe\">\n",
       "  <thead>\n",
       "    <tr style=\"text-align: right;\">\n",
       "      <th></th>\n",
       "      <th>pad</th>\n",
       "      <th>PRON</th>\n",
       "      <th>X</th>\n",
       "      <th>ADJ</th>\n",
       "      <th>NOUN</th>\n",
       "      <th>DET</th>\n",
       "      <th>CCONJ</th>\n",
       "      <th>PART</th>\n",
       "      <th>ADV</th>\n",
       "      <th>INTJ</th>\n",
       "      <th>PROPN</th>\n",
       "      <th>SYM</th>\n",
       "      <th>PUNCT</th>\n",
       "      <th>VERB</th>\n",
       "      <th>SCONJ</th>\n",
       "      <th>NUM</th>\n",
       "      <th>ADP</th>\n",
       "      <th>AUX</th>\n",
       "    </tr>\n",
       "  </thead>\n",
       "  <tbody>\n",
       "    <tr>\n",
       "      <th>pad</th>\n",
       "      <td>0</td>\n",
       "      <td>0</td>\n",
       "      <td>0</td>\n",
       "      <td>0</td>\n",
       "      <td>0</td>\n",
       "      <td>0</td>\n",
       "      <td>0</td>\n",
       "      <td>0</td>\n",
       "      <td>0</td>\n",
       "      <td>0</td>\n",
       "      <td>0</td>\n",
       "      <td>0</td>\n",
       "      <td>0</td>\n",
       "      <td>0</td>\n",
       "      <td>0</td>\n",
       "      <td>0</td>\n",
       "      <td>0</td>\n",
       "      <td>0</td>\n",
       "    </tr>\n",
       "    <tr>\n",
       "      <th>PRON</th>\n",
       "      <td>0</td>\n",
       "      <td>2174</td>\n",
       "      <td>1</td>\n",
       "      <td>7</td>\n",
       "      <td>5</td>\n",
       "      <td>20</td>\n",
       "      <td>0</td>\n",
       "      <td>0</td>\n",
       "      <td>9</td>\n",
       "      <td>3</td>\n",
       "      <td>7</td>\n",
       "      <td>0</td>\n",
       "      <td>0</td>\n",
       "      <td>1</td>\n",
       "      <td>7</td>\n",
       "      <td>1</td>\n",
       "      <td>0</td>\n",
       "      <td>0</td>\n",
       "    </tr>\n",
       "    <tr>\n",
       "      <th>X</th>\n",
       "      <td>0</td>\n",
       "      <td>0</td>\n",
       "      <td>71</td>\n",
       "      <td>2</td>\n",
       "      <td>9</td>\n",
       "      <td>0</td>\n",
       "      <td>0</td>\n",
       "      <td>0</td>\n",
       "      <td>0</td>\n",
       "      <td>2</td>\n",
       "      <td>54</td>\n",
       "      <td>7</td>\n",
       "      <td>7</td>\n",
       "      <td>0</td>\n",
       "      <td>0</td>\n",
       "      <td>4</td>\n",
       "      <td>2</td>\n",
       "      <td>0</td>\n",
       "    </tr>\n",
       "    <tr>\n",
       "      <th>ADJ</th>\n",
       "      <td>0</td>\n",
       "      <td>0</td>\n",
       "      <td>3</td>\n",
       "      <td>1503</td>\n",
       "      <td>120</td>\n",
       "      <td>0</td>\n",
       "      <td>0</td>\n",
       "      <td>0</td>\n",
       "      <td>47</td>\n",
       "      <td>0</td>\n",
       "      <td>100</td>\n",
       "      <td>0</td>\n",
       "      <td>0</td>\n",
       "      <td>55</td>\n",
       "      <td>0</td>\n",
       "      <td>0</td>\n",
       "      <td>0</td>\n",
       "      <td>0</td>\n",
       "    </tr>\n",
       "    <tr>\n",
       "      <th>NOUN</th>\n",
       "      <td>0</td>\n",
       "      <td>2</td>\n",
       "      <td>24</td>\n",
       "      <td>118</td>\n",
       "      <td>3825</td>\n",
       "      <td>1</td>\n",
       "      <td>2</td>\n",
       "      <td>0</td>\n",
       "      <td>28</td>\n",
       "      <td>5</td>\n",
       "      <td>418</td>\n",
       "      <td>5</td>\n",
       "      <td>2</td>\n",
       "      <td>97</td>\n",
       "      <td>2</td>\n",
       "      <td>10</td>\n",
       "      <td>3</td>\n",
       "      <td>0</td>\n",
       "    </tr>\n",
       "    <tr>\n",
       "      <th>DET</th>\n",
       "      <td>0</td>\n",
       "      <td>12</td>\n",
       "      <td>7</td>\n",
       "      <td>10</td>\n",
       "      <td>5</td>\n",
       "      <td>1864</td>\n",
       "      <td>4</td>\n",
       "      <td>0</td>\n",
       "      <td>24</td>\n",
       "      <td>4</td>\n",
       "      <td>1</td>\n",
       "      <td>2</td>\n",
       "      <td>0</td>\n",
       "      <td>1</td>\n",
       "      <td>1</td>\n",
       "      <td>0</td>\n",
       "      <td>1</td>\n",
       "      <td>0</td>\n",
       "    </tr>\n",
       "    <tr>\n",
       "      <th>CCONJ</th>\n",
       "      <td>0</td>\n",
       "      <td>0</td>\n",
       "      <td>0</td>\n",
       "      <td>0</td>\n",
       "      <td>0</td>\n",
       "      <td>3</td>\n",
       "      <td>759</td>\n",
       "      <td>0</td>\n",
       "      <td>0</td>\n",
       "      <td>0</td>\n",
       "      <td>0</td>\n",
       "      <td>1</td>\n",
       "      <td>0</td>\n",
       "      <td>0</td>\n",
       "      <td>0</td>\n",
       "      <td>0</td>\n",
       "      <td>2</td>\n",
       "      <td>0</td>\n",
       "    </tr>\n",
       "    <tr>\n",
       "      <th>PART</th>\n",
       "      <td>0</td>\n",
       "      <td>3</td>\n",
       "      <td>0</td>\n",
       "      <td>0</td>\n",
       "      <td>0</td>\n",
       "      <td>0</td>\n",
       "      <td>1</td>\n",
       "      <td>616</td>\n",
       "      <td>14</td>\n",
       "      <td>0</td>\n",
       "      <td>0</td>\n",
       "      <td>0</td>\n",
       "      <td>0</td>\n",
       "      <td>0</td>\n",
       "      <td>5</td>\n",
       "      <td>0</td>\n",
       "      <td>18</td>\n",
       "      <td>4</td>\n",
       "    </tr>\n",
       "    <tr>\n",
       "      <th>ADV</th>\n",
       "      <td>0</td>\n",
       "      <td>0</td>\n",
       "      <td>1</td>\n",
       "      <td>53</td>\n",
       "      <td>29</td>\n",
       "      <td>0</td>\n",
       "      <td>5</td>\n",
       "      <td>1</td>\n",
       "      <td>1009</td>\n",
       "      <td>5</td>\n",
       "      <td>1</td>\n",
       "      <td>0</td>\n",
       "      <td>0</td>\n",
       "      <td>21</td>\n",
       "      <td>9</td>\n",
       "      <td>0</td>\n",
       "      <td>20</td>\n",
       "      <td>1</td>\n",
       "    </tr>\n",
       "    <tr>\n",
       "      <th>INTJ</th>\n",
       "      <td>0</td>\n",
       "      <td>1</td>\n",
       "      <td>0</td>\n",
       "      <td>3</td>\n",
       "      <td>3</td>\n",
       "      <td>0</td>\n",
       "      <td>0</td>\n",
       "      <td>0</td>\n",
       "      <td>0</td>\n",
       "      <td>74</td>\n",
       "      <td>1</td>\n",
       "      <td>0</td>\n",
       "      <td>0</td>\n",
       "      <td>2</td>\n",
       "      <td>0</td>\n",
       "      <td>0</td>\n",
       "      <td>0</td>\n",
       "      <td>0</td>\n",
       "    </tr>\n",
       "    <tr>\n",
       "      <th>PROPN</th>\n",
       "      <td>0</td>\n",
       "      <td>1</td>\n",
       "      <td>18</td>\n",
       "      <td>12</td>\n",
       "      <td>66</td>\n",
       "      <td>1</td>\n",
       "      <td>1</td>\n",
       "      <td>0</td>\n",
       "      <td>5</td>\n",
       "      <td>7</td>\n",
       "      <td>1232</td>\n",
       "      <td>2</td>\n",
       "      <td>1</td>\n",
       "      <td>13</td>\n",
       "      <td>1</td>\n",
       "      <td>3</td>\n",
       "      <td>2</td>\n",
       "      <td>2</td>\n",
       "    </tr>\n",
       "    <tr>\n",
       "      <th>SYM</th>\n",
       "      <td>0</td>\n",
       "      <td>0</td>\n",
       "      <td>0</td>\n",
       "      <td>0</td>\n",
       "      <td>2</td>\n",
       "      <td>0</td>\n",
       "      <td>0</td>\n",
       "      <td>0</td>\n",
       "      <td>0</td>\n",
       "      <td>0</td>\n",
       "      <td>0</td>\n",
       "      <td>29</td>\n",
       "      <td>0</td>\n",
       "      <td>0</td>\n",
       "      <td>0</td>\n",
       "      <td>0</td>\n",
       "      <td>0</td>\n",
       "      <td>0</td>\n",
       "    </tr>\n",
       "    <tr>\n",
       "      <th>PUNCT</th>\n",
       "      <td>0</td>\n",
       "      <td>3</td>\n",
       "      <td>9</td>\n",
       "      <td>1</td>\n",
       "      <td>9</td>\n",
       "      <td>0</td>\n",
       "      <td>0</td>\n",
       "      <td>2</td>\n",
       "      <td>1</td>\n",
       "      <td>5</td>\n",
       "      <td>3</td>\n",
       "      <td>18</td>\n",
       "      <td>3069</td>\n",
       "      <td>1</td>\n",
       "      <td>0</td>\n",
       "      <td>0</td>\n",
       "      <td>1</td>\n",
       "      <td>0</td>\n",
       "    </tr>\n",
       "    <tr>\n",
       "      <th>VERB</th>\n",
       "      <td>0</td>\n",
       "      <td>2</td>\n",
       "      <td>2</td>\n",
       "      <td>69</td>\n",
       "      <td>83</td>\n",
       "      <td>1</td>\n",
       "      <td>3</td>\n",
       "      <td>1</td>\n",
       "      <td>22</td>\n",
       "      <td>5</td>\n",
       "      <td>37</td>\n",
       "      <td>0</td>\n",
       "      <td>0</td>\n",
       "      <td>2459</td>\n",
       "      <td>3</td>\n",
       "      <td>1</td>\n",
       "      <td>5</td>\n",
       "      <td>17</td>\n",
       "    </tr>\n",
       "    <tr>\n",
       "      <th>SCONJ</th>\n",
       "      <td>0</td>\n",
       "      <td>18</td>\n",
       "      <td>0</td>\n",
       "      <td>1</td>\n",
       "      <td>1</td>\n",
       "      <td>3</td>\n",
       "      <td>2</td>\n",
       "      <td>0</td>\n",
       "      <td>8</td>\n",
       "      <td>1</td>\n",
       "      <td>0</td>\n",
       "      <td>0</td>\n",
       "      <td>0</td>\n",
       "      <td>0</td>\n",
       "      <td>316</td>\n",
       "      <td>0</td>\n",
       "      <td>15</td>\n",
       "      <td>0</td>\n",
       "    </tr>\n",
       "    <tr>\n",
       "      <th>NUM</th>\n",
       "      <td>0</td>\n",
       "      <td>1</td>\n",
       "      <td>13</td>\n",
       "      <td>3</td>\n",
       "      <td>31</td>\n",
       "      <td>1</td>\n",
       "      <td>1</td>\n",
       "      <td>0</td>\n",
       "      <td>2</td>\n",
       "      <td>0</td>\n",
       "      <td>14</td>\n",
       "      <td>5</td>\n",
       "      <td>4</td>\n",
       "      <td>2</td>\n",
       "      <td>0</td>\n",
       "      <td>359</td>\n",
       "      <td>0</td>\n",
       "      <td>0</td>\n",
       "    </tr>\n",
       "    <tr>\n",
       "      <th>ADP</th>\n",
       "      <td>0</td>\n",
       "      <td>0</td>\n",
       "      <td>5</td>\n",
       "      <td>6</td>\n",
       "      <td>6</td>\n",
       "      <td>0</td>\n",
       "      <td>2</td>\n",
       "      <td>7</td>\n",
       "      <td>93</td>\n",
       "      <td>4</td>\n",
       "      <td>7</td>\n",
       "      <td>1</td>\n",
       "      <td>0</td>\n",
       "      <td>10</td>\n",
       "      <td>59</td>\n",
       "      <td>0</td>\n",
       "      <td>1952</td>\n",
       "      <td>0</td>\n",
       "    </tr>\n",
       "    <tr>\n",
       "      <th>AUX</th>\n",
       "      <td>0</td>\n",
       "      <td>1</td>\n",
       "      <td>1</td>\n",
       "      <td>0</td>\n",
       "      <td>3</td>\n",
       "      <td>0</td>\n",
       "      <td>0</td>\n",
       "      <td>3</td>\n",
       "      <td>4</td>\n",
       "      <td>0</td>\n",
       "      <td>2</td>\n",
       "      <td>0</td>\n",
       "      <td>0</td>\n",
       "      <td>103</td>\n",
       "      <td>0</td>\n",
       "      <td>0</td>\n",
       "      <td>0</td>\n",
       "      <td>1486</td>\n",
       "    </tr>\n",
       "  </tbody>\n",
       "</table>\n",
       "</div>"
      ],
      "text/plain": [
       "       pad  PRON   X   ADJ  NOUN   DET  CCONJ  PART   ADV  INTJ  PROPN  SYM  \\\n",
       "pad      0     0   0     0     0     0      0     0     0     0      0    0   \n",
       "PRON     0  2174   1     7     5    20      0     0     9     3      7    0   \n",
       "X        0     0  71     2     9     0      0     0     0     2     54    7   \n",
       "ADJ      0     0   3  1503   120     0      0     0    47     0    100    0   \n",
       "NOUN     0     2  24   118  3825     1      2     0    28     5    418    5   \n",
       "DET      0    12   7    10     5  1864      4     0    24     4      1    2   \n",
       "CCONJ    0     0   0     0     0     3    759     0     0     0      0    1   \n",
       "PART     0     3   0     0     0     0      1   616    14     0      0    0   \n",
       "ADV      0     0   1    53    29     0      5     1  1009     5      1    0   \n",
       "INTJ     0     1   0     3     3     0      0     0     0    74      1    0   \n",
       "PROPN    0     1  18    12    66     1      1     0     5     7   1232    2   \n",
       "SYM      0     0   0     0     2     0      0     0     0     0      0   29   \n",
       "PUNCT    0     3   9     1     9     0      0     2     1     5      3   18   \n",
       "VERB     0     2   2    69    83     1      3     1    22     5     37    0   \n",
       "SCONJ    0    18   0     1     1     3      2     0     8     1      0    0   \n",
       "NUM      0     1  13     3    31     1      1     0     2     0     14    5   \n",
       "ADP      0     0   5     6     6     0      2     7    93     4      7    1   \n",
       "AUX      0     1   1     0     3     0      0     3     4     0      2    0   \n",
       "\n",
       "       PUNCT  VERB  SCONJ  NUM   ADP   AUX  \n",
       "pad        0     0      0    0     0     0  \n",
       "PRON       0     1      7    1     0     0  \n",
       "X          7     0      0    4     2     0  \n",
       "ADJ        0    55      0    0     0     0  \n",
       "NOUN       2    97      2   10     3     0  \n",
       "DET        0     1      1    0     1     0  \n",
       "CCONJ      0     0      0    0     2     0  \n",
       "PART       0     0      5    0    18     4  \n",
       "ADV        0    21      9    0    20     1  \n",
       "INTJ       0     2      0    0     0     0  \n",
       "PROPN      1    13      1    3     2     2  \n",
       "SYM        0     0      0    0     0     0  \n",
       "PUNCT   3069     1      0    0     1     0  \n",
       "VERB       0  2459      3    1     5    17  \n",
       "SCONJ      0     0    316    0    15     0  \n",
       "NUM        4     2      0  359     0     0  \n",
       "ADP        0    10     59    0  1952     0  \n",
       "AUX        0   103      0    0     0  1486  "
      ]
     },
     "execution_count": 908,
     "metadata": {},
     "output_type": "execute_result"
    }
   ],
   "source": [
    "df"
   ]
  },
  {
   "cell_type": "markdown",
   "metadata": {},
   "source": [
    "The most common error is classifying Nouns as Proper Nouns. I wonder what the hardest tokens were? Maybe UNK?"
   ]
  },
  {
   "cell_type": "code",
   "execution_count": 914,
   "metadata": {
    "collapsed": true
   },
   "outputs": [],
   "source": [
    "unk_idx = np.argwhere(inputs == token_index['unk']).flatten()"
   ]
  },
  {
   "cell_type": "code",
   "execution_count": 920,
   "metadata": {},
   "outputs": [
    {
     "name": "stdout",
     "output_type": "stream",
     "text": [
      "374 unknown tokens\n"
     ]
    }
   ],
   "source": [
    "print(\"{} unknown tokens\".format(len(unk_idx)))"
   ]
  },
  {
   "cell_type": "code",
   "execution_count": 918,
   "metadata": {},
   "outputs": [
    {
     "data": {
      "text/plain": [
       "0.54545454545454541"
      ]
     },
     "execution_count": 918,
     "metadata": {},
     "output_type": "execute_result"
    }
   ],
   "source": [
    "accuracy_score(predictions[unk_idx], labels[unk_idx])"
   ]
  },
  {
   "cell_type": "markdown",
   "metadata": {},
   "source": [
    "54% accuracy on the 374 unkown tokens. Much worse than for the global group, but still not that bad! \n",
    "Also, it's definitely not enough to pull the accuracy down to 90%."
   ]
  },
  {
   "cell_type": "markdown",
   "metadata": {},
   "source": [
    "# Summary\n",
    "I have tried many similar RNN models for POS-tagging, and ended up with 90% validation accuracy on the UD EWT corpus. \n",
    "This is worse compared to my previous best model, but a big step up from by previous attempts with RNN.\n",
    "\n",
    "I experimented with some preprocessing to reduce the number of out of vocabulary words.\n",
    "\n",
    "**What I have learned**\n",
    "* Handling padding in a more effective way during training and evaluation.\n",
    "    * Using sample_weights\n",
    "    * Using mask_zero in the Embedding layer\n",
    "    * Building variable size batches\n",
    "* Using pre trained word embeddings as part of my Keras model, instead of using it as pre-processing"
   ]
  }
 ],
 "metadata": {
  "kernelspec": {
   "display_name": "Python 3",
   "language": "python",
   "name": "python3"
  },
  "language_info": {
   "codemirror_mode": {
    "name": "ipython",
    "version": 3
   },
   "file_extension": ".py",
   "mimetype": "text/x-python",
   "name": "python",
   "nbconvert_exporter": "python",
   "pygments_lexer": "ipython3",
   "version": "3.6.2"
  }
 },
 "nbformat": 4,
 "nbformat_minor": 2
}
